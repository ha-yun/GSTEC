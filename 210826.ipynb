{
  "nbformat": 4,
  "nbformat_minor": 0,
  "metadata": {
    "colab": {
      "name": "210826.ipynb",
      "provenance": [],
      "collapsed_sections": [],
      "authorship_tag": "ABX9TyMgx77RkD0qRH9AXrKJQpAa",
      "include_colab_link": true
    },
    "kernelspec": {
      "name": "python3",
      "display_name": "Python 3"
    },
    "language_info": {
      "name": "python"
    }
  },
  "cells": [
    {
      "cell_type": "markdown",
      "metadata": {
        "id": "view-in-github",
        "colab_type": "text"
      },
      "source": [
        "<a href=\"https://colab.research.google.com/github/ha-yun/GSTEC/blob/main/210826.ipynb\" target=\"_parent\"><img src=\"https://colab.research.google.com/assets/colab-badge.svg\" alt=\"Open In Colab\"/></a>"
      ]
    },
    {
      "cell_type": "markdown",
      "metadata": {
        "id": "VnN4nQ0izBLH"
      },
      "source": [
        "django message framework  \n",
        "https://docs.djangoproject.com/en/3.2/ref/contrib/messages/"
      ]
    },
    {
      "cell_type": "markdown",
      "metadata": {
        "id": "AsXeHG6y_aJs"
      },
      "source": [
        "DB Transaction  \n",
        "transaction : wrap multiple interaction into one  \n",
        "transaction화 시키려면 장고에서 지원하는 데코레이터를 사용해야 한다.."
      ]
    },
    {
      "cell_type": "code",
      "metadata": {
        "id": "g6SFomYyxUJW"
      },
      "source": [
        "# likeapp/views.py\n",
        "        like_record = LikeRecord.objects.filter(user=user,\n",
        "                                                article=article)\n",
        "        if like_record.exists():\n",
        "            # 좋아요가 반영 X\n",
        "            messages.add_message(request, messages.ERROR, '좋아요는 한번만 가능합니다.')\n",
        "            return HttpResponseRedirect(reverse('articleapp:detail',\n",
        "                                                kwargs={'pk': kwargs['article_pk']}))\n",
        "        else:\n",
        "            LikeRecord(user=user, article=article).save()\n",
        "        article.like += 1\n",
        "        article.save()\n",
        "        # 좋아요가 반영 O\n",
        "        messages.add_message(request, messages.SUCCESS, '좋아요가 반영되었습니다.')\n",
        "        return super().get(request, *args, **kwargs)"
      ],
      "execution_count": null,
      "outputs": []
    },
    {
      "cell_type": "code",
      "metadata": {
        "id": "glMtLlODFpj8"
      },
      "source": [
        "# templates/base.html\n",
        "{% for message in messages %}\n",
        "    <div class=\"text-center\">\n",
        "        <div class=\"btn btn-success rounded-pill px-5\">\n",
        "            {{ message }}\n",
        "        </div>\n",
        "    </div>\n",
        "{% endfor %}\n"
      ],
      "execution_count": null,
      "outputs": []
    },
    {
      "cell_type": "code",
      "metadata": {
        "id": "7URTgdCaFt3s"
      },
      "source": [
        "# gisweb_1/settings.py\n",
        "from django.contrib.messages import constants as messages\n",
        "\n",
        "MESSAGE_TAGS = {\n",
        "    messages.ERROR: 'danger',\n",
        "}\n"
      ],
      "execution_count": null,
      "outputs": []
    },
    {
      "cell_type": "code",
      "metadata": {
        "id": "x5wtGQ1fFwNj"
      },
      "source": [
        "# templates/base.html\n",
        "        <div class=\"btn btn-{{ message.tags }} rounded-pill px-5\">\n",
        "            {{ message }}\n",
        "        </div>"
      ],
      "execution_count": null,
      "outputs": []
    },
    {
      "cell_type": "code",
      "metadata": {
        "id": "6Ue9Is1mF0ys"
      },
      "source": [
        "# likeapp/views.py\n",
        "@transaction.atomic\n",
        "def db_transaction(user, article):\n",
        "    article.like += 1\n",
        "    article.save()\n",
        "    \n",
        "    like_record = LikeRecord.objects.filter(user=user, article=article)\n",
        "    if like_record.exists():\n",
        "        raise ValidationError('Like already_exists')\n",
        "    else:\n",
        "        LikeRecord(user=user, article=article).save()\n",
        "\n",
        "\n",
        "@method_decorator(login_required, 'get')\n",
        "class LikeArticleView(RedirectView):\n",
        "    def get(self, request, *args, **kwargs):\n",
        "        user = request.user\n",
        "        article = Article.objects.get(pk=kwargs['article_pk'])\n",
        "\n",
        "        try:\n",
        "            db_transaction(user, article)\n",
        "            # 좋아요 반영 o\n",
        "            messages.add_message(request, messages.SUCCESS, '좋아요!!')\n",
        "        except ValidationError:\n",
        "            # 좋아요 반영 x\n",
        "            messages.add_message(request, messages.ERROR, '좋아요는 한번만 눌러주세요!')\n",
        "        return super().get(request, *args, **kwargs)\n",
        "\n",
        "    def  get_redirect_url(self, *args, **kwargs):\n",
        "        return reverse('articleapp:detail', kwargs={'pk':kwargs['article_pk']})"
      ],
      "execution_count": null,
      "outputs": []
    },
    {
      "cell_type": "markdown",
      "metadata": {
        "id": "u35cQWk9GeWb"
      },
      "source": [
        "WYSIWYG : What You See Is What You Get  \n",
        "https://yabwe.github.io/medium-editor/"
      ]
    },
    {
      "cell_type": "code",
      "metadata": {
        "id": "nqPour_lPvCy"
      },
      "source": [
        "# articleapp/forms.py\n",
        "class ArticleCreationForm(ModelForm):\n",
        "    content = forms.CharField(widget=forms.Textarea(attrs={'class' : 'editable',\n",
        "                                                           'style' : 'text-align: left;'\n",
        "                                                                     'min-height: 10rem;'}))"
      ],
      "execution_count": null,
      "outputs": []
    },
    {
      "cell_type": "code",
      "metadata": {
        "id": "n-Y3CRCVP1sL"
      },
      "source": [
        "# articleapp/templates/articleapp/create.html\n",
        "    <script src=\"//cdn.jsdelivr.net/npm/medium-editor@latest/dist/js/medium-editor.min.js\"></script>\n",
        "    <link rel=\"stylesheet\" href=\"//cdn.jsdelivr.net/npm/medium-editor@latest/dist/css/medium-editor.min.css\" type=\"text/css\" media=\"screen\" charset=\"utf-8\">\n",
        "\n",
        "    <script>var editor = new MediumEditor('.editable');</script>\n",
        "\n",
        "\n",
        "# articleapp/templates/articleapp/detail.html\n",
        "                {{ target_article.content | safe}}"
      ],
      "execution_count": null,
      "outputs": []
    },
    {
      "cell_type": "markdown",
      "metadata": {
        "id": "r9jri6rPNqBk"
      },
      "source": [
        "# 2. 알고리즘  \n",
        "#### 백준 1920"
      ]
    },
    {
      "cell_type": "code",
      "metadata": {
        "id": "ffEGdMhDNr0x",
        "colab": {
          "base_uri": "https://localhost:8080/"
        },
        "outputId": "205d0c2a-489d-4184-cef9-9a32d2ea73da"
      },
      "source": [
        "# 시간초과\n",
        "N = int(input())\n",
        "N_list = list(input().split())\n",
        "M = int(input())\n",
        "M_list = list(input().split())\n",
        "\n",
        "for i in M_list:\n",
        "  try:\n",
        "    N_list.index(i)\n",
        "    print(1)\n",
        "  except: print(0)"
      ],
      "execution_count": null,
      "outputs": [
        {
          "output_type": "stream",
          "name": "stdout",
          "text": [
            "5\n",
            "4 1 5 2 3\n",
            "5\n",
            "1 3 7 9 5\n",
            "1\n",
            "1\n",
            "0\n",
            "0\n",
            "1\n"
          ]
        }
      ]
    },
    {
      "cell_type": "code",
      "metadata": {
        "id": "G4bHPs6aCxfG"
      },
      "source": [
        "# 시간초과\n",
        "N = int(input())\n",
        "N_list = list(input().split())\n",
        "M = int(input())\n",
        "M_list = list(input().split())\n",
        "\n",
        "for i in M_list:\n",
        "  if i in N_list:\n",
        "    print(1)\n",
        "  else:\n",
        "    print(0)"
      ],
      "execution_count": null,
      "outputs": []
    },
    {
      "cell_type": "code",
      "metadata": {
        "colab": {
          "base_uri": "https://localhost:8080/"
        },
        "id": "jLSfpTtDHILq",
        "outputId": "5254d976-485a-4d4a-d636-8435fa51a845"
      },
      "source": [
        "N = int(input())\n",
        "N_list = list(input().split())\n",
        "M = int(input())\n",
        "M_list = list(input().split())\n",
        "N_list.sort()\n",
        "\n",
        "def b_search(target,n_list):\n",
        "  start_idx = 0\n",
        "  end_idx = len(n_list)-1\n",
        "  while start_idx <= end_idx:\n",
        "      mid_idx = (start_idx + end_idx)//2\n",
        "\n",
        "      if n_list[mid_idx] > target:\n",
        "          end_idx = mid_idx - 1\n",
        "      elif n_list[mid_idx] < target:\n",
        "          start_idx = mid_idx + 1\n",
        "      else:\n",
        "          return mid_idx\n",
        "\n",
        "  return -1\n",
        "\n",
        "for m in M_list:\n",
        "  if b_search(m, N_list)>=0:\n",
        "    print(1)\n",
        "  else:\n",
        "    print(0)"
      ],
      "execution_count": null,
      "outputs": [
        {
          "output_type": "stream",
          "name": "stdout",
          "text": [
            "5\n",
            "4 1 5 2 3\n",
            "5\n",
            "1 3 7 9 5\n",
            "1\n",
            "1\n",
            "0\n",
            "0\n",
            "1\n"
          ]
        }
      ]
    }
  ]
}