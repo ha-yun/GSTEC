{
  "nbformat": 4,
  "nbformat_minor": 0,
  "metadata": {
    "colab": {
      "name": "210729.ipynb",
      "provenance": [],
      "collapsed_sections": [],
      "authorship_tag": "ABX9TyPCmeMaZ6ZNhcCLLYPhx/Pr",
      "include_colab_link": true
    },
    "kernelspec": {
      "name": "python3",
      "display_name": "Python 3"
    },
    "language_info": {
      "name": "python"
    }
  },
  "cells": [
    {
      "cell_type": "markdown",
      "metadata": {
        "id": "view-in-github",
        "colab_type": "text"
      },
      "source": [
        "<a href=\"https://colab.research.google.com/github/yun-aha/GSTEC/blob/main/210729.ipynb\" target=\"_parent\"><img src=\"https://colab.research.google.com/assets/colab-badge.svg\" alt=\"Open In Colab\"/></a>"
      ]
    },
    {
      "cell_type": "markdown",
      "metadata": {
        "id": "ykGTHYjPlrV3"
      },
      "source": [
        "# 1. 웹 어플리케이션"
      ]
    },
    {
      "cell_type": "markdown",
      "metadata": {
        "id": "xD3lzXInllL3"
      },
      "source": [
        "detail창의 edit버튼을 로그인 당사자가 아닌 다른 사람이 들어가지 못하도록 if문 사용"
      ]
    },
    {
      "cell_type": "code",
      "metadata": {
        "id": "pQ-bkzizksT5"
      },
      "source": [
        "                    {% if target_user == user%}\n",
        "                    <a href=\"{% url 'profileapp:update' pk=target_user.profile.pk %}\">\n",
        "                        edit\n",
        "                    </a>\n",
        "                    {% endif %}"
      ],
      "execution_count": null,
      "outputs": []
    },
    {
      "cell_type": "markdown",
      "metadata": {
        "id": "hOOkIIjKkveh"
      },
      "source": [
        "프로필업데이트뷰에서 successurl을 디테일 창으로 넘어가게 하려면 해당 유저의 디테일 창으로 가게 해야 하고, 이를 위해서는 동적url이기 때문에 따로 함수를 만들어준다.  \n",
        "- 프로필크리에이트뷰도 넣어준다.\n"
      ]
    },
    {
      "cell_type": "code",
      "metadata": {
        "id": "9bVFaWppkvge"
      },
      "source": [
        "    def get_success_url(self):\n",
        "        return reverse('accountapp:detail', kwargs={'pk':self.object.user.pk})   # self.object는 target.profile과 같다.\n",
        "        # kwargs 안에는 dict가 들어감\n",
        "\n",
        "# accountapp의 view.py\n",
        "class AccountUpdateView(UpdateView):\n",
        "    model = User\n",
        "    form_class = AccountCreationForm\n",
        "    context_object_name = 'target_user'\n",
        "    success_url = reverse_lazy('accountapp:hello_world')\n",
        "    template_name = 'accountapp/update.html'\n",
        "\n",
        "    def get_success_url(self):\n",
        "        return reverse('accountapp:detail',kwargs={'pk':self.object.pk})    # self.object는 target_user이다!\n"
      ],
      "execution_count": null,
      "outputs": []
    },
    {
      "cell_type": "markdown",
      "metadata": {
        "id": "CuEbu0Sfn21m"
      },
      "source": [
        "reverse는 함수형 view에서 사용, reverselazy 구분\n"
      ]
    },
    {
      "cell_type": "markdown",
      "metadata": {
        "id": "hACxw79FkviX"
      },
      "source": [
        "로그아웃하고 디테일창에 들어갈 수 없도록 하기 위해 decorator 사용해주기  \n",
        "메소드 변환해주는게 메소드 데코레이터\n",
        "변환할 데코레이터를 넣어준다."
      ]
    },
    {
      "cell_type": "code",
      "metadata": {
        "id": "gqXsbaifkvkP"
      },
      "source": [
        "# profileapp / decorators.py\n",
        "def profile_ownership_required(func):\n",
        "    def decorated(request, *args, **kwargs):\n",
        "        target_profile = Profile.objects.get(pk=kwargs['pk'])\n",
        "        if target_profile.user == request.user:\n",
        "            return func(request, *args, **kwargs)\n",
        "        else:\n",
        "            return HttpResponseForbidden()\n",
        "\n",
        "# profileapp/views.py\n",
        "@method_decorator(login_required, 'get')\n",
        "@method_decorator(login_required, 'post')\n",
        "class ProfileCreateView(CreateView):\n",
        "\n",
        "\n",
        "@method_decorator(profile_ownership_required,'get')\n",
        "@method_decorator(profile_ownership_required,'post')\n",
        "class ProfileUpdateView(UpdateView):\n"
      ],
      "execution_count": null,
      "outputs": []
    },
    {
      "cell_type": "markdown",
      "metadata": {
        "id": "bVcwuNHku_kc"
      },
      "source": [
        "https://fonts.google.com/icons  \n",
        "아이콘이 필요할 땐 구글!"
      ]
    },
    {
      "cell_type": "code",
      "metadata": {
        "id": "8HJCbokbvCBP"
      },
      "source": [
        "# gsweb/templates/head.html   \n",
        "   \n",
        "    {# MATERIAL ICONS lINK #}\n",
        "    <link href=\"https://fonts.googleapis.com/css2?family=Material+Icons\"\n",
        "      rel=\"stylesheet\">\n",
        "     \n",
        "\n",
        "# gsweb\\accountapp\\templates\\accountapp\\detail.html\n",
        "                    <a href=\"{% url 'profileapp:update' pk=target_user.profile.pk %}\" \n",
        "                    class=\"material-icons round_button\">      # material-icons 는 구글아이콘 사용하는 방법\n",
        "                        edit                # round-button은 디자인을 위한 class지정\n",
        "                    </a>"
      ],
      "execution_count": null,
      "outputs": []
    },
    {
      "cell_type": "code",
      "metadata": {
        "id": "rnogSRSoxEVN"
      },
      "source": [
        "#  gsweb/static/base.css\n",
        ".round_button{\n",
        "    color: cornflowerblue;\n",
        "    text-decoration: none;\n",
        "    box-shadow: 0 0 3px darkslateblue;\n",
        "    border-radius: 10rem;\n",
        "    padding: .3rem;\n",
        "}\n",
        ".round_button:hover{        # hover는 마우스를 올려놨을 때\n",
        "    color: red;\n",
        "}"
      ],
      "execution_count": null,
      "outputs": []
    },
    {
      "cell_type": "code",
      "metadata": {
        "id": "DqSmmtRi0W6j"
      },
      "source": [
        "# gsweb\\accountapp\\templates\\accountapp\\detail.html\n",
        "        <div>\n",
        "        <a href=\"{% url 'accountapp:update'  pk=target_user.pk %}\"\n",
        "        class=\"material-icons round_button mx-2\">\n",
        "            settings    # google icon에서 가져오려면 이름을 구글 아이콘에 있는 걸로 바꿔주면 바뀐다!\n",
        "        </a>\n",
        "        \n",
        "        <a href=\"{% url 'accountapp:delete' pk=target_user.pk %}\"\n",
        "        class=\"material-icons round_button mx-2\">\n",
        "            close\n",
        "        </a>\n",
        "    </div>\n",
        "\n",
        "# div층을 합쳐준다. 한라인에 보이도록,\n",
        "# class에 mx-2는 부트스트랩의 마진으로 x축으로 2를 의미"
      ],
      "execution_count": null,
      "outputs": []
    },
    {
      "cell_type": "markdown",
      "metadata": {
        "id": "Ln7cI7-y4rSc"
      },
      "source": [
        "magic grid https://jsfiddle.net/eolaojo/4pov0rdf/"
      ]
    },
    {
      "cell_type": "code",
      "metadata": {
        "id": "uOXyKR4_0Wq0"
      },
      "source": [
        "app_name = 'articleapp'\n",
        "\n",
        "urlpatterns = [\n",
        "    path('list/', TemplateView.as_view(template_name='articleapp/list.html'), name='list'),\n",
        "\n",
        "]\n",
        "# TemplateView\n",
        "\n",
        "# gsweb\\articleapp\\templates\\articleapp\\list.html\n",
        "{% extends 'base.html' %}\n",
        "\n",
        "{% block content %}\n",
        "\n",
        "    <style>     # magic grid의 css파일을 넣어주기! style사용\n",
        "        .container div {\n",
        "          width: 280px;\n",
        "          height: 500px;\n",
        "          background-color: antiquewhite;\n",
        "          display: flex;\n",
        "          justify-content: center;\n",
        "          align-items: center;\n",
        "          border-radius: 8px;\n",
        "        }\n",
        "\n",
        "    .container .item1 { height: 200px; }\n",
        "    .container .item4 { height: 800px; }\n",
        "    .container .item6 { height: 600px; }\n",
        "    .container .item11 { height: 400px; }\n",
        "    </style>\n",
        "\n",
        "\n",
        "    <!DOCTYPE html>       # 매직그리드에서 가져오기\n",
        "<div class=\"container\">\n",
        "  <div class=\"item1\">1</div>\n",
        "  <div class=\"item2\">2</div>\n",
        "  <div class=\"item3\">3</div>\n",
        "  <div class=\"item4\">4</div>\n",
        "  <div class=\"item5\">5</div>\n",
        "  <div class=\"item6\">6</div>\n",
        "  <div class=\"item7\">7</div>\n",
        "  <div class=\"item8\">8</div>\n",
        "  <div class=\"item9\">9</div>\n",
        "  <div class=\"item10\">10</div>\n",
        "  <div class=\"item11\">11</div>\n",
        "  <div class=\"item12\">12</div>\n",
        "  <div class=\"item13\">13</div>\n",
        "</div>\n",
        "\n",
        "{% endblock %}"
      ],
      "execution_count": null,
      "outputs": []
    },
    {
      "cell_type": "markdown",
      "metadata": {
        "id": "qboUhpr5A5tp"
      },
      "source": [
        "# 2. 알고리즘"
      ]
    },
    {
      "cell_type": "markdown",
      "metadata": {
        "id": "kYC1pChfA7Ql"
      },
      "source": [
        "# 3.딥러닝"
      ]
    },
    {
      "cell_type": "markdown",
      "metadata": {
        "id": "q9WH7RjL0H3K"
      },
      "source": [
        "#### 다중분류"
      ]
    },
    {
      "cell_type": "code",
      "metadata": {
        "id": "kHJGgty_A7S_"
      },
      "source": [
        "import numpy as np\n",
        "import pandas as pd\n",
        "import matplotlib.pyplot as plt\n",
        "import seaborn as sns\n",
        "import tensorflow as tf\n",
        "\n",
        "red = pd.read_csv('/content/winequality-red.csv', sep = ';')\n",
        "white = pd.read_csv('/content/winequality-white.csv', sep = ';')"
      ],
      "execution_count": null,
      "outputs": []
    },
    {
      "cell_type": "code",
      "metadata": {
        "id": "mfJ8M9FvA7VN"
      },
      "source": [
        "red['type']   = 0\n",
        "white['type'] = 1\n",
        "wine = pd.concat([red, white])\n"
      ],
      "execution_count": null,
      "outputs": []
    },
    {
      "cell_type": "code",
      "metadata": {
        "colab": {
          "base_uri": "https://localhost:8080/"
        },
        "id": "2FBbxYFd0feO",
        "outputId": "8bd45ad9-7c9d-4c77-a593-df560c242670"
      },
      "source": [
        "print(wine['quality'].describe())"
      ],
      "execution_count": null,
      "outputs": [
        {
          "output_type": "stream",
          "text": [
            "count    6497.000000\n",
            "mean        5.818378\n",
            "std         0.873255\n",
            "min         3.000000\n",
            "25%         5.000000\n",
            "50%         6.000000\n",
            "75%         6.000000\n",
            "max         9.000000\n",
            "Name: quality, dtype: float64\n"
          ],
          "name": "stdout"
        }
      ]
    },
    {
      "cell_type": "code",
      "metadata": {
        "colab": {
          "base_uri": "https://localhost:8080/"
        },
        "id": "NqFo_62n0jkZ",
        "outputId": "52a0f68c-dfe6-4c32-f4b5-6099fbd9df87"
      },
      "source": [
        "print(wine['quality'].value_counts())"
      ],
      "execution_count": null,
      "outputs": [
        {
          "output_type": "stream",
          "text": [
            "6    2836\n",
            "5    2138\n",
            "7    1079\n",
            "4     216\n",
            "8     193\n",
            "3      30\n",
            "9       5\n",
            "Name: quality, dtype: int64\n"
          ],
          "name": "stdout"
        }
      ]
    },
    {
      "cell_type": "code",
      "metadata": {
        "colab": {
          "base_uri": "https://localhost:8080/",
          "height": 297
        },
        "id": "meWk5tfi0nKw",
        "outputId": "155b5776-69cf-40a3-c629-3463e52ffe65"
      },
      "source": [
        "sns.histplot(wine['quality'], color='red', binwidth=0.5)  # binwidth는 사이의 거리"
      ],
      "execution_count": null,
      "outputs": [
        {
          "output_type": "execute_result",
          "data": {
            "text/plain": [
              "<matplotlib.axes._subplots.AxesSubplot at 0x7f5678dbc850>"
            ]
          },
          "metadata": {
            "tags": []
          },
          "execution_count": 7
        },
        {
          "output_type": "display_data",
          "data": {
            "image/png": "[encoded data removed]",
            "text/plain": [
              "<Figure size 432x288 with 1 Axes>"
            ]
          },
          "metadata": {
            "tags": [],
            "needs_background": "light"
          }
        }
      ]
    },
    {
      "cell_type": "code",
      "metadata": {
        "id": "MTYzc4pG0n_N"
      },
      "source": [
        "wine.loc[wine['quality'] <=5, 'new_quality'] = 0\n",
        "wine.loc[wine['quality'] ==6, 'new_quality'] = 1\n",
        "wine.loc[wine['quality'] >=7, 'new_quality'] = 2"
      ],
      "execution_count": null,
      "outputs": []
    },
    {
      "cell_type": "code",
      "metadata": {
        "colab": {
          "base_uri": "https://localhost:8080/"
        },
        "id": "c-0o3yS_0oEW",
        "outputId": "3e0eed20-2aef-4f3f-b560-9b5d912e39d3"
      },
      "source": [
        "print(wine['new_quality'].value_counts())"
      ],
      "execution_count": null,
      "outputs": [
        {
          "output_type": "stream",
          "text": [
            "1.0    2836\n",
            "0.0    2384\n",
            "2.0    1277\n",
            "Name: new_quality, dtype: int64\n"
          ],
          "name": "stdout"
        }
      ]
    },
    {
      "cell_type": "code",
      "metadata": {
        "colab": {
          "base_uri": "https://localhost:8080/",
          "height": 280
        },
        "id": "JA_BB_hQ1iIc",
        "outputId": "73de3fea-0b1d-432c-a7df-0de4c11405f4"
      },
      "source": [
        "sns.histplot(wine['new_quality'], binwidth=0.3)\n",
        "plt.xticks(ticks=[0,2,1])\n",
        "plt.show()"
      ],
      "execution_count": null,
      "outputs": [
        {
          "output_type": "display_data",
          "data": {
            "image/png": "[encoded data removed]",
            "text/plain": [
              "<Figure size 432x288 with 1 Axes>"
            ]
          },
          "metadata": {
            "tags": [],
            "needs_background": "light"
          }
        }
      ]
    },
    {
      "cell_type": "code",
      "metadata": {
        "colab": {
          "base_uri": "https://localhost:8080/",
          "height": 470
        },
        "id": "HgnNzydn2Wnt",
        "outputId": "a6451ed5-d21e-4b95-99f8-ba010cad614d"
      },
      "source": [
        "del wine['quality']\n",
        "display(wine)"
      ],
      "execution_count": null,
      "outputs": [
        {
          "output_type": "display_data",
          "data": {
            "text/html": [
              "<div>\n",
              "<style scoped>\n",
              "    .dataframe tbody tr th:only-of-type {\n",
              "        vertical-align: middle;\n",
              "    }\n",
              "\n",
              "    .dataframe tbody tr th {\n",
              "        vertical-align: top;\n",
              "    }\n",
              "\n",
              "    .dataframe thead th {\n",
              "        text-align: right;\n",
              "    }\n",
              "</style>\n",
              "<table border=\"1\" class=\"dataframe\">\n",
              "  <thead>\n",
              "    <tr style=\"text-align: right;\">\n",
              "      <th></th>\n",
              "      <th>fixed acidity</th>\n",
              "      <th>volatile acidity</th>\n",
              "      <th>citric acid</th>\n",
              "      <th>residual sugar</th>\n",
              "      <th>chlorides</th>\n",
              "      <th>free sulfur dioxide</th>\n",
              "      <th>total sulfur dioxide</th>\n",
              "      <th>density</th>\n",
              "      <th>pH</th>\n",
              "      <th>sulphates</th>\n",
              "      <th>alcohol</th>\n",
              "      <th>type</th>\n",
              "      <th>new_quality</th>\n",
              "    </tr>\n",
              "  </thead>\n",
              "  <tbody>\n",
              "    <tr>\n",
              "      <th>0</th>\n",
              "      <td>7.4</td>\n",
              "      <td>0.70</td>\n",
              "      <td>0.00</td>\n",
              "      <td>1.9</td>\n",
              "      <td>0.076</td>\n",
              "      <td>11.0</td>\n",
              "      <td>34.0</td>\n",
              "      <td>0.99780</td>\n",
              "      <td>3.51</td>\n",
              "      <td>0.56</td>\n",
              "      <td>9.4</td>\n",
              "      <td>0</td>\n",
              "      <td>0.0</td>\n",
              "    </tr>\n",
              "    <tr>\n",
              "      <th>1</th>\n",
              "      <td>7.8</td>\n",
              "      <td>0.88</td>\n",
              "      <td>0.00</td>\n",
              "      <td>2.6</td>\n",
              "      <td>0.098</td>\n",
              "      <td>25.0</td>\n",
              "      <td>67.0</td>\n",
              "      <td>0.99680</td>\n",
              "      <td>3.20</td>\n",
              "      <td>0.68</td>\n",
              "      <td>9.8</td>\n",
              "      <td>0</td>\n",
              "      <td>0.0</td>\n",
              "    </tr>\n",
              "    <tr>\n",
              "      <th>2</th>\n",
              "      <td>7.8</td>\n",
              "      <td>0.76</td>\n",
              "      <td>0.04</td>\n",
              "      <td>2.3</td>\n",
              "      <td>0.092</td>\n",
              "      <td>15.0</td>\n",
              "      <td>54.0</td>\n",
              "      <td>0.99700</td>\n",
              "      <td>3.26</td>\n",
              "      <td>0.65</td>\n",
              "      <td>9.8</td>\n",
              "      <td>0</td>\n",
              "      <td>0.0</td>\n",
              "    </tr>\n",
              "    <tr>\n",
              "      <th>3</th>\n",
              "      <td>11.2</td>\n",
              "      <td>0.28</td>\n",
              "      <td>0.56</td>\n",
              "      <td>1.9</td>\n",
              "      <td>0.075</td>\n",
              "      <td>17.0</td>\n",
              "      <td>60.0</td>\n",
              "      <td>0.99800</td>\n",
              "      <td>3.16</td>\n",
              "      <td>0.58</td>\n",
              "      <td>9.8</td>\n",
              "      <td>0</td>\n",
              "      <td>1.0</td>\n",
              "    </tr>\n",
              "    <tr>\n",
              "      <th>4</th>\n",
              "      <td>7.4</td>\n",
              "      <td>0.70</td>\n",
              "      <td>0.00</td>\n",
              "      <td>1.9</td>\n",
              "      <td>0.076</td>\n",
              "      <td>11.0</td>\n",
              "      <td>34.0</td>\n",
              "      <td>0.99780</td>\n",
              "      <td>3.51</td>\n",
              "      <td>0.56</td>\n",
              "      <td>9.4</td>\n",
              "      <td>0</td>\n",
              "      <td>0.0</td>\n",
              "    </tr>\n",
              "    <tr>\n",
              "      <th>...</th>\n",
              "      <td>...</td>\n",
              "      <td>...</td>\n",
              "      <td>...</td>\n",
              "      <td>...</td>\n",
              "      <td>...</td>\n",
              "      <td>...</td>\n",
              "      <td>...</td>\n",
              "      <td>...</td>\n",
              "      <td>...</td>\n",
              "      <td>...</td>\n",
              "      <td>...</td>\n",
              "      <td>...</td>\n",
              "      <td>...</td>\n",
              "    </tr>\n",
              "    <tr>\n",
              "      <th>4893</th>\n",
              "      <td>6.2</td>\n",
              "      <td>0.21</td>\n",
              "      <td>0.29</td>\n",
              "      <td>1.6</td>\n",
              "      <td>0.039</td>\n",
              "      <td>24.0</td>\n",
              "      <td>92.0</td>\n",
              "      <td>0.99114</td>\n",
              "      <td>3.27</td>\n",
              "      <td>0.50</td>\n",
              "      <td>11.2</td>\n",
              "      <td>1</td>\n",
              "      <td>1.0</td>\n",
              "    </tr>\n",
              "    <tr>\n",
              "      <th>4894</th>\n",
              "      <td>6.6</td>\n",
              "      <td>0.32</td>\n",
              "      <td>0.36</td>\n",
              "      <td>8.0</td>\n",
              "      <td>0.047</td>\n",
              "      <td>57.0</td>\n",
              "      <td>168.0</td>\n",
              "      <td>0.99490</td>\n",
              "      <td>3.15</td>\n",
              "      <td>0.46</td>\n",
              "      <td>9.6</td>\n",
              "      <td>1</td>\n",
              "      <td>0.0</td>\n",
              "    </tr>\n",
              "    <tr>\n",
              "      <th>4895</th>\n",
              "      <td>6.5</td>\n",
              "      <td>0.24</td>\n",
              "      <td>0.19</td>\n",
              "      <td>1.2</td>\n",
              "      <td>0.041</td>\n",
              "      <td>30.0</td>\n",
              "      <td>111.0</td>\n",
              "      <td>0.99254</td>\n",
              "      <td>2.99</td>\n",
              "      <td>0.46</td>\n",
              "      <td>9.4</td>\n",
              "      <td>1</td>\n",
              "      <td>1.0</td>\n",
              "    </tr>\n",
              "    <tr>\n",
              "      <th>4896</th>\n",
              "      <td>5.5</td>\n",
              "      <td>0.29</td>\n",
              "      <td>0.30</td>\n",
              "      <td>1.1</td>\n",
              "      <td>0.022</td>\n",
              "      <td>20.0</td>\n",
              "      <td>110.0</td>\n",
              "      <td>0.98869</td>\n",
              "      <td>3.34</td>\n",
              "      <td>0.38</td>\n",
              "      <td>12.8</td>\n",
              "      <td>1</td>\n",
              "      <td>2.0</td>\n",
              "    </tr>\n",
              "    <tr>\n",
              "      <th>4897</th>\n",
              "      <td>6.0</td>\n",
              "      <td>0.21</td>\n",
              "      <td>0.38</td>\n",
              "      <td>0.8</td>\n",
              "      <td>0.020</td>\n",
              "      <td>22.0</td>\n",
              "      <td>98.0</td>\n",
              "      <td>0.98941</td>\n",
              "      <td>3.26</td>\n",
              "      <td>0.32</td>\n",
              "      <td>11.8</td>\n",
              "      <td>1</td>\n",
              "      <td>1.0</td>\n",
              "    </tr>\n",
              "  </tbody>\n",
              "</table>\n",
              "<p>6497 rows × 13 columns</p>\n",
              "</div>"
            ],
            "text/plain": [
              "      fixed acidity  volatile acidity  citric acid  ...  alcohol  type  new_quality\n",
              "0               7.4              0.70         0.00  ...      9.4     0          0.0\n",
              "1               7.8              0.88         0.00  ...      9.8     0          0.0\n",
              "2               7.8              0.76         0.04  ...      9.8     0          0.0\n",
              "3              11.2              0.28         0.56  ...      9.8     0          1.0\n",
              "4               7.4              0.70         0.00  ...      9.4     0          0.0\n",
              "...             ...               ...          ...  ...      ...   ...          ...\n",
              "4893            6.2              0.21         0.29  ...     11.2     1          1.0\n",
              "4894            6.6              0.32         0.36  ...      9.6     1          0.0\n",
              "4895            6.5              0.24         0.19  ...      9.4     1          1.0\n",
              "4896            5.5              0.29         0.30  ...     12.8     1          2.0\n",
              "4897            6.0              0.21         0.38  ...     11.8     1          1.0\n",
              "\n",
              "[6497 rows x 13 columns]"
            ]
          },
          "metadata": {
            "tags": []
          }
        }
      ]
    },
    {
      "cell_type": "code",
      "metadata": {
        "colab": {
          "base_uri": "https://localhost:8080/",
          "height": 470
        },
        "id": "BsTK_F6B2Zu9",
        "outputId": "7757d53f-80a5-48b4-8abb-d6a3c5cde689"
      },
      "source": [
        "wine_norm = (wine - wine.min()) / (wine.max() - wine.min())\n",
        "display(wine_norm)"
      ],
      "execution_count": null,
      "outputs": [
        {
          "output_type": "display_data",
          "data": {
            "text/html": [
              "<div>\n",
              "<style scoped>\n",
              "    .dataframe tbody tr th:only-of-type {\n",
              "        vertical-align: middle;\n",
              "    }\n",
              "\n",
              "    .dataframe tbody tr th {\n",
              "        vertical-align: top;\n",
              "    }\n",
              "\n",
              "    .dataframe thead th {\n",
              "        text-align: right;\n",
              "    }\n",
              "</style>\n",
              "<table border=\"1\" class=\"dataframe\">\n",
              "  <thead>\n",
              "    <tr style=\"text-align: right;\">\n",
              "      <th></th>\n",
              "      <th>fixed acidity</th>\n",
              "      <th>volatile acidity</th>\n",
              "      <th>citric acid</th>\n",
              "      <th>residual sugar</th>\n",
              "      <th>chlorides</th>\n",
              "      <th>free sulfur dioxide</th>\n",
              "      <th>total sulfur dioxide</th>\n",
              "      <th>density</th>\n",
              "      <th>pH</th>\n",
              "      <th>sulphates</th>\n",
              "      <th>alcohol</th>\n",
              "      <th>type</th>\n",
              "      <th>new_quality</th>\n",
              "    </tr>\n",
              "  </thead>\n",
              "  <tbody>\n",
              "    <tr>\n",
              "      <th>0</th>\n",
              "      <td>0.297521</td>\n",
              "      <td>0.413333</td>\n",
              "      <td>0.000000</td>\n",
              "      <td>0.019939</td>\n",
              "      <td>0.111296</td>\n",
              "      <td>0.034722</td>\n",
              "      <td>0.064516</td>\n",
              "      <td>0.206092</td>\n",
              "      <td>0.612403</td>\n",
              "      <td>0.191011</td>\n",
              "      <td>0.202899</td>\n",
              "      <td>0.0</td>\n",
              "      <td>0.0</td>\n",
              "    </tr>\n",
              "    <tr>\n",
              "      <th>1</th>\n",
              "      <td>0.330579</td>\n",
              "      <td>0.533333</td>\n",
              "      <td>0.000000</td>\n",
              "      <td>0.030675</td>\n",
              "      <td>0.147841</td>\n",
              "      <td>0.083333</td>\n",
              "      <td>0.140553</td>\n",
              "      <td>0.186813</td>\n",
              "      <td>0.372093</td>\n",
              "      <td>0.258427</td>\n",
              "      <td>0.260870</td>\n",
              "      <td>0.0</td>\n",
              "      <td>0.0</td>\n",
              "    </tr>\n",
              "    <tr>\n",
              "      <th>2</th>\n",
              "      <td>0.330579</td>\n",
              "      <td>0.453333</td>\n",
              "      <td>0.024096</td>\n",
              "      <td>0.026074</td>\n",
              "      <td>0.137874</td>\n",
              "      <td>0.048611</td>\n",
              "      <td>0.110599</td>\n",
              "      <td>0.190669</td>\n",
              "      <td>0.418605</td>\n",
              "      <td>0.241573</td>\n",
              "      <td>0.260870</td>\n",
              "      <td>0.0</td>\n",
              "      <td>0.0</td>\n",
              "    </tr>\n",
              "    <tr>\n",
              "      <th>3</th>\n",
              "      <td>0.611570</td>\n",
              "      <td>0.133333</td>\n",
              "      <td>0.337349</td>\n",
              "      <td>0.019939</td>\n",
              "      <td>0.109635</td>\n",
              "      <td>0.055556</td>\n",
              "      <td>0.124424</td>\n",
              "      <td>0.209948</td>\n",
              "      <td>0.341085</td>\n",
              "      <td>0.202247</td>\n",
              "      <td>0.260870</td>\n",
              "      <td>0.0</td>\n",
              "      <td>0.5</td>\n",
              "    </tr>\n",
              "    <tr>\n",
              "      <th>4</th>\n",
              "      <td>0.297521</td>\n",
              "      <td>0.413333</td>\n",
              "      <td>0.000000</td>\n",
              "      <td>0.019939</td>\n",
              "      <td>0.111296</td>\n",
              "      <td>0.034722</td>\n",
              "      <td>0.064516</td>\n",
              "      <td>0.206092</td>\n",
              "      <td>0.612403</td>\n",
              "      <td>0.191011</td>\n",
              "      <td>0.202899</td>\n",
              "      <td>0.0</td>\n",
              "      <td>0.0</td>\n",
              "    </tr>\n",
              "    <tr>\n",
              "      <th>...</th>\n",
              "      <td>...</td>\n",
              "      <td>...</td>\n",
              "      <td>...</td>\n",
              "      <td>...</td>\n",
              "      <td>...</td>\n",
              "      <td>...</td>\n",
              "      <td>...</td>\n",
              "      <td>...</td>\n",
              "      <td>...</td>\n",
              "      <td>...</td>\n",
              "      <td>...</td>\n",
              "      <td>...</td>\n",
              "      <td>...</td>\n",
              "    </tr>\n",
              "    <tr>\n",
              "      <th>4893</th>\n",
              "      <td>0.198347</td>\n",
              "      <td>0.086667</td>\n",
              "      <td>0.174699</td>\n",
              "      <td>0.015337</td>\n",
              "      <td>0.049834</td>\n",
              "      <td>0.079861</td>\n",
              "      <td>0.198157</td>\n",
              "      <td>0.077694</td>\n",
              "      <td>0.426357</td>\n",
              "      <td>0.157303</td>\n",
              "      <td>0.463768</td>\n",
              "      <td>1.0</td>\n",
              "      <td>0.5</td>\n",
              "    </tr>\n",
              "    <tr>\n",
              "      <th>4894</th>\n",
              "      <td>0.231405</td>\n",
              "      <td>0.160000</td>\n",
              "      <td>0.216867</td>\n",
              "      <td>0.113497</td>\n",
              "      <td>0.063123</td>\n",
              "      <td>0.194444</td>\n",
              "      <td>0.373272</td>\n",
              "      <td>0.150183</td>\n",
              "      <td>0.333333</td>\n",
              "      <td>0.134831</td>\n",
              "      <td>0.231884</td>\n",
              "      <td>1.0</td>\n",
              "      <td>0.0</td>\n",
              "    </tr>\n",
              "    <tr>\n",
              "      <th>4895</th>\n",
              "      <td>0.223140</td>\n",
              "      <td>0.106667</td>\n",
              "      <td>0.114458</td>\n",
              "      <td>0.009202</td>\n",
              "      <td>0.053156</td>\n",
              "      <td>0.100694</td>\n",
              "      <td>0.241935</td>\n",
              "      <td>0.104685</td>\n",
              "      <td>0.209302</td>\n",
              "      <td>0.134831</td>\n",
              "      <td>0.202899</td>\n",
              "      <td>1.0</td>\n",
              "      <td>0.5</td>\n",
              "    </tr>\n",
              "    <tr>\n",
              "      <th>4896</th>\n",
              "      <td>0.140496</td>\n",
              "      <td>0.140000</td>\n",
              "      <td>0.180723</td>\n",
              "      <td>0.007669</td>\n",
              "      <td>0.021595</td>\n",
              "      <td>0.065972</td>\n",
              "      <td>0.239631</td>\n",
              "      <td>0.030461</td>\n",
              "      <td>0.480620</td>\n",
              "      <td>0.089888</td>\n",
              "      <td>0.695652</td>\n",
              "      <td>1.0</td>\n",
              "      <td>1.0</td>\n",
              "    </tr>\n",
              "    <tr>\n",
              "      <th>4897</th>\n",
              "      <td>0.181818</td>\n",
              "      <td>0.086667</td>\n",
              "      <td>0.228916</td>\n",
              "      <td>0.003067</td>\n",
              "      <td>0.018272</td>\n",
              "      <td>0.072917</td>\n",
              "      <td>0.211982</td>\n",
              "      <td>0.044342</td>\n",
              "      <td>0.418605</td>\n",
              "      <td>0.056180</td>\n",
              "      <td>0.550725</td>\n",
              "      <td>1.0</td>\n",
              "      <td>0.5</td>\n",
              "    </tr>\n",
              "  </tbody>\n",
              "</table>\n",
              "<p>6497 rows × 13 columns</p>\n",
              "</div>"
            ],
            "text/plain": [
              "      fixed acidity  volatile acidity  citric acid  ...   alcohol  type  new_quality\n",
              "0          0.297521          0.413333     0.000000  ...  0.202899   0.0          0.0\n",
              "1          0.330579          0.533333     0.000000  ...  0.260870   0.0          0.0\n",
              "2          0.330579          0.453333     0.024096  ...  0.260870   0.0          0.0\n",
              "3          0.611570          0.133333     0.337349  ...  0.260870   0.0          0.5\n",
              "4          0.297521          0.413333     0.000000  ...  0.202899   0.0          0.0\n",
              "...             ...               ...          ...  ...       ...   ...          ...\n",
              "4893       0.198347          0.086667     0.174699  ...  0.463768   1.0          0.5\n",
              "4894       0.231405          0.160000     0.216867  ...  0.231884   1.0          0.0\n",
              "4895       0.223140          0.106667     0.114458  ...  0.202899   1.0          0.5\n",
              "4896       0.140496          0.140000     0.180723  ...  0.695652   1.0          1.0\n",
              "4897       0.181818          0.086667     0.228916  ...  0.550725   1.0          0.5\n",
              "\n",
              "[6497 rows x 13 columns]"
            ]
          },
          "metadata": {
            "tags": []
          }
        }
      ]
    },
    {
      "cell_type": "code",
      "metadata": {
        "colab": {
          "base_uri": "https://localhost:8080/",
          "height": 210
        },
        "id": "PSDNi7qM21o3",
        "outputId": "efde32a5-2130-49e7-a738-56b723090639"
      },
      "source": [
        "display(wine_norm['new_quality'][:10])"
      ],
      "execution_count": null,
      "outputs": [
        {
          "output_type": "display_data",
          "data": {
            "text/plain": [
              "0    0.0\n",
              "1    0.0\n",
              "2    0.0\n",
              "3    0.5\n",
              "4    0.0\n",
              "5    0.0\n",
              "6    0.0\n",
              "7    1.0\n",
              "8    1.0\n",
              "9    0.0\n",
              "Name: new_quality, dtype: float64"
            ]
          },
          "metadata": {
            "tags": []
          }
        }
      ]
    },
    {
      "cell_type": "code",
      "metadata": {
        "id": "FCRCypOZ3O9A"
      },
      "source": [
        "wine_shuffle = wine_norm.sample(frac=1)\n",
        "wine_np = wine_shuffle.to_numpy()"
      ],
      "execution_count": null,
      "outputs": []
    },
    {
      "cell_type": "code",
      "metadata": {
        "colab": {
          "base_uri": "https://localhost:8080/"
        },
        "id": "AfsQhSq03YgW",
        "outputId": "f1244702-040f-41cf-bfe7-f5017fd65d95"
      },
      "source": [
        "train_ratio = 0.8\n",
        "\n",
        "train_idx = int(len(wine_np) * train_ratio)\n",
        "print('train_idx: ', train_idx)"
      ],
      "execution_count": null,
      "outputs": [
        {
          "output_type": "stream",
          "text": [
            "train_idx:  5197\n"
          ],
          "name": "stdout"
        }
      ]
    },
    {
      "cell_type": "code",
      "metadata": {
        "colab": {
          "base_uri": "https://localhost:8080/"
        },
        "id": "926yiIFU3Ywn",
        "outputId": "a2a326e1-0840-42cc-8204-dc2f114d138e"
      },
      "source": [
        "train_X, train_Y = wine_np[:train_idx, :-1], wine_np[:train_idx, -1:]\n",
        "test_X, test_Y = wine_np[train_idx:, :-1], wine_np[train_idx:, -1:]\n",
        "\n",
        "print(train_X.shape)\n",
        "print(train_Y.shape)\n",
        "print(test_X.shape)\n",
        "print(test_Y.shape)"
      ],
      "execution_count": null,
      "outputs": [
        {
          "output_type": "stream",
          "text": [
            "(5197, 12)\n",
            "(5197, 1)\n",
            "(1300, 12)\n",
            "(1300, 1)\n"
          ],
          "name": "stdout"
        }
      ]
    },
    {
      "cell_type": "code",
      "metadata": {
        "colab": {
          "base_uri": "https://localhost:8080/"
        },
        "id": "k61Z_k123YzU",
        "outputId": "a424f60a-bb92-42a4-bdcd-934c3f40e751"
      },
      "source": [
        "train_Y_to_categorical = tf.keras.utils.to_categorical(train_Y, num_classes=3)\n",
        "test_Y_to_categorical = tf.keras.utils.to_categorical(test_Y,num_classes=3)\n",
        "\n",
        "print(train_Y_to_categorical.shape)\n",
        "print(test_Y_to_categorical.shape)\n"
      ],
      "execution_count": null,
      "outputs": [
        {
          "output_type": "stream",
          "text": [
            "(5197, 3)\n",
            "(1300, 3)\n"
          ],
          "name": "stdout"
        }
      ]
    },
    {
      "cell_type": "code",
      "metadata": {
        "id": "7UnpuNOQ4wDa"
      },
      "source": [
        "model_swish_softmax = tf.keras.Sequential([\n",
        "                                           tf.keras.layers.Dense(units=48, activation='swish', input_shape=(12, )),\n",
        "                                           tf.keras.layers.Dense(units=24, activation='swish'),\n",
        "                                           tf.keras.layers.Dense(units=12, activation='swish'),\n",
        "                                           tf.keras.layers.Dense(units=3, activation='softmax')])"
      ],
      "execution_count": null,
      "outputs": []
    },
    {
      "cell_type": "code",
      "metadata": {
        "id": "s2Z7Em9P5uIS"
      },
      "source": [
        "model_swish_softmax.compile(optimizer=tf.keras.optimizers.Adam(),\n",
        "                            loss = 'categorical_crossentropy',\n",
        "                            metrics = ['accuracy'])"
      ],
      "execution_count": null,
      "outputs": []
    },
    {
      "cell_type": "code",
      "metadata": {
        "colab": {
          "base_uri": "https://localhost:8080/"
        },
        "id": "o6ymWUtu6aS9",
        "outputId": "f6013f52-2ac0-4f5e-c670-f26a4c8e2d92"
      },
      "source": [
        "history = model_swish_softmax.fit(train_X, train_Y_to_categorical,\n",
        "                                  epochs = 200, \n",
        "                                  batch_size = 32,\n",
        "                                  validation_split = 0.2,\n",
        "                                  callbacks = [tf.keras.callbacks.EarlyStopping(patience= 3 )])"
      ],
      "execution_count": null,
      "outputs": [
        {
          "output_type": "stream",
          "text": [
            "Epoch 1/200\n",
            "130/130 [==============================] - 1s 3ms/step - loss: 0.6719 - accuracy: 0.7744 - val_loss: 0.4627 - val_accuracy: 0.8269\n",
            "Epoch 2/200\n",
            "130/130 [==============================] - 0s 2ms/step - loss: 0.4731 - accuracy: 0.8015 - val_loss: 0.4170 - val_accuracy: 0.8269\n",
            "Epoch 3/200\n",
            "130/130 [==============================] - 0s 2ms/step - loss: 0.4314 - accuracy: 0.8071 - val_loss: 0.3851 - val_accuracy: 0.8269\n",
            "Epoch 4/200\n",
            "130/130 [==============================] - 0s 2ms/step - loss: 0.4169 - accuracy: 0.8088 - val_loss: 0.3782 - val_accuracy: 0.8385\n",
            "Epoch 5/200\n",
            "130/130 [==============================] - 0s 2ms/step - loss: 0.4112 - accuracy: 0.8112 - val_loss: 0.3839 - val_accuracy: 0.8269\n",
            "Epoch 6/200\n",
            "130/130 [==============================] - 0s 2ms/step - loss: 0.4070 - accuracy: 0.8116 - val_loss: 0.3705 - val_accuracy: 0.8365\n",
            "Epoch 7/200\n",
            "130/130 [==============================] - 0s 2ms/step - loss: 0.4052 - accuracy: 0.8102 - val_loss: 0.3697 - val_accuracy: 0.8365\n",
            "Epoch 8/200\n",
            "130/130 [==============================] - 0s 2ms/step - loss: 0.4019 - accuracy: 0.8179 - val_loss: 0.3683 - val_accuracy: 0.8375\n",
            "Epoch 9/200\n",
            "130/130 [==============================] - 0s 2ms/step - loss: 0.4012 - accuracy: 0.8169 - val_loss: 0.3676 - val_accuracy: 0.8337\n",
            "Epoch 10/200\n",
            "130/130 [==============================] - 0s 2ms/step - loss: 0.4013 - accuracy: 0.8140 - val_loss: 0.3670 - val_accuracy: 0.8375\n",
            "Epoch 11/200\n",
            "130/130 [==============================] - 0s 2ms/step - loss: 0.4001 - accuracy: 0.8179 - val_loss: 0.3681 - val_accuracy: 0.8375\n",
            "Epoch 12/200\n",
            "130/130 [==============================] - 0s 2ms/step - loss: 0.3995 - accuracy: 0.8174 - val_loss: 0.3663 - val_accuracy: 0.8356\n",
            "Epoch 13/200\n",
            "130/130 [==============================] - 0s 2ms/step - loss: 0.3986 - accuracy: 0.8165 - val_loss: 0.3674 - val_accuracy: 0.8365\n",
            "Epoch 14/200\n",
            "130/130 [==============================] - 0s 2ms/step - loss: 0.3985 - accuracy: 0.8181 - val_loss: 0.3672 - val_accuracy: 0.8365\n",
            "Epoch 15/200\n",
            "130/130 [==============================] - 0s 2ms/step - loss: 0.4013 - accuracy: 0.8109 - val_loss: 0.3721 - val_accuracy: 0.8356\n"
          ],
          "name": "stdout"
        }
      ]
    },
    {
      "cell_type": "code",
      "metadata": {
        "colab": {
          "base_uri": "https://localhost:8080/",
          "height": 286
        },
        "id": "uXEwtp4B6aVK",
        "outputId": "26e2159e-836a-4641-8319-2d65bf72bb53"
      },
      "source": [
        "val_accuracy = history.history['val_accuracy']\n",
        "accuracy = history.history['accuracy']\n",
        "\n",
        "val_loss = history.history['val_loss']\n",
        "loss     = history.history['loss']\n",
        "\n",
        "plt.figure(figsize=(12,4))\n",
        "plt.subplot(1, 2, 1)\n",
        "plt.plot(history.history['loss'], 'b-', label = 'Train Loss')\n",
        "plt.plot(history.history['val_loss'], 'r--', label = 'Val Loss')\n",
        "plt.xlabel('Epochs')\n",
        "plt.title(\"Train Loss : {:.3f}\\nVal Loss : {:.3f}\".\\\n",
        "          format(loss[-1], val_loss[-1]), fontsize = 15)\n",
        "\n",
        "plt.grid()\n",
        "plt.legend()\n",
        "\n",
        "plt.subplot(1, 2, 2)\n",
        "plt.plot(history.history['accuracy'], 'b-', label = 'Train Accuracy')\n",
        "plt.plot(history.history['val_accuracy'], 'r--', label = 'Val Accuracy')\n",
        "plt.xlabel('Epochs')\n",
        "plt.title(\"Train Acc : {:.3f}\\nVal Acc : {:.3f}\".\\\n",
        "          format(accuracy[-1], val_accuracy[-1]), fontsize = 15)\n",
        "\n",
        "plt.grid()\n",
        "plt.legend()\n",
        "\n",
        "plt.show()\n"
      ],
      "execution_count": null,
      "outputs": [
        {
          "output_type": "display_data",
          "data": {
            "image/png": "[encoded data removed]",
            "text/plain": [
              "<Figure size 864x288 with 2 Axes>"
            ]
          },
          "metadata": {
            "tags": [],
            "needs_background": "light"
          }
        }
      ]
    },
    {
      "cell_type": "code",
      "metadata": {
        "colab": {
          "base_uri": "https://localhost:8080/"
        },
        "id": "hBLj86Hq6aXM",
        "outputId": "0085f4c3-ce35-439a-c098-e735ef884e32"
      },
      "source": [
        "model_swish_softmax.evaluate(test_X, test_Y_to_categorical)"
      ],
      "execution_count": null,
      "outputs": [
        {
          "output_type": "stream",
          "text": [
            "41/41 [==============================] - 0s 1ms/step - loss: 0.4106 - accuracy: 0.8123\n"
          ],
          "name": "stdout"
        },
        {
          "output_type": "execute_result",
          "data": {
            "text/plain": [
              "[0.41059231758117676, 0.8123077154159546]"
            ]
          },
          "metadata": {
            "tags": []
          },
          "execution_count": 31
        }
      ]
    },
    {
      "cell_type": "code",
      "metadata": {
        "colab": {
          "base_uri": "https://localhost:8080/"
        },
        "id": "XTWy9zUD6aZD",
        "outputId": "1b50276f-56fd-4410-a1e3-468b57a37d93"
      },
      "source": [
        "pred_Y = model_swish_softmax.predict(test_X)\n",
        "print('pred_Y:\\n', pred_Y)\n",
        "\n",
        "pred_Y_round_2 = np.round(pred_Y, 2)\n",
        "print('pred_Y_round_2 : \\n',pred_Y_round_2)"
      ],
      "execution_count": null,
      "outputs": [
        {
          "output_type": "stream",
          "text": [
            "pred_Y:\n",
            " [[7.82195389e-01 2.17700452e-01 1.04193045e-04]\n",
            " [7.73060322e-01 2.26874247e-01 6.54016185e-05]\n",
            " [8.35150242e-01 1.64675027e-01 1.74729168e-04]\n",
            " ...\n",
            " [5.52626312e-01 4.47327316e-01 4.63828510e-05]\n",
            " [9.17405784e-01 8.24757367e-02 1.18417280e-04]\n",
            " [8.52578878e-01 1.47320569e-01 1.00497135e-04]]\n",
            "pred_Y_round_2 : \n",
            " [[0.78 0.22 0.  ]\n",
            " [0.77 0.23 0.  ]\n",
            " [0.84 0.16 0.  ]\n",
            " ...\n",
            " [0.55 0.45 0.  ]\n",
            " [0.92 0.08 0.  ]\n",
            " [0.85 0.15 0.  ]]\n"
          ],
          "name": "stdout"
        }
      ]
    },
    {
      "cell_type": "code",
      "metadata": {
        "colab": {
          "base_uri": "https://localhost:8080/"
        },
        "id": "4B-SMHZr635V",
        "outputId": "a93f27a4-6119-4050-f32e-72198b1e0a33"
      },
      "source": [
        "print(test_Y_to_categorical[:5])"
      ],
      "execution_count": null,
      "outputs": [
        {
          "output_type": "stream",
          "text": [
            "[[0. 1. 0.]\n",
            " [1. 0. 0.]\n",
            " [1. 0. 0.]\n",
            " [0. 1. 0.]\n",
            " [1. 0. 0.]]\n"
          ],
          "name": "stdout"
        }
      ]
    },
    {
      "cell_type": "code",
      "metadata": {
        "colab": {
          "base_uri": "https://localhost:8080/"
        },
        "id": "aYmQ-Y8B7Vwy",
        "outputId": "24d23652-efc8-4968-bf10-ca8b89e4e709"
      },
      "source": [
        "pred_Y_argmax = np.argmax(pred_Y_round_2, axis=1)\n",
        "test_Y_argmax = np.argmax(test_Y_to_categorical, axis=1)\n",
        "\n",
        "print(pred_Y_argmax[:10])\n",
        "print(test_Y_argmax[:10])"
      ],
      "execution_count": null,
      "outputs": [
        {
          "output_type": "stream",
          "text": [
            "[0 0 0 0 0 0 0 0 0 0]\n",
            "[1 0 0 1 0 0 0 0 0 0]\n"
          ],
          "name": "stdout"
        }
      ]
    },
    {
      "cell_type": "code",
      "metadata": {
        "colab": {
          "base_uri": "https://localhost:8080/"
        },
        "id": "bTpmlFMW7j1Q",
        "outputId": "3365808a-45c7-457e-f120-aacedfe82cbc"
      },
      "source": [
        "result = np.equal(pred_Y_argmax, test_Y_argmax)\n",
        "acc = np.mean(result)\n",
        "print('ACC : {:.3f}'.format(acc*100))"
      ],
      "execution_count": null,
      "outputs": [
        {
          "output_type": "stream",
          "text": [
            "ACC : 81.308\n"
          ],
          "name": "stdout"
        }
      ]
    },
    {
      "cell_type": "markdown",
      "metadata": {
        "id": "AfE8GJaF_qc5"
      },
      "source": [
        "### Fashion Mnist"
      ]
    },
    {
      "cell_type": "code",
      "metadata": {
        "colab": {
          "base_uri": "https://localhost:8080/"
        },
        "id": "G-wb4zPB8C9D",
        "outputId": "3b1f24e3-55d6-4a3b-a4be-9aaa33cbed2e"
      },
      "source": [
        "fashion_mnist = tf.keras.datasets.fashion_mnist\n",
        "(train_X, train_Y), (test_X, test_Y) = fashion_mnist.load_data()"
      ],
      "execution_count": null,
      "outputs": [
        {
          "output_type": "stream",
          "text": [
            "Downloading data from https://storage.googleapis.com/tensorflow/tf-keras-datasets/train-labels-idx1-ubyte.gz\n",
            "32768/29515 [=================================] - 0s 0us/step\n",
            "Downloading data from https://storage.googleapis.com/tensorflow/tf-keras-datasets/train-images-idx3-ubyte.gz\n",
            "26427392/26421880 [==============================] - 0s 0us/step\n",
            "Downloading data from https://storage.googleapis.com/tensorflow/tf-keras-datasets/t10k-labels-idx1-ubyte.gz\n",
            "8192/5148 [===============================================] - 0s 0us/step\n",
            "Downloading data from https://storage.googleapis.com/tensorflow/tf-keras-datasets/t10k-images-idx3-ubyte.gz\n",
            "4423680/4422102 [==============================] - 0s 0us/step\n"
          ],
          "name": "stdout"
        }
      ]
    },
    {
      "cell_type": "code",
      "metadata": {
        "colab": {
          "base_uri": "https://localhost:8080/",
          "height": 591
        },
        "id": "I0z-e_69_LpX",
        "outputId": "d18d6749-820d-42b1-af5f-77b187ed04be"
      },
      "source": [
        "plt.figure(figsize=(10,10))\n",
        "\n",
        "for i in range(9):\n",
        "  plt.subplot(3,3,i+1)\n",
        "  plt.title('Y label : {}'.format(train_Y[i]))\n",
        "  plt.axis('off')\n",
        "  plt.imshow(train_X[i], cmap='pink')\n",
        "\n",
        "plt.show()"
      ],
      "execution_count": null,
      "outputs": [
        {
          "output_type": "display_data",
          "data": {
            "image/png": "[encoded data removed]",
            "text/plain": [
              "<Figure size 720x720 with 9 Axes>"
            ]
          },
          "metadata": {
            "tags": [],
            "needs_background": "light"
          }
        }
      ]
    },
    {
      "cell_type": "code",
      "metadata": {
        "colab": {
          "base_uri": "https://localhost:8080/"
        },
        "id": "L78Yewzu_LrS",
        "outputId": "76f39418-b189-4a26-f2eb-103adcaae3ff"
      },
      "source": [
        "train_Y[:5]"
      ],
      "execution_count": null,
      "outputs": [
        {
          "output_type": "execute_result",
          "data": {
            "text/plain": [
              "array([9, 0, 0, 3, 0], dtype=uint8)"
            ]
          },
          "metadata": {
            "tags": []
          },
          "execution_count": 6
        }
      ]
    },
    {
      "cell_type": "code",
      "metadata": {
        "colab": {
          "base_uri": "https://localhost:8080/"
        },
        "id": "hQpm9UpI_Luq",
        "outputId": "b94415f4-bdb3-40dd-fd7d-6eb61e9fc9c8"
      },
      "source": [
        "print(\"train_X[0].shape :\", train_X[0].shape)\n",
        "print(\"train_X[0].ndim :\", train_X[0].ndim)"
      ],
      "execution_count": null,
      "outputs": [
        {
          "output_type": "stream",
          "text": [
            "train_X[0].shape : (28, 28)\n",
            "train_X[0].ndim : 2\n"
          ],
          "name": "stdout"
        }
      ]
    },
    {
      "cell_type": "code",
      "metadata": {
        "colab": {
          "base_uri": "https://localhost:8080/"
        },
        "id": "Aj0kQHCIH6dM",
        "outputId": "854a58f4-2992-4c11-f6d5-fce79094a736"
      },
      "source": [
        "print(\"train_X.shape :\", train_X.shape)\n",
        "print(\"train_X.ndim :\", train_X.ndim)"
      ],
      "execution_count": null,
      "outputs": [
        {
          "output_type": "stream",
          "text": [
            "train_X.shape : (60000, 28, 28)\n",
            "train_X.ndim : 3\n"
          ],
          "name": "stdout"
        }
      ]
    },
    {
      "cell_type": "code",
      "metadata": {
        "colab": {
          "base_uri": "https://localhost:8080/"
        },
        "id": "5WbxzEWlCaWI",
        "outputId": "ddfbc418-cb52-4284-b3e2-3814a12c9499"
      },
      "source": [
        "print(np.min(train_X))\n",
        "print(np.max(train_X))"
      ],
      "execution_count": null,
      "outputs": [
        {
          "output_type": "stream",
          "text": [
            "0\n",
            "255\n"
          ],
          "name": "stdout"
        }
      ]
    },
    {
      "cell_type": "markdown",
      "metadata": {
        "id": "1I0lkGfEDJUp"
      },
      "source": [
        "Min Max Normalization"
      ]
    },
    {
      "cell_type": "code",
      "metadata": {
        "colab": {
          "base_uri": "https://localhost:8080/"
        },
        "id": "DC67rFjWDHOl",
        "outputId": "33ab269e-3821-4094-e402-fb01598ba144"
      },
      "source": [
        "train_X_norm = train_X / 255.0\n",
        "print(np.min(train_X_norm))\n",
        "print(np.max(train_X_norm))"
      ],
      "execution_count": null,
      "outputs": [
        {
          "output_type": "stream",
          "text": [
            "0.0\n",
            "1.0\n"
          ],
          "name": "stdout"
        }
      ]
    },
    {
      "cell_type": "code",
      "metadata": {
        "id": "mr8QRodLDHwf"
      },
      "source": [
        "test_X_norm = test_X / 255.0"
      ],
      "execution_count": null,
      "outputs": []
    },
    {
      "cell_type": "code",
      "metadata": {
        "id": "ghz_KUXHDHy2"
      },
      "source": [
        "Fmnist_Relu_DNN = tf.keras.Sequential([\n",
        "                                       tf.keras.layers.Flatten(input_shape=(28,28)),\n",
        "                                       tf.keras.layers.Dense(units=128, activation='relu'),\n",
        "                                       tf.keras.layers.Dense(units=64, activation='relu'),\n",
        "                                       tf.keras.layers.Dense(units=32, activation='relu'),\n",
        "                                       tf.keras.layers.Dense(units=10, activation='softmax')])"
      ],
      "execution_count": null,
      "outputs": []
    },
    {
      "cell_type": "code",
      "metadata": {
        "id": "4imvoUOaDsux"
      },
      "source": [
        "Fmnist_Relu_DNN.compile(optimizer=tf.keras.optimizers.Adam(),\n",
        "                         loss='sparse_categorical_crossentropy',\n",
        "                         metrics = ['accuracy'])"
      ],
      "execution_count": null,
      "outputs": []
    },
    {
      "cell_type": "code",
      "metadata": {
        "colab": {
          "base_uri": "https://localhost:8080/"
        },
        "id": "bZTPzn4ODtAC",
        "outputId": "302a9bd3-7b5a-4017-bc72-da9bf7793c06"
      },
      "source": [
        "Fmnist_Relu_DNN.summary() #첫번째 층에 param이 없는 이유는 그냥 평평하게 펼쳐준거기 때문\n",
        "# 파라미터가 많아서 학습속도가 생각보다 느리다"
      ],
      "execution_count": null,
      "outputs": [
        {
          "output_type": "stream",
          "text": [
            "Model: \"sequential\"\n",
            "_________________________________________________________________\n",
            "Layer (type)                 Output Shape              Param #   \n",
            "=================================================================\n",
            "flatten (Flatten)            (None, 784)               0         \n",
            "_________________________________________________________________\n",
            "dense (Dense)                (None, 128)               100480    \n",
            "_________________________________________________________________\n",
            "dense_1 (Dense)              (None, 64)                8256      \n",
            "_________________________________________________________________\n",
            "dense_2 (Dense)              (None, 32)                2080      \n",
            "_________________________________________________________________\n",
            "dense_3 (Dense)              (None, 10)                330       \n",
            "=================================================================\n",
            "Total params: 111,146\n",
            "Trainable params: 111,146\n",
            "Non-trainable params: 0\n",
            "_________________________________________________________________\n"
          ],
          "name": "stdout"
        }
      ]
    },
    {
      "cell_type": "code",
      "metadata": {
        "colab": {
          "base_uri": "https://localhost:8080/"
        },
        "id": "-LSWFs1hE2k9",
        "outputId": "3c62e825-9248-492b-fa97-f655571b9918"
      },
      "source": [
        "history = Fmnist_Relu_DNN.fit(train_X_norm, train_Y, epochs = 50, validation_split=0.2,\n",
        "                              batch_size = 32, \n",
        "                              callbacks=[tf.keras.callbacks.EarlyStopping(patience=5)])"
      ],
      "execution_count": null,
      "outputs": [
        {
          "output_type": "stream",
          "text": [
            "Epoch 1/50\n",
            "1500/1500 [==============================] - 3s 2ms/step - loss: 0.5281 - accuracy: 0.8119 - val_loss: 0.4608 - val_accuracy: 0.8325\n",
            "Epoch 2/50\n",
            "1500/1500 [==============================] - 3s 2ms/step - loss: 0.3856 - accuracy: 0.8591 - val_loss: 0.3633 - val_accuracy: 0.8667\n",
            "Epoch 3/50\n",
            "1500/1500 [==============================] - 3s 2ms/step - loss: 0.3460 - accuracy: 0.8728 - val_loss: 0.3635 - val_accuracy: 0.8660\n",
            "Epoch 4/50\n",
            "1500/1500 [==============================] - 3s 2ms/step - loss: 0.3236 - accuracy: 0.8811 - val_loss: 0.3630 - val_accuracy: 0.8737\n",
            "Epoch 5/50\n",
            "1500/1500 [==============================] - 3s 2ms/step - loss: 0.3025 - accuracy: 0.8878 - val_loss: 0.3388 - val_accuracy: 0.8781\n",
            "Epoch 6/50\n",
            "1500/1500 [==============================] - 3s 2ms/step - loss: 0.2860 - accuracy: 0.8940 - val_loss: 0.3556 - val_accuracy: 0.8705\n",
            "Epoch 7/50\n",
            "1500/1500 [==============================] - 3s 2ms/step - loss: 0.2745 - accuracy: 0.8969 - val_loss: 0.3298 - val_accuracy: 0.8836\n",
            "Epoch 8/50\n",
            "1500/1500 [==============================] - 3s 2ms/step - loss: 0.2630 - accuracy: 0.9013 - val_loss: 0.3456 - val_accuracy: 0.8813\n",
            "Epoch 9/50\n",
            "1500/1500 [==============================] - 3s 2ms/step - loss: 0.2559 - accuracy: 0.9045 - val_loss: 0.3256 - val_accuracy: 0.8832\n",
            "Epoch 10/50\n",
            "1500/1500 [==============================] - 3s 2ms/step - loss: 0.2471 - accuracy: 0.9079 - val_loss: 0.3242 - val_accuracy: 0.8807\n",
            "Epoch 11/50\n",
            "1500/1500 [==============================] - 3s 2ms/step - loss: 0.2389 - accuracy: 0.9107 - val_loss: 0.3266 - val_accuracy: 0.8867\n",
            "Epoch 12/50\n",
            "1500/1500 [==============================] - 3s 2ms/step - loss: 0.2310 - accuracy: 0.9130 - val_loss: 0.3295 - val_accuracy: 0.8867\n",
            "Epoch 13/50\n",
            "1500/1500 [==============================] - 3s 2ms/step - loss: 0.2245 - accuracy: 0.9166 - val_loss: 0.3260 - val_accuracy: 0.8884\n",
            "Epoch 14/50\n",
            "1500/1500 [==============================] - 2s 2ms/step - loss: 0.2174 - accuracy: 0.9193 - val_loss: 0.3217 - val_accuracy: 0.8918\n",
            "Epoch 15/50\n",
            "1500/1500 [==============================] - 2s 2ms/step - loss: 0.2113 - accuracy: 0.9206 - val_loss: 0.3371 - val_accuracy: 0.8878\n",
            "Epoch 16/50\n",
            "1500/1500 [==============================] - 3s 2ms/step - loss: 0.2064 - accuracy: 0.9226 - val_loss: 0.3518 - val_accuracy: 0.8840\n",
            "Epoch 17/50\n",
            "1500/1500 [==============================] - 2s 2ms/step - loss: 0.2006 - accuracy: 0.9247 - val_loss: 0.3357 - val_accuracy: 0.8885\n",
            "Epoch 18/50\n",
            "1500/1500 [==============================] - 2s 2ms/step - loss: 0.1960 - accuracy: 0.9255 - val_loss: 0.3367 - val_accuracy: 0.8911\n",
            "Epoch 19/50\n",
            "1500/1500 [==============================] - 3s 2ms/step - loss: 0.1913 - accuracy: 0.9269 - val_loss: 0.3356 - val_accuracy: 0.8862\n"
          ],
          "name": "stdout"
        }
      ]
    },
    {
      "cell_type": "code",
      "metadata": {
        "id": "hsXF6VxEGVSg",
        "colab": {
          "base_uri": "https://localhost:8080/",
          "height": 315
        },
        "outputId": "1df78825-0e7b-4f9c-f529-fc36b57dedea"
      },
      "source": [
        "val_accuracy = history.history['val_accuracy']\n",
        "accuracy = history.history['accuracy']\n",
        "\n",
        "val_loss = history.history['val_loss']\n",
        "loss     = history.history['loss']\n",
        "\n",
        "plt.figure(figsize=(12,4))\n",
        "plt.subplot(1, 2, 1)\n",
        "plt.plot(history.history['loss'], 'b-', label = 'Train Loss')\n",
        "plt.plot(history.history['val_loss'], 'r--', label = 'Val Loss')\n",
        "plt.xlabel('Epochs')\n",
        "plt.title(\"Train Loss : {:.3f}\\nVal Loss : {:.3f}\".\\\n",
        "          format(loss[-1], val_loss[-1]), fontsize = 15)\n",
        "\n",
        "plt.grid()\n",
        "plt.legend()\n",
        "\n",
        "plt.subplot(1, 2, 2)\n",
        "plt.plot(history.history['accuracy'], 'b-', label = 'Train Accuracy')\n",
        "plt.plot(history.history['val_accuracy'], 'r--', label = 'Val Accuracy')\n",
        "plt.xlabel('Epochs')\n",
        "plt.title(\"Train Acc : {:.3f}\\nVal Acc : {:.3f}\".\\\n",
        "          format(accuracy[-1], val_accuracy[-1]), fontsize = 15)\n",
        "\n",
        "plt.grid()\n",
        "plt.legend()\n",
        "\n",
        "plt.show()"
      ],
      "execution_count": null,
      "outputs": [
        {
          "output_type": "display_data",
          "data": {
            "image/png": "[encoded data removed]",
            "text/plain": [
              "<Figure size 864x288 with 2 Axes>"
            ]
          },
          "metadata": {
            "tags": [],
            "needs_background": "light"
          }
        }
      ]
    },
    {
      "cell_type": "markdown",
      "metadata": {
        "id": "lX_9JKupFvV-"
      },
      "source": [
        "# 배치 정규화 "
      ]
    },
    {
      "cell_type": "code",
      "metadata": {
        "colab": {
          "base_uri": "https://localhost:8080/"
        },
        "id": "5J6yxf6TDH3U",
        "outputId": "fbc8da09-8d5c-4071-e871-cab605073d9b"
      },
      "source": [
        "pred_Y = Fmnist_Relu_DNN.predict(test_X[[25]])\n",
        "print(\"pred_Y : \", pred_Y)"
      ],
      "execution_count": null,
      "outputs": [
        {
          "output_type": "stream",
          "text": [
            "pred_Y :  [[0. 0. 0. 0. 1. 0. 0. 0. 0. 0.]]\n"
          ],
          "name": "stdout"
        }
      ]
    },
    {
      "cell_type": "code",
      "metadata": {
        "colab": {
          "base_uri": "https://localhost:8080/"
        },
        "id": "olD_CUesGLsv",
        "outputId": "d39c9bb5-91ad-408a-aeaa-6bc8059ea697"
      },
      "source": [
        "pred_Y_round = np.round(pred_Y,3)\n",
        "print(pred_Y_round)"
      ],
      "execution_count": null,
      "outputs": [
        {
          "output_type": "stream",
          "text": [
            "[[0. 0. 0. 0. 1. 0. 0. 0. 0. 0.]]\n"
          ],
          "name": "stdout"
        }
      ]
    },
    {
      "cell_type": "code",
      "metadata": {
        "colab": {
          "base_uri": "https://localhost:8080/",
          "height": 335
        },
        "id": "ZWDc6AcqGLu2",
        "outputId": "9087a8da-f9a1-468a-9884-2c11f6040824"
      },
      "source": [
        "plt.imshow(test_X[25], cmap='pink')\n",
        "plt.show()\n",
        "\n",
        "pred_Y_argmax = np.argmax(pred_Y_round)\n",
        "correct = np.equal(pred_Y_argmax, test_Y[25])\n",
        "\n",
        "print(\"Probability Distribution : \\n {}\".format(pred_Y_round))\n",
        "print(\"\\nPred_Y : {}, Test_Y : {} → Correct {}\".format(pred_Y_argmax, test_Y[25], correct))"
      ],
      "execution_count": null,
      "outputs": [
        {
          "output_type": "display_data",
          "data": {
            "image/png": "[encoded data removed]",
            "text/plain": [
              "<Figure size 432x288 with 1 Axes>"
            ]
          },
          "metadata": {
            "tags": [],
            "needs_background": "light"
          }
        },
        {
          "output_type": "stream",
          "text": [
            "Probability Distribution : \n",
            " [[0. 0. 0. 0. 1. 0. 0. 0. 0. 0.]]\n",
            "\n",
            "Pred_Y : 4, Test_Y : 4 → Correct True\n"
          ],
          "name": "stdout"
        }
      ]
    },
    {
      "cell_type": "markdown",
      "metadata": {
        "id": "6JFvB5X4HUb4"
      },
      "source": [
        "# 실습 코드 입니다."
      ]
    },
    {
      "cell_type": "code",
      "metadata": {
        "colab": {
          "base_uri": "https://localhost:8080/"
        },
        "id": "M6oPWFFMGLwq",
        "outputId": "95100e6a-fe3e-4941-98f3-787ff7afde10"
      },
      "source": [
        "pred_Y = Fmnist_Relu_DNN.predict(test_X)\n",
        "pred_Y = np.round(pred_Y,3)\n",
        "\n",
        "pred_Y_argmax = np.argmax(pred_Y,axis = 1)\n",
        "print(pred_Y_argmax[:10])"
      ],
      "execution_count": null,
      "outputs": [
        {
          "output_type": "stream",
          "text": [
            "[9 2 1 1 6 1 4 6 5 7]\n"
          ],
          "name": "stdout"
        }
      ]
    },
    {
      "cell_type": "code",
      "metadata": {
        "colab": {
          "base_uri": "https://localhost:8080/",
          "height": 591
        },
        "id": "C_y72EYWGLyu",
        "outputId": "77379657-bfb1-4381-a03b-7bbed2beb539"
      },
      "source": [
        "plt.figure(figsize = (10,10))\n",
        "\n",
        "for i in range(9):\n",
        "    plt.subplot(3,3,i+1)\n",
        "    \n",
        "    i = np.random.choice(range(0,10000))\n",
        "\n",
        "    plt.title('Y label - {} / Y Predict {} : {} % '.format(test_Y[i], pred_Y_argmax[i], np.round(np.max(pred_Y[:][i]) * 100,3) ))\n",
        "    plt.axis('off')\n",
        "    plt.imshow(train_X[i],cmap='pink')\n",
        "\n",
        "plt.show()"
      ],
      "execution_count": null,
      "outputs": [
        {
          "output_type": "display_data",
          "data": {
            "image/png": "[encoded data removed]",
            "text/plain": [
              "<Figure size 720x720 with 9 Axes>"
            ]
          },
          "metadata": {
            "tags": [],
            "needs_background": "light"
          }
        }
      ]
    },
    {
      "cell_type": "markdown",
      "metadata": {
        "id": "u3_3YDQ3MsaU"
      },
      "source": [
        "# 4. 머신러닝"
      ]
    },
    {
      "cell_type": "code",
      "metadata": {
        "colab": {
          "base_uri": "https://localhost:8080/"
        },
        "id": "_dTvxd0tMteu",
        "outputId": "6640c39b-786e-4fe2-c6a4-78512709a783"
      },
      "source": [
        "from sklearn.datasets import load_wine\n",
        "\n",
        "# 데이터 로드\n",
        "wine = load_wine()\n",
        "wine"
      ],
      "execution_count": null,
      "outputs": [
        {
          "output_type": "execute_result",
          "data": {
            "text/plain": [
              "{'DESCR': '.. _wine_dataset:\\n\\nWine recognition dataset\\n------------------------\\n\\n**Data Set Characteristics:**\\n\\n    :Number of Instances: 178 (50 in each of three classes)\\n    :Number of Attributes: 13 numeric, predictive attributes and the class\\n    :Attribute Information:\\n \\t\\t- Alcohol\\n \\t\\t- Malic acid\\n \\t\\t- Ash\\n\\t\\t- Alcalinity of ash  \\n \\t\\t- Magnesium\\n\\t\\t- Total phenols\\n \\t\\t- Flavanoids\\n \\t\\t- Nonflavanoid phenols\\n \\t\\t- Proanthocyanins\\n\\t\\t- Color intensity\\n \\t\\t- Hue\\n \\t\\t- OD280/OD315 of diluted wines\\n \\t\\t- Proline\\n\\n    - class:\\n            - class_0\\n            - class_1\\n            - class_2\\n\\t\\t\\n    :Summary Statistics:\\n    \\n    ============================= ==== ===== ======= =====\\n                                   Min   Max   Mean     SD\\n    ============================= ==== ===== ======= =====\\n    Alcohol:                      11.0  14.8    13.0   0.8\\n    Malic Acid:                   0.74  5.80    2.34  1.12\\n    Ash:                          1.36  3.23    2.36  0.27\\n    Alcalinity of Ash:            10.6  30.0    19.5   3.3\\n    Magnesium:                    70.0 162.0    99.7  14.3\\n    Total Phenols:                0.98  3.88    2.29  0.63\\n    Flavanoids:                   0.34  5.08    2.03  1.00\\n    Nonflavanoid Phenols:         0.13  0.66    0.36  0.12\\n    Proanthocyanins:              0.41  3.58    1.59  0.57\\n    Colour Intensity:              1.3  13.0     5.1   2.3\\n    Hue:                          0.48  1.71    0.96  0.23\\n    OD280/OD315 of diluted wines: 1.27  4.00    2.61  0.71\\n    Proline:                       278  1680     746   315\\n    ============================= ==== ===== ======= =====\\n\\n    :Missing Attribute Values: None\\n    :Class Distribution: class_0 (59), class_1 (71), class_2 (48)\\n    :Creator: R.A. Fisher\\n    :Donor: Michael Marshall (MARSHALL%PLU@io.arc.nasa.gov)\\n    :Date: July, 1988\\n\\nThis is a copy of UCI ML Wine recognition datasets.\\nhttps://archive.ics.uci.edu/ml/machine-learning-databases/wine/wine.data\\n\\nThe data is the results of a chemical analysis of wines grown in the same\\nregion in Italy by three different cultivators. There are thirteen different\\nmeasurements taken for different constituents found in the three types of\\nwine.\\n\\nOriginal Owners: \\n\\nForina, M. et al, PARVUS - \\nAn Extendible Package for Data Exploration, Classification and Correlation. \\nInstitute of Pharmaceutical and Food Analysis and Technologies,\\nVia Brigata Salerno, 16147 Genoa, Italy.\\n\\nCitation:\\n\\nLichman, M. (2013). UCI Machine Learning Repository\\n[https://archive.ics.uci.edu/ml]. Irvine, CA: University of California,\\nSchool of Information and Computer Science. \\n\\n.. topic:: References\\n\\n  (1) S. Aeberhard, D. Coomans and O. de Vel, \\n  Comparison of Classifiers in High Dimensional Settings, \\n  Tech. Rep. no. 92-02, (1992), Dept. of Computer Science and Dept. of  \\n  Mathematics and Statistics, James Cook University of North Queensland. \\n  (Also submitted to Technometrics). \\n\\n  The data was used with many others for comparing various \\n  classifiers. The classes are separable, though only RDA \\n  has achieved 100% correct classification. \\n  (RDA : 100%, QDA 99.4%, LDA 98.9%, 1NN 96.1% (z-transformed data)) \\n  (All results using the leave-one-out technique) \\n\\n  (2) S. Aeberhard, D. Coomans and O. de Vel, \\n  \"THE CLASSIFICATION PERFORMANCE OF RDA\" \\n  Tech. Rep. no. 92-01, (1992), Dept. of Computer Science and Dept. of \\n  Mathematics and Statistics, James Cook University of North Queensland. \\n  (Also submitted to Journal of Chemometrics).\\n',\n",
              " 'data': array([[1.423e+01, 1.710e+00, 2.430e+00, ..., 1.040e+00, 3.920e+00,\n",
              "         1.065e+03],\n",
              "        [1.320e+01, 1.780e+00, 2.140e+00, ..., 1.050e+00, 3.400e+00,\n",
              "         1.050e+03],\n",
              "        [1.316e+01, 2.360e+00, 2.670e+00, ..., 1.030e+00, 3.170e+00,\n",
              "         1.185e+03],\n",
              "        ...,\n",
              "        [1.327e+01, 4.280e+00, 2.260e+00, ..., 5.900e-01, 1.560e+00,\n",
              "         8.350e+02],\n",
              "        [1.317e+01, 2.590e+00, 2.370e+00, ..., 6.000e-01, 1.620e+00,\n",
              "         8.400e+02],\n",
              "        [1.413e+01, 4.100e+00, 2.740e+00, ..., 6.100e-01, 1.600e+00,\n",
              "         5.600e+02]]),\n",
              " 'feature_names': ['alcohol',\n",
              "  'malic_acid',\n",
              "  'ash',\n",
              "  'alcalinity_of_ash',\n",
              "  'magnesium',\n",
              "  'total_phenols',\n",
              "  'flavanoids',\n",
              "  'nonflavanoid_phenols',\n",
              "  'proanthocyanins',\n",
              "  'color_intensity',\n",
              "  'hue',\n",
              "  'od280/od315_of_diluted_wines',\n",
              "  'proline'],\n",
              " 'target': array([0, 0, 0, 0, 0, 0, 0, 0, 0, 0, 0, 0, 0, 0, 0, 0, 0, 0, 0, 0, 0, 0,\n",
              "        0, 0, 0, 0, 0, 0, 0, 0, 0, 0, 0, 0, 0, 0, 0, 0, 0, 0, 0, 0, 0, 0,\n",
              "        0, 0, 0, 0, 0, 0, 0, 0, 0, 0, 0, 0, 0, 0, 0, 1, 1, 1, 1, 1, 1, 1,\n",
              "        1, 1, 1, 1, 1, 1, 1, 1, 1, 1, 1, 1, 1, 1, 1, 1, 1, 1, 1, 1, 1, 1,\n",
              "        1, 1, 1, 1, 1, 1, 1, 1, 1, 1, 1, 1, 1, 1, 1, 1, 1, 1, 1, 1, 1, 1,\n",
              "        1, 1, 1, 1, 1, 1, 1, 1, 1, 1, 1, 1, 1, 1, 1, 1, 1, 1, 1, 1, 2, 2,\n",
              "        2, 2, 2, 2, 2, 2, 2, 2, 2, 2, 2, 2, 2, 2, 2, 2, 2, 2, 2, 2, 2, 2,\n",
              "        2, 2, 2, 2, 2, 2, 2, 2, 2, 2, 2, 2, 2, 2, 2, 2, 2, 2, 2, 2, 2, 2,\n",
              "        2, 2]),\n",
              " 'target_names': array(['class_0', 'class_1', 'class_2'], dtype='<U7')}"
            ]
          },
          "metadata": {
            "tags": []
          },
          "execution_count": 22
        }
      ]
    },
    {
      "cell_type": "code",
      "metadata": {
        "colab": {
          "base_uri": "https://localhost:8080/"
        },
        "id": "eH4e1QXaMtc9",
        "outputId": "1e77edec-1e60-4f0a-f92f-33ac13b7215c"
      },
      "source": [
        "# 훈련(학습)셋 및 테스트(평가)셋 분리\n",
        "from sklearn.model_selection import train_test_split\n",
        "X = wine.data\n",
        "y = wine.target\n",
        "X_train, X_test, y_train, y_test = train_test_split(X, y, random_state=0)\n",
        "X_train.shape"
      ],
      "execution_count": null,
      "outputs": [
        {
          "output_type": "execute_result",
          "data": {
            "text/plain": [
              "(133, 13)"
            ]
          },
          "metadata": {
            "tags": []
          },
          "execution_count": 103
        }
      ]
    },
    {
      "cell_type": "code",
      "metadata": {
        "colab": {
          "base_uri": "https://localhost:8080/"
        },
        "id": "YORAHsZXMtbB",
        "outputId": "800babe0-580b-4289-d701-225c065ae72f"
      },
      "source": [
        "# 모델학습\n",
        "from sklearn.svm import LinearSVC\n",
        "\n",
        "model = LinearSVC(C=1, max_iter=10000).fit(X_train, y_train)"
      ],
      "execution_count": null,
      "outputs": [
        {
          "output_type": "stream",
          "text": [
            "/usr/local/lib/python3.7/dist-packages/sklearn/svm/_base.py:947: ConvergenceWarning: Liblinear failed to converge, increase the number of iterations.\n",
            "  \"the number of iterations.\", ConvergenceWarning)\n"
          ],
          "name": "stderr"
        }
      ]
    },
    {
      "cell_type": "code",
      "metadata": {
        "colab": {
          "base_uri": "https://localhost:8080/"
        },
        "id": "ERsx51g3GL07",
        "outputId": "142a37fb-7bd8-4e4b-a53c-dbb0b000b8db"
      },
      "source": [
        "# 스코어 확인\n",
        "model.score(X_train, y_train), model.score(X_test,y_test)"
      ],
      "execution_count": null,
      "outputs": [
        {
          "output_type": "execute_result",
          "data": {
            "text/plain": [
              "(0.7293233082706767, 0.6888888888888889)"
            ]
          },
          "metadata": {
            "tags": []
          },
          "execution_count": 105
        }
      ]
    },
    {
      "cell_type": "code",
      "metadata": {
        "colab": {
          "base_uri": "https://localhost:8080/"
        },
        "id": "kEvpifQFMsMs",
        "outputId": "f2c49167-2cb6-4dfe-afa9-98806d99d246"
      },
      "source": [
        "# 예측\n",
        "y_pred = model.predict(X_test )\n",
        "y_pred"
      ],
      "execution_count": null,
      "outputs": [
        {
          "output_type": "execute_result",
          "data": {
            "text/plain": [
              "array([1, 2, 1, 1, 1, 1, 1, 2, 1, 1, 2, 2, 0, 1, 2, 1, 1, 0, 1, 1, 1, 1,\n",
              "       1, 1, 1, 1, 1, 1, 1, 2, 1, 1, 1, 1, 1, 1, 2, 1, 1, 2, 1, 1, 1, 1,\n",
              "       1])"
            ]
          },
          "metadata": {
            "tags": []
          },
          "execution_count": 106
        }
      ]
    },
    {
      "cell_type": "markdown",
      "metadata": {
        "id": "H7V6AGs3GZTn"
      },
      "source": [
        "#### Linear SVC 실습 02\n",
        "\n",
        "붓꽃 데이터 분류"
      ]
    },
    {
      "cell_type": "code",
      "metadata": {
        "id": "Tmo-M-5xNCwN"
      },
      "source": [
        "# 데이터 로드\n",
        "from sklearn.datasets import load_iris\n",
        "iris_dataset = load_iris()"
      ],
      "execution_count": null,
      "outputs": []
    },
    {
      "cell_type": "code",
      "metadata": {
        "colab": {
          "base_uri": "https://localhost:8080/"
        },
        "id": "N3qkuityNCt7",
        "outputId": "28614e3c-eca9-40bd-b04b-5c06c96d1a56"
      },
      "source": [
        "# 훈련셋 및 테스트셋 분리\n",
        "from sklearn.model_selection import train_test_split\n",
        "X = iris_dataset.data\n",
        "y = iris_dataset.target\n",
        "X_train, X_test, y_train, y_test = train_test_split(X, y, random_state=42)\n",
        "X_train.shape"
      ],
      "execution_count": null,
      "outputs": [
        {
          "output_type": "execute_result",
          "data": {
            "text/plain": [
              "(112, 4)"
            ]
          },
          "metadata": {
            "tags": []
          },
          "execution_count": 133
        }
      ]
    },
    {
      "cell_type": "code",
      "metadata": {
        "colab": {
          "base_uri": "https://localhost:8080/"
        },
        "id": "JV-Hn0ZsPJbj",
        "outputId": "1c9edaf3-66c9-444e-ffaf-5fc1bb9fc0c8"
      },
      "source": [
        "# 모델학습\n",
        "from sklearn.svm import LinearSVC\n",
        "model = LinearSVC(C=100, max_iter=100000, random_state=42).fit(X_train, y_train)"
      ],
      "execution_count": null,
      "outputs": [
        {
          "output_type": "stream",
          "text": [
            "/usr/local/lib/python3.7/dist-packages/sklearn/svm/_base.py:947: ConvergenceWarning: Liblinear failed to converge, increase the number of iterations.\n",
            "  \"the number of iterations.\", ConvergenceWarning)\n"
          ],
          "name": "stderr"
        }
      ]
    },
    {
      "cell_type": "code",
      "metadata": {
        "colab": {
          "base_uri": "https://localhost:8080/"
        },
        "id": "XFlCPVAhPJdd",
        "outputId": "349f48e9-bc13-4e7a-bc00-9208c5c7e399"
      },
      "source": [
        "# 스코어 확인\n",
        "model.score(X_train, y_train), model.score(X_test, y_test)"
      ],
      "execution_count": null,
      "outputs": [
        {
          "output_type": "execute_result",
          "data": {
            "text/plain": [
              "(0.9553571428571429, 1.0)"
            ]
          },
          "metadata": {
            "tags": []
          },
          "execution_count": 135
        }
      ]
    },
    {
      "cell_type": "code",
      "metadata": {
        "colab": {
          "base_uri": "https://localhost:8080/"
        },
        "id": "5Q6_NanHPJf3",
        "outputId": "f7eef492-b40e-49ef-c2da-9cfd65910cbc"
      },
      "source": [
        "# 예측\n",
        "y_pred = model.predict(X_test)\n",
        "y_pred"
      ],
      "execution_count": null,
      "outputs": [
        {
          "output_type": "execute_result",
          "data": {
            "text/plain": [
              "array([1, 0, 2, 1, 1, 0, 1, 2, 1, 1, 2, 0, 0, 0, 0, 1, 2, 1, 1, 2, 0, 2,\n",
              "       0, 2, 2, 2, 2, 2, 0, 0, 0, 0, 1, 0, 0, 2, 1, 0])"
            ]
          },
          "metadata": {
            "tags": []
          },
          "execution_count": 136
        }
      ]
    },
    {
      "cell_type": "markdown",
      "metadata": {
        "id": "6Bhvx9b_d32-"
      },
      "source": [
        "## Linear SVC와 Logistic Regression의 장단점\n",
        "\n",
        "- 선형 모델의 주요 매개변수는 회귀 모델에서는 alpha였고 LinearSVC와 LogisticRegression에서는 C\n",
        "- alpha 값이 클수록, C 값이 작을수록 모델이 단순해짐\n",
        "- 회귀 모델에서 이 매개변수를 조정하는 일이 매우 중요\n",
        "\n",
        "- L1 규제를 사용할지 L2 규제를 사용할지를 정해야 함\n",
        "- 중요한 특성이 많지 않다고 생각하면 L1 규제를 사용하고 그렇지 않으면 기본적으로 L2 규제를 사용\n",
        "\n",
        "- 선형 모델은 학습 속도가 빠르고 예측도 빠름\n",
        "- 매우 큰 데이터셋과 희소한 데이터셋에도 잘 작동\n",
        "- 수십만에서 수백만 개의 샘플로 이뤄진 대용량 데이터셋이라면 기본 설정보다 빨리 처리하도록 LogisticRegression과 Ridge에 solver=’sag’ 옵션을 줌\n",
        "\n",
        "- 선형 모델은 샘플에 비해 특성이 많을 때 잘 작동\n",
        "- 다른 모델로 학습하기 어려운 매우 큰 데이터셋에도 선형 모델을 많이 사용"
      ]
    },
    {
      "cell_type": "code",
      "metadata": {
        "colab": {
          "base_uri": "https://localhost:8080/"
        },
        "id": "RK1HDwtsR7j2",
        "outputId": "a29d5073-3a31-46da-a6fd-4504b72c112c"
      },
      "source": [
        "!pip install mglearn"
      ],
      "execution_count": null,
      "outputs": [
        {
          "output_type": "stream",
          "text": [
            "Collecting mglearn\n",
            "  Downloading mglearn-0.1.9.tar.gz (540 kB)\n",
            "\u001b[?25l\r\u001b[K     |▋                               | 10 kB 23.0 MB/s eta 0:00:01\r\u001b[K     |█▏                              | 20 kB 29.3 MB/s eta 0:00:01\r\u001b[K     |█▉                              | 30 kB 23.1 MB/s eta 0:00:01\r\u001b[K     |██▍                             | 40 kB 19.1 MB/s eta 0:00:01\r\u001b[K     |███                             | 51 kB 9.3 MB/s eta 0:00:01\r\u001b[K     |███▋                            | 61 kB 7.8 MB/s eta 0:00:01\r\u001b[K     |████▎                           | 71 kB 8.5 MB/s eta 0:00:01\r\u001b[K     |████▉                           | 81 kB 9.5 MB/s eta 0:00:01\r\u001b[K     |█████▌                          | 92 kB 10.3 MB/s eta 0:00:01\r\u001b[K     |██████                          | 102 kB 8.5 MB/s eta 0:00:01\r\u001b[K     |██████▊                         | 112 kB 8.5 MB/s eta 0:00:01\r\u001b[K     |███████▎                        | 122 kB 8.5 MB/s eta 0:00:01\r\u001b[K     |███████▉                        | 133 kB 8.5 MB/s eta 0:00:01\r\u001b[K     |████████▌                       | 143 kB 8.5 MB/s eta 0:00:01\r\u001b[K     |█████████                       | 153 kB 8.5 MB/s eta 0:00:01\r\u001b[K     |█████████▊                      | 163 kB 8.5 MB/s eta 0:00:01\r\u001b[K     |██████████▎                     | 174 kB 8.5 MB/s eta 0:00:01\r\u001b[K     |███████████                     | 184 kB 8.5 MB/s eta 0:00:01\r\u001b[K     |███████████▌                    | 194 kB 8.5 MB/s eta 0:00:01\r\u001b[K     |████████████▏                   | 204 kB 8.5 MB/s eta 0:00:01\r\u001b[K     |████████████▊                   | 215 kB 8.5 MB/s eta 0:00:01\r\u001b[K     |█████████████▍                  | 225 kB 8.5 MB/s eta 0:00:01\r\u001b[K     |██████████████                  | 235 kB 8.5 MB/s eta 0:00:01\r\u001b[K     |██████████████▋                 | 245 kB 8.5 MB/s eta 0:00:01\r\u001b[K     |███████████████▏                | 256 kB 8.5 MB/s eta 0:00:01\r\u001b[K     |███████████████▊                | 266 kB 8.5 MB/s eta 0:00:01\r\u001b[K     |████████████████▍               | 276 kB 8.5 MB/s eta 0:00:01\r\u001b[K     |█████████████████               | 286 kB 8.5 MB/s eta 0:00:01\r\u001b[K     |█████████████████▋              | 296 kB 8.5 MB/s eta 0:00:01\r\u001b[K     |██████████████████▏             | 307 kB 8.5 MB/s eta 0:00:01\r\u001b[K     |██████████████████▉             | 317 kB 8.5 MB/s eta 0:00:01\r\u001b[K     |███████████████████▍            | 327 kB 8.5 MB/s eta 0:00:01\r\u001b[K     |████████████████████            | 337 kB 8.5 MB/s eta 0:00:01\r\u001b[K     |████████████████████▋           | 348 kB 8.5 MB/s eta 0:00:01\r\u001b[K     |█████████████████████▎          | 358 kB 8.5 MB/s eta 0:00:01\r\u001b[K     |█████████████████████▉          | 368 kB 8.5 MB/s eta 0:00:01\r\u001b[K     |██████████████████████▌         | 378 kB 8.5 MB/s eta 0:00:01\r\u001b[K     |███████████████████████         | 389 kB 8.5 MB/s eta 0:00:01\r\u001b[K     |███████████████████████▋        | 399 kB 8.5 MB/s eta 0:00:01\r\u001b[K     |████████████████████████▎       | 409 kB 8.5 MB/s eta 0:00:01\r\u001b[K     |████████████████████████▉       | 419 kB 8.5 MB/s eta 0:00:01\r\u001b[K     |█████████████████████████▌      | 430 kB 8.5 MB/s eta 0:00:01\r\u001b[K     |██████████████████████████      | 440 kB 8.5 MB/s eta 0:00:01\r\u001b[K     |██████████████████████████▊     | 450 kB 8.5 MB/s eta 0:00:01\r\u001b[K     |███████████████████████████▎    | 460 kB 8.5 MB/s eta 0:00:01\r\u001b[K     |████████████████████████████    | 471 kB 8.5 MB/s eta 0:00:01\r\u001b[K     |████████████████████████████▌   | 481 kB 8.5 MB/s eta 0:00:01\r\u001b[K     |█████████████████████████████▏  | 491 kB 8.5 MB/s eta 0:00:01\r\u001b[K     |█████████████████████████████▊  | 501 kB 8.5 MB/s eta 0:00:01\r\u001b[K     |██████████████████████████████▍ | 512 kB 8.5 MB/s eta 0:00:01\r\u001b[K     |███████████████████████████████ | 522 kB 8.5 MB/s eta 0:00:01\r\u001b[K     |███████████████████████████████▌| 532 kB 8.5 MB/s eta 0:00:01\r\u001b[K     |████████████████████████████████| 540 kB 8.5 MB/s \n",
            "\u001b[?25hRequirement already satisfied: numpy in /usr/local/lib/python3.7/dist-packages (from mglearn) (1.19.5)\n",
            "Requirement already satisfied: matplotlib in /usr/local/lib/python3.7/dist-packages (from mglearn) (3.2.2)\n",
            "Requirement already satisfied: scikit-learn in /usr/local/lib/python3.7/dist-packages (from mglearn) (0.22.2.post1)\n",
            "Requirement already satisfied: pandas in /usr/local/lib/python3.7/dist-packages (from mglearn) (1.1.5)\n",
            "Requirement already satisfied: pillow in /usr/local/lib/python3.7/dist-packages (from mglearn) (7.1.2)\n",
            "Requirement already satisfied: cycler in /usr/local/lib/python3.7/dist-packages (from mglearn) (0.10.0)\n",
            "Requirement already satisfied: imageio in /usr/local/lib/python3.7/dist-packages (from mglearn) (2.4.1)\n",
            "Requirement already satisfied: joblib in /usr/local/lib/python3.7/dist-packages (from mglearn) (1.0.1)\n",
            "Requirement already satisfied: six in /usr/local/lib/python3.7/dist-packages (from cycler->mglearn) (1.15.0)\n",
            "Requirement already satisfied: python-dateutil>=2.1 in /usr/local/lib/python3.7/dist-packages (from matplotlib->mglearn) (2.8.1)\n",
            "Requirement already satisfied: kiwisolver>=1.0.1 in /usr/local/lib/python3.7/dist-packages (from matplotlib->mglearn) (1.3.1)\n",
            "Requirement already satisfied: pyparsing!=2.0.4,!=2.1.2,!=2.1.6,>=2.0.1 in /usr/local/lib/python3.7/dist-packages (from matplotlib->mglearn) (2.4.7)\n",
            "Requirement already satisfied: pytz>=2017.2 in /usr/local/lib/python3.7/dist-packages (from pandas->mglearn) (2018.9)\n",
            "Requirement already satisfied: scipy>=0.17.0 in /usr/local/lib/python3.7/dist-packages (from scikit-learn->mglearn) (1.4.1)\n",
            "Building wheels for collected packages: mglearn\n",
            "  Building wheel for mglearn (setup.py) ... \u001b[?25l\u001b[?25hdone\n",
            "  Created wheel for mglearn: filename=mglearn-0.1.9-py2.py3-none-any.whl size=582638 sha256=a44c7f95d7e42a7a6563776222445358960966b9daa545e55a8e11edb4ed001c\n",
            "  Stored in directory: /root/.cache/pip/wheels/f1/17/e1/1720d6dcd70187b6b6c3750cb3508798f2b1d57c9d3214b08b\n",
            "Successfully built mglearn\n",
            "Installing collected packages: mglearn\n",
            "Successfully installed mglearn-0.1.9\n"
          ],
          "name": "stdout"
        }
      ]
    },
    {
      "cell_type": "markdown",
      "metadata": {
        "id": "kMrKj9JVfL1S"
      },
      "source": [
        "# SVM (Support Vector Machines)\n",
        "\n",
        "- 입력 데이터에서 단순한 초평면(hyperplane)으로 정의되지 않는 더 복잡한 모델을 만들 수 있도록 확장한 것 (복잡한 분류문제)\n",
        "\n",
        "- 서포트 벡터 머신을 분류와 회귀에 모두 사용할 수 있음 <br>\n",
        "(선형, 비선형 분류, 회귀, 이상치 탐색에도 사용되는 다목적 머신러닝 모델)"
      ]
    },
    {
      "cell_type": "code",
      "metadata": {
        "id": "Ds4Ujl2yPJiU"
      },
      "source": [
        "# warnig 무시하기\n",
        "from warnings import filterwarnings\n",
        "filterwarnings('ignore')"
      ],
      "execution_count": null,
      "outputs": []
    },
    {
      "cell_type": "code",
      "metadata": {
        "colab": {
          "base_uri": "https://localhost:8080/",
          "height": 265
        },
        "id": "pEdcQHk2R7OT",
        "outputId": "09fa23ad-e49d-472b-afa8-50cd85a16e8d"
      },
      "source": [
        "import mglearn\n",
        "import matplotlib.pyplot as plt\n",
        "from mglearn.datasets import make_blobs\n",
        "\n",
        "# 선형적으로 구분되지 않는 클래스를 가진 이진 분류 세트\n",
        "X, y = make_blobs(centers=4, random_state=8)\n",
        "# 이진 분류 세트 시각화\n",
        "# 클래스 2개로 분리, 이진분류\n",
        "y = y%2  # 홀짝으로 분리하기\n",
        "mglearn.discrete_scatter(X[:,0],X[:,1],y)\n",
        "plt.show()"
      ],
      "execution_count": null,
      "outputs": [
        {
          "output_type": "display_data",
          "data": {
            "image/png": "[encoded data removed]",
            "text/plain": [
              "<Figure size 432x288 with 1 Axes>"
            ]
          },
          "metadata": {
            "tags": [],
            "needs_background": "light"
          }
        }
      ]
    },
    {
      "cell_type": "code",
      "metadata": {
        "colab": {
          "base_uri": "https://localhost:8080/",
          "height": 252
        },
        "id": "eUuBa3_vSPFW",
        "outputId": "2d32e79e-d3d0-4f2c-95d7-90b9a17e2015"
      },
      "source": [
        "# 선형 분류\n",
        "from sklearn.svm import LinearSVC\n",
        "\n",
        "model = LinearSVC().fit(X, y)\n",
        "\n",
        "mglearn.plots.plot_2d_separator(model, X)\n",
        "mglearn.discrete_scatter(X[:,0],X[:,1],y)\n",
        "plt.show()"
      ],
      "execution_count": null,
      "outputs": [
        {
          "output_type": "display_data",
          "data": {
            "image/png": "[encoded data removed]",
            "text/plain": [
              "<Figure size 432x288 with 1 Axes>"
            ]
          },
          "metadata": {
            "tags": []
          }
        }
      ]
    },
    {
      "cell_type": "markdown",
      "metadata": {
        "id": "4uKFfHQOSRNT"
      },
      "source": [
        "- 분류를 위한 선형 모델은 직선으로만 데이터 포인트를 나눌 수 있어서 이런 데이터셋에는 잘 들어 맞지 않음\n",
        "\n",
        "선형 모델과 비선형 특징\n",
        "- 직선과 초평면은 유연하지 못하여 저차원 데이터셋에서는 선형 모델이 매우 제한적\n",
        "- 선형 모델을 유연하게 만드는 한 가지 방법은 특성끼리 곱하거나 특성을 거듭제곱하는 식으로 새로운 특성을 추가하는 것\n",
        "\n",
        "\n",
        "특성을 추가하여 입력 특성을 확장 (2차원 -> 3차원)\n",
        "- 특성1에서 유용한 세 번째 특성을 추가하여 확장한 데이터 세트\n",
        "- (특성0, 특성1) -> (특성0, 특성1, 특성 ** 2)\n",
        "- 3차원 산점도로 표현"
      ]
    },
    {
      "cell_type": "markdown",
      "metadata": {
        "id": "dapTn2j2ScNO"
      },
      "source": [
        "Matplotlib은 mpl_tookits라는 모듈로 3차원 그래프를 그릴 수 있다."
      ]
    },
    {
      "cell_type": "code",
      "metadata": {
        "colab": {
          "base_uri": "https://localhost:8080/",
          "height": 354
        },
        "id": "QZN8mmIqSaaz",
        "outputId": "bfdbc3c9-2d85-41e5-cf83-86442028dc88"
      },
      "source": [
        "from mpl_toolkits.mplot3d import Axes3D, axes3d\n",
        "import numpy as np\n",
        "\n",
        "# 두 번째 특성을 제곱하여 추가\n",
        "X_new =  np.hstack([X, X[:,1:]**2])\n",
        "print(X.shape, X_new.shape)\n",
        "\n",
        "# 3차원 그래프\n",
        "fig=plt.figure()\n",
        "ax = Axes3D(fig, azim=-30, elev=-150)\n",
        "\n",
        "# y == 0인 포인트를 먼저 그리고 그 다음 y == 1인 포인트를 그림\n",
        "mask = y ==0\n",
        "ax.scatter(X_new[mask,0], X_new[mask, 1], X_new[mask,2], c='b')\n",
        "\n",
        "# ~ 비트 NOT : x의 비트를 뒤집음\n",
        "mask = y == 1\n",
        "ax.scatter(X_new[mask, 0], X_new[mask, 1], X_new[mask, 2], c='r', marker='^')\n",
        "plt.xlabel('feature 0')\n",
        "plt.ylabel('feature 1')\n",
        "ax.set_xlabel('feature 1 ** 2')"
      ],
      "execution_count": null,
      "outputs": [
        {
          "output_type": "stream",
          "text": [
            "(100, 2) (100, 3)\n"
          ],
          "name": "stdout"
        },
        {
          "output_type": "execute_result",
          "data": {
            "text/plain": [
              "Text(0.5, 0, 'feature 1 ** 2')"
            ]
          },
          "metadata": {
            "tags": []
          },
          "execution_count": 166
        },
        {
          "output_type": "display_data",
          "data": {
            "image/png": "[encoded data removed]",
            "text/plain": [
              "<Figure size 432x288 with 1 Axes>"
            ]
          },
          "metadata": {
            "tags": [],
            "needs_background": "light"
          }
        }
      ]
    },
    {
      "cell_type": "markdown",
      "metadata": {
        "id": "TXhfxDjpULSM"
      },
      "source": [
        "SVM을 이용하여 분류\n",
        "\n",
        "- 선형 모델과 3차원 공간의 평면을 사용해 두 클래스를 구분\n",
        "- 확장한 3차원 데이터 세트에서 선형 SVM이 만든 결정 경계"
      ]
    },
    {
      "cell_type": "code",
      "metadata": {
        "colab": {
          "base_uri": "https://localhost:8080/",
          "height": 354
        },
        "id": "apxQSX4vUMir",
        "outputId": "c8da5ba4-52ca-46bf-bb5c-611313554f47"
      },
      "source": [
        "model = LinearSVC().fit(X_new, y)\n",
        "w, b = model.coef_.ravel(), model.intercept_\n",
        "\n",
        "# 선형 결정 경계 그리기\n",
        "# 3차원 그래프\n",
        "fig = plt.figure()\n",
        "ax = Axes3D(fig, azim=-30, elev=-150)\n",
        "\n",
        "xx = np.linspace(X_new[:, 0].min(), X_new[:, 0].max(), 50)\n",
        "yy = np.linspace(X_new[:, 1].min(), X_new[:, 1].max(), 50)\n",
        "\n",
        "XX, YY = np.meshgrid(xx, yy)\n",
        "zz = -(w[0] * XX + w[1] * YY + b) / w[2]\n",
        "print(XX.shape, YY.shape, zz.shape)\n",
        "\n",
        "ax.plot_surface(XX, YY, zz)\n",
        "\n",
        "# y == 0인 포인트를 먼저 그리고 그 다음 y == 1인 포인트를 그림\n",
        "mask = y == 0\n",
        "ax.scatter(X_new[mask, 0], X_new[mask, 1], X_new[mask, 2], c='b')\n",
        "# ~ 비트 NOT : x의 비트를 뒤집음\n",
        "ax.scatter(X_new[~mask, 0], X_new[~mask, 1], X_new[~mask, 2], c='r', marker='^')\n",
        "plt.xlabel('feature 0')\n",
        "plt.ylabel('feature 1')\n",
        "ax.set_zlabel('feature 1 ** 2')"
      ],
      "execution_count": null,
      "outputs": [
        {
          "output_type": "stream",
          "text": [
            "(50, 50) (50, 50) (50, 50)\n"
          ],
          "name": "stdout"
        },
        {
          "output_type": "execute_result",
          "data": {
            "text/plain": [
              "Text(0.5, 0, 'feature 1 ** 2')"
            ]
          },
          "metadata": {
            "tags": []
          },
          "execution_count": 170
        },
        {
          "output_type": "display_data",
          "data": {
            "image/png": "[encoded data removed]",
            "text/plain": [
              "<Figure size 432x288 with 1 Axes>"
            ]
          },
          "metadata": {
            "tags": [],
            "needs_background": "light"
          }
        }
      ]
    },
    {
      "cell_type": "code",
      "metadata": {
        "id": "7dMKZANgUNMC"
      },
      "source": [
        "# 분류 결과 시각화\n"
      ],
      "execution_count": null,
      "outputs": []
    },
    {
      "cell_type": "markdown",
      "metadata": {
        "id": "w5Rhy2CMUOMr"
      },
      "source": [
        "- 원래 특성으로 투영해보면 이 선형 SVM 모델은 더 이상 선형이 아님\n",
        "- 직선보다 타원에 가까운 모습을 확인"
      ]
    },
    {
      "cell_type": "markdown",
      "metadata": {
        "id": "eXNiw7z4iA49"
      },
      "source": [
        "## 커널 기법 (Kernel trick)\n",
        "\n",
        "- 데이터셋에 비선형 특성을 추가하여 선형 모델을 강력하게 만들 수 있음\n",
        "\n",
        "- 하지만, 어떤 특성을 추가해야 할지 알 수 없고, 특성을 많이 추가하면 연산 비용이 커짐\n",
        "\n",
        "- 커널 기법 : 새로운 특성을 만들지 않고 고차원 분류기를 학습시킬 수 있음 (데이터 포인트들의 거리를 계산 - 스칼라 곱)\n",
        "\n",
        "- 고차원 공간 맵핑 방법 : 가우시안 커널, RBF (Radial Basis Function) 커널\n",
        "\n",
        "- 주로 RBF 커널이 사용"
      ]
    },
    {
      "cell_type": "markdown",
      "metadata": {
        "id": "-Q8jB_s2i3-X"
      },
      "source": [
        "## SVM\n",
        "\n",
        "- Support Vector : 클래스 사이의 경계에 위치한 데이터 포인트\n",
        "\n",
        "- 새로운 데이터 포인트에 대해 예측하려면 각 서포트 벡터와의 거리를 측정 -> SVC 객체의 dual_coef_ 속성에 저장"
      ]
    },
    {
      "cell_type": "code",
      "metadata": {
        "colab": {
          "base_uri": "https://localhost:8080/",
          "height": 305
        },
        "id": "4WZsaiYKc2rJ",
        "outputId": "7e6962aa-2947-476b-96e9-bb021275d0e8"
      },
      "source": [
        "# RBF 커널을 이용한 SVM으로 만든 결정 경계와 서포트 벡터 시각화\n",
        "from sklearn.svm import SVC\n",
        "\n",
        "X, y = mglearn.datasets.make_forge()\n",
        "mglearn.discrete_scatter(X[:,0], X[:,1], y)\n",
        "\n",
        "model = SVC(C=1, gamma=0.1).fit(X, y)\n",
        "mglearn.plots.plot_2d_separator(model,X)\n",
        "\n",
        "# 서포트 벡터\n",
        "sv = model.support_vectors_\n",
        "print('사용한 서포트 벡터 수:', len(sv))\n",
        "sv_y = model.dual_coef_.ravel() > 0\n",
        "mglearn.discrete_scatter(sv[:,0], sv[:,1],sv_y, s=15)"
      ],
      "execution_count": null,
      "outputs": [
        {
          "output_type": "stream",
          "text": [
            "사용한 서포트 벡터 수: 11\n"
          ],
          "name": "stdout"
        },
        {
          "output_type": "execute_result",
          "data": {
            "text/plain": [
              "[<matplotlib.lines.Line2D at 0x7f566e482610>,\n",
              " <matplotlib.lines.Line2D at 0x7f566e482d90>]"
            ]
          },
          "metadata": {
            "tags": []
          },
          "execution_count": 181
        },
        {
          "output_type": "display_data",
          "data": {
            "image/png": "[encoded data removed]",
            "text/plain": [
              "<Figure size 432x288 with 1 Axes>"
            ]
          },
          "metadata": {
            "tags": []
          }
        }
      ]
    },
    {
      "cell_type": "markdown",
      "metadata": {
        "id": "g8XKp7ksC6mH"
      },
      "source": [
        "- 선형이 아닌 부드러운 비선형 경계를 만들어냄\n",
        "- C와 gamma 두 매개변수를 사용"
      ]
    },
    {
      "cell_type": "markdown",
      "metadata": {
        "id": "xMqpyPngjbN-"
      },
      "source": [
        "#### SVM의 튜닝 (C, gamma)\n",
        "\n",
        "- gamma 매개변수는 가우시안 커널 폭의 역수에 해당\n",
        " - gamma 매개변수가 하나의 훈련 샘플이 미치는 영향의 범위를 결정\n",
        " - 가우시안 커널의 반경이 클수록 훈련 샘플의 영향 범위도 커짐\n",
        "\n",
        "- C 매개변수는 선형 모델에서 사용한 것과 비슷한 규제 매개변수\n",
        " - 각 포인트의 중요도(정확히는 dual_coef_ 값)를 제한"
      ]
    },
    {
      "cell_type": "code",
      "metadata": {
        "colab": {
          "base_uri": "https://localhost:8080/",
          "height": 453
        },
        "id": "rGCuSkA5dKA0",
        "outputId": "d206a0cc-8e34-4bb7-bb12-ef200b6b5f40"
      },
      "source": [
        "# C와 gamma 매개변수 설정에 따른 결정 경계와 서포트 벡터 시각화\n",
        "fig, axes = plt.subplots(3, 3, figsize=(15, 10))\n",
        "for C, axs in zip([-1, 0, 3], axes):\n",
        "  for gamma, ax in zip([-1,0,1],axs):\n",
        "    mglearn.plots.plot_svm(C, gamma, ax)"
      ],
      "execution_count": null,
      "outputs": [
        {
          "output_type": "display_data",
          "data": {
            "image/png": "[encoded data removed]",
            "text/plain": [
              "<Figure size 1080x720 with 9 Axes>"
            ]
          },
          "metadata": {
            "tags": []
          }
        }
      ]
    },
    {
      "cell_type": "markdown",
      "metadata": {
        "id": "NDQkl_Amj1w4"
      },
      "source": [
        "#### SVM 실습 01\n",
        "\n",
        "유방암 데이터 셋에 SVM 적용"
      ]
    },
    {
      "cell_type": "code",
      "metadata": {
        "colab": {
          "base_uri": "https://localhost:8080/"
        },
        "id": "1E8v_2j-g85j",
        "outputId": "d164a549-bf0a-471d-9453-cbb4b037b0a6"
      },
      "source": [
        "from sklearn.model_selection import train_test_split\n",
        "from sklearn.datasets import load_breast_cancer\n",
        "\n",
        "# 데이터 로드\n",
        "cancer = load_breast_cancer()\n",
        "X = cancer.data\n",
        "y = cancer.target\n",
        "X_train, X_test, y_train, y_test = train_test_split(X, y, random_state=0)\n",
        "\n",
        "# 모델 학습\n",
        "model = SVC(C=10000, ).fit(X_train, y_train)\n",
        "\n",
        "# 평가\n",
        "model.score(X_train, y_train), model.score(X_test, y_test)"
      ],
      "execution_count": null,
      "outputs": [
        {
          "output_type": "execute_result",
          "data": {
            "text/plain": [
              "(0.971830985915493, 0.972027972027972)"
            ]
          },
          "metadata": {
            "tags": []
          },
          "execution_count": 183
        }
      ]
    },
    {
      "cell_type": "code",
      "metadata": {
        "colab": {
          "base_uri": "https://localhost:8080/",
          "height": 265
        },
        "id": "XbNUL4OwiFOy",
        "outputId": "193f82bb-a8a2-4d64-f098-dffee522ed21"
      },
      "source": [
        "# 유방암 데이터 세트의 특성 값 범위 시각화 (y 축은 로그 스케일)\n",
        "plt.boxplot(X_train)\n",
        "plt.yscale('symlog')\n",
        "plt.show()"
      ],
      "execution_count": null,
      "outputs": [
        {
          "output_type": "display_data",
          "data": {
            "image/png": "[encoded data removed]",
            "text/plain": [
              "<Figure size 432x288 with 1 Axes>"
            ]
          },
          "metadata": {
            "tags": [],
            "needs_background": "light"
          }
        }
      ]
    },
    {
      "cell_type": "markdown",
      "metadata": {
        "id": "62Knzdplk94A"
      },
      "source": [
        "- 유방암 데이터셋의 특성은 자릿수 자체가 완전히 다름\n",
        "\n",
        "- 일부 모델(선형 모델 등)에서도 어느 정도 문제가 될 수 있지만, 커널 SVM에서는 영향이 아주 큼"
      ]
    },
    {
      "cell_type": "markdown",
      "metadata": {
        "id": "Mi0KsmTwlIA-"
      },
      "source": [
        "##### SVM을 위한 전처리\n",
        "\n",
        "- 특성 값의 범위가 비슷해지도록 조정하는 것"
      ]
    },
    {
      "cell_type": "code",
      "metadata": {
        "colab": {
          "base_uri": "https://localhost:8080/"
        },
        "id": "f6f_x0X0jM2I",
        "outputId": "4e3d5a23-59c6-4618-d4ec-e0f9b2a24045"
      },
      "source": [
        "from sklearn.preprocessing import MinMaxScaler\n",
        "\n",
        "scaler = MinMaxScaler()\n",
        "scaler.fit(X_train)\n",
        "\n",
        "X_train_scaled = scaler.transform(X_train)\n",
        "X_test_scaled = scaler.transform(X_test)\n",
        "\n",
        "X_train_scaled.min(axis=0)\n",
        "X_train_scaled.max(axis=0)"
      ],
      "execution_count": null,
      "outputs": [
        {
          "output_type": "execute_result",
          "data": {
            "text/plain": [
              "array([1., 1., 1., 1., 1., 1., 1., 1., 1., 1., 1., 1., 1., 1., 1., 1., 1.,\n",
              "       1., 1., 1., 1., 1., 1., 1., 1., 1., 1., 1., 1., 1.])"
            ]
          },
          "metadata": {
            "tags": []
          },
          "execution_count": 188
        }
      ]
    }
  ]
}