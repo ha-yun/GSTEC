{
  "nbformat": 4,
  "nbformat_minor": 0,
  "metadata": {
    "colab": {
      "name": "210706.ipynb",
      "provenance": [],
      "collapsed_sections": [],
      "authorship_tag": "ABX9TyO/SDUDfHNIne9/0JWFi1RQ",
      "include_colab_link": true
    },
    "kernelspec": {
      "name": "python3",
      "display_name": "Python 3"
    },
    "language_info": {
      "name": "python"
    }
  },
  "cells": [
    {
      "cell_type": "markdown",
      "metadata": {
        "id": "view-in-github",
        "colab_type": "text"
      },
      "source": [
        "<a href=\"https://colab.research.google.com/github/yun-aha/GSTEC/blob/main/210706.ipynb\" target=\"_parent\"><img src=\"https://colab.research.google.com/assets/colab-badge.svg\" alt=\"Open In Colab\"/></a>"
      ]
    },
    {
      "cell_type": "markdown",
      "metadata": {
        "id": "WiuhHx_ATpNW"
      },
      "source": [
        "#1. 빅데이터 분석"
      ]
    },
    {
      "cell_type": "code",
      "metadata": {
        "id": "9aTG-TVZIJbB"
      },
      "source": [
        "#SQLite는 부울이 없는 대신 integer로 대체\n",
        "\n",
        "CREATE TABLE test (\n",
        "\t\tid INTEGER PRIMARY KEY AUTOINCREMENT,     \n",
        "\t\ta VARCHAR(255),\n",
        "    \t\tb VARCHAR(255)\n",
        "\t\t);\n",
        "SELECT name FROM sqlite_master WHERE type = 'table';\n",
        "SELECT*FROM sqlite_sequence;\n",
        "#sqlite_sequence에 autoincrement가 적용된 열의 최대값이 저장\n",
        "#나중에 autoincrement가 적용될때 sqlite_sequence+1이 부여된다."
      ],
      "execution_count": null,
      "outputs": []
    },
    {
      "cell_type": "code",
      "metadata": {
        "id": "LvenmJH-iDtZ"
      },
      "source": [
        "#테이블을 생성한 후 구조를 바꾼다는 것 = 열을 추가하는 거(행 추가,삭제는 구조를 바꾼다고 하지 않는다)\n",
        "CREATE TABLE test (\n",
        "\t\tid INTEGER PRIMARY KEY AUTOINCREMENT,       \n",
        "\t\ta VARCHAR(255),\n",
        "    \t\tb VARCHAR(255)\n",
        "\t\t);\n",
        "ALTER TABLE test ADD COLUMN c VARCHAR(100);      #테이블이 생성된 후 열을 추가하는 법 \n",
        "INSERT INTO test VALUES ( 1, \"John\", \"Male\", \"True\");\n",
        "INSERT INTO test VALUES ( 2, \"Mary\", \"Female\", \"False\");\n",
        "\n",
        "#sql lite에서는 열(컬럼)을 삭제할 수 없다. but, test를 바탕으로 새로운 테이블을 만들 수 있다.\n",
        "CREATE TABLE test2 AS SELECT id, a, b FROM test;\n",
        "DROP TABLE test;\n",
        "ALTER TABLE test2 RENAME TO test;  #새 테이블 이름 변경\n",
        "SELECT * FROM test;"
      ],
      "execution_count": null,
      "outputs": []
    },
    {
      "cell_type": "code",
      "metadata": {
        "id": "I7yKl5DcPsR4"
      },
      "source": [
        "#BOOLEAN 자료형 표현\n",
        "#0,1깢지만 자료형을 받는다.\n",
        "CREATE TABLE myTB (\n",
        "\t\taColumn BOOLEAN NOT NULL CHECK (aColumn IN (0,1))     #0,1이외의 값은 reject되도록 정의\n",
        "\t\t);\n",
        "INSERT INTO myTB VALUES (0);\t\n",
        "INSERT INTO myTB VALUES (1);\t\t\n",
        "INSERT INTO myTB VALUES (2);\t  #ERROR"
      ],
      "execution_count": null,
      "outputs": []
    },
    {
      "cell_type": "code",
      "metadata": {
        "id": "lJDyBvo_Qc2O"
      },
      "source": [
        "#FOREIGN KEY를 사용하여 테이블 사이의 관계 설정.\n",
        "#일종의 제약 (constraint) 역할을 함.\n",
        "CREATE TABLE Franchisee (\n",
        "  FranchiseeID    INTEGER PRIMARY KEY, \n",
        "  FranchiseeName  TEXT NOT NULL\n",
        ");\n",
        "INSERT INTO Franchisee VALUES (111,\"John\");\t\t#데이터를 입력해 둔다.\n",
        "INSERT INTO Franchisee VALUES (112,\"Paul\");\t\t\n",
        "INSERT INTO Franchisee VALUES (113,\"David\");\n",
        "\n",
        "#Store 테이블의 FranchiseeID와 Franchisee 테이블의 FranchiseeID 연결.\n",
        "CREATE TABLE Store (\n",
        "  StoreID     INTEGER PRIMARY KEY, \n",
        "  StoreName   TEXT NOT NULL,\n",
        "  FranchiseeID INTEGER NOT NULL,\n",
        "  FOREIGN KEY(FranchiseeID) REFERENCES Franchisee(FranchiseeID)\n",
        ");   \n",
        "INSERT INTO Store VALUES (1,\"711 Gangnam\", 111);\n",
        "INSERT INTO Store VALUES (2,\"711 Munjeong\", 111);\n",
        "INSERT INTO Store VALUES (3,\"711 Suyu\", 113);\t\n",
        "INSERT INTO Store VALUES (4,\"711 Youido\", 114);    #ERROR - 114는 Franchisee id에 없다.\n",
        "DROP TABLE Franchisee;     #Franchisee먼저 삭제할 수 없다.(데이터를 넘겨주고 있기 때문)\n",
        "DROP TABLE Store;          #먼저 삭제 가능\n",
        "\n",
        "\n",
        "# + id는 index로 unique하도록 사용\n"
      ],
      "execution_count": null,
      "outputs": []
    },
    {
      "cell_type": "code",
      "metadata": {
        "id": "RYSIicXErbBs"
      },
      "source": [
        "#테이블 JOIN\n",
        "#왼쪽 테이블과 오른쪽 테이블의 공통 값(ON조건에 해당하는 값)으로 INNER JOIN\n",
        "SELECT a.name, b.item_id, b.quantity, b.price FROM customer AS a INNER JOIN sale AS b ON a.id = b.customer_id;\n",
        "\n",
        "#LEFT JOIN   왼쪽행은 모두 가져오고 오른쪽 행은 ON조건에 해당하는 것만 가져온다.\n",
        "SELECT a.name, b.item_id, b.quantity, b.price FROM customer AS a LEFT  JOIN sale AS b ON a.id = b.customer_id;\n",
        "\n",
        "#SQLite에서는 RIGHT JOIN과 FULL OUTER JOIN 지원하지 않는다. \n",
        "# -> 데이터의 위치를 바꿔줌으로써 left join만으로 right join 효과..\n",
        "\n",
        "#+++++++++++++++++++++++++++++++++++++++++++\n",
        "#세가지 열을 합칠 때\n",
        "#1. innerjoin을 이어서\n",
        "SELECT a.name,b.item_id,b.quantity,b.price,c.name as 'item_name',c.description FROM customer AS a INNER JOIN sale AS b\n",
        "INNER JOIN item AS c ON a.id=b.customer_id AND c.id=b.item_id;\n",
        "\n",
        "#2. query 안에 query \n",
        "SELECT와 INNER JOIN (SELECT)\n",
        "#3. view를 이용\n",
        "CREATE ViEW myView AS SELECT a.name,b.item_id,b.quantity,b.price FROM customer AS a INNER JOIN sale AS b ON a.id=b.customer_id;\n",
        "SELECT*FROM myView As a INNER JOIN item AS b ON a.item_id=b.id;"
      ],
      "execution_count": null,
      "outputs": []
    },
    {
      "cell_type": "code",
      "metadata": {
        "id": "NcSKx4D7Z-Fb"
      },
      "source": [
        "#view는 select query자체를 저장\n",
        "CREATE VIEW myView1 AS SELECT Name AS Country, Population / 1000 AS \"Pop (1000s)\" FROM Country;\n",
        "CREATE VIEW myView2 AS SELECT Name, Continent, Population FROM Country WHERE Population < 100000 ORDER BY Population DESC;\n",
        "CREATE VIEW myView3 AS SELECT Name, Continent FROM Country WHERE Name LIKE '_a%';\n",
        "\n",
        "SELECT * FROM myView1;\n",
        "SELECT * FROM myView2;\n",
        "SELECT Name as CountryName FROM myView3;\n",
        "\n",
        "DROP VIEW myView1;\n",
        "DROP VIEW myView2;\n",
        "DROP VIEW myView3;"
      ],
      "execution_count": null,
      "outputs": []
    },
    {
      "cell_type": "markdown",
      "metadata": {
        "id": "22JHrR05jLKi"
      },
      "source": [
        "#2. 취창업 멘토링 : 이재홍 대표"
      ]
    },
    {
      "cell_type": "markdown",
      "metadata": {
        "id": "2Dh_0QWFjmhh"
      },
      "source": [
        "프라이스 엔지니어  \n",
        "모비인사이드  \n",
        "\n",
        "K-startup 과 기업마당  -> 정부 지원사업  \n",
        "지역 혁신센터에서 주관하는 사업은 꼭 참여하자  \n",
        "strength Finder  \n",
        "폴리매스  \n",
        "10togo@daum.net\n",
        "\n"
      ]
    },
    {
      "cell_type": "markdown",
      "metadata": {
        "id": "CVNZAIHEUw1R"
      },
      "source": [
        "#3. 웹 어플리케이션"
      ]
    },
    {
      "cell_type": "markdown",
      "metadata": {
        "id": "CTSHwJrxU47F"
      },
      "source": [
        "####CSS  \n",
        "* DISPLAY Attribute : block,inline,inline-block, None  \n",
        "* Visibility : hidden,   \n",
        "* size : px, em, rem, %      -->font size에 따라 변한다.?\n",
        "* rem -> 값이 유연하게 변하는  \n"
      ]
    },
    {
      "cell_type": "markdown",
      "metadata": {
        "id": "Rd1JEQATZB-Q"
      },
      "source": [
        "###css(html에 css꾸미기)   \n",
        "1. inline  \n",
        "2. internal style sheet < style  >\n",
        "3. external style sheet href 외부스타일시트를 이용한..  "
      ]
    },
    {
      "cell_type": "code",
      "metadata": {
        "id": "KgRvozGmuQOQ"
      },
      "source": [
        "#templates파일의 accountapp파일의 hello_world.html에 size test\n",
        "  <style>\n",
        "\n",
        "    .testing{\n",
        "        background-color: blue;\n",
        "        height: 48px;\n",
        "        width: 48px;\n",
        "        margin: 1rem;\n",
        "        border-radius: .5rem;\n",
        "    }\n",
        "    </style>\n",
        "# internal style sheet\n",
        "    <div class=\"testing\" div style=\"display : inline-block\">block</div>\n",
        "    <div class=\"testing\" div style=\"display : inline-block; width: 3rem; height: 3rem\">block</div>\n",
        "    <div class=\"testing\" div style=\"display : inline-block; width: 3em; height: 3em\">block</div>\n",
        "    <div class=\"testing\" div style=\"display : inline-block; width: 30%; height: 30%\">block</div>\n",
        "\n",
        "#rem, em, %, px test해보기\n",
        "#\n"
      ],
      "execution_count": null,
      "outputs": []
    },
    {
      "cell_type": "code",
      "metadata": {
        "id": "BdeFKKq_uvFs"
      },
      "source": [
        "#추가로 아주 간단한 모델. .? 만들기\n",
        "#모델의 활성화\n",
        "#accountapp package안에 models.py에 들어간다.\n",
        "from django.db import models\n",
        "\n",
        "# Create your models here.\n",
        "\n",
        "\n",
        "class HelloWorld(models.Model):\n",
        "    text = models.CharField(max_length=255, null=False)\n",
        "\n",
        "#아주 간단한 모델\n",
        "#terminal에 \n",
        "python manage.py makemigrations 0001_iniatial\n",
        "python manage.py migrate\n",
        "#를 해주면\n",
        "#migration package안에 0001_iniatial.py가 생성된다.\n",
        "\n",
        "#당신을 위해 migration들을 실행시켜주고, 자동으로 데이터베이스 스키마를 관리해주는 migrate 명령어가 있습니다"
      ],
      "execution_count": null,
      "outputs": []
    },
    {
      "cell_type": "markdown",
      "metadata": {
        "id": "bBML3VfQwS4S"
      },
      "source": [
        "migrate 명령은 아직 적용되지 않은 마이그레이션을 모두 수집해 이를 실행하며(Django는 django_migrations 테이블을 두어 마이그레이션 적용 여부를 추적합니다) 이 과정을 통해 모델에서의 변경 사항들과 데이터베이스의 스키마의 동기화가 이루어집니다.\n",
        "\n",
        "마이그레이션은 매우 기능이 강력하여, 마치 프로젝트를 개발할 때처럼 데이터베이스나 테이블에 손대지 않고도 모델의 반복적인 변경을 가능하게 해줍니다. 동작 중인 데이터베이스를 자료 손실 없이 업그레이드 하는 데 최적화 되어 있습니다. 튜토리얼의 나머지 부분에서 이 부분을 조금 더 살펴보겠습니다만, 지금은 모델의 변경을 만드는 세 단계의 지침을 기억하세요."
      ]
    },
    {
      "cell_type": "markdown",
      "metadata": {
        "id": "fSEwcNGYvKqT"
      },
      "source": [
        "#4. 알고리즘"
      ]
    },
    {
      "cell_type": "markdown",
      "metadata": {
        "id": "IwYZhMFhwWSc"
      },
      "source": [
        "스택 : Last in First out  \n",
        "top pop push empty  \n"
      ]
    },
    {
      "cell_type": "code",
      "metadata": {
        "id": "1mc3I5oXx1qg"
      },
      "source": [
        "#스택문제\n",
        "#정수를 저장하는 스택을 구현한 다음, 입력으로 주어지는 명령을 처리하는 프로그램을 작성하시오.\n",
        "#명령은 총 다섯 가지 이다.\n",
        "#1. push X : 정수 X를 스택에 넣는 연산이다.\n",
        "#2. pop : 스택에서 가장 위에 있는 정수를 빼고, 그 수를 출력한다.\n",
        "#       만약 스택에 들어있는 정수가 없는 경우엔 -1 출력\n",
        "#3. size : 스택에 들어있는 정수의 개수 출력\n",
        "#4. empty : 스택이 비어있으면 1, 아니면 0을 출력\n",
        "#5. top : 스택의 가장 위에 있는 정수 출력, 만약 스택에 들어있는 정수가 없는 경우엔 -1 출력"
      ],
      "execution_count": null,
      "outputs": []
    },
    {
      "cell_type": "code",
      "metadata": {
        "colab": {
          "base_uri": "https://localhost:8080/"
        },
        "id": "E4OvnRci0mat",
        "outputId": "59f00a20-87dd-4641-fdb1-54d48568004c"
      },
      "source": [
        "stack=[]\n",
        "N=int(input())\n",
        "for i in range(N):\n",
        "  P=list(input().split())\n",
        "  if P[0]=='push':             #push\n",
        "    stack.append(P[1])\n",
        "\n",
        "  elif P[0]=='top':           #top\n",
        "    if len(stack)==0:\n",
        "      print(-1)\n",
        "    else:\n",
        "      print(stack[-1])\n",
        "\n",
        "  elif P[0]=='size':           #size\n",
        "    print(len(stack))\n",
        "\n",
        "  elif P[0]=='empty':           #empty\n",
        "    if len(stack)==0:\n",
        "      print(1)\n",
        "    else:\n",
        "      print(0)\n",
        "\n",
        "  elif P[0]=='pop':     #pop\n",
        "    if len(stack)==0:\n",
        "      print(-1)\n",
        "    else:\n",
        "      print(stack.pop())"
      ],
      "execution_count": null,
      "outputs": [
        {
          "output_type": "stream",
          "text": [
            "14\n",
            "push 1\n",
            "push 2\n",
            "top\n",
            "2\n",
            "size\n",
            "2\n",
            "empty\n",
            "0\n",
            "pop\n",
            "2\n",
            "pop\n",
            "1\n",
            "pop\n",
            "-1\n",
            "size\n",
            "0\n",
            "empty\n",
            "1\n",
            "pop\n",
            "-1\n",
            "push 3\n",
            "empty\n",
            "0\n",
            "top\n",
            "3\n"
          ],
          "name": "stdout"
        }
      ]
    },
    {
      "cell_type": "code",
      "metadata": {
        "colab": {
          "base_uri": "https://localhost:8080/"
        },
        "id": "RbTyt0zj4b_y",
        "outputId": "3bc797d7-4124-47af-9047-92c49836d45b"
      },
      "source": [
        "#append, remove, len 등을 사용하지 않고 만들어보기\n",
        "N=int(input())\n",
        "stack=[i for i in range(N)]\n",
        "cnt=0\n",
        "for i in range(N):\n",
        "  P=list(input().split())\n",
        "  if P[0]=='push':             #push\n",
        "    stack[cnt]=P[1]\n",
        "    cnt+=1\n",
        "\n",
        "  elif P[0]=='top':           #top\n",
        "    if cnt==0:\n",
        "      print(-1)\n",
        "    else:\n",
        "      print(stack[cnt-1])\n",
        "\n",
        "  elif P[0]=='size':           #size\n",
        "    print(cnt)\n",
        "\n",
        "  elif P[0]=='empty':           #empty\n",
        "    if cnt==0:\n",
        "      print(1)\n",
        "    else:\n",
        "      print(0)\n",
        "\n",
        "  elif P[0]=='pop':     #pop\n",
        "    if cnt==0:\n",
        "      print(-1)\n",
        "    else:\n",
        "      print(stack[cnt-1])\n",
        "      cnt-=1"
      ],
      "execution_count": null,
      "outputs": [
        {
          "output_type": "stream",
          "text": [
            "14\n",
            "push 1\n",
            "push 2\n",
            "top\n",
            "2\n",
            "size\n",
            "2\n",
            "empty\n",
            "0\n",
            "pop\n",
            "2\n",
            "pop\n",
            "1\n",
            "pop\n",
            "-1\n",
            "size\n",
            "0\n",
            "empty\n",
            "1\n",
            "pop\n",
            "-1\n",
            "push 3\n",
            "empty\n",
            "0\n",
            "top\n",
            "3\n"
          ],
          "name": "stdout"
        }
      ]
    }
  ]
}