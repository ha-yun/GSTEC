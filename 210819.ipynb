{
  "nbformat": 4,
  "nbformat_minor": 0,
  "metadata": {
    "colab": {
      "name": "210819.ipynb",
      "provenance": [],
      "collapsed_sections": [
        "UvG1jdAzizoa",
        "RePeJjGc08vF",
        "ke0CfVVCxZ5l",
        "_mA4mrRw2Ty3",
        "6mKrVfIB3ZVe",
        "mCwh81V8QfZ5",
        "QoibUnddho-0",
        "S-6iOBaqXlIj",
        "K_jtX_Rvn-A1",
        "iBOIaQfws4Fj",
        "uAWePMURwRtK",
        "5ptTkiFJ0GU3",
        "gWBnbgZtZ298",
        "CQhNYEqHaRcU",
        "JWUU8nFabk5O",
        "yqNbSStBck4V",
        "wpfsIdDXdMbP",
        "nR-y7KSxrUf2",
        "iOLN1FZSshZ8",
        "kj7okP2w2m3T"
      ],
      "authorship_tag": "ABX9TyMAqTBCDNZ6+Gj2bzNAORN/",
      "include_colab_link": true
    },
    "kernelspec": {
      "name": "python3",
      "display_name": "Python 3"
    },
    "language_info": {
      "name": "python"
    }
  },
  "cells": [
    {
      "cell_type": "markdown",
      "metadata": {
        "id": "view-in-github",
        "colab_type": "text"
      },
      "source": [
        "<a href=\"https://colab.research.google.com/github/ha-yun/GSTEC/blob/main/210819.ipynb\" target=\"_parent\"><img src=\"https://colab.research.google.com/assets/colab-badge.svg\" alt=\"Open In Colab\"/></a>"
      ]
    },
    {
      "cell_type": "markdown",
      "metadata": {
        "id": "tB73Do7yxna_"
      },
      "source": [
        "# 1. 웹 애플리케이션\n"
      ]
    },
    {
      "cell_type": "code",
      "metadata": {
        "id": "jfSNsd9Fvggl"
      },
      "source": [
        "# projectapp/templates/projectapp/list.html\n",
        "                <span class=\"m-2 NNS_B\">{{ project.name | truncatechars:10 }}</span>"
      ],
      "execution_count": null,
      "outputs": []
    },
    {
      "cell_type": "code",
      "metadata": {
        "id": "cVgqqrMFxg_G"
      },
      "source": [
        "# In View Using Mixin\n",
        "# projectapp/templates/projectapp/detail.html\n",
        "    <div>\n",
        "        {% include 'snippets/list_fragment.html' with article_list=object_list %}\n",
        "    </div>\n"
      ],
      "execution_count": null,
      "outputs": []
    },
    {
      "cell_type": "code",
      "metadata": {
        "id": "acJFbIxdxqR_"
      },
      "source": [
        "# projectapp/views.py\n",
        "class ProjectDetailView(DetailView, MultipleObjectMixin):\n",
        "    model = Project\n",
        "    context_object_name = 'target_project'\n",
        "    template_name = 'projectapp/detail.html'\n",
        "\n",
        "    paginate_by = 20\n",
        "\n",
        "    def get_context_data(self, **kwargs):\n",
        "        article_list = Article.objects.filter(project=self.object)\n",
        "        return super().get_context_data(object_list=article_list, **kwargs)\n",
        "\n"
      ],
      "execution_count": null,
      "outputs": []
    },
    {
      "cell_type": "code",
      "metadata": {
        "id": "Na1zhn7LxqT-"
      },
      "source": [
        "# templates/snippets/list_fragment.html\n",
        "{% load static %}\n",
        "\n",
        "    <style>\n",
        "        .container{\n",
        "            padding: 0;\n",
        "            margin: 0 auto;\n",
        "        }\n",
        "        .container div {\n",
        "          width: 45%;\n",
        "          background-color: lightseagreen;\n",
        "          max-width: 250px;\n",
        "            box-shadow: 0 0 .5rem cadetblue;\n",
        "          display: flex;\n",
        "          justify-content: center;\n",
        "          align-items: center;\n",
        "          border-radius: 1rem;\n",
        "            flex-direction: column;\n",
        "        }\n",
        "    .container img{\n",
        "        width: 100%;\n",
        "        border-radius: 1rem;\n",
        "    }\n",
        "    </style>\n",
        "\n",
        "\n",
        "    <!DOCTYPE html>\n",
        "    <div class=\"container my-4\">\n",
        "\n",
        "        {% for article in article_list %}\n",
        "            <div>\n",
        "                <a href=\"{% url 'articleapp:detail' pk=article.pk %}\">\n",
        "                    <img src=\"{{ article.image.url }}\"\n",
        "                         alt=\"\">\n",
        "                </a>\n",
        "            <span>{{ article.title }}</span>\n",
        "            </div>\n",
        "        {% endfor %}\n",
        "\n",
        "    </div>\n",
        "\n",
        "    <script src=\"{% static 'js/magicgrid.js' %}\"></script>\n",
        "\n",
        "    {% include 'snippets/pagination.html' %}\n",
        "\n",
        "    <div class=\"text-center my-5\">\n",
        "        <a href=\"{% url 'articleapp:create' %}\"\n",
        "        class=\"btn btn-dark rounded-pill material-icons\">\n",
        "            brush\n",
        "        </a>\n",
        "        <a href=\"{% url 'articleapp:create' %}\"\n",
        "        class=\"btn btn-outline-dark rounded-pill px-5\">\n",
        "            Create Article\n",
        "        </a>\n",
        "    </div>"
      ],
      "execution_count": null,
      "outputs": []
    },
    {
      "cell_type": "code",
      "metadata": {
        "id": "sSmLnLQqxqVu"
      },
      "source": [
        "# accountapp/templates/accountapp/detail.html\n",
        "    <div>\n",
        "        {% include 'snippets/list_fragment.html' with article_list=object_list %}\n",
        "    </div>"
      ],
      "execution_count": null,
      "outputs": []
    },
    {
      "cell_type": "code",
      "metadata": {
        "id": "K44DrzV0BvqV"
      },
      "source": [
        "# accountapp/views.py\n",
        "class AccountDetailView(DetailView, MultipleObjectMixin):\n",
        "    model = User\n",
        "    context_object_name = 'target_user'\n",
        "    template_name = 'accountapp/detail.html'\n",
        "\n",
        "    paginate_by = 20\n",
        "\n",
        "    def get_context_data(self, **kwargs):\n",
        "        article_list = Article.objects.filter(writer=self.object)\n",
        "        return super().get_context_data(object_list=article_list, **kwargs)"
      ],
      "execution_count": null,
      "outputs": []
    },
    {
      "cell_type": "markdown",
      "metadata": {
        "id": "wp2PmHfoMqWR"
      },
      "source": [
        "# 2. 알고리즘\n"
      ]
    },
    {
      "cell_type": "markdown",
      "metadata": {
        "id": "VIMdkV4PMrJx"
      },
      "source": [
        "#### 백준 2745"
      ]
    },
    {
      "cell_type": "code",
      "metadata": {
        "colab": {
          "base_uri": "https://localhost:8080/"
        },
        "id": "2LLIVZ5AIzEp",
        "outputId": "b582c425-1786-4414-bb37-ac0d2fcdf676"
      },
      "source": [
        "## 1\n",
        "N, B = input().split()\n",
        "B = int(B)\n",
        "N = list(N)\n",
        "total = 0\n",
        "j = -1\n",
        "\n",
        "for i in range(len(N)):\n",
        "  if N[j].isdigit()==True:\n",
        "    idx = int(N[j])\n",
        "  else:\n",
        "    idx = ord(N[j]) - ord('A') + 10\n",
        "  j -= 1\n",
        "  total += idx*B**i\n",
        "print(total)"
      ],
      "execution_count": null,
      "outputs": [
        {
          "output_type": "stream",
          "text": [
            "ZZZZZ 36\n",
            "60466175\n"
          ],
          "name": "stdout"
        }
      ]
    },
    {
      "cell_type": "code",
      "metadata": {
        "colab": {
          "base_uri": "https://localhost:8080/"
        },
        "id": "z0Uzy-dLB0qO",
        "outputId": "59c6a0eb-bf48-4164-dadc-7be0992e7d80"
      },
      "source": [
        "## 2\n",
        "N, B = input().split()\n",
        "B = int(B)\n",
        "N = list(N)\n",
        "total = 0\n",
        "j = -1\n",
        "i = 0\n",
        "\n",
        "def rec(N, B, i, j, total):\n",
        "  if i >=len(N):\n",
        "    return total\n",
        "  elif N[j].isdigit() == True:\n",
        "    idx=int(N[j])\n",
        "  else:\n",
        "    idx = ord(N[j]) - ord('A') + 10\n",
        "  total += idx*B**i\n",
        "  return rec(N, B, i+1, j-1, total)\n",
        "\n",
        "print(rec(N, B, i, j, total))"
      ],
      "execution_count": null,
      "outputs": [
        {
          "output_type": "stream",
          "text": [
            "0 10\n"
          ],
          "name": "stdout"
        },
        {
          "output_type": "execute_result",
          "data": {
            "text/plain": [
              "0"
            ]
          },
          "metadata": {},
          "execution_count": 20
        }
      ]
    },
    {
      "cell_type": "markdown",
      "metadata": {
        "id": "WT1OJstJJd_I"
      },
      "source": [
        "#### 백준 11005"
      ]
    },
    {
      "cell_type": "code",
      "metadata": {
        "id": "hJUEknmAJjYU",
        "colab": {
          "base_uri": "https://localhost:8080/"
        },
        "outputId": "ff24f8cc-26f6-4966-e6e2-f16b10b5b41d"
      },
      "source": [
        "N, B = map(int,input().split())\n",
        "i = 0\n",
        "NB = []\n",
        "if N==0:\n",
        "  NB.append(str(0))\n",
        "else:\n",
        "  while N>0:\n",
        "    n = N%B\n",
        "    N = N//B\n",
        "    if n>9:\n",
        "      NB.append(chr(n+ord('A')-10))\n",
        "    else:\n",
        "      NB.append(str(n))\n",
        "\n",
        "NB.reverse()\n",
        "print(''.join(NB))\n",
        "\n",
        "\n",
        "# n, b = map(int, input().split())\n",
        "# result_list = []\n",
        "# q = n\n",
        "\n",
        "# char_map_str = \"0123456789ABCDEFGHIJKLMNOPQRSTUVWXYZ\"\n",
        "\n",
        "# while q > 0:\n",
        "#     q, r = divmod(q, b)\n",
        "#     # 1)\n",
        "#     if r < 10:\n",
        "#         result_list.append(str(r))\n",
        "#     else:\n",
        "#         # r => 10 ~ 35\n",
        "#         # r-10 => 0 ~ 25\n",
        "#         # r-10+ord('A') => ord('A') ~ ord('Z')\n",
        "#         # chr(r-10+ord('A')) => 'A' ~ 'Z'\n",
        "\n",
        "#         result_list.append(chr(r-10+ord('A')))\n",
        "    \n",
        "#     # 2)\n",
        "#     # result_list.append(char_map_str[r])\n",
        "\n",
        "# print(\"\".join(result_list[::-1]))"
      ],
      "execution_count": null,
      "outputs": [
        {
          "output_type": "stream",
          "text": [
            "123 10\n",
            "123\n"
          ],
          "name": "stdout"
        }
      ]
    },
    {
      "cell_type": "markdown",
      "metadata": {
        "id": "UDiYu0U1Fp_v"
      },
      "source": [
        "#### 백준 5585"
      ]
    },
    {
      "cell_type": "code",
      "metadata": {
        "id": "iGZL23r1JjP0",
        "colab": {
          "base_uri": "https://localhost:8080/"
        },
        "outputId": "67fb387c-755a-4175-933d-e940dad86fff"
      },
      "source": [
        "N = 1000 - int(input())\n",
        "wallet = [500, 100, 50, 10, 5, 1]\n",
        "cnt = 0\n",
        "i = 0\n",
        "\n",
        "while N>0:\n",
        "  if wallet[i] <= N:\n",
        "    cnt+=1\n",
        "    N = N-wallet[i]\n",
        "  else:\n",
        "    i+=1\n",
        "print(cnt)\n",
        "\n",
        "\n",
        "# n = 1000 - int(input())\n",
        "# coin_list = [500,100,50,10,5,1]\n",
        "# def calc_coin(i, coin_list, remain):\n",
        "#     if i == len(coin_list):\n",
        "#         return 0\n",
        "\n",
        "#     return remain // coin_list[i] + calc_coin(i+1, coin_list, remain % coin_list[i])\n",
        "\n",
        "# print(calc_coin(0, coin_list, n))"
      ],
      "execution_count": null,
      "outputs": [
        {
          "output_type": "stream",
          "text": [
            "1\n",
            "15\n"
          ],
          "name": "stdout"
        }
      ]
    },
    {
      "cell_type": "markdown",
      "metadata": {
        "id": "ph7JL7ecH7_N"
      },
      "source": [
        "#### 백준 1931"
      ]
    },
    {
      "cell_type": "code",
      "metadata": {
        "id": "WvMSXz7dMsE-",
        "colab": {
          "base_uri": "https://localhost:8080/"
        },
        "outputId": "69c84d56-e69b-4970-f21a-5270c39a2cb1"
      },
      "source": [
        "# 회의실 배정\n",
        "\n",
        "# 한 개의 회의실이 있는데 이를 사용하고자 하는 N개의 회의에 대하여 회의실 사용표를 만들려고 한다. \n",
        "# 각 회의 I에 대해 시작시간과 끝나는 시간이 주어져 있고, 각 회의가 겹치지 않게 하면서 회의실을 사용할 수 있는 회의의 최대 개수를 찾아보자. \n",
        "# 단, 회의는 한번 시작하면 중간에 중단될 수 없으며 한 회의가 끝나는 것과 동시에 다음 회의가 시작될 수 있다. \n",
        "# 회의의 시작시간과 끝나는 시간이 같을 수도 있다.\n",
        "#  이 경우에는 시작하자마자 끝나는 것으로 생각하면 된다.\n",
        "\n",
        "# 입력\n",
        "# 첫째 줄에 회의의 수 N(1 ≤ N ≤ 100,000)이 주어진다. \n",
        "# 둘째 줄부터 N+1 줄까지 각 회의의 정보가 주어지는데 이것은 공백을 사이에 두고 회의의 시작시간과 끝나는 시간이 주어진다. \n",
        "# 시작 시간과 끝나는 시간은 231-1보다 작거나 같은 자연수 또는 0이다.\n",
        "\n",
        "\n",
        "# 출력\n",
        "# 첫째 줄에 최대 사용할 수 있는 회의의 최대 개수를 출력한다.\n",
        "\n",
        "n = int(input())\n",
        "meet_time = []\n",
        "\n",
        "for _ in range(n):\n",
        "    start_time, end_time = map(int, input().split())\n",
        "    meet_time.append((end_time, start_time))\n",
        "\n",
        "result_meet_cnt = 1\n",
        "meet_time.sort()\n",
        "last_meet_end_time = meet_time[0][0]\n",
        "\n",
        "for meet in meet_time[1:]:\n",
        "    end_time, start_time = meet\n",
        "\n",
        "    if last_meet_end_time <= start_time:\n",
        "        last_meet_end_time = end_time\n",
        "        result_meet_cnt += 1\n",
        "print(result_meet_cnt)"
      ],
      "execution_count": 3,
      "outputs": [
        {
          "output_type": "stream",
          "name": "stdout",
          "text": [
            "11\n",
            "1 4\n",
            "3 5\n",
            "0 6\n",
            "5 7\n",
            "3 8\n",
            "5 9\n",
            "6 10\n",
            "8 11\n",
            "8 12\n",
            "2 13\n",
            "12 14\n",
            "4\n"
          ]
        }
      ]
    },
    {
      "cell_type": "markdown",
      "metadata": {
        "id": "eGkXAtp3MrMN"
      },
      "source": [
        "# 4. 머신러닝"
      ]
    },
    {
      "cell_type": "markdown",
      "metadata": {
        "id": "f0hU8Vcnfj_m"
      },
      "source": [
        "# XGBoost (extreme gradient boosting)\n",
        "\n",
        "- GBM을 개선하여 속도를 높인 것 (병렬 수행 및 다양한 기능으로)\n",
        "- 일반적인 GBM에 비해 수행 시간이 빠른 것이지 다른 머신러닝 알고리즘에 비해서 빠르다는 의미는 아님 (랜덤 포레스트)\n",
        "- 과적합 규제 기능 지원\n",
        "- 결손값을 자체 처리할 수 있는 기능 지원"
      ]
    },
    {
      "cell_type": "markdown",
      "metadata": {
        "id": "IC5ITmqzjWEE"
      },
      "source": [
        "[XGBClassifier()](https://xgboost.readthedocs.io/en/latest/python/python_api.html#module-xgboost.sklearn)\n",
        "\n",
        "주요 매개변수(Hyperparameter)\n",
        "\n",
        "- n_estimators  : 생성할 트리의 개수, 지정된 횟수만큼 반복적으로 학습 오류를 감소시며 학습을 진행(조기중단 미지원)\n",
        "- learning_rate : 오차를 보정하는 정도\n",
        "- max_depth : 트리의 최대 깊이\n",
        "\n",
        "- subsample : 데이터 샘플링 비율을 지정, 보통 0.5~1 사이의 값을 사용 <br>\n",
        " 트리가 커져서 과적합되는 것을 제어하기 위함\n",
        "- reg_alpha : L1 regularization 적용값\n",
        "- reg_lambda : L2 regularization 적용값\n",
        "- n_jobs : xgboost를 실행하는 데 사용되는 병렬 스레드 수"
      ]
    },
    {
      "cell_type": "code",
      "metadata": {
        "id": "0QfZ_vloNqNC",
        "colab": {
          "base_uri": "https://localhost:8080/",
          "height": 35
        },
        "outputId": "c7947944-5627-4da6-84ce-b880917b223d"
      },
      "source": [
        "import xgboost\n",
        "xgboost.__version__"
      ],
      "execution_count": null,
      "outputs": [
        {
          "output_type": "execute_result",
          "data": {
            "application/vnd.google.colaboratory.intrinsic+json": {
              "type": "string"
            },
            "text/plain": [
              "'0.90'"
            ]
          },
          "metadata": {
            "tags": []
          },
          "execution_count": 55
        }
      ]
    },
    {
      "cell_type": "markdown",
      "metadata": {
        "id": "UvG1jdAzizoa"
      },
      "source": [
        "#### XGBoost 실습 01\n",
        "\n",
        "유방암 데이터를 이용"
      ]
    },
    {
      "cell_type": "code",
      "metadata": {
        "id": "BOVmqMoqikqi",
        "colab": {
          "base_uri": "https://localhost:8080/",
          "height": 302
        },
        "outputId": "f91a9c71-25a7-4c28-d0b0-cf8c7d10bac8"
      },
      "source": [
        "from sklearn.model_selection import train_test_split\n",
        "from xgboost import XGBClassifier\n",
        "from sklearn.datasets import load_breast_cancer\n",
        "import pandas as pd\n",
        "\n",
        "# 데이터 로드\n",
        "cancer = load_breast_cancer()\n",
        "df = pd.DataFrame(cancer.data, columns=cancer.feature_names)\n",
        "df['label'] = cancer.target\n",
        "\n",
        "X = df.iloc[:, :-1]\n",
        "y = df.iloc[:, -1]\n",
        "X_train, X_test, y_train, y_test = train_test_split(X, \n",
        "                                                    y, \n",
        "                                                    random_state=0)\n",
        "# 모델 학습\n",
        "model = XGBClassifier(random_state=0, max_depth=3, learning_rate=0.01, n_estimators=400)\n",
        "model.fit(X_train, y_train)\n",
        "\n",
        "# 평가\n",
        "print( model.score(X_train, y_train), model.score(X_test, y_test) )\n",
        "\n",
        "# 특성 중요도 시각화\n",
        "import seaborn as sns\n",
        "sns.barplot(x=model.feature_importances_, y=cancer.feature_names)"
      ],
      "execution_count": null,
      "outputs": [
        {
          "output_type": "stream",
          "text": [
            "0.9976525821596244 0.986013986013986\n"
          ],
          "name": "stdout"
        },
        {
          "output_type": "execute_result",
          "data": {
            "text/plain": [
              "<matplotlib.axes._subplots.AxesSubplot at 0x7fac5e869890>"
            ]
          },
          "metadata": {},
          "execution_count": 23
        },
        {
          "output_type": "display_data",
          "data": {
            "image/png": "[encoded data removed]",
            "text/plain": [
              "<Figure size 432x288 with 1 Axes>"
            ]
          },
          "metadata": {
            "needs_background": "light"
          }
        }
      ]
    },
    {
      "cell_type": "code",
      "metadata": {
        "colab": {
          "base_uri": "https://localhost:8080/",
          "height": 748
        },
        "id": "1-qFr4ZjaOyZ",
        "outputId": "d640fce9-703c-47ce-8fc7-467cf9602d8b"
      },
      "source": [
        "# plot_importance() 이용\n",
        "import matplotlib.pyplot as plt\n",
        "from xgboost import plot_importance\n",
        "\n",
        "fig, ax = plt.subplots( figsize=(10,12) )\n",
        "plot_importance(model, ax=ax)"
      ],
      "execution_count": null,
      "outputs": [
        {
          "output_type": "execute_result",
          "data": {
            "text/plain": [
              "<matplotlib.axes._subplots.AxesSubplot at 0x7fac5e919690>"
            ]
          },
          "metadata": {},
          "execution_count": 24
        },
        {
          "output_type": "display_data",
          "data": {
            "image/png": "[encoded data removed]",
            "text/plain": [
              "<Figure size 720x864 with 1 Axes>"
            ]
          },
          "metadata": {
            "needs_background": "light"
          }
        }
      ]
    },
    {
      "cell_type": "code",
      "metadata": {
        "id": "cR6NXliOkgTa"
      },
      "source": [
        "# 모델 학습 (조기중단을 수행)\n",
        "model = XGBClassifier(n_estimators=400, learning_rate=0.1, max_depth=3, random_state=0)\n",
        "evals = [(X_test, y_test)]\n",
        "model.fit(X_train, y_train, \n",
        "          eval_set=evals, \n",
        "          eval_metric='logloss', \n",
        "          early_stopping_rounds=50)"
      ],
      "execution_count": null,
      "outputs": []
    },
    {
      "cell_type": "code",
      "metadata": {
        "colab": {
          "base_uri": "https://localhost:8080/",
          "height": 302
        },
        "id": "PE7SF2awbEdB",
        "outputId": "1812a50e-961c-42f9-b767-ecded7f6d382"
      },
      "source": [
        "# 평가\n",
        "print( model.score(X_train, y_train), model.score(X_test, y_test) )\n",
        "\n",
        "# 특성 중요도 시각화\n",
        "import seaborn as sns\n",
        "sns.barplot(x=model.feature_importances_, y=cancer.feature_names)"
      ],
      "execution_count": null,
      "outputs": [
        {
          "output_type": "stream",
          "text": [
            "1.0 0.9790209790209791\n"
          ],
          "name": "stdout"
        },
        {
          "output_type": "execute_result",
          "data": {
            "text/plain": [
              "<matplotlib.axes._subplots.AxesSubplot at 0x7fac5efcd350>"
            ]
          },
          "metadata": {},
          "execution_count": 28
        },
        {
          "output_type": "display_data",
          "data": {
            "image/png": "[encoded data removed]",
            "text/plain": [
              "<Figure size 432x288 with 1 Axes>"
            ]
          },
          "metadata": {
            "needs_background": "light"
          }
        }
      ]
    },
    {
      "cell_type": "markdown",
      "metadata": {
        "id": "2J0I1s6-t97O"
      },
      "source": [
        "- 조기 중단값을 너무 급격하게 줄이면 예측 성능이 저하될 우려가 있음"
      ]
    },
    {
      "cell_type": "markdown",
      "metadata": {
        "id": "1oI48-NgfzIM"
      },
      "source": [
        "# LightGBM\n",
        "\n",
        "- XGBoost 보다 학습에 걸리는 시간이 훨씬 적음\n",
        "- 메모리 사용량도 상대적으로 적음\n",
        "- XGBoost와 비교하여 예측 성능에 별다른 차이가 없음\n",
        "- 적은 데이터 세트에 적용할 경우 과적합 발생이 쉬움 <br>\n",
        " (일반적으로 10,000 건 이하의 데이터 세트로 공식문서에 기술)\n",
        "- 균형 트리분할(Level Wise) 방식이 아닌 리프중심 트리분할(Leaf Wise) 방식을 사용"
      ]
    },
    {
      "cell_type": "markdown",
      "metadata": {
        "id": "j_5JdgSKivwP"
      },
      "source": [
        "\n",
        "<center>\n",
        " <img src=\"https://blog.kakaocdn.net/dn/UI31I/btqCpRmVipf/dZOeXysFGspk2ukY7tGJb0/img.jpg\" alt=\"트리분할\" width=\"60%\" />\n",
        "\n",
        "</center>"
      ]
    },
    {
      "cell_type": "markdown",
      "metadata": {
        "id": "lkEJ6RediMvm"
      },
      "source": [
        "균형 트리분할(Level Wise)\n",
        "\n",
        "- 대부분 트리 기반 알고리즘은 트리의 깊이를 효과적으로 줄이기 위한 균형 트리분할(Level Wise) 방식을 사용\n",
        "- 균형 잡힌 트리는 오버피팅에 보다 더 강한 구조를 가질 수 있다고 알려져 있기 때문\n",
        "- 균형을 맞추기 위한 시간이 추가로 필요\n",
        "\n",
        "리프중심 트리분할(Leaf Wise)\n",
        "\n",
        "- 트리의 균형을 맞추지 않고, 최대 손실 값(max delta loss)을 가지는 리프 노드를 지속적으로 분할\n",
        "- 트리의 깊이가 깊어지고 비대칭적인 규칙 트리를 생성\n",
        "- 학습을 반복할 수록 균형트리분할 방식보다 예측 오류 손실을 최소화 할 수 있음"
      ]
    },
    {
      "cell_type": "markdown",
      "metadata": {
        "id": "tHmE1qCGvtBW"
      },
      "source": [
        "[LGBMClassifier()](https://lightgbm.readthedocs.io/en/latest/pythonapi/lightgbm.LGBMClassifier.html)\n",
        "\n",
        "주요 매개변수(Hyperparameter)\n",
        "\n",
        "- n_estimators  : 생성할 트리의 개수, 지정된 횟수만큼 반복적으로 학습 오류를 감소시며 학습을 진행(조기중단 미지원)\n",
        "- learning_rate : 오차를 보정하는 정도\n",
        "- max_depth : 트리의 최대 깊이\n",
        "\n",
        "- subsample : 데이터 샘플링 비율을 지정, 보통 0.5~1 사이의 값을 사용 <br>\n",
        " 트리가 커져서 과적합되는 것을 제어하기 위함\n",
        "- reg_alpha : L1 regularization 적용값\n",
        "- reg_lambda : L2 regularization 적용값\n",
        "- n_jobs : xgboost를 실행하는 데 사용되는 병렬 스레드 수\n",
        "\n",
        "- **num_leaves : 개별 트리가 가질 수 있는 최대 리프의 수 <br>\n",
        "(높이면 정확도가 높아지지만, 반대로 트리의 깊이가 깊어지고 모델 복잡도가 증가, 과대적합 가능성 증가)**\n",
        "- **min_child_samples : 결정 트리의 min_samples_leaf와 같은 파라미터**"
      ]
    },
    {
      "cell_type": "markdown",
      "metadata": {
        "id": "RePeJjGc08vF"
      },
      "source": [
        "#### LightGBM 설치하기\n",
        "\n",
        "- 32bit python 에서는 설치되지 않음. 64bit Python 혹은 Anaconda 환경에서 설치\n",
        "\n",
        "[Conda 이용하기](https://anaconda.org/conda-forge/lightgbm)\n",
        "\n",
        "\n",
        "Anaconda Prompt (Anaconda3) 관리자 권한으로 실행\n",
        "```\n",
        "conda install -c conda-forge lightgbm\n",
        "```"
      ]
    },
    {
      "cell_type": "code",
      "metadata": {
        "id": "VcixXhMIOnZB",
        "colab": {
          "base_uri": "https://localhost:8080/",
          "height": 35
        },
        "outputId": "efe85f29-3eff-4302-94fb-1d8ab14abf14"
      },
      "source": [
        "import lightgbm\n",
        "lightgbm.__version__"
      ],
      "execution_count": null,
      "outputs": [
        {
          "output_type": "execute_result",
          "data": {
            "application/vnd.google.colaboratory.intrinsic+json": {
              "type": "string"
            },
            "text/plain": [
              "'2.2.3'"
            ]
          },
          "metadata": {},
          "execution_count": 1
        }
      ]
    },
    {
      "cell_type": "markdown",
      "metadata": {
        "id": "ke0CfVVCxZ5l"
      },
      "source": [
        "#### LightGBM 실습 01\n",
        "\n",
        "유방암 데이터를 이용"
      ]
    },
    {
      "cell_type": "code",
      "metadata": {
        "id": "OG45pQZ8xh3r",
        "colab": {
          "base_uri": "https://localhost:8080/",
          "height": 302
        },
        "outputId": "68356331-8c98-415d-8f47-922e1d07f4ed"
      },
      "source": [
        "from sklearn.model_selection import train_test_split\n",
        "from lightgbm import LGBMClassifier\n",
        "from sklearn.datasets import load_breast_cancer\n",
        "\n",
        "# 데이터 로드\n",
        "cancer = load_breast_cancer()\n",
        "df = pd.DataFrame(cancer.data, columns=cancer.feature_names)\n",
        "df['label'] = cancer.target\n",
        "\n",
        "X = df.iloc[:, :-1]\n",
        "y = df.iloc[:, -1]\n",
        "X_train, X_test, y_train, y_test = train_test_split(X, \n",
        "                                                    y, \n",
        "                                                    random_state=0)\n",
        "# 모델 학습\n",
        "model = LGBMClassifier(random_state=0, max_depth=1, learning_rate=0.2, n_estimators=100)\n",
        "model.fit(X_train, y_train)\n",
        "\n",
        "# 평가\n",
        "print( model.score(X_train, y_train), model.score(X_test, y_test) )\n",
        "\n",
        "# 특성 중요도 시각화\n",
        "import seaborn as sns\n",
        "sns.barplot(x=model.feature_importances_, y=cancer.feature_names)"
      ],
      "execution_count": null,
      "outputs": [
        {
          "output_type": "stream",
          "text": [
            "0.9976525821596244 0.972027972027972\n"
          ],
          "name": "stdout"
        },
        {
          "output_type": "execute_result",
          "data": {
            "text/plain": [
              "<matplotlib.axes._subplots.AxesSubplot at 0x7fac5da22410>"
            ]
          },
          "metadata": {},
          "execution_count": 35
        },
        {
          "output_type": "display_data",
          "data": {
            "image/png": "[encoded data removed]",
            "text/plain": [
              "<Figure size 432x288 with 1 Axes>"
            ]
          },
          "metadata": {
            "needs_background": "light"
          }
        }
      ]
    },
    {
      "cell_type": "code",
      "metadata": {
        "id": "aXPxApG3NTqx",
        "colab": {
          "base_uri": "https://localhost:8080/",
          "height": 748
        },
        "outputId": "614abc1a-44f2-4701-fa00-fa9216ab0a3c"
      },
      "source": [
        "# plot_importance() 이용\n",
        "import matplotlib.pyplot as plt\n",
        "from lightgbm import plot_importance\n",
        "\n",
        "fig, ax = plt.subplots( figsize=(10,12) )\n",
        "plot_importance(model, ax=ax)"
      ],
      "execution_count": null,
      "outputs": [
        {
          "output_type": "execute_result",
          "data": {
            "text/plain": [
              "<matplotlib.axes._subplots.AxesSubplot at 0x7fac5d9914d0>"
            ]
          },
          "metadata": {},
          "execution_count": 36
        },
        {
          "output_type": "display_data",
          "data": {
            "image/png": "[encoded data removed]",
            "text/plain": [
              "<Figure size 720x864 with 1 Axes>"
            ]
          },
          "metadata": {
            "needs_background": "light"
          }
        }
      ]
    },
    {
      "cell_type": "markdown",
      "metadata": {
        "id": "_mA4mrRw2Ty3"
      },
      "source": [
        "#### Tip\n",
        "\n",
        "NGBoost (Natural Gradient Boost)\n",
        "\n",
        "- 앤드류 응 교수가 속해있는 스탠퍼드 ML Group에서 최근 발표한 부스팅 알고리즘 (2019년 10월 9일에 발표)\n",
        "\n",
        "장단점\n",
        "\n",
        "- NGBoost는 XGBoost나 LightBoost보다 성능이 조금 더 좋음\n",
        "- 확률적인 예측을 해줌 (예측의 불확실성을 측정)\n",
        "\n",
        "- XGBoost, LightGBM보다 컴퓨팅 시간이 오래 걸림"
      ]
    },
    {
      "cell_type": "markdown",
      "metadata": {
        "id": "Nrz2hbnLSyfQ"
      },
      "source": [
        "# 분류 머신러닝 알고리즘 정리\n",
        "\n",
        "- 나이브 베이즈(Naive Bayes) : 베이즈(Bayes) 통계와 생성 모델에 기반\n",
        "\n",
        "- 로지스틱 회귀(Logistic Regression) : 독립변수와 종속변수의 선형 관계성에 기반\n",
        "\n",
        "- 결정 트리(Decision Tree) : 데이터 균일도에 따른 규칙 기반\n",
        "\n",
        "- 서포트 벡터 머신(Suppert Vector Machine) : 개별 클래스 간의 최대 분류 마진을 효과적으로 찾아줌\n",
        "\n",
        "- 최소 근접(Nearest Neighbor) 알고리즘 : 근접 거리를 기준\n",
        "\n",
        "- 앙상블(Ensemble) : 서로 다른(또는 같은) 머신러닝 알고리즘을 결합\n",
        "\n",
        "- 신경망(Neural Network) : 심층 연결 기반"
      ]
    },
    {
      "cell_type": "code",
      "metadata": {
        "id": "zKw2mtVdVeZs"
      },
      "source": [
        "!pip install mglearn"
      ],
      "execution_count": null,
      "outputs": []
    },
    {
      "cell_type": "code",
      "metadata": {
        "id": "h2tOMNexVWbP"
      },
      "source": [
        "# 경고메시지 무시\n",
        "import warnings\n",
        "warnings.filterwarnings(\"ignore\")"
      ],
      "execution_count": null,
      "outputs": []
    },
    {
      "cell_type": "markdown",
      "metadata": {
        "id": "6mKrVfIB3ZVe"
      },
      "source": [
        "## 학습목표\n",
        "\n",
        "머신러닝 모델의 성능을 평가하고, 올바른 매개변수를 선택하는 방법을 이해한다."
      ]
    },
    {
      "cell_type": "markdown",
      "metadata": {
        "id": "YFmluV8FL6Mu"
      },
      "source": [
        "1. 모델의 일반화 성능을 평가(측정)하는 법\n",
        "\n",
        "- 교차 검증 : 안정적인 일반화 성능 측정 방법\n",
        "\n",
        "- 평가 지표\n",
        " - 이진/다중 분류의 평가 지표\n",
        " > 정확도, 오차 행렬, 분류 리포트,  <br>\n",
        " > 정밀도, 재현율, f1_score, 정밀도-재현율 곡선(ROC), AUC\n",
        "\n",
        " - 회귀의 평가 지표\n",
        " > \\\\( R^2 \\\\) , 평균제곱오차, 평균절대값오차\n"
      ]
    },
    {
      "cell_type": "markdown",
      "metadata": {
        "id": "41MMOpDSTq7t"
      },
      "source": [
        "2. 매개변수를 튜닝하여 일반화 성능을 개선\n",
        "\n",
        "- 그리드 서치(grid search) : 관심 있는 매개변수들을 대상으로 가능한 모든 조합을 시도\n",
        "- 매개변수를 조정하기 전에 그 매개변수의 의미를 이해하는 것이 중요"
      ]
    },
    {
      "cell_type": "markdown",
      "metadata": {
        "id": "mCwh81V8QfZ5"
      },
      "source": [
        "## 학습/테스트 데이터 세트 분리\n",
        "\n",
        "- 테스트 데이터 세트를 이용하지 않고 학습 데이터 세트로만 학습하고 예측하면 예측 정확도 100% 가 됨\n",
        "= 학습을 위한 데이터의 양을 일정 수준 이상으로 보장하는 것이 중요\n",
        "- 학습된 모델에 대해 다양한 데이터를 기반으로 예측 성능을 평가해 보는 것도 매우 중요"
      ]
    },
    {
      "cell_type": "markdown",
      "metadata": {
        "id": "Hgtf_aQXwQX8"
      },
      "source": [
        "[train_test_split()](https://scikit-learn.org/stable/modules/generated/sklearn.model_selection.train_test_split.html)\n",
        "```\n",
        "train_test_split(arrays, test_size, train_size, random_state, shuffle, stratify)\n",
        "```\n",
        "Parameter\n",
        "\n",
        "- arrays : 분할시킬 데이터를 입력 (Python list, Numpy array, Pandas dataframe 등..)\n",
        "\n",
        "- test_size : 테스트 데이터셋의 비율(float)이나 갯수(int) (default = 0.25) <br>\n",
        "(전체 데이터에서 테스트 데이터 세트 크기를 얼마로 샘플링할 것인가를 결정)\n",
        "\n",
        "- train_size : 학습 데이터셋의 비율(float)이나 갯수(int) (default = test_size의 나머지) <br>\n",
        "(test_size 를 통상적으로 사용하기 때문에 잘 사용되지 않음)\n",
        "\n",
        "- random_state : 데이터 분할시 셔플이 이루어지는데 이를 위한 시드값 (int나 RandomState로 입력) <br>\n",
        "(호출할 때마다 동일한 학습/테스트용 데이터 세트를 생성하기 위해 주어지는 난수 값. 지정하지 않으면 호출 시 무작위로 데이터를 분리하므로 수행할 때마다 다른 학습/테스트용 데이터를 생성)\n",
        "\n",
        "- shuffle : 셔플여부설정 (default = True) <br>\n",
        "(데이터를 분리하기 전에 미리 섞을지를 결정. 데이터를 분산시켜서 좀 더 효율적인 학습 및 테스트 데이터 세트를 만드는 데 사용)\n",
        "\n",
        "- stratify : 지정한 Data의 비율을 유지한다. 예를 들어, Label Set인 Y가 25%의 0과 75%의 1로 이루어진 Binary Set일 때, stratify=Y로 설정하면 나누어진 데이터셋들도 0과 1을 각각 25%, 75%로 유지한 채 분할된다.\n",
        "\n",
        "Return\n",
        "\n",
        "- X_train, X_test, y_train, y_test : arrays에 데이터와 레이블을 둘 다 넣었을 경우의 반환이며, 데이터와 레이블의 순서쌍은 유지된다.\n",
        "- X_train, X_test : arrays에 레이블(y) 없이 데이터만 넣었을 경우의 반환\n"
      ]
    },
    {
      "cell_type": "markdown",
      "metadata": {
        "id": "Da3ujSlIV20l"
      },
      "source": [
        "# 교차 검증 (Cross Validation)\n",
        "\n",
        "- 교차검증 : 일반화 성능 향상을 위해 훈련 세트와 테스트 세트로 한 번 나누는 것보다 더 안정적이고 뛰어난 평가 방법\n",
        " - 데이터 편중을 막기 위함\n",
        " - 별도의 여러 세트로 구성된 학습 데이터 세트와 검증 데이터 세트에서 학습과 평가를 수행\n",
        "\n",
        "- k-겹 교차검증 : 데이터를 폴드(fold)라는 거의 비슷한 크기의 부분집합을 k개로 분리하고 각 부분집합의 정확도를 측정\n",
        "\n",
        "- scikit-learn에서 교차 검증은 model_selection 모듈의 cross_val_score 함수로 구현\n"
      ]
    },
    {
      "cell_type": "markdown",
      "metadata": {
        "id": "BakyK-bGeOf4"
      },
      "source": [
        "[cross_val_score()](https://scikit-learn.org/stable/modules/generated/sklearn.model_selection.cross_val_score.html)\n",
        "\n",
        "```\n",
        "cross_val_score(estimator, X, y=None, *, groups=None, scoring=None, cv=None, n_jobs=None, verbose=0, fit_params=None, pre_dispatch='2*n_jobs', error_score=nan)\n",
        "```\n",
        "Parameter\n",
        "\n",
        "- estimator : 평가하려는 모델\n",
        "- X : 훈련 데이터\n",
        "- y : 타깃 레이블\n",
        "- cv : 교차 검증 분할 수(k)\n",
        "\n",
        "Return\n",
        "- 교차 검증 결과 정확도 점수의 배열"
      ]
    },
    {
      "cell_type": "code",
      "metadata": {
        "id": "HrPZVQh_VvqM",
        "colab": {
          "base_uri": "https://localhost:8080/",
          "height": 140
        },
        "outputId": "438e269b-aa3d-42d5-e7e4-4a2b850ebe24"
      },
      "source": [
        "import mglearn\n",
        "# 5-겹 교차 검증에서의 데이터 분할\n",
        "mglearn.plots.plot_cross_validation()"
      ],
      "execution_count": null,
      "outputs": [
        {
          "output_type": "display_data",
          "data": {
            "image/png": "[encoded data removed]",
            "text/plain": [
              "<Figure size 864x144 with 1 Axes>"
            ]
          },
          "metadata": {
            "tags": [],
            "needs_background": "light"
          }
        }
      ]
    },
    {
      "cell_type": "code",
      "metadata": {
        "id": "meftj5V8Wpx6",
        "colab": {
          "base_uri": "https://localhost:8080/"
        },
        "outputId": "a5f422d6-e877-401f-9132-f9d559be75da"
      },
      "source": [
        "# 교차 검증을 간편하게\n",
        "from sklearn.model_selection import cross_val_score\n",
        "from sklearn.datasets import load_iris\n",
        "from sklearn.linear_model import LogisticRegression\n",
        "from sklearn.tree import DecisionTreeClassifier\n",
        "\n",
        "iris = load_iris()\n",
        "X = iris.data\n",
        "y = iris.target\n",
        "\n",
        "model_lr = LogisticRegression()\n",
        "model_dt = DecisionTreeClassifier(random_state=0)\n",
        "\n",
        "scores = cross_val_score(model_lr, X, y)\n",
        "print( scores )\n",
        "\n",
        "scores = cross_val_score(model_dt, X, y)\n",
        "print( scores )"
      ],
      "execution_count": null,
      "outputs": [
        {
          "output_type": "stream",
          "text": [
            "[0.96666667 1.         0.93333333 0.96666667 1.        ]\n",
            "[0.96666667 0.96666667 0.9        0.96666667 1.        ]\n"
          ],
          "name": "stdout"
        }
      ]
    },
    {
      "cell_type": "markdown",
      "metadata": {
        "id": "0_xf0QxKXVJq"
      },
      "source": [
        "- cross_val_score의 기본값은 5-겹 교차 검증이므로 정확도 값이 5개가 반환 <br>\n",
        "(scikit-learn 0.22 부터 기본값은 5-겹, 기존 기본값 3-겹)\n",
        "\n",
        "- 폴드의 수는 cv 매개변수를 사용해서 바꿀 수 있음\n",
        "\n"
      ]
    },
    {
      "cell_type": "code",
      "metadata": {
        "id": "jVlJqwU_o-uD",
        "colab": {
          "base_uri": "https://localhost:8080/"
        },
        "outputId": "54fc5ec5-9dd8-475f-fea7-017717cf90b9"
      },
      "source": [
        "scores = cross_val_score(model_lr, X, y, cv=3)\n",
        "print( scores )"
      ],
      "execution_count": null,
      "outputs": [
        {
          "output_type": "stream",
          "text": [
            "[0.98 0.96 0.98]\n"
          ],
          "name": "stdout"
        }
      ]
    },
    {
      "cell_type": "markdown",
      "metadata": {
        "id": "IHLyRRfgXfaR"
      },
      "source": [
        "- 보통 교차 검증의 정확도를 간단하게 나타내려면 평균을 사용"
      ]
    },
    {
      "cell_type": "code",
      "metadata": {
        "id": "OOrkMMh6pA9K",
        "colab": {
          "base_uri": "https://localhost:8080/"
        },
        "outputId": "77d80638-af2d-4c41-de11-4b9939ea8b4a"
      },
      "source": [
        "scores = cross_val_score(model_lr, X, y, cv=5)\n",
        "print( scores.mean(), scores )\n",
        "\n",
        "scores = cross_val_score(model_dt, X, y)\n",
        "print( scores.mean(), scores )"
      ],
      "execution_count": null,
      "outputs": [
        {
          "output_type": "stream",
          "text": [
            "0.9733333333333334 [0.96666667 1.         0.93333333 0.96666667 1.        ]\n",
            "0.9600000000000002 [0.96666667 0.96666667 0.9        0.96666667 1.        ]\n"
          ],
          "name": "stdout"
        }
      ]
    },
    {
      "cell_type": "markdown",
      "metadata": {
        "id": "DW_73TV-gPUX"
      },
      "source": [
        "여러 개의 평가 지표 반환 교차 검증 함수\n",
        "\n",
        "[cross_validate()](https://scikit-learn.org/stable/modules/generated/sklearn.model_selection.cross_validate.html)\n",
        "\n",
        "```\n",
        "cross_validate(estimator, X, y=None, *, groups=None, scoring=None, cv=None, n_jobs=None, verbose=0, fit_params=None, pre_dispatch='2*n_jobs', return_train_score=False, return_estimator=False, error_score=nan)\n",
        "```\n",
        "Parameter\n",
        "\n",
        "- estimator : 평가하려는 모델\n",
        "- X : 훈련 데이터\n",
        "- y : 타깃 레이블\n",
        "- cv : 교차 검증 분할 수(k)\n",
        "- return_train_score : 훈련 점수 포함 여부\n",
        "\n",
        "Return\n",
        "- 교차 검증 결과 정확도 점수의 배열"
      ]
    },
    {
      "cell_type": "code",
      "metadata": {
        "id": "jTVdwdfpY-70",
        "colab": {
          "base_uri": "https://localhost:8080/"
        },
        "outputId": "f6b17ca3-3533-44da-86cc-e35bd275e1f6"
      },
      "source": [
        "# 분할마다 훈련과 테스트에 걸린 시간을 담은 여러 개의 평가 지표 딕셔너리를 반환\n",
        "from sklearn.model_selection import cross_validate\n",
        "\n",
        "res = cross_validate(model_lr, X, y, cv=5, return_train_score=True)\n",
        "res"
      ],
      "execution_count": null,
      "outputs": [
        {
          "output_type": "execute_result",
          "data": {
            "text/plain": [
              "{'fit_time': array([0.02387166, 0.02585053, 0.02282453, 0.02389574, 0.02373147]),\n",
              " 'score_time': array([0.00076151, 0.00073433, 0.00048828, 0.00047326, 0.00054026]),\n",
              " 'test_score': array([0.96666667, 1.        , 0.93333333, 0.96666667, 1.        ]),\n",
              " 'train_score': array([0.96666667, 0.96666667, 0.98333333, 0.98333333, 0.975     ])}"
            ]
          },
          "metadata": {},
          "execution_count": 15
        }
      ]
    },
    {
      "cell_type": "code",
      "metadata": {
        "id": "3nWxzuoIb8NY",
        "colab": {
          "base_uri": "https://localhost:8080/",
          "height": 294
        },
        "outputId": "4de90ff9-2675-4821-cf8d-23febc7dfb1f"
      },
      "source": [
        "# 판다스를 사용하여 결과값을 출력하고 평균을 계산\n",
        "import pandas as pd\n",
        "\n",
        "df = pd.DataFrame(res)\n",
        "display( df )\n",
        "df.mean()"
      ],
      "execution_count": null,
      "outputs": [
        {
          "output_type": "display_data",
          "data": {
            "text/html": [
              "<div>\n",
              "<style scoped>\n",
              "    .dataframe tbody tr th:only-of-type {\n",
              "        vertical-align: middle;\n",
              "    }\n",
              "\n",
              "    .dataframe tbody tr th {\n",
              "        vertical-align: top;\n",
              "    }\n",
              "\n",
              "    .dataframe thead th {\n",
              "        text-align: right;\n",
              "    }\n",
              "</style>\n",
              "<table border=\"1\" class=\"dataframe\">\n",
              "  <thead>\n",
              "    <tr style=\"text-align: right;\">\n",
              "      <th></th>\n",
              "      <th>fit_time</th>\n",
              "      <th>score_time</th>\n",
              "      <th>test_score</th>\n",
              "      <th>train_score</th>\n",
              "    </tr>\n",
              "  </thead>\n",
              "  <tbody>\n",
              "    <tr>\n",
              "      <th>0</th>\n",
              "      <td>0.023872</td>\n",
              "      <td>0.000762</td>\n",
              "      <td>0.966667</td>\n",
              "      <td>0.966667</td>\n",
              "    </tr>\n",
              "    <tr>\n",
              "      <th>1</th>\n",
              "      <td>0.025851</td>\n",
              "      <td>0.000734</td>\n",
              "      <td>1.000000</td>\n",
              "      <td>0.966667</td>\n",
              "    </tr>\n",
              "    <tr>\n",
              "      <th>2</th>\n",
              "      <td>0.022825</td>\n",
              "      <td>0.000488</td>\n",
              "      <td>0.933333</td>\n",
              "      <td>0.983333</td>\n",
              "    </tr>\n",
              "    <tr>\n",
              "      <th>3</th>\n",
              "      <td>0.023896</td>\n",
              "      <td>0.000473</td>\n",
              "      <td>0.966667</td>\n",
              "      <td>0.983333</td>\n",
              "    </tr>\n",
              "    <tr>\n",
              "      <th>4</th>\n",
              "      <td>0.023731</td>\n",
              "      <td>0.000540</td>\n",
              "      <td>1.000000</td>\n",
              "      <td>0.975000</td>\n",
              "    </tr>\n",
              "  </tbody>\n",
              "</table>\n",
              "</div>"
            ],
            "text/plain": [
              "   fit_time  score_time  test_score  train_score\n",
              "0  0.023872    0.000762    0.966667     0.966667\n",
              "1  0.025851    0.000734    1.000000     0.966667\n",
              "2  0.022825    0.000488    0.933333     0.983333\n",
              "3  0.023896    0.000473    0.966667     0.983333\n",
              "4  0.023731    0.000540    1.000000     0.975000"
            ]
          },
          "metadata": {}
        },
        {
          "output_type": "execute_result",
          "data": {
            "text/plain": [
              "fit_time       0.024035\n",
              "score_time     0.000600\n",
              "test_score     0.973333\n",
              "train_score    0.975000\n",
              "dtype: float64"
            ]
          },
          "metadata": {},
          "execution_count": 18
        }
      ]
    },
    {
      "cell_type": "markdown",
      "metadata": {
        "id": "QoibUnddho-0"
      },
      "source": [
        "#### 교차 검증 장단점\n",
        "\n",
        "- 테스트 세트에 골고루 각 샘플이 정확하게 한 번씩 들어감\n",
        "- 교차 검증의 점수가 높으면 데이터셋에 있는 모든 샘플에 대해 모델이 잘 일반화됨\n",
        "- 모델이 훈련 데이터에 얼마나 민감한지 알 수 있음\n",
        "- 분할을 한 번 했을 때보다 데이터를 더 효과적으로 사용\n",
        "> 5-겹의 경우 매 반복에서 4/5 (80%)의 데이터를 모델 학습에 사용. <br> \n",
        "> 10-겹의 경우 90%를 사용\n",
        "\n",
        "- 연산 비용이 늘어나는 단점이 있음 (k배 더 느림)\n"
      ]
    },
    {
      "cell_type": "markdown",
      "metadata": {
        "id": "S-6iOBaqXlIj"
      },
      "source": [
        "### 계층별 k-겹 교차 검증 \n",
        "\n",
        "- 데이터셋을 나열 순서대로 k개의 폴드로 나누는 것은 항상 좋지는 않음"
      ]
    },
    {
      "cell_type": "code",
      "metadata": {
        "id": "27rZg8vyX2-U",
        "colab": {
          "base_uri": "https://localhost:8080/"
        },
        "outputId": "2a911bfe-c504-40e2-ffb2-f704df3ab514"
      },
      "source": [
        "from sklearn.datasets import load_iris\n",
        "\n",
        "iris = load_iris()\n",
        "iris.target"
      ],
      "execution_count": null,
      "outputs": [
        {
          "output_type": "execute_result",
          "data": {
            "text/plain": [
              "array([0, 0, 0, 0, 0, 0, 0, 0, 0, 0, 0, 0, 0, 0, 0, 0, 0, 0, 0, 0, 0, 0,\n",
              "       0, 0, 0, 0, 0, 0, 0, 0, 0, 0, 0, 0, 0, 0, 0, 0, 0, 0, 0, 0, 0, 0,\n",
              "       0, 0, 0, 0, 0, 0, 1, 1, 1, 1, 1, 1, 1, 1, 1, 1, 1, 1, 1, 1, 1, 1,\n",
              "       1, 1, 1, 1, 1, 1, 1, 1, 1, 1, 1, 1, 1, 1, 1, 1, 1, 1, 1, 1, 1, 1,\n",
              "       1, 1, 1, 1, 1, 1, 1, 1, 1, 1, 1, 1, 2, 2, 2, 2, 2, 2, 2, 2, 2, 2,\n",
              "       2, 2, 2, 2, 2, 2, 2, 2, 2, 2, 2, 2, 2, 2, 2, 2, 2, 2, 2, 2, 2, 2,\n",
              "       2, 2, 2, 2, 2, 2, 2, 2, 2, 2, 2, 2, 2, 2, 2, 2, 2, 2])"
            ]
          },
          "metadata": {},
          "execution_count": 19
        }
      ]
    },
    {
      "cell_type": "markdown",
      "metadata": {
        "id": "Olu7hbugX5uG"
      },
      "source": [
        "- 결과에서 볼 수 있듯이 1/3은 클래스 0, 1/3은 클래스 1, 1/3은 클래스 2이다.\n",
        "\n",
        "- 이 데이터에 3-겹 교차 검증을 적용한다면 첫 번째 폴드는 클래스 0만 가지고 있으므로 정확도는 0이 됨\n",
        "\n",
        "- 두 번째, 세 번째도 같은 방법으로 정확도는 0이 됨 \n",
        "\n",
        "- 단순한 k-겹 교차 검증에는 문제가 있으니, scikit-learn은 분류일 경우 이 방법 대신 계층별 k-겹 교차 검증을 사용"
      ]
    },
    {
      "cell_type": "code",
      "metadata": {
        "id": "rdjIRp9IjOfG",
        "colab": {
          "base_uri": "https://localhost:8080/",
          "height": 277
        },
        "outputId": "9b8dabea-e0d8-467c-8013-d034e3df6975"
      },
      "source": [
        "# 폴드 안의 클래스 비율이 전체 데이터셋의 클래스 비율과 같도록 데이터를 나눔\n",
        "mglearn.plots.plot_stratified_cross_validation()"
      ],
      "execution_count": null,
      "outputs": [
        {
          "output_type": "display_data",
          "data": {
            "image/png": "[encoded data removed]",
            "text/plain": [
              "<Figure size 864x360 with 2 Axes>"
            ]
          },
          "metadata": {
            "tags": [],
            "needs_background": "light"
          }
        }
      ]
    },
    {
      "cell_type": "markdown",
      "metadata": {
        "id": "RsifPnh4j2-b"
      },
      "source": [
        "- 대부분 회귀에서는 k-겹 교차 검증\n",
        "- 분류에서는 계층별 k-겹 교차 검증의 기본값이 잘 작동"
      ]
    },
    {
      "cell_type": "code",
      "metadata": {
        "id": "DgebXberkhGM",
        "colab": {
          "base_uri": "https://localhost:8080/"
        },
        "outputId": "62ea33e9-2fcc-4cdb-99e2-2de3c2e96a77"
      },
      "source": [
        "# cv 매개변수에 교차 검증 분할기 cross-validation splitter를 사용하여 \n",
        "# 데이터를 분할할 때 세밀하게 제어\n",
        "from sklearn.model_selection import KFold\n",
        "\n",
        "kfold = KFold(n_splits=3)\n",
        "cross_val_score(model_lr, X, y, cv=kfold)"
      ],
      "execution_count": null,
      "outputs": [
        {
          "output_type": "execute_result",
          "data": {
            "text/plain": [
              "array([0., 0., 0.])"
            ]
          },
          "metadata": {},
          "execution_count": 21
        }
      ]
    },
    {
      "cell_type": "code",
      "metadata": {
        "id": "sJ3S1RPqm7Ua",
        "colab": {
          "base_uri": "https://localhost:8080/"
        },
        "outputId": "45a4e453-2609-46fb-a6ba-5af96bf8166d"
      },
      "source": [
        "# 데이터를 분할하기 전에 섞어주면 결과가 향상\n",
        "kfold = KFold(n_splits=3, shuffle=True, random_state=0)\n",
        "scores = cross_val_score(model_lr, X, y, cv=kfold)\n",
        "print( scores.mean(), scores )"
      ],
      "execution_count": null,
      "outputs": [
        {
          "output_type": "stream",
          "text": [
            "0.9666666666666667 [0.98 0.96 0.96]\n"
          ],
          "name": "stdout"
        }
      ]
    },
    {
      "cell_type": "markdown",
      "metadata": {
        "id": "K_jtX_Rvn-A1"
      },
      "source": [
        "### 임의 분할 교차 검증 (shuffle-split cross-validation)\n",
        "\n",
        "- 반복 횟수를 훈련 세트나 테스트 세트의 크기와 독립적으로 조절해야 할 때 유용\n",
        "- train_size와 test_size의 합을 전체와 다르게 함으로써 전체 데이터의 일부만 사용 가능\n",
        "- 데이터 부분 샘플링(subsampling)하는 방식은 대규모 데이터셋으로 작업할 때 도움이 됨\n",
        "\n"
      ]
    },
    {
      "cell_type": "markdown",
      "metadata": {
        "id": "ZYVty6J4ooo2"
      },
      "source": [
        "[ShuffleSplit()](https://scikit-learn.org/stable/modules/generated/sklearn.model_selection.ShuffleSplit.html)\n",
        "\n",
        "```\n",
        "ShuffleSplit(n_splits=10, *, test_size=None, train_size=None, random_state=None)\n",
        "```\n",
        "- train_size 만큼의 포인트로 훈련 세트를 만들고, test_size만큼의 (훈련 세트와 중첩되지 않은) 포인트로 테스트 세트를 만들도록 분할\n",
        "\n",
        "- n_splits 횟수만큼 반복"
      ]
    },
    {
      "cell_type": "code",
      "metadata": {
        "id": "uggw5EEFpEKS",
        "colab": {
          "base_uri": "https://localhost:8080/",
          "height": 138
        },
        "outputId": "1a3679b3-a899-4546-81f2-68066e20c78e"
      },
      "source": [
        "# 10개의 데이터 포인트에 train_size=0.5, test_size=0.2, n_splits=4를 적용한 ShuffleSplit\n",
        "mglearn.plots.plot_shuffle_split()"
      ],
      "execution_count": null,
      "outputs": [
        {
          "output_type": "display_data",
          "data": {
            "image/png": "[encoded data removed]",
            "text/plain": [
              "<Figure size 720x144 with 1 Axes>"
            ]
          },
          "metadata": {
            "tags": [],
            "needs_background": "light"
          }
        }
      ]
    },
    {
      "cell_type": "code",
      "metadata": {
        "id": "voONNTbdpNFx",
        "colab": {
          "base_uri": "https://localhost:8080/"
        },
        "outputId": "fad769da-5e46-471d-d3c2-9d955372fa51"
      },
      "source": [
        "from sklearn.model_selection import ShuffleSplit\n",
        "\n",
        "ss = ShuffleSplit(n_splits=4, train_size=0.5, test_size=0.2, random_state=0)\n",
        "scores = cross_val_score(model_lr, X, y, cv=ss)\n",
        "print( scores.mean(), scores )"
      ],
      "execution_count": null,
      "outputs": [
        {
          "output_type": "stream",
          "text": [
            "0.9583333333333334 [1.         0.96666667 0.96666667 0.9       ]\n"
          ],
          "name": "stdout"
        }
      ]
    },
    {
      "cell_type": "markdown",
      "metadata": {
        "id": "iBOIaQfws4Fj"
      },
      "source": [
        "### 그룹별 교차 검증 (groups cross-validation)\n",
        "\n",
        "- 데이터 안에 매우 연관된 그룹이 있을 때\n",
        "- 예: 같은 환자로부터 얻은 여러 샘플을 가지고 새로운 환자에게 일반화하는 의료 애플리케이션\n",
        "\n",
        "- groups 배열은 훈련 세트와 테스트 세트를 만들 때 분리되지 않아야 할 그룹을 지정하는 것으로 클래스 레이블과 혼동해서는 안됨"
      ]
    },
    {
      "cell_type": "markdown",
      "metadata": {
        "id": "e_4sivXeuFm6"
      },
      "source": [
        "[GroupKFold()](https://scikit-learn.org/stable/modules/generated/sklearn.model_selection.GroupKFold.html)\n",
        "\n",
        "```\n",
        "GroupKFold(n_splits=5)\n",
        "```\n",
        "- n_splits : 폴드 수 (2 이상)\n"
      ]
    },
    {
      "cell_type": "code",
      "metadata": {
        "id": "q41m10w1vCgM",
        "colab": {
          "base_uri": "https://localhost:8080/",
          "height": 138
        },
        "outputId": "dcb74def-0148-441a-cf8c-7937a23a59b5"
      },
      "source": [
        "# 레이블에 기반한 GroupKFold 분할\n",
        "mglearn.plots.plot_group_kfold()"
      ],
      "execution_count": null,
      "outputs": [
        {
          "output_type": "display_data",
          "data": {
            "image/png": "[encoded data removed]",
            "text/plain": [
              "<Figure size 720x144 with 1 Axes>"
            ]
          },
          "metadata": {
            "tags": [],
            "needs_background": "light"
          }
        }
      ]
    },
    {
      "cell_type": "code",
      "metadata": {
        "id": "mAgpEA_YuGWp",
        "colab": {
          "base_uri": "https://localhost:8080/"
        },
        "outputId": "dcd2ab41-66e0-4980-a8b2-b4dc200850ff"
      },
      "source": [
        "from sklearn.model_selection import GroupKFold\n",
        "from sklearn.datasets import make_blobs\n",
        "\n",
        "# 인위적 데이터셋 생성\n",
        "X, y = make_blobs(n_samples=12, random_state=0)\n",
        "# 처음 세 개의 샘플은 같은 그룹에 속하고\n",
        "# 다음은 네 개의 샘플이 같음\n",
        "groups = [0,0,0,1,1,1,1,2,2,3,3,3]\n",
        "\n",
        "gkf = GroupKFold(n_splits=3)\n",
        "scores = cross_val_score(model_lr, X, y, groups=groups, cv=gkf)\n",
        "print( scores.mean(), scores )"
      ],
      "execution_count": null,
      "outputs": [
        {
          "output_type": "stream",
          "text": [
            "0.6722222222222222 [0.75       0.6        0.66666667]\n"
          ],
          "name": "stdout"
        }
      ]
    },
    {
      "cell_type": "markdown",
      "metadata": {
        "id": "uAWePMURwRtK"
      },
      "source": [
        "### 반복 교차 검증\n",
        "\n",
        "- 데이터셋의 크기가 크지 않을 경우 안정된 검증 점수를 얻기 위해 교차 검증을 반복하여 여러 번 수행\n",
        "\n",
        "- RepeatedKFold : 회귀에 사용\n",
        "- RepeatedStratifiedKFold : 분류에 사용"
      ]
    },
    {
      "cell_type": "code",
      "metadata": {
        "id": "rD3_YWpbwyZ2",
        "colab": {
          "base_uri": "https://localhost:8080/"
        },
        "outputId": "ba0b4fb3-1a44-4cb2-a8f4-b09d6c52b50a"
      },
      "source": [
        "from sklearn.model_selection import RepeatedStratifiedKFold\n",
        "\n",
        "X = iris.data\n",
        "y = iris.target\n",
        "rskfold = RepeatedStratifiedKFold(n_splits=5, n_repeats=5, random_state=0)\n",
        "scores = cross_val_score(model_lr, X, y, cv=rskfold)\n",
        "print( scores.mean(), scores )"
      ],
      "execution_count": null,
      "outputs": [
        {
          "output_type": "stream",
          "text": [
            "0.9640000000000002 [0.96666667 0.96666667 0.96666667 0.96666667 0.93333333 1.\n",
            " 0.9        0.96666667 1.         1.         0.93333333 1.\n",
            " 1.         0.93333333 0.96666667 1.         0.9        1.\n",
            " 0.9        1.         1.         0.93333333 0.96666667 0.96666667\n",
            " 0.93333333]\n"
          ],
          "name": "stdout"
        }
      ]
    },
    {
      "cell_type": "markdown",
      "metadata": {
        "id": "2D-Ti8MPxqx3"
      },
      "source": [
        "- 전체 검증 점수는 n_splits * n_repeats 개수만큼 만들어짐"
      ]
    },
    {
      "cell_type": "markdown",
      "metadata": {
        "id": "NSNLVJVzY2iC"
      },
      "source": [
        "# 그리드 서치 (Grid Search)\n",
        "\n",
        "- 매개변수을 선택하는 것은 머신러닝에서 중요한 일\n",
        "\n",
        "- GRID_SEARCH : 관심 있는 매개변수들을 대상으로 가능한 모든 조합 시도하는 것"
      ]
    },
    {
      "cell_type": "markdown",
      "metadata": {
        "id": "5ptTkiFJ0GU3"
      },
      "source": [
        "### 검증 세트\n",
        "\n",
        "- 매개변수를 조정하기 위해 테스트 세트를 사용하면 모델이 얼마나 좋은지 평가하는 것에 더 이상 사용할 수 없음\n",
        "- 평가를 위해 모델을 만들 때 사용하지 않은 독립된 데이터셋이 필요\n",
        "\n",
        "- 데이터를 세 개의 세트로 만들어 이 문제를 해결\n",
        " - 훈련 세트로는 모델을 작성\n",
        " - 검증 (또는 개발) 세트로는 모델의 매개변수를 선택\n",
        " - 테스트 세트로는 선택된 매개변수의 성능을 평가"
      ]
    },
    {
      "cell_type": "code",
      "metadata": {
        "id": "oaVHmNlRzo3i",
        "colab": {
          "base_uri": "https://localhost:8080/",
          "height": 96
        },
        "outputId": "956772e0-cb0f-4824-8f28-765413e16247"
      },
      "source": [
        "mglearn.plots.plot_threefold_split()"
      ],
      "execution_count": null,
      "outputs": [
        {
          "output_type": "display_data",
          "data": {
            "image/png": "[encoded data removed]",
            "text/plain": [
              "<Figure size 1080x72 with 1 Axes>"
            ]
          },
          "metadata": {
            "tags": [],
            "needs_background": "light"
          }
        }
      ]
    },
    {
      "cell_type": "code",
      "metadata": {
        "id": "x6b_77z6Zecj",
        "colab": {
          "base_uri": "https://localhost:8080/"
        },
        "outputId": "de7d0e79-796b-446c-90bc-142f81db57d9"
      },
      "source": [
        "from sklearn.model_selection import train_test_split\n",
        "from sklearn.svm import SVC\n",
        "\n",
        "# 데이터를 훈련+검증 세트 그리고 테스트 세트로 분할\n",
        "X_trainval, X_test, y_trainval, y_test = train_test_split(X, y, random_state=0)\n",
        "print(X_trainval.shape, X_test.shape)\n",
        "\n",
        "# 훈련+검증 세트를 훈련 세트와 검증 세트로 분할\n",
        "X_train, X_valid, y_train, y_valid = train_test_split(X_trainval, y_trainval, random_state=0)\n",
        "print( X_train.shape, X_valid.shape )\n",
        "\n",
        "best_score = 0\n",
        "# 그리드 서치\n",
        "for gamma in [0.001, 0.01, 0.1, 1, 10, 100]:\n",
        "  for C in [0.001, 0.01, 0.1, 1, 10, 100]:\n",
        "    model = SVC(gamma=gamma, C=C)\n",
        "    model.fit(X_train, y_train)\n",
        "    score = model.score(X_valid, y_valid)\n",
        "    if score > best_score:\n",
        "      best_score = score\n",
        "      best_parameters = {'C':C, 'gamma':gamma}\n",
        "\n",
        "best_score, best_parameters"
      ],
      "execution_count": null,
      "outputs": [
        {
          "output_type": "stream",
          "text": [
            "(112, 4) (38, 4)\n",
            "(84, 4) (28, 4)\n"
          ],
          "name": "stdout"
        },
        {
          "output_type": "execute_result",
          "data": {
            "text/plain": [
              "(1.0, {'C': 100, 'gamma': 0.001})"
            ]
          },
          "metadata": {},
          "execution_count": 9
        }
      ]
    },
    {
      "cell_type": "code",
      "metadata": {
        "colab": {
          "base_uri": "https://localhost:8080/"
        },
        "id": "I6F0ZS2J_SGk",
        "outputId": "f052b28c-da2a-409c-eabd-39872fda7e76"
      },
      "source": [
        "# 훈련 세트와 검증 세트를 합쳐 모델을 다시 만든 후\n",
        "# 테스트 세트를 사용해 평가\n",
        "svm = SVC(**best_parameters).fit(X_train, y_train)\n",
        "svm.score(X_test, y_test)"
      ],
      "execution_count": null,
      "outputs": [
        {
          "output_type": "execute_result",
          "data": {
            "text/plain": [
              "0.9736842105263158"
            ]
          },
          "metadata": {},
          "execution_count": 10
        }
      ]
    },
    {
      "cell_type": "markdown",
      "metadata": {
        "id": "gWBnbgZtZ298"
      },
      "source": [
        "## 교차 검증을 사용한 그리드 서치"
      ]
    },
    {
      "cell_type": "code",
      "metadata": {
        "colab": {
          "base_uri": "https://localhost:8080/"
        },
        "id": "xGZ2eKFsBMd9",
        "outputId": "88f8002f-1520-4128-84c1-5a1c62a7d82a"
      },
      "source": [
        "best_score = 0\n",
        "# 그리드 서치\n",
        "for gamma in [0.001, 0.01, 0.1, 1, 10, 100]:\n",
        "  for C in [0.001, 0.01, 0.1, 1, 10, 100]:\n",
        "    model = SVC(gamma=gamma, C=C)\n",
        "    score = cross_val_score(model, X_trainval, y_trainval, cv=5)\n",
        "    score = score.mean()\n",
        "\n",
        "    if score > best_score:\n",
        "      best_score = score\n",
        "      best_parameters = {'C':C, 'gamma':gamma}\n",
        "\n",
        "best_score, best_parameters"
      ],
      "execution_count": null,
      "outputs": [
        {
          "output_type": "execute_result",
          "data": {
            "text/plain": [
              "(0.9731225296442687, {'C': 10, 'gamma': 0.1})"
            ]
          },
          "metadata": {},
          "execution_count": 13
        }
      ]
    },
    {
      "cell_type": "code",
      "metadata": {
        "id": "JwbeAekiZ5uj",
        "colab": {
          "base_uri": "https://localhost:8080/"
        },
        "outputId": "ff95e2cf-50a8-4b20-e079-6a15aa22a119"
      },
      "source": [
        "# 훈련 세트와 검증 세트를 합쳐 모델을 다시 만듬\n",
        "svm = SVC(**best_parameters).fit(X_trainval, y_trainval)\n",
        "svm.score(X_test, y_test)"
      ],
      "execution_count": null,
      "outputs": [
        {
          "output_type": "execute_result",
          "data": {
            "text/plain": [
              "0.9736842105263158"
            ]
          },
          "metadata": {},
          "execution_count": 14
        }
      ]
    },
    {
      "cell_type": "markdown",
      "metadata": {
        "id": "o6HYJoZ51fZd"
      },
      "source": [
        "- 5-겹 교차 검증으로 C와 gamma 설정에 대한 SVM 정확도를 평가하려면 36 x 5 = 180 개의 모델이 필요"
      ]
    },
    {
      "cell_type": "code",
      "metadata": {
        "id": "glEPjgEh1uJH",
        "colab": {
          "base_uri": "https://localhost:8080/",
          "height": 272
        },
        "outputId": "0f169aa6-b44d-47f0-b286-b41231a73f13"
      },
      "source": [
        "# 최적의 매개변수를 선택하는 방법\n",
        "# 교차 검증 정확도 평균이 가장 높은 매개변수를 동그라미로 표시\n",
        "mglearn.plots.plot_cross_val_selection()"
      ],
      "execution_count": null,
      "outputs": [
        {
          "output_type": "display_data",
          "data": {
            "image/png": "[encoded data removed]",
            "text/plain": [
              "<Figure size 720x216 with 1 Axes>"
            ]
          },
          "metadata": {
            "tags": [],
            "needs_background": "light"
          }
        }
      ]
    },
    {
      "cell_type": "code",
      "metadata": {
        "id": "YD10RXP-2Kcc",
        "colab": {
          "base_uri": "https://localhost:8080/",
          "height": 420
        },
        "outputId": "af816e27-7d6d-4bd2-e133-6b39b8d397d1"
      },
      "source": [
        "# 교차 검증과 그리드 서치를 사용한 매개변수 선택과 모델 평가의 작업 흐름\n",
        "mglearn.plots.plot_grid_search_overview()"
      ],
      "execution_count": null,
      "outputs": [
        {
          "output_type": "display_data",
          "data": {
            "image/png": "[encoded data removed]",
            "text/plain": [
              "<Figure size 700x210 with 1 Axes>"
            ]
          },
          "metadata": {
            "tags": [],
            "needs_background": "light"
          }
        }
      ]
    },
    {
      "cell_type": "markdown",
      "metadata": {
        "id": "CQhNYEqHaRcU"
      },
      "source": [
        "## GridSearchCV 메소드를 이용한 그리드서치"
      ]
    },
    {
      "cell_type": "code",
      "metadata": {
        "id": "8alJXc2jaQvk",
        "colab": {
          "base_uri": "https://localhost:8080/"
        },
        "outputId": "beb5c2c8-ba71-49b5-8a4a-aa6a028c209f"
      },
      "source": [
        "# param_grid\n",
        "param_grid = {'C':[0.001, 0.01, 0.1, 1, 10, 100],\n",
        "              'gamma':[0.001, 0.01, 0.1, 1, 10, 100]}\n",
        "param_grid "
      ],
      "execution_count": null,
      "outputs": [
        {
          "output_type": "execute_result",
          "data": {
            "text/plain": [
              "{'C': [0.001, 0.01, 0.1, 1, 10, 100], 'gamma': [0.001, 0.01, 0.1, 1, 10, 100]}"
            ]
          },
          "metadata": {},
          "execution_count": 15
        }
      ]
    },
    {
      "cell_type": "code",
      "metadata": {
        "id": "Hk8otxS9ab0c"
      },
      "source": [
        "from sklearn.model_selection import GridSearchCV\n",
        "from sklearn.svm import SVC\n",
        "\n",
        "grid_search = GridSearchCV(SVC(), param_grid=param_grid, cv=5, return_train_score=True)"
      ],
      "execution_count": null,
      "outputs": []
    },
    {
      "cell_type": "code",
      "metadata": {
        "colab": {
          "base_uri": "https://localhost:8080/"
        },
        "id": "lytrEgDiD5nz",
        "outputId": "eae4844c-c17e-4544-a614-9a98ceee8025"
      },
      "source": [
        "X_train, X_test, y_train, y_test = train_test_split(iris.data, iris.target, random_state=0)\n",
        "grid_search.fit(X_train, y_train)"
      ],
      "execution_count": null,
      "outputs": [
        {
          "output_type": "execute_result",
          "data": {
            "text/plain": [
              "GridSearchCV(cv=5, error_score=nan,\n",
              "             estimator=SVC(C=1.0, break_ties=False, cache_size=200,\n",
              "                           class_weight=None, coef0=0.0,\n",
              "                           decision_function_shape='ovr', degree=3,\n",
              "                           gamma='scale', kernel='rbf', max_iter=-1,\n",
              "                           probability=False, random_state=None, shrinking=True,\n",
              "                           tol=0.001, verbose=False),\n",
              "             iid='deprecated', n_jobs=None,\n",
              "             param_grid={'C': [0.001, 0.01, 0.1, 1, 10, 100],\n",
              "                         'gamma': [0.001, 0.01, 0.1, 1, 10, 100]},\n",
              "             pre_dispatch='2*n_jobs', refit=True, return_train_score=True,\n",
              "             scoring=None, verbose=0)"
            ]
          },
          "metadata": {},
          "execution_count": 19
        }
      ]
    },
    {
      "cell_type": "markdown",
      "metadata": {
        "id": "tIAo7oxEatkV"
      },
      "source": [
        "- GridSearchCV 객체에 fit() 매서드는 최적의 매개변수를 찾는 일 뿐만 아니라 교차 검증 성능이 가장 좋은 매개변수로 전체 훈련 데이터 세트에 대해 새로운 모델을 자동을 만듬\n",
        "\n",
        "- GridSearchCV는 전체 데이터로 학습한 모델에 접근할 수 있도록 predict()와 score() 메서드 제공\n",
        "\n",
        "- GridSearchCV 분류 : StratifiedKFold 회귀 : KFold\n",
        "\n",
        "- 사용에 따라서는 predict_proba, decision_function도 제공"
      ]
    },
    {
      "cell_type": "code",
      "metadata": {
        "id": "TPOnpDujqmbW",
        "colab": {
          "base_uri": "https://localhost:8080/"
        },
        "outputId": "e7787809-d120-4a04-8e85-603764749cc9"
      },
      "source": [
        "grid_search.score(X_test, y_test)"
      ],
      "execution_count": null,
      "outputs": [
        {
          "output_type": "execute_result",
          "data": {
            "text/plain": [
              "0.9736842105263158"
            ]
          },
          "metadata": {},
          "execution_count": 20
        }
      ]
    },
    {
      "cell_type": "code",
      "metadata": {
        "colab": {
          "base_uri": "https://localhost:8080/"
        },
        "id": "8qVxPJkIEoDx",
        "outputId": "d796d080-1af7-40ab-a45b-2cd5c8987667"
      },
      "source": [
        "grid_search.best_score_, grid_search.best_params_"
      ],
      "execution_count": null,
      "outputs": [
        {
          "output_type": "execute_result",
          "data": {
            "text/plain": [
              "(0.9731225296442687, {'C': 10, 'gamma': 0.1})"
            ]
          },
          "metadata": {},
          "execution_count": 21
        }
      ]
    },
    {
      "cell_type": "code",
      "metadata": {
        "colab": {
          "base_uri": "https://localhost:8080/"
        },
        "id": "tPnZ-RujE10c",
        "outputId": "27e0dede-4f1b-4ab8-a210-1537c42e5f3b"
      },
      "source": [
        "grid_search.best_estimator_"
      ],
      "execution_count": null,
      "outputs": [
        {
          "output_type": "execute_result",
          "data": {
            "text/plain": [
              "SVC(C=10, break_ties=False, cache_size=200, class_weight=None, coef0=0.0,\n",
              "    decision_function_shape='ovr', degree=3, gamma=0.1, kernel='rbf',\n",
              "    max_iter=-1, probability=False, random_state=None, shrinking=True,\n",
              "    tol=0.001, verbose=False)"
            ]
          },
          "metadata": {},
          "execution_count": 22
        }
      ]
    },
    {
      "cell_type": "markdown",
      "metadata": {
        "id": "U3LXIYJNbV02"
      },
      "source": [
        "- bast_score_ 속성에는 훈련 세트에서 수행한 교차 검증의 평균 정확도가 저장\n",
        "\n",
        "- 최적 매개 변수에서 전체 훈련 세트를 사용하여 학습한 모델은 best_estimator_\n",
        "\n",
        "- grid_search 객체가 predict와 score 메서드를 가지고 있으므로 예측이나 모델을 평가하기 위해 best_estimator_ 속성을 사용할 필요가 없음\n"
      ]
    },
    {
      "cell_type": "markdown",
      "metadata": {
        "id": "JWUU8nFabk5O"
      },
      "source": [
        "## 교차 검증 결과 분석\n",
        "\n",
        "- 교차 검증의 결과를 시각화하면 검색 대상 매개변수가 모델의 일반화에 영향을 얼마나 주는지 이해하는 데 도움이 됨"
      ]
    },
    {
      "cell_type": "code",
      "metadata": {
        "id": "xzSs_HdicV5q",
        "colab": {
          "base_uri": "https://localhost:8080/",
          "height": 751
        },
        "outputId": "59c0d1a6-aec7-4dc5-9319-bc2069f78f0c"
      },
      "source": [
        "import pandas as pd\n",
        "import numpy as np\n",
        "\n",
        "df = pd.DataFrame(grid_search.cv_results_)\n",
        "df.head().T"
      ],
      "execution_count": null,
      "outputs": [
        {
          "output_type": "execute_result",
          "data": {
            "text/html": [
              "<div>\n",
              "<style scoped>\n",
              "    .dataframe tbody tr th:only-of-type {\n",
              "        vertical-align: middle;\n",
              "    }\n",
              "\n",
              "    .dataframe tbody tr th {\n",
              "        vertical-align: top;\n",
              "    }\n",
              "\n",
              "    .dataframe thead th {\n",
              "        text-align: right;\n",
              "    }\n",
              "</style>\n",
              "<table border=\"1\" class=\"dataframe\">\n",
              "  <thead>\n",
              "    <tr style=\"text-align: right;\">\n",
              "      <th></th>\n",
              "      <th>0</th>\n",
              "      <th>1</th>\n",
              "      <th>2</th>\n",
              "      <th>3</th>\n",
              "      <th>4</th>\n",
              "    </tr>\n",
              "  </thead>\n",
              "  <tbody>\n",
              "    <tr>\n",
              "      <th>mean_fit_time</th>\n",
              "      <td>0.00117211</td>\n",
              "      <td>0.000761461</td>\n",
              "      <td>0.000777197</td>\n",
              "      <td>0.000818586</td>\n",
              "      <td>0.000761175</td>\n",
              "    </tr>\n",
              "    <tr>\n",
              "      <th>std_fit_time</th>\n",
              "      <td>0.000396066</td>\n",
              "      <td>7.88355e-06</td>\n",
              "      <td>1.54898e-05</td>\n",
              "      <td>5.32577e-05</td>\n",
              "      <td>3.01697e-05</td>\n",
              "    </tr>\n",
              "    <tr>\n",
              "      <th>mean_score_time</th>\n",
              "      <td>0.000480843</td>\n",
              "      <td>0.000343895</td>\n",
              "      <td>0.000337601</td>\n",
              "      <td>0.000383663</td>\n",
              "      <td>0.000316954</td>\n",
              "    </tr>\n",
              "    <tr>\n",
              "      <th>std_score_time</th>\n",
              "      <td>0.000157308</td>\n",
              "      <td>1.81384e-05</td>\n",
              "      <td>1.20848e-05</td>\n",
              "      <td>6.78746e-05</td>\n",
              "      <td>6.39495e-06</td>\n",
              "    </tr>\n",
              "    <tr>\n",
              "      <th>param_C</th>\n",
              "      <td>0.001</td>\n",
              "      <td>0.001</td>\n",
              "      <td>0.001</td>\n",
              "      <td>0.001</td>\n",
              "      <td>0.001</td>\n",
              "    </tr>\n",
              "    <tr>\n",
              "      <th>param_gamma</th>\n",
              "      <td>0.001</td>\n",
              "      <td>0.01</td>\n",
              "      <td>0.1</td>\n",
              "      <td>1</td>\n",
              "      <td>10</td>\n",
              "    </tr>\n",
              "    <tr>\n",
              "      <th>params</th>\n",
              "      <td>{'C': 0.001, 'gamma': 0.001}</td>\n",
              "      <td>{'C': 0.001, 'gamma': 0.01}</td>\n",
              "      <td>{'C': 0.001, 'gamma': 0.1}</td>\n",
              "      <td>{'C': 0.001, 'gamma': 1}</td>\n",
              "      <td>{'C': 0.001, 'gamma': 10}</td>\n",
              "    </tr>\n",
              "    <tr>\n",
              "      <th>split0_test_score</th>\n",
              "      <td>0.347826</td>\n",
              "      <td>0.347826</td>\n",
              "      <td>0.347826</td>\n",
              "      <td>0.347826</td>\n",
              "      <td>0.347826</td>\n",
              "    </tr>\n",
              "    <tr>\n",
              "      <th>split1_test_score</th>\n",
              "      <td>0.347826</td>\n",
              "      <td>0.347826</td>\n",
              "      <td>0.347826</td>\n",
              "      <td>0.347826</td>\n",
              "      <td>0.347826</td>\n",
              "    </tr>\n",
              "    <tr>\n",
              "      <th>split2_test_score</th>\n",
              "      <td>0.363636</td>\n",
              "      <td>0.363636</td>\n",
              "      <td>0.363636</td>\n",
              "      <td>0.363636</td>\n",
              "      <td>0.363636</td>\n",
              "    </tr>\n",
              "    <tr>\n",
              "      <th>split3_test_score</th>\n",
              "      <td>0.363636</td>\n",
              "      <td>0.363636</td>\n",
              "      <td>0.363636</td>\n",
              "      <td>0.363636</td>\n",
              "      <td>0.363636</td>\n",
              "    </tr>\n",
              "    <tr>\n",
              "      <th>split4_test_score</th>\n",
              "      <td>0.409091</td>\n",
              "      <td>0.409091</td>\n",
              "      <td>0.409091</td>\n",
              "      <td>0.409091</td>\n",
              "      <td>0.409091</td>\n",
              "    </tr>\n",
              "    <tr>\n",
              "      <th>mean_test_score</th>\n",
              "      <td>0.366403</td>\n",
              "      <td>0.366403</td>\n",
              "      <td>0.366403</td>\n",
              "      <td>0.366403</td>\n",
              "      <td>0.366403</td>\n",
              "    </tr>\n",
              "    <tr>\n",
              "      <th>std_test_score</th>\n",
              "      <td>0.0224845</td>\n",
              "      <td>0.0224845</td>\n",
              "      <td>0.0224845</td>\n",
              "      <td>0.0224845</td>\n",
              "      <td>0.0224845</td>\n",
              "    </tr>\n",
              "    <tr>\n",
              "      <th>rank_test_score</th>\n",
              "      <td>22</td>\n",
              "      <td>22</td>\n",
              "      <td>22</td>\n",
              "      <td>22</td>\n",
              "      <td>22</td>\n",
              "    </tr>\n",
              "    <tr>\n",
              "      <th>split0_train_score</th>\n",
              "      <td>0.370787</td>\n",
              "      <td>0.370787</td>\n",
              "      <td>0.370787</td>\n",
              "      <td>0.370787</td>\n",
              "      <td>0.370787</td>\n",
              "    </tr>\n",
              "    <tr>\n",
              "      <th>split1_train_score</th>\n",
              "      <td>0.370787</td>\n",
              "      <td>0.370787</td>\n",
              "      <td>0.370787</td>\n",
              "      <td>0.370787</td>\n",
              "      <td>0.370787</td>\n",
              "    </tr>\n",
              "    <tr>\n",
              "      <th>split2_train_score</th>\n",
              "      <td>0.366667</td>\n",
              "      <td>0.366667</td>\n",
              "      <td>0.366667</td>\n",
              "      <td>0.366667</td>\n",
              "      <td>0.366667</td>\n",
              "    </tr>\n",
              "    <tr>\n",
              "      <th>split3_train_score</th>\n",
              "      <td>0.366667</td>\n",
              "      <td>0.366667</td>\n",
              "      <td>0.366667</td>\n",
              "      <td>0.366667</td>\n",
              "      <td>0.366667</td>\n",
              "    </tr>\n",
              "    <tr>\n",
              "      <th>split4_train_score</th>\n",
              "      <td>0.355556</td>\n",
              "      <td>0.355556</td>\n",
              "      <td>0.355556</td>\n",
              "      <td>0.355556</td>\n",
              "      <td>0.355556</td>\n",
              "    </tr>\n",
              "    <tr>\n",
              "      <th>mean_train_score</th>\n",
              "      <td>0.366092</td>\n",
              "      <td>0.366092</td>\n",
              "      <td>0.366092</td>\n",
              "      <td>0.366092</td>\n",
              "      <td>0.366092</td>\n",
              "    </tr>\n",
              "    <tr>\n",
              "      <th>std_train_score</th>\n",
              "      <td>0.00558129</td>\n",
              "      <td>0.00558129</td>\n",
              "      <td>0.00558129</td>\n",
              "      <td>0.00558129</td>\n",
              "      <td>0.00558129</td>\n",
              "    </tr>\n",
              "  </tbody>\n",
              "</table>\n",
              "</div>"
            ],
            "text/plain": [
              "                                               0  ...                          4\n",
              "mean_fit_time                         0.00117211  ...                0.000761175\n",
              "std_fit_time                         0.000396066  ...                3.01697e-05\n",
              "mean_score_time                      0.000480843  ...                0.000316954\n",
              "std_score_time                       0.000157308  ...                6.39495e-06\n",
              "param_C                                    0.001  ...                      0.001\n",
              "param_gamma                                0.001  ...                         10\n",
              "params              {'C': 0.001, 'gamma': 0.001}  ...  {'C': 0.001, 'gamma': 10}\n",
              "split0_test_score                       0.347826  ...                   0.347826\n",
              "split1_test_score                       0.347826  ...                   0.347826\n",
              "split2_test_score                       0.363636  ...                   0.363636\n",
              "split3_test_score                       0.363636  ...                   0.363636\n",
              "split4_test_score                       0.409091  ...                   0.409091\n",
              "mean_test_score                         0.366403  ...                   0.366403\n",
              "std_test_score                         0.0224845  ...                  0.0224845\n",
              "rank_test_score                               22  ...                         22\n",
              "split0_train_score                      0.370787  ...                   0.370787\n",
              "split1_train_score                      0.370787  ...                   0.370787\n",
              "split2_train_score                      0.366667  ...                   0.366667\n",
              "split3_train_score                      0.366667  ...                   0.366667\n",
              "split4_train_score                      0.355556  ...                   0.355556\n",
              "mean_train_score                        0.366092  ...                   0.366092\n",
              "std_train_score                       0.00558129  ...                 0.00558129\n",
              "\n",
              "[22 rows x 5 columns]"
            ]
          },
          "metadata": {},
          "execution_count": 25
        }
      ]
    },
    {
      "cell_type": "markdown",
      "metadata": {
        "id": "yqNbSStBck4V"
      },
      "source": [
        "### C와 gamma 시각화\n",
        "\n",
        " "
      ]
    },
    {
      "cell_type": "code",
      "metadata": {
        "id": "1n1od7iJcmcG",
        "colab": {
          "base_uri": "https://localhost:8080/",
          "height": 296
        },
        "outputId": "5b97b9cc-7bfa-49f2-c0ca-eab8fceb3956"
      },
      "source": [
        "import mglearn\n",
        "\n",
        "# 교차 검증 평균 점수 히트맵 그래프\n",
        "scores = np.array(df.mean_test_score).reshape(6, 6)\n",
        "mglearn.tools.heatmap(scores, xlabel='gamma', ylabel='C', \n",
        "                      xticklabels=param_grid['gamma'], yticklabels=param_grid['C'])"
      ],
      "execution_count": null,
      "outputs": [
        {
          "output_type": "execute_result",
          "data": {
            "text/plain": [
              "<matplotlib.collections.PolyCollection at 0x7fef72fa6690>"
            ]
          },
          "metadata": {},
          "execution_count": 32
        },
        {
          "output_type": "display_data",
          "data": {
            "image/png": "[encoded data removed]",
            "text/plain": [
              "<Figure size 432x288 with 1 Axes>"
            ]
          },
          "metadata": {
            "needs_background": "light"
          }
        }
      ]
    },
    {
      "cell_type": "markdown",
      "metadata": {
        "id": "wpfsIdDXdMbP"
      },
      "source": [
        "### 바람직하지 못한 예\n",
        "\n",
        "- 검색 범위가 적절하게 선택되지 않은 경우"
      ]
    },
    {
      "cell_type": "code",
      "metadata": {
        "id": "33StzRe8dKNl",
        "colab": {
          "base_uri": "https://localhost:8080/",
          "height": 291
        },
        "outputId": "1e4f3a12-3816-44ff-ce3d-134ca86e511c"
      },
      "source": [
        "import matplotlib.pyplot as plt\n",
        "\n",
        "pg_linear = {'C': np.linspace(1, 2, 6), 'gamma': np.linspace(1, 2, 6)}\n",
        "pg_log = {'C': np.linspace(1, 2, 6), 'gamma': np.logspace(-3, 2, 6)}\n",
        "pg_range = {'C': np.logspace(-3, 2, 6), 'gamma': np.logspace(-7, -2, 6)}\n",
        "\n",
        "fig, axes = plt.subplots(1, 3, figsize=(15, 5))\n",
        "for pg, ax in zip([pg_linear, pg_log, pg_range], axes):\n",
        "  grid_search = GridSearchCV(SVC(), param_grid=pg, cv=5).fit(X_train, y_train)\n",
        "  scores = grid_search.cv_results_['mean_test_score'].reshape(6, 6)\n",
        "  mglearn.tools.heatmap(scores, xlabel='gamma', ylabel='C', \n",
        "                      xticklabels=pg['gamma'],\n",
        "                      yticklabels=pg['C'], ax=ax)"
      ],
      "execution_count": null,
      "outputs": [
        {
          "output_type": "display_data",
          "data": {
            "image/png": "[encoded data removed]",
            "text/plain": [
              "<Figure size 1080x360 with 3 Axes>"
            ]
          },
          "metadata": {
            "needs_background": "light"
          }
        }
      ]
    },
    {
      "cell_type": "markdown",
      "metadata": {
        "id": "7CJVo-SFPKa5"
      },
      "source": [
        "# 모델 평가"
      ]
    },
    {
      "cell_type": "markdown",
      "metadata": {
        "id": "0s854FoWqV1Q"
      },
      "source": [
        "분류의 평가 지표\n",
        "\n",
        "정확도, 오차 행렬, 분류 리포트,\n",
        "정밀도, 재현율, f1_score, 정밀도-재현율 곡선(ROC), AUC"
      ]
    },
    {
      "cell_type": "markdown",
      "metadata": {
        "id": "nR-y7KSxrUf2"
      },
      "source": [
        "## 정확도 (Accuracy)\n",
        "\n",
        "- 실제 데이터에서 에측 데이터가 얼마나 같은지를 판단하는 지표\n",
        "\n",
        " > \\begin{equation}\n",
        "\\text{정확도(Accuracy)} = \\frac{\\text{예측결과가동일한데이터건수}}{\\text{전체예측데이터건수}}\n",
        "\\end{equation}\n",
        "\n",
        "- 직관적으로 모델 예측 성능을 나타내는 평가 지표"
      ]
    },
    {
      "cell_type": "markdown",
      "metadata": {
        "id": "iOLN1FZSshZ8"
      },
      "source": [
        "## 오차행렬 (Confusion Matrix)\n",
        "\n",
        "- 학습된 분류 모델이 예측을 수행하면서 얼마나 혼란스러워(confused) 하고 있는지 함께 보여주는 지표\n",
        "- 예측 오류가 얼마인지와 더불어 어떠한 유형의 예측 오류가 발생하고 있는지를 함께 나타내는 지표\n"
      ]
    },
    {
      "cell_type": "code",
      "metadata": {
        "id": "AP6k09m2yVcZ",
        "colab": {
          "base_uri": "https://localhost:8080/",
          "height": 270
        },
        "outputId": "77b5ba43-2a3b-472a-b6e0-421c5558bc51"
      },
      "source": [
        "mglearn.plots.plot_binary_confusion_matrix()"
      ],
      "execution_count": null,
      "outputs": [
        {
          "output_type": "display_data",
          "data": {
            "image/png": "[encoded data removed]",
            "text/plain": [
              "<Figure size 432x288 with 1 Axes>"
            ]
          },
          "metadata": {
            "tags": [],
            "needs_background": "light"
          }
        }
      ]
    },
    {
      "cell_type": "markdown",
      "metadata": {
        "id": "f2jC8ie3yb5s"
      },
      "source": [
        "- True / False : 예측값과 실제값이 같은가 /틀린가\n",
        "- Negative / Positive : 예측 결과 값이 부정(0) / 긍정(1)\n",
        "\n",
        "- TN : 예측값을 Negative 값 0으로 예측했고 실제 값은 역시 Negative 값 0\n",
        "- FP : 예측값을 Positive 값 1로 예측 했는데 실제 값은 Negative 값 0\n",
        "- FN : 예측값을 Negative 값 0으로 예측했는데, 실제 값은 Positive 값 1\n",
        "- TP : 예측값을 Positive 값 1로 예측했는데 실제 값 역시 Positive 값 1"
      ]
    },
    {
      "cell_type": "markdown",
      "metadata": {
        "id": "Xiuk4OEhywPg"
      },
      "source": [
        "[confusion_matrix()](https://scikit-learn.org/stable/modules/generated/sklearn.metrics.confusion_matrix.html)\n",
        "```\n",
        "confusion_matrix(y_true, y_pred, *, labels=None, sample_weight=None, normalize=None)\n",
        "```\n",
        "- y_true : 정답\n",
        "- y_pred : 예측 결과"
      ]
    },
    {
      "cell_type": "code",
      "metadata": {
        "id": "G8ld4MrGvLlL",
        "colab": {
          "base_uri": "https://localhost:8080/",
          "height": 283
        },
        "outputId": "236008cc-99d0-4ee8-b1eb-93e8cf42f6f2"
      },
      "source": [
        "from sklearn.datasets import load_digits\n",
        "\n",
        "# 손글씨 데이터\n",
        "digits = load_digits()\n",
        "digits.keys()\n",
        "digits.target_names\n",
        "plt.imshow( digits.images[3] )\n",
        "digits.target[3]\n",
        "\n",
        "# 불균형 데이터셋 생성\n",
        "y = digits.target == 9\n",
        "X = digits.data\n",
        "\n",
        "X_train, X_test, y_train, y_test = train_test_split(X, y, random_state=0)\n",
        "X_train.shape"
      ],
      "execution_count": null,
      "outputs": [
        {
          "output_type": "execute_result",
          "data": {
            "text/plain": [
              "(1347, 64)"
            ]
          },
          "metadata": {},
          "execution_count": 50
        },
        {
          "output_type": "display_data",
          "data": {
            "image/png": "[encoded data removed]",
            "text/plain": [
              "<Figure size 432x288 with 1 Axes>"
            ]
          },
          "metadata": {
            "needs_background": "light"
          }
        }
      ]
    },
    {
      "cell_type": "code",
      "metadata": {
        "colab": {
          "base_uri": "https://localhost:8080/"
        },
        "id": "8tq3vtnNPSeW",
        "outputId": "09649d71-17a0-489d-f365-405f1c51ed0d"
      },
      "source": [
        "model_lr = LogisticRegression(C=0.1, max_iter=10000).fit(X_train, y_train)\n",
        "model_lr.score(X_train, y_train), model_lr.score(X_test, y_test)"
      ],
      "execution_count": null,
      "outputs": [
        {
          "output_type": "execute_result",
          "data": {
            "text/plain": [
              "(0.9977728285077951, 0.9844444444444445)"
            ]
          },
          "metadata": {},
          "execution_count": 51
        }
      ]
    },
    {
      "cell_type": "code",
      "metadata": {
        "colab": {
          "base_uri": "https://localhost:8080/"
        },
        "id": "F1vFgVsMPqNE",
        "outputId": "db644253-57b0-4337-a6a8-5068cefb777c"
      },
      "source": [
        "from sklearn.metrics import confusion_matrix\n",
        "pred_lr = model_lr.predict(X_test)\n",
        "confusion_matrix(y_test, pred_lr)"
      ],
      "execution_count": null,
      "outputs": [
        {
          "output_type": "execute_result",
          "data": {
            "text/plain": [
              "array([[402,   1],\n",
              "       [  6,  41]])"
            ]
          },
          "metadata": {},
          "execution_count": 53
        }
      ]
    },
    {
      "cell_type": "markdown",
      "metadata": {
        "id": "yQE1th1b1Oli"
      },
      "source": [
        "- TN FP\n",
        "- FN TP\n"
      ]
    },
    {
      "cell_type": "code",
      "metadata": {
        "id": "uQg40Exjrznw",
        "colab": {
          "base_uri": "https://localhost:8080/"
        },
        "outputId": "9c933aa1-c3fc-486c-a8d0-583203ba065a"
      },
      "source": [
        "from sklearn.tree import DecisionTreeClassifier\n",
        "model_dt = DecisionTreeClassifier(random_state=0).fit(X_train, y_train)\n",
        "model_dt.score(X_train, y_train), model_dt.score(X_test, y_test)"
      ],
      "execution_count": null,
      "outputs": [
        {
          "output_type": "execute_result",
          "data": {
            "text/plain": [
              "(1.0, 0.9533333333333334)"
            ]
          },
          "metadata": {},
          "execution_count": 55
        }
      ]
    },
    {
      "cell_type": "code",
      "metadata": {
        "colab": {
          "base_uri": "https://localhost:8080/"
        },
        "id": "5L-Y35wwQ7Yl",
        "outputId": "8512874f-7088-4865-f77a-a7450aee7027"
      },
      "source": [
        "pred_dt = model_dt.predict(X_test)\n",
        "confusion_matrix(y_test, pred_dt)"
      ],
      "execution_count": null,
      "outputs": [
        {
          "output_type": "execute_result",
          "data": {
            "text/plain": [
              "array([[394,   9],\n",
              "       [ 12,  35]])"
            ]
          },
          "metadata": {},
          "execution_count": 56
        }
      ]
    },
    {
      "cell_type": "markdown",
      "metadata": {
        "id": "Ev8bnJYx-enD"
      },
      "source": [
        "오차 행렬에서 정확도 재정의\n",
        "\n",
        "> \\begin{equation}\n",
        "\\text{Accuracy} = \\frac{\\text{예측결과가동일한데이터건수}}{\\text{전체예측데이터건수}}\n",
        "= \\frac{\\text{TP} + \\text{TN}}{\\text{TP} + \\text{TN} + \\text{FP} + \\text{FN}}\n",
        "\\end{equation}"
      ]
    },
    {
      "cell_type": "markdown",
      "metadata": {
        "id": "kj7okP2w2m3T"
      },
      "source": [
        "## 정밀도(Precision)와 재현율(Recall)\n",
        "\n",
        " > \\begin{equation}\n",
        "\\text{정밀도} = \\frac{\\text{TP}}{\\text{TP} + \\text{FP}}\n",
        "\\end{equation} <br>\n",
        " > \\begin{equation}\n",
        "\\text{재현율} = \\frac{\\text{TP}}{\\text{TP} + \\text{FN}}\n",
        "\\end{equation}\n",
        "\n",
        "정밀도\n",
        " - 예측을 Positive로 한 대상 중에 예측과 실제 값이 Positive로 일치한 데이터의 비율\n",
        " - 거짓양성(FP)의 수를 줄이는 것이 목표일 때 성능 지표로 사용\n",
        " - 양성 예측도(PPV) 라고도 함\n",
        "\n",
        "재현율\n",
        " - 실제 값이 Positive인 대상 중에 예측과 실제 값이 Positive로 일치한 데이터의 비율\n",
        " - 모든 양성 샘플을 식별해야 할 때 성능 지표로 사용\n",
        " - 거짓 음성(FN)을 피하는 것이 중요할 때\n",
        " - 민감도(sensitivity), 적중률(hit rate), 진짜 양성 비율(TPR) 이라고도 함"
      ]
    },
    {
      "cell_type": "markdown",
      "metadata": {
        "id": "E71Qd5lu5M7v"
      },
      "source": [
        "- 정밀도가 상대적으로 더 중요한 지표인 경우\n",
        " - 실제 Negative 음성인 데이터 예측을 Positive 양성으로 잘못 판단하게 되면 업무상 큰 영향이 발생하는 경우\n",
        " - 스팸 메일 판단 모델 : 실제 Negative인 일반 메일을 Positive인 스팸 메일로 분류하면 메일을 아예 받지 못하게 됨\n",
        "\n",
        "- 재현율이 상대적으로 더 중요한 지표인 경우\n",
        " - 실제 Positive 양성인 데이터 예측을 Negative로 잘못 판단하게 되면 업무상 큰 영향이 발생하는 경우\n",
        " - 암 판단 모델 : 실제 Positive인 암 환자를 Negative 음성으로 잘못 판단했을 경우 생명이 위험\n",
        " - 보험/금융 사기 적발 모델 : 실제 사기인 Positive 건을 Negative로 잘못 판단하면 회사에 손해가 큼"
      ]
    },
    {
      "cell_type": "code",
      "metadata": {
        "id": "u-zmvoob9Nv2"
      },
      "source": [
        ""
      ],
      "execution_count": null,
      "outputs": []
    },
    {
      "cell_type": "code",
      "metadata": {
        "id": "Ggj8UvGuMrOF"
      },
      "source": [
        ""
      ],
      "execution_count": null,
      "outputs": []
    },
    {
      "cell_type": "code",
      "metadata": {
        "id": "h-0z4hgIMrRK"
      },
      "source": [
        ""
      ],
      "execution_count": null,
      "outputs": []
    }
  ]
}