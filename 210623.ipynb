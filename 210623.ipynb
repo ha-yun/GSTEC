{
  "nbformat": 4,
  "nbformat_minor": 0,
  "metadata": {
    "colab": {
      "name": "210623.ipynb",
      "provenance": [],
      "collapsed_sections": [],
      "authorship_tag": "ABX9TyMvYD+G3wNXNvgaMR07XI6D",
      "include_colab_link": true
    },
    "kernelspec": {
      "name": "python3",
      "display_name": "Python 3"
    },
    "language_info": {
      "name": "python"
    }
  },
  "cells": [
    {
      "cell_type": "markdown",
      "metadata": {
        "id": "view-in-github",
        "colab_type": "text"
      },
      "source": [
        "<a href=\"https://colab.research.google.com/github/yun-aha/GSTEC/blob/main/210623.ipynb\" target=\"_parent\"><img src=\"https://colab.research.google.com/assets/colab-badge.svg\" alt=\"Open In Colab\"/></a>"
      ]
    },
    {
      "cell_type": "markdown",
      "metadata": {
        "id": "jkMttLJ7K-Ke"
      },
      "source": [
        "<h1>14. 배열을 뒤집는 방법<h1>"
      ]
    },
    {
      "cell_type": "code",
      "metadata": {
        "colab": {
          "base_uri": "https://localhost:8080/"
        },
        "id": "7jxFUGyzKnWJ",
        "outputId": "140e2240-59f3-49db-84e9-97339c766637"
      },
      "source": [
        "import numpy as np\n",
        "print('1차원 배열')\n",
        "arr=np.array([1,2,3,4,5,6,7,8])\n",
        "arr1=np.flip(arr)\n",
        "print(arr1)\n",
        "print('2차원 배열 뒤집기')\n",
        "arr=np.array([[1,2,3,4],[5,6,7,8],[9,10,11,12]])\n",
        "arr11=np.flip(arr)\n",
        "print(arr11)\n",
        "print('axis=0')\n",
        "arr111=np.flip(arr,axis=0)\n",
        "print(arr111)\n",
        "print('axis=1')\n",
        "arr1111=np.flip(arr,axis=1)\n",
        "print(arr1111)"
      ],
      "execution_count": null,
      "outputs": [
        {
          "output_type": "stream",
          "text": [
            "1차원 배열\n",
            "[8 7 6 5 4 3 2 1]\n",
            "2차원 배열 뒤집기\n",
            "[[12 11 10  9]\n",
            " [ 8  7  6  5]\n",
            " [ 4  3  2  1]]\n",
            "axis=0\n",
            "[[ 9 10 11 12]\n",
            " [ 5  6  7  8]\n",
            " [ 1  2  3  4]]\n",
            "axis=1\n",
            "[[ 4  3  2  1]\n",
            " [ 8  7  6  5]\n",
            " [12 11 10  9]]\n"
          ],
          "name": "stdout"
        }
      ]
    },
    {
      "cell_type": "markdown",
      "metadata": {
        "id": "Q3bw5tDaP_zq"
      },
      "source": [
        "<h1>15. n차원 배열 재구성 및 flatten</h1>"
      ]
    },
    {
      "cell_type": "code",
      "metadata": {
        "colab": {
          "base_uri": "https://localhost:8080/"
        },
        "id": "7USyMb3xLlgB",
        "outputId": "01dcf760-84ec-4e92-b683-11453a2476b2"
      },
      "source": [
        "arr=np.array([[1,2],[3,4]])\n",
        "print('c : ',arr.flatten(order='C'))\n",
        "print('f : ',arr.flatten(order='F'))\n",
        "print('a : ',arr.flatten(order='A'))\n",
        "print('k : ',arr.flatten(order='K'))"
      ],
      "execution_count": null,
      "outputs": [
        {
          "output_type": "stream",
          "text": [
            "c :  [1 2 3 4]\n",
            "f :  [1 3 2 4]\n",
            "a :  [1 2 3 4]\n",
            "k :  [1 2 3 4]\n"
          ],
          "name": "stdout"
        }
      ]
    },
    {
      "cell_type": "code",
      "metadata": {
        "colab": {
          "base_uri": "https://localhost:8080/"
        },
        "id": "ZGqvedYVLlu-",
        "outputId": "be26a6ab-f3ef-4f5b-f324-ed1ec88e9e8a"
      },
      "source": [
        "arr=np.array([[1,2,3],[4,5,6]])\n",
        "print('c :', np.ravel(arr,order='C'))\n",
        "print('f :',np.ravel(arr,order='F'))"
      ],
      "execution_count": null,
      "outputs": [
        {
          "output_type": "stream",
          "text": [
            "c : [1 2 3 4 5 6]\n",
            "f : [1 4 2 5 3 6]\n"
          ],
          "name": "stdout"
        }
      ]
    },
    {
      "cell_type": "markdown",
      "metadata": {
        "id": "CqCW4SVWRtEB"
      },
      "source": [
        "<h1>16. Numpy 객체를 저장하고 로드하는 방법</h1>"
      ]
    },
    {
      "cell_type": "code",
      "metadata": {
        "id": "Q19i3c9OLl6C"
      },
      "source": [
        "arr=np.array([1,2,3,4,5,6])\n",
        "np.save('저장',arr)"
      ],
      "execution_count": null,
      "outputs": []
    },
    {
      "cell_type": "code",
      "metadata": {
        "id": "e0BaHBcDLmID"
      },
      "source": [
        "arr1=np.array([1,2,3])\n",
        "arr2=np.array([1,2,3,4,5,6])\n",
        "np.savez('저장2.npz',arr1,arr2)"
      ],
      "execution_count": null,
      "outputs": []
    },
    {
      "cell_type": "code",
      "metadata": {
        "id": "2FcRSQoqSKCT"
      },
      "source": [
        "c_arr=np.array([1,2,3,4,5,6,7,8])\n",
        "np.savetxt('저장3.csv',c_arr)"
      ],
      "execution_count": null,
      "outputs": []
    },
    {
      "cell_type": "code",
      "metadata": {
        "colab": {
          "base_uri": "https://localhost:8080/"
        },
        "id": "fyLvxaOjSS86",
        "outputId": "a4f573cb-ae37-49f1-dc4b-b667b066dd77"
      },
      "source": [
        "l_arr=np.load('./저장.npy')\n",
        "print(l_arr)\n",
        "l_arr2=np.load('./저장2.npz')\n",
        "print(l_arr2)"
      ],
      "execution_count": null,
      "outputs": [
        {
          "output_type": "stream",
          "text": [
            "[1 2 3 4 5 6]\n",
            "<numpy.lib.npyio.NpzFile object at 0x7f6e90e94710>\n"
          ],
          "name": "stdout"
        }
      ]
    },
    {
      "cell_type": "code",
      "metadata": {
        "colab": {
          "base_uri": "https://localhost:8080/"
        },
        "id": "NuCiggScSg1V",
        "outputId": "a71befed-d17d-42fb-e94c-b74c73db5bd9"
      },
      "source": [
        "arr_0=np.load('./저장2.npz')['arr_0']\n",
        "print(arr_0)"
      ],
      "execution_count": null,
      "outputs": [
        {
          "output_type": "stream",
          "text": [
            "[1 2 3]\n"
          ],
          "name": "stdout"
        }
      ]
    },
    {
      "cell_type": "code",
      "metadata": {
        "colab": {
          "base_uri": "https://localhost:8080/"
        },
        "id": "Gbc6OaR0Tf5W",
        "outputId": "4d274191-ffc2-490c-e362-6aae8047d548"
      },
      "source": [
        "arr_t=np.loadtxt('저장3.csv')\n",
        "print(arr_t)"
      ],
      "execution_count": null,
      "outputs": [
        {
          "output_type": "stream",
          "text": [
            "[1. 2. 3. 4. 5. 6. 7. 8.]\n"
          ],
          "name": "stdout"
        }
      ]
    },
    {
      "cell_type": "markdown",
      "metadata": {
        "id": "w8tN7nIhUG_H"
      },
      "source": [
        "<h1>17. Pandas란 </h1>\n",
        "<h1>18. 시리즈와 데이터 프레임</h1>"
      ]
    },
    {
      "cell_type": "code",
      "metadata": {
        "id": "RpoxLgCITrxv"
      },
      "source": [
        "import pandas as pd"
      ],
      "execution_count": null,
      "outputs": []
    },
    {
      "cell_type": "code",
      "metadata": {
        "colab": {
          "base_uri": "https://localhost:8080/"
        },
        "id": "dIY6NBEPUqKR",
        "outputId": "9b357c86-532e-4379-9092-5c12a9f1245b"
      },
      "source": [
        "s=pd.Series([1,3,5,6,8])\n",
        "print(s)\n",
        "print('---------------------')\n",
        "s1=pd.Series([1,3,5,6,7],index=['하나','둘','셋','넷','다섯'])\n",
        "print(s1)"
      ],
      "execution_count": null,
      "outputs": [
        {
          "output_type": "stream",
          "text": [
            "0    1\n",
            "1    3\n",
            "2    5\n",
            "3    6\n",
            "4    8\n",
            "dtype: int64\n",
            "---------------------\n",
            "하나    1\n",
            "둘     3\n",
            "셋     5\n",
            "넷     6\n",
            "다섯    7\n",
            "dtype: int64\n"
          ],
          "name": "stdout"
        }
      ]
    },
    {
      "cell_type": "code",
      "metadata": {
        "colab": {
          "base_uri": "https://localhost:8080/"
        },
        "id": "xVIYTIOGVPS8",
        "outputId": "cbc4e178-b1d1-419c-8649-9709df938ac2"
      },
      "source": [
        "#list -> Series데이터\n",
        "list_data=[1,2,3,4,5]\n",
        "series=pd.Series(list_data)\n",
        "print(series)\n",
        "print('\\n')\n",
        "list_index=['하나','둘','셋','넷','다섯']\n",
        "new_series=pd.Series(list_data,index=list_index)\n",
        "print(new_series)"
      ],
      "execution_count": null,
      "outputs": [
        {
          "output_type": "stream",
          "text": [
            "0    1\n",
            "1    2\n",
            "2    3\n",
            "3    4\n",
            "4    5\n",
            "dtype: int64\n",
            "\n",
            "\n",
            "하나    1\n",
            "둘     2\n",
            "셋     3\n",
            "넷     4\n",
            "다섯    5\n",
            "dtype: int64\n"
          ],
          "name": "stdout"
        }
      ]
    },
    {
      "cell_type": "code",
      "metadata": {
        "colab": {
          "base_uri": "https://localhost:8080/"
        },
        "id": "LDvwVo15Zi02",
        "outputId": "7f511719-7ecc-4093-dfd9-74853528f016"
      },
      "source": [
        "#tuple -> Series데이터\n",
        "tuple_data=('판','다','스','꿀','잼')\n",
        "series=pd.Series(tuple_data)\n",
        "print(series)\n",
        "print('|n')\n",
        "\n",
        "tuple_index=('하나','둘','셋','넷','다섯')\n",
        "new_series=pd.Series(tuple_data,index=tuple_index)\n",
        "print(new_series)"
      ],
      "execution_count": null,
      "outputs": [
        {
          "output_type": "stream",
          "text": [
            "0    판\n",
            "1    다\n",
            "2    스\n",
            "3    꿀\n",
            "4    잼\n",
            "dtype: object\n",
            "|n\n",
            "하나    판\n",
            "둘     다\n",
            "셋     스\n",
            "넷     꿀\n",
            "다섯    잼\n",
            "dtype: object\n"
          ],
          "name": "stdout"
        }
      ]
    },
    {
      "cell_type": "code",
      "metadata": {
        "colab": {
          "base_uri": "https://localhost:8080/"
        },
        "id": "sE7D9lffZ-4Z",
        "outputId": "964cbef7-a8d5-4c75-d54a-446007ae36a6"
      },
      "source": [
        "dict_data={'a':1,'b':2,'c':3}\n",
        "sr=pd.Series(dict_data)\n",
        "print(dict_data)\n",
        "print('\\n')\n",
        "print(type(sr))\n",
        "print('\\n')\n",
        "print(sr)"
      ],
      "execution_count": null,
      "outputs": [
        {
          "output_type": "stream",
          "text": [
            "{'a': 1, 'b': 2, 'c': 3}\n",
            "\n",
            "\n",
            "<class 'pandas.core.series.Series'>\n",
            "\n",
            "\n",
            "a    1\n",
            "b    2\n",
            "c    3\n",
            "dtype: int64\n"
          ],
          "name": "stdout"
        }
      ]
    },
    {
      "cell_type": "code",
      "metadata": {
        "colab": {
          "base_uri": "https://localhost:8080/"
        },
        "id": "V74JFuClayPH",
        "outputId": "f804b167-8318-44fe-d92c-4c87acf38364"
      },
      "source": [
        "series_data=pd.Series(['홍길동','26','010-777-7777','광주','학생'],\n",
        "                      index=['이름','나이','전화번호','거주지','직업'])\n",
        "#정수형 위치 index로 가져오기\n",
        "n_index=series_data[2]\n",
        "print(n_index)\n",
        "print('\\n')\n",
        "#index이름으로 가져오기\n",
        "n_index=series_data['이름']\n",
        "print(n_index)\n",
        "print('\\n')\n",
        "print('전체 데이터 프레임 입니다.')\n",
        "print(series_data)"
      ],
      "execution_count": null,
      "outputs": [
        {
          "output_type": "stream",
          "text": [
            "010-777-7777\n",
            "\n",
            "\n",
            "홍길동\n",
            "\n",
            "\n",
            "전체 데이터 프레임 입니다.\n",
            "이름               홍길동\n",
            "나이                26\n",
            "전화번호    010-777-7777\n",
            "거주지               광주\n",
            "직업                학생\n",
            "dtype: object\n"
          ],
          "name": "stdout"
        }
      ]
    },
    {
      "cell_type": "code",
      "metadata": {
        "colab": {
          "base_uri": "https://localhost:8080/"
        },
        "id": "YvshT1f9b1cC",
        "outputId": "ebdbc17c-2415-4abd-e544-274b5049e0f6"
      },
      "source": [
        "series_data=pd.Series(['홍길동','26','010-777-7777','광주','학생'],\n",
        "                      index=['이름','나이','전화번호','거주지','직업'])\n",
        "new=series_data[[0,1,3]]\n",
        "print(new)\n",
        "print('\\n')\n",
        "new=series_data[['이름','거주지','직업']]\n",
        "print(new)"
      ],
      "execution_count": null,
      "outputs": [
        {
          "output_type": "stream",
          "text": [
            "이름     홍길동\n",
            "나이      26\n",
            "거주지     광주\n",
            "dtype: object\n",
            "\n",
            "\n",
            "이름     홍길동\n",
            "거주지     광주\n",
            "직업      학생\n",
            "dtype: object\n"
          ],
          "name": "stdout"
        }
      ]
    },
    {
      "cell_type": "code",
      "metadata": {
        "colab": {
          "base_uri": "https://localhost:8080/"
        },
        "id": "RtnOapsWceGm",
        "outputId": "6f182ff4-fb68-4fe0-f9ca-8162185988f8"
      },
      "source": [
        "series_data=pd.Series(['홍길동','26','010-777-7777','광주','학생'],\n",
        "                      index=['이름','나이','전화번호','거주지','직업'])\n",
        "new=series_data[2:4]\n",
        "print(new)\n",
        "print('\\n')\n",
        "new=series_data['나이':'거주지']\n",
        "print(new)"
      ],
      "execution_count": null,
      "outputs": [
        {
          "output_type": "stream",
          "text": [
            "전화번호    010-777-7777\n",
            "거주지               광주\n",
            "dtype: object\n",
            "\n",
            "\n",
            "나이                26\n",
            "전화번호    010-777-7777\n",
            "거주지               광주\n",
            "dtype: object\n"
          ],
          "name": "stdout"
        }
      ]
    },
    {
      "cell_type": "code",
      "metadata": {
        "colab": {
          "base_uri": "https://localhost:8080/"
        },
        "id": "JOBaBF39cwFD",
        "outputId": "5fde1e82-f8fd-4f3e-9e36-e607c90588e7"
      },
      "source": [
        "#Series 속성 관련 함수들\n",
        "new_series=pd.Series(['welcome','to','pandas'],index=['here','is','Gwangju'])\n",
        "print(new_series.index)\n",
        "print(new_series.values)"
      ],
      "execution_count": null,
      "outputs": [
        {
          "output_type": "stream",
          "text": [
            "Index(['here', 'is', 'Gwangju'], dtype='object')\n",
            "['welcome' 'to' 'pandas']\n"
          ],
          "name": "stdout"
        }
      ]
    },
    {
      "cell_type": "markdown",
      "metadata": {
        "id": "gMi-tgOse8w_"
      },
      "source": [
        "<h2>Pandas-Data Frame</h2>\n",
        "Data Frame을 만들 때는 2차원 데이터, index, column 3가지가 필요"
      ]
    },
    {
      "cell_type": "code",
      "metadata": {
        "colab": {
          "base_uri": "https://localhost:8080/"
        },
        "id": "_n3rR2ASeGyo",
        "outputId": "92a704fd-909d-4039-84ad-ddaab7dca24e"
      },
      "source": [
        "list_data_2d=[[23,'남','부산'],[21,'여','서울'],[25,'남','광주'],[27,'여','대전'],[24,'여','광주']]\n",
        "df=pd.DataFrame(list_data_2d,columns=['나이','성별','지역'])\n",
        "print(df)\n",
        "print('\\n')\n",
        "df=pd.DataFrame(list_data_2d,index=['상우','지원','민기','정민','수림'],columns=['나이','성별','지역'])\n",
        "print(df)"
      ],
      "execution_count": null,
      "outputs": [
        {
          "output_type": "stream",
          "text": [
            "   나이 성별  지역\n",
            "0  23  남  부산\n",
            "1  21  여  서울\n",
            "2  25  남  광주\n",
            "3  27  여  대전\n",
            "4  24  여  광주\n",
            "\n",
            "\n",
            "    나이 성별  지역\n",
            "상우  23  남  부산\n",
            "지원  21  여  서울\n",
            "민기  25  남  광주\n",
            "정민  27  여  대전\n",
            "수림  24  여  광주\n"
          ],
          "name": "stdout"
        }
      ]
    },
    {
      "cell_type": "code",
      "metadata": {
        "colab": {
          "base_uri": "https://localhost:8080/"
        },
        "id": "EbDVCQTQfC-3",
        "outputId": "427ac0d6-f484-438c-c018-cb5b4dd46a72"
      },
      "source": [
        "tuple_data_2d=((23,'남','부산'),(21,'여','서울'),(25,'남','광주'),(27,'여','대전'),(24,'여','광주'))\n",
        "df=pd.DataFrame(tuple_data_2d,columns=['나이','성별','지역'])\n",
        "print(df)\n",
        "print('\\n')\n",
        "df=pd.DataFrame(tuple_data_2d,index=['상우','지원','민기','정민','수림'],columns=['나이','성별','지역'])\n",
        "print(df)"
      ],
      "execution_count": null,
      "outputs": [
        {
          "output_type": "stream",
          "text": [
            "   나이 성별  지역\n",
            "0  23  남  부산\n",
            "1  21  여  서울\n",
            "2  25  남  광주\n",
            "3  27  여  대전\n",
            "4  24  여  광주\n",
            "\n",
            "\n",
            "    나이 성별  지역\n",
            "상우  23  남  부산\n",
            "지원  21  여  서울\n",
            "민기  25  남  광주\n",
            "정민  27  여  대전\n",
            "수림  24  여  광주\n"
          ],
          "name": "stdout"
        }
      ]
    },
    {
      "cell_type": "code",
      "metadata": {
        "colab": {
          "base_uri": "https://localhost:8080/"
        },
        "id": "Lj7iIeFjgTbk",
        "outputId": "c8e40516-6e2d-4bee-f196-6dec69f24e7e"
      },
      "source": [
        "dict_data={'나이':[23,21,25,27,24],'성별':['남','여','남','여','여'],'지역':['부산','서울','광주','대전','광주']}\n",
        "df=pd.DataFrame(dict_data)\n",
        "print(df)\n",
        "print('\\n')\n",
        "df=pd.DataFrame(dict_data,index=['상우','지원','민기','정민','수림'])\n",
        "print(df)"
      ],
      "execution_count": null,
      "outputs": [
        {
          "output_type": "stream",
          "text": [
            "   나이 성별  지역\n",
            "0  23  남  부산\n",
            "1  21  여  서울\n",
            "2  25  남  광주\n",
            "3  27  여  대전\n",
            "4  24  여  광주\n",
            "\n",
            "\n",
            "    나이 성별  지역\n",
            "상우  23  남  부산\n",
            "지원  21  여  서울\n",
            "민기  25  남  광주\n",
            "정민  27  여  대전\n",
            "수림  24  여  광주\n"
          ],
          "name": "stdout"
        }
      ]
    },
    {
      "cell_type": "markdown",
      "metadata": {
        "id": "-mFVv2k-hkV9"
      },
      "source": [
        "19. 특정 데이터 선택하기"
      ]
    },
    {
      "cell_type": "code",
      "metadata": {
        "colab": {
          "base_uri": "https://localhost:8080/",
          "height": 234
        },
        "id": "2ldXMygAhJr6",
        "outputId": "2aa4a1b1-fbb6-4706-e95d-cdae600094f2"
      },
      "source": [
        "#열선택\n",
        "test_data={'팀이름':['아자아자','할수있다','AI마피아','TF고수','경사하강법','광인사'],\n",
        "           '창의성':['상','중','하','상','중','하'],\n",
        "           '완성도':[100,80,70,90,50,60],\n",
        "           '사업성':['좋음','보통','부족','보통','잘함','못함']}\n",
        "df=pd.DataFrame(test_data)\n",
        "df"
      ],
      "execution_count": null,
      "outputs": [
        {
          "output_type": "execute_result",
          "data": {
            "text/html": [
              "<div>\n",
              "<style scoped>\n",
              "    .dataframe tbody tr th:only-of-type {\n",
              "        vertical-align: middle;\n",
              "    }\n",
              "\n",
              "    .dataframe tbody tr th {\n",
              "        vertical-align: top;\n",
              "    }\n",
              "\n",
              "    .dataframe thead th {\n",
              "        text-align: right;\n",
              "    }\n",
              "</style>\n",
              "<table border=\"1\" class=\"dataframe\">\n",
              "  <thead>\n",
              "    <tr style=\"text-align: right;\">\n",
              "      <th></th>\n",
              "      <th>팀이름</th>\n",
              "      <th>창의성</th>\n",
              "      <th>완성도</th>\n",
              "      <th>사업성</th>\n",
              "    </tr>\n",
              "  </thead>\n",
              "  <tbody>\n",
              "    <tr>\n",
              "      <th>0</th>\n",
              "      <td>아자아자</td>\n",
              "      <td>상</td>\n",
              "      <td>100</td>\n",
              "      <td>좋음</td>\n",
              "    </tr>\n",
              "    <tr>\n",
              "      <th>1</th>\n",
              "      <td>할수있다</td>\n",
              "      <td>중</td>\n",
              "      <td>80</td>\n",
              "      <td>보통</td>\n",
              "    </tr>\n",
              "    <tr>\n",
              "      <th>2</th>\n",
              "      <td>AI마피아</td>\n",
              "      <td>하</td>\n",
              "      <td>70</td>\n",
              "      <td>부족</td>\n",
              "    </tr>\n",
              "    <tr>\n",
              "      <th>3</th>\n",
              "      <td>TF고수</td>\n",
              "      <td>상</td>\n",
              "      <td>90</td>\n",
              "      <td>보통</td>\n",
              "    </tr>\n",
              "    <tr>\n",
              "      <th>4</th>\n",
              "      <td>경사하강법</td>\n",
              "      <td>중</td>\n",
              "      <td>50</td>\n",
              "      <td>잘함</td>\n",
              "    </tr>\n",
              "    <tr>\n",
              "      <th>5</th>\n",
              "      <td>광인사</td>\n",
              "      <td>하</td>\n",
              "      <td>60</td>\n",
              "      <td>못함</td>\n",
              "    </tr>\n",
              "  </tbody>\n",
              "</table>\n",
              "</div>"
            ],
            "text/plain": [
              "     팀이름 창의성  완성도 사업성\n",
              "0   아자아자   상  100  좋음\n",
              "1   할수있다   중   80  보통\n",
              "2  AI마피아   하   70  부족\n",
              "3   TF고수   상   90  보통\n",
              "4  경사하강법   중   50  잘함\n",
              "5    광인사   하   60  못함"
            ]
          },
          "metadata": {
            "tags": []
          },
          "execution_count": 88
        }
      ]
    },
    {
      "cell_type": "code",
      "metadata": {
        "colab": {
          "base_uri": "https://localhost:8080/",
          "height": 762
        },
        "id": "MGZNe73xi7aP",
        "outputId": "fb444658-f2bd-46d7-e202-cb97f6964a1e"
      },
      "source": [
        "print(df['팀이름'])\n",
        "print(df['사업성'])\n",
        "print('\\n')\n",
        "print(df.팀이름)\n",
        "print(df.사업성)\n",
        "df[['팀이름','사업성']]"
      ],
      "execution_count": null,
      "outputs": [
        {
          "output_type": "stream",
          "text": [
            "0     아자아자\n",
            "1     할수있다\n",
            "2    AI마피아\n",
            "3     TF고수\n",
            "4    경사하강법\n",
            "5      광인사\n",
            "Name: 팀이름, dtype: object\n",
            "0    좋음\n",
            "1    보통\n",
            "2    부족\n",
            "3    보통\n",
            "4    잘함\n",
            "5    못함\n",
            "Name: 사업성, dtype: object\n",
            "\n",
            "\n",
            "0     아자아자\n",
            "1     할수있다\n",
            "2    AI마피아\n",
            "3     TF고수\n",
            "4    경사하강법\n",
            "5      광인사\n",
            "Name: 팀이름, dtype: object\n",
            "0    좋음\n",
            "1    보통\n",
            "2    부족\n",
            "3    보통\n",
            "4    잘함\n",
            "5    못함\n",
            "Name: 사업성, dtype: object\n"
          ],
          "name": "stdout"
        },
        {
          "output_type": "execute_result",
          "data": {
            "text/html": [
              "<div>\n",
              "<style scoped>\n",
              "    .dataframe tbody tr th:only-of-type {\n",
              "        vertical-align: middle;\n",
              "    }\n",
              "\n",
              "    .dataframe tbody tr th {\n",
              "        vertical-align: top;\n",
              "    }\n",
              "\n",
              "    .dataframe thead th {\n",
              "        text-align: right;\n",
              "    }\n",
              "</style>\n",
              "<table border=\"1\" class=\"dataframe\">\n",
              "  <thead>\n",
              "    <tr style=\"text-align: right;\">\n",
              "      <th></th>\n",
              "      <th>팀이름</th>\n",
              "      <th>사업성</th>\n",
              "    </tr>\n",
              "  </thead>\n",
              "  <tbody>\n",
              "    <tr>\n",
              "      <th>0</th>\n",
              "      <td>아자아자</td>\n",
              "      <td>좋음</td>\n",
              "    </tr>\n",
              "    <tr>\n",
              "      <th>1</th>\n",
              "      <td>할수있다</td>\n",
              "      <td>보통</td>\n",
              "    </tr>\n",
              "    <tr>\n",
              "      <th>2</th>\n",
              "      <td>AI마피아</td>\n",
              "      <td>부족</td>\n",
              "    </tr>\n",
              "    <tr>\n",
              "      <th>3</th>\n",
              "      <td>TF고수</td>\n",
              "      <td>보통</td>\n",
              "    </tr>\n",
              "    <tr>\n",
              "      <th>4</th>\n",
              "      <td>경사하강법</td>\n",
              "      <td>잘함</td>\n",
              "    </tr>\n",
              "    <tr>\n",
              "      <th>5</th>\n",
              "      <td>광인사</td>\n",
              "      <td>못함</td>\n",
              "    </tr>\n",
              "  </tbody>\n",
              "</table>\n",
              "</div>"
            ],
            "text/plain": [
              "     팀이름 사업성\n",
              "0   아자아자  좋음\n",
              "1   할수있다  보통\n",
              "2  AI마피아  부족\n",
              "3   TF고수  보통\n",
              "4  경사하강법  잘함\n",
              "5    광인사  못함"
            ]
          },
          "metadata": {
            "tags": []
          },
          "execution_count": 95
        }
      ]
    },
    {
      "cell_type": "code",
      "metadata": {
        "colab": {
          "base_uri": "https://localhost:8080/",
          "height": 335
        },
        "id": "BHZYdIVZju-J",
        "outputId": "b0591503-df12-4ce9-e4de-7c074771974b"
      },
      "source": [
        "#행 선택\n",
        "test_data={'팀이름':['아자아자','할수있다','AI마피아','TF고수','경사하강법','광인사'],\n",
        "           '창의성':['상','중','하','상','중','하'],\n",
        "           '완성도':[100,80,70,90,50,60],\n",
        "           '사업성':['좋음','보통','부족','보통','잘함','못함']}\n",
        "df=pd.DataFrame(test_data,index=['11팀','12팀','13팀','14팀','15팀','16팀'])\n",
        "print(df.loc[['13팀']])\n",
        "print(df.iloc[[1]])\n",
        "print('=====================================')\n",
        "\n",
        "df.loc[['11팀','14팀']]\n",
        "print('\\n')\n",
        "df.iloc[[2,5]]\n",
        "\n",
        "print('\\n')\n",
        "df.loc['12팀':'14팀']\n",
        "df.iloc[1:5]\n",
        "\n",
        "print('\\n')\n",
        "df.loc['12팀'::2]\n",
        "df.iloc[1::2]"
      ],
      "execution_count": null,
      "outputs": [
        {
          "output_type": "stream",
          "text": [
            "       팀이름 창의성  완성도 사업성\n",
            "13팀  AI마피아   하   70  부족\n",
            "      팀이름 창의성  완성도 사업성\n",
            "12팀  할수있다   중   80  보통\n",
            "=====================================\n",
            "\n",
            "\n",
            "\n",
            "\n",
            "\n",
            "\n"
          ],
          "name": "stdout"
        },
        {
          "output_type": "execute_result",
          "data": {
            "text/html": [
              "<div>\n",
              "<style scoped>\n",
              "    .dataframe tbody tr th:only-of-type {\n",
              "        vertical-align: middle;\n",
              "    }\n",
              "\n",
              "    .dataframe tbody tr th {\n",
              "        vertical-align: top;\n",
              "    }\n",
              "\n",
              "    .dataframe thead th {\n",
              "        text-align: right;\n",
              "    }\n",
              "</style>\n",
              "<table border=\"1\" class=\"dataframe\">\n",
              "  <thead>\n",
              "    <tr style=\"text-align: right;\">\n",
              "      <th></th>\n",
              "      <th>팀이름</th>\n",
              "      <th>창의성</th>\n",
              "      <th>완성도</th>\n",
              "      <th>사업성</th>\n",
              "    </tr>\n",
              "  </thead>\n",
              "  <tbody>\n",
              "    <tr>\n",
              "      <th>12팀</th>\n",
              "      <td>할수있다</td>\n",
              "      <td>중</td>\n",
              "      <td>80</td>\n",
              "      <td>보통</td>\n",
              "    </tr>\n",
              "    <tr>\n",
              "      <th>14팀</th>\n",
              "      <td>TF고수</td>\n",
              "      <td>상</td>\n",
              "      <td>90</td>\n",
              "      <td>보통</td>\n",
              "    </tr>\n",
              "    <tr>\n",
              "      <th>16팀</th>\n",
              "      <td>광인사</td>\n",
              "      <td>하</td>\n",
              "      <td>60</td>\n",
              "      <td>못함</td>\n",
              "    </tr>\n",
              "  </tbody>\n",
              "</table>\n",
              "</div>"
            ],
            "text/plain": [
              "      팀이름 창의성  완성도 사업성\n",
              "12팀  할수있다   중   80  보통\n",
              "14팀  TF고수   상   90  보통\n",
              "16팀   광인사   하   60  못함"
            ]
          },
          "metadata": {
            "tags": []
          },
          "execution_count": 171
        }
      ]
    },
    {
      "cell_type": "code",
      "metadata": {
        "colab": {
          "base_uri": "https://localhost:8080/",
          "height": 234
        },
        "id": "2B4BSmYMn-ZV",
        "outputId": "a5071d98-3987-4814-bb8c-9e84ae4f1305"
      },
      "source": [
        "#원소 선택\n",
        "test_data={'이름':['상우','현정','문영','동엽','우제'],\n",
        "           '국어':[85,88,90,50,70],\n",
        "           '수학':[57,90,100,78,66],\n",
        "           '영어':[85,89,67,98,98],\n",
        "           '과학':[93,79,92,50,70],\n",
        "           '체육':[94,80,99,69,100]}\n",
        "df=pd.DataFrame(test_data)\n",
        "df.set_index('이름',inplace=True)    #'이름'을 index로 설정\n",
        "df"
      ],
      "execution_count": null,
      "outputs": [
        {
          "output_type": "execute_result",
          "data": {
            "text/html": [
              "<div>\n",
              "<style scoped>\n",
              "    .dataframe tbody tr th:only-of-type {\n",
              "        vertical-align: middle;\n",
              "    }\n",
              "\n",
              "    .dataframe tbody tr th {\n",
              "        vertical-align: top;\n",
              "    }\n",
              "\n",
              "    .dataframe thead th {\n",
              "        text-align: right;\n",
              "    }\n",
              "</style>\n",
              "<table border=\"1\" class=\"dataframe\">\n",
              "  <thead>\n",
              "    <tr style=\"text-align: right;\">\n",
              "      <th></th>\n",
              "      <th>국어</th>\n",
              "      <th>수학</th>\n",
              "      <th>영어</th>\n",
              "      <th>과학</th>\n",
              "      <th>체육</th>\n",
              "    </tr>\n",
              "    <tr>\n",
              "      <th>이름</th>\n",
              "      <th></th>\n",
              "      <th></th>\n",
              "      <th></th>\n",
              "      <th></th>\n",
              "      <th></th>\n",
              "    </tr>\n",
              "  </thead>\n",
              "  <tbody>\n",
              "    <tr>\n",
              "      <th>상우</th>\n",
              "      <td>85</td>\n",
              "      <td>57</td>\n",
              "      <td>85</td>\n",
              "      <td>93</td>\n",
              "      <td>94</td>\n",
              "    </tr>\n",
              "    <tr>\n",
              "      <th>현정</th>\n",
              "      <td>88</td>\n",
              "      <td>90</td>\n",
              "      <td>89</td>\n",
              "      <td>79</td>\n",
              "      <td>80</td>\n",
              "    </tr>\n",
              "    <tr>\n",
              "      <th>문영</th>\n",
              "      <td>90</td>\n",
              "      <td>100</td>\n",
              "      <td>67</td>\n",
              "      <td>92</td>\n",
              "      <td>99</td>\n",
              "    </tr>\n",
              "    <tr>\n",
              "      <th>동엽</th>\n",
              "      <td>50</td>\n",
              "      <td>78</td>\n",
              "      <td>98</td>\n",
              "      <td>50</td>\n",
              "      <td>69</td>\n",
              "    </tr>\n",
              "    <tr>\n",
              "      <th>우제</th>\n",
              "      <td>70</td>\n",
              "      <td>66</td>\n",
              "      <td>98</td>\n",
              "      <td>70</td>\n",
              "      <td>100</td>\n",
              "    </tr>\n",
              "  </tbody>\n",
              "</table>\n",
              "</div>"
            ],
            "text/plain": [
              "    국어   수학  영어  과학   체육\n",
              "이름                      \n",
              "상우  85   57  85  93   94\n",
              "현정  88   90  89  79   80\n",
              "문영  90  100  67  92   99\n",
              "동엽  50   78  98  50   69\n",
              "우제  70   66  98  70  100"
            ]
          },
          "metadata": {
            "tags": []
          },
          "execution_count": 158
        }
      ]
    },
    {
      "cell_type": "code",
      "metadata": {
        "colab": {
          "base_uri": "https://localhost:8080/",
          "height": 110
        },
        "id": "Q-iBWjI_qqmI",
        "outputId": "1a4e0441-84d0-44d8-9444-fe2027b41264"
      },
      "source": [
        "df.loc[['문영'],['영어']]"
      ],
      "execution_count": null,
      "outputs": [
        {
          "output_type": "execute_result",
          "data": {
            "text/html": [
              "<div>\n",
              "<style scoped>\n",
              "    .dataframe tbody tr th:only-of-type {\n",
              "        vertical-align: middle;\n",
              "    }\n",
              "\n",
              "    .dataframe tbody tr th {\n",
              "        vertical-align: top;\n",
              "    }\n",
              "\n",
              "    .dataframe thead th {\n",
              "        text-align: right;\n",
              "    }\n",
              "</style>\n",
              "<table border=\"1\" class=\"dataframe\">\n",
              "  <thead>\n",
              "    <tr style=\"text-align: right;\">\n",
              "      <th></th>\n",
              "      <th>영어</th>\n",
              "    </tr>\n",
              "    <tr>\n",
              "      <th>이름</th>\n",
              "      <th></th>\n",
              "    </tr>\n",
              "  </thead>\n",
              "  <tbody>\n",
              "    <tr>\n",
              "      <th>문영</th>\n",
              "      <td>67</td>\n",
              "    </tr>\n",
              "  </tbody>\n",
              "</table>\n",
              "</div>"
            ],
            "text/plain": [
              "    영어\n",
              "이름    \n",
              "문영  67"
            ]
          },
          "metadata": {
            "tags": []
          },
          "execution_count": 159
        }
      ]
    },
    {
      "cell_type": "code",
      "metadata": {
        "colab": {
          "base_uri": "https://localhost:8080/",
          "height": 110
        },
        "id": "kBsV6Vb4sSq-",
        "outputId": "2d55d479-77e1-41d9-b784-2a550515d3d3"
      },
      "source": [
        "df.iloc[[1],[1]]"
      ],
      "execution_count": null,
      "outputs": [
        {
          "output_type": "execute_result",
          "data": {
            "text/html": [
              "<div>\n",
              "<style scoped>\n",
              "    .dataframe tbody tr th:only-of-type {\n",
              "        vertical-align: middle;\n",
              "    }\n",
              "\n",
              "    .dataframe tbody tr th {\n",
              "        vertical-align: top;\n",
              "    }\n",
              "\n",
              "    .dataframe thead th {\n",
              "        text-align: right;\n",
              "    }\n",
              "</style>\n",
              "<table border=\"1\" class=\"dataframe\">\n",
              "  <thead>\n",
              "    <tr style=\"text-align: right;\">\n",
              "      <th></th>\n",
              "      <th>수학</th>\n",
              "    </tr>\n",
              "    <tr>\n",
              "      <th>이름</th>\n",
              "      <th></th>\n",
              "    </tr>\n",
              "  </thead>\n",
              "  <tbody>\n",
              "    <tr>\n",
              "      <th>현정</th>\n",
              "      <td>90</td>\n",
              "    </tr>\n",
              "  </tbody>\n",
              "</table>\n",
              "</div>"
            ],
            "text/plain": [
              "    수학\n",
              "이름    \n",
              "현정  90"
            ]
          },
          "metadata": {
            "tags": []
          },
          "execution_count": 160
        }
      ]
    },
    {
      "cell_type": "code",
      "metadata": {
        "colab": {
          "base_uri": "https://localhost:8080/",
          "height": 110
        },
        "id": "AX-njhZeq8kB",
        "outputId": "42c797e8-3d57-48e2-c92f-b5ba70346372"
      },
      "source": [
        "df.loc[['문영'],['국어','체육']]"
      ],
      "execution_count": null,
      "outputs": [
        {
          "output_type": "execute_result",
          "data": {
            "text/html": [
              "<div>\n",
              "<style scoped>\n",
              "    .dataframe tbody tr th:only-of-type {\n",
              "        vertical-align: middle;\n",
              "    }\n",
              "\n",
              "    .dataframe tbody tr th {\n",
              "        vertical-align: top;\n",
              "    }\n",
              "\n",
              "    .dataframe thead th {\n",
              "        text-align: right;\n",
              "    }\n",
              "</style>\n",
              "<table border=\"1\" class=\"dataframe\">\n",
              "  <thead>\n",
              "    <tr style=\"text-align: right;\">\n",
              "      <th></th>\n",
              "      <th>국어</th>\n",
              "      <th>체육</th>\n",
              "    </tr>\n",
              "    <tr>\n",
              "      <th>이름</th>\n",
              "      <th></th>\n",
              "      <th></th>\n",
              "    </tr>\n",
              "  </thead>\n",
              "  <tbody>\n",
              "    <tr>\n",
              "      <th>문영</th>\n",
              "      <td>90</td>\n",
              "      <td>99</td>\n",
              "    </tr>\n",
              "  </tbody>\n",
              "</table>\n",
              "</div>"
            ],
            "text/plain": [
              "    국어  체육\n",
              "이름        \n",
              "문영  90  99"
            ]
          },
          "metadata": {
            "tags": []
          },
          "execution_count": 161
        }
      ]
    },
    {
      "cell_type": "code",
      "metadata": {
        "colab": {
          "base_uri": "https://localhost:8080/",
          "height": 110
        },
        "id": "zNp7TdRWrPYL",
        "outputId": "7a334ecf-ade8-4ee9-bbab-973fbe4d9425"
      },
      "source": [
        "df.iloc[[2],[0,3]]"
      ],
      "execution_count": null,
      "outputs": [
        {
          "output_type": "execute_result",
          "data": {
            "text/html": [
              "<div>\n",
              "<style scoped>\n",
              "    .dataframe tbody tr th:only-of-type {\n",
              "        vertical-align: middle;\n",
              "    }\n",
              "\n",
              "    .dataframe tbody tr th {\n",
              "        vertical-align: top;\n",
              "    }\n",
              "\n",
              "    .dataframe thead th {\n",
              "        text-align: right;\n",
              "    }\n",
              "</style>\n",
              "<table border=\"1\" class=\"dataframe\">\n",
              "  <thead>\n",
              "    <tr style=\"text-align: right;\">\n",
              "      <th></th>\n",
              "      <th>국어</th>\n",
              "      <th>과학</th>\n",
              "    </tr>\n",
              "    <tr>\n",
              "      <th>이름</th>\n",
              "      <th></th>\n",
              "      <th></th>\n",
              "    </tr>\n",
              "  </thead>\n",
              "  <tbody>\n",
              "    <tr>\n",
              "      <th>문영</th>\n",
              "      <td>90</td>\n",
              "      <td>92</td>\n",
              "    </tr>\n",
              "  </tbody>\n",
              "</table>\n",
              "</div>"
            ],
            "text/plain": [
              "    국어  과학\n",
              "이름        \n",
              "문영  90  92"
            ]
          },
          "metadata": {
            "tags": []
          },
          "execution_count": 163
        }
      ]
    },
    {
      "cell_type": "code",
      "metadata": {
        "colab": {
          "base_uri": "https://localhost:8080/",
          "height": 142
        },
        "id": "suTmelaasW3f",
        "outputId": "9ac33816-67cc-4c8c-92e2-1002d85803e9"
      },
      "source": [
        "df.loc[['문영','동엽'],['국어']]"
      ],
      "execution_count": null,
      "outputs": [
        {
          "output_type": "execute_result",
          "data": {
            "text/html": [
              "<div>\n",
              "<style scoped>\n",
              "    .dataframe tbody tr th:only-of-type {\n",
              "        vertical-align: middle;\n",
              "    }\n",
              "\n",
              "    .dataframe tbody tr th {\n",
              "        vertical-align: top;\n",
              "    }\n",
              "\n",
              "    .dataframe thead th {\n",
              "        text-align: right;\n",
              "    }\n",
              "</style>\n",
              "<table border=\"1\" class=\"dataframe\">\n",
              "  <thead>\n",
              "    <tr style=\"text-align: right;\">\n",
              "      <th></th>\n",
              "      <th>국어</th>\n",
              "    </tr>\n",
              "    <tr>\n",
              "      <th>이름</th>\n",
              "      <th></th>\n",
              "    </tr>\n",
              "  </thead>\n",
              "  <tbody>\n",
              "    <tr>\n",
              "      <th>문영</th>\n",
              "      <td>90</td>\n",
              "    </tr>\n",
              "    <tr>\n",
              "      <th>동엽</th>\n",
              "      <td>50</td>\n",
              "    </tr>\n",
              "  </tbody>\n",
              "</table>\n",
              "</div>"
            ],
            "text/plain": [
              "    국어\n",
              "이름    \n",
              "문영  90\n",
              "동엽  50"
            ]
          },
          "metadata": {
            "tags": []
          },
          "execution_count": 164
        }
      ]
    },
    {
      "cell_type": "code",
      "metadata": {
        "colab": {
          "base_uri": "https://localhost:8080/",
          "height": 142
        },
        "id": "AbaUin8rs5ir",
        "outputId": "12619931-6e60-4ae9-b48e-4df1ade83756"
      },
      "source": [
        "df.iloc[[1,3],[0,2,4]]"
      ],
      "execution_count": null,
      "outputs": [
        {
          "output_type": "execute_result",
          "data": {
            "text/html": [
              "<div>\n",
              "<style scoped>\n",
              "    .dataframe tbody tr th:only-of-type {\n",
              "        vertical-align: middle;\n",
              "    }\n",
              "\n",
              "    .dataframe tbody tr th {\n",
              "        vertical-align: top;\n",
              "    }\n",
              "\n",
              "    .dataframe thead th {\n",
              "        text-align: right;\n",
              "    }\n",
              "</style>\n",
              "<table border=\"1\" class=\"dataframe\">\n",
              "  <thead>\n",
              "    <tr style=\"text-align: right;\">\n",
              "      <th></th>\n",
              "      <th>국어</th>\n",
              "      <th>영어</th>\n",
              "      <th>체육</th>\n",
              "    </tr>\n",
              "    <tr>\n",
              "      <th>이름</th>\n",
              "      <th></th>\n",
              "      <th></th>\n",
              "      <th></th>\n",
              "    </tr>\n",
              "  </thead>\n",
              "  <tbody>\n",
              "    <tr>\n",
              "      <th>현정</th>\n",
              "      <td>88</td>\n",
              "      <td>89</td>\n",
              "      <td>80</td>\n",
              "    </tr>\n",
              "    <tr>\n",
              "      <th>동엽</th>\n",
              "      <td>50</td>\n",
              "      <td>98</td>\n",
              "      <td>69</td>\n",
              "    </tr>\n",
              "  </tbody>\n",
              "</table>\n",
              "</div>"
            ],
            "text/plain": [
              "    국어  영어  체육\n",
              "이름            \n",
              "현정  88  89  80\n",
              "동엽  50  98  69"
            ]
          },
          "metadata": {
            "tags": []
          },
          "execution_count": 169
        }
      ]
    },
    {
      "cell_type": "markdown",
      "metadata": {
        "id": "RRyRFYNPtPWp"
      },
      "source": [
        "20.Index활용"
      ]
    },
    {
      "cell_type": "code",
      "metadata": {
        "colab": {
          "base_uri": "https://localhost:8080/",
          "height": 203
        },
        "id": "ciP5Yw3hs7U4",
        "outputId": "c7d84f56-0e04-4e3a-e420-edc556836c0c"
      },
      "source": [
        "test_data={'이름':['상우','현정','문영','동엽','우제'],\n",
        "           '국어':[85,88,90,50,70],\n",
        "           '수학':[57,90,100,78,66],\n",
        "           '영어':[85,89,67,98,98],\n",
        "           '과학':[93,79,92,50,70],\n",
        "           '체육':[94,80,99,69,100]}\n",
        "df=pd.DataFrame(test_data)\n",
        "df"
      ],
      "execution_count": null,
      "outputs": [
        {
          "output_type": "execute_result",
          "data": {
            "text/html": [
              "<div>\n",
              "<style scoped>\n",
              "    .dataframe tbody tr th:only-of-type {\n",
              "        vertical-align: middle;\n",
              "    }\n",
              "\n",
              "    .dataframe tbody tr th {\n",
              "        vertical-align: top;\n",
              "    }\n",
              "\n",
              "    .dataframe thead th {\n",
              "        text-align: right;\n",
              "    }\n",
              "</style>\n",
              "<table border=\"1\" class=\"dataframe\">\n",
              "  <thead>\n",
              "    <tr style=\"text-align: right;\">\n",
              "      <th></th>\n",
              "      <th>이름</th>\n",
              "      <th>국어</th>\n",
              "      <th>수학</th>\n",
              "      <th>영어</th>\n",
              "      <th>과학</th>\n",
              "      <th>체육</th>\n",
              "    </tr>\n",
              "  </thead>\n",
              "  <tbody>\n",
              "    <tr>\n",
              "      <th>0</th>\n",
              "      <td>상우</td>\n",
              "      <td>85</td>\n",
              "      <td>57</td>\n",
              "      <td>85</td>\n",
              "      <td>93</td>\n",
              "      <td>94</td>\n",
              "    </tr>\n",
              "    <tr>\n",
              "      <th>1</th>\n",
              "      <td>현정</td>\n",
              "      <td>88</td>\n",
              "      <td>90</td>\n",
              "      <td>89</td>\n",
              "      <td>79</td>\n",
              "      <td>80</td>\n",
              "    </tr>\n",
              "    <tr>\n",
              "      <th>2</th>\n",
              "      <td>문영</td>\n",
              "      <td>90</td>\n",
              "      <td>100</td>\n",
              "      <td>67</td>\n",
              "      <td>92</td>\n",
              "      <td>99</td>\n",
              "    </tr>\n",
              "    <tr>\n",
              "      <th>3</th>\n",
              "      <td>동엽</td>\n",
              "      <td>50</td>\n",
              "      <td>78</td>\n",
              "      <td>98</td>\n",
              "      <td>50</td>\n",
              "      <td>69</td>\n",
              "    </tr>\n",
              "    <tr>\n",
              "      <th>4</th>\n",
              "      <td>우제</td>\n",
              "      <td>70</td>\n",
              "      <td>66</td>\n",
              "      <td>98</td>\n",
              "      <td>70</td>\n",
              "      <td>100</td>\n",
              "    </tr>\n",
              "  </tbody>\n",
              "</table>\n",
              "</div>"
            ],
            "text/plain": [
              "   이름  국어   수학  영어  과학   체육\n",
              "0  상우  85   57  85  93   94\n",
              "1  현정  88   90  89  79   80\n",
              "2  문영  90  100  67  92   99\n",
              "3  동엽  50   78  98  50   69\n",
              "4  우제  70   66  98  70  100"
            ]
          },
          "metadata": {
            "tags": []
          },
          "execution_count": 178
        }
      ]
    },
    {
      "cell_type": "code",
      "metadata": {
        "colab": {
          "base_uri": "https://localhost:8080/",
          "height": 203
        },
        "id": "i0a-IqbQtpxA",
        "outputId": "6d11cae9-ad3e-4c50-85a3-63bbff0c30d1"
      },
      "source": [
        "df['체육']=90\n",
        "df['사회']=[89,69,79,80,100]\n",
        "df"
      ],
      "execution_count": null,
      "outputs": [
        {
          "output_type": "execute_result",
          "data": {
            "text/html": [
              "<div>\n",
              "<style scoped>\n",
              "    .dataframe tbody tr th:only-of-type {\n",
              "        vertical-align: middle;\n",
              "    }\n",
              "\n",
              "    .dataframe tbody tr th {\n",
              "        vertical-align: top;\n",
              "    }\n",
              "\n",
              "    .dataframe thead th {\n",
              "        text-align: right;\n",
              "    }\n",
              "</style>\n",
              "<table border=\"1\" class=\"dataframe\">\n",
              "  <thead>\n",
              "    <tr style=\"text-align: right;\">\n",
              "      <th></th>\n",
              "      <th>이름</th>\n",
              "      <th>국어</th>\n",
              "      <th>수학</th>\n",
              "      <th>영어</th>\n",
              "      <th>과학</th>\n",
              "      <th>체육</th>\n",
              "      <th>사회</th>\n",
              "    </tr>\n",
              "  </thead>\n",
              "  <tbody>\n",
              "    <tr>\n",
              "      <th>0</th>\n",
              "      <td>상우</td>\n",
              "      <td>85</td>\n",
              "      <td>57</td>\n",
              "      <td>85</td>\n",
              "      <td>93</td>\n",
              "      <td>90</td>\n",
              "      <td>89</td>\n",
              "    </tr>\n",
              "    <tr>\n",
              "      <th>1</th>\n",
              "      <td>현정</td>\n",
              "      <td>88</td>\n",
              "      <td>90</td>\n",
              "      <td>89</td>\n",
              "      <td>79</td>\n",
              "      <td>90</td>\n",
              "      <td>69</td>\n",
              "    </tr>\n",
              "    <tr>\n",
              "      <th>2</th>\n",
              "      <td>문영</td>\n",
              "      <td>90</td>\n",
              "      <td>100</td>\n",
              "      <td>67</td>\n",
              "      <td>92</td>\n",
              "      <td>90</td>\n",
              "      <td>79</td>\n",
              "    </tr>\n",
              "    <tr>\n",
              "      <th>3</th>\n",
              "      <td>동엽</td>\n",
              "      <td>50</td>\n",
              "      <td>78</td>\n",
              "      <td>98</td>\n",
              "      <td>50</td>\n",
              "      <td>90</td>\n",
              "      <td>80</td>\n",
              "    </tr>\n",
              "    <tr>\n",
              "      <th>4</th>\n",
              "      <td>우제</td>\n",
              "      <td>70</td>\n",
              "      <td>66</td>\n",
              "      <td>98</td>\n",
              "      <td>70</td>\n",
              "      <td>90</td>\n",
              "      <td>100</td>\n",
              "    </tr>\n",
              "  </tbody>\n",
              "</table>\n",
              "</div>"
            ],
            "text/plain": [
              "   이름  국어   수학  영어  과학  체육   사회\n",
              "0  상우  85   57  85  93  90   89\n",
              "1  현정  88   90  89  79  90   69\n",
              "2  문영  90  100  67  92  90   79\n",
              "3  동엽  50   78  98  50  90   80\n",
              "4  우제  70   66  98  70  90  100"
            ]
          },
          "metadata": {
            "tags": []
          },
          "execution_count": 179
        }
      ]
    },
    {
      "cell_type": "code",
      "metadata": {
        "colab": {
          "base_uri": "https://localhost:8080/",
          "height": 295
        },
        "id": "1nedsY0it0rT",
        "outputId": "3a79b9ea-bc50-4af5-af2c-4cdded176d30"
      },
      "source": [
        "df.loc[5]=100\n",
        "df.loc[6]=['jack',90,100,92,93,95,96]\n",
        "df.loc['일곱']=['Michael',71,72,75,76,74,73]\n",
        "df"
      ],
      "execution_count": null,
      "outputs": [
        {
          "output_type": "execute_result",
          "data": {
            "text/html": [
              "<div>\n",
              "<style scoped>\n",
              "    .dataframe tbody tr th:only-of-type {\n",
              "        vertical-align: middle;\n",
              "    }\n",
              "\n",
              "    .dataframe tbody tr th {\n",
              "        vertical-align: top;\n",
              "    }\n",
              "\n",
              "    .dataframe thead th {\n",
              "        text-align: right;\n",
              "    }\n",
              "</style>\n",
              "<table border=\"1\" class=\"dataframe\">\n",
              "  <thead>\n",
              "    <tr style=\"text-align: right;\">\n",
              "      <th></th>\n",
              "      <th>이름</th>\n",
              "      <th>국어</th>\n",
              "      <th>수학</th>\n",
              "      <th>영어</th>\n",
              "      <th>과학</th>\n",
              "      <th>체육</th>\n",
              "      <th>사회</th>\n",
              "    </tr>\n",
              "  </thead>\n",
              "  <tbody>\n",
              "    <tr>\n",
              "      <th>0</th>\n",
              "      <td>상우</td>\n",
              "      <td>85</td>\n",
              "      <td>57</td>\n",
              "      <td>85</td>\n",
              "      <td>93</td>\n",
              "      <td>90</td>\n",
              "      <td>89</td>\n",
              "    </tr>\n",
              "    <tr>\n",
              "      <th>1</th>\n",
              "      <td>현정</td>\n",
              "      <td>88</td>\n",
              "      <td>90</td>\n",
              "      <td>89</td>\n",
              "      <td>79</td>\n",
              "      <td>90</td>\n",
              "      <td>69</td>\n",
              "    </tr>\n",
              "    <tr>\n",
              "      <th>2</th>\n",
              "      <td>문영</td>\n",
              "      <td>90</td>\n",
              "      <td>100</td>\n",
              "      <td>67</td>\n",
              "      <td>92</td>\n",
              "      <td>90</td>\n",
              "      <td>79</td>\n",
              "    </tr>\n",
              "    <tr>\n",
              "      <th>3</th>\n",
              "      <td>동엽</td>\n",
              "      <td>50</td>\n",
              "      <td>78</td>\n",
              "      <td>98</td>\n",
              "      <td>50</td>\n",
              "      <td>90</td>\n",
              "      <td>80</td>\n",
              "    </tr>\n",
              "    <tr>\n",
              "      <th>4</th>\n",
              "      <td>우제</td>\n",
              "      <td>70</td>\n",
              "      <td>66</td>\n",
              "      <td>98</td>\n",
              "      <td>70</td>\n",
              "      <td>90</td>\n",
              "      <td>100</td>\n",
              "    </tr>\n",
              "    <tr>\n",
              "      <th>5</th>\n",
              "      <td>100</td>\n",
              "      <td>100</td>\n",
              "      <td>100</td>\n",
              "      <td>100</td>\n",
              "      <td>100</td>\n",
              "      <td>100</td>\n",
              "      <td>100</td>\n",
              "    </tr>\n",
              "    <tr>\n",
              "      <th>6</th>\n",
              "      <td>jack</td>\n",
              "      <td>90</td>\n",
              "      <td>100</td>\n",
              "      <td>92</td>\n",
              "      <td>93</td>\n",
              "      <td>95</td>\n",
              "      <td>96</td>\n",
              "    </tr>\n",
              "    <tr>\n",
              "      <th>일곱</th>\n",
              "      <td>Michael</td>\n",
              "      <td>71</td>\n",
              "      <td>72</td>\n",
              "      <td>75</td>\n",
              "      <td>76</td>\n",
              "      <td>74</td>\n",
              "      <td>73</td>\n",
              "    </tr>\n",
              "  </tbody>\n",
              "</table>\n",
              "</div>"
            ],
            "text/plain": [
              "         이름   국어   수학   영어   과학   체육   사회\n",
              "0        상우   85   57   85   93   90   89\n",
              "1        현정   88   90   89   79   90   69\n",
              "2        문영   90  100   67   92   90   79\n",
              "3        동엽   50   78   98   50   90   80\n",
              "4        우제   70   66   98   70   90  100\n",
              "5       100  100  100  100  100  100  100\n",
              "6      jack   90  100   92   93   95   96\n",
              "일곱  Michael   71   72   75   76   74   73"
            ]
          },
          "metadata": {
            "tags": []
          },
          "execution_count": 188
        }
      ]
    },
    {
      "cell_type": "code",
      "metadata": {
        "colab": {
          "base_uri": "https://localhost:8080/",
          "height": 586
        },
        "id": "3tMgdCmKt5Hu",
        "outputId": "0089e6ff-4dd5-42c0-efa1-81d37fb55f4a"
      },
      "source": [
        "test_data={'상호명':['상우네','현정이네','문영이네','동엽이네','우제네'],\n",
        "           '사과':[850,880,900,500,700],\n",
        "           '배':[570,900,1000,780,660],\n",
        "           '딸기':[850,890,670,980,908],\n",
        "           '포도':[930,790,920,500,700]}\n",
        "df=pd.DataFrame(test_data)\n",
        "print(df)\n",
        "\n",
        "new_df1=df.set_index('상호명')\n",
        "print(new_df1)\n",
        "\n",
        "new_df2=df.set_index(['사과'])\n",
        "print(new_df2)\n",
        "\n",
        "df.set_index(['상호명'],inplace=True)\n",
        "df"
      ],
      "execution_count": null,
      "outputs": [
        {
          "output_type": "stream",
          "text": [
            "    상호명   사과     배   딸기   포도\n",
            "0   상우네  850   570  850  930\n",
            "1  현정이네  880   900  890  790\n",
            "2  문영이네  900  1000  670  920\n",
            "3  동엽이네  500   780  980  500\n",
            "4   우제네  700   660  908  700\n",
            "       사과     배   딸기   포도\n",
            "상호명                      \n",
            "상우네   850   570  850  930\n",
            "현정이네  880   900  890  790\n",
            "문영이네  900  1000  670  920\n",
            "동엽이네  500   780  980  500\n",
            "우제네   700   660  908  700\n",
            "      상호명     배   딸기   포도\n",
            "사과                       \n",
            "850   상우네   570  850  930\n",
            "880  현정이네   900  890  790\n",
            "900  문영이네  1000  670  920\n",
            "500  동엽이네   780  980  500\n",
            "700   우제네   660  908  700\n"
          ],
          "name": "stdout"
        },
        {
          "output_type": "execute_result",
          "data": {
            "text/html": [
              "<div>\n",
              "<style scoped>\n",
              "    .dataframe tbody tr th:only-of-type {\n",
              "        vertical-align: middle;\n",
              "    }\n",
              "\n",
              "    .dataframe tbody tr th {\n",
              "        vertical-align: top;\n",
              "    }\n",
              "\n",
              "    .dataframe thead th {\n",
              "        text-align: right;\n",
              "    }\n",
              "</style>\n",
              "<table border=\"1\" class=\"dataframe\">\n",
              "  <thead>\n",
              "    <tr style=\"text-align: right;\">\n",
              "      <th></th>\n",
              "      <th>사과</th>\n",
              "      <th>배</th>\n",
              "      <th>딸기</th>\n",
              "      <th>포도</th>\n",
              "    </tr>\n",
              "    <tr>\n",
              "      <th>상호명</th>\n",
              "      <th></th>\n",
              "      <th></th>\n",
              "      <th></th>\n",
              "      <th></th>\n",
              "    </tr>\n",
              "  </thead>\n",
              "  <tbody>\n",
              "    <tr>\n",
              "      <th>상우네</th>\n",
              "      <td>850</td>\n",
              "      <td>570</td>\n",
              "      <td>850</td>\n",
              "      <td>930</td>\n",
              "    </tr>\n",
              "    <tr>\n",
              "      <th>현정이네</th>\n",
              "      <td>880</td>\n",
              "      <td>900</td>\n",
              "      <td>890</td>\n",
              "      <td>790</td>\n",
              "    </tr>\n",
              "    <tr>\n",
              "      <th>문영이네</th>\n",
              "      <td>900</td>\n",
              "      <td>1000</td>\n",
              "      <td>670</td>\n",
              "      <td>920</td>\n",
              "    </tr>\n",
              "    <tr>\n",
              "      <th>동엽이네</th>\n",
              "      <td>500</td>\n",
              "      <td>780</td>\n",
              "      <td>980</td>\n",
              "      <td>500</td>\n",
              "    </tr>\n",
              "    <tr>\n",
              "      <th>우제네</th>\n",
              "      <td>700</td>\n",
              "      <td>660</td>\n",
              "      <td>908</td>\n",
              "      <td>700</td>\n",
              "    </tr>\n",
              "  </tbody>\n",
              "</table>\n",
              "</div>"
            ],
            "text/plain": [
              "       사과     배   딸기   포도\n",
              "상호명                      \n",
              "상우네   850   570  850  930\n",
              "현정이네  880   900  890  790\n",
              "문영이네  900  1000  670  920\n",
              "동엽이네  500   780  980  500\n",
              "우제네   700   660  908  700"
            ]
          },
          "metadata": {
            "tags": []
          },
          "execution_count": 209
        }
      ]
    },
    {
      "cell_type": "code",
      "metadata": {
        "colab": {
          "base_uri": "https://localhost:8080/",
          "height": 498
        },
        "id": "Y_UzhrhnvPzd",
        "outputId": "d8230511-7c65-4dd8-f406-b3c10b5f017d"
      },
      "source": [
        "df1=pd.DataFrame(test_data,index=[4,2,1,0,3])\n",
        "print(df1)\n",
        "print('\\n')\n",
        "\n",
        "new_index=[0,1,2,3,4,5]\n",
        "reindex_df1=df1.reindex(new_index)\n",
        "print(reindex_df1)\n",
        "\n",
        "#fill_value로 NaN 데이터 채우기\n",
        "reindex_df2=df1.reindex(new_index,fill_value=777)\n",
        "reindex_df2"
      ],
      "execution_count": null,
      "outputs": [
        {
          "output_type": "stream",
          "text": [
            "    상호명   사과     배   딸기   포도\n",
            "4   상우네  850   570  850  930\n",
            "2  현정이네  880   900  890  790\n",
            "1  문영이네  900  1000  670  920\n",
            "0  동엽이네  500   780  980  500\n",
            "3   우제네  700   660  908  700\n",
            "\n",
            "\n",
            "    상호명     사과       배     딸기     포도\n",
            "0  동엽이네  500.0   780.0  980.0  500.0\n",
            "1  문영이네  900.0  1000.0  670.0  920.0\n",
            "2  현정이네  880.0   900.0  890.0  790.0\n",
            "3   우제네  700.0   660.0  908.0  700.0\n",
            "4   상우네  850.0   570.0  850.0  930.0\n",
            "5   NaN    NaN     NaN    NaN    NaN\n"
          ],
          "name": "stdout"
        },
        {
          "output_type": "execute_result",
          "data": {
            "text/html": [
              "<div>\n",
              "<style scoped>\n",
              "    .dataframe tbody tr th:only-of-type {\n",
              "        vertical-align: middle;\n",
              "    }\n",
              "\n",
              "    .dataframe tbody tr th {\n",
              "        vertical-align: top;\n",
              "    }\n",
              "\n",
              "    .dataframe thead th {\n",
              "        text-align: right;\n",
              "    }\n",
              "</style>\n",
              "<table border=\"1\" class=\"dataframe\">\n",
              "  <thead>\n",
              "    <tr style=\"text-align: right;\">\n",
              "      <th></th>\n",
              "      <th>상호명</th>\n",
              "      <th>사과</th>\n",
              "      <th>배</th>\n",
              "      <th>딸기</th>\n",
              "      <th>포도</th>\n",
              "    </tr>\n",
              "  </thead>\n",
              "  <tbody>\n",
              "    <tr>\n",
              "      <th>0</th>\n",
              "      <td>동엽이네</td>\n",
              "      <td>500</td>\n",
              "      <td>780</td>\n",
              "      <td>980</td>\n",
              "      <td>500</td>\n",
              "    </tr>\n",
              "    <tr>\n",
              "      <th>1</th>\n",
              "      <td>문영이네</td>\n",
              "      <td>900</td>\n",
              "      <td>1000</td>\n",
              "      <td>670</td>\n",
              "      <td>920</td>\n",
              "    </tr>\n",
              "    <tr>\n",
              "      <th>2</th>\n",
              "      <td>현정이네</td>\n",
              "      <td>880</td>\n",
              "      <td>900</td>\n",
              "      <td>890</td>\n",
              "      <td>790</td>\n",
              "    </tr>\n",
              "    <tr>\n",
              "      <th>3</th>\n",
              "      <td>우제네</td>\n",
              "      <td>700</td>\n",
              "      <td>660</td>\n",
              "      <td>908</td>\n",
              "      <td>700</td>\n",
              "    </tr>\n",
              "    <tr>\n",
              "      <th>4</th>\n",
              "      <td>상우네</td>\n",
              "      <td>850</td>\n",
              "      <td>570</td>\n",
              "      <td>850</td>\n",
              "      <td>930</td>\n",
              "    </tr>\n",
              "    <tr>\n",
              "      <th>5</th>\n",
              "      <td>777</td>\n",
              "      <td>777</td>\n",
              "      <td>777</td>\n",
              "      <td>777</td>\n",
              "      <td>777</td>\n",
              "    </tr>\n",
              "  </tbody>\n",
              "</table>\n",
              "</div>"
            ],
            "text/plain": [
              "    상호명   사과     배   딸기   포도\n",
              "0  동엽이네  500   780  980  500\n",
              "1  문영이네  900  1000  670  920\n",
              "2  현정이네  880   900  890  790\n",
              "3   우제네  700   660  908  700\n",
              "4   상우네  850   570  850  930\n",
              "5   777  777   777  777  777"
            ]
          },
          "metadata": {
            "tags": []
          },
          "execution_count": 216
        }
      ]
    },
    {
      "cell_type": "code",
      "metadata": {
        "colab": {
          "base_uri": "https://localhost:8080/",
          "height": 234
        },
        "id": "7Nl76_pJxSW-",
        "outputId": "b6266b76-b827-4178-9121-8c540fccb61b"
      },
      "source": [
        "reindex_df2.set_index('상호명',inplace=True)\n",
        "reindex_df2.reset_index()"
      ],
      "execution_count": null,
      "outputs": [
        {
          "output_type": "execute_result",
          "data": {
            "text/html": [
              "<div>\n",
              "<style scoped>\n",
              "    .dataframe tbody tr th:only-of-type {\n",
              "        vertical-align: middle;\n",
              "    }\n",
              "\n",
              "    .dataframe tbody tr th {\n",
              "        vertical-align: top;\n",
              "    }\n",
              "\n",
              "    .dataframe thead th {\n",
              "        text-align: right;\n",
              "    }\n",
              "</style>\n",
              "<table border=\"1\" class=\"dataframe\">\n",
              "  <thead>\n",
              "    <tr style=\"text-align: right;\">\n",
              "      <th></th>\n",
              "      <th>상호명</th>\n",
              "      <th>사과</th>\n",
              "      <th>배</th>\n",
              "      <th>딸기</th>\n",
              "      <th>포도</th>\n",
              "    </tr>\n",
              "  </thead>\n",
              "  <tbody>\n",
              "    <tr>\n",
              "      <th>0</th>\n",
              "      <td>동엽이네</td>\n",
              "      <td>500</td>\n",
              "      <td>780</td>\n",
              "      <td>980</td>\n",
              "      <td>500</td>\n",
              "    </tr>\n",
              "    <tr>\n",
              "      <th>1</th>\n",
              "      <td>문영이네</td>\n",
              "      <td>900</td>\n",
              "      <td>1000</td>\n",
              "      <td>670</td>\n",
              "      <td>920</td>\n",
              "    </tr>\n",
              "    <tr>\n",
              "      <th>2</th>\n",
              "      <td>현정이네</td>\n",
              "      <td>880</td>\n",
              "      <td>900</td>\n",
              "      <td>890</td>\n",
              "      <td>790</td>\n",
              "    </tr>\n",
              "    <tr>\n",
              "      <th>3</th>\n",
              "      <td>우제네</td>\n",
              "      <td>700</td>\n",
              "      <td>660</td>\n",
              "      <td>908</td>\n",
              "      <td>700</td>\n",
              "    </tr>\n",
              "    <tr>\n",
              "      <th>4</th>\n",
              "      <td>상우네</td>\n",
              "      <td>850</td>\n",
              "      <td>570</td>\n",
              "      <td>850</td>\n",
              "      <td>930</td>\n",
              "    </tr>\n",
              "    <tr>\n",
              "      <th>5</th>\n",
              "      <td>777</td>\n",
              "      <td>777</td>\n",
              "      <td>777</td>\n",
              "      <td>777</td>\n",
              "      <td>777</td>\n",
              "    </tr>\n",
              "  </tbody>\n",
              "</table>\n",
              "</div>"
            ],
            "text/plain": [
              "    상호명   사과     배   딸기   포도\n",
              "0  동엽이네  500   780  980  500\n",
              "1  문영이네  900  1000  670  920\n",
              "2  현정이네  880   900  890  790\n",
              "3   우제네  700   660  908  700\n",
              "4   상우네  850   570  850  930\n",
              "5   777  777   777  777  777"
            ]
          },
          "metadata": {
            "tags": []
          },
          "execution_count": 217
        }
      ]
    },
    {
      "cell_type": "code",
      "metadata": {
        "colab": {
          "base_uri": "https://localhost:8080/",
          "height": 590
        },
        "id": "NUWqoFib3zyY",
        "outputId": "fda28eb4-6789-4d5b-9f36-883531330b7a"
      },
      "source": [
        "test_data={'상호명':['상우네','현정이네','문영이네','동엽이네','우제네'],\n",
        "           '사과':[850,880,900,500,700],\n",
        "           '배':[570,900,1000,780,660],\n",
        "           '딸기':[850,890,670,980,908],\n",
        "           '포도':[930,790,920,500,700]}\n",
        "df=pd.DataFrame(test_data,index=[4,2,1,0,3])\n",
        "print(df)\n",
        "print('\\n')\n",
        "sorted_df=df.sort_index()\n",
        "print(sorted_df)\n",
        "print('\\n')\n",
        "\n",
        "#오름차순 True, 내림차순 False\n",
        "ascending_df=df.sort_index(ascending=True)\n",
        "print(ascending_df)\n",
        "descending_df=df.sort_index(ascending=False)\n",
        "descending_df"
      ],
      "execution_count": null,
      "outputs": [
        {
          "output_type": "stream",
          "text": [
            "    상호명   사과     배   딸기   포도\n",
            "4   상우네  850   570  850  930\n",
            "2  현정이네  880   900  890  790\n",
            "1  문영이네  900  1000  670  920\n",
            "0  동엽이네  500   780  980  500\n",
            "3   우제네  700   660  908  700\n",
            "\n",
            "\n",
            "    상호명   사과     배   딸기   포도\n",
            "0  동엽이네  500   780  980  500\n",
            "1  문영이네  900  1000  670  920\n",
            "2  현정이네  880   900  890  790\n",
            "3   우제네  700   660  908  700\n",
            "4   상우네  850   570  850  930\n",
            "\n",
            "\n",
            "    상호명   사과     배   딸기   포도\n",
            "0  동엽이네  500   780  980  500\n",
            "1  문영이네  900  1000  670  920\n",
            "2  현정이네  880   900  890  790\n",
            "3   우제네  700   660  908  700\n",
            "4   상우네  850   570  850  930\n"
          ],
          "name": "stdout"
        },
        {
          "output_type": "execute_result",
          "data": {
            "text/html": [
              "<div>\n",
              "<style scoped>\n",
              "    .dataframe tbody tr th:only-of-type {\n",
              "        vertical-align: middle;\n",
              "    }\n",
              "\n",
              "    .dataframe tbody tr th {\n",
              "        vertical-align: top;\n",
              "    }\n",
              "\n",
              "    .dataframe thead th {\n",
              "        text-align: right;\n",
              "    }\n",
              "</style>\n",
              "<table border=\"1\" class=\"dataframe\">\n",
              "  <thead>\n",
              "    <tr style=\"text-align: right;\">\n",
              "      <th></th>\n",
              "      <th>상호명</th>\n",
              "      <th>사과</th>\n",
              "      <th>배</th>\n",
              "      <th>딸기</th>\n",
              "      <th>포도</th>\n",
              "    </tr>\n",
              "  </thead>\n",
              "  <tbody>\n",
              "    <tr>\n",
              "      <th>4</th>\n",
              "      <td>상우네</td>\n",
              "      <td>850</td>\n",
              "      <td>570</td>\n",
              "      <td>850</td>\n",
              "      <td>930</td>\n",
              "    </tr>\n",
              "    <tr>\n",
              "      <th>3</th>\n",
              "      <td>우제네</td>\n",
              "      <td>700</td>\n",
              "      <td>660</td>\n",
              "      <td>908</td>\n",
              "      <td>700</td>\n",
              "    </tr>\n",
              "    <tr>\n",
              "      <th>2</th>\n",
              "      <td>현정이네</td>\n",
              "      <td>880</td>\n",
              "      <td>900</td>\n",
              "      <td>890</td>\n",
              "      <td>790</td>\n",
              "    </tr>\n",
              "    <tr>\n",
              "      <th>1</th>\n",
              "      <td>문영이네</td>\n",
              "      <td>900</td>\n",
              "      <td>1000</td>\n",
              "      <td>670</td>\n",
              "      <td>920</td>\n",
              "    </tr>\n",
              "    <tr>\n",
              "      <th>0</th>\n",
              "      <td>동엽이네</td>\n",
              "      <td>500</td>\n",
              "      <td>780</td>\n",
              "      <td>980</td>\n",
              "      <td>500</td>\n",
              "    </tr>\n",
              "  </tbody>\n",
              "</table>\n",
              "</div>"
            ],
            "text/plain": [
              "    상호명   사과     배   딸기   포도\n",
              "4   상우네  850   570  850  930\n",
              "3   우제네  700   660  908  700\n",
              "2  현정이네  880   900  890  790\n",
              "1  문영이네  900  1000  670  920\n",
              "0  동엽이네  500   780  980  500"
            ]
          },
          "metadata": {
            "tags": []
          },
          "execution_count": 221
        }
      ]
    },
    {
      "cell_type": "code",
      "metadata": {
        "colab": {
          "base_uri": "https://localhost:8080/",
          "height": 647
        },
        "id": "pCEIIhIh4QDt",
        "outputId": "bb1534a2-7ad2-4e6d-a5fa-b7edc165c48c"
      },
      "source": [
        "#행,열 삭제\n",
        "test_data={'상호명':['상우네','현정이네','문영이네','동엽이네','우제네'],\n",
        "           '사과':[850,880,900,500,700],\n",
        "           '배':[570,900,1000,780,660],\n",
        "           '딸기':[850,890,670,980,908],\n",
        "           '포도':[930,790,920,500,700]}\n",
        "df=pd.DataFrame(test_data)\n",
        "df.set_index('상호명',inplace=True)\n",
        "print(df)\n",
        "\n",
        "ndf1=df.drop('사과',axis=1)\n",
        "print(ndf1)\n",
        "\n",
        "ndf2=df.drop(['사과','딸기'],axis=1)\n",
        "print(ndf2)\n",
        "\n",
        "ndf3=df.drop('상우네')\n",
        "print(ndf3)\n",
        "\n",
        "ndf4=df.drop(['현정이네','문영이네'])\n",
        "ndf4"
      ],
      "execution_count": null,
      "outputs": [
        {
          "output_type": "stream",
          "text": [
            "       사과     배   딸기   포도\n",
            "상호명                      \n",
            "상우네   850   570  850  930\n",
            "현정이네  880   900  890  790\n",
            "문영이네  900  1000  670  920\n",
            "동엽이네  500   780  980  500\n",
            "우제네   700   660  908  700\n",
            "         배   딸기   포도\n",
            "상호명                 \n",
            "상우네    570  850  930\n",
            "현정이네   900  890  790\n",
            "문영이네  1000  670  920\n",
            "동엽이네   780  980  500\n",
            "우제네    660  908  700\n",
            "         배   포도\n",
            "상호명            \n",
            "상우네    570  930\n",
            "현정이네   900  790\n",
            "문영이네  1000  920\n",
            "동엽이네   780  500\n",
            "우제네    660  700\n",
            "       사과     배   딸기   포도\n",
            "상호명                      \n",
            "현정이네  880   900  890  790\n",
            "문영이네  900  1000  670  920\n",
            "동엽이네  500   780  980  500\n",
            "우제네   700   660  908  700\n"
          ],
          "name": "stdout"
        },
        {
          "output_type": "execute_result",
          "data": {
            "text/html": [
              "<div>\n",
              "<style scoped>\n",
              "    .dataframe tbody tr th:only-of-type {\n",
              "        vertical-align: middle;\n",
              "    }\n",
              "\n",
              "    .dataframe tbody tr th {\n",
              "        vertical-align: top;\n",
              "    }\n",
              "\n",
              "    .dataframe thead th {\n",
              "        text-align: right;\n",
              "    }\n",
              "</style>\n",
              "<table border=\"1\" class=\"dataframe\">\n",
              "  <thead>\n",
              "    <tr style=\"text-align: right;\">\n",
              "      <th></th>\n",
              "      <th>사과</th>\n",
              "      <th>배</th>\n",
              "      <th>딸기</th>\n",
              "      <th>포도</th>\n",
              "    </tr>\n",
              "    <tr>\n",
              "      <th>상호명</th>\n",
              "      <th></th>\n",
              "      <th></th>\n",
              "      <th></th>\n",
              "      <th></th>\n",
              "    </tr>\n",
              "  </thead>\n",
              "  <tbody>\n",
              "    <tr>\n",
              "      <th>상우네</th>\n",
              "      <td>850</td>\n",
              "      <td>570</td>\n",
              "      <td>850</td>\n",
              "      <td>930</td>\n",
              "    </tr>\n",
              "    <tr>\n",
              "      <th>동엽이네</th>\n",
              "      <td>500</td>\n",
              "      <td>780</td>\n",
              "      <td>980</td>\n",
              "      <td>500</td>\n",
              "    </tr>\n",
              "    <tr>\n",
              "      <th>우제네</th>\n",
              "      <td>700</td>\n",
              "      <td>660</td>\n",
              "      <td>908</td>\n",
              "      <td>700</td>\n",
              "    </tr>\n",
              "  </tbody>\n",
              "</table>\n",
              "</div>"
            ],
            "text/plain": [
              "       사과    배   딸기   포도\n",
              "상호명                     \n",
              "상우네   850  570  850  930\n",
              "동엽이네  500  780  980  500\n",
              "우제네   700  660  908  700"
            ]
          },
          "metadata": {
            "tags": []
          },
          "execution_count": 230
        }
      ]
    },
    {
      "cell_type": "markdown",
      "metadata": {
        "id": "7xbc4IwO6GAT"
      },
      "source": [
        "21. Pandas Data 입출력"
      ]
    },
    {
      "cell_type": "code",
      "metadata": {
        "colab": {
          "base_uri": "https://localhost:8080/",
          "height": 172
        },
        "id": "hZXxkw7s734y",
        "outputId": "77672159-761c-4c7d-aa71-6d9e0c2e6622"
      },
      "source": [
        "df=pd.read_csv('키.csv')\n",
        "df"
      ],
      "execution_count": null,
      "outputs": [
        {
          "output_type": "execute_result",
          "data": {
            "text/html": [
              "<div>\n",
              "<style scoped>\n",
              "    .dataframe tbody tr th:only-of-type {\n",
              "        vertical-align: middle;\n",
              "    }\n",
              "\n",
              "    .dataframe tbody tr th {\n",
              "        vertical-align: top;\n",
              "    }\n",
              "\n",
              "    .dataframe thead th {\n",
              "        text-align: right;\n",
              "    }\n",
              "</style>\n",
              "<table border=\"1\" class=\"dataframe\">\n",
              "  <thead>\n",
              "    <tr style=\"text-align: right;\">\n",
              "      <th></th>\n",
              "      <th>민지</th>\n",
              "      <th>15</th>\n",
              "    </tr>\n",
              "  </thead>\n",
              "  <tbody>\n",
              "    <tr>\n",
              "      <th>0</th>\n",
              "      <td>홍</td>\n",
              "      <td>16</td>\n",
              "    </tr>\n",
              "    <tr>\n",
              "      <th>1</th>\n",
              "      <td>choi</td>\n",
              "      <td>15</td>\n",
              "    </tr>\n",
              "    <tr>\n",
              "      <th>2</th>\n",
              "      <td>다</td>\n",
              "      <td>16</td>\n",
              "    </tr>\n",
              "    <tr>\n",
              "      <th>3</th>\n",
              "      <td>순</td>\n",
              "      <td>17</td>\n",
              "    </tr>\n",
              "  </tbody>\n",
              "</table>\n",
              "</div>"
            ],
            "text/plain": [
              "     민지  15\n",
              "0     홍  16\n",
              "1  choi  15\n",
              "2     다  16\n",
              "3     순  17"
            ]
          },
          "metadata": {
            "tags": []
          },
          "execution_count": 231
        }
      ]
    },
    {
      "cell_type": "code",
      "metadata": {
        "colab": {
          "base_uri": "https://localhost:8080/",
          "height": 172
        },
        "id": "590WJMOO4_Nr",
        "outputId": "2dde3fb9-e1fb-4def-8fbd-88d4f7c29aaf"
      },
      "source": [
        "data={'이름':['상우','민철','민지'],\n",
        "      '미적':['A+','B+','C'],\n",
        "      '물리학':['C+','A+','A'],\n",
        "      'Python':['A+','B+','A+']}\n",
        "df=pd.DataFrame(data)\n",
        "df.set_index('이름',inplace=True)\n",
        "df.to_csv('./df_tocsv.csv')\n",
        "df"
      ],
      "execution_count": null,
      "outputs": [
        {
          "output_type": "execute_result",
          "data": {
            "text/html": [
              "<div>\n",
              "<style scoped>\n",
              "    .dataframe tbody tr th:only-of-type {\n",
              "        vertical-align: middle;\n",
              "    }\n",
              "\n",
              "    .dataframe tbody tr th {\n",
              "        vertical-align: top;\n",
              "    }\n",
              "\n",
              "    .dataframe thead th {\n",
              "        text-align: right;\n",
              "    }\n",
              "</style>\n",
              "<table border=\"1\" class=\"dataframe\">\n",
              "  <thead>\n",
              "    <tr style=\"text-align: right;\">\n",
              "      <th></th>\n",
              "      <th>미적</th>\n",
              "      <th>물리학</th>\n",
              "      <th>Python</th>\n",
              "    </tr>\n",
              "    <tr>\n",
              "      <th>이름</th>\n",
              "      <th></th>\n",
              "      <th></th>\n",
              "      <th></th>\n",
              "    </tr>\n",
              "  </thead>\n",
              "  <tbody>\n",
              "    <tr>\n",
              "      <th>상우</th>\n",
              "      <td>A+</td>\n",
              "      <td>C+</td>\n",
              "      <td>A+</td>\n",
              "    </tr>\n",
              "    <tr>\n",
              "      <th>민철</th>\n",
              "      <td>B+</td>\n",
              "      <td>A+</td>\n",
              "      <td>B+</td>\n",
              "    </tr>\n",
              "    <tr>\n",
              "      <th>민지</th>\n",
              "      <td>C</td>\n",
              "      <td>A</td>\n",
              "      <td>A+</td>\n",
              "    </tr>\n",
              "  </tbody>\n",
              "</table>\n",
              "</div>"
            ],
            "text/plain": [
              "    미적 물리학 Python\n",
              "이름               \n",
              "상우  A+  C+     A+\n",
              "민철  B+  A+     B+\n",
              "민지   C   A     A+"
            ]
          },
          "metadata": {
            "tags": []
          },
          "execution_count": 234
        }
      ]
    },
    {
      "cell_type": "code",
      "metadata": {
        "id": "xM4DvhFT8DDJ"
      },
      "source": [
        "data={\"이름\":{\"1번\":\"상우\",\"2번\":\"민성\",\"3번\":\"지현\"},\n",
        " \"나이\":{\"1번\":26,\"2번\":22,\"3번\":24},\n",
        " \"취미\":{\"1번\":\"서핑\",\"2번\":\"독서\",\"3번\":\"자전거\"},\n",
        " \"거주지\":{\"1번\":\"부산\",\"2번\":\"대전\",\"3번\":\"광주\"}}\n",
        "df=pd.DataFrame(data)\n",
        "df.to_json('./tojson.json')"
      ],
      "execution_count": null,
      "outputs": []
    },
    {
      "cell_type": "code",
      "metadata": {
        "colab": {
          "base_uri": "https://localhost:8080/",
          "height": 242
        },
        "id": "Ca_dMOlA-sHk",
        "outputId": "64274830-6fdc-4196-a74d-28f897628251"
      },
      "source": [
        "df=pd.read_json('tojson.json')\n",
        "print(df)\n",
        "df.set_index('이름',inplace=True)\n",
        "df"
      ],
      "execution_count": null,
      "outputs": [
        {
          "output_type": "stream",
          "text": [
            "    이름  나이   취미 거주지\n",
            "1번  상우  26   서핑  부산\n",
            "2번  민성  22   독서  대전\n",
            "3번  지현  24  자전거  광주\n"
          ],
          "name": "stdout"
        },
        {
          "output_type": "execute_result",
          "data": {
            "text/html": [
              "<div>\n",
              "<style scoped>\n",
              "    .dataframe tbody tr th:only-of-type {\n",
              "        vertical-align: middle;\n",
              "    }\n",
              "\n",
              "    .dataframe tbody tr th {\n",
              "        vertical-align: top;\n",
              "    }\n",
              "\n",
              "    .dataframe thead th {\n",
              "        text-align: right;\n",
              "    }\n",
              "</style>\n",
              "<table border=\"1\" class=\"dataframe\">\n",
              "  <thead>\n",
              "    <tr style=\"text-align: right;\">\n",
              "      <th></th>\n",
              "      <th>나이</th>\n",
              "      <th>취미</th>\n",
              "      <th>거주지</th>\n",
              "    </tr>\n",
              "    <tr>\n",
              "      <th>이름</th>\n",
              "      <th></th>\n",
              "      <th></th>\n",
              "      <th></th>\n",
              "    </tr>\n",
              "  </thead>\n",
              "  <tbody>\n",
              "    <tr>\n",
              "      <th>상우</th>\n",
              "      <td>26</td>\n",
              "      <td>서핑</td>\n",
              "      <td>부산</td>\n",
              "    </tr>\n",
              "    <tr>\n",
              "      <th>민성</th>\n",
              "      <td>22</td>\n",
              "      <td>독서</td>\n",
              "      <td>대전</td>\n",
              "    </tr>\n",
              "    <tr>\n",
              "      <th>지현</th>\n",
              "      <td>24</td>\n",
              "      <td>자전거</td>\n",
              "      <td>광주</td>\n",
              "    </tr>\n",
              "  </tbody>\n",
              "</table>\n",
              "</div>"
            ],
            "text/plain": [
              "    나이   취미 거주지\n",
              "이름             \n",
              "상우  26   서핑  부산\n",
              "민성  22   독서  대전\n",
              "지현  24  자전거  광주"
            ]
          },
          "metadata": {
            "tags": []
          },
          "execution_count": 7
        }
      ]
    },
    {
      "cell_type": "markdown",
      "metadata": {
        "id": "atzaRCoEXVfZ"
      },
      "source": [
        "22.Pandas 연산"
      ]
    },
    {
      "cell_type": "code",
      "metadata": {
        "id": "ZuoKtUuD-3On",
        "colab": {
          "base_uri": "https://localhost:8080/"
        },
        "outputId": "88880965-b859-4677-89be-0b79123163a7"
      },
      "source": [
        "dict_data={'c0':[1,2,3],'c1':[4,5,6],\n",
        "           'c2':[7,8,9],'c3':[10,11,12],'c4':[13,14,15]}\n",
        "df=pd.DataFrame(dict_data)\n",
        "add = df + 10\n",
        "print(add)\n",
        "print('\\n')\n",
        "sub=df-10\n",
        "print(sub)\n",
        "print('\\n')\n",
        "mul=df*10\n",
        "print(mul)\n",
        "print('\\n')\n",
        "div=df/10\n",
        "print(div)"
      ],
      "execution_count": null,
      "outputs": [
        {
          "output_type": "stream",
          "text": [
            "   c0  c1  c2  c3  c4\n",
            "0  11  14  17  20  23\n",
            "1  12  15  18  21  24\n",
            "2  13  16  19  22  25\n",
            "\n",
            "\n",
            "   c0  c1  c2  c3  c4\n",
            "0  -9  -6  -3   0   3\n",
            "1  -8  -5  -2   1   4\n",
            "2  -7  -4  -1   2   5\n",
            "\n",
            "\n",
            "   c0  c1  c2   c3   c4\n",
            "0  10  40  70  100  130\n",
            "1  20  50  80  110  140\n",
            "2  30  60  90  120  150\n",
            "\n",
            "\n",
            "    c0   c1   c2   c3   c4\n",
            "0  0.1  0.4  0.7  1.0  1.3\n",
            "1  0.2  0.5  0.8  1.1  1.4\n",
            "2  0.3  0.6  0.9  1.2  1.5\n"
          ],
          "name": "stdout"
        }
      ]
    },
    {
      "cell_type": "code",
      "metadata": {
        "colab": {
          "base_uri": "https://localhost:8080/",
          "height": 142
        },
        "id": "MMpW2ZJXXY_L",
        "outputId": "4504ad86-742e-4f15-b03d-00079857a106"
      },
      "source": [
        "data_1={'c0':[1,2,3],'c1':[4,5,6],\n",
        "           'c2':[7,8,9],'c3':[10,11,12],'c4':[13,14,15]}\n",
        "data_2={'c0':[1,2,3],'c1':[4,5,6],\n",
        "           'c2':[7,8,9],'c3':[10,11,12],'c4':[13,14,np.nan]}\n",
        "df_1=pd.DataFrame(data_1)\n",
        "df_2=pd.DataFrame(data_2)\n",
        "df_1+df_2"
      ],
      "execution_count": null,
      "outputs": [
        {
          "output_type": "execute_result",
          "data": {
            "text/html": [
              "<div>\n",
              "<style scoped>\n",
              "    .dataframe tbody tr th:only-of-type {\n",
              "        vertical-align: middle;\n",
              "    }\n",
              "\n",
              "    .dataframe tbody tr th {\n",
              "        vertical-align: top;\n",
              "    }\n",
              "\n",
              "    .dataframe thead th {\n",
              "        text-align: right;\n",
              "    }\n",
              "</style>\n",
              "<table border=\"1\" class=\"dataframe\">\n",
              "  <thead>\n",
              "    <tr style=\"text-align: right;\">\n",
              "      <th></th>\n",
              "      <th>c0</th>\n",
              "      <th>c1</th>\n",
              "      <th>c2</th>\n",
              "      <th>c3</th>\n",
              "      <th>c4</th>\n",
              "    </tr>\n",
              "  </thead>\n",
              "  <tbody>\n",
              "    <tr>\n",
              "      <th>0</th>\n",
              "      <td>2</td>\n",
              "      <td>8</td>\n",
              "      <td>14</td>\n",
              "      <td>20</td>\n",
              "      <td>26.0</td>\n",
              "    </tr>\n",
              "    <tr>\n",
              "      <th>1</th>\n",
              "      <td>4</td>\n",
              "      <td>10</td>\n",
              "      <td>16</td>\n",
              "      <td>22</td>\n",
              "      <td>28.0</td>\n",
              "    </tr>\n",
              "    <tr>\n",
              "      <th>2</th>\n",
              "      <td>6</td>\n",
              "      <td>12</td>\n",
              "      <td>18</td>\n",
              "      <td>24</td>\n",
              "      <td>NaN</td>\n",
              "    </tr>\n",
              "  </tbody>\n",
              "</table>\n",
              "</div>"
            ],
            "text/plain": [
              "   c0  c1  c2  c3    c4\n",
              "0   2   8  14  20  26.0\n",
              "1   4  10  16  22  28.0\n",
              "2   6  12  18  24   NaN"
            ]
          },
          "metadata": {
            "tags": []
          },
          "execution_count": 18
        }
      ]
    },
    {
      "cell_type": "markdown",
      "metadata": {
        "id": "CHUAeZr3ZTUR"
      },
      "source": [
        "23. Pandas 간단한 통계 메소드"
      ]
    },
    {
      "cell_type": "code",
      "metadata": {
        "colab": {
          "base_uri": "https://localhost:8080/"
        },
        "id": "ZXYX2LO4XZpM",
        "outputId": "f15490f4-563d-4099-d323-43a18c2a4cff"
      },
      "source": [
        "import random\n",
        "data_1=[]\n",
        "data_2=[]\n",
        "for i in range(0,10):\n",
        "  data_1.append(random.uniform(0,1))     #uniform : 0부터 1사이의 수를 랜덤하게 꺼냄\n",
        "for i in range(0,10):\n",
        "  data_2.append(random.uniform(0,2))\n",
        "dict_data={'first':data_1,'second':data_2 }\n",
        "index_data=['zero','1st','2nd','3rd','4th','5th','6th','7th','8th','9th']\n",
        "df=pd.DataFrame(dict_data, index=index_data)\n",
        "print(df)\n",
        "print('\\n')\n",
        "\n",
        "#평균\n",
        "mean_val=df.mean()\n",
        "first_mean=df['first'].mean()\n",
        "print('first 평균 : ',first_mean)\n",
        "second_mean=df['second'].mean()\n",
        "print('second 평균 :',second_mean)\n",
        "print('\\n')\n",
        "print('--------------')\n",
        "#중간값\n",
        "median_val=df.median()\n",
        "first_median=df['first'].median()\n",
        "second_median=df['second'].median()\n",
        "print(median_val)\n",
        "print('\\n')\n",
        "print('first 중간값 : ',first_median)\n",
        "print('second 중간값 : ',second_median)"
      ],
      "execution_count": null,
      "outputs": [
        {
          "output_type": "stream",
          "text": [
            "         first    second\n",
            "zero  0.245741  0.149061\n",
            "1st   0.555112  0.353520\n",
            "2nd   0.996736  0.330660\n",
            "3rd   0.341520  0.962129\n",
            "4th   0.052424  1.168088\n",
            "5th   0.901218  0.377830\n",
            "6th   0.266743  1.672311\n",
            "7th   0.291177  0.401993\n",
            "8th   0.101730  0.546968\n",
            "9th   0.258342  1.775816\n",
            "\n",
            "\n",
            "first 평균 :  0.401074297691381\n",
            "second 평균 : 0.7738376690891366\n",
            "\n",
            "\n",
            "--------------\n",
            "first     0.278960\n",
            "second    0.474481\n",
            "dtype: float64\n",
            "\n",
            "\n",
            "first 중간값 :  0.2789599741107018\n",
            "second 중간값 :  0.47448076095760294\n"
          ],
          "name": "stdout"
        }
      ]
    },
    {
      "cell_type": "code",
      "metadata": {
        "colab": {
          "base_uri": "https://localhost:8080/"
        },
        "id": "8TZxkzqDZ-Ku",
        "outputId": "e7b33c9b-f882-4728-8441-0b6f93a9e44b"
      },
      "source": [
        "#최댓값\n",
        "max_val=df.max()\n",
        "print(max_val)\n",
        "print('\\n')\n",
        "first_max=df['first'].max()\n",
        "print(first_max)\n",
        "second_max=df['second'].max()\n",
        "print(second_max)\n",
        "\n",
        "print('================')\n",
        "#최솟값\n",
        "min_val=df.min()\n",
        "first_min=df['first'].min()\n",
        "second_min=df['second'].min()\n",
        "print(min_val)\n",
        "print('\\n')\n",
        "print('first 최솟값',first_min)\n",
        "print('second 최솟값',second_min)"
      ],
      "execution_count": null,
      "outputs": [
        {
          "output_type": "stream",
          "text": [
            "first     0.996736\n",
            "second    1.775816\n",
            "dtype: float64\n",
            "\n",
            "\n",
            "0.9967360696628406\n",
            "1.775816124498448\n",
            "================\n",
            "first     0.052424\n",
            "second    0.149061\n",
            "dtype: float64\n",
            "\n",
            "\n",
            "first 최솟값 0.05242425014566554\n",
            "second 최솟값 0.14906070468986377\n"
          ],
          "name": "stdout"
        }
      ]
    },
    {
      "cell_type": "code",
      "metadata": {
        "colab": {
          "base_uri": "https://localhost:8080/"
        },
        "id": "Tis0FpSrcpIg",
        "outputId": "0e00b5fc-5d86-4981-83d5-f70819a0733f"
      },
      "source": [
        "#표준편차\n",
        "std_val=df.std()\n",
        "first_std=df['first'].std()\n",
        "second_std=df['second'].std()\n",
        "print(std_val)\n",
        "print('\\n')\n",
        "print(f'first 표준편차 : {first_std}')\n",
        "print(f'second 표준편차 : {second_std}')"
      ],
      "execution_count": null,
      "outputs": [
        {
          "output_type": "stream",
          "text": [
            "first     0.319378\n",
            "second    0.588036\n",
            "dtype: float64\n",
            "\n",
            "\n",
            "first 표준편차 : 0.31937766203492524\n",
            "second 표준편차 : 0.5880364736425349\n"
          ],
          "name": "stdout"
        }
      ]
    },
    {
      "cell_type": "code",
      "metadata": {
        "colab": {
          "base_uri": "https://localhost:8080/",
          "height": 427
        },
        "id": "gy2R9qgUdwgr",
        "outputId": "e56bcbd3-a255-4ec0-ef5c-250fa7f6b3c1"
      },
      "source": [
        "#상관계수\n",
        "data_3=[]\n",
        "for i in range(0,10):\n",
        "  data_3.append(random.uniform(0,2))\n",
        "dict_data={'first':data_1,\n",
        "           'second':data_2,\n",
        "           'third':data_3}\n",
        "index_data=['zero','1st','2nd','3rd','4th','5th','6th','7th','8th','9th']\n",
        "ndf=pd.DataFrame(dict_data,index=index_data)\n",
        "print(ndf)\n",
        "print('=====================================')\n",
        "corr_val=ndf.corr()\n",
        "print(corr_val)\n",
        "print('\\n')\n",
        "first_third_corr=ndf[['first','third']].corr()\n",
        "first_third_corr"
      ],
      "execution_count": null,
      "outputs": [
        {
          "output_type": "stream",
          "text": [
            "         first    second     third\n",
            "zero  0.245741  0.149061  1.632836\n",
            "1st   0.555112  0.353520  1.147453\n",
            "2nd   0.996736  0.330660  0.283010\n",
            "3rd   0.341520  0.962129  0.065241\n",
            "4th   0.052424  1.168088  1.568427\n",
            "5th   0.901218  0.377830  1.562516\n",
            "6th   0.266743  1.672311  0.092588\n",
            "7th   0.291177  0.401993  1.663506\n",
            "8th   0.101730  0.546968  0.887305\n",
            "9th   0.258342  1.775816  0.203202\n",
            "=====================================\n",
            "           first    second     third\n",
            "first   1.000000 -0.433865 -0.084446\n",
            "second -0.433865  1.000000 -0.588788\n",
            "third  -0.084446 -0.588788  1.000000\n",
            "\n",
            "\n"
          ],
          "name": "stdout"
        },
        {
          "output_type": "execute_result",
          "data": {
            "text/html": [
              "<div>\n",
              "<style scoped>\n",
              "    .dataframe tbody tr th:only-of-type {\n",
              "        vertical-align: middle;\n",
              "    }\n",
              "\n",
              "    .dataframe tbody tr th {\n",
              "        vertical-align: top;\n",
              "    }\n",
              "\n",
              "    .dataframe thead th {\n",
              "        text-align: right;\n",
              "    }\n",
              "</style>\n",
              "<table border=\"1\" class=\"dataframe\">\n",
              "  <thead>\n",
              "    <tr style=\"text-align: right;\">\n",
              "      <th></th>\n",
              "      <th>first</th>\n",
              "      <th>third</th>\n",
              "    </tr>\n",
              "  </thead>\n",
              "  <tbody>\n",
              "    <tr>\n",
              "      <th>first</th>\n",
              "      <td>1.000000</td>\n",
              "      <td>-0.084446</td>\n",
              "    </tr>\n",
              "    <tr>\n",
              "      <th>third</th>\n",
              "      <td>-0.084446</td>\n",
              "      <td>1.000000</td>\n",
              "    </tr>\n",
              "  </tbody>\n",
              "</table>\n",
              "</div>"
            ],
            "text/plain": [
              "          first     third\n",
              "first  1.000000 -0.084446\n",
              "third -0.084446  1.000000"
            ]
          },
          "metadata": {
            "tags": []
          },
          "execution_count": 42
        }
      ]
    },
    {
      "cell_type": "markdown",
      "metadata": {
        "id": "5wu-UKPefJ_x"
      },
      "source": [
        "24.pandas 활용 기초"
      ]
    },
    {
      "cell_type": "code",
      "metadata": {
        "colab": {
          "base_uri": "https://localhost:8080/",
          "height": 1000
        },
        "id": "2Ye3-xdweOV7",
        "outputId": "fa626000-d026-40a2-faf7-403112224f4a"
      },
      "source": [
        "#누락데이터 NaN(Not a Number)\n",
        "import seaborn as sns\n",
        "df=sns.load_dataset('titanic')\n",
        "print(df.tail())\n",
        "print('\\n')\n",
        "\n",
        "#info(), value_counts()\n",
        "print(df.info())\n",
        "print('\\n')\n",
        "print('-----------------------=--============================---------')\n",
        "nan_df=df['deck'].value_counts(dropna=False)\n",
        "print(nan_df)\n",
        "\n",
        "print('=============================================================')\n",
        "#isnull(),notnull()\n",
        "print(df.head().isnull())    #원소가 NaN데이터일 경우 True 반환,유효 데이터일 경우 False\n",
        "df.head().notnull()   #Nan데이터일 경우 False 반환"
      ],
      "execution_count": null,
      "outputs": [
        {
          "output_type": "stream",
          "text": [
            "     survived  pclass     sex   age  ...  deck  embark_town  alive  alone\n",
            "886         0       2    male  27.0  ...   NaN  Southampton     no   True\n",
            "887         1       1  female  19.0  ...     B  Southampton    yes   True\n",
            "888         0       3  female   NaN  ...   NaN  Southampton     no  False\n",
            "889         1       1    male  26.0  ...     C    Cherbourg    yes   True\n",
            "890         0       3    male  32.0  ...   NaN   Queenstown     no   True\n",
            "\n",
            "[5 rows x 15 columns]\n",
            "\n",
            "\n",
            "<class 'pandas.core.frame.DataFrame'>\n",
            "RangeIndex: 891 entries, 0 to 890\n",
            "Data columns (total 15 columns):\n",
            " #   Column       Non-Null Count  Dtype   \n",
            "---  ------       --------------  -----   \n",
            " 0   survived     891 non-null    int64   \n",
            " 1   pclass       891 non-null    int64   \n",
            " 2   sex          891 non-null    object  \n",
            " 3   age          714 non-null    float64 \n",
            " 4   sibsp        891 non-null    int64   \n",
            " 5   parch        891 non-null    int64   \n",
            " 6   fare         891 non-null    float64 \n",
            " 7   embarked     889 non-null    object  \n",
            " 8   class        891 non-null    category\n",
            " 9   who          891 non-null    object  \n",
            " 10  adult_male   891 non-null    bool    \n",
            " 11  deck         203 non-null    category\n",
            " 12  embark_town  889 non-null    object  \n",
            " 13  alive        891 non-null    object  \n",
            " 14  alone        891 non-null    bool    \n",
            "dtypes: bool(2), category(2), float64(2), int64(4), object(5)\n",
            "memory usage: 80.6+ KB\n",
            "None\n",
            "\n",
            "\n",
            "-----------------------=--============================---------\n",
            "NaN    688\n",
            "C       59\n",
            "B       47\n",
            "D       33\n",
            "E       32\n",
            "A       15\n",
            "F       13\n",
            "G        4\n",
            "Name: deck, dtype: int64\n",
            "=============================================================\n",
            "   survived  pclass    sex    age  ...   deck  embark_town  alive  alone\n",
            "0     False   False  False  False  ...   True        False  False  False\n",
            "1     False   False  False  False  ...  False        False  False  False\n",
            "2     False   False  False  False  ...   True        False  False  False\n",
            "3     False   False  False  False  ...  False        False  False  False\n",
            "4     False   False  False  False  ...   True        False  False  False\n",
            "\n",
            "[5 rows x 15 columns]\n"
          ],
          "name": "stdout"
        },
        {
          "output_type": "execute_result",
          "data": {
            "text/html": [
              "<div>\n",
              "<style scoped>\n",
              "    .dataframe tbody tr th:only-of-type {\n",
              "        vertical-align: middle;\n",
              "    }\n",
              "\n",
              "    .dataframe tbody tr th {\n",
              "        vertical-align: top;\n",
              "    }\n",
              "\n",
              "    .dataframe thead th {\n",
              "        text-align: right;\n",
              "    }\n",
              "</style>\n",
              "<table border=\"1\" class=\"dataframe\">\n",
              "  <thead>\n",
              "    <tr style=\"text-align: right;\">\n",
              "      <th></th>\n",
              "      <th>survived</th>\n",
              "      <th>pclass</th>\n",
              "      <th>sex</th>\n",
              "      <th>age</th>\n",
              "      <th>sibsp</th>\n",
              "      <th>parch</th>\n",
              "      <th>fare</th>\n",
              "      <th>embarked</th>\n",
              "      <th>class</th>\n",
              "      <th>who</th>\n",
              "      <th>adult_male</th>\n",
              "      <th>deck</th>\n",
              "      <th>embark_town</th>\n",
              "      <th>alive</th>\n",
              "      <th>alone</th>\n",
              "    </tr>\n",
              "  </thead>\n",
              "  <tbody>\n",
              "    <tr>\n",
              "      <th>0</th>\n",
              "      <td>True</td>\n",
              "      <td>True</td>\n",
              "      <td>True</td>\n",
              "      <td>True</td>\n",
              "      <td>True</td>\n",
              "      <td>True</td>\n",
              "      <td>True</td>\n",
              "      <td>True</td>\n",
              "      <td>True</td>\n",
              "      <td>True</td>\n",
              "      <td>True</td>\n",
              "      <td>False</td>\n",
              "      <td>True</td>\n",
              "      <td>True</td>\n",
              "      <td>True</td>\n",
              "    </tr>\n",
              "    <tr>\n",
              "      <th>1</th>\n",
              "      <td>True</td>\n",
              "      <td>True</td>\n",
              "      <td>True</td>\n",
              "      <td>True</td>\n",
              "      <td>True</td>\n",
              "      <td>True</td>\n",
              "      <td>True</td>\n",
              "      <td>True</td>\n",
              "      <td>True</td>\n",
              "      <td>True</td>\n",
              "      <td>True</td>\n",
              "      <td>True</td>\n",
              "      <td>True</td>\n",
              "      <td>True</td>\n",
              "      <td>True</td>\n",
              "    </tr>\n",
              "    <tr>\n",
              "      <th>2</th>\n",
              "      <td>True</td>\n",
              "      <td>True</td>\n",
              "      <td>True</td>\n",
              "      <td>True</td>\n",
              "      <td>True</td>\n",
              "      <td>True</td>\n",
              "      <td>True</td>\n",
              "      <td>True</td>\n",
              "      <td>True</td>\n",
              "      <td>True</td>\n",
              "      <td>True</td>\n",
              "      <td>False</td>\n",
              "      <td>True</td>\n",
              "      <td>True</td>\n",
              "      <td>True</td>\n",
              "    </tr>\n",
              "    <tr>\n",
              "      <th>3</th>\n",
              "      <td>True</td>\n",
              "      <td>True</td>\n",
              "      <td>True</td>\n",
              "      <td>True</td>\n",
              "      <td>True</td>\n",
              "      <td>True</td>\n",
              "      <td>True</td>\n",
              "      <td>True</td>\n",
              "      <td>True</td>\n",
              "      <td>True</td>\n",
              "      <td>True</td>\n",
              "      <td>True</td>\n",
              "      <td>True</td>\n",
              "      <td>True</td>\n",
              "      <td>True</td>\n",
              "    </tr>\n",
              "    <tr>\n",
              "      <th>4</th>\n",
              "      <td>True</td>\n",
              "      <td>True</td>\n",
              "      <td>True</td>\n",
              "      <td>True</td>\n",
              "      <td>True</td>\n",
              "      <td>True</td>\n",
              "      <td>True</td>\n",
              "      <td>True</td>\n",
              "      <td>True</td>\n",
              "      <td>True</td>\n",
              "      <td>True</td>\n",
              "      <td>False</td>\n",
              "      <td>True</td>\n",
              "      <td>True</td>\n",
              "      <td>True</td>\n",
              "    </tr>\n",
              "  </tbody>\n",
              "</table>\n",
              "</div>"
            ],
            "text/plain": [
              "   survived  pclass   sex   age  ...   deck  embark_town  alive  alone\n",
              "0      True    True  True  True  ...  False         True   True   True\n",
              "1      True    True  True  True  ...   True         True   True   True\n",
              "2      True    True  True  True  ...  False         True   True   True\n",
              "3      True    True  True  True  ...   True         True   True   True\n",
              "4      True    True  True  True  ...  False         True   True   True\n",
              "\n",
              "[5 rows x 15 columns]"
            ]
          },
          "metadata": {
            "tags": []
          },
          "execution_count": 52
        }
      ]
    },
    {
      "cell_type": "code",
      "metadata": {
        "colab": {
          "base_uri": "https://localhost:8080/"
        },
        "id": "AOLhmG8Jfedp",
        "outputId": "870adfa3-5d1d-4749-c87f-ac1b1349f086"
      },
      "source": [
        "#dropna(), thresh 옵션 : 누락 데이터가 전체 데이터 개수의 절반을 넘는 열을 제거\n",
        "print(df.isnull().sum(axis=0))\n",
        "print('\\n')\n",
        "ndf=df.dropna(axis=1,thresh=445)\n",
        "print(ndf.columns)\n",
        "print('---------------------------')\n",
        "#dropna(), how옵션 : NaN데이터가 존재하는 모든 행 제거\n",
        "ndf2=ndf.dropna(subset=['age'],how='any',axis=0) \n",
        "print(ndf2.isnull().sum(axis=0))\n",
        "print('\\n')\n",
        "print(ndf2.notnull().sum(axis=0))"
      ],
      "execution_count": null,
      "outputs": [
        {
          "output_type": "stream",
          "text": [
            "survived         0\n",
            "pclass           0\n",
            "sex              0\n",
            "age            177\n",
            "sibsp            0\n",
            "parch            0\n",
            "fare             0\n",
            "embarked         2\n",
            "class            0\n",
            "who              0\n",
            "adult_male       0\n",
            "deck           688\n",
            "embark_town      2\n",
            "alive            0\n",
            "alone            0\n",
            "dtype: int64\n",
            "\n",
            "\n",
            "Index(['survived', 'pclass', 'sex', 'age', 'sibsp', 'parch', 'fare',\n",
            "       'embarked', 'class', 'who', 'adult_male', 'embark_town', 'alive',\n",
            "       'alone'],\n",
            "      dtype='object')\n",
            "---------------------------\n",
            "survived       0\n",
            "pclass         0\n",
            "sex            0\n",
            "age            0\n",
            "sibsp          0\n",
            "parch          0\n",
            "fare           0\n",
            "embarked       2\n",
            "class          0\n",
            "who            0\n",
            "adult_male     0\n",
            "embark_town    2\n",
            "alive          0\n",
            "alone          0\n",
            "dtype: int64\n",
            "\n",
            "\n",
            "survived       714\n",
            "pclass         714\n",
            "sex            714\n",
            "age            714\n",
            "sibsp          714\n",
            "parch          714\n",
            "fare           714\n",
            "embarked       712\n",
            "class          714\n",
            "who            714\n",
            "adult_male     714\n",
            "embark_town    712\n",
            "alive          714\n",
            "alone          714\n",
            "dtype: int64\n"
          ],
          "name": "stdout"
        }
      ]
    },
    {
      "cell_type": "code",
      "metadata": {
        "colab": {
          "base_uri": "https://localhost:8080/"
        },
        "id": "1NMR8rx1g2LL",
        "outputId": "19d3b7ac-272a-4b5f-e0b9-35736ebfb6fc"
      },
      "source": [
        "#누락 데이터 채우기\n",
        "df.dropna(axis=1,thresh=445,inplace=True)\n",
        "age_median=df['age'].median(axis=0)\n",
        "df['age'].fillna(age_median,inplace=True)\n",
        "df.isnull().sum(axis=0)"
      ],
      "execution_count": null,
      "outputs": [
        {
          "output_type": "execute_result",
          "data": {
            "text/plain": [
              "survived       0\n",
              "pclass         0\n",
              "sex            0\n",
              "age            0\n",
              "sibsp          0\n",
              "parch          0\n",
              "fare           0\n",
              "embarked       2\n",
              "class          0\n",
              "who            0\n",
              "adult_male     0\n",
              "embark_town    2\n",
              "alive          0\n",
              "alone          0\n",
              "dtype: int64"
            ]
          },
          "metadata": {
            "tags": []
          },
          "execution_count": 63
        }
      ]
    },
    {
      "cell_type": "code",
      "metadata": {
        "colab": {
          "base_uri": "https://localhost:8080/",
          "height": 344
        },
        "id": "EzKy6-Cbmpnl",
        "outputId": "85d08bf3-2072-44f3-c3f8-192d85682206"
      },
      "source": [
        "#중복데이터 확인,제거\n",
        "data={'c0':['a','a','c','d','e','f','c'],\n",
        "      'c1':[1,1,2,3,4,5,2],\n",
        "      'c2':[1,1,2,3,4,5,2],\n",
        "      'c3':['a','a','c','d','e','f','c']}\n",
        "df=pd.DataFrame(data)\n",
        "duplicated_df=df.duplicated()   #duplicated()는 이전의 행과 비교하여 중복되는 행일 경우 True, 처음 나오는 행은 False\n",
        "print(duplicated_df)\n",
        "df.drop_duplicates(inplace=True)\n",
        "df"
      ],
      "execution_count": null,
      "outputs": [
        {
          "output_type": "stream",
          "text": [
            "0    False\n",
            "1     True\n",
            "2    False\n",
            "3    False\n",
            "4    False\n",
            "5    False\n",
            "6     True\n",
            "dtype: bool\n"
          ],
          "name": "stdout"
        },
        {
          "output_type": "execute_result",
          "data": {
            "text/html": [
              "<div>\n",
              "<style scoped>\n",
              "    .dataframe tbody tr th:only-of-type {\n",
              "        vertical-align: middle;\n",
              "    }\n",
              "\n",
              "    .dataframe tbody tr th {\n",
              "        vertical-align: top;\n",
              "    }\n",
              "\n",
              "    .dataframe thead th {\n",
              "        text-align: right;\n",
              "    }\n",
              "</style>\n",
              "<table border=\"1\" class=\"dataframe\">\n",
              "  <thead>\n",
              "    <tr style=\"text-align: right;\">\n",
              "      <th></th>\n",
              "      <th>c0</th>\n",
              "      <th>c1</th>\n",
              "      <th>c2</th>\n",
              "      <th>c3</th>\n",
              "    </tr>\n",
              "  </thead>\n",
              "  <tbody>\n",
              "    <tr>\n",
              "      <th>0</th>\n",
              "      <td>a</td>\n",
              "      <td>1</td>\n",
              "      <td>1</td>\n",
              "      <td>a</td>\n",
              "    </tr>\n",
              "    <tr>\n",
              "      <th>2</th>\n",
              "      <td>c</td>\n",
              "      <td>2</td>\n",
              "      <td>2</td>\n",
              "      <td>c</td>\n",
              "    </tr>\n",
              "    <tr>\n",
              "      <th>3</th>\n",
              "      <td>d</td>\n",
              "      <td>3</td>\n",
              "      <td>3</td>\n",
              "      <td>d</td>\n",
              "    </tr>\n",
              "    <tr>\n",
              "      <th>4</th>\n",
              "      <td>e</td>\n",
              "      <td>4</td>\n",
              "      <td>4</td>\n",
              "      <td>e</td>\n",
              "    </tr>\n",
              "    <tr>\n",
              "      <th>5</th>\n",
              "      <td>f</td>\n",
              "      <td>5</td>\n",
              "      <td>5</td>\n",
              "      <td>f</td>\n",
              "    </tr>\n",
              "  </tbody>\n",
              "</table>\n",
              "</div>"
            ],
            "text/plain": [
              "  c0  c1  c2 c3\n",
              "0  a   1   1  a\n",
              "2  c   2   2  c\n",
              "3  d   3   3  d\n",
              "4  e   4   4  e\n",
              "5  f   5   5  f"
            ]
          },
          "metadata": {
            "tags": []
          },
          "execution_count": 65
        }
      ]
    },
    {
      "cell_type": "code",
      "metadata": {
        "colab": {
          "base_uri": "https://localhost:8080/",
          "height": 203
        },
        "id": "ZXcv5dbcnZHS",
        "outputId": "fe7c9c77-dee4-4b27-a1f3-cc6210fed254"
      },
      "source": [
        "#시계열 데이터\n",
        "import pandas as pd\n",
        "corona_df=pd.read_csv('PatientRoute.csv')\n",
        "corona_df.head()"
      ],
      "execution_count": null,
      "outputs": [
        {
          "output_type": "execute_result",
          "data": {
            "text/html": [
              "<div>\n",
              "<style scoped>\n",
              "    .dataframe tbody tr th:only-of-type {\n",
              "        vertical-align: middle;\n",
              "    }\n",
              "\n",
              "    .dataframe tbody tr th {\n",
              "        vertical-align: top;\n",
              "    }\n",
              "\n",
              "    .dataframe thead th {\n",
              "        text-align: right;\n",
              "    }\n",
              "</style>\n",
              "<table border=\"1\" class=\"dataframe\">\n",
              "  <thead>\n",
              "    <tr style=\"text-align: right;\">\n",
              "      <th></th>\n",
              "      <th>patient_id</th>\n",
              "      <th>global_num</th>\n",
              "      <th>date</th>\n",
              "      <th>province</th>\n",
              "      <th>city</th>\n",
              "      <th>type</th>\n",
              "      <th>latitude</th>\n",
              "      <th>longitude</th>\n",
              "    </tr>\n",
              "  </thead>\n",
              "  <tbody>\n",
              "    <tr>\n",
              "      <th>0</th>\n",
              "      <td>1000000001</td>\n",
              "      <td>2.0</td>\n",
              "      <td>2020-01-22</td>\n",
              "      <td>Gyeonggi-do</td>\n",
              "      <td>Gimpo-si</td>\n",
              "      <td>airport</td>\n",
              "      <td>37.615246</td>\n",
              "      <td>126.715632</td>\n",
              "    </tr>\n",
              "    <tr>\n",
              "      <th>1</th>\n",
              "      <td>1000000001</td>\n",
              "      <td>2.0</td>\n",
              "      <td>2020-01-24</td>\n",
              "      <td>Seoul</td>\n",
              "      <td>Jung-gu</td>\n",
              "      <td>hospital</td>\n",
              "      <td>37.567241</td>\n",
              "      <td>127.005659</td>\n",
              "    </tr>\n",
              "    <tr>\n",
              "      <th>2</th>\n",
              "      <td>1000000002</td>\n",
              "      <td>5.0</td>\n",
              "      <td>2020-01-25</td>\n",
              "      <td>Seoul</td>\n",
              "      <td>Seongbuk-gu</td>\n",
              "      <td>etc</td>\n",
              "      <td>37.592560</td>\n",
              "      <td>127.017048</td>\n",
              "    </tr>\n",
              "    <tr>\n",
              "      <th>3</th>\n",
              "      <td>1000000002</td>\n",
              "      <td>5.0</td>\n",
              "      <td>2020-01-26</td>\n",
              "      <td>Seoul</td>\n",
              "      <td>Seongbuk-gu</td>\n",
              "      <td>store</td>\n",
              "      <td>37.591810</td>\n",
              "      <td>127.016822</td>\n",
              "    </tr>\n",
              "    <tr>\n",
              "      <th>4</th>\n",
              "      <td>1000000002</td>\n",
              "      <td>5.0</td>\n",
              "      <td>2020-01-26</td>\n",
              "      <td>Seoul</td>\n",
              "      <td>Seongdong-gu</td>\n",
              "      <td>public_transportation</td>\n",
              "      <td>37.563992</td>\n",
              "      <td>127.029534</td>\n",
              "    </tr>\n",
              "  </tbody>\n",
              "</table>\n",
              "</div>"
            ],
            "text/plain": [
              "   patient_id  global_num  ...   latitude   longitude\n",
              "0  1000000001         2.0  ...  37.615246  126.715632\n",
              "1  1000000001         2.0  ...  37.567241  127.005659\n",
              "2  1000000002         5.0  ...  37.592560  127.017048\n",
              "3  1000000002         5.0  ...  37.591810  127.016822\n",
              "4  1000000002         5.0  ...  37.563992  127.029534\n",
              "\n",
              "[5 rows x 8 columns]"
            ]
          },
          "metadata": {
            "tags": []
          },
          "execution_count": 2
        }
      ]
    },
    {
      "cell_type": "code",
      "metadata": {
        "colab": {
          "base_uri": "https://localhost:8080/",
          "height": 520
        },
        "id": "5LoZvBOMoKBa",
        "outputId": "b572954c-ab3f-4da7-893f-25a1587eee15"
      },
      "source": [
        "#to_datetime() : 데이터를 Timestamp객체로 바꿔서 \n",
        "corona_df['new_date']=pd.to_datetime(corona_df['date'])\n",
        "print(corona_df.info())\n",
        "corona_df.head()"
      ],
      "execution_count": null,
      "outputs": [
        {
          "output_type": "stream",
          "text": [
            "<class 'pandas.core.frame.DataFrame'>\n",
            "RangeIndex: 6714 entries, 0 to 6713\n",
            "Data columns (total 10 columns):\n",
            " #   Column      Non-Null Count  Dtype         \n",
            "---  ------      --------------  -----         \n",
            " 0   patient_id  6714 non-null   int64         \n",
            " 1   global_num  3571 non-null   float64       \n",
            " 2   date        6714 non-null   object        \n",
            " 3   province    6714 non-null   object        \n",
            " 4   city        6714 non-null   object        \n",
            " 5   type        6714 non-null   object        \n",
            " 6   latitude    6714 non-null   float64       \n",
            " 7   longitude   6714 non-null   float64       \n",
            " 8   new_data    6714 non-null   datetime64[ns]\n",
            " 9   new_date    6714 non-null   datetime64[ns]\n",
            "dtypes: datetime64[ns](2), float64(3), int64(1), object(4)\n",
            "memory usage: 524.7+ KB\n",
            "None\n"
          ],
          "name": "stdout"
        },
        {
          "output_type": "execute_result",
          "data": {
            "text/html": [
              "<div>\n",
              "<style scoped>\n",
              "    .dataframe tbody tr th:only-of-type {\n",
              "        vertical-align: middle;\n",
              "    }\n",
              "\n",
              "    .dataframe tbody tr th {\n",
              "        vertical-align: top;\n",
              "    }\n",
              "\n",
              "    .dataframe thead th {\n",
              "        text-align: right;\n",
              "    }\n",
              "</style>\n",
              "<table border=\"1\" class=\"dataframe\">\n",
              "  <thead>\n",
              "    <tr style=\"text-align: right;\">\n",
              "      <th></th>\n",
              "      <th>patient_id</th>\n",
              "      <th>global_num</th>\n",
              "      <th>date</th>\n",
              "      <th>province</th>\n",
              "      <th>city</th>\n",
              "      <th>type</th>\n",
              "      <th>latitude</th>\n",
              "      <th>longitude</th>\n",
              "      <th>new_data</th>\n",
              "      <th>new_date</th>\n",
              "    </tr>\n",
              "  </thead>\n",
              "  <tbody>\n",
              "    <tr>\n",
              "      <th>0</th>\n",
              "      <td>1000000001</td>\n",
              "      <td>2.0</td>\n",
              "      <td>2020-01-22</td>\n",
              "      <td>Gyeonggi-do</td>\n",
              "      <td>Gimpo-si</td>\n",
              "      <td>airport</td>\n",
              "      <td>37.615246</td>\n",
              "      <td>126.715632</td>\n",
              "      <td>2020-01-22</td>\n",
              "      <td>2020-01-22</td>\n",
              "    </tr>\n",
              "    <tr>\n",
              "      <th>1</th>\n",
              "      <td>1000000001</td>\n",
              "      <td>2.0</td>\n",
              "      <td>2020-01-24</td>\n",
              "      <td>Seoul</td>\n",
              "      <td>Jung-gu</td>\n",
              "      <td>hospital</td>\n",
              "      <td>37.567241</td>\n",
              "      <td>127.005659</td>\n",
              "      <td>2020-01-24</td>\n",
              "      <td>2020-01-24</td>\n",
              "    </tr>\n",
              "    <tr>\n",
              "      <th>2</th>\n",
              "      <td>1000000002</td>\n",
              "      <td>5.0</td>\n",
              "      <td>2020-01-25</td>\n",
              "      <td>Seoul</td>\n",
              "      <td>Seongbuk-gu</td>\n",
              "      <td>etc</td>\n",
              "      <td>37.592560</td>\n",
              "      <td>127.017048</td>\n",
              "      <td>2020-01-25</td>\n",
              "      <td>2020-01-25</td>\n",
              "    </tr>\n",
              "    <tr>\n",
              "      <th>3</th>\n",
              "      <td>1000000002</td>\n",
              "      <td>5.0</td>\n",
              "      <td>2020-01-26</td>\n",
              "      <td>Seoul</td>\n",
              "      <td>Seongbuk-gu</td>\n",
              "      <td>store</td>\n",
              "      <td>37.591810</td>\n",
              "      <td>127.016822</td>\n",
              "      <td>2020-01-26</td>\n",
              "      <td>2020-01-26</td>\n",
              "    </tr>\n",
              "    <tr>\n",
              "      <th>4</th>\n",
              "      <td>1000000002</td>\n",
              "      <td>5.0</td>\n",
              "      <td>2020-01-26</td>\n",
              "      <td>Seoul</td>\n",
              "      <td>Seongdong-gu</td>\n",
              "      <td>public_transportation</td>\n",
              "      <td>37.563992</td>\n",
              "      <td>127.029534</td>\n",
              "      <td>2020-01-26</td>\n",
              "      <td>2020-01-26</td>\n",
              "    </tr>\n",
              "  </tbody>\n",
              "</table>\n",
              "</div>"
            ],
            "text/plain": [
              "   patient_id  global_num        date  ...   longitude   new_data   new_date\n",
              "0  1000000001         2.0  2020-01-22  ...  126.715632 2020-01-22 2020-01-22\n",
              "1  1000000001         2.0  2020-01-24  ...  127.005659 2020-01-24 2020-01-24\n",
              "2  1000000002         5.0  2020-01-25  ...  127.017048 2020-01-25 2020-01-25\n",
              "3  1000000002         5.0  2020-01-26  ...  127.016822 2020-01-26 2020-01-26\n",
              "4  1000000002         5.0  2020-01-26  ...  127.029534 2020-01-26 2020-01-26\n",
              "\n",
              "[5 rows x 10 columns]"
            ]
          },
          "metadata": {
            "tags": []
          },
          "execution_count": 7
        }
      ]
    },
    {
      "cell_type": "code",
      "metadata": {
        "colab": {
          "base_uri": "https://localhost:8080/"
        },
        "id": "oZK5_2eSpIow",
        "outputId": "a0b5ce1a-cd6e-46a6-f661-ef450d9fb904"
      },
      "source": [
        "#to_period() : Timestamp객체를 일정 기간을 나타내는 Period 객체로 바꿀 수 있음, freq옵션을 사용하여 반복되는 기간 설정\n",
        "#freq='D'1일, freq='M'1달, freq='A'1년\n",
        "data=corona_df['new_date'].dt\n",
        "freq_d=data.to_period(freq='D')\n",
        "freq_m=data.to_period(freq='M')\n",
        "freq_a=data.to_period(freq='A')\n",
        "print(freq_d)\n",
        "print('--------=-=-=--=-')\n",
        "print(freq_m)\n",
        "print(']========================[')\n",
        "print(freq_a)"
      ],
      "execution_count": null,
      "outputs": [
        {
          "output_type": "stream",
          "text": [
            "0       2020-01-22\n",
            "1       2020-01-24\n",
            "2       2020-01-25\n",
            "3       2020-01-26\n",
            "4       2020-01-26\n",
            "           ...    \n",
            "6709    2020-03-24\n",
            "6710    2020-03-24\n",
            "6711    2020-03-25\n",
            "6712    2020-03-25\n",
            "6713    2020-03-25\n",
            "Name: new_date, Length: 6714, dtype: period[D]\n",
            "--------=-=-=--=-\n",
            "0       2020-01\n",
            "1       2020-01\n",
            "2       2020-01\n",
            "3       2020-01\n",
            "4       2020-01\n",
            "         ...   \n",
            "6709    2020-03\n",
            "6710    2020-03\n",
            "6711    2020-03\n",
            "6712    2020-03\n",
            "6713    2020-03\n",
            "Name: new_date, Length: 6714, dtype: period[M]\n",
            "]========================[\n",
            "0       2020\n",
            "1       2020\n",
            "2       2020\n",
            "3       2020\n",
            "4       2020\n",
            "        ... \n",
            "6709    2020\n",
            "6710    2020\n",
            "6711    2020\n",
            "6712    2020\n",
            "6713    2020\n",
            "Name: new_date, Length: 6714, dtype: period[A-DEC]\n"
          ],
          "name": "stdout"
        }
      ]
    },
    {
      "cell_type": "code",
      "metadata": {
        "colab": {
          "base_uri": "https://localhost:8080/",
          "height": 203
        },
        "id": "DalW99T4qZfi",
        "outputId": "2db5d009-19d0-4e55-bb64-c6f8c2a06bfe"
      },
      "source": [
        "#날짜 데이터 분리\n",
        "#dt.day, dt.month, dt.year\n",
        "corona_df['Year']=corona_df['new_date'].dt.year\n",
        "corona_df['Month']=corona_df['new_date'].dt.month\n",
        "corona_df['Day']=corona_df['new_date'].dt.day\n",
        "corona_df.head()"
      ],
      "execution_count": null,
      "outputs": [
        {
          "output_type": "execute_result",
          "data": {
            "text/html": [
              "<div>\n",
              "<style scoped>\n",
              "    .dataframe tbody tr th:only-of-type {\n",
              "        vertical-align: middle;\n",
              "    }\n",
              "\n",
              "    .dataframe tbody tr th {\n",
              "        vertical-align: top;\n",
              "    }\n",
              "\n",
              "    .dataframe thead th {\n",
              "        text-align: right;\n",
              "    }\n",
              "</style>\n",
              "<table border=\"1\" class=\"dataframe\">\n",
              "  <thead>\n",
              "    <tr style=\"text-align: right;\">\n",
              "      <th></th>\n",
              "      <th>patient_id</th>\n",
              "      <th>global_num</th>\n",
              "      <th>date</th>\n",
              "      <th>province</th>\n",
              "      <th>city</th>\n",
              "      <th>type</th>\n",
              "      <th>latitude</th>\n",
              "      <th>longitude</th>\n",
              "      <th>new_data</th>\n",
              "      <th>new_date</th>\n",
              "      <th>Year</th>\n",
              "      <th>Month</th>\n",
              "      <th>Day</th>\n",
              "    </tr>\n",
              "  </thead>\n",
              "  <tbody>\n",
              "    <tr>\n",
              "      <th>0</th>\n",
              "      <td>1000000001</td>\n",
              "      <td>2.0</td>\n",
              "      <td>2020-01-22</td>\n",
              "      <td>Gyeonggi-do</td>\n",
              "      <td>Gimpo-si</td>\n",
              "      <td>airport</td>\n",
              "      <td>37.615246</td>\n",
              "      <td>126.715632</td>\n",
              "      <td>2020-01-22</td>\n",
              "      <td>2020-01-22</td>\n",
              "      <td>2020</td>\n",
              "      <td>1</td>\n",
              "      <td>22</td>\n",
              "    </tr>\n",
              "    <tr>\n",
              "      <th>1</th>\n",
              "      <td>1000000001</td>\n",
              "      <td>2.0</td>\n",
              "      <td>2020-01-24</td>\n",
              "      <td>Seoul</td>\n",
              "      <td>Jung-gu</td>\n",
              "      <td>hospital</td>\n",
              "      <td>37.567241</td>\n",
              "      <td>127.005659</td>\n",
              "      <td>2020-01-24</td>\n",
              "      <td>2020-01-24</td>\n",
              "      <td>2020</td>\n",
              "      <td>1</td>\n",
              "      <td>24</td>\n",
              "    </tr>\n",
              "    <tr>\n",
              "      <th>2</th>\n",
              "      <td>1000000002</td>\n",
              "      <td>5.0</td>\n",
              "      <td>2020-01-25</td>\n",
              "      <td>Seoul</td>\n",
              "      <td>Seongbuk-gu</td>\n",
              "      <td>etc</td>\n",
              "      <td>37.592560</td>\n",
              "      <td>127.017048</td>\n",
              "      <td>2020-01-25</td>\n",
              "      <td>2020-01-25</td>\n",
              "      <td>2020</td>\n",
              "      <td>1</td>\n",
              "      <td>25</td>\n",
              "    </tr>\n",
              "    <tr>\n",
              "      <th>3</th>\n",
              "      <td>1000000002</td>\n",
              "      <td>5.0</td>\n",
              "      <td>2020-01-26</td>\n",
              "      <td>Seoul</td>\n",
              "      <td>Seongbuk-gu</td>\n",
              "      <td>store</td>\n",
              "      <td>37.591810</td>\n",
              "      <td>127.016822</td>\n",
              "      <td>2020-01-26</td>\n",
              "      <td>2020-01-26</td>\n",
              "      <td>2020</td>\n",
              "      <td>1</td>\n",
              "      <td>26</td>\n",
              "    </tr>\n",
              "    <tr>\n",
              "      <th>4</th>\n",
              "      <td>1000000002</td>\n",
              "      <td>5.0</td>\n",
              "      <td>2020-01-26</td>\n",
              "      <td>Seoul</td>\n",
              "      <td>Seongdong-gu</td>\n",
              "      <td>public_transportation</td>\n",
              "      <td>37.563992</td>\n",
              "      <td>127.029534</td>\n",
              "      <td>2020-01-26</td>\n",
              "      <td>2020-01-26</td>\n",
              "      <td>2020</td>\n",
              "      <td>1</td>\n",
              "      <td>26</td>\n",
              "    </tr>\n",
              "  </tbody>\n",
              "</table>\n",
              "</div>"
            ],
            "text/plain": [
              "   patient_id  global_num        date     province  ...   new_date  Year  Month  Day\n",
              "0  1000000001         2.0  2020-01-22  Gyeonggi-do  ... 2020-01-22  2020      1   22\n",
              "1  1000000001         2.0  2020-01-24        Seoul  ... 2020-01-24  2020      1   24\n",
              "2  1000000002         5.0  2020-01-25        Seoul  ... 2020-01-25  2020      1   25\n",
              "3  1000000002         5.0  2020-01-26        Seoul  ... 2020-01-26  2020      1   26\n",
              "4  1000000002         5.0  2020-01-26        Seoul  ... 2020-01-26  2020      1   26\n",
              "\n",
              "[5 rows x 13 columns]"
            ]
          },
          "metadata": {
            "tags": []
          },
          "execution_count": 10
        }
      ]
    },
    {
      "cell_type": "code",
      "metadata": {
        "colab": {
          "base_uri": "https://localhost:8080/",
          "height": 447
        },
        "id": "cYvNcjmPq111",
        "outputId": "77f8e69b-cf3a-45fe-f835-2efa1b717e56"
      },
      "source": [
        "#날짜 인덱스 활용\n",
        "corona_df=pd.read_csv('PatientRoute.csv')\n",
        "corona_df['new_date']=pd.to_datetime(corona_df['date'])\n",
        "corona_df.set_index('new_date',inplace=True)\n",
        "corona_df"
      ],
      "execution_count": null,
      "outputs": [
        {
          "output_type": "execute_result",
          "data": {
            "text/html": [
              "<div>\n",
              "<style scoped>\n",
              "    .dataframe tbody tr th:only-of-type {\n",
              "        vertical-align: middle;\n",
              "    }\n",
              "\n",
              "    .dataframe tbody tr th {\n",
              "        vertical-align: top;\n",
              "    }\n",
              "\n",
              "    .dataframe thead th {\n",
              "        text-align: right;\n",
              "    }\n",
              "</style>\n",
              "<table border=\"1\" class=\"dataframe\">\n",
              "  <thead>\n",
              "    <tr style=\"text-align: right;\">\n",
              "      <th></th>\n",
              "      <th>patient_id</th>\n",
              "      <th>global_num</th>\n",
              "      <th>date</th>\n",
              "      <th>province</th>\n",
              "      <th>city</th>\n",
              "      <th>type</th>\n",
              "      <th>latitude</th>\n",
              "      <th>longitude</th>\n",
              "    </tr>\n",
              "    <tr>\n",
              "      <th>new_date</th>\n",
              "      <th></th>\n",
              "      <th></th>\n",
              "      <th></th>\n",
              "      <th></th>\n",
              "      <th></th>\n",
              "      <th></th>\n",
              "      <th></th>\n",
              "      <th></th>\n",
              "    </tr>\n",
              "  </thead>\n",
              "  <tbody>\n",
              "    <tr>\n",
              "      <th>2020-01-22</th>\n",
              "      <td>1000000001</td>\n",
              "      <td>2.0</td>\n",
              "      <td>2020-01-22</td>\n",
              "      <td>Gyeonggi-do</td>\n",
              "      <td>Gimpo-si</td>\n",
              "      <td>airport</td>\n",
              "      <td>37.615246</td>\n",
              "      <td>126.715632</td>\n",
              "    </tr>\n",
              "    <tr>\n",
              "      <th>2020-01-24</th>\n",
              "      <td>1000000001</td>\n",
              "      <td>2.0</td>\n",
              "      <td>2020-01-24</td>\n",
              "      <td>Seoul</td>\n",
              "      <td>Jung-gu</td>\n",
              "      <td>hospital</td>\n",
              "      <td>37.567241</td>\n",
              "      <td>127.005659</td>\n",
              "    </tr>\n",
              "    <tr>\n",
              "      <th>2020-01-25</th>\n",
              "      <td>1000000002</td>\n",
              "      <td>5.0</td>\n",
              "      <td>2020-01-25</td>\n",
              "      <td>Seoul</td>\n",
              "      <td>Seongbuk-gu</td>\n",
              "      <td>etc</td>\n",
              "      <td>37.592560</td>\n",
              "      <td>127.017048</td>\n",
              "    </tr>\n",
              "    <tr>\n",
              "      <th>2020-01-26</th>\n",
              "      <td>1000000002</td>\n",
              "      <td>5.0</td>\n",
              "      <td>2020-01-26</td>\n",
              "      <td>Seoul</td>\n",
              "      <td>Seongbuk-gu</td>\n",
              "      <td>store</td>\n",
              "      <td>37.591810</td>\n",
              "      <td>127.016822</td>\n",
              "    </tr>\n",
              "    <tr>\n",
              "      <th>2020-01-26</th>\n",
              "      <td>1000000002</td>\n",
              "      <td>5.0</td>\n",
              "      <td>2020-01-26</td>\n",
              "      <td>Seoul</td>\n",
              "      <td>Seongdong-gu</td>\n",
              "      <td>public_transportation</td>\n",
              "      <td>37.563992</td>\n",
              "      <td>127.029534</td>\n",
              "    </tr>\n",
              "    <tr>\n",
              "      <th>...</th>\n",
              "      <td>...</td>\n",
              "      <td>...</td>\n",
              "      <td>...</td>\n",
              "      <td>...</td>\n",
              "      <td>...</td>\n",
              "      <td>...</td>\n",
              "      <td>...</td>\n",
              "      <td>...</td>\n",
              "    </tr>\n",
              "    <tr>\n",
              "      <th>2020-03-24</th>\n",
              "      <td>6100000090</td>\n",
              "      <td>NaN</td>\n",
              "      <td>2020-03-24</td>\n",
              "      <td>Seoul</td>\n",
              "      <td>Gangseo-gu</td>\n",
              "      <td>airport</td>\n",
              "      <td>37.558654</td>\n",
              "      <td>126.794474</td>\n",
              "    </tr>\n",
              "    <tr>\n",
              "      <th>2020-03-24</th>\n",
              "      <td>6100000090</td>\n",
              "      <td>NaN</td>\n",
              "      <td>2020-03-24</td>\n",
              "      <td>Busan</td>\n",
              "      <td>Gangseo-gu</td>\n",
              "      <td>airport</td>\n",
              "      <td>35.173220</td>\n",
              "      <td>128.946459</td>\n",
              "    </tr>\n",
              "    <tr>\n",
              "      <th>2020-03-25</th>\n",
              "      <td>6100000090</td>\n",
              "      <td>NaN</td>\n",
              "      <td>2020-03-25</td>\n",
              "      <td>Gyeongsangnam-do</td>\n",
              "      <td>Yangsan-si</td>\n",
              "      <td>store</td>\n",
              "      <td>35.336944</td>\n",
              "      <td>129.026389</td>\n",
              "    </tr>\n",
              "    <tr>\n",
              "      <th>2020-03-25</th>\n",
              "      <td>6100000090</td>\n",
              "      <td>NaN</td>\n",
              "      <td>2020-03-25</td>\n",
              "      <td>Gyeongsangnam-do</td>\n",
              "      <td>Yangsan-si</td>\n",
              "      <td>hospital</td>\n",
              "      <td>35.335757</td>\n",
              "      <td>129.025003</td>\n",
              "    </tr>\n",
              "    <tr>\n",
              "      <th>2020-03-25</th>\n",
              "      <td>6100000090</td>\n",
              "      <td>NaN</td>\n",
              "      <td>2020-03-25</td>\n",
              "      <td>Gyeongsangnam-do</td>\n",
              "      <td>Yangsan-si</td>\n",
              "      <td>store</td>\n",
              "      <td>35.336944</td>\n",
              "      <td>129.026389</td>\n",
              "    </tr>\n",
              "  </tbody>\n",
              "</table>\n",
              "<p>6714 rows × 8 columns</p>\n",
              "</div>"
            ],
            "text/plain": [
              "            patient_id  global_num  ...   latitude   longitude\n",
              "new_date                            ...                       \n",
              "2020-01-22  1000000001         2.0  ...  37.615246  126.715632\n",
              "2020-01-24  1000000001         2.0  ...  37.567241  127.005659\n",
              "2020-01-25  1000000002         5.0  ...  37.592560  127.017048\n",
              "2020-01-26  1000000002         5.0  ...  37.591810  127.016822\n",
              "2020-01-26  1000000002         5.0  ...  37.563992  127.029534\n",
              "...                ...         ...  ...        ...         ...\n",
              "2020-03-24  6100000090         NaN  ...  37.558654  126.794474\n",
              "2020-03-24  6100000090         NaN  ...  35.173220  128.946459\n",
              "2020-03-25  6100000090         NaN  ...  35.336944  129.026389\n",
              "2020-03-25  6100000090         NaN  ...  35.335757  129.025003\n",
              "2020-03-25  6100000090         NaN  ...  35.336944  129.026389\n",
              "\n",
              "[6714 rows x 8 columns]"
            ]
          },
          "metadata": {
            "tags": []
          },
          "execution_count": 15
        }
      ]
    },
    {
      "cell_type": "code",
      "metadata": {
        "colab": {
          "base_uri": "https://localhost:8080/"
        },
        "id": "72L6Lj-7ribI",
        "outputId": "ac9a77f2-44cb-40d6-8bd0-07f959ad4b58"
      },
      "source": [
        "#데이터 추출\n",
        "corona_df_ym=corona_df.loc['2020-02']\n",
        "print(corona_df_ym)\n",
        "print('\\n')\n",
        "corona_df_ym_cols=corona_df.loc['2020-02','city':'longitude']\n",
        "print(corona_df_ym_cols)\n",
        "print('\\n')\n",
        "corona_df_ymd_range=corona_df.loc['2020-02-22':'2020-02-23']\n",
        "print(corona_df_ymd_range)"
      ],
      "execution_count": null,
      "outputs": [
        {
          "output_type": "stream",
          "text": [
            "            patient_id  global_num  ...   latitude   longitude\n",
            "new_date                            ...                       \n",
            "2020-02-01  1000000009        19.0  ...  37.498450  127.107250\n",
            "2020-02-01  1000000009        19.0  ...  37.381479  126.657175\n",
            "2020-02-01  1000000009        19.0  ...  37.381479  126.657175\n",
            "2020-02-03  1000000009        19.0  ...  37.382699  127.118906\n",
            "2020-02-03  1000000009        19.0  ...  37.377139  127.112750\n",
            "...                ...         ...  ...        ...         ...\n",
            "2020-02-27  6100000070         NaN  ...  35.542636  128.492066\n",
            "2020-02-27  6100000070         NaN  ...  35.542636  128.492066\n",
            "2020-02-27  6100000070         NaN  ...  35.541315  128.500770\n",
            "2020-02-22  6100000083         NaN  ...  35.871435  128.601445\n",
            "2020-02-22  6100000083         NaN  ...  34.856049  128.725042\n",
            "\n",
            "[3206 rows x 8 columns]\n",
            "\n",
            "\n",
            "                       city        type   latitude   longitude\n",
            "new_date                                                      \n",
            "2020-02-01        Songpa-gu         etc  37.498450  127.107250\n",
            "2020-02-01        Yeonsu-gu       store  37.381479  126.657175\n",
            "2020-02-01        Yeonsu-gu       store  37.381479  126.657175\n",
            "2020-02-03      Seongnam-si         etc  37.382699  127.118906\n",
            "2020-02-03      Seongnam-si  restaurant  37.377139  127.112750\n",
            "...                     ...         ...        ...         ...\n",
            "2020-02-27  Changnyeong-gun    hospital  35.542636  128.492066\n",
            "2020-02-27  Changnyeong-gun    pharmacy  35.542636  128.492066\n",
            "2020-02-27  Changnyeong-gun         etc  35.541315  128.500770\n",
            "2020-02-22          Jung-gu         etc  35.871435  128.601445\n",
            "2020-02-22         Geoje-si       store  34.856049  128.725042\n",
            "\n",
            "[3206 rows x 4 columns]\n",
            "\n",
            "\n",
            "            patient_id  global_num        date  ...      type   latitude   longitude\n",
            "new_date                                        ...                                 \n",
            "2020-02-22  1000000024       348.0  2020-02-22  ...  hospital  37.567241  127.005659\n",
            "2020-02-23  1000000027       593.0  2020-02-23  ...  hospital  37.612772  127.098167\n",
            "2020-02-22  1000000028       627.0  2020-02-22  ...  hospital  37.578708  126.997551\n",
            "2020-02-22  1000000031       780.0  2020-02-22  ...  hospital  37.506975  126.960523\n",
            "2020-02-22  1000000032       787.0  2020-02-22  ...  hospital  37.483601  127.033439\n",
            "...                ...         ...         ...  ...       ...        ...         ...\n",
            "2020-02-23  6100000070         NaN  2020-02-23  ...       etc  35.541315  128.500770\n",
            "2020-02-23  6100000070         NaN  2020-02-23  ...       etc  35.541315  128.500770\n",
            "2020-02-23  6100000070         NaN  2020-02-23  ...   pc_cafe  35.541321  128.499766\n",
            "2020-02-22  6100000083         NaN  2020-02-22  ...       etc  35.871435  128.601445\n",
            "2020-02-22  6100000083         NaN  2020-02-22  ...     store  34.856049  128.725042\n",
            "\n",
            "[445 rows x 8 columns]\n"
          ],
          "name": "stdout"
        }
      ]
    },
    {
      "cell_type": "code",
      "metadata": {
        "colab": {
          "base_uri": "https://localhost:8080/"
        },
        "id": "BzP93gfyrwN0",
        "outputId": "aef165e6-731a-4a87-ec8f-87a37fcb2997"
      },
      "source": [
        "import pandas as pd\n",
        "with open('html_source.txt','r')as f:\n",
        "  tt=f.read()\n",
        "  t1=tt.split('<div class=\"inner_number\">')\n",
        "  print(t1)\n",
        "  t1.pop(0)\n",
        "tip=[]\n",
        "for i in t1:\n",
        "  tip.append(i.split('</div>')[0])\n",
        "print(tip)"
      ],
      "execution_count": null,
      "outputs": [
        {
          "output_type": "stream",
          "text": [
            "['<html lang=\"ko\"><head>\\n\\t<title>카페</title>\\n\\t\\n\\n\\n\\n<meta name=\"robots\" content=\"noindex, nofollow\">\\n<meta http-equiv=\"Content-Type\" content=\"text/html;charset=KSC5601\">\\n<meta http-equiv=\"X-UA-Compatible\" content=\"requiresActiveX=true\">\\n\\n\\n\\n<link rel=\"shortcut icon\" type=\"image/x-icon\" href=\"/favicon.ico?2\">\\n<meta name=\"referrer\" content=\"always\">\\n\\n\\n\\n <script>\\nvar g_sUserId = \"\";\\nvar g_sGroupId = \"false\";\\nvar g_sCafeHome = \"https://cafe.naver.com/\" + \"fingerstyle\";\\nvar g_sClubId = \"10174263\";\\nvar g_mobileWebLink = \"https://m.cafe.naver.com/fingerstyle\";\\n\\nvar g_sCafeThumbUrl = \\'https://cafethumb.pstatic.net\\';\\nvar g_sUpcafeUrl = \\'https://up.cafe.naver.com\\';\\nvar g_sCafeUrl = \"https://cafe.naver.com\";\\nvar g_sCafeUrlOnly = \"fingerstyle\";\\nvar g_sCafeImgUrl = \\'https://cafe.pstatic.net\\';\\nvar g_sCafeFileUrl = \\'https://cafefiles.pstatic.net\\';\\nvar g_sItem2Url = \\'https://item2.naver.com\\';\\nvar g_sLoginUrl = \"http://nid.naver.com\";\\nvar g_sNidHttps = \\'https://nid.naver.com\\';\\nvar g_sCafeSectionUrl = \"https://section.cafe.naver.com\";\\nvar g_sNdriveHttps = \"https://mybox.naver.com\";\\nvar g_sKin = \"http://kin.naver.com\";\\nvar g_sLogOutReturnUrl = \"https://nid.naver.com/nidlogin.login?mode=form&svctype=40960&id=&url=https://cafe.naver.com/LoginCheck.nhn?m=login\";\\nvar g_sCafeTalk = \\'https://talk.cafe.naver.com\\';\\nvar g_sGfmarketDomain = \\'http://m.gfmarket.naver.com\\';\\nvar g_sGfmarketThumbnailDomain = \\'https://storep-phinf.pstatic.net\\';\\nvar g_sPhotoInfraUploadDomain = \\'cafe.upphoto.naver.com\\';\\nvar g_sDThumbUrl = \\'https://dthumb-phinf.pstatic.net/?src=\\';\\nvar g_sNaverStatUiUrl = \\'https://cafe.stat.naver.com/cafe\\';\\nvar g_sBAStatDomain = \\'https://scv.band.us\\';\\nvar g_sApigwUrl = \\'https://apis.naver.com\\';\\nvar g_sCafeHomePcUrl = \\'https://section.cafe.naver.com\\';\\n\\nvar g_sNicknameRegex = /([a-zA-Z0-9ㄱ-힣\\\\_\\\\s]+)/gi;\\nvar g_mainIframeWidth = \\'860\\';\\n</script>\\n\\n\\n<link rel=\"stylesheet\" href=\"/static/css/main/Style/ArticleListStyleWide-1587621617000-32318.css\" type=\"text/css\">\\n\\n\\n<script type=\"text/javascript\" async=\"\" src=\"https://ssl.pstatic.net/tveta/libs/ssp/ssp.web.sdk.js\"></script>\\n\\n\\n\\n\\n<script type=\"text/javascript\" src=\"/static/js/mycafe/ArticleListHeadScriptWide-1587373241000-142967.js\" charset=\"EUC-KR\"></script>\\n\\n<script type=\"text/javascript\" src=\"/static/js/mycafe/ArticleListHeadUTF8Script-1591250424000-232542.js\" charset=\"UTF-8\"></script>\\n\\n\\n<script type=\"text/javascript\">\\nvar LH = new LH_create();\\n\\nvar oIframeHandler = new IframeHandler({\\n\\tbRelocation : false,\\n\\tsDomain : \"http://cafe.naver.com\",\\n\\tsCafeUrl : \"fingerstyle\",\\n    bCopyParentStyle : false\\n});\\n\\noOneToOneChatLauncher.setIsCafeMember(false);\\n</script>\\n\\n\\n\\n\\n\\n\\t<link rel=\"stylesheet\" href=\"/static/css/main/css/wide/1080_cafe-1620885632000-229911.css\" type=\"text/css\">\\n\\n\\t<link rel=\"stylesheet\" href=\"/static/css/main/css/wide/1080_skin_blue-1588906820000-22318.css\" type=\"text/css\">\\n\\n\\t\\n    <meta name=\"decorator\" content=\"article_list_for_wide\">\\n    \\n\\n\\n\\n<script type=\"text/javascript\">\\n\\n    \\n\\n    \\n    function checkLogin(selection) {\\n        var loginCheckUrl = \"/LoginCheck.nhn?m=check\";\\n        var loginCheckOk = \"https://cafe.naver.com/LoginCheck.nhn?m=login\";\\n\\n        new Ajax( loginCheckUrl,\\n            {\\n                onLoad  : function(req) {\\n                    var sReqText=req.responseText.trim();\\n\\n                    if (sReqText==\"LOGOUT\") {\\n\\n                        parent.document.getElementById(\"layerd_notice01\").style.display = \"none\";\\n\\n                        parent.openLoginLayer();\\n                        parent.document.checkFrame.location.replace(\"https://nid.naver.com/nidlogin.login?mode=form&svctype=40960&id=&url=\" + loginCheckOk + \"&pmsg=아직 게시글이 등록되지 않았습니다\");\\n                    } else {\\n                        parent.closeLoginLayer();\\n                        if(selection == 0){\\n                            changeMemberlevel();\\n                        }else if(selection == 1){\\n                            moveArticles();\\n                        }else if(selection == 2){\\n                            removeArticles();\\n                        }else if(selection == 3){\\n                            modifyArticleHeads();\\n                        }\\n                    }\\n                },\\n                \"timeout\":2000\\n            }\\n        );\\n    }\\n\\n    // 답글 수 읽어 오기\\n    function showReplies(clubid, articleid, menuid, naverSearch) {\\n        var replyTr = document.getElementById(\"reply_\" + articleid);\\n        var elReply = document.getElementById(\"elReply_\" + articleid);\\n\\n        if (replyTr.style.display == \"none\") {\\n        \\tvar param_uri = \"clubid=10174263&page=1&menuid=22&boardtype=L\";\\n\\n\\t\\t\\t\\n\\t\\t\\t\\n\\t\\t\\t\\n\\n            var ajax = new Ajax(\"/RefArticleListForSearchAll.nhn?\" + param_uri + \"&articleid=\" + articleid + \"&memuid=\" + menuid + \"&naverSearch=\" + naverSearch, {\\n                method : \"GET\",\\n                suspend : true,\\n                onLoad : function(req) {\\n                    replyTr.innerHTML = req.responseText;\\n                    replyTr.style.display=\"\";\\n                    elReply.className = elReply.className + \" is_selected\";\\n                    parentResizeIframe(\\'cafe_main\\', \\'true\\');\\n                    \\n                }\\n            });\\n            ajax.request();\\n        } else {\\n            replyTr.innerHTML = \"\";\\n            replyTr.style.display = \"none\";\\n            elReply.className = elReply.className.replace(\"is_selected\", \"\");\\n            parentResizeIframe(\\'cafe_main\\', \\'true\\');\\n        }\\n    }\\n</script>\\n\\n</head>\\n<body marginwidth=\"0\" marginheight=\"0\">\\n\\n<div id=\"content-area\">\\n<div id=\"main-area\" class=\"skin-1080 fl\">\\n\\n\\n\\n\\n\\n\\n\\n\\n<script type=\"text/javascript\" src=\"/static/js/mycafe/common/groupssp/ScriptGroupSSPAdvert-1617013670000-12349.js\" charset=\"EUC-KR\"></script>\\n\\n\\n<script type=\"text/javascript\">\\nvar oGroupSSPAdvertFinder = new cafe.GroupSSP.Advert.Finder();\\nvar oGroupSSPAdvertReporter = new cafe.GroupSSP.Advert.Reporter();\\n</script>\\n\\n\\n\\n\\n\\n\\n\\n\\n\\n\\n\\n\\n\\n\\n    \\n\\n\\n\\n\\n\\n\\n\\n\\n\\n\\n\\n\\n\\n<div id=\"sub-tit\">\\n\\t<div class=\"title_area\">\\n\\t\\t<div class=\"info_tit\">\\n\\t\\t\\t\\n\\t\\t\\t\\t\\n\\t\\t\\t\\t\\n\\t\\t\\t\\t\\n\\t\\t\\t\\t\\n\\t\\t\\t\\t\\t<h3 class=\"sub-tit-color\">회원 연주곡</h3>\\n\\t\\t\\t\\t\\t\\n\\t\\t\\t\\t\\t\\t<a href=\"#\" class=\"bookmark\" role=\"button\"><span class=\"blind\">즐겨찾는 게시판</span></a>\\n\\t\\t\\t\\t\\t\\t\\n\\t\\t\\t\\t\\t\\t\\n\\t\\t\\t\\t\\t\\t\\n\\t\\t\\t\\t\\t\\t\\t<a href=\"#\" onclick=\"setupFavoriteCafeMenu(false, 10174263, 22);clickcr(this, \\'btp.fav\\', \\'\\', \\'\\', event);return false;\" id=\"favorite\" class=\"_rosRestrict ico_bookmark\">\\n\\t\\t\\t\\t\\t\\t\\t\\t<span class=\"blind\">즐겨찾는 게시판 등록</span>\\n\\t\\t\\t\\t\\t\\t\\t</a>\\n\\t\\t\\t\\t\\t\\t\\n\\t\\t\\t\\t\\t\\t\\n\\t\\t\\t\\t\\t\\n\\t\\t\\t\\t\\n\\t\\t\\t\\t\\n\\t\\t\\t\\n\\t\\t</div>\\n\\n\\t\\n\\t\\t<p class=\"m-tcol-c\">회원들이 올리는 연주곡! 잘 들으셨다면 추천 꾹!</p>\\n\\t\\n\\t</div>\\n\\n\\t<div class=\"me_feed\">\\n\\t\\n\\t\\n\\t\\t\\n\\t\\t\\t\\n\\t\\t\\t\\t\\n\\t\\t\\t\\n\\t\\t\\t\\n\\t\\t\\n\\t\\n\\n\\t\\n\\t</div>\\n</div>\\n\\n\\n\\n\\t\\n\\n\\n\\n\\n\\n\\n\\n\\n\\n<div class=\"list-style\">\\n\\n\\t\\n\\t\\t\\n\\t\\t\\n\\t\\t\\n\\t\\t\\t\\n\\t\\t\\t\\n\\t\\t\\t\\n\\n\\t\\t\\t\\n\\t\\t\\t\\n\\t\\t\\t<div class=\"sort_area\">\\n\\t\\t\\t\\t\\n\\t\\t\\t\\t\\t\\n\\t\\t\\t\\t\\n\\t\\t\\t\\t\\n\\n\\t\\t\\t\\t\\n\\t\\t\\t\\t<div class=\"check_box\">\\n\\t\\t\\t\\t\\t<input type=\"checkbox\" id=\"notice_hidden\">\\n\\t\\t\\t\\t\\t<label for=\"notice_hidden\">공지 숨기기</label>\\n\\t\\t\\t\\t</div>\\n\\t\\t\\t\\t\\n\\n\\t\\t\\t\\t\\n\\t\\t\\t\\t\\n\\t\\t\\t\\t<div class=\"sort_form\">\\n\\t\\t\\t\\t\\t<a href=\"/ArticleList.nhn?search.clubid=10174263&amp;search.menuid=22&amp;search.boardtype=C\" onclick=\"clickcr(this, \\'btp.wzine\\', \\'\\', \\'\\', event);\" class=\"sort_card \"><span class=\"blind\">카드형</span></a>\\n\\t\\t\\t\\t\\t\\n\\t\\t\\t\\t\\t<a href=\"/ArticleList.nhn?search.clubid=10174263&amp;search.menuid=22&amp;search.boardtype=I\" onclick=\"clickcr(this, \\'btp.album\\', \\'\\', \\'\\', event);\" class=\"sort_album \"><span class=\"blind\">앨범형</span></a>\\n\\t\\t\\t\\t\\t<a href=\"/ArticleList.nhn?search.clubid=10174263&amp;search.menuid=22&amp;search.boardtype=L\" onclick=\"clickcr(this, \\'btp.board\\', \\'\\', \\'\\', event);\" class=\"sort_list  is_selected \"><span class=\"blind\">목록형</span></a>\\n\\t\\t\\t\\t</div>\\n\\t\\t\\t\\t\\n\\n\\t\\t\\t\\t\\n\\t\\t\\t\\t\\n\\n\\t\\t\\t\\t\\n\\n\\t\\t\\t\\t\\n\\t\\t\\t\\t<div id=\"listSizeSelectDiv\" class=\"select_component2\" style=\"width: 80px\">\\n\\t\\t\\t\\t\\t<a href=\"#\" onclick=\"nhn.search.toggleBoxLayer(\\'listSizeSelectDiv\\');return false;\" class=\"select_box\">15개씩</a>\\n\\t\\t\\t\\t\\t<ul class=\"select_list\">\\n\\t\\t\\t\\t\\t\\t\\n\\t\\t\\t\\t\\t\\t\\t<li>\\n\\t\\t\\t\\t\\t\\t\\t\\t\\n\\t\\t\\t\\t\\t\\t\\t\\t\\t\\n\\t\\t\\t\\t\\t\\t\\t\\t\\t\\n\\t\\t\\t\\t\\t\\t\\t\\t\\t\\t<a href=\"/ArticleList.nhn?search.clubid=10174263&amp;search.boardtype=L&amp;search.menuid=22&amp;search.marketBoardTab=D&amp;search.specialmenutype=&amp;userDisplay=5\">5개씩</a>\\n\\t\\t\\t\\t\\t\\t\\t\\t\\t\\n\\t\\t\\t\\t\\t\\t\\t\\t\\n\\t\\t\\t\\t\\t\\t\\t</li>\\n\\t\\t\\t\\t\\t\\t\\n\\t\\t\\t\\t\\t\\t\\t<li>\\n\\t\\t\\t\\t\\t\\t\\t\\t\\n\\t\\t\\t\\t\\t\\t\\t\\t\\t\\n\\t\\t\\t\\t\\t\\t\\t\\t\\t\\n\\t\\t\\t\\t\\t\\t\\t\\t\\t\\t<a href=\"/ArticleList.nhn?search.clubid=10174263&amp;search.boardtype=L&amp;search.menuid=22&amp;search.marketBoardTab=D&amp;search.specialmenutype=&amp;userDisplay=10\">10개씩</a>\\n\\t\\t\\t\\t\\t\\t\\t\\t\\t\\n\\t\\t\\t\\t\\t\\t\\t\\t\\n\\t\\t\\t\\t\\t\\t\\t</li>\\n\\t\\t\\t\\t\\t\\t\\n\\t\\t\\t\\t\\t\\t\\t<li>\\n\\t\\t\\t\\t\\t\\t\\t\\t\\n\\t\\t\\t\\t\\t\\t\\t\\t\\t\\n\\t\\t\\t\\t\\t\\t\\t\\t\\t\\n\\t\\t\\t\\t\\t\\t\\t\\t\\t\\t<a href=\"/ArticleList.nhn?search.clubid=10174263&amp;search.boardtype=L&amp;search.menuid=22&amp;search.marketBoardTab=D&amp;search.specialmenutype=&amp;userDisplay=15\">15개씩</a>\\n\\t\\t\\t\\t\\t\\t\\t\\t\\t\\n\\t\\t\\t\\t\\t\\t\\t\\t\\n\\t\\t\\t\\t\\t\\t\\t</li>\\n\\t\\t\\t\\t\\t\\t\\n\\t\\t\\t\\t\\t\\t\\t<li>\\n\\t\\t\\t\\t\\t\\t\\t\\t\\n\\t\\t\\t\\t\\t\\t\\t\\t\\t\\n\\t\\t\\t\\t\\t\\t\\t\\t\\t\\n\\t\\t\\t\\t\\t\\t\\t\\t\\t\\t<a href=\"/ArticleList.nhn?search.clubid=10174263&amp;search.boardtype=L&amp;search.menuid=22&amp;search.marketBoardTab=D&amp;search.specialmenutype=&amp;userDisplay=20\">20개씩</a>\\n\\t\\t\\t\\t\\t\\t\\t\\t\\t\\n\\t\\t\\t\\t\\t\\t\\t\\t\\n\\t\\t\\t\\t\\t\\t\\t</li>\\n\\t\\t\\t\\t\\t\\t\\n\\t\\t\\t\\t\\t\\t\\t<li>\\n\\t\\t\\t\\t\\t\\t\\t\\t\\n\\t\\t\\t\\t\\t\\t\\t\\t\\t\\n\\t\\t\\t\\t\\t\\t\\t\\t\\t\\n\\t\\t\\t\\t\\t\\t\\t\\t\\t\\t<a href=\"/ArticleList.nhn?search.clubid=10174263&amp;search.boardtype=L&amp;search.menuid=22&amp;search.marketBoardTab=D&amp;search.specialmenutype=&amp;userDisplay=30\">30개씩</a>\\n\\t\\t\\t\\t\\t\\t\\t\\t\\t\\n\\t\\t\\t\\t\\t\\t\\t\\t\\n\\t\\t\\t\\t\\t\\t\\t</li>\\n\\t\\t\\t\\t\\t\\t\\n\\t\\t\\t\\t\\t\\t\\t<li>\\n\\t\\t\\t\\t\\t\\t\\t\\t\\n\\t\\t\\t\\t\\t\\t\\t\\t\\t\\n\\t\\t\\t\\t\\t\\t\\t\\t\\t\\n\\t\\t\\t\\t\\t\\t\\t\\t\\t\\t<a href=\"/ArticleList.nhn?search.clubid=10174263&amp;search.boardtype=L&amp;search.menuid=22&amp;search.marketBoardTab=D&amp;search.specialmenutype=&amp;userDisplay=40\">40개씩</a>\\n\\t\\t\\t\\t\\t\\t\\t\\t\\t\\n\\t\\t\\t\\t\\t\\t\\t\\t\\n\\t\\t\\t\\t\\t\\t\\t</li>\\n\\t\\t\\t\\t\\t\\t\\n\\t\\t\\t\\t\\t\\t\\t<li>\\n\\t\\t\\t\\t\\t\\t\\t\\t\\n\\t\\t\\t\\t\\t\\t\\t\\t\\t\\n\\t\\t\\t\\t\\t\\t\\t\\t\\t\\n\\t\\t\\t\\t\\t\\t\\t\\t\\t\\t<a href=\"/ArticleList.nhn?search.clubid=10174263&amp;search.boardtype=L&amp;search.menuid=22&amp;search.marketBoardTab=D&amp;search.specialmenutype=&amp;userDisplay=50\">50개씩</a>\\n\\t\\t\\t\\t\\t\\t\\t\\t\\t\\n\\t\\t\\t\\t\\t\\t\\t\\t\\n\\t\\t\\t\\t\\t\\t\\t</li>\\n\\t\\t\\t\\t\\t\\t\\n\\t\\t\\t\\t\\t</ul>\\n\\t\\t\\t\\t</div>\\n\\t\\t\\t\\t\\n\\t\\t\\t</div>\\n\\t\\t\\n\\t\\n</div>\\n\\n<div class=\"article-board m-tcol-c\" id=\"upperArticleList\">\\n\\t\\n\\t\\n\\t\\n\\n\\t<table>\\n\\t\\t<caption><span class=\"blind\">게시물 목록</span></caption>\\n\\t\\t<colgroup>\\n\\t\\t\\t\\n\\t\\t\\t\\t\\n\\t\\t\\t\\t\\n\\t\\t\\t\\t\\t\\n\\t\\t\\t\\t\\t\\t\\n\\t\\t\\t\\t\\t\\t\\t<col style=\"width:88px\">\\n\\t\\t\\t\\t\\t\\t\\t<col>\\n\\t\\t\\t\\t\\t\\t\\t<col style=\"width:118px\">\\n\\t\\t\\t\\t\\t\\t\\t<col style=\"width:80px\">\\n\\t\\t\\t\\t\\t\\t\\t<col style=\"width:68px\">\\n\\t\\t\\t\\t\\t\\t\\t<col style=\"width:68px\">\\n\\t\\t\\t\\t\\t\\t\\n\\t\\t\\t\\t\\t\\t\\n\\t\\t\\t\\t\\t\\n\\t\\t\\t\\t\\n\\t\\t\\t\\n\\t\\t</colgroup>\\n\\t\\t<thead>\\n\\t\\t\\n\\t\\t<tr id=\"normalTableTitle\">\\n\\t\\t\\t<th>\\n\\t\\t\\t\\t\\n\\t\\t\\t\\t\\n\\t\\t\\t\\t\\t<div id=\"articleHeadListDiv\" class=\"select_component3 \">\\n\\t\\t\\t\\t\\t\\t<a href=\"#\" onclick=\"nhn.search.toggleBoxLayer(\\'articleHeadListDiv\\', true);return false;\" class=\"select_box\">말머리</a>\\n\\t\\t\\t\\t\\t\\t<ul class=\"select_list\">\\n\\t\\t\\t\\t\\t\\t\\t<li><a href=\"/ArticleList.nhn?search.clubid=10174263&amp;search.menuid=22&amp;search.boardtype=L&amp;userDisplay=15\"><span>전체보기</span></a></li>\\n\\t\\t\\t\\t\\t\\t\\t\\n\\t\\t\\t\\t\\t\\t\\t\\t<li><a href=\"/ArticleList.nhn?search.clubid=10174263&amp;search.menuid=22&amp;search.boardtype=L&amp;userDisplay=15&amp;search.headid=1\">녹음</a></li>\\n\\t\\t\\t\\t\\t\\t\\t\\n\\t\\t\\t\\t\\t\\t\\t\\t<li><a href=\"/ArticleList.nhn?search.clubid=10174263&amp;search.menuid=22&amp;search.boardtype=L&amp;userDisplay=15&amp;search.headid=2\">녹화</a></li>\\n\\t\\t\\t\\t\\t\\t\\t\\n\\t\\t\\t\\t\\t\\t\\t\\t<li><a href=\"/ArticleList.nhn?search.clubid=10174263&amp;search.menuid=22&amp;search.boardtype=L&amp;userDisplay=15&amp;search.headid=10\">편곡</a></li>\\n\\t\\t\\t\\t\\t\\t\\t\\n\\t\\t\\t\\t\\t\\t</ul>\\n\\t\\t\\t\\t\\t</div>\\n\\t\\t\\t\\t\\n\\t\\t\\t</th>\\n\\t\\t\\t<th scope=\"col\"><span class=\"article_title\">제목</span></th>\\n\\t\\t\\t<th scope=\"col\" class=\"th_name\">작성자</th>\\n\\t\\t\\t<th scope=\"col\">작성일</th>\\n\\t\\t\\t<th scope=\"col\">조회</th>\\n\\t\\t\\t\\n\\t\\t\\t\\t<th scope=\"col\">\\n\\t\\t\\t\\t\\t<a href=\"/ArticleList.nhn?search.clubid=10174263&amp;search.menuid=22&amp;search.boardtype=L&amp;search.useuparticle=true&amp;userDisplay=15\" class=\"sort_likes\">좋아요</a>\\n\\t\\t\\t\\t</th>\\n\\t\\t\\t\\n\\t\\t</tr>\\n\\t\\t<tr id=\"simpleTableTitle\" style=\"display:none;\">\\n\\t\\t\\t\\n\\t\\t\\t\\t<th colspan=\"6\" style=\"height:0px;padding: 0px;\"></th>\\n\\t\\t\\t\\n\\t\\t\\t\\n\\t\\t</tr>\\n\\t\\t</thead>\\n\\t\\t<tbody>\\n\\t\\t\\n\\t\\t\\n\\t\\t\\t\\n\\t\\t\\t\\n\\t\\t\\t\\t\\n\\t\\t\\t\\t\\n\\t\\t\\t\\t\\t\\n\\t\\t\\t\\t\\t\\n\\t\\t\\t\\t\\n\\t\\t\\t\\n\\n\\t\\t\\t\\n\\t\\t\\t\\t\\n\\t\\t\\t\\t\\n\\n\\t\\t\\t\\t<tr class=\"_noticeArticle board-notice type_required\">\\n\\t\\t\\t\\t\\t<td colspan=\"2\" class=\"td_article\">\\n\\t\\t\\t\\t\\t\\t\\n\\t\\t\\t\\t\\t\\t<div class=\"board-tag\">\\n\\t\\t\\t\\t\\t\\t\\t<strong class=\"board-tag-txt\">\\n\\t\\t\\t\\t\\t\\t\\t\\t<span class=\"inner\">필독</span>\\n\\t\\t\\t\\t\\t\\t\\t</strong>\\n                        </div>\\n\\t\\t\\t\\t\\t\\t<div class=\"board-list\">\\n\\t\\t\\t\\t\\t\\t\\t<div class=\"inner_list\">\\n\\t\\t\\t\\t\\t\\t\\t\\t\\n\\t\\t\\t\\t\\t\\t\\t\\t\\n\\t\\t\\t\\t\\t\\t\\t\\t\\t\\n\\t\\t\\t\\t\\t\\t\\t\\t\\t\\n\\t\\t\\t\\t\\t\\t\\t\\t\\t\\t\\n\\t\\t\\t\\t\\t\\t\\t\\t\\t\\n\\t\\t\\t\\t\\t\\t\\t\\t\\n\\t\\t\\t\\t\\t\\t\\t\\t<a href=\"/ArticleRead.nhn?clubid=10174263&amp;menuid=22&amp;boardtype=L&amp;page=1&amp;specialmenutype=&amp;userDisplay=15&amp;articleid=221072\" onclick=\"clickcr(this, \\'gnr.notice\\',\\'\\',\\'\\',event);\" class=\"article\">\\n                                    \\n                                    \\n\\n\\t\\t\\t\\t\\t\\t\\t\\t\\tKBS &lt;올댓뮤직&gt; 기타의 밤 특집 - 자이로, 장재훈, 김영소 등 출연분\\n\\t\\t\\t\\t\\t\\t\\t\\t</a>\\n\\n\\t\\t\\t\\t\\t\\t\\t\\t\\n\\t\\t\\t\\t\\t\\t\\t\\t\\n\\t\\t\\t\\t\\t\\t\\t\\t\\n\\n\\n\\t\\t\\t\\t\\t\\t\\t\\t\\n\\t\\t\\t\\t\\t\\t\\t\\t\\n\\t\\t\\t\\t\\t\\t\\t\\t\\t<a href=\"/ArticleRead.nhn?clubid=10174263&amp;menuid=22&amp;boardtype=L&amp;page=1&amp;specialmenutype=&amp;userDisplay=15&amp;articleid=221072&amp;commentFocus=true\" onclick=\"clickcr(this, \\'gnr.noticecmt\\', \\'\\', \\'\\', event);\" class=\"cmt\">\\n\\t\\t\\t\\t\\t\\t\\t\\t\\t\\t[<em>4</em>]\\n\\t\\t\\t\\t\\t\\t\\t\\t\\t</a>\\n\\t\\t\\t\\t\\t\\t\\t\\t\\n\\n\\t\\t\\t\\t\\t\\t\\t\\t\\n\\t\\t\\t\\t\\t\\t\\t\\t\\n\\t\\t\\t\\t\\t\\t\\t</div>\\n\\t\\t\\t\\t\\t\\t</div>\\n\\t\\t\\t\\t\\t</td>\\n\\n\\t\\t\\t\\t\\t<td class=\"td_name\"><div class=\"pers_nick_area\"><table role=\"presentation\" cellspacing=\"0\"><tbody><tr><td class=\"p-nick\"><a href=\"#\" class=\"m-tcol-c\" onclick=\"ui(event, \\'ez8jh\\',3,\\'진환\\',\\'10174263\\',\\'\\', \\'false\\', \\'true\\', \\'fingerstyle\\', \\'false\\', \\'22\\'); return false;\">진환</a><span class=\"mem-level\"><img src=\"https://cafe.pstatic.net/levelicon/1/1_888.gif\" width=\"11\" height=\"11\"></span></td></tr></tbody></table></div><script type=\"text/javascript\">wordBreak($(\"top_ez8jh_0\"));</script></td>\\n\\t\\t\\t\\t\\t<td class=\"td_date\">2020.11.13.</td>\\n\\t\\t\\t\\t\\t<td class=\"td_view\">1,860</td>\\n\\t\\t\\t\\t\\t\\n\\t\\t\\t\\t\\t\\t<td class=\"td_likes\">19</td>\\n\\t\\t\\t\\t\\t\\n\\t\\t\\t\\t</tr>\\n\\t\\t\\t\\n\\t\\t\\n\\n\\t\\t\\n\\t\\t\\n\\t\\t</tbody>\\n\\t</table>\\n</div>\\n\\n\\n\\n\\n\\n\\n<div class=\"article-board m-tcol-c\">\\n    \\n    \\n    \\n    \\n    \\n    \\n        \\n    \\n\\n    <table>\\n        <caption><span class=\"blind\">게시물 목록</span></caption>\\n        <colgroup>\\n            \\n                \\n                \\n                    \\n                        \\n                            <col style=\"width:88px;\">\\n                            <col>\\n                            <col style=\"width:118px\">\\n                            <col style=\"width:80px\">\\n                            <col style=\"width:68px\">\\n                            <col style=\"width:68px\">\\n                        \\n                        \\n                    \\n                \\n            \\n\\n        </colgroup>\\n        <tbody>\\n        \\n            \\n            <tr>\\n                <td colspan=\"2\" class=\"td_article\">\\n                    \\n\\n                    \\n                        <div class=\"board-number\">', '223778</div></div>\\n                    \\n\\n                    \\n\\n                    <div class=\"board-list\">\\n                        <div class=\"inner_list\">\\n                            \\n                                \\n                                \\n                                    \\n                                \\n                            \\n\\n                            \\n                            \\n\\n                            \\n                            \\n\\n                            \\n                            \\n                            \\n\\n                            \\n\\n                            \\n                            <a class=\"article\" href=\"/ArticleRead.nhn?clubid=10174263&amp;page=1&amp;menuid=22&amp;boardtype=L&amp;articleid=223778&amp;referrerAllArticles=false\" onclick=\"clickcr(this, \\'gnr.title\\',\\'\\',\\'\\',event);\">\\n                                \\n                                \\n\\n                                \\n                                \\n                                <span class=\"head\">\\n                                    [녹화]\\n                                </span>\\n                                \\n\\n                                \\n                                \\n                                    \\n                                    Yuhki Kuramoto - Meditation\\n                                    \\n                                \\n                            </a>\\n\\n                            \\n                            \\n                            \\n\\n\\n                            \\n                            \\n                            \\n                            \\n                            \\n                            \\n                            \\n                            \\n                            \\n                            \\n\\n                            \\n                            \\n                                <a href=\"/ArticleRead.nhn?clubid=10174263&amp;page=1&amp;menuid=22&amp;boardtype=L&amp;articleid=223778&amp;referrerAllArticles=false&amp;commentFocus=true\" onclick=\"clickcr(this, \\'gnr.cmt\\',\\'\\',\\'\\',event);\" class=\"cmt\">\\n                                    [<em>4</em>]\\n                                </a>\\n                            \\n\\n                            \\n                            \\n                            \\n\\n                            \\n                            \\n                                \\n                                <span class=\"list-i-new\"><i class=\"blind\">new</i></span>\\n                            \\n\\n                            \\n                            \\n\\n                            \\n                        </div>\\n                    </div>\\n                </td>\\n                <td class=\"td_name\">\\n                    <div class=\"pers_nick_area\"><table role=\"presentation\" cellspacing=\"0\"><tbody><tr><td class=\"p-nick\"><a href=\"#\" class=\"m-tcol-c\" onclick=\"ui(event, \\'haryun2005\\',3,\\'haryunban\\',\\'10174263\\',\\'\\', \\'false\\', \\'true\\', \\'fingerstyle\\', \\'false\\', \\'22\\'); return false;\">haryunban</a><span class=\"mem-level\"><img src=\"https://cafe.pstatic.net/levelicon/1/1_110.gif\" width=\"11\" height=\"11\"></span></td></tr></tbody></table></div><script type=\"text/javascript\">wordBreak($(\"article_haryun2005_0\"));</script>\\n                </td>\\n                <td class=\"td_date\">2021.06.19.</td>\\n                <td class=\"td_view\">34</td>\\n                \\n                    <td class=\"td_likes\">1</td>\\n                \\n            </tr>\\n\\n            \\n            \\n        \\n            \\n            <tr>\\n                <td colspan=\"2\" class=\"td_article\">\\n                    \\n\\n                    \\n                        <div class=\"board-number\">', '223773</div></div>\\n                    \\n\\n                    \\n\\n                    <div class=\"board-list\">\\n                        <div class=\"inner_list\">\\n                            \\n                                \\n                                \\n                                    \\n                                \\n                            \\n\\n                            \\n                            \\n\\n                            \\n                            \\n\\n                            \\n                            \\n                            \\n\\n                            \\n\\n                            \\n                            <a class=\"article\" href=\"/ArticleRead.nhn?clubid=10174263&amp;page=1&amp;menuid=22&amp;boardtype=L&amp;articleid=223773&amp;referrerAllArticles=false\" onclick=\"clickcr(this, \\'gnr.title\\',\\'\\',\\'\\',event);\">\\n                                \\n                                \\n\\n                                \\n                                \\n                                <span class=\"head\">\\n                                    [편곡]\\n                                </span>\\n                                \\n\\n                                \\n                                \\n                                    \\n                                    CCM finger-style - 참 좋으신 주님  (김기영 작곡, arr. by Shrek)\\n                                    \\n                                \\n                            </a>\\n\\n                            \\n                            \\n                            \\n\\n\\n                            \\n                            \\n                            \\n                            \\n                            \\n                            \\n                            \\n                            \\n                            \\n                            \\n\\n                            \\n                            \\n                                <a href=\"/ArticleRead.nhn?clubid=10174263&amp;page=1&amp;menuid=22&amp;boardtype=L&amp;articleid=223773&amp;referrerAllArticles=false&amp;commentFocus=true\" onclick=\"clickcr(this, \\'gnr.cmt\\',\\'\\',\\'\\',event);\" class=\"cmt\">\\n                                    [<em>3</em>]\\n                                </a>\\n                            \\n\\n                            \\n                            \\n                            \\n\\n                            \\n                            \\n                                \\n                                <span class=\"list-i-new\"><i class=\"blind\">new</i></span>\\n                            \\n\\n                            \\n                            \\n\\n                            \\n                        </div>\\n                    </div>\\n                </td>\\n                <td class=\"td_name\">\\n                    <div class=\"pers_nick_area\"><table role=\"presentation\" cellspacing=\"0\"><tbody><tr><td class=\"p-nick\"><a href=\"#\" class=\"m-tcol-c\" onclick=\"ui(event, \\'garymh\\',3,\\'슈렉68\\',\\'10174263\\',\\'\\', \\'false\\', \\'true\\', \\'fingerstyle\\', \\'false\\', \\'22\\'); return false;\">슈렉68</a><span class=\"mem-level\"><img src=\"https://cafe.pstatic.net/levelicon/1/1_130.gif\" width=\"11\" height=\"11\"></span></td></tr></tbody></table></div><script type=\"text/javascript\">wordBreak($(\"article_garymh_1\"));</script>\\n                </td>\\n                <td class=\"td_date\">2021.06.19.</td>\\n                <td class=\"td_view\">15</td>\\n                \\n                    <td class=\"td_likes\">2</td>\\n                \\n            </tr>\\n\\n            \\n            \\n        \\n            \\n            <tr>\\n                <td colspan=\"2\" class=\"td_article\">\\n                    \\n\\n                    \\n                        <div class=\"board-number\">', '223772</div></div>\\n                    \\n\\n                    \\n\\n                    <div class=\"board-list\">\\n                        <div class=\"inner_list\">\\n                            \\n                                \\n                                \\n                                    \\n                                \\n                            \\n\\n                            \\n                            \\n\\n                            \\n                            \\n\\n                            \\n                            \\n                            \\n\\n                            \\n\\n                            \\n                            <a class=\"article\" href=\"/ArticleRead.nhn?clubid=10174263&amp;page=1&amp;menuid=22&amp;boardtype=L&amp;articleid=223772&amp;referrerAllArticles=false\" onclick=\"clickcr(this, \\'gnr.title\\',\\'\\',\\'\\',event);\">\\n                                \\n                                \\n\\n                                \\n                                \\n                                <span class=\"head\">\\n                                    [편곡]\\n                                </span>\\n                                \\n\\n                                \\n                                \\n                                    \\n                                    Guitar solo - Just Fall In Love Again (Anne Murray, 1978)\\n                                    \\n                                \\n                            </a>\\n\\n                            \\n                            \\n                            \\n\\n\\n                            \\n                            \\n                            \\n                            \\n                            \\n                            \\n                            \\n                            \\n                            \\n                            \\n\\n                            \\n                            \\n\\n                            \\n                            \\n                            \\n\\n                            \\n                            \\n                                \\n                                <span class=\"list-i-new\"><i class=\"blind\">new</i></span>\\n                            \\n\\n                            \\n                            \\n\\n                            \\n                        </div>\\n                    </div>\\n                </td>\\n                <td class=\"td_name\">\\n                    <div class=\"pers_nick_area\"><table role=\"presentation\" cellspacing=\"0\"><tbody><tr><td class=\"p-nick\"><a href=\"#\" class=\"m-tcol-c\" onclick=\"ui(event, \\'garymh\\',3,\\'슈렉68\\',\\'10174263\\',\\'\\', \\'false\\', \\'true\\', \\'fingerstyle\\', \\'false\\', \\'22\\'); return false;\">슈렉68</a><span class=\"mem-level\"><img src=\"https://cafe.pstatic.net/levelicon/1/1_130.gif\" width=\"11\" height=\"11\"></span></td></tr></tbody></table></div><script type=\"text/javascript\">wordBreak($(\"article_garymh_2\"));</script>\\n                </td>\\n                <td class=\"td_date\">2021.06.19.</td>\\n                <td class=\"td_view\">17</td>\\n                \\n                    <td class=\"td_likes\">0</td>\\n                \\n            </tr>\\n\\n            \\n            \\n        \\n            \\n            <tr>\\n                <td colspan=\"2\" class=\"td_article\">\\n                    \\n\\n                    \\n                        <div class=\"board-number\">', '223769</div></div>\\n                    \\n\\n                    \\n\\n                    <div class=\"board-list\">\\n                        <div class=\"inner_list\">\\n                            \\n                                \\n                                \\n                                    \\n                                \\n                            \\n\\n                            \\n                            \\n\\n                            \\n                            \\n\\n                            \\n                            \\n                            \\n\\n                            \\n\\n                            \\n                            <a class=\"article\" href=\"/ArticleRead.nhn?clubid=10174263&amp;page=1&amp;menuid=22&amp;boardtype=L&amp;articleid=223769&amp;referrerAllArticles=false\" onclick=\"clickcr(this, \\'gnr.title\\',\\'\\',\\'\\',event);\">\\n                                \\n                                \\n\\n                                \\n                                \\n\\n                                \\n                                \\n                                    \\n                                    I raise my hands high to the Lord (내 손을 주께 높이 듭니다)\\n                                    \\n                                \\n                            </a>\\n\\n                            \\n                            \\n                            \\n\\n\\n                            \\n                            \\n                            \\n                            \\n                            \\n                            \\n                            \\n                            \\n                            \\n                            \\n\\n                            \\n                            \\n\\n                            \\n                            \\n                            \\n\\n                            \\n                            \\n                                \\n                                <span class=\"list-i-new\"><i class=\"blind\">new</i></span>\\n                            \\n\\n                            \\n                            \\n\\n                            \\n                        </div>\\n                    </div>\\n                </td>\\n                <td class=\"td_name\">\\n                    <div class=\"pers_nick_area\"><table role=\"presentation\" cellspacing=\"0\"><tbody><tr><td class=\"p-nick\"><a href=\"#\" class=\"m-tcol-c\" onclick=\"ui(event, \\'ndhw\\',3,\\'현하ll노동환\\',\\'10174263\\',\\'\\', \\'false\\', \\'true\\', \\'fingerstyle\\', \\'false\\', \\'22\\'); return false;\">현하ll노동환</a><span class=\"mem-level\"><img src=\"https://cafe.pstatic.net/levelicon/1/1_130.gif\" width=\"11\" height=\"11\"></span></td></tr></tbody></table></div><script type=\"text/javascript\">wordBreak($(\"article_ndhw_3\"));</script>\\n                </td>\\n                <td class=\"td_date\">2021.06.19.</td>\\n                <td class=\"td_view\">11</td>\\n                \\n                    <td class=\"td_likes\">0</td>\\n                \\n            </tr>\\n\\n            \\n            \\n        \\n            \\n            <tr>\\n                <td colspan=\"2\" class=\"td_article\">\\n                    \\n\\n                    \\n                        <div class=\"board-number\">', '223767</div></div>\\n                    \\n\\n                    \\n\\n                    <div class=\"board-list\">\\n                        <div class=\"inner_list\">\\n                            \\n                                \\n                                \\n                                    \\n                                \\n                            \\n\\n                            \\n                            \\n\\n                            \\n                            \\n\\n                            \\n                            \\n                            \\n\\n                            \\n\\n                            \\n                            <a class=\"article\" href=\"/ArticleRead.nhn?clubid=10174263&amp;page=1&amp;menuid=22&amp;boardtype=L&amp;articleid=223767&amp;referrerAllArticles=false\" onclick=\"clickcr(this, \\'gnr.title\\',\\'\\',\\'\\',event);\">\\n                                \\n                                \\n\\n                                \\n                                \\n\\n                                \\n                                \\n                                    \\n                                    아이유 가을아침 기타커버!\\n                                    \\n                                \\n                            </a>\\n\\n                            \\n                            \\n                            \\n\\n\\n                            \\n                            \\n                            \\n                            \\n                            \\n                            \\n                            \\n                            \\n                            \\n                            \\n\\n                            \\n                            \\n\\n                            \\n                            \\n                            \\n\\n                            \\n                            \\n\\n                            \\n                            \\n\\n                            \\n                        </div>\\n                    </div>\\n                </td>\\n                <td class=\"td_name\">\\n                    <div class=\"pers_nick_area\"><table role=\"presentation\" cellspacing=\"0\"><tbody><tr><td class=\"p-nick\"><a href=\"#\" class=\"m-tcol-c\" onclick=\"ui(event, \\'ehkchl\\',3,\\'찬튜\\',\\'10174263\\',\\'\\', \\'false\\', \\'true\\', \\'fingerstyle\\', \\'false\\', \\'22\\'); return false;\">찬튜</a><span class=\"mem-level\"><img src=\"https://cafe.pstatic.net/levelicon/1/1_110.gif\" width=\"11\" height=\"11\"></span></td></tr></tbody></table></div><script type=\"text/javascript\">wordBreak($(\"article_ehkchl_4\"));</script>\\n                </td>\\n                <td class=\"td_date\">2021.06.19.</td>\\n                <td class=\"td_view\">39</td>\\n                \\n                    <td class=\"td_likes\">0</td>\\n                \\n            </tr>\\n\\n            \\n            \\n        \\n            \\n            <tr>\\n                <td colspan=\"2\" class=\"td_article\">\\n                    \\n\\n                    \\n                        <div class=\"board-number\">', '223760</div></div>\\n                    \\n\\n                    \\n\\n                    <div class=\"board-list\">\\n                        <div class=\"inner_list\">\\n                            \\n                                \\n                                \\n                                    \\n                                \\n                            \\n\\n                            \\n                            \\n\\n                            \\n                            \\n\\n                            \\n                            \\n                            \\n\\n                            \\n\\n                            \\n                            <a class=\"article\" href=\"/ArticleRead.nhn?clubid=10174263&amp;page=1&amp;menuid=22&amp;boardtype=L&amp;articleid=223760&amp;referrerAllArticles=false\" onclick=\"clickcr(this, \\'gnr.title\\',\\'\\',\\'\\',event);\">\\n                                \\n                                \\n\\n                                \\n                                \\n\\n                                \\n                                \\n                                    \\n                                    GIN - Recollection(cover)\\n                                    \\n                                \\n                            </a>\\n\\n                            \\n                            \\n                            \\n\\n\\n                            \\n                            \\n                            \\n                            \\n                            \\n                            \\n                            \\n                            \\n                            \\n                            \\n\\n                            \\n                            \\n\\n                            \\n                            \\n                            \\n\\n                            \\n                            \\n\\n                            \\n                            \\n\\n                            \\n                        </div>\\n                    </div>\\n                </td>\\n                <td class=\"td_name\">\\n                    <div class=\"pers_nick_area\"><table role=\"presentation\" cellspacing=\"0\"><tbody><tr><td class=\"p-nick\"><a href=\"#\" class=\"m-tcol-c\" onclick=\"ui(event, \\'hdw1202\\',3,\\'RECHEV\\',\\'10174263\\',\\'\\', \\'false\\', \\'true\\', \\'fingerstyle\\', \\'false\\', \\'22\\'); return false;\">RECHEV</a><span class=\"mem-level\"><img src=\"https://cafe.pstatic.net/levelicon/1/1_130.gif\" width=\"11\" height=\"11\"></span></td></tr></tbody></table></div><script type=\"text/javascript\">wordBreak($(\"article_hdw1202_5\"));</script>\\n                </td>\\n                <td class=\"td_date\">2021.06.18.</td>\\n                <td class=\"td_view\">21</td>\\n                \\n                    <td class=\"td_likes\">0</td>\\n                \\n            </tr>\\n\\n            \\n            \\n        \\n            \\n            <tr>\\n                <td colspan=\"2\" class=\"td_article\">\\n                    \\n\\n                    \\n                        <div class=\"board-number\">', '223757</div></div>\\n                    \\n\\n                    \\n\\n                    <div class=\"board-list\">\\n                        <div class=\"inner_list\">\\n                            \\n                                \\n                                \\n                                    \\n                                \\n                            \\n\\n                            \\n                            \\n\\n                            \\n                            \\n\\n                            \\n                            \\n                            \\n\\n                            \\n\\n                            \\n                            <a class=\"article\" href=\"/ArticleRead.nhn?clubid=10174263&amp;page=1&amp;menuid=22&amp;boardtype=L&amp;articleid=223757&amp;referrerAllArticles=false\" onclick=\"clickcr(this, \\'gnr.title\\',\\'\\',\\'\\',event);\">\\n                                \\n                                \\n\\n                                \\n                                \\n\\n                                \\n                                \\n                                    \\n                                    Ed Gerhard - The Water is Wide / Cover\\n                                    \\n                                \\n                            </a>\\n\\n                            \\n                            \\n                            \\n\\n\\n                            \\n                            \\n                            \\n                            \\n                            \\n                            \\n                            \\n                            \\n                            \\n                            \\n\\n                            \\n                            \\n                                <a href=\"/ArticleRead.nhn?clubid=10174263&amp;page=1&amp;menuid=22&amp;boardtype=L&amp;articleid=223757&amp;referrerAllArticles=false&amp;commentFocus=true\" onclick=\"clickcr(this, \\'gnr.cmt\\',\\'\\',\\'\\',event);\" class=\"cmt\">\\n                                    [<em>2</em>]\\n                                </a>\\n                            \\n\\n                            \\n                            \\n                            \\n\\n                            \\n                            \\n\\n                            \\n                            \\n\\n                            \\n                        </div>\\n                    </div>\\n                </td>\\n                <td class=\"td_name\">\\n                    <div class=\"pers_nick_area\"><table role=\"presentation\" cellspacing=\"0\"><tbody><tr><td class=\"p-nick\"><a href=\"#\" class=\"m-tcol-c\" onclick=\"ui(event, \\'skymsl2\\',3,\\'성열형\\',\\'10174263\\',\\'\\', \\'false\\', \\'true\\', \\'fingerstyle\\', \\'false\\', \\'22\\'); return false;\">성열형</a><span class=\"mem-level\"><img src=\"https://cafe.pstatic.net/levelicon/1/1_120.gif\" width=\"11\" height=\"11\"></span></td></tr></tbody></table></div><script type=\"text/javascript\">wordBreak($(\"article_skymsl2_6\"));</script>\\n                </td>\\n                <td class=\"td_date\">2021.06.18.</td>\\n                <td class=\"td_view\">28</td>\\n                \\n                    <td class=\"td_likes\">1</td>\\n                \\n            </tr>\\n\\n            \\n            \\n        \\n            \\n            <tr>\\n                <td colspan=\"2\" class=\"td_article\">\\n                    \\n\\n                    \\n                        <div class=\"board-number\">', '223755</div></div>\\n                    \\n\\n                    \\n\\n                    <div class=\"board-list\">\\n                        <div class=\"inner_list\">\\n                            \\n                                \\n                                \\n                                    \\n                                \\n                            \\n\\n                            \\n                            \\n\\n                            \\n                            \\n\\n                            \\n                            \\n                            \\n\\n                            \\n\\n                            \\n                            <a class=\"article\" href=\"/ArticleRead.nhn?clubid=10174263&amp;page=1&amp;menuid=22&amp;boardtype=L&amp;articleid=223755&amp;referrerAllArticles=false\" onclick=\"clickcr(this, \\'gnr.title\\',\\'\\',\\'\\',event);\">\\n                                \\n                                \\n\\n                                \\n                                \\n\\n                                \\n                                \\n                                    \\n                                    비틀즈의 I Will 연주해 보았습니다.\\n                                    \\n                                \\n                            </a>\\n\\n                            \\n                            \\n                            \\n\\n\\n                            \\n                            \\n                            \\n                            \\n                            \\n                            \\n                            \\n                            \\n                            \\n                            \\n\\n                            \\n                            \\n\\n                            \\n                            \\n                            \\n\\n                            \\n                            \\n\\n                            \\n                            \\n\\n                            \\n                        </div>\\n                    </div>\\n                </td>\\n                <td class=\"td_name\">\\n                    <div class=\"pers_nick_area\"><table role=\"presentation\" cellspacing=\"0\"><tbody><tr><td class=\"p-nick\"><a href=\"#\" class=\"m-tcol-c\" onclick=\"ui(event, \\'gusdljoung\\',3,\\'제이그루브\\',\\'10174263\\',\\'\\', \\'false\\', \\'true\\', \\'fingerstyle\\', \\'false\\', \\'22\\'); return false;\">제이그루브</a><span class=\"mem-level\"><img src=\"https://cafe.pstatic.net/levelicon/1/1_130.gif\" width=\"11\" height=\"11\"></span></td></tr></tbody></table></div><script type=\"text/javascript\">wordBreak($(\"article_gusdljoung_7\"));</script>\\n                </td>\\n                <td class=\"td_date\">2021.06.18.</td>\\n                <td class=\"td_view\">19</td>\\n                \\n                    <td class=\"td_likes\">0</td>\\n                \\n            </tr>\\n\\n            \\n            \\n        \\n            \\n            <tr>\\n                <td colspan=\"2\" class=\"td_article\">\\n                    \\n\\n                    \\n                        <div class=\"board-number\">', '223753</div></div>\\n                    \\n\\n                    \\n\\n                    <div class=\"board-list\">\\n                        <div class=\"inner_list\">\\n                            \\n                                \\n                                \\n                                    \\n                                \\n                            \\n\\n                            \\n                            \\n\\n                            \\n                            \\n\\n                            \\n                            \\n                            \\n\\n                            \\n\\n                            \\n                            <a class=\"article\" href=\"/ArticleRead.nhn?clubid=10174263&amp;page=1&amp;menuid=22&amp;boardtype=L&amp;articleid=223753&amp;referrerAllArticles=false\" onclick=\"clickcr(this, \\'gnr.title\\',\\'\\',\\'\\',event);\">\\n                                \\n                                \\n\\n                                \\n                                \\n\\n                                \\n                                \\n                                    \\n                                    Tommy Emmanuel - Close to you 커버\\n                                    \\n                                \\n                            </a>\\n\\n                            \\n                            \\n                            \\n\\n\\n                            \\n                            \\n                            \\n                            \\n                            \\n                            \\n                            \\n                            \\n                            \\n                            \\n\\n                            \\n                            \\n\\n                            \\n                            \\n                            \\n\\n                            \\n                            \\n\\n                            \\n                            \\n\\n                            \\n                        </div>\\n                    </div>\\n                </td>\\n                <td class=\"td_name\">\\n                    <div class=\"pers_nick_area\"><table role=\"presentation\" cellspacing=\"0\"><tbody><tr><td class=\"p-nick\"><a href=\"#\" class=\"m-tcol-c\" onclick=\"ui(event, \\'heomi5530\\',3,\\'뚱치땅치\\',\\'10174263\\',\\'\\', \\'false\\', \\'true\\', \\'fingerstyle\\', \\'false\\', \\'22\\'); return false;\">뚱치땅치</a><span class=\"mem-level\"><img src=\"https://cafe.pstatic.net/levelicon/1/1_120.gif\" width=\"11\" height=\"11\"></span></td></tr></tbody></table></div><script type=\"text/javascript\">wordBreak($(\"article_heomi5530_8\"));</script>\\n                </td>\\n                <td class=\"td_date\">2021.06.18.</td>\\n                <td class=\"td_view\">41</td>\\n                \\n                    <td class=\"td_likes\">1</td>\\n                \\n            </tr>\\n\\n            \\n            \\n        \\n            \\n            <tr>\\n                <td colspan=\"2\" class=\"td_article\">\\n                    \\n\\n                    \\n                        <div class=\"board-number\">', '223751</div></div>\\n                    \\n\\n                    \\n\\n                    <div class=\"board-list\">\\n                        <div class=\"inner_list\">\\n                            \\n                                \\n                                \\n                                    \\n                                \\n                            \\n\\n                            \\n                            \\n\\n                            \\n                            \\n\\n                            \\n                            \\n                            \\n\\n                            \\n\\n                            \\n                            <a class=\"article\" href=\"/ArticleRead.nhn?clubid=10174263&amp;page=1&amp;menuid=22&amp;boardtype=L&amp;articleid=223751&amp;referrerAllArticles=false\" onclick=\"clickcr(this, \\'gnr.title\\',\\'\\',\\'\\',event);\">\\n                                \\n                                \\n\\n                                \\n                                \\n\\n                                \\n                                \\n                                    \\n                                    BTS(방탄소년단) - Butter 쳐봤습니다!!\\n                                    \\n                                \\n                            </a>\\n\\n                            \\n                            \\n                            \\n\\n\\n                            \\n                            \\n                            \\n                            \\n                            \\n                            \\n                            \\n                            \\n                            \\n                            \\n\\n                            \\n                            \\n                                <a href=\"/ArticleRead.nhn?clubid=10174263&amp;page=1&amp;menuid=22&amp;boardtype=L&amp;articleid=223751&amp;referrerAllArticles=false&amp;commentFocus=true\" onclick=\"clickcr(this, \\'gnr.cmt\\',\\'\\',\\'\\',event);\" class=\"cmt\">\\n                                    [<em>2</em>]\\n                                </a>\\n                            \\n\\n                            \\n                            \\n                            \\n\\n                            \\n                            \\n\\n                            \\n                            \\n\\n                            \\n                        </div>\\n                    </div>\\n                </td>\\n                <td class=\"td_name\">\\n                    <div class=\"pers_nick_area\"><table role=\"presentation\" cellspacing=\"0\"><tbody><tr><td class=\"p-nick\"><a href=\"#\" class=\"m-tcol-c\" onclick=\"ui(event, \\'ltw201\\',3,\\'노력감\\',\\'10174263\\',\\'\\', \\'false\\', \\'true\\', \\'fingerstyle\\', \\'false\\', \\'22\\'); return false;\">노력감</a><span class=\"mem-level\"><img src=\"https://cafe.pstatic.net/levelicon/1/1_110.gif\" width=\"11\" height=\"11\"></span></td></tr></tbody></table></div><script type=\"text/javascript\">wordBreak($(\"article_ltw201_9\"));</script>\\n                </td>\\n                <td class=\"td_date\">2021.06.18.</td>\\n                <td class=\"td_view\">86</td>\\n                \\n                    <td class=\"td_likes\">3</td>\\n                \\n            </tr>\\n\\n            \\n            \\n        \\n            \\n            <tr>\\n                <td colspan=\"2\" class=\"td_article\">\\n                    \\n\\n                    \\n                        <div class=\"board-number\">', '223743</div></div>\\n                    \\n\\n                    \\n\\n                    <div class=\"board-list\">\\n                        <div class=\"inner_list\">\\n                            \\n                                \\n                                \\n                                    \\n                                \\n                            \\n\\n                            \\n                            \\n\\n                            \\n                            \\n\\n                            \\n                            \\n                            \\n\\n                            \\n\\n                            \\n                            <a class=\"article\" href=\"/ArticleRead.nhn?clubid=10174263&amp;page=1&amp;menuid=22&amp;boardtype=L&amp;articleid=223743&amp;referrerAllArticles=false\" onclick=\"clickcr(this, \\'gnr.title\\',\\'\\',\\'\\',event);\">\\n                                \\n                                \\n\\n                                \\n                                \\n\\n                                \\n                                \\n                                    \\n                                    [뽕용 Live] Kotaro Oshio - Twilight (Live stage / cover by 기타치는뽕용)\\n                                    \\n                                \\n                            </a>\\n\\n                            \\n                            \\n                            \\n\\n\\n                            \\n                            \\n                            \\n                            \\n                            \\n                            \\n                            \\n                            \\n                            \\n                            \\n\\n                            \\n                            \\n\\n                            \\n                            \\n                            \\n\\n                            \\n                            \\n\\n                            \\n                            \\n\\n                            \\n                        </div>\\n                    </div>\\n                </td>\\n                <td class=\"td_name\">\\n                    <div class=\"pers_nick_area\"><table role=\"presentation\" cellspacing=\"0\"><tbody><tr><td class=\"p-nick\"><a href=\"#\" class=\"m-tcol-c\" onclick=\"ui(event, \\'jiyong970410\\',3,\\'기타치는뽕용\\',\\'10174263\\',\\'\\', \\'false\\', \\'true\\', \\'fingerstyle\\', \\'false\\', \\'22\\'); return false;\">기타치는뽕용</a><span class=\"mem-level\"><img src=\"https://cafe.pstatic.net/levelicon/1/1_130.gif\" width=\"11\" height=\"11\"></span></td></tr></tbody></table></div><script type=\"text/javascript\">wordBreak($(\"article_jiyong970410_10\"));</script>\\n                </td>\\n                <td class=\"td_date\">2021.06.17.</td>\\n                <td class=\"td_view\">68</td>\\n                \\n                    <td class=\"td_likes\">0</td>\\n                \\n            </tr>\\n\\n            \\n            \\n        \\n            \\n            <tr>\\n                <td colspan=\"2\" class=\"td_article\">\\n                    \\n\\n                    \\n                        <div class=\"board-number\">', '223738</div></div>\\n                    \\n\\n                    \\n\\n                    <div class=\"board-list\">\\n                        <div class=\"inner_list\">\\n                            \\n                                \\n                                \\n                                    \\n                                \\n                            \\n\\n                            \\n                            \\n\\n                            \\n                            \\n\\n                            \\n                            \\n                            \\n\\n                            \\n\\n                            \\n                            <a class=\"article\" href=\"/ArticleRead.nhn?clubid=10174263&amp;page=1&amp;menuid=22&amp;boardtype=L&amp;articleid=223738&amp;referrerAllArticles=false\" onclick=\"clickcr(this, \\'gnr.title\\',\\'\\',\\'\\',event);\">\\n                                \\n                                \\n\\n                                \\n                                \\n                                <span class=\"head\">\\n                                    [편곡]\\n                                </span>\\n                                \\n\\n                                \\n                                \\n                                    \\n                                    Creep 편곡\\n                                    \\n                                \\n                            </a>\\n\\n                            \\n                            \\n                            \\n\\n\\n                            \\n                            \\n                            \\n                            \\n                            \\n                            \\n                            \\n                            \\n                            \\n                            \\n\\n                            \\n                            \\n\\n                            \\n                            \\n                            \\n\\n                            \\n                            \\n\\n                            \\n                            \\n\\n                            \\n                        </div>\\n                    </div>\\n                </td>\\n                <td class=\"td_name\">\\n                    <div class=\"pers_nick_area\"><table role=\"presentation\" cellspacing=\"0\"><tbody><tr><td class=\"p-nick\"><a href=\"#\" class=\"m-tcol-c\" onclick=\"ui(event, \\'lsh8478\\',3,\\'이스코\\',\\'10174263\\',\\'\\', \\'false\\', \\'true\\', \\'fingerstyle\\', \\'false\\', \\'22\\'); return false;\">이스코</a><span class=\"mem-level\"><img src=\"https://cafe.pstatic.net/levelicon/1/1_110.gif\" width=\"11\" height=\"11\"></span></td></tr></tbody></table></div><script type=\"text/javascript\">wordBreak($(\"article_lsh8478_11\"));</script>\\n                </td>\\n                <td class=\"td_date\">2021.06.16.</td>\\n                <td class=\"td_view\">86</td>\\n                \\n                    <td class=\"td_likes\">3</td>\\n                \\n            </tr>\\n\\n            \\n            \\n        \\n            \\n            <tr>\\n                <td colspan=\"2\" class=\"td_article\">\\n                    \\n\\n                    \\n                        <div class=\"board-number\">', '223736</div></div>\\n                    \\n\\n                    \\n\\n                    <div class=\"board-list\">\\n                        <div class=\"inner_list\">\\n                            \\n                                \\n                                \\n                                    \\n                                \\n                            \\n\\n                            \\n                            \\n\\n                            \\n                            \\n\\n                            \\n                            \\n                            \\n\\n                            \\n\\n                            \\n                            <a class=\"article\" href=\"/ArticleRead.nhn?clubid=10174263&amp;page=1&amp;menuid=22&amp;boardtype=L&amp;articleid=223736&amp;referrerAllArticles=false\" onclick=\"clickcr(this, \\'gnr.title\\',\\'\\',\\'\\',event);\">\\n                                \\n                                \\n\\n                                \\n                                \\n\\n                                \\n                                \\n                                    \\n                                    양희은 아이유 - 가을아침 기타커버입니다!\\n                                    \\n                                \\n                            </a>\\n\\n                            \\n                            \\n                            \\n\\n\\n                            \\n                            \\n                            \\n                            \\n                            \\n                            \\n                            \\n                            \\n                            \\n                            \\n\\n                            \\n                            \\n\\n                            \\n                            \\n                            \\n\\n                            \\n                            \\n\\n                            \\n                            \\n\\n                            \\n                        </div>\\n                    </div>\\n                </td>\\n                <td class=\"td_name\">\\n                    <div class=\"pers_nick_area\"><table role=\"presentation\" cellspacing=\"0\"><tbody><tr><td class=\"p-nick\"><a href=\"#\" class=\"m-tcol-c\" onclick=\"ui(event, \\'ehkchl\\',3,\\'찬튜\\',\\'10174263\\',\\'\\', \\'false\\', \\'true\\', \\'fingerstyle\\', \\'false\\', \\'22\\'); return false;\">찬튜</a><span class=\"mem-level\"><img src=\"https://cafe.pstatic.net/levelicon/1/1_110.gif\" width=\"11\" height=\"11\"></span></td></tr></tbody></table></div><script type=\"text/javascript\">wordBreak($(\"article_ehkchl_12\"));</script>\\n                </td>\\n                <td class=\"td_date\">2021.06.16.</td>\\n                <td class=\"td_view\">71</td>\\n                \\n                    <td class=\"td_likes\">0</td>\\n                \\n            </tr>\\n\\n            \\n            \\n        \\n            \\n            <tr>\\n                <td colspan=\"2\" class=\"td_article\">\\n                    \\n\\n                    \\n                        <div class=\"board-number\">', '223728</div></div>\\n                    \\n\\n                    \\n\\n                    <div class=\"board-list\">\\n                        <div class=\"inner_list\">\\n                            \\n                                \\n                                \\n                                    \\n                                \\n                            \\n\\n                            \\n                            \\n\\n                            \\n                            \\n\\n                            \\n                            \\n                            \\n\\n                            \\n\\n                            \\n                            <a class=\"article\" href=\"/ArticleRead.nhn?clubid=10174263&amp;page=1&amp;menuid=22&amp;boardtype=L&amp;articleid=223728&amp;referrerAllArticles=false\" onclick=\"clickcr(this, \\'gnr.title\\',\\'\\',\\'\\',event);\">\\n                                \\n                                \\n\\n                                \\n                                \\n                                <span class=\"head\">\\n                                    [녹화]\\n                                </span>\\n                                \\n\\n                                \\n                                \\n                                    \\n                                    쾌지나칭칭나네 편곡\\n                                    \\n                                \\n                            </a>\\n\\n                            \\n                            \\n                            \\n\\n\\n                            \\n                            \\n                            \\n                            \\n                            \\n                            \\n                            \\n                            \\n                            \\n                            \\n\\n                            \\n                            \\n\\n                            \\n                            \\n                            \\n\\n                            \\n                            \\n\\n                            \\n                            \\n\\n                            \\n                        </div>\\n                    </div>\\n                </td>\\n                <td class=\"td_name\">\\n                    <div class=\"pers_nick_area\"><table role=\"presentation\" cellspacing=\"0\"><tbody><tr><td class=\"p-nick\"><a href=\"#\" class=\"m-tcol-c\" onclick=\"ui(event, \\'ain4321\\',3,\\'QNP\\',\\'10174263\\',\\'\\', \\'false\\', \\'true\\', \\'fingerstyle\\', \\'false\\', \\'22\\'); return false;\">QNP</a><span class=\"mem-level\"><img src=\"https://cafe.pstatic.net/levelicon/1/1_130.gif\" width=\"11\" height=\"11\"></span></td></tr></tbody></table></div><script type=\"text/javascript\">wordBreak($(\"article_ain4321_13\"));</script>\\n                </td>\\n                <td class=\"td_date\">2021.06.15.</td>\\n                <td class=\"td_view\">43</td>\\n                \\n                    <td class=\"td_likes\">1</td>\\n                \\n            </tr>\\n\\n            \\n            \\n        \\n            \\n            <tr>\\n                <td colspan=\"2\" class=\"td_article\">\\n                    \\n\\n                    \\n                        <div class=\"board-number\">', '223715</div></div>\\n                    \\n\\n                    \\n\\n                    <div class=\"board-list\">\\n                        <div class=\"inner_list\">\\n                            \\n                                \\n                                \\n                                    \\n                                \\n                            \\n\\n                            \\n                            \\n\\n                            \\n                            \\n\\n                            \\n                            \\n                            \\n\\n                            \\n\\n                            \\n                            <a class=\"article\" href=\"/ArticleRead.nhn?clubid=10174263&amp;page=1&amp;menuid=22&amp;boardtype=L&amp;articleid=223715&amp;referrerAllArticles=false\" onclick=\"clickcr(this, \\'gnr.title\\',\\'\\',\\'\\',event);\">\\n                                \\n                                \\n\\n                                \\n                                \\n                                <span class=\"head\">\\n                                    [녹화]\\n                                </span>\\n                                \\n\\n                                \\n                                \\n                                    \\n                                    DEPAPEPE(데파페페, デパペペ) - 두 사람의 사진(Photograph of two people)\\n                                    \\n                                \\n                            </a>\\n\\n                            \\n                            \\n                            \\n\\n\\n                            \\n                            \\n                            \\n                            \\n                            \\n                            \\n                            \\n                            \\n                            \\n                            \\n\\n                            \\n                            \\n                                <a href=\"/ArticleRead.nhn?clubid=10174263&amp;page=1&amp;menuid=22&amp;boardtype=L&amp;articleid=223715&amp;referrerAllArticles=false&amp;commentFocus=true\" onclick=\"clickcr(this, \\'gnr.cmt\\',\\'\\',\\'\\',event);\" class=\"cmt\">\\n                                    [<em>8</em>]\\n                                </a>\\n                            \\n\\n                            \\n                            \\n                            \\n\\n                            \\n                            \\n\\n                            \\n                            \\n\\n                            \\n                        </div>\\n                    </div>\\n                </td>\\n                <td class=\"td_name\">\\n                    <div class=\"pers_nick_area\"><table role=\"presentation\" cellspacing=\"0\"><tbody><tr><td class=\"p-nick\"><a href=\"#\" class=\"m-tcol-c\" onclick=\"ui(event, \\'miracledd\\',3,\\'조각나암\\',\\'10174263\\',\\'\\', \\'false\\', \\'true\\', \\'fingerstyle\\', \\'false\\', \\'22\\'); return false;\">조각나암</a><span class=\"mem-level\"><img src=\"https://cafe.pstatic.net/levelicon/1/1_150.gif\" width=\"11\" height=\"11\"></span></td></tr></tbody></table></div><script type=\"text/javascript\">wordBreak($(\"article_miracledd_14\"));</script>\\n                </td>\\n                <td class=\"td_date\">2021.06.14.</td>\\n                <td class=\"td_view\">121</td>\\n                \\n                    <td class=\"td_likes\">3</td>\\n                \\n            </tr>\\n\\n            \\n            \\n        \\n        </tbody>\\n    </table>\\n</div>\\n\\n\\n<div class=\"post_btns\">\\n    \\n        \\n        \\n            \\n            \\n\\n            \\n            <div class=\"fr\">\\n                \\n                \\n\\n                \\n\\n                \\n\\n                \\n            </div>\\n        \\n    \\n</div>\\n\\n\\n\\n<form name=\"frmDelete\" method=\"post\" action=\"/ArticleDelete.nhn\" style=\"display:none\">\\n    <input type=\"hidden\" name=\"clubid\" value=\"10174263\">\\n    <input type=\"hidden\" name=\"menuid\" value=\"22\">\\n    <input type=\"hidden\" name=\"boardtype\" value=\"L\">\\n    <input type=\"hidden\" name=\"page\" value=\"1\">\\n    <input type=\"hidden\" name=\"articleid\">\\n    <input type=\"hidden\" name=\"userDisplay\" value=\"15\">\\n    \\n      \\n    \\n</form>\\n\\n\\n\\n\\n\\n\\n\\n\\n\\n<script type=\"text/javascript\" src=\"/static/js/mycafe/common/bastat/ScriptBAStatLog-1585128038000-108816.js\" charset=\"UTF-8\"></script>\\n\\n\\n<script type=\"text/javascript\">\\n    var LOG_KEY = \"CAFE_UUID\";\\n\\n    function uuidv4() {\\n\\t\\tvar uuid = \"\", i, random;\\n\\t\\tfor (i = 0; i < 32; i++) {\\n\\t\\trandom = Math.random() * 16 | 0;\\n\\t\\tif (i == 8 || i == 12 || i == 16 || i == 20) {\\n\\t\\t  uuid += \"-\"\\n\\t\\t}\\n\\t\\tuuid += (i == 12 ? 4 : (i == 16 ? (random & 3 | 8) : random)).toString(16);\\n\\t\\t}\\n\\t\\treturn uuid;\\n    }\\n\\n    function getDeviceId() {\\n    \\ttry {\\n\\t\\t  if (!localStorage.getItem(LOG_KEY)) {\\n\\t\\t\\tlocalStorage.setItem(LOG_KEY, uuidv4());\\n\\t\\t  }\\n\\n\\t\\t  return localStorage.getItem(LOG_KEY);\\n\\t\\t} catch (e) {\\n\\t\\t  // silent\\n\\t\\t  console.error(\"Can\\'t access localStorage\");\\n\\t\\t  return \"__UNKNOWN__\";\\n\\t\\t}\\n    }\\n\\n    function getReferrerForBA() {\\n        if (typeof(window.top.articleReadBalog) === \"undefined\") {\\n            window.top.articleReadBalog = {\\n                useIframeReferrer: false\\n            };\\n        }\\n        if (!window.top.articleReadBalog.useIframeReferrer && !!window.top.document.referrer) {\\n            window.top.articleReadBalog.useIframeReferrer = true;\\n            return window.top.document.referrer;\\n        }\\n        return document.referrer;\\n    }\\n\\n    var oBAStatSender = new cafe.BAStatSender({\\n        oClient : {\\n            service_id: \\'cafe\\',\\n            user_key: \\'__UNKNOWN__\\',\\n            os_name: \\'__UNKNOWN__\\',\\n            os_ver: \\'-1\\',\\n            app_ver: \\'-1\\',\\n            country: \\'XX\\',\\n            language: \\'xx\\',\\n            device_id: getDeviceId(),\\n            device_model: \\'__UNKNOWN__\\',\\n            product: \\'web\\'\\n        },\\n        sEnv: \\'real\\'\\n    });\\n</script>\\n\\n\\n\\n\\n\\n<script type=\"text/javascript\">\\n    oBAStatSender.send([\\n        {\\n            eventType: cafe.BAStatEventType.ARTICLE_LIST,\\n            extra: {\\n                cafe_id: \\'10174263\\',\\n                menu_id: \\'22\\',\\n                article_type: \\'NORMAL\\'\\n            }\\n        }\\n    ]);\\n</script>\\n\\n<script type=\"text/javascript\">\\n    function goMenu(nMenuId)\\t{\\n        setTimeout(function () {\\n            parent.oMenuMoveUpdater.update(nMenuId);\\n        }, 1);\\n    }\\n</script>\\n\\n\\n\\n<div class=\"prev-next\">\\n\\n\\t\\n\\t\\n\\t\\t<span class=\"blind\">페이지 네비게이션</span>\\n\\n    <a href=\"/ArticleList.nhn?search.clubid=10174263&amp;search.menuid=22&amp;search.boardtype=L&amp;search.totalCount=151&amp;search.page=1\" class=\"on\">1</a>\\n    <a href=\"/ArticleList.nhn?search.clubid=10174263&amp;search.menuid=22&amp;search.boardtype=L&amp;search.totalCount=151&amp;search.page=2\">2</a>\\n    <a href=\"/ArticleList.nhn?search.clubid=10174263&amp;search.menuid=22&amp;search.boardtype=L&amp;search.totalCount=151&amp;search.page=3\">3</a>\\n    <a href=\"/ArticleList.nhn?search.clubid=10174263&amp;search.menuid=22&amp;search.boardtype=L&amp;search.totalCount=151&amp;search.page=4\">4</a>\\n    <a href=\"/ArticleList.nhn?search.clubid=10174263&amp;search.menuid=22&amp;search.boardtype=L&amp;search.totalCount=151&amp;search.page=5\">5</a>\\n    <a href=\"/ArticleList.nhn?search.clubid=10174263&amp;search.menuid=22&amp;search.boardtype=L&amp;search.totalCount=151&amp;search.page=6\">6</a>\\n    <a href=\"/ArticleList.nhn?search.clubid=10174263&amp;search.menuid=22&amp;search.boardtype=L&amp;search.totalCount=151&amp;search.page=7\">7</a>\\n    <a href=\"/ArticleList.nhn?search.clubid=10174263&amp;search.menuid=22&amp;search.boardtype=L&amp;search.totalCount=151&amp;search.page=8\">8</a>\\n    <a href=\"/ArticleList.nhn?search.clubid=10174263&amp;search.menuid=22&amp;search.boardtype=L&amp;search.totalCount=151&amp;search.page=9\">9</a>\\n    <a href=\"/ArticleList.nhn?search.clubid=10174263&amp;search.menuid=22&amp;search.boardtype=L&amp;search.totalCount=151&amp;search.page=10\">10</a>\\n\\n<a href=\"/ArticleList.nhn?search.clubid=10174263&amp;search.menuid=22&amp;search.boardtype=L&amp;search.totalCount=151&amp;search.page=11\" class=\"pgR\"><span class=\"m-tcol-c\">다음</span></a>\\n\\n\\t\\n\\n</div>\\n\\n<iframe name=\"wordchk\" id=\"wordchk\" width=\"0\" height=\"0\" frameborder=\"0\" style=\"display:none\" title=\"빈프레임\"></iframe>\\n\\n    \\n\\n\\n\\n\\n\\n<div class=\"list-search\">\\n    <form name=\"frmSearch\" action=\"\" onsubmit=\"return false;\">\\n        \\n        \\n        \\n\\n        \\n        <input type=\"hidden\" name=\"searchdate\" id=\"searchdate\" value=\"all\">\\n        <div class=\"select_component\" style=\"width: 144px\" id=\"divSearchDate\">\\n            \\n                \\n                \\n                \\n                \\n                \\n                \\n                    \\n                \\n                \\n            \\n            <a href=\"#\" onclick=\"nhn.search.toggleBoxLayer(\\'divSearchDate\\');return false;\" id=\"currentSearchDate\" class=\"select_box\">전체기간</a>\\n            <ul class=\"select_list\" style=\"width:291px;max-height:295px;\">\\n                <li><a href=\"#\" onclick=\"applySearchOption(\\'searchdate\\', \\'all\\', \\'currentSearchDate\\', this);nhn.search.toggleBoxLayer(\\'divSearchDate\\');return false;\">전체기간</a></li>\\n                <li><a href=\"#\" onclick=\"applySearchOption(\\'searchdate\\', \\'1d\\', \\'currentSearchDate\\', this);nhn.search.toggleBoxLayer(\\'divSearchDate\\');return false;\">1일</a></li>\\n                <li><a href=\"#\" onclick=\"applySearchOption(\\'searchdate\\', \\'1w\\', \\'currentSearchDate\\', this);nhn.search.toggleBoxLayer(\\'divSearchDate\\');return false;\">1주</a></li>\\n                <li><a href=\"#\" onclick=\"applySearchOption(\\'searchdate\\', \\'1m\\', \\'currentSearchDate\\', this);nhn.search.toggleBoxLayer(\\'divSearchDate\\');return false;\">1개월</a></li>\\n                <li><a href=\"#\" onclick=\"applySearchOption(\\'searchdate\\', \\'6m\\', \\'currentSearchDate\\', this);nhn.search.toggleBoxLayer(\\'divSearchDate\\');return false;\">6개월</a></li>\\n                <li><a href=\"#\" onclick=\"applySearchOption(\\'searchdate\\', \\'1y\\', \\'currentSearchDate\\', this);nhn.search.toggleBoxLayer(\\'divSearchDate\\');return false;\">1년</a></li>\\n                <li id=\"date_input_area\">\\n                    <div id=\"date_enter\" class=\"date_enter\">\\n                        <span id=\"explain_period\" class=\"tit\">기간 입력</span>\\n\\n                        \\n                            \\n                            \\n                                <input type=\"text\" id=\"input_1\" maxlength=\"10\" value=\"2017-12-26\">\\n                                <input type=\"text\" id=\"input_2\" maxlength=\"10\" value=\"2018-01-12\">\\n                            \\n                        \\n                        <button id=\"btn_set\" class=\"btn_set\">설정</button>\\n                    </div>\\n                </li>\\n            </ul>\\n        </div>\\n\\n        <input type=\"hidden\" name=\"searchBy\" id=\"searchBy\" value=\"0\">\\n        <div class=\"select_component\" style=\"width: 144px\" id=\"divSearchBy\">\\n            \\n            \\n                \\n                    \\n                    \\n                    \\n                    \\n                    \\n                        \\n                    \\n                \\n                <a href=\"#\" onclick=\"nhn.search.toggleBoxLayer(\\'divSearchBy\\');return false;\" id=\"currentSearchBy\" class=\"select_box\">제목만</a>\\n                <ul class=\"select_list\">\\n                    \\n                    <li><a href=\"#\" onclick=\"applySearchOption(\\'searchBy\\', \\'1\\', \\'currentSearchBy\\', this);nhn.search.toggleBoxLayer(\\'divSearchBy\\');return false;\">제목만</a></li>\\n                    <li><a href=\"#\" onclick=\"applySearchOption(\\'searchBy\\', \\'3\\', \\'currentSearchBy\\', this);nhn.search.toggleBoxLayer(\\'divSearchBy\\');return false;\">글작성자</a></li>\\n                    <li><a href=\"#\" onclick=\"applySearchOption(\\'searchBy\\', \\'4\\', \\'currentSearchBy\\', this);nhn.search.toggleBoxLayer(\\'divSearchBy\\');return false;\">댓글내용</a></li>\\n                    <li><a href=\"#\" onclick=\"applySearchOption(\\'searchBy\\', \\'5\\', \\'currentSearchBy\\', this);nhn.search.toggleBoxLayer(\\'divSearchBy\\');return false;\">댓글작성자</a></li>\\n                </ul>\\n            \\n        </div>\\n\\n        <div class=\"input_search_area\">\\n            <div class=\"input_component\" style=\"width: 200px\">\\n                <input type=\"text\" id=\"query\" name=\"query\" placeholder=\"검색어를 입력해주세요\" value=\"\" onkeydown=\"if (event.keyCode == 13) {nhn.search.goSearch(this,false);clickcr(this, \\'sch.bsearch\\',\\'\\',\\'\\',event)}\">\\n            </div>\\n            <button onclick=\"nhn.search.goSearch(this,false);clickcr(this, \\'sch.bsearch\\',\\'\\',\\'\\',event); return false;\" class=\"btn-search-green\">검색</button>\\n        </div>\\n    </form>\\n</div>\\n\\n\\n<ul id=\"oLayer\"></ul>\\n\\n\\n\\t\\n\\t\\n\\t\\t\\n\\t\\n\\n\\n\\n\\n\\n\\n\\n\\n<span id=\"_noticeColor\" class=\"m-tcol-p\" style=\"display: none\">font</span>\\n<div class=\"power_ad\">\\n    <span class=\"border top\"></span>\\n    <span class=\"border left\"></span>\\n    <span class=\"border right\"></span>\\n    <span class=\"border bottom\"></span>\\n\\n\\n\\n\\n\\n\\n\\n<script type=\"text/javascript\">\\n    var CALP_VALUE = {\\n        \"ArticleRead\": \"end\",\\n        \"ArticleList\": \"list\",\\n        \"ArticleSearchList\": \"list\"\\n    };\\n\\n    var pageFrom = \"ArticleList\";\\n    var calpValue = CALP_VALUE[pageFrom];\\n    var adPlaceReport = \"CAFE_ARTICLE_LIST\";\\n\\n\\n    \\n    var cafeId = \"10174263\";\\n    var cafeUrl = \"fingerstyle\";\\n    var advertKeyword = \"\";\\n    var articleGdId = \"\";\\n    var articleId = \"\";\\n    var menuId = \"\";\\n    var title = \"\";\\n    var skinType = \"WIDE_SKIN\";\\n    var skinTone = \"LIGHT\";\\n    // old skin\\n    var oldSkinNoticeFontColor = Element.getCSS($(\\'_noticeColor\\'), \"color\");\\n\\n    var ADVERT_FONT_COLOR = {\\n        \\'WIDE_SKIN\\' : {\\n            \\'LIGHT\\' : {\\n                \\'DEFAULT_COLOR\\' : \"rgb(34, 34, 34)\", // #222222\\n                \\'HIGHTLIGHT_COLOR\\' : \"rgb(7, 26, 200)\" // #071AC8\\n            },\\n            \\'DARK\\' : {\\n                \\'DEFAULT_COLOR\\' : \"rgb(177, 177, 177)\", // #B1B1B1\\n                \\'HIGHTLIGHT_COLOR\\' : \"rgb(255, 255, 255)\" // #FFFFFF\\n            }\\n        },\\n        \\'OLD_SKIN\\' : {\\n            \\'LIGHT\\' : {\\n                \\'DEFAULT_COLOR\\' : \"rgb(34, 34, 34)\", // #222222\\n                \\'HIGHTLIGHT_COLOR\\' : oldSkinNoticeFontColor\\n            },\\n            \\'DARK\\' : {\\n                \\'DEFAULT_COLOR\\' : \"rgb(177, 177, 177)\", // #B1B1B1\\n                \\'HIGHTLIGHT_COLOR\\' : oldSkinNoticeFontColor\\n            }\\n        }\\n    };\\n\\n    //generate uuid\\n    function uuidv4() {\\n        var uuid = \"\", i, random;\\n        for (i = 0; i < 32; i++) {\\n            random = Math.random() * 16 | 0;\\n            if (i == 8 || i == 12 || i == 16 || i == 20) {\\n                uuid += \"-\"\\n            }\\n            uuid += (i == 12 ? 4 : (i == 16 ? (random & 3 | 8) : random)).toString(16);\\n        }\\n        return uuid;\\n    }\\n\\n    var deviceId = getDeviceId();\\n    var requestId = uuidv4();\\n    var spwp = spwp || {};\\n    spwp.cmd = spwp.cmd || [];\\n    spwp.cmd.push(function () {\\n        spwp.setConfig({\\n            enablePersistAd: false\\n        });\\n\\n        if (pageFrom === \"ArticleList\") {\\n            menuId = \"22\";\\n            title = \"Ed Gerhard - The Water is Wide / Cover\";\\n        } else if (pageFrom === \"ArticleSearchList\") {\\n            menuId = \"22\";\\n            advertKeyword = \"null\";\\n            title = \"\";\\n        } else if (pageFrom === \"ArticleRead\") {\\n            title = \"\";\\n            articleGdId = \"\";\\n            articleId = \"\";\\n            menuId = \"\";\\n            advertKeyword = \"\";\\n        }\\n\\n        var fontColorType = \"\";\\n        if (skinType === \"\" || skinTone === \"\") {\\n            fontColorType = ADVERT_FONT_COLOR[\\'WIDE_SKIN\\'][\\'LIGHT\\'];\\n        } else {\\n            fontColorType = ADVERT_FONT_COLOR[skinType][skinTone];\\n        }\\n\\n        var adUnits = [{\\n            unitId: \"pcweb_cafe\",\\n            divId: \"powerAd-div\",\\n\\n            extraOption: {\\n                calp: calpValue,\\n                mediaParams: {\\n                    styleDefault: fontColorType.DEFAULT_COLOR,\\n                    styleHighlight: fontColorType.HIGHTLIGHT_COLOR,\\n                    gdid: articleGdId,\\n                    pk: advertKeyword,\\n                    cas: cafeUrl,\\n                    cid: cafeId,\\n                    boardId: menuId,\\n                    pid: articleId,\\n                    mediaRequestId: requestId,\\n                    title: title\\n                }\\n            }\\n        }];\\n\\n        var eventList = {};\\n        eventList[spwp.GfpAdEvent.Type.AD_LOAD] = function (adEvent) {\\n            oGroupSSPAdvertReporter.report(oGroupSSPAdvertReporter.REQUEST_PARAM.REPORT_TYPE.ACK, spwp.GroupSSP);\\n        };\\n\\n        eventList[spwp.GfpAdErrorEvent.Type.AD_LOAD_FAILED] = function (adErrorEvent) {\\n            oGroupSSPAdvertReporter.report(oGroupSSPAdvertReporter.REQUEST_PARAM.REPORT_TYPE.NO_FILL, spwp.GroupSSP);\\n        };\\n\\n        eventList[spwp.GfpAdEvent.Type.AD_IMPRESSION] = function (adEvent) {\\n            oGroupSSPAdvertReporter.report(oGroupSSPAdvertReporter.REQUEST_PARAM.REPORT_TYPE.IMP, spwp.GroupSSP);\\n            if (pageFrom === \"ArticleRead\") {\\n                try {\\n                    parent.resizeIframe(\\'cafe_main\\');\\n                } catch (x) {}\\n            }\\n        };\\n\\n        eventList[spwp.GfpAdEvent.Type.AD_CLICK] = function (adEvent) {\\n            oGroupSSPAdvertReporter.report(oGroupSSPAdvertReporter.REQUEST_PARAM.REPORT_TYPE.CLICK, spwp.GroupSSP);\\n        };\\n\\n        /* SSP sdk call */\\n        spwp.addAdUnits(adUnits);\\n        spwp.setAdListener({eventList: eventList});\\n        spwp.requestAds({\\n            adUnitIds: [\"pcweb_cafe\"]\\n        });\\n    });\\n\\n    var initSSpAd = function () {\\n        var daGroupSSPUrl = \"https://ipada.cafe.naver.com\";\\n        var daGroupSSPRequestParameter = {\\n            serviceId: \\'cafe\\',\\n            platform: \"PC_WEB\",\\n            creativeType: oGroupSSPAdvertFinder.REQUEST_PARAM.CREATIVE_TYPE.SA,\\n            adPlacement: adPlaceReport,\\n            requestCount: 1,\\n            userKey: \"\",\\n            deviceId: deviceId,\\n            requestId: requestId,\\n            language: navigator.language,\\n            os: oGroupSSPAdvertFinder.os(),\\n            cafeId: cafeId,\\n            postId: \"\"\\n        };\\n\\n        oGroupSSPAdvertFinder.findWithDA(daGroupSSPUrl, daGroupSSPRequestParameter, \"\", spwp, null);\\n    };\\n\\n    if (window.addEventListener) {\\n        window.addEventListener(\"load\", initSSpAd, false);\\n    } else if (window.attachEvent) {\\n        window.attachEvent(\"onload\", initSSpAd);\\n    } else {\\n        window.onload = initSSpAd;\\n    }\\n</script>\\n<div id=\"powerAd-div\"><div style=\"width: 100%; height: auto; margin: 0px auto;\"><iframe id=\"powerAd-div_tgtLREC\" frameborder=\"no\" scrolling=\"no\" name=\"\" style=\"width: 100%; height: 339px; visibility: inherit; display: block; border: 0px; vertical-align: bottom;\"></iframe></div></div>\\n</div>\\n\\n\\n\\n\\n<script type=\"text/javascript\" src=\"/static/js/mycafe/common/groupssp/ScriptGroupSSPAdvert-1617013670000-12349.js\" charset=\"EUC-KR\"></script>\\n\\n\\n<script type=\"text/javascript\">\\nvar oGroupSSPAdvertFinder = new cafe.GroupSSP.Advert.Finder();\\nvar oGroupSSPAdvertReporter = new cafe.GroupSSP.Advert.Reporter();\\n</script>\\n\\n\\n\\n<div id=\"restrict_layer\" class=\"restrict\" style=\"left:200px; top:300px; display:none;\">\\n\\t<p><strong>접근 제한중</strong>인 게시판의 게시글입니다.</p>\\n\\t<span class=\"shadow shadow1\"></span><span class=\"shadow shadow2\"></span><span class=\"shadow shadow3\"></span>\\n</div>\\n\\n</div> \\n</div> \\n\\n\\n\\n<div class=\"worn_layer_popup\" style=\"width:360px; top:350px; left:10px; display:none;\" id=\"MessageBoxLayer\">\\n\\t<!-- PNG Gradation -->\\n\\t<div class=\"shadow1\">\\n\\t\\t<div class=\"shadow1_side\">\\n\\t\\t\\t<div class=\"shadow2\">\\n\\t\\t\\t\\t<div class=\"shadow2_side\">\\n\\t\\t\\t\\t\\t<div class=\"border_type\">\\n\\t\\t\\t\\t\\t\\t<!-- 콘텐트 -->\\n\\t\\t\\t\\t\\t\\t<div class=\"content\">\\n\\t\\t\\t\\t\\t\\t\\t<div class=\"_contentMessage\"></div>\\n\\t\\t\\t\\t\\t\\t\\t<div class=\"btn_box nomargin\">\\n\\t\\t\\t\\t\\t\\t\\t\\t<a class=\"_btnClose\" href=\"#\"><img src=\"https://cafe.pstatic.net/cafe4/btn_close2.gif\" width=\"38\" height=\"21\" alt=\"닫기\"></a>\\n\\t\\t\\t\\t\\t\\t\\t\\t<a class=\"_btnConfirm\" href=\"#\"><img src=\"https://cafe.pstatic.net/cafe4/btn_confirm6.gif\" width=\"38\" height=\"21\" alt=\"확인\"></a>\\n\\t\\t\\t\\t\\t\\t\\t\\t<a class=\"_btnCancel\" href=\"#\"><img src=\"https://cafe.pstatic.net/cafe4/btn_cancel.gif\" width=\"38\" height=\"21\" alt=\"취소\"></a>\\n\\t\\t\\t\\t\\t\\t\\t</div>\\n\\t\\t\\t\\t\\t\\t</div>\\n\\t\\t\\t\\t\\t\\t<a class=\"_btnExit closelayer\" href=\"#BtnCLose\"><img src=\"https://ssl.pstatic.net/static/book/publishingcompany/btn_close.gif\" alt=\"닫기\" width=\"15\" height=\"14\"></a>\\n\\t\\t\\t\\t\\t\\t\\n\\t\\t\\t\\t\\t</div>\\n\\t\\t\\t\\t</div>\\n\\t\\t\\t</div>\\n\\t\\t</div>\\n\\t</div>\\n\\t\\n</div>\\n\\n\\n<form name=\"pwmForm\" method=\"POST\" action=\"\" target=\"\">\\n    <input type=\"hidden\" name=\"ugcTypeName\" value=\"\">\\n    <input type=\"hidden\" name=\"prohibitWords\" value=\"\">\\n</form>\\n<form name=\"boardNoticeRemoveFrm\" action=\"/BoardNoticeDelete.nhn\" method=\"post\">\\n\\t<input type=\"hidden\" name=\"articleId\" value=\"\">\\n</form>\\n\\n<script type=\"text/javascript\" src=\"/static/js/mycafe/CafeSearchWide-1577769455000-28185.js\" charset=\"UTF-8\"></script>\\n\\n\\n\\n\\n\\n\\n\\n\\n<script type=\"text/javascript\">\\n    \\n    var nsc = \"cafe.mycafe\";\\n\\n    var oCL = new Ju.controlLayer({\\n        onShow : function(oElement){\\n            \\n            parentResizeIframe(\\'cafe_main\\', \\'true\\');\\n        },\\n        onHide : function(){\\n            \\n        }\\n    });\\n\\n    \\n    var cLayer = new Ju.controlLayer();\\n    function alertArticleInBadMenu(evt) {\\n        if(evt != \"off\"){\\n            var evt = evt || window.event;\\n            cLayer.show(\\'restrict_layer\\',evt,null,null);\\n        }else if(evt==\"off\") cLayer.hide(\\'restrict_layer\\');\\n    }\\n\\n    \\n    \\n    function dynamicParamLink(reqURL, event){\\n        try{\\n            \\n            if(event) {\\n                if(event.ctrlKey || event.metaKey) {\\n                    return;\\n                }\\n            }\\n\\n            document.location.href = reqURL;\\n        }catch(er){\\n        }\\n        return false;\\n    }\\n\\n    window.onload = LH_exec;\\n\\n    LH.add(\"parent.setTopInIframe()\");\\n    LH.add(\"parentResizeIframe(\\'cafe_main\\')\");\\n    LH.add(\"writelcs()\");\\n    \\n\\n\\n    function writelcs() {\\n        var code;\\n        \\n        \\n        \\n        \\n        \\n        try{\\n            var etc = {};\\n            etc[\"sti\"] = \"cafe_article_list_specific\";\\n            lcs_do(etc);\\n        }catch(e) {}\\n        \\n        \\n        \\n        \\n    }\\n\\n    \\n\\n    function removeNotice(e, articleid) {\\n        \\n    }\\n\\n    function viewMyMemberLevel() {\\n        open_window(\"/MemberLevelView.nhn?m=mylevelview&clubid=10174263\", \"mylevelview\", 450, 300, \"\");\\n    }\\n\\n    \\n\\n    // 구스킨\\n    function toggleOnSale() {\\n        var showSales = document.getElementById(\"show_sales\");\\n        if(showSales && showSales.checked) {\\n            changeMarketBoardTab(\\'A\\'); \\n            clickcr(this, \\'gdb.sellon\\', \\'\\', \\'\\', \\'\\');\\n        } else {\\n            changeMarketBoardTab(\\'D\\'); \\n            clickcr(this, \\'gdb.selloff\\', \\'\\', \\'\\', \\'\\');\\n        }\\n    }\\n\\n    // 와이드스킨\\n    function changeStatusOnSaleCheckBoxes() {\\n        var elChkEscrow = document.getElementById(\"checkboxEscrowOnSale\");\\n        var elChkCommon = document.getElementById(\"checkboxOnSale\");\\n\\n        if (elChkEscrow.checked) {\\n            // 안전거래 + 판매중\\n            elChkCommon.checked = true;\\n            elChkCommon.disabled = true;\\n            changeMarketBoardTab(\\'W\\');\\n            clickcr(this, \\'gdb.safe\\',\\'\\',\\'\\',event);\\n        } else if (elChkCommon.checked) {\\n            // 일반거래 + 판매중\\n            elChkCommon.disabled = false;\\n            changeMarketBoardTab(\\'A\\');\\n            clickcr(this, \\'gdb.sellon\\', \\'\\', \\'\\', \\'\\');\\n        } else {\\n            // 전체거래\\n            elChkCommon.disabled = false;\\n            changeMarketBoardTab(\\'D\\');\\n            clickcr(this, \\'gdb.selloff\\', \\'\\', \\'\\', \\'\\');\\n        }\\n    }\\n\\n    function changeMarketBoardTab(marketBoardTab) {\\n        document.location.href = \"/ArticleList.nhn?search.clubid=10174263&search.menuid=22&search.boardtype=L&search.marketBoardTab=\" + marketBoardTab;\\n    }\\n\\n    \\n    function sortBy(type, e){\\n        $(\"sortBy\").value = type;\\n        nhn.search.goSearch(e || window.event);\\n    }\\n    \\n\\n    \\n    \\n\\n    \\n    nhn.search.init(false, \"https://cafe.naver.com\", 10174263, 15, false, 22);\\n    \\n    \\n\\n    \\n    function showLayer(obj, layerName){\\n        var pos = Element.realPos(obj);\\n        var elLayer = $(layerName);\\n\\n        oCL.show(layerName);\\n        if( elLayer.style.display != \\'none\\' ) {\\n            elLayer.style.top = (pos.top + 14 ) + \\'px\\';\\n            elLayer.style.left = (pos.left - 8 ) + \\'px\\';\\n        }\\n    }\\n\\n    function applySearchOption(sParamElId, sValue, sViewElId, elSelected) {\\n        $(sParamElId).value = sValue;\\n\\n        var elSelectBox = $(sViewElId);\\n        elSelectBox.innerHTML = elSelected.innerHTML;\\n    }\\n\\n    \\n    \\n    var oNoticeDisplayHandler = new NoticeDisplayHandler({boardType : \"L\"});\\n    \\n\\n\\n    \\n    \\n\\n    \\n    (function() {\\n        Event.register(window, \"load\", function() {\\n            Tablet.editing.ClickAlert()\\n                .check({\\n                    bAccessTabletPC : false,\\n                    bReadOnlyStatus : false,\\n                    bMarketBoard : false,\\n                    bHasArticleForm : true,\\n                    bHasTemplate : false\\n                })\\n                .click(\"writeFormBtn\").run(function() {\\n                writeArticle();\\n            })\\n                .click(cssquery(\"a[name=modifyLink]\")).run(function() {\\n                // empty\\n            });\\n        });\\n    })();\\n\\n\\n    //--------------- Mac Safari bug --------------------------\\n    function controlTagClickEvent(e){\\n        if(!!$Agent() && $Agent().macSafari ){\\n            var controlTagName = [\"a\"];\\n            var elTarget = e.element,\\n                sTargetUrl = null;\\n            if(elTarget != null ){\\n                //elTarget.href+\"\" != document.location.href+\"#\" => (ex) \\'<a href=\"#\"\\' 처리\\n                if(elTarget.tagName.toLowerCase() == \"a\" && elTarget.href+\"\" != document.location.href+\"#\"){\\n                    elTarget.target=\"_top\";\\n                }\\n\\n            }\\n        }\\n    }\\n\\n    (function() {\\n        if(!!$Agent() && $Agent().macSafari ){\\n            Event.register(window, \"load\", function() {\\n                if($(\\'main-area\\') != null){\\n                    Event.register($(\\'main-area\\'), \\'click\\', this.controlTagClickEvent.bindForEvent(this));\\n                }\\n            });\\n        }\\n    })();\\n\\n    //--------------- Mac Safari  End --------------------------\\n    var bTablet = false;\\n    var oTabletHandler = new TabletHandler(bTablet);\\n\\n    \\n    \\n    function findMenuName() {\\n        if(false) {\\n            if(\"\" == \"M\") {\\n                return \"동영상 모아보기\";\\n            }else if(\"\" == \"P\") {\\n                return \"이미지 모아보기\";\\n            }\\n            return \"전체글보기\";\\n        } else {\\n            return \"회원 연주곡\";\\n        }\\n    }\\n\\n    var cafenameTitle = \"핑거스타일 기타 (Fingerstyle Guitar)\";\\n    var pageTitle = findMenuName() +\\',\\'+ cafenameTitle + \\' : \\' +  \\'네이버 카페\\' ;\\n    LH.add(changeTitle(pageTitle));\\n    \\n    \\n    LH.add(\"skipToMobileweb(\\'https://m.cafe.naver.com/fingerstyle/menu/22\\')\");\\n    \\n    \\n    LH.add(initTopLayerQuery());\\n</script>\\n\\n\\n\\n\\n\\n<link rel=\"stylesheet\" href=\"/static/css/main/css/ip_layer_2-1577769455000-2931.css\" type=\"text/css\">\\n\\n\\n<script type=\"text/javascript\">\\n\\tfunction openLoginLayer() {\\n\\t\\tvar loginCheckOk = \"https://cafe.naver.com/LoginCheck.nhn?m=login\";\\n\\t\\tcheckFrame.location.replace(\"https://nid.naver.com/nidlogin.login?mode=form&svctype=40960&id=&url=\"+loginCheckOk);\\n\\n\\t\\t\\n\\t\\tvar layerScrollTop = parent.document.getElementsByTagName(\\'HTML\\')[0].scrollTop;\\n        var layerClientHeight = parent.document.getElementsByTagName(\\'HTML\\')[0].clientHeight;\\n        var layerPosition = layerScrollTop + (layerClientHeight * 0.5);\\n        document.getElementById(\"login_layer\").style.top = layerPosition + \"px\";\\n        \\n\\t\\tdocument.getElementById(\"login_layer_bg\").style.display = \"\";\\n\\t\\tdocument.getElementById(\"login_layer\").style.display = \"\";\\n    \\tdocument.getElementById(\"login_layer\").focus();\\t\\t\\n\\t}\\n\\n\\tfunction closeLoginLayer() {\\n\\t\\tdocument.getElementById(\"login_layer_bg\").style.display = \"none\";\\n\\t    document.getElementById(\"login_layer\").style.display = \"none\";\\n\\t}\\n</script>\\n<div id=\"login_layer_bg\" style=\"z-index:100;display:none;position:absolute;width:100%;height:3800px;top:0px;left:0px;background-color:GRAY;filter:alpha(opacity=20);-moz-opacity:0.2;\">\\n  <iframe id=\"login_layer_bg_iframe\" frameborder=\"0\" style=\"position:absolute;top:0px;left:0px;width:100%;height:3800px;background-color:GRAY;filter:alpha(opacity=20);-moz-opacity:0.2;\" title=\"로그인영역\"></iframe>\\n</div>\\n<div id=\"login_layer\" class=\"layerpopup\" style=\"z-index:1001; width:394px; top:400px; left:35%; display:none;\">\\n  <div class=\"shadow1\">\\n  <div class=\"shadow1_side\">\\n\\t\\t<div class=\"shadow2\">\\n        <div class=\"shadow2_side\">\\n\\t\\t\\t<div class=\"shadow3\">\\n\\t        <div class=\"shadow3_side\">\\n               \\n\\t\\t\\t<div class=\"border_type\">\\n\\t\\t\\t\\t<div class=\"logbox_wrap\">\\n\\n\\t\\t\\t\\t\\t<p class=\"notice\">회원님의 안전한 서비스 이용을 위해 <strong>비밀번호를 확인해 주세요.</strong></p>\\n\\n\\t           \\t\\t<p class=\"notice02\" id=\"layerd_notice01\" style=\"display:none;\">IP가 자주 변경되는 네트워크 환경에서 로그인하는 경우 <br><strong>IP보안을 해제</strong> 후 이용하시기 바랍니다.</p>\\n\\t\\t\\t\\t\\t<p class=\"notice02\">다시 한번 <strong>비밀번호 확인</strong> 하시면 이용중인 화면으로 돌아가며, 작성 중이던<br>내용을 정상적으로 전송 또는 등록하실 수 있습니다.</p>\\n\\t\\n\\t\\t\\t\\t\\t<a href=\"javascript:closeLoginLayer();\" class=\"closelayer\" role=\"button\"><img src=\"https://ssl.pstatic.net/static/ws/btn_close.gif\" alt=\"닫기\" width=\"15\" height=\"14\"></a>\\n\\t           \\t\\t<div class=\"frame_wrap type03\"><iframe id=\"checkFrame\" name=\"checkFrame\" width=\"350\" height=\"163\" frameborder=\"0\" scrolling=\"no\" marginheight=\"0\" marginwidth=\"0\" title=\"빈프레임\"></iframe></div>\\n\\t\\n\\t\\t\\t\\t</div>\\n\\t\\t\\t</div>\\n\\t\\t\\t\\n          \\t</div>\\n\\t\\t\\t</div>\\n        </div>\\n\\t\\t</div>\\n  </div>\\n  </div>\\n</div>\\n\\n\\t\\n\\t\\n\\n\\n\\n\\n</body></html>']\n",
            "['223778', '223773', '223772', '223769', '223767', '223760', '223757', '223755', '223753', '223751', '223743', '223738', '223736', '223728', '223715']\n"
          ],
          "name": "stdout"
        }
      ]
    },
    {
      "cell_type": "code",
      "metadata": {
        "colab": {
          "base_uri": "https://localhost:8080/"
        },
        "id": "6st66EFYs3Xj",
        "outputId": "c072895a-0383-47ea-95e9-2942deec80ce"
      },
      "source": [
        "pd_arr=pd.Series(tip)\n",
        "print(pd_arr)"
      ],
      "execution_count": null,
      "outputs": [
        {
          "output_type": "stream",
          "text": [
            "0     223778\n",
            "1     223773\n",
            "2     223772\n",
            "3     223769\n",
            "4     223767\n",
            "5     223760\n",
            "6     223757\n",
            "7     223755\n",
            "8     223753\n",
            "9     223751\n",
            "10    223743\n",
            "11    223738\n",
            "12    223736\n",
            "13    223728\n",
            "14    223715\n",
            "dtype: object\n"
          ],
          "name": "stdout"
        }
      ]
    },
    {
      "cell_type": "code",
      "metadata": {
        "colab": {
          "base_uri": "https://localhost:8080/"
        },
        "id": "9krJSZj70Xup",
        "outputId": "8537102c-7ad3-43f8-ae78-baf765d337eb"
      },
      "source": [
        "with open ('html_source.txt','r') as f:\n",
        "  tt2=f.read()\n",
        "  t2=tt2.split('<a class=\"article')\n",
        "  t2.pop(0)\n",
        "title=[]\n",
        "for i in t2:\n",
        "  i2=i.split('</a>')[0]\n",
        "  title.append(i2.split('>')[-1])\n",
        "#i2.split().split() 가능\n",
        "\n",
        "title2=[]\n",
        "for k in title:\n",
        "  t3=k.replace('\\n','')\n",
        "  t4=t3.replace(' ','')\n",
        "  title2.append(t4)\n",
        "\n",
        "print(title2)\n",
        "\n",
        "print('\\n')\n",
        "pd_arr2=pd.Series(title2)\n",
        "print(pd_arr2)"
      ],
      "execution_count": null,
      "outputs": [
        {
          "output_type": "stream",
          "text": [
            "['YuhkiKuramoto-Meditation', 'CCMfinger-style-참좋으신주님(김기영작곡,arr.byShrek)', 'Guitarsolo-JustFallInLoveAgain(AnneMurray,1978)', 'IraisemyhandshightotheLord(내손을주께높이듭니다)', '아이유가을아침기타커버!', 'GIN-Recollection(cover)', 'EdGerhard-TheWaterisWide/Cover', '비틀즈의IWill연주해보았습니다.', 'TommyEmmanuel-Closetoyou커버', 'BTS(방탄소년단)-Butter쳐봤습니다!!', '[뽕용Live]KotaroOshio-Twilight(Livestage/coverby기타치는뽕용)', 'Creep편곡', '양희은아이유-가을아침기타커버입니다!', '쾌지나칭칭나네편곡', 'DEPAPEPE(데파페페,デパペペ)-두사람의사진(Photographoftwopeople)']\n",
            "\n",
            "\n",
            "0                              YuhkiKuramoto-Meditation\n",
            "1             CCMfinger-style-참좋으신주님(김기영작곡,arr.byShrek)\n",
            "2       Guitarsolo-JustFallInLoveAgain(AnneMurray,1978)\n",
            "3                IraisemyhandshightotheLord(내손을주께높이듭니다)\n",
            "4                                          아이유가을아침기타커버!\n",
            "5                               GIN-Recollection(cover)\n",
            "6                        EdGerhard-TheWaterisWide/Cover\n",
            "7                                    비틀즈의IWill연주해보았습니다.\n",
            "8                            TommyEmmanuel-Closetoyou커버\n",
            "9                              BTS(방탄소년단)-Butter쳐봤습니다!!\n",
            "10    [뽕용Live]KotaroOshio-Twilight(Livestage/coverby...\n",
            "11                                              Creep편곡\n",
            "12                                  양희은아이유-가을아침기타커버입니다!\n",
            "13                                            쾌지나칭칭나네편곡\n",
            "14    DEPAPEPE(데파페페,デパペペ)-두사람의사진(Photographoftwopeople)\n",
            "dtype: object\n"
          ],
          "name": "stdout"
        }
      ]
    },
    {
      "cell_type": "code",
      "metadata": {
        "colab": {
          "base_uri": "https://localhost:8080/"
        },
        "id": "dkv7ykMl08Pu",
        "outputId": "296a5c46-f36a-4773-f5a9-463d9999fb2f"
      },
      "source": [
        "pd_arr3=pd.DataFrame(title2,index=tip,columns=['<노래제목>'])\n",
        "print(pd_arr3)"
      ],
      "execution_count": null,
      "outputs": [
        {
          "output_type": "stream",
          "text": [
            "                                                   <노래제목>\n",
            "223778                           YuhkiKuramoto-Meditation\n",
            "223773          CCMfinger-style-참좋으신주님(김기영작곡,arr.byShrek)\n",
            "223772    Guitarsolo-JustFallInLoveAgain(AnneMurray,1978)\n",
            "223769             IraisemyhandshightotheLord(내손을주께높이듭니다)\n",
            "223767                                       아이유가을아침기타커버!\n",
            "223760                            GIN-Recollection(cover)\n",
            "223757                     EdGerhard-TheWaterisWide/Cover\n",
            "223755                                 비틀즈의IWill연주해보았습니다.\n",
            "223753                         TommyEmmanuel-Closetoyou커버\n",
            "223751                           BTS(방탄소년단)-Butter쳐봤습니다!!\n",
            "223743  [뽕용Live]KotaroOshio-Twilight(Livestage/coverby...\n",
            "223738                                            Creep편곡\n",
            "223736                                양희은아이유-가을아침기타커버입니다!\n",
            "223728                                          쾌지나칭칭나네편곡\n",
            "223715  DEPAPEPE(데파페페,デパペペ)-두사람의사진(Photographoftwopeople)\n"
          ],
          "name": "stdout"
        }
      ]
    },
    {
      "cell_type": "code",
      "metadata": {
        "colab": {
          "base_uri": "https://localhost:8080/",
          "height": 511
        },
        "id": "B6ppnFCZGrrD",
        "outputId": "f6588cdf-93c0-44d5-8271-85996baa4f79"
      },
      "source": [
        "pd_arr3.reset_index()"
      ],
      "execution_count": null,
      "outputs": [
        {
          "output_type": "execute_result",
          "data": {
            "text/html": [
              "<div>\n",
              "<style scoped>\n",
              "    .dataframe tbody tr th:only-of-type {\n",
              "        vertical-align: middle;\n",
              "    }\n",
              "\n",
              "    .dataframe tbody tr th {\n",
              "        vertical-align: top;\n",
              "    }\n",
              "\n",
              "    .dataframe thead th {\n",
              "        text-align: right;\n",
              "    }\n",
              "</style>\n",
              "<table border=\"1\" class=\"dataframe\">\n",
              "  <thead>\n",
              "    <tr style=\"text-align: right;\">\n",
              "      <th></th>\n",
              "      <th>index</th>\n",
              "      <th>&lt;노래제목&gt;</th>\n",
              "    </tr>\n",
              "  </thead>\n",
              "  <tbody>\n",
              "    <tr>\n",
              "      <th>0</th>\n",
              "      <td>223778</td>\n",
              "      <td>YuhkiKuramoto-Meditation</td>\n",
              "    </tr>\n",
              "    <tr>\n",
              "      <th>1</th>\n",
              "      <td>223773</td>\n",
              "      <td>CCMfinger-style-참좋으신주님(김기영작곡,arr.byShrek)</td>\n",
              "    </tr>\n",
              "    <tr>\n",
              "      <th>2</th>\n",
              "      <td>223772</td>\n",
              "      <td>Guitarsolo-JustFallInLoveAgain(AnneMurray,1978)</td>\n",
              "    </tr>\n",
              "    <tr>\n",
              "      <th>3</th>\n",
              "      <td>223769</td>\n",
              "      <td>IraisemyhandshightotheLord(내손을주께높이듭니다)</td>\n",
              "    </tr>\n",
              "    <tr>\n",
              "      <th>4</th>\n",
              "      <td>223767</td>\n",
              "      <td>아이유가을아침기타커버!</td>\n",
              "    </tr>\n",
              "    <tr>\n",
              "      <th>5</th>\n",
              "      <td>223760</td>\n",
              "      <td>GIN-Recollection(cover)</td>\n",
              "    </tr>\n",
              "    <tr>\n",
              "      <th>6</th>\n",
              "      <td>223757</td>\n",
              "      <td>EdGerhard-TheWaterisWide/Cover</td>\n",
              "    </tr>\n",
              "    <tr>\n",
              "      <th>7</th>\n",
              "      <td>223755</td>\n",
              "      <td>비틀즈의IWill연주해보았습니다.</td>\n",
              "    </tr>\n",
              "    <tr>\n",
              "      <th>8</th>\n",
              "      <td>223753</td>\n",
              "      <td>TommyEmmanuel-Closetoyou커버</td>\n",
              "    </tr>\n",
              "    <tr>\n",
              "      <th>9</th>\n",
              "      <td>223751</td>\n",
              "      <td>BTS(방탄소년단)-Butter쳐봤습니다!!</td>\n",
              "    </tr>\n",
              "    <tr>\n",
              "      <th>10</th>\n",
              "      <td>223743</td>\n",
              "      <td>[뽕용Live]KotaroOshio-Twilight(Livestage/coverby...</td>\n",
              "    </tr>\n",
              "    <tr>\n",
              "      <th>11</th>\n",
              "      <td>223738</td>\n",
              "      <td>Creep편곡</td>\n",
              "    </tr>\n",
              "    <tr>\n",
              "      <th>12</th>\n",
              "      <td>223736</td>\n",
              "      <td>양희은아이유-가을아침기타커버입니다!</td>\n",
              "    </tr>\n",
              "    <tr>\n",
              "      <th>13</th>\n",
              "      <td>223728</td>\n",
              "      <td>쾌지나칭칭나네편곡</td>\n",
              "    </tr>\n",
              "    <tr>\n",
              "      <th>14</th>\n",
              "      <td>223715</td>\n",
              "      <td>DEPAPEPE(데파페페,デパペペ)-두사람의사진(Photographoftwopeople)</td>\n",
              "    </tr>\n",
              "  </tbody>\n",
              "</table>\n",
              "</div>"
            ],
            "text/plain": [
              "     index                                             <노래제목>\n",
              "0   223778                           YuhkiKuramoto-Meditation\n",
              "1   223773          CCMfinger-style-참좋으신주님(김기영작곡,arr.byShrek)\n",
              "2   223772    Guitarsolo-JustFallInLoveAgain(AnneMurray,1978)\n",
              "3   223769             IraisemyhandshightotheLord(내손을주께높이듭니다)\n",
              "4   223767                                       아이유가을아침기타커버!\n",
              "5   223760                            GIN-Recollection(cover)\n",
              "6   223757                     EdGerhard-TheWaterisWide/Cover\n",
              "7   223755                                 비틀즈의IWill연주해보았습니다.\n",
              "8   223753                         TommyEmmanuel-Closetoyou커버\n",
              "9   223751                           BTS(방탄소년단)-Butter쳐봤습니다!!\n",
              "10  223743  [뽕용Live]KotaroOshio-Twilight(Livestage/coverby...\n",
              "11  223738                                            Creep편곡\n",
              "12  223736                                양희은아이유-가을아침기타커버입니다!\n",
              "13  223728                                          쾌지나칭칭나네편곡\n",
              "14  223715  DEPAPEPE(데파페페,デパペペ)-두사람의사진(Photographoftwopeople)"
            ]
          },
          "metadata": {
            "tags": []
          },
          "execution_count": 190
        }
      ]
    },
    {
      "cell_type": "code",
      "metadata": {
        "id": "GgDdA5HSKATr"
      },
      "source": [
        ""
      ],
      "execution_count": null,
      "outputs": []
    }
  ]
}