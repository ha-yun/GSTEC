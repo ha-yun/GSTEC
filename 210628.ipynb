{
  "nbformat": 4,
  "nbformat_minor": 0,
  "metadata": {
    "colab": {
      "name": "210628.ipynb",
      "provenance": [],
      "collapsed_sections": [],
      "authorship_tag": "ABX9TyOffL+2wve7Aefus+pcEzB/",
      "include_colab_link": true
    },
    "kernelspec": {
      "name": "python3",
      "display_name": "Python 3"
    },
    "language_info": {
      "name": "python"
    }
  },
  "cells": [
    {
      "cell_type": "markdown",
      "metadata": {
        "id": "view-in-github",
        "colab_type": "text"
      },
      "source": [
        "<a href=\"https://colab.research.google.com/github/yun-aha/GSTEC/blob/main/210628.ipynb\" target=\"_parent\"><img src=\"https://colab.research.google.com/assets/colab-badge.svg\" alt=\"Open In Colab\"/></a>"
      ]
    },
    {
      "cell_type": "markdown",
      "metadata": {
        "id": "J0Ad85Jipv14"
      },
      "source": [
        "# <strong>알고리즘</strong><br>\n",
        "Q. 나머지와 몫이 같은 수 구하기<br>\n",
        "숫자 N이 주어졌습니다. N으로 나누었을 때 나머지와 몫이 같은 모든 자연수의 합이 얼마인지 찾는 문제를 풀어봅시다.<br>\n",
        "ex) N=1, 해당하는 자연수는 없기에 0으로 간주<br>\n",
        "N=2일 경우 3, N=3일 경우 12, N=4일경우 30이 정답<br>\n",
        "자연수 N이 주어질 때 나머지와 몫이 같은 모든 자연수의 합을 출력하시오."
      ]
    },
    {
      "cell_type": "code",
      "metadata": {
        "colab": {
          "base_uri": "https://localhost:8080/"
        },
        "id": "NHXM-2laqQyH",
        "outputId": "7f096cd4-d9b2-4bc4-b6db-54da7680d3ea"
      },
      "source": [
        "#N=1, 0\n",
        "#N=2, 3 -> 3(2*1+1)\n",
        "#N=3, 12 -> 4(3*1+1)+8(3*2+2)\n",
        "#N=4, 30 -> 5(4*1+1)+10(4*2+2)+15(4*3+3)\n",
        "#나머지는 나누는 수 보다 작은 값\n",
        "\n",
        "N=int(input())\n",
        "tt=[]\n",
        "for i in range(1,N):\n",
        "  tt.append(N*i+i)\n",
        "print(sum(tt))"
      ],
      "execution_count": null,
      "outputs": [
        {
          "output_type": "stream",
          "text": [
            "7\n",
            "168\n"
          ],
          "name": "stdout"
        }
      ]
    },
    {
      "cell_type": "markdown",
      "metadata": {
        "id": "LyR8kiZWh_AJ"
      },
      "source": [
        "#*딥러닝 & 강화학습"
      ]
    },
    {
      "cell_type": "code",
      "metadata": {
        "id": "G_DHKuzFsAsZ",
        "colab": {
          "base_uri": "https://localhost:8080/"
        },
        "outputId": "2b19dbba-1b54-4650-9352-c61661e1859a"
      },
      "source": [
        "import tensorflow as tf\n",
        "mnist = tf.keras.datasets.mnist\n",
        "\n",
        "(x_train, y_train),(x_test, y_test) = mnist.load_data()\n",
        "x_train, x_test = x_train / 255.0, x_test / 255.0\n",
        "\n",
        "model = tf.keras.models.Sequential([\n",
        "  tf.keras.layers.Flatten(input_shape=(28, 28)),\n",
        "  tf.keras.layers.Dense(128, activation='relu'),\n",
        "  tf.keras.layers.Dropout(0.2),\n",
        "  tf.keras.layers.Dense(10, activation='softmax')\n",
        "])\n",
        "\n",
        "model.compile(optimizer='adam',\n",
        "              loss='sparse_categorical_crossentropy',\n",
        "              metrics=['accuracy'])\n",
        "\n",
        "model.fit(x_train, y_train, epochs=5)\n",
        "model.evaluate(x_test, y_test)"
      ],
      "execution_count": null,
      "outputs": [
        {
          "output_type": "stream",
          "text": [
            "Downloading data from https://storage.googleapis.com/tensorflow/tf-keras-datasets/mnist.npz\n",
            "11493376/11490434 [==============================] - 0s 0us/step\n",
            "Epoch 1/5\n",
            "1875/1875 [==============================] - 4s 2ms/step - loss: 0.2952 - accuracy: 0.9142\n",
            "Epoch 2/5\n",
            "1875/1875 [==============================] - 4s 2ms/step - loss: 0.1458 - accuracy: 0.9561\n",
            "Epoch 3/5\n",
            "1875/1875 [==============================] - 4s 2ms/step - loss: 0.1072 - accuracy: 0.9674\n",
            "Epoch 4/5\n",
            "1875/1875 [==============================] - 4s 2ms/step - loss: 0.0871 - accuracy: 0.9732\n",
            "Epoch 5/5\n",
            "1875/1875 [==============================] - 4s 2ms/step - loss: 0.0754 - accuracy: 0.9768\n",
            "313/313 [==============================] - 1s 1ms/step - loss: 0.0685 - accuracy: 0.9792\n"
          ],
          "name": "stdout"
        },
        {
          "output_type": "execute_result",
          "data": {
            "text/plain": [
              "[0.0685228779911995, 0.979200005531311]"
            ]
          },
          "metadata": {
            "tags": []
          },
          "execution_count": 1
        }
      ]
    },
    {
      "cell_type": "code",
      "metadata": {
        "id": "adGSp7xiJKds"
      },
      "source": [
        "import tensorflow as tf\n",
        "import numpy as np"
      ],
      "execution_count": 2,
      "outputs": []
    },
    {
      "cell_type": "code",
      "metadata": {
        "id": "X_l2hZYHV8Nb"
      },
      "source": [
        "x=np.array([[1,1],[1,0],[0,1],[0,0]])\n",
        "y=np.array([[0],[1],[1],[0]])\n",
        "model=tf.keras.Sequential([\n",
        "                           tf.keras.layers.Dense(units=2, activation='elu', input_shape=(2,)), #활성화함수(activation .., )\n",
        "                           tf.keras.layers.Dense(units=5, activation='elu'), #tuple일 때 값이 하나면 뒤에 , 를 찍어준다. (2,)\n",
        "                           tf.keras.layers.Dense(units=7, activation='elu'),\n",
        "                           tf.keras.layers.Dense(units=1, activation='sigmoid')\n",
        "])"
      ],
      "execution_count": 3,
      "outputs": []
    },
    {
      "cell_type": "markdown",
      "metadata": {
        "id": "okcp7X1PZA7b"
      },
      "source": [
        "## 1. 데이터를 입력하기\n",
        "## 2. 모델 설계하기\n",
        "## 3. 최적화하기\n",
        "## 4. 학습하기\n",
        "#### * 학습률이란? Learning Rate : 학습의 속도를 제어하는 상수\n",
        "#### * MSE"
      ]
    },
    {
      "cell_type": "code",
      "metadata": {
        "id": "fMklrSiZYtgo"
      },
      "source": [
        "model.compile(optimizer=tf.keras.optimizers.Adam(learning_rate=0.001),\n",
        "              loss='mse')"
      ],
      "execution_count": 4,
      "outputs": []
    },
    {
      "cell_type": "code",
      "metadata": {
        "colab": {
          "base_uri": "https://localhost:8080/"
        },
        "id": "2uSrGnZlaVRv",
        "outputId": "9d29ff05-07aa-4eab-97fd-b3c33a2a5747"
      },
      "source": [
        "model.fit(x,y,epochs=10)  #loss 편차"
      ],
      "execution_count": 5,
      "outputs": [
        {
          "output_type": "stream",
          "text": [
            "Epoch 1/10\n",
            "1/1 [==============================] - 1s 715ms/step - loss: 0.2525\n",
            "Epoch 2/10\n",
            "1/1 [==============================] - 0s 9ms/step - loss: 0.2520\n",
            "Epoch 3/10\n",
            "1/1 [==============================] - 0s 3ms/step - loss: 0.2516\n",
            "Epoch 4/10\n",
            "1/1 [==============================] - 0s 5ms/step - loss: 0.2513\n",
            "Epoch 5/10\n",
            "1/1 [==============================] - 0s 6ms/step - loss: 0.2509\n",
            "Epoch 6/10\n",
            "1/1 [==============================] - 0s 5ms/step - loss: 0.2505\n",
            "Epoch 7/10\n",
            "1/1 [==============================] - 0s 6ms/step - loss: 0.2501\n",
            "Epoch 8/10\n",
            "1/1 [==============================] - 0s 4ms/step - loss: 0.2497\n",
            "Epoch 9/10\n",
            "1/1 [==============================] - 0s 4ms/step - loss: 0.2494\n",
            "Epoch 10/10\n",
            "1/1 [==============================] - 0s 5ms/step - loss: 0.2490\n"
          ],
          "name": "stdout"
        },
        {
          "output_type": "execute_result",
          "data": {
            "text/plain": [
              "<tensorflow.python.keras.callbacks.History at 0x7fddca5bf790>"
            ]
          },
          "metadata": {
            "tags": []
          },
          "execution_count": 5
        }
      ]
    },
    {
      "cell_type": "code",
      "metadata": {
        "colab": {
          "base_uri": "https://localhost:8080/"
        },
        "id": "Sw778nyYakfE",
        "outputId": "73610605-3eed-492a-c48e-984408ad8362"
      },
      "source": [
        "print(model.predict(x))"
      ],
      "execution_count": null,
      "outputs": [
        {
          "output_type": "stream",
          "text": [
            "[[0.01076511]\n",
            " [0.98734504]\n",
            " [0.988991  ]\n",
            " [0.01626077]]\n"
          ],
          "name": "stdout"
        }
      ]
    },
    {
      "cell_type": "code",
      "metadata": {
        "id": "Hm_TR7b1bThe"
      },
      "source": [
        "#paper 논문을 읽어야 하는 이ㅠ유 생각해보자."
      ],
      "execution_count": null,
      "outputs": []
    },
    {
      "cell_type": "code",
      "metadata": {
        "colab": {
          "base_uri": "https://localhost:8080/"
        },
        "id": "ZwtpEqRucg9L",
        "outputId": "a31221bd-1f01-4f69-e510-adef380d59a6"
      },
      "source": [
        "print(tf.__version__) #tf version 확인"
      ],
      "execution_count": null,
      "outputs": [
        {
          "output_type": "stream",
          "text": [
            "2.5.0\n"
          ],
          "name": "stdout"
        }
      ]
    },
    {
      "cell_type": "code",
      "metadata": {
        "id": "Q4MpYl0cdV1H"
      },
      "source": [
        "fashion_mnist=tf.keras.datasets.fashion_mnist"
      ],
      "execution_count": null,
      "outputs": []
    },
    {
      "cell_type": "code",
      "metadata": {
        "colab": {
          "base_uri": "https://localhost:8080/"
        },
        "id": "lUuBMBcqdi6w",
        "outputId": "bb6e98af-638c-400d-b72a-7d8e6a717c13"
      },
      "source": [
        "(train_x,train_y),(test_x,test_y)=fashion_mnist.load_data()"
      ],
      "execution_count": null,
      "outputs": [
        {
          "output_type": "stream",
          "text": [
            "Downloading data from https://storage.googleapis.com/tensorflow/tf-keras-datasets/train-labels-idx1-ubyte.gz\n",
            "32768/29515 [=================================] - 0s 0us/step\n",
            "Downloading data from https://storage.googleapis.com/tensorflow/tf-keras-datasets/train-images-idx3-ubyte.gz\n",
            "26427392/26421880 [==============================] - 0s 0us/step\n",
            "Downloading data from https://storage.googleapis.com/tensorflow/tf-keras-datasets/t10k-labels-idx1-ubyte.gz\n",
            "8192/5148 [===============================================] - 0s 0us/step\n",
            "Downloading data from https://storage.googleapis.com/tensorflow/tf-keras-datasets/t10k-images-idx3-ubyte.gz\n",
            "4423680/4422102 [==============================] - 0s 0us/step\n"
          ],
          "name": "stdout"
        }
      ]
    },
    {
      "cell_type": "code",
      "metadata": {
        "id": "NMem0ds3dzJR"
      },
      "source": [
        "import matplotlib.pyplot as plt"
      ],
      "execution_count": null,
      "outputs": []
    },
    {
      "cell_type": "code",
      "metadata": {
        "colab": {
          "base_uri": "https://localhost:8080/",
          "height": 265
        },
        "id": "vcw-ox9Sd30v",
        "outputId": "3ed40f2d-6c06-44c3-954a-75f390a3b750"
      },
      "source": [
        "plt.imshow(train_x[3])  #dress\n",
        "plt.show()"
      ],
      "execution_count": null,
      "outputs": [
        {
          "output_type": "display_data",
          "data": {
            "image/png": "[encoded data removed]",
            "text/plain": [
              "<Figure size 432x288 with 1 Axes>"
            ]
          },
          "metadata": {
            "tags": [],
            "needs_background": "light"
          }
        }
      ]
    },
    {
      "cell_type": "code",
      "metadata": {
        "colab": {
          "base_uri": "https://localhost:8080/"
        },
        "id": "Os7w6M29d616",
        "outputId": "df579a15-8c38-4069-a910-1e8be12184e5"
      },
      "source": [
        "print(train_y[3])  #label 값 확인"
      ],
      "execution_count": null,
      "outputs": [
        {
          "output_type": "stream",
          "text": [
            "3\n"
          ],
          "name": "stdout"
        }
      ]
    },
    {
      "cell_type": "code",
      "metadata": {
        "colab": {
          "base_uri": "https://localhost:8080/",
          "height": 265
        },
        "id": "_3m3Oy3weG5K",
        "outputId": "b5168d85-a0a9-48bc-a442-d2e321cfd4a2"
      },
      "source": [
        "plt.imshow(train_x[12])  #샌들\n",
        "plt.show()"
      ],
      "execution_count": null,
      "outputs": [
        {
          "output_type": "display_data",
          "data": {
            "image/png": "[encoded data removed]",
            "text/plain": [
              "<Figure size 432x288 with 1 Axes>"
            ]
          },
          "metadata": {
            "tags": [],
            "needs_background": "light"
          }
        }
      ]
    },
    {
      "cell_type": "code",
      "metadata": {
        "colab": {
          "base_uri": "https://localhost:8080/"
        },
        "id": "EwEiZNtEeM0_",
        "outputId": "0997652d-d2f1-4a2a-f0df-6a3f33218752"
      },
      "source": [
        "train_x[3]  #화소.."
      ],
      "execution_count": null,
      "outputs": [
        {
          "output_type": "execute_result",
          "data": {
            "text/plain": [
              "array([[  0,   0,   0,   0,   0,   0,   0,   0,  33,  96, 175, 156,  64,\n",
              "         14,  54, 137, 204, 194, 102,   0,   0,   0,   0,   0,   0,   0,\n",
              "          0,   0],\n",
              "       [  0,   0,   0,   0,   0,   0,  73, 186, 177, 183, 175, 188, 232,\n",
              "        255, 223, 219, 194, 179, 186, 213, 146,   0,   0,   0,   0,   0,\n",
              "          0,   0],\n",
              "       [  0,   0,   0,   0,   0,  35, 163, 140, 150, 152, 150, 146, 175,\n",
              "        175, 173, 171, 156, 152, 148, 129, 156, 140,   0,   0,   0,   0,\n",
              "          0,   0],\n",
              "       [  0,   0,   0,   0,   0, 150, 142, 140, 152, 160, 156, 146, 142,\n",
              "        127, 135, 133, 140, 140, 137, 133, 125, 169,  75,   0,   0,   0,\n",
              "          0,   0],\n",
              "       [  0,   0,   0,   0,   0,  54, 167, 146, 129, 142, 137, 137, 131,\n",
              "        148, 148, 133, 131, 131, 131, 125, 140, 140,   0,   0,   0,   0,\n",
              "          0,   0],\n",
              "       [  0,   0,   0,   0,   0,   0, 110, 188, 133, 146, 152, 133, 125,\n",
              "        127, 119, 129, 133, 119, 140, 131, 150,  14,   0,   0,   0,   0,\n",
              "          0,   0],\n",
              "       [  0,   0,   0,   0,   0,   0,   0, 221, 158, 137, 135, 123, 110,\n",
              "        110, 114, 108, 112, 117, 127, 142,  77,   0,   0,   0,   0,   0,\n",
              "          0,   0],\n",
              "       [  0,   0,   0,   0,   0,   4,   0,  25, 158, 137, 125, 119, 119,\n",
              "        110, 117, 117, 110, 119, 127, 144,   0,   0,   0,   0,   0,   0,\n",
              "          0,   0],\n",
              "       [  0,   0,   0,   0,   0,   0,   0,   0, 123, 156, 129, 112, 110,\n",
              "        102, 112, 100, 121, 117, 129, 114,   0,   0,   0,   0,   0,   0,\n",
              "          0,   0],\n",
              "       [  0,   0,   0,   0,   0,   0,   0,   0, 125, 169, 127, 119, 106,\n",
              "        108, 104,  94, 121, 114, 129,  91,   0,   0,   0,   0,   0,   0,\n",
              "          0,   0],\n",
              "       [  0,   0,   0,   0,   0,   0,   2,   0,  98, 171, 129, 112, 104,\n",
              "        114, 106, 102, 112, 104, 133,  64,   0,   4,   0,   0,   0,   0,\n",
              "          0,   0],\n",
              "       [  0,   0,   0,   0,   0,   0,   2,   0,  66, 173, 135, 129,  98,\n",
              "        100, 119, 102, 108,  98, 135,  60,   0,   4,   0,   0,   0,   0,\n",
              "          0,   0],\n",
              "       [  0,   0,   0,   0,   0,   0,   2,   0,  56, 171, 135, 127, 100,\n",
              "        108, 117,  85, 106, 110, 135,  66,   0,   4,   0,   0,   0,   0,\n",
              "          0,   0],\n",
              "       [  0,   0,   0,   0,   0,   0,   0,   0,  52, 150, 129, 110, 100,\n",
              "         91, 102,  94,  83, 104, 123,  66,   0,   4,   0,   0,   0,   0,\n",
              "          0,   0],\n",
              "       [  0,   0,   0,   0,   0,   0,   2,   0,  66, 167, 140, 148, 148,\n",
              "        127, 137, 152, 146, 146, 148,  96,   0,   0,   0,   0,   0,   0,\n",
              "          0,   0],\n",
              "       [  0,   0,   0,   0,   0,   0,   0,   0,  45, 123,  94, 104,  96,\n",
              "        119, 121, 106,  98, 112,  87, 114,   0,   0,   0,   0,   0,   0,\n",
              "          0,   0],\n",
              "       [  0,   0,   0,   0,   0,   0,   0,   0, 106,  89,  58,  50,  37,\n",
              "         50,  66,  56,  50,  75,  75, 137,  22,   0,   2,   0,   0,   0,\n",
              "          0,   0],\n",
              "       [  0,   0,   0,   0,   0,   2,   0,  29, 148, 114, 106, 125,  89,\n",
              "        100, 133, 117, 131, 131, 131, 125, 112,   0,   0,   0,   0,   0,\n",
              "          0,   0],\n",
              "       [  0,   0,   0,   0,   0,   0,   0, 100, 106, 114,  91, 137,  62,\n",
              "        102, 131,  89, 135, 112, 131, 108, 135,  37,   0,   0,   0,   0,\n",
              "          0,   0],\n",
              "       [  0,   0,   0,   0,   0,   0,   0, 146, 100, 108,  98, 144,  62,\n",
              "        106, 131,  87, 133, 104, 160, 117, 121,  68,   0,   0,   0,   0,\n",
              "          0,   0],\n",
              "       [  0,   0,   0,   0,   0,   0,  33, 121, 108,  96, 100, 140,  71,\n",
              "        106, 127,  85, 140, 104, 150, 140, 114,  89,   0,   0,   0,   0,\n",
              "          0,   0],\n",
              "       [  0,   0,   0,   0,   0,   0,  62, 119, 112, 102, 110, 137,  75,\n",
              "        106, 144,  81, 144, 108, 117, 154, 117, 104,  18,   0,   0,   0,\n",
              "          0,   0],\n",
              "       [  0,   0,   0,   0,   0,   0,  66, 121, 102, 112, 117, 131,  73,\n",
              "        104, 156,  77, 137, 135,  83, 179, 129, 121,  35,   0,   0,   0,\n",
              "          0,   0],\n",
              "       [  0,   0,   0,   0,   0,   0,  85, 127,  81, 125, 133, 119,  79,\n",
              "        100, 169,  83, 129, 175,  60, 163, 135, 146,  39,   0,   0,   0,\n",
              "          0,   0],\n",
              "       [  0,   0,   0,   0,   0,   0, 106, 129,  62, 140, 144, 108,  85,\n",
              "         83, 158,  85, 129, 175,  48, 146, 133, 135,  64,   0,   0,   0,\n",
              "          0,   0],\n",
              "       [  0,   0,   0,   0,   0,   0, 117, 119,  79, 140, 152, 102,  89,\n",
              "        110, 137,  96, 150, 196,  83, 144, 135, 133,  77,   0,   0,   0,\n",
              "          0,   0],\n",
              "       [  0,   0,   0,   0,   0,   0, 154, 121,  87, 140, 154, 112,  94,\n",
              "         52, 142, 100,  83, 152,  85, 160, 133, 100,  12,   0,   0,   0,\n",
              "          0,   0],\n",
              "       [  0,   0,   0,   0,   0,   0,   4,   0,   2,   0,  35,   4,  33,\n",
              "          0,   0,   0,   0,   0,   0,   0,   0,   0,   0,   0,   0,   0,\n",
              "          0,   0]], dtype=uint8)"
            ]
          },
          "metadata": {
            "tags": []
          },
          "execution_count": 26
        }
      ]
    },
    {
      "cell_type": "markdown",
      "metadata": {
        "id": "z-cPRxZ5iKGZ"
      },
      "source": [
        "#*머신러닝"
      ]
    },
    {
      "cell_type": "code",
      "metadata": {
        "id": "nMvnJjM6eTi-"
      },
      "source": [
        "#퀵드로우 Quick, Draw\n",
        "#Teachable machine"
      ],
      "execution_count": 6,
      "outputs": []
    }
  ]
}