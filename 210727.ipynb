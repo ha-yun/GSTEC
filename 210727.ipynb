{
  "nbformat": 4,
  "nbformat_minor": 0,
  "metadata": {
    "colab": {
      "name": "210727.ipynb",
      "provenance": [],
      "collapsed_sections": [],
      "authorship_tag": "ABX9TyPursJbRtXw7TA59CB0Th8A",
      "include_colab_link": true
    },
    "kernelspec": {
      "name": "python3",
      "display_name": "Python 3"
    },
    "language_info": {
      "name": "python"
    }
  },
  "cells": [
    {
      "cell_type": "markdown",
      "metadata": {
        "id": "view-in-github",
        "colab_type": "text"
      },
      "source": [
        "<a href=\"https://colab.research.google.com/github/yun-aha/GSTEC/blob/main/210727.ipynb\" target=\"_parent\"><img src=\"https://colab.research.google.com/assets/colab-badge.svg\" alt=\"Open In Colab\"/></a>"
      ]
    },
    {
      "cell_type": "markdown",
      "metadata": {
        "id": "83X4cZ1eREok"
      },
      "source": [
        "# 1. 빅데이터 분석"
      ]
    },
    {
      "cell_type": "markdown",
      "metadata": {
        "id": "q5UuvKeQ7rwa"
      },
      "source": [
        "# 3. 웹 애플리케이션"
      ]
    },
    {
      "cell_type": "code",
      "metadata": {
        "id": "YiGoE-reE1CB"
      },
      "source": [
        "# profileapp/views.py\n",
        "class ProfileCreateView(CreateView):\n",
        "    model = Profile\n",
        "    form_class = ProfileCreationForm\n",
        "    success_url = reverse_lazy('accountapp:hello_world')\n",
        "    template_name = 'profileapp/create.html'\n",
        "\n",
        "    def form_valid(self, form):\n",
        "        form.instance.user = self.request.user\n",
        "        return super().form_valid(form)"
      ],
      "execution_count": null,
      "outputs": []
    },
    {
      "cell_type": "code",
      "metadata": {
        "id": "VV8HGR4JGv5Y"
      },
      "source": [
        "# accountapp/templates/accountapp/detail.html\n",
        "        <div>\n",
        "            {% if target_user.profile %}\n",
        "                <img src=\"{{ target_user.profile.image.url }}\"\n",
        "                     class=\"profile_image m-4\"\n",
        "                     alt=\"profile image\">\n",
        "            <h2 class=\"NNS_B\">\n",
        "                {{ target_user.profile.nickname }}\n",
        "                <a href=\"{% url 'profileapp:update' pk=target_user.profile.pk %}\">\n",
        "                    edit\n",
        "                </a>\n",
        "            </h2>\n",
        "                <h5 class=\"m-5\">{{ target_user.profile.message }}</h5>\n",
        "            {% else %}\n",
        "            <h2>\n",
        "                <a href=\"{% url 'profileapp:create' %}\">\n",
        "                    Create Profile\n",
        "                </a>\n",
        "            </h2>\n",
        "            {% endif %}\n",
        "        </div>"
      ],
      "execution_count": null,
      "outputs": []
    },
    {
      "cell_type": "markdown",
      "metadata": {
        "id": "ke2iXw9qRJqp"
      },
      "source": [
        "데이터베이스안엔 이미지의 경로만 들어간다.\n",
        "그래서 url경로를 추가해 준다.?\n",
        "gsweb의 media폴더 안에 gsweb의 urls.py에 image를 로드할 수 있도록 경로 만들어준기, 잘사용하진 않는다."
      ]
    },
    {
      "cell_type": "code",
      "metadata": {
        "id": "48ddD7MPHe7Q"
      },
      "source": [
        "# gsweb/urls.py\n",
        "urlpatterns = [\n",
        "    path('admin/', admin.site.urls),\n",
        "    path('accounts/',include('accountapp.urls')),\n",
        "    path('profiles/', include('profileapp.urls'))\n",
        "] + static(settings.MEDIA_URL, document_root=settings.MEDIA_ROOT)"
      ],
      "execution_count": null,
      "outputs": []
    },
    {
      "cell_type": "code",
      "metadata": {
        "id": "X8EIumm8HsuH"
      },
      "source": [
        "# static/base.css\n",
        ".profile_image{\n",
        "    height: 12rem;\n",
        "    width: 12rem;\n",
        "    border-radius: 20rem;\n",
        "    object-fit: cover;\n",
        "} \n",
        ".NNS_B{\n",
        "    font-family: \"NanumSquareB\", cursive;\n",
        "}"
      ],
      "execution_count": null,
      "outputs": []
    },
    {
      "cell_type": "code",
      "metadata": {
        "id": "cdndNxK2H6f3"
      },
      "source": [
        "# 디테일 창에 profileupdate버튼 edit만들기  \n",
        "# accountapp/templates/accountapp/detail.html\n",
        "            <h2 class=\"NNS_B\">\n",
        "                {{ target_user.profile.nickname }}\n",
        "                <a href=\"{% url 'profileapp:update' pk=target_user.profile.pk %}\">\n",
        "                    edit\n",
        "                </a>\n",
        "            </h2>"
      ],
      "execution_count": null,
      "outputs": []
    },
    {
      "cell_type": "markdown",
      "metadata": {
        "id": "UFStgpR1RJu4"
      },
      "source": [
        "Profileupdateview  \n",
        "image css  \n",
        "image link  \n",
        "image제출하고 데이터베이스확인, media폴더가 자동 생성됨  \n"
      ]
    },
    {
      "cell_type": "markdown",
      "metadata": {
        "id": "q18Emrk4RJtA"
      },
      "source": [
        "enctype=\"multipart/form-data\""
      ]
    },
    {
      "cell_type": "code",
      "metadata": {
        "id": "ZxzRzLunIIiQ"
      },
      "source": [
        "# profileapp/templates/profileapp/update.html\n",
        "{% extends 'base.html' %}\n",
        "{% load bootstrap4 %}\n",
        "\n",
        "\n",
        "{% block content %}\n",
        "\n",
        "    <div class=\"text-center mw-500 m-auto\">\n",
        "        <div>\n",
        "            <h4 class=\"m-5\"> Update Profile </h4>\n",
        "        </div>\n",
        "        <div>\n",
        "            <form action=\"{% url 'profileapp:update' pk=target_profile.pk %}\"\n",
        "                  enctype=\"multipart/form-data\" method=\"post\">\n",
        "                {% csrf_token %}\n",
        "                {% bootstrap_form form %}\n",
        "                <div class=\"m-5\">\n",
        "                    <input type=\"submit\" class=\"btn btn-dark rounded-pill px-5\">\n",
        "                </div>\n",
        "            </form>\n",
        "        </div>\n",
        "    </div>\n",
        "\n",
        "{% endblock %} "
      ],
      "execution_count": null,
      "outputs": []
    },
    {
      "cell_type": "code",
      "metadata": {
        "id": "fmuxrBsOIMA3"
      },
      "source": [
        "# profileapp/urls.py\n",
        "app_name = 'profileapp'\n",
        "\n",
        "urlpatterns = [\n",
        "    path('create/', ProfileCreateView.as_view(), name='create')\n",
        "    path('create/', ProfileCreateView.as_view(), name='create'),\n",
        "    path('update/<int:pk>', ProfileUpdateView.as_view(), name='update'),\n",
        "]"
      ],
      "execution_count": null,
      "outputs": []
    },
    {
      "cell_type": "code",
      "metadata": {
        "id": "QRIcRg-7ISdP"
      },
      "source": [
        "# profileapp/views.py\n",
        "class ProfileUpdateView(UpdateView):\n",
        "    model = Profile\n",
        "    context_object_name = 'target_profile'\n",
        "    form_class = ProfileCreationForm\n",
        "    success_url = reverse_lazy('accountapp:hello_world')\n",
        "    template_name = 'profileapp/update.html' "
      ],
      "execution_count": null,
      "outputs": []
    },
    {
      "cell_type": "markdown",
      "metadata": {
        "id": "6cDxg-jYRJw9"
      },
      "source": [
        "# 4. 알고리즘"
      ]
    },
    {
      "cell_type": "markdown",
      "metadata": {
        "id": "Hr2tHHc0H1Xu"
      },
      "source": [
        "원형 큐(Circular Queue)"
      ]
    },
    {
      "cell_type": "code",
      "metadata": {
        "id": "3ZYQtJHGRJyv",
        "colab": {
          "base_uri": "https://localhost:8080/"
        },
        "outputId": "9841e93f-ba46-43aa-c768-5fd07affe9dd"
      },
      "source": [
        "# 기존 큐를 원형 큐로 변경해보기\n",
        "class Queue:\n",
        "    def __init__(self):\n",
        "        self.array = [None for _ in range(5)]  # self.array = [None] * n\n",
        "        self.cnt = 0\n",
        "        self.f_idx = 0\n",
        "        self.b_idx = 0\n",
        "    \n",
        "    def push(self, num):\n",
        "        if self.cnt == len(self.array):\n",
        "          raise ValueError\n",
        "        push_n = self.b_idx\n",
        "        if push_n == len(self.array):\n",
        "          self.b_idx=0\n",
        "          push_n=self.b_idx\n",
        "        self.array[self.b_idx] = num\n",
        "        self.b_idx += 1\n",
        "        self.cnt += 1\n",
        "\n",
        "    def pop(self):\n",
        "        if self.is_empty():\n",
        "            return -1\n",
        "        else:\n",
        "          if self.f_idx==len(self.array):\n",
        "            self.f_idx=0\n",
        "        popp = self.array[self.f_idx]\n",
        "        self.f_idx+=1\n",
        "        self.cnt-=1\n",
        "        return popp\n",
        "\n",
        "    def size(self):\n",
        "        return self.cnt\n",
        "\n",
        "    def empty(self):\n",
        "        return int(self.is_empty())\n",
        "\n",
        "    def is_empty(self):\n",
        "        return self.size() == 0\n",
        "\n",
        "    def front(self):\n",
        "        if self.is_empty():\n",
        "            return -1\n",
        "        return self.array[self.f_idx]\n",
        "\n",
        "    def back(self):\n",
        "        if self.is_empty():\n",
        "            return -1\n",
        "        return self.array[self.b_idx-1]\n",
        "\n",
        "def run_cmd_with_queue(command, queue_obj):\n",
        "    cmd_type = command[0]\n",
        "\n",
        "    if cmd_type == \"push\":\n",
        "        _, num = command\n",
        "        queue_obj.push(int(num))\n",
        "    elif cmd_type == \"pop\":\n",
        "        print(queue_obj.pop())\n",
        "    elif cmd_type == \"size\":\n",
        "        print(queue_obj.size())\n",
        "    elif cmd_type == \"empty\":\n",
        "        print(queue_obj.empty())\n",
        "    elif cmd_type == \"front\":\n",
        "        print(queue_obj.front())\n",
        "    elif cmd_type == \"back\":\n",
        "        print(queue_obj.back())\n",
        "\n",
        "n = int(input())\n",
        "queue_obj = Queue()\n",
        "\n",
        "for _ in range(n):\n",
        "    run_cmd_with_queue(input().split(), queue_obj)"
      ],
      "execution_count": null,
      "outputs": [
        {
          "output_type": "stream",
          "text": [
            "15\n",
            "push 34\n",
            "push 5\n",
            "push 23\n",
            "push 6\n",
            "push 9\n",
            "pop\n",
            "34\n",
            "pop\n",
            "5\n",
            "pop\n",
            "23\n",
            "push 90\n",
            "push 100\n",
            "pop\n",
            "6\n",
            "pop\n",
            "9\n",
            "pop\n",
            "90\n",
            "pop\n",
            "100\n",
            "pop\n",
            "-1\n"
          ],
          "name": "stdout"
        }
      ]
    },
    {
      "cell_type": "code",
      "metadata": {
        "id": "zh9NRn-kERVB"
      },
      "source": [
        "# [..., 1,2,3,4, ...]\n",
        "class Queue:\n",
        "    def __init__(self, length):\n",
        "        self.array = [None for _ in range(length+1)]\n",
        "        self.f_idx = 0\n",
        "        self.b_idx = 0\n",
        "    \n",
        "    def push(self, num):\n",
        "        if self.is_full():\n",
        "            return -1\n",
        "        \n",
        "        self.array[self.b_idx] = num\n",
        "        self.b_idx = (self.b_idx + 1) % len(self.array)\n",
        "\n",
        "    def pop(self):\n",
        "        if self.is_empty():\n",
        "            return -1\n",
        "\n",
        "        self.f_idx = (self.f_idx + 1) % len(self.array)\n",
        "        last_val = self.array[self.f_idx-1]\n",
        "        self.array[self.f_idx-1] = None\n",
        "        return last_val\n",
        "\n",
        "    def size(self):\n",
        "        return (self.b_idx + len(self.array) - self.f_idx) % len(self.array)\n",
        "\n",
        "    def empty(self):\n",
        "        return int(self.is_empty())\n",
        "\n",
        "    def front(self):\n",
        "        if self.is_empty():\n",
        "            return -1\n",
        "\n",
        "        return self.array[self.f_idx]\n",
        "\n",
        "    def back(self):\n",
        "        if self.is_empty():\n",
        "            return -1\n",
        "\n",
        "        return self.array[self.b_idx-1]\n",
        "\n",
        "    def is_empty(self):\n",
        "        return self.size() == 0\n",
        "\n",
        "    def is_full(self):\n",
        "        # return self.size() == len(self.array)\n",
        "        return (self.b_idx + 1) % len(self.array) == self.f_idx\n",
        "\n",
        "def run_cmd_with_queue(command, queue_obj):\n",
        "    cmd_type = command[0]\n",
        "\n",
        "    if cmd_type == \"push\":\n",
        "        _, num = command\n",
        "        res = queue_obj.push(int(num))\n",
        "        \n",
        "        if res:\n",
        "            print(res)\n",
        "    elif cmd_type == \"pop\":\n",
        "        print(queue_obj.pop())\n",
        "    elif cmd_type == \"size\":\n",
        "        print(queue_obj.size())\n",
        "    elif cmd_type == \"empty\":\n",
        "        print(queue_obj.empty())\n",
        "    elif cmd_type == \"front\":\n",
        "        print(queue_obj.front())\n",
        "    elif cmd_type == \"back\":\n",
        "        print(queue_obj.back())\n",
        "\n",
        "n = int(input())\n",
        "queue_obj = Queue(4)\n",
        "\n",
        "for _ in range(n):\n",
        "    run_cmd_with_queue(input().split(), queue_obj)\n",
        "    print(f\"f_idx: {queue_obj.f_idx}\")\n",
        "    print(f\"b_idx: {queue_obj.b_idx}\")\n",
        "    print(f\"size: {queue_obj.size()}\")\n",
        "    print(queue_obj.array)"
      ],
      "execution_count": null,
      "outputs": []
    }
  ]
}