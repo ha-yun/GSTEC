{
  "nbformat": 4,
  "nbformat_minor": 0,
  "metadata": {
    "colab": {
      "name": "210715.ipynb",
      "provenance": [],
      "collapsed_sections": [],
      "authorship_tag": "ABX9TyNdkmRiIEsDwT7XFvHO7dtP",
      "include_colab_link": true
    },
    "kernelspec": {
      "name": "python3",
      "display_name": "Python 3"
    },
    "language_info": {
      "name": "python"
    }
  },
  "cells": [
    {
      "cell_type": "markdown",
      "metadata": {
        "id": "view-in-github",
        "colab_type": "text"
      },
      "source": [
        "<a href=\"https://colab.research.google.com/github/yun-aha/GSTEC/blob/main/210715.ipynb\" target=\"_parent\"><img src=\"https://colab.research.google.com/assets/colab-badge.svg\" alt=\"Open In Colab\"/></a>"
      ]
    },
    {
      "cell_type": "markdown",
      "metadata": {
        "id": "VKtgpPKO5Nu9"
      },
      "source": [
        "# 1. 웹 애플리케이션"
      ]
    },
    {
      "cell_type": "code",
      "metadata": {
        "id": "3dwHRe2mdzmt"
      },
      "source": [
        ""
      ],
      "execution_count": null,
      "outputs": []
    },
    {
      "cell_type": "markdown",
      "metadata": {
        "id": "3fjo9_yW5OKM"
      },
      "source": [
        "# 2. 알고리즘"
      ]
    },
    {
      "cell_type": "code",
      "metadata": {
        "id": "aXRvKcxF5O4g"
      },
      "source": [
        ""
      ],
      "execution_count": null,
      "outputs": []
    },
    {
      "cell_type": "markdown",
      "metadata": {
        "id": "EaK3kMsX5PUf"
      },
      "source": [
        "# 3. 딥러닝 & 강화학습"
      ]
    },
    {
      "cell_type": "code",
      "metadata": {
        "id": "ecWa9lkM5Plg"
      },
      "source": [
        "import tensorflow as tf\n",
        "import numpy as np\n",
        "import pandas as pd\n",
        "import matplotlib.pyplot as plt"
      ],
      "execution_count": null,
      "outputs": []
    },
    {
      "cell_type": "code",
      "metadata": {
        "colab": {
          "base_uri": "https://localhost:8080/",
          "height": 295
        },
        "id": "SlxJ19IyqR79",
        "outputId": "dccb13f4-b151-4ebc-89ee-0c0323597e9d"
      },
      "source": [
        "df = pd.read_csv('/content/abalone.csv')\n",
        "df.describe()"
      ],
      "execution_count": null,
      "outputs": [
        {
          "output_type": "execute_result",
          "data": {
            "text/html": [
              "<div>\n",
              "<style scoped>\n",
              "    .dataframe tbody tr th:only-of-type {\n",
              "        vertical-align: middle;\n",
              "    }\n",
              "\n",
              "    .dataframe tbody tr th {\n",
              "        vertical-align: top;\n",
              "    }\n",
              "\n",
              "    .dataframe thead th {\n",
              "        text-align: right;\n",
              "    }\n",
              "</style>\n",
              "<table border=\"1\" class=\"dataframe\">\n",
              "  <thead>\n",
              "    <tr style=\"text-align: right;\">\n",
              "      <th></th>\n",
              "      <th>Length</th>\n",
              "      <th>Diameter</th>\n",
              "      <th>Height</th>\n",
              "      <th>Whole weight</th>\n",
              "      <th>Shucked weight</th>\n",
              "      <th>Viscera weight</th>\n",
              "      <th>Shell weight</th>\n",
              "      <th>Rings</th>\n",
              "    </tr>\n",
              "  </thead>\n",
              "  <tbody>\n",
              "    <tr>\n",
              "      <th>count</th>\n",
              "      <td>4177.000000</td>\n",
              "      <td>4177.000000</td>\n",
              "      <td>4177.000000</td>\n",
              "      <td>4177.000000</td>\n",
              "      <td>4177.000000</td>\n",
              "      <td>4177.000000</td>\n",
              "      <td>4177.000000</td>\n",
              "      <td>4177.000000</td>\n",
              "    </tr>\n",
              "    <tr>\n",
              "      <th>mean</th>\n",
              "      <td>0.523992</td>\n",
              "      <td>0.407881</td>\n",
              "      <td>0.139516</td>\n",
              "      <td>0.828742</td>\n",
              "      <td>0.359367</td>\n",
              "      <td>0.180594</td>\n",
              "      <td>0.238831</td>\n",
              "      <td>9.933684</td>\n",
              "    </tr>\n",
              "    <tr>\n",
              "      <th>std</th>\n",
              "      <td>0.120093</td>\n",
              "      <td>0.099240</td>\n",
              "      <td>0.041827</td>\n",
              "      <td>0.490389</td>\n",
              "      <td>0.221963</td>\n",
              "      <td>0.109614</td>\n",
              "      <td>0.139203</td>\n",
              "      <td>3.224169</td>\n",
              "    </tr>\n",
              "    <tr>\n",
              "      <th>min</th>\n",
              "      <td>0.075000</td>\n",
              "      <td>0.055000</td>\n",
              "      <td>0.000000</td>\n",
              "      <td>0.002000</td>\n",
              "      <td>0.001000</td>\n",
              "      <td>0.000500</td>\n",
              "      <td>0.001500</td>\n",
              "      <td>1.000000</td>\n",
              "    </tr>\n",
              "    <tr>\n",
              "      <th>25%</th>\n",
              "      <td>0.450000</td>\n",
              "      <td>0.350000</td>\n",
              "      <td>0.115000</td>\n",
              "      <td>0.441500</td>\n",
              "      <td>0.186000</td>\n",
              "      <td>0.093500</td>\n",
              "      <td>0.130000</td>\n",
              "      <td>8.000000</td>\n",
              "    </tr>\n",
              "    <tr>\n",
              "      <th>50%</th>\n",
              "      <td>0.545000</td>\n",
              "      <td>0.425000</td>\n",
              "      <td>0.140000</td>\n",
              "      <td>0.799500</td>\n",
              "      <td>0.336000</td>\n",
              "      <td>0.171000</td>\n",
              "      <td>0.234000</td>\n",
              "      <td>9.000000</td>\n",
              "    </tr>\n",
              "    <tr>\n",
              "      <th>75%</th>\n",
              "      <td>0.615000</td>\n",
              "      <td>0.480000</td>\n",
              "      <td>0.165000</td>\n",
              "      <td>1.153000</td>\n",
              "      <td>0.502000</td>\n",
              "      <td>0.253000</td>\n",
              "      <td>0.329000</td>\n",
              "      <td>11.000000</td>\n",
              "    </tr>\n",
              "    <tr>\n",
              "      <th>max</th>\n",
              "      <td>0.815000</td>\n",
              "      <td>0.650000</td>\n",
              "      <td>1.130000</td>\n",
              "      <td>2.825500</td>\n",
              "      <td>1.488000</td>\n",
              "      <td>0.760000</td>\n",
              "      <td>1.005000</td>\n",
              "      <td>29.000000</td>\n",
              "    </tr>\n",
              "  </tbody>\n",
              "</table>\n",
              "</div>"
            ],
            "text/plain": [
              "            Length     Diameter  ...  Shell weight        Rings\n",
              "count  4177.000000  4177.000000  ...   4177.000000  4177.000000\n",
              "mean      0.523992     0.407881  ...      0.238831     9.933684\n",
              "std       0.120093     0.099240  ...      0.139203     3.224169\n",
              "min       0.075000     0.055000  ...      0.001500     1.000000\n",
              "25%       0.450000     0.350000  ...      0.130000     8.000000\n",
              "50%       0.545000     0.425000  ...      0.234000     9.000000\n",
              "75%       0.615000     0.480000  ...      0.329000    11.000000\n",
              "max       0.815000     0.650000  ...      1.005000    29.000000\n",
              "\n",
              "[8 rows x 8 columns]"
            ]
          },
          "metadata": {
            "tags": []
          },
          "execution_count": 5
        }
      ]
    },
    {
      "cell_type": "markdown",
      "metadata": {
        "id": "gcUwZ-5pq2sa"
      },
      "source": [
        "한 가지 문제를 두가지 신경망으로 풀어보자."
      ]
    },
    {
      "cell_type": "code",
      "metadata": {
        "id": "u5PPdhWNqR-r"
      },
      "source": [
        "import csv\n",
        "with open('/content/abalone.csv') as csvfile:\n",
        "  csvreader = csv.reader(csvfile)\n",
        "  next(csvreader) #첫번째 줄에 변수명, next로 넘기면 데이터부터 받을수 있다.\n",
        "\n",
        "  rows = []\n",
        "  for row in csvreader:\n",
        "    rows.append(row)"
      ],
      "execution_count": null,
      "outputs": []
    },
    {
      "cell_type": "code",
      "metadata": {
        "colab": {
          "base_uri": "https://localhost:8080/"
        },
        "id": "oxDDI4r_qSAn",
        "outputId": "3e4801a1-97ca-47e7-da60-0d39621901ef"
      },
      "source": [
        "rows[:5]"
      ],
      "execution_count": null,
      "outputs": [
        {
          "output_type": "execute_result",
          "data": {
            "text/plain": [
              "[['M', '0.455', '0.365', '0.095', '0.514', '0.2245', '0.101', '0.15', '15'],\n",
              " ['M', '0.35', '0.265', '0.09', '0.2255', '0.0995', '0.0485', '0.07', '7'],\n",
              " ['F', '0.53', '0.42', '0.135', '0.677', '0.2565', '0.1415', '0.21', '9'],\n",
              " ['M', '0.44', '0.365', '0.125', '0.516', '0.2155', '0.114', '0.155', '10'],\n",
              " ['I', '0.33', '0.255', '0.08', '0.205', '0.0895', '0.0395', '0.055', '7']]"
            ]
          },
          "metadata": {
            "tags": []
          },
          "execution_count": 7
        }
      ]
    },
    {
      "cell_type": "code",
      "metadata": {
        "colab": {
          "base_uri": "https://localhost:8080/"
        },
        "id": "26X3BfuGqSCg",
        "outputId": "648f84da-0061-4c30-dac5-8a09dc0275de"
      },
      "source": [
        "input_cnt = 10\n",
        "output_cnt = 1\n",
        "data = np.zeros([len(rows), input_cnt + output_cnt])\n",
        "\n",
        "print(data.shape)"
      ],
      "execution_count": null,
      "outputs": [
        {
          "output_type": "stream",
          "text": [
            "(4177, 11)\n"
          ],
          "name": "stdout"
        }
      ]
    },
    {
      "cell_type": "code",
      "metadata": {
        "id": "FlGrRX9JqSGl"
      },
      "source": [
        "# 원핫벡터\n",
        "for n, row in enumerate(rows):\n",
        "  if row[0] == 'M' : data[n, 0] = 1\n",
        "  if row[0] == 'F' : data[n, 1] = 1\n",
        "  if row[0] == 'I' : data[n, 2] = 1\n",
        "  data[n, 3 : ] = row[1:]"
      ],
      "execution_count": null,
      "outputs": []
    },
    {
      "cell_type": "code",
      "metadata": {
        "colab": {
          "base_uri": "https://localhost:8080/"
        },
        "id": "21clkbKuNi0V",
        "outputId": "ad1e76c6-8e0a-41d0-a24b-dfe95d237c15"
      },
      "source": [
        "data[:5]"
      ],
      "execution_count": null,
      "outputs": [
        {
          "output_type": "execute_result",
          "data": {
            "text/plain": [
              "array([[ 1.    ,  0.    ,  0.    ,  0.455 ,  0.365 ,  0.095 ,  0.514 ,\n",
              "         0.2245,  0.101 ,  0.15  , 15.    ],\n",
              "       [ 1.    ,  0.    ,  0.    ,  0.35  ,  0.265 ,  0.09  ,  0.2255,\n",
              "         0.0995,  0.0485,  0.07  ,  7.    ],\n",
              "       [ 0.    ,  1.    ,  0.    ,  0.53  ,  0.42  ,  0.135 ,  0.677 ,\n",
              "         0.2565,  0.1415,  0.21  ,  9.    ],\n",
              "       [ 1.    ,  0.    ,  0.    ,  0.44  ,  0.365 ,  0.125 ,  0.516 ,\n",
              "         0.2155,  0.114 ,  0.155 , 10.    ],\n",
              "       [ 0.    ,  0.    ,  1.    ,  0.33  ,  0.255 ,  0.08  ,  0.205 ,\n",
              "         0.0895,  0.0395,  0.055 ,  7.    ]])"
            ]
          },
          "metadata": {
            "tags": []
          },
          "execution_count": 10
        }
      ]
    },
    {
      "cell_type": "code",
      "metadata": {
        "colab": {
          "base_uri": "https://localhost:8080/"
        },
        "id": "PlNMFk7VNi5J",
        "outputId": "6c2b0fa7-8ae2-4d25-c7c5-c6f8dc99afe4"
      },
      "source": [
        "train_ratio = 0.85 \n",
        "test_begin_index = int(data.shape[0] * train_ratio)\n",
        "print(test_begin_index)\n",
        "\n",
        "#shuffle\n",
        "shuffle_map = np.arange(data.shape[0])\n",
        "np.random.shuffle(shuffle_map)\n",
        "shuffle_map[:5]"
      ],
      "execution_count": null,
      "outputs": [
        {
          "output_type": "stream",
          "text": [
            "3550\n"
          ],
          "name": "stdout"
        },
        {
          "output_type": "execute_result",
          "data": {
            "text/plain": [
              "array([1227, 2184, 3152, 3347, 1368])"
            ]
          },
          "metadata": {
            "tags": []
          },
          "execution_count": 11
        }
      ]
    },
    {
      "cell_type": "code",
      "metadata": {
        "id": "ZuCkDYT7te5e"
      },
      "source": [
        "train_data = data[shuffle_map[ : test_begin_index]]\n",
        "test_data = data[shuffle_map[test_begin_index : ]]"
      ],
      "execution_count": null,
      "outputs": []
    },
    {
      "cell_type": "code",
      "metadata": {
        "colab": {
          "base_uri": "https://localhost:8080/"
        },
        "id": "1FQfWHrltfZW",
        "outputId": "5c506b58-af44-4c55-b182-3eba1c879547"
      },
      "source": [
        "print(data[:3])\n",
        "print('-----------------------------')\n",
        "print(train_data[:3])   #값이 잘 섞인 걸 확인할 수 있다."
      ],
      "execution_count": null,
      "outputs": [
        {
          "output_type": "stream",
          "text": [
            "[[ 1.      0.      0.      0.455   0.365   0.095   0.514   0.2245  0.101\n",
            "   0.15   15.    ]\n",
            " [ 1.      0.      0.      0.35    0.265   0.09    0.2255  0.0995  0.0485\n",
            "   0.07    7.    ]\n",
            " [ 0.      1.      0.      0.53    0.42    0.135   0.677   0.2565  0.1415\n",
            "   0.21    9.    ]]\n",
            "-----------------------------\n",
            "[[ 0.      0.      1.      0.35    0.255   0.09    0.1785  0.0855  0.0305\n",
            "   0.0525  8.    ]\n",
            " [ 0.      0.      1.      0.32    0.235   0.08    0.1485  0.064   0.031\n",
            "   0.045   6.    ]\n",
            " [ 0.      1.      0.      0.47    0.375   0.105   0.513   0.232   0.142\n",
            "   0.13   11.    ]]\n"
          ],
          "name": "stdout"
        }
      ]
    },
    {
      "cell_type": "code",
      "metadata": {
        "colab": {
          "base_uri": "https://localhost:8080/"
        },
        "id": "mxyG4P3GNi95",
        "outputId": "cbd42daa-dfe7-479b-8883-478fb76d1202"
      },
      "source": [
        "#독립과 종속으로 바꿔준다.\n",
        "train_X, train_Y = train_data[:, :-output_cnt], train_data[:, -output_cnt : ]\n",
        "test_X, test_Y = test_data[:, :-output_cnt], test_data[:, -output_cnt : ]\n",
        "\n",
        "print(train_X.shape)\n",
        "print(train_Y.shape)\n",
        "print(test_X.shape)\n",
        "print(test_Y.shape)"
      ],
      "execution_count": null,
      "outputs": [
        {
          "output_type": "stream",
          "text": [
            "(3550, 10)\n",
            "(3550, 1)\n",
            "(627, 10)\n",
            "(627, 1)\n"
          ],
          "name": "stdout"
        }
      ]
    },
    {
      "cell_type": "code",
      "metadata": {
        "colab": {
          "base_uri": "https://localhost:8080/"
        },
        "id": "LscRBlI_uoFd",
        "outputId": "0864313c-3e9a-413d-cae2-7fa88a5f077e"
      },
      "source": [
        "train_X_mean = np.mean(train_X, axis=0)\n",
        "train_X_std = train_X.std(axis = 0)\n",
        "\n",
        "print(train_X_mean)\n",
        "print('===============================')\n",
        "print(train_X_std)"
      ],
      "execution_count": null,
      "outputs": [
        {
          "output_type": "stream",
          "text": [
            "[0.36084507 0.31915493 0.32       0.52389014 0.40790845 0.13927324\n",
            " 0.82894268 0.3590538  0.18055577 0.23863282]\n",
            "===============================\n",
            "[0.48024567 0.46614918 0.46647615 0.12030856 0.09945987 0.03899648\n",
            " 0.49043808 0.2218251  0.10973542 0.13880132]\n"
          ],
          "name": "stdout"
        }
      ]
    },
    {
      "cell_type": "code",
      "metadata": {
        "id": "zR3Q6LODwIiA"
      },
      "source": [
        "train_X -= train_X_mean\n",
        "train_X /= train_X_std\n",
        "\n",
        "test_X -= train_X_mean\n",
        "test_X /= train_X_std"
      ],
      "execution_count": null,
      "outputs": []
    },
    {
      "cell_type": "code",
      "metadata": {
        "id": "ySjCjwisxK_a"
      },
      "source": [
        "GJ_NET_MODEL_V1 = tf.keras.Sequential([\n",
        "                                       tf.keras.layers.Dense(units=10, activation = 'elu',\n",
        "                                                             input_shape = (10,)),\n",
        "                                       tf.keras.layers.Dense(units=24, activation='elu',),\n",
        "                                       tf.keras.layers.Dense(units=36, activation='elu'),\n",
        "                                       tf.keras.layers.Dense(units=1)\n",
        "])"
      ],
      "execution_count": null,
      "outputs": []
    },
    {
      "cell_type": "code",
      "metadata": {
        "id": "AcHV43RMxKtS"
      },
      "source": [
        "GJ_NET_MODEL_V1.compile(optimizer=tf.keras.optimizers.Adam(0.001), loss = 'mse')"
      ],
      "execution_count": null,
      "outputs": []
    },
    {
      "cell_type": "code",
      "metadata": {
        "colab": {
          "base_uri": "https://localhost:8080/"
        },
        "id": "35u4hHDmuoHd",
        "outputId": "9f738546-5770-499f-bb01-1e5198370a83"
      },
      "source": [
        "history_1 = GJ_NET_MODEL_V1.fit(train_X, train_Y, epochs = 25, batch_size = 32, validation_split = 0.2)"
      ],
      "execution_count": null,
      "outputs": [
        {
          "output_type": "stream",
          "text": [
            "Epoch 1/25\n",
            "89/89 [==============================] - 1s 3ms/step - loss: 19.7178 - val_loss: 8.5477\n",
            "Epoch 2/25\n",
            "89/89 [==============================] - 0s 2ms/step - loss: 8.6039 - val_loss: 7.9531\n",
            "Epoch 3/25\n",
            "89/89 [==============================] - 0s 2ms/step - loss: 8.1363 - val_loss: 7.5620\n",
            "Epoch 4/25\n",
            "89/89 [==============================] - 0s 2ms/step - loss: 8.3399 - val_loss: 7.2978\n",
            "Epoch 5/25\n",
            "89/89 [==============================] - 0s 2ms/step - loss: 7.6479 - val_loss: 7.0339\n",
            "Epoch 6/25\n",
            "89/89 [==============================] - 0s 2ms/step - loss: 7.3460 - val_loss: 6.8169\n",
            "Epoch 7/25\n",
            "89/89 [==============================] - 0s 2ms/step - loss: 7.0251 - val_loss: 6.5423\n",
            "Epoch 8/25\n",
            "89/89 [==============================] - 0s 2ms/step - loss: 6.7971 - val_loss: 6.7611\n",
            "Epoch 9/25\n",
            "89/89 [==============================] - 0s 2ms/step - loss: 6.5509 - val_loss: 6.2017\n",
            "Epoch 10/25\n",
            "89/89 [==============================] - 0s 2ms/step - loss: 6.3978 - val_loss: 5.9794\n",
            "Epoch 11/25\n",
            "89/89 [==============================] - 0s 2ms/step - loss: 6.1949 - val_loss: 5.7629\n",
            "Epoch 12/25\n",
            "89/89 [==============================] - 0s 1ms/step - loss: 6.0254 - val_loss: 5.5990\n",
            "Epoch 13/25\n",
            "89/89 [==============================] - 0s 2ms/step - loss: 6.0014 - val_loss: 6.6727\n",
            "Epoch 14/25\n",
            "89/89 [==============================] - 0s 2ms/step - loss: 5.8716 - val_loss: 5.2864\n",
            "Epoch 15/25\n",
            "89/89 [==============================] - 0s 2ms/step - loss: 5.7761 - val_loss: 5.4379\n",
            "Epoch 16/25\n",
            "89/89 [==============================] - 0s 2ms/step - loss: 5.7816 - val_loss: 5.1950\n",
            "Epoch 17/25\n",
            "89/89 [==============================] - 0s 2ms/step - loss: 5.5908 - val_loss: 5.5058\n",
            "Epoch 18/25\n",
            "89/89 [==============================] - 0s 2ms/step - loss: 5.6244 - val_loss: 5.4158\n",
            "Epoch 19/25\n",
            "89/89 [==============================] - 0s 2ms/step - loss: 5.3750 - val_loss: 4.9623\n",
            "Epoch 20/25\n",
            "89/89 [==============================] - 0s 2ms/step - loss: 5.1606 - val_loss: 5.4348\n",
            "Epoch 21/25\n",
            "89/89 [==============================] - 0s 2ms/step - loss: 5.3469 - val_loss: 5.1996\n",
            "Epoch 22/25\n",
            "89/89 [==============================] - 0s 2ms/step - loss: 5.1995 - val_loss: 4.8771\n",
            "Epoch 23/25\n",
            "89/89 [==============================] - 0s 2ms/step - loss: 5.0454 - val_loss: 5.1656\n",
            "Epoch 24/25\n",
            "89/89 [==============================] - 0s 2ms/step - loss: 5.1531 - val_loss: 4.7704\n",
            "Epoch 25/25\n",
            "89/89 [==============================] - 0s 2ms/step - loss: 4.9457 - val_loss: 4.8430\n"
          ],
          "name": "stdout"
        }
      ]
    },
    {
      "cell_type": "code",
      "metadata": {
        "colab": {
          "base_uri": "https://localhost:8080/",
          "height": 279
        },
        "id": "yNNEGuyguoJN",
        "outputId": "846a109d-3cc2-4f9d-e452-840d2f59fe98"
      },
      "source": [
        "plt.plot(history_1.history['loss'], '--o', color='red', label = 'Train_loss')\n",
        "plt.plot(history_1.history['val_loss'], '-o', color='blue', label = 'Val_loss')\n",
        "\n",
        "plt.xlabel('Epochs')\n",
        "plt.ylabel('Loss')\n",
        "plt.grid()\n",
        "plt.legend()\n",
        "plt.show()"
      ],
      "execution_count": null,
      "outputs": [
        {
          "output_type": "display_data",
          "data": {
            "image/png": "[encoded data removed]",
            "text/plain": [
              "<Figure size 432x288 with 1 Axes>"
            ]
          },
          "metadata": {
            "tags": [],
            "needs_background": "light"
          }
        }
      ]
    },
    {
      "cell_type": "code",
      "metadata": {
        "colab": {
          "base_uri": "https://localhost:8080/"
        },
        "id": "kHaMEsiWuoLc",
        "outputId": "5347fa05-a3c5-40ff-aafa-ac7986a7cc2d"
      },
      "source": [
        "pred_Y = GJ_NET_MODEL_V1.predict(test_X)\n",
        "print(pred_Y[:10])"
      ],
      "execution_count": null,
      "outputs": [
        {
          "output_type": "stream",
          "text": [
            "[[ 8.662142 ]\n",
            " [ 4.032856 ]\n",
            " [ 3.2747471]\n",
            " [ 4.366994 ]\n",
            " [ 7.301372 ]\n",
            " [-0.3708992]\n",
            " [ 8.78134  ]\n",
            " [ 9.175491 ]\n",
            " [ 2.5747936]\n",
            " [ 2.2045414]]\n"
          ],
          "name": "stdout"
        }
      ]
    },
    {
      "cell_type": "code",
      "metadata": {
        "colab": {
          "base_uri": "https://localhost:8080/"
        },
        "id": "8gyViACG1FFY",
        "outputId": "1afafb85-bded-4cc3-cc9d-87b160127987"
      },
      "source": [
        "test_Y[:10]"
      ],
      "execution_count": null,
      "outputs": [
        {
          "output_type": "execute_result",
          "data": {
            "text/plain": [
              "array([[ 5.],\n",
              "       [ 9.],\n",
              "       [16.],\n",
              "       [15.],\n",
              "       [11.],\n",
              "       [10.],\n",
              "       [ 5.],\n",
              "       [ 7.],\n",
              "       [16.],\n",
              "       [10.]])"
            ]
          },
          "metadata": {
            "tags": []
          },
          "execution_count": 87
        }
      ]
    },
    {
      "cell_type": "code",
      "metadata": {
        "colab": {
          "base_uri": "https://localhost:8080/",
          "height": 265
        },
        "id": "wQfq6jo01FKt",
        "outputId": "bba7f889-bbe8-43b7-9517-fa9b7240b119"
      },
      "source": [
        "plt.plot(pred_Y[:], 'o', color = 'red', label = 'Pred_Y')\n",
        "plt.plot(test_Y[:], '+', color = 'blue', label = 'Test_Y')\n",
        "\n",
        "plt.legend()\n",
        "plt.grid()\n",
        "plt.show()"
      ],
      "execution_count": null,
      "outputs": [
        {
          "output_type": "display_data",
          "data": {
            "image/png": "[encoded data removed]",
            "text/plain": [
              "<Figure size 432x288 with 1 Axes>"
            ]
          },
          "metadata": {
            "tags": [],
            "needs_background": "light"
          }
        }
      ]
    },
    {
      "cell_type": "code",
      "metadata": {
        "colab": {
          "base_uri": "https://localhost:8080/"
        },
        "id": "76zUAXxd1Ske",
        "outputId": "9bfff569-ec72-4bba-f71e-09191b2e2975"
      },
      "source": [
        "acc = 1 - np.mean(np.abs((pred_Y - test_Y) / test_Y))\n",
        "print('GJ_NET_MODEL_V1 - ACC : {}%'.format(np.round(acc*100,3)))"
      ],
      "execution_count": null,
      "outputs": [
        {
          "output_type": "stream",
          "text": [
            "GJ_NET_MODEL_V1 - ACC : 43.746%\n"
          ],
          "name": "stdout"
        }
      ]
    },
    {
      "cell_type": "code",
      "metadata": {
        "id": "hHVJd4Sd1Sm9"
      },
      "source": [
        "# 두번째 모델\n",
        "GJ_NET_MODEL_V2 = tf.keras.Sequential([\n",
        "                                       tf.keras.layers.Dense(units=1, input_shape = (10,))\n",
        "])"
      ],
      "execution_count": null,
      "outputs": []
    },
    {
      "cell_type": "code",
      "metadata": {
        "colab": {
          "base_uri": "https://localhost:8080/"
        },
        "id": "9shZeVf01Spr",
        "outputId": "d8df8bf5-abf5-4409-ee68-6656e914c40a"
      },
      "source": [
        "GJ_NET_MODEL_V2.summary()"
      ],
      "execution_count": null,
      "outputs": [
        {
          "output_type": "stream",
          "text": [
            "Model: \"sequential\"\n",
            "_________________________________________________________________\n",
            "Layer (type)                 Output Shape              Param #   \n",
            "=================================================================\n",
            "dense (Dense)                (None, 1)                 11        \n",
            "=================================================================\n",
            "Total params: 11\n",
            "Trainable params: 11\n",
            "Non-trainable params: 0\n",
            "_________________________________________________________________\n"
          ],
          "name": "stdout"
        }
      ]
    },
    {
      "cell_type": "code",
      "metadata": {
        "id": "jYTZKqBy1SsS"
      },
      "source": [
        "GJ_NET_MODEL_V2.compile(optimizer=tf.keras.optimizers.Adam(learning_rate=0.07),\n",
        "                        loss='mse')"
      ],
      "execution_count": null,
      "outputs": []
    },
    {
      "cell_type": "code",
      "metadata": {
        "colab": {
          "base_uri": "https://localhost:8080/"
        },
        "id": "AGJzRsuT1SuN",
        "outputId": "45b0187a-0267-41bc-9950-c99682dcb8ee"
      },
      "source": [
        "history_2 = GJ_NET_MODEL_V2.fit(train_X, train_Y, epochs=200, batch_size=32, \n",
        "                    validation_split = 0.2,\n",
        "                    callbacks = [tf.keras.callbacks.EarlyStopping(patience=5, monitor='val_loss')])   #callback"
      ],
      "execution_count": null,
      "outputs": [
        {
          "output_type": "stream",
          "text": [
            "Epoch 1/200\n",
            "89/89 [==============================] - 0s 2ms/step - loss: 59.3882 - val_loss: 25.6335\n",
            "Epoch 2/200\n",
            "89/89 [==============================] - 0s 1ms/step - loss: 13.7169 - val_loss: 7.2722\n",
            "Epoch 3/200\n",
            "89/89 [==============================] - 0s 1ms/step - loss: 5.7517 - val_loss: 5.1246\n",
            "Epoch 4/200\n",
            "89/89 [==============================] - 0s 1ms/step - loss: 4.9799 - val_loss: 5.0813\n",
            "Epoch 5/200\n",
            "89/89 [==============================] - 0s 1ms/step - loss: 4.9223 - val_loss: 5.0350\n",
            "Epoch 6/200\n",
            "89/89 [==============================] - 0s 1ms/step - loss: 4.8844 - val_loss: 4.9704\n",
            "Epoch 7/200\n",
            "89/89 [==============================] - 0s 1ms/step - loss: 4.8834 - val_loss: 4.9123\n",
            "Epoch 8/200\n",
            "89/89 [==============================] - 0s 1ms/step - loss: 4.8657 - val_loss: 4.9675\n",
            "Epoch 9/200\n",
            "89/89 [==============================] - 0s 1ms/step - loss: 4.8623 - val_loss: 5.0543\n",
            "Epoch 10/200\n",
            "89/89 [==============================] - 0s 1ms/step - loss: 4.8867 - val_loss: 4.9688\n",
            "Epoch 11/200\n",
            "89/89 [==============================] - 0s 1ms/step - loss: 4.8776 - val_loss: 5.3304\n",
            "Epoch 12/200\n",
            "89/89 [==============================] - 0s 1ms/step - loss: 4.8974 - val_loss: 4.9573\n"
          ],
          "name": "stdout"
        }
      ]
    },
    {
      "cell_type": "code",
      "metadata": {
        "colab": {
          "base_uri": "https://localhost:8080/",
          "height": 279
        },
        "id": "UX6Id6j381Ot",
        "outputId": "bdf7f8e6-6b42-4b06-bb5c-6183d5a6c193"
      },
      "source": [
        "plt.plot(history_2.history['loss'], '--o', color='red', label = 'Train_loss')\n",
        "plt.plot(history_2.history['val_loss'], '-o', color='blue', label = 'Val_loss')\n",
        "\n",
        "plt.xlabel('Epochs')\n",
        "plt.ylabel('Loss')\n",
        "plt.grid()\n",
        "plt.legend()\n",
        "plt.show()"
      ],
      "execution_count": null,
      "outputs": [
        {
          "output_type": "display_data",
          "data": {
            "image/png": "[encoded data removed]",
            "text/plain": [
              "<Figure size 432x288 with 1 Axes>"
            ]
          },
          "metadata": {
            "tags": [],
            "needs_background": "light"
          }
        }
      ]
    },
    {
      "cell_type": "code",
      "metadata": {
        "colab": {
          "base_uri": "https://localhost:8080/"
        },
        "id": "64px2VP39lY5",
        "outputId": "50dc68ac-2e39-4eb5-bbc0-1ef4597ba2c3"
      },
      "source": [
        "pred_Y = GJ_NET_MODEL_V2.predict(test_X)\n",
        "print(pred_Y)"
      ],
      "execution_count": null,
      "outputs": [
        {
          "output_type": "stream",
          "text": [
            "[[11.760226 ]\n",
            " [12.296811 ]\n",
            " [10.54259  ]\n",
            " [10.613627 ]\n",
            " [10.326401 ]\n",
            " [13.947557 ]\n",
            " [13.061728 ]\n",
            " [14.193848 ]\n",
            " [ 9.802733 ]\n",
            " [10.376738 ]\n",
            " [12.130163 ]\n",
            " [ 8.824293 ]\n",
            " [14.445898 ]\n",
            " [ 8.515726 ]\n",
            " [11.866047 ]\n",
            " [ 8.539649 ]\n",
            " [11.072344 ]\n",
            " [ 6.5218487]\n",
            " [ 7.0113173]\n",
            " [11.066566 ]\n",
            " [ 7.950446 ]\n",
            " [ 8.674992 ]\n",
            " [13.933234 ]\n",
            " [ 6.946416 ]\n",
            " [ 7.8639536]\n",
            " [11.371831 ]\n",
            " [ 7.5351515]\n",
            " [11.583871 ]\n",
            " [12.4999695]\n",
            " [13.599901 ]\n",
            " [ 6.771887 ]\n",
            " [13.164536 ]\n",
            " [11.098476 ]\n",
            " [16.481808 ]\n",
            " [ 7.108638 ]\n",
            " [ 4.4593906]\n",
            " [ 7.087635 ]\n",
            " [12.275008 ]\n",
            " [ 9.835549 ]\n",
            " [ 6.7161546]\n",
            " [ 9.179012 ]\n",
            " [14.093798 ]\n",
            " [13.439475 ]\n",
            " [11.76403  ]\n",
            " [11.250362 ]\n",
            " [ 5.64628  ]\n",
            " [10.286616 ]\n",
            " [ 9.208004 ]\n",
            " [ 9.71099  ]\n",
            " [12.017889 ]\n",
            " [13.772597 ]\n",
            " [ 8.702236 ]\n",
            " [10.021819 ]\n",
            " [ 9.301405 ]\n",
            " [ 9.753757 ]\n",
            " [10.518934 ]\n",
            " [ 8.134783 ]\n",
            " [11.867807 ]\n",
            " [14.857495 ]\n",
            " [ 9.813923 ]\n",
            " [10.099431 ]\n",
            " [ 7.5538597]\n",
            " [11.256468 ]\n",
            " [12.578787 ]\n",
            " [10.6323595]\n",
            " [ 6.5182457]\n",
            " [10.985527 ]\n",
            " [10.033972 ]\n",
            " [10.002719 ]\n",
            " [ 8.878775 ]\n",
            " [ 9.956348 ]\n",
            " [ 8.403646 ]\n",
            " [ 9.494723 ]\n",
            " [11.861526 ]\n",
            " [17.323849 ]\n",
            " [12.668269 ]\n",
            " [10.891855 ]\n",
            " [10.545731 ]\n",
            " [ 8.321059 ]\n",
            " [11.035403 ]\n",
            " [ 9.207118 ]\n",
            " [ 5.9590297]\n",
            " [ 9.394417 ]\n",
            " [ 9.295507 ]\n",
            " [ 4.4099126]\n",
            " [ 6.8079224]\n",
            " [ 9.031082 ]\n",
            " [ 7.878564 ]\n",
            " [11.336194 ]\n",
            " [14.400574 ]\n",
            " [11.833362 ]\n",
            " [ 8.651873 ]\n",
            " [10.158692 ]\n",
            " [13.422143 ]\n",
            " [11.190096 ]\n",
            " [ 9.972583 ]\n",
            " [ 9.906861 ]\n",
            " [18.13889  ]\n",
            " [ 6.034543 ]\n",
            " [14.334965 ]\n",
            " [14.211233 ]\n",
            " [ 7.5791054]\n",
            " [10.362277 ]\n",
            " [ 8.344633 ]\n",
            " [12.391814 ]\n",
            " [11.6552305]\n",
            " [10.183653 ]\n",
            " [ 8.020906 ]\n",
            " [11.752104 ]\n",
            " [11.36268  ]\n",
            " [ 9.591227 ]\n",
            " [11.314528 ]\n",
            " [ 8.39894  ]\n",
            " [10.948493 ]\n",
            " [13.621363 ]\n",
            " [ 7.2036333]\n",
            " [ 8.257292 ]\n",
            " [ 9.842999 ]\n",
            " [ 6.923649 ]\n",
            " [11.401165 ]\n",
            " [ 7.5290556]\n",
            " [ 6.6250153]\n",
            " [ 9.64128  ]\n",
            " [ 7.471404 ]\n",
            " [ 8.055043 ]\n",
            " [ 9.877485 ]\n",
            " [12.527623 ]\n",
            " [10.607636 ]\n",
            " [ 9.7640705]\n",
            " [16.511972 ]\n",
            " [12.102753 ]\n",
            " [13.415106 ]\n",
            " [10.631262 ]\n",
            " [12.554551 ]\n",
            " [ 8.156979 ]\n",
            " [ 6.9471574]\n",
            " [14.95452  ]\n",
            " [ 8.64649  ]\n",
            " [16.637522 ]\n",
            " [10.589375 ]\n",
            " [10.54362  ]\n",
            " [ 9.219245 ]\n",
            " [ 5.3898087]\n",
            " [ 6.6063495]\n",
            " [11.052192 ]\n",
            " [14.54258  ]\n",
            " [ 9.312284 ]\n",
            " [ 9.4844265]\n",
            " [ 8.292194 ]\n",
            " [10.37593  ]\n",
            " [ 5.578989 ]\n",
            " [ 6.8688707]\n",
            " [ 6.754169 ]\n",
            " [10.97803  ]\n",
            " [14.408529 ]\n",
            " [ 7.5737534]\n",
            " [11.438187 ]\n",
            " [12.353006 ]\n",
            " [11.852999 ]\n",
            " [ 9.583551 ]\n",
            " [10.096838 ]\n",
            " [11.207258 ]\n",
            " [10.214321 ]\n",
            " [ 5.9414716]\n",
            " [19.495577 ]\n",
            " [ 7.5322657]\n",
            " [11.9039955]\n",
            " [ 9.338146 ]\n",
            " [ 7.44448  ]\n",
            " [ 9.2854595]\n",
            " [ 8.380553 ]\n",
            " [ 6.144664 ]\n",
            " [ 9.468139 ]\n",
            " [12.60631  ]\n",
            " [10.428198 ]\n",
            " [ 5.1085625]\n",
            " [ 9.61305  ]\n",
            " [ 8.8807535]\n",
            " [ 9.305156 ]\n",
            " [ 7.597898 ]\n",
            " [12.547039 ]\n",
            " [ 8.066977 ]\n",
            " [ 9.339951 ]\n",
            " [11.411239 ]\n",
            " [10.155434 ]\n",
            " [11.609341 ]\n",
            " [ 9.476181 ]\n",
            " [ 9.627517 ]\n",
            " [ 8.05689  ]\n",
            " [17.621744 ]\n",
            " [10.833069 ]\n",
            " [10.425383 ]\n",
            " [ 8.702235 ]\n",
            " [14.565956 ]\n",
            " [11.177966 ]\n",
            " [14.330988 ]\n",
            " [ 7.684636 ]\n",
            " [11.598034 ]\n",
            " [ 9.923879 ]\n",
            " [11.347031 ]\n",
            " [ 9.533451 ]\n",
            " [ 6.1738615]\n",
            " [11.312337 ]\n",
            " [11.174407 ]\n",
            " [ 9.801021 ]\n",
            " [13.415919 ]\n",
            " [12.524985 ]\n",
            " [ 8.295079 ]\n",
            " [12.930488 ]\n",
            " [10.417534 ]\n",
            " [12.900308 ]\n",
            " [ 8.514157 ]\n",
            " [11.656547 ]\n",
            " [ 8.490365 ]\n",
            " [13.322647 ]\n",
            " [ 9.483781 ]\n",
            " [10.2485   ]\n",
            " [11.091774 ]\n",
            " [10.673435 ]\n",
            " [ 8.859638 ]\n",
            " [12.538872 ]\n",
            " [10.27338  ]\n",
            " [ 7.365876 ]\n",
            " [ 7.917016 ]\n",
            " [12.235651 ]\n",
            " [ 8.598999 ]\n",
            " [ 9.199829 ]\n",
            " [ 7.730601 ]\n",
            " [10.604661 ]\n",
            " [ 6.5441866]\n",
            " [ 9.240332 ]\n",
            " [12.35767  ]\n",
            " [ 9.022435 ]\n",
            " [10.585134 ]\n",
            " [ 7.041176 ]\n",
            " [ 6.7337637]\n",
            " [10.580391 ]\n",
            " [10.435914 ]\n",
            " [ 7.8062773]\n",
            " [10.890681 ]\n",
            " [ 8.515094 ]\n",
            " [ 9.529297 ]\n",
            " [ 5.443778 ]\n",
            " [ 9.16899  ]\n",
            " [ 4.7413187]\n",
            " [ 6.8873415]\n",
            " [16.527138 ]\n",
            " [12.968523 ]\n",
            " [ 8.557342 ]\n",
            " [10.953717 ]\n",
            " [11.174106 ]\n",
            " [10.650829 ]\n",
            " [11.467449 ]\n",
            " [ 8.000391 ]\n",
            " [13.504438 ]\n",
            " [ 6.1031504]\n",
            " [ 6.932373 ]\n",
            " [ 6.7747507]\n",
            " [ 9.505552 ]\n",
            " [11.603515 ]\n",
            " [ 8.129786 ]\n",
            " [11.188404 ]\n",
            " [ 9.571527 ]\n",
            " [ 9.647192 ]\n",
            " [12.751118 ]\n",
            " [12.740623 ]\n",
            " [10.323186 ]\n",
            " [ 9.994577 ]\n",
            " [ 4.7482066]\n",
            " [12.799431 ]\n",
            " [ 8.509488 ]\n",
            " [13.0173435]\n",
            " [ 8.790447 ]\n",
            " [ 8.353426 ]\n",
            " [ 8.204874 ]\n",
            " [ 5.1884217]\n",
            " [ 9.993392 ]\n",
            " [12.5737915]\n",
            " [11.946511 ]\n",
            " [ 7.300915 ]\n",
            " [10.520071 ]\n",
            " [11.631966 ]\n",
            " [ 7.98073  ]\n",
            " [10.002156 ]\n",
            " [10.013404 ]\n",
            " [ 5.623536 ]\n",
            " [10.308488 ]\n",
            " [10.152358 ]\n",
            " [11.999037 ]\n",
            " [12.830759 ]\n",
            " [11.774051 ]\n",
            " [11.096299 ]\n",
            " [12.933522 ]\n",
            " [ 8.435517 ]\n",
            " [ 9.605244 ]\n",
            " [11.978823 ]\n",
            " [ 8.766057 ]\n",
            " [ 8.727917 ]\n",
            " [10.041092 ]\n",
            " [10.533393 ]\n",
            " [16.811466 ]\n",
            " [ 6.777155 ]\n",
            " [ 5.962633 ]\n",
            " [12.613411 ]\n",
            " [13.587267 ]\n",
            " [13.571159 ]\n",
            " [10.94215  ]\n",
            " [ 9.815888 ]\n",
            " [13.544241 ]\n",
            " [11.12027  ]\n",
            " [ 5.7842426]\n",
            " [10.561388 ]\n",
            " [ 8.8830385]\n",
            " [ 7.1435823]\n",
            " [ 6.7313027]\n",
            " [12.287191 ]\n",
            " [11.319561 ]\n",
            " [10.093552 ]\n",
            " [ 7.827409 ]\n",
            " [10.201479 ]\n",
            " [10.23014  ]\n",
            " [16.011957 ]\n",
            " [ 6.735421 ]\n",
            " [ 5.2040706]\n",
            " [ 7.443199 ]\n",
            " [ 5.4131284]\n",
            " [ 7.905628 ]\n",
            " [10.302171 ]\n",
            " [ 9.774254 ]\n",
            " [ 8.162524 ]\n",
            " [11.907977 ]\n",
            " [11.3164425]\n",
            " [ 8.194765 ]\n",
            " [ 9.783129 ]\n",
            " [ 8.913101 ]\n",
            " [ 9.346523 ]\n",
            " [12.006947 ]\n",
            " [ 4.702589 ]\n",
            " [ 7.4599037]\n",
            " [ 6.7151556]\n",
            " [ 9.347349 ]\n",
            " [ 8.141724 ]\n",
            " [ 8.008291 ]\n",
            " [ 9.508866 ]\n",
            " [ 5.213082 ]\n",
            " [12.338209 ]\n",
            " [13.674178 ]\n",
            " [ 9.028786 ]\n",
            " [ 8.459825 ]\n",
            " [12.506603 ]\n",
            " [ 9.482472 ]\n",
            " [ 9.245333 ]\n",
            " [ 9.442981 ]\n",
            " [ 8.239924 ]\n",
            " [10.557055 ]\n",
            " [ 9.279305 ]\n",
            " [10.586813 ]\n",
            " [ 9.636178 ]\n",
            " [ 3.5540814]\n",
            " [ 8.176565 ]\n",
            " [ 6.747843 ]\n",
            " [ 5.363034 ]\n",
            " [11.740198 ]\n",
            " [13.335036 ]\n",
            " [ 9.750397 ]\n",
            " [14.018417 ]\n",
            " [ 8.05456  ]\n",
            " [ 9.695793 ]\n",
            " [10.875171 ]\n",
            " [14.170551 ]\n",
            " [ 9.810152 ]\n",
            " [ 7.0335326]\n",
            " [ 8.579363 ]\n",
            " [ 9.840696 ]\n",
            " [ 8.686871 ]\n",
            " [ 9.65176  ]\n",
            " [ 4.9319053]\n",
            " [ 6.768832 ]\n",
            " [-1.089695 ]\n",
            " [ 7.6144724]\n",
            " [ 9.6794815]\n",
            " [12.716576 ]\n",
            " [ 7.2774363]\n",
            " [ 7.233062 ]\n",
            " [ 9.573767 ]\n",
            " [10.339112 ]\n",
            " [ 9.531974 ]\n",
            " [ 6.844079 ]\n",
            " [ 8.972361 ]\n",
            " [14.9779415]\n",
            " [12.750676 ]\n",
            " [12.01491  ]\n",
            " [ 8.553389 ]\n",
            " [10.422448 ]\n",
            " [19.248577 ]\n",
            " [12.478635 ]\n",
            " [ 6.2805443]\n",
            " [12.322962 ]\n",
            " [11.565648 ]\n",
            " [ 5.2279344]\n",
            " [11.994493 ]\n",
            " [11.078099 ]\n",
            " [ 5.4141326]\n",
            " [10.722362 ]\n",
            " [10.1722765]\n",
            " [12.389006 ]\n",
            " [10.494241 ]\n",
            " [12.842958 ]\n",
            " [ 8.323852 ]\n",
            " [10.277961 ]\n",
            " [ 7.3696947]\n",
            " [ 5.2069845]\n",
            " [ 9.823435 ]\n",
            " [12.0547905]\n",
            " [ 8.5155325]\n",
            " [ 9.91329  ]\n",
            " [ 9.647463 ]\n",
            " [ 8.012171 ]\n",
            " [ 5.2544785]\n",
            " [ 0.1517725]\n",
            " [ 7.5412555]\n",
            " [ 5.193115 ]\n",
            " [ 8.781182 ]\n",
            " [10.665194 ]\n",
            " [ 9.135925 ]\n",
            " [ 7.0408936]\n",
            " [14.892504 ]\n",
            " [13.087495 ]\n",
            " [ 6.797488 ]\n",
            " [ 8.658319 ]\n",
            " [10.948526 ]\n",
            " [15.500802 ]\n",
            " [ 7.6075087]\n",
            " [10.589309 ]\n",
            " [ 9.341403 ]\n",
            " [10.392529 ]\n",
            " [ 6.6150856]\n",
            " [ 9.642104 ]\n",
            " [10.022774 ]\n",
            " [ 5.796152 ]\n",
            " [ 8.240725 ]\n",
            " [ 5.715408 ]\n",
            " [ 7.2142353]\n",
            " [15.478672 ]\n",
            " [11.365953 ]\n",
            " [10.6045885]\n",
            " [13.64621  ]\n",
            " [11.893335 ]\n",
            " [10.5217085]\n",
            " [12.37978  ]\n",
            " [ 9.676033 ]\n",
            " [ 9.931924 ]\n",
            " [11.071818 ]\n",
            " [ 9.343423 ]\n",
            " [12.0898905]\n",
            " [ 8.81831  ]\n",
            " [12.912009 ]\n",
            " [ 5.10243  ]\n",
            " [ 9.751022 ]\n",
            " [ 6.977071 ]\n",
            " [15.576155 ]\n",
            " [ 7.0143595]\n",
            " [ 9.741013 ]\n",
            " [12.134087 ]\n",
            " [12.279465 ]\n",
            " [ 9.833681 ]\n",
            " [14.378193 ]\n",
            " [10.81194  ]\n",
            " [11.542928 ]\n",
            " [ 7.50674  ]\n",
            " [11.830323 ]\n",
            " [11.302259 ]\n",
            " [ 7.36473  ]\n",
            " [10.7226095]\n",
            " [11.025766 ]\n",
            " [12.199842 ]\n",
            " [12.39866  ]\n",
            " [11.571299 ]\n",
            " [ 9.9055195]\n",
            " [12.013017 ]\n",
            " [ 9.44387  ]\n",
            " [10.503302 ]\n",
            " [ 9.924131 ]\n",
            " [11.0096   ]\n",
            " [12.731023 ]\n",
            " [11.337398 ]\n",
            " [10.81087  ]\n",
            " [12.088472 ]\n",
            " [ 8.070612 ]\n",
            " [ 9.036974 ]\n",
            " [13.73254  ]\n",
            " [ 8.106964 ]\n",
            " [ 7.7266116]\n",
            " [ 7.32698  ]\n",
            " [ 7.2151804]\n",
            " [ 8.736736 ]\n",
            " [ 7.929023 ]\n",
            " [12.948274 ]\n",
            " [ 9.043942 ]\n",
            " [ 9.626398 ]\n",
            " [ 8.320679 ]\n",
            " [11.900581 ]\n",
            " [ 6.6151867]\n",
            " [ 6.8968773]\n",
            " [10.284463 ]\n",
            " [ 9.905325 ]\n",
            " [ 8.347272 ]\n",
            " [ 9.880494 ]\n",
            " [ 6.99505  ]\n",
            " [ 7.3793554]\n",
            " [10.191316 ]\n",
            " [16.018524 ]\n",
            " [28.256617 ]\n",
            " [11.757023 ]\n",
            " [10.363394 ]\n",
            " [ 9.247696 ]\n",
            " [10.0945015]\n",
            " [10.7881155]\n",
            " [ 5.6823497]\n",
            " [10.256536 ]\n",
            " [11.038419 ]\n",
            " [11.539574 ]\n",
            " [17.357038 ]\n",
            " [10.638492 ]\n",
            " [ 6.317099 ]\n",
            " [10.272394 ]\n",
            " [ 7.912759 ]\n",
            " [12.638216 ]\n",
            " [ 9.772551 ]\n",
            " [10.120804 ]\n",
            " [12.862696 ]\n",
            " [11.271285 ]\n",
            " [11.635579 ]\n",
            " [ 7.408106 ]\n",
            " [ 5.585844 ]\n",
            " [12.011781 ]\n",
            " [ 6.4051027]\n",
            " [11.807093 ]\n",
            " [ 9.939429 ]\n",
            " [11.111437 ]\n",
            " [12.287144 ]\n",
            " [11.650785 ]\n",
            " [12.468172 ]\n",
            " [10.215383 ]\n",
            " [ 9.43939  ]\n",
            " [ 4.3942995]\n",
            " [ 9.345588 ]\n",
            " [13.301155 ]\n",
            " [12.515751 ]\n",
            " [ 5.5223565]\n",
            " [ 7.373087 ]\n",
            " [12.773602 ]\n",
            " [ 7.486679 ]\n",
            " [10.579893 ]\n",
            " [16.59662  ]\n",
            " [ 9.286579 ]\n",
            " [10.543983 ]\n",
            " [ 8.074942 ]\n",
            " [ 7.4034667]\n",
            " [13.029838 ]\n",
            " [ 8.049372 ]\n",
            " [11.5429735]\n",
            " [ 5.4725456]\n",
            " [ 7.338728 ]\n",
            " [12.066295 ]\n",
            " [ 9.757141 ]\n",
            " [ 4.8505173]\n",
            " [ 7.8779144]\n",
            " [ 9.151005 ]\n",
            " [11.617029 ]\n",
            " [ 6.153285 ]\n",
            " [10.927745 ]\n",
            " [ 5.4309006]\n",
            " [11.943638 ]\n",
            " [10.976543 ]\n",
            " [ 6.4877577]\n",
            " [ 7.47795  ]\n",
            " [10.311615 ]\n",
            " [ 9.526313 ]\n",
            " [13.036318 ]\n",
            " [ 9.4319315]\n",
            " [ 8.2594595]\n",
            " [12.152755 ]\n",
            " [ 8.264143 ]\n",
            " [10.576389 ]\n",
            " [11.893795 ]\n",
            " [11.713752 ]\n",
            " [12.412341 ]\n",
            " [ 7.738123 ]\n",
            " [10.140634 ]\n",
            " [10.602242 ]\n",
            " [11.262596 ]\n",
            " [12.793884 ]\n",
            " [11.587871 ]\n",
            " [11.259478 ]\n",
            " [ 9.32586  ]\n",
            " [12.529282 ]\n",
            " [14.616236 ]\n",
            " [10.882422 ]\n",
            " [ 7.784585 ]\n",
            " [12.73382  ]\n",
            " [11.33006  ]\n",
            " [ 6.2609196]\n",
            " [10.692474 ]\n",
            " [ 9.028929 ]\n",
            " [14.490746 ]\n",
            " [ 9.5601225]\n",
            " [10.876679 ]\n",
            " [10.789076 ]\n",
            " [12.321725 ]\n",
            " [10.493663 ]\n",
            " [ 7.2906027]\n",
            " [15.115075 ]\n",
            " [ 6.446413 ]\n",
            " [12.435987 ]\n",
            " [ 9.167154 ]\n",
            " [ 9.418837 ]\n",
            " [ 8.275565 ]\n",
            " [11.162064 ]\n",
            " [18.173042 ]\n",
            " [12.426548 ]\n",
            " [ 6.916588 ]\n",
            " [ 7.455508 ]\n",
            " [ 6.014237 ]\n",
            " [ 6.073647 ]\n",
            " [ 8.533011 ]\n",
            " [ 8.236378 ]]\n"
          ],
          "name": "stdout"
        }
      ]
    },
    {
      "cell_type": "code",
      "metadata": {
        "colab": {
          "base_uri": "https://localhost:8080/",
          "height": 281
        },
        "id": "HTgh8YaY81TC",
        "outputId": "a1ef5c6f-49d2-4705-f11b-3ce397c1393b"
      },
      "source": [
        "plt.plot(pred_Y[:], 'o', color = 'red', label = 'Pred_Y')\n",
        "plt.plot(test_Y[:], '+', color = 'blue', label = 'Test_Y')\n",
        "\n",
        "plt.title('GJ_NET_MODEL_V2')\n",
        "plt.legend()\n",
        "plt.grid()\n",
        "plt.show()"
      ],
      "execution_count": null,
      "outputs": [
        {
          "output_type": "display_data",
          "data": {
            "image/png": "[encoded data removed]",
            "text/plain": [
              "<Figure size 432x288 with 1 Axes>"
            ]
          },
          "metadata": {
            "tags": [],
            "needs_background": "light"
          }
        }
      ]
    },
    {
      "cell_type": "code",
      "metadata": {
        "colab": {
          "base_uri": "https://localhost:8080/"
        },
        "id": "y1bXfaEI9fNz",
        "outputId": "faf30060-a85a-4868-f380-565ab9328dc7"
      },
      "source": [
        "acc = 1 - np.mean(np.abs((pred_Y - test_Y) / test_Y))\n",
        "print('GJ_NET_MODEL_V2 - ACC : {}%'.format(np.round(acc*100,3)))"
      ],
      "execution_count": null,
      "outputs": [
        {
          "output_type": "stream",
          "text": [
            "GJ_NET_MODEL_V2 - ACC : 83.823%\n"
          ],
          "name": "stdout"
        }
      ]
    },
    {
      "cell_type": "markdown",
      "metadata": {
        "id": "dpGOv8VGNjiU"
      },
      "source": [
        "# 4. 머신러닝"
      ]
    },
    {
      "cell_type": "code",
      "metadata": {
        "id": "yQIi_JhK243G",
        "colab": {
          "base_uri": "https://localhost:8080/"
        },
        "outputId": "bb365306-ab70-4854-b173-804f044919cc"
      },
      "source": [
        "!pip install mglearn"
      ],
      "execution_count": null,
      "outputs": [
        {
          "output_type": "stream",
          "text": [
            "Collecting mglearn\n",
            "\u001b[?25l  Downloading https://files.pythonhosted.org/packages/65/38/8aced26fce0b2ae82c3c87cd3b6105f38ca6d9d51704ecc44aa54473e6b9/mglearn-0.1.9.tar.gz (540kB)\n",
            "\r\u001b[K     |▋                               | 10kB 16.9MB/s eta 0:00:01\r\u001b[K     |█▏                              | 20kB 22.2MB/s eta 0:00:01\r\u001b[K     |█▉                              | 30kB 27.0MB/s eta 0:00:01\r\u001b[K     |██▍                             | 40kB 29.8MB/s eta 0:00:01\r\u001b[K     |███                             | 51kB 27.2MB/s eta 0:00:01\r\u001b[K     |███▋                            | 61kB 28.3MB/s eta 0:00:01\r\u001b[K     |████▎                           | 71kB 25.5MB/s eta 0:00:01\r\u001b[K     |████▉                           | 81kB 25.4MB/s eta 0:00:01\r\u001b[K     |█████▌                          | 92kB 26.5MB/s eta 0:00:01\r\u001b[K     |██████                          | 102kB 26.7MB/s eta 0:00:01\r\u001b[K     |██████▊                         | 112kB 26.7MB/s eta 0:00:01\r\u001b[K     |███████▎                        | 122kB 26.7MB/s eta 0:00:01\r\u001b[K     |███████▉                        | 133kB 26.7MB/s eta 0:00:01\r\u001b[K     |████████▌                       | 143kB 26.7MB/s eta 0:00:01\r\u001b[K     |█████████                       | 153kB 26.7MB/s eta 0:00:01\r\u001b[K     |█████████▊                      | 163kB 26.7MB/s eta 0:00:01\r\u001b[K     |██████████▎                     | 174kB 26.7MB/s eta 0:00:01\r\u001b[K     |███████████                     | 184kB 26.7MB/s eta 0:00:01\r\u001b[K     |███████████▌                    | 194kB 26.7MB/s eta 0:00:01\r\u001b[K     |████████████▏                   | 204kB 26.7MB/s eta 0:00:01\r\u001b[K     |████████████▊                   | 215kB 26.7MB/s eta 0:00:01\r\u001b[K     |█████████████▍                  | 225kB 26.7MB/s eta 0:00:01\r\u001b[K     |██████████████                  | 235kB 26.7MB/s eta 0:00:01\r\u001b[K     |██████████████▋                 | 245kB 26.7MB/s eta 0:00:01\r\u001b[K     |███████████████▏                | 256kB 26.7MB/s eta 0:00:01\r\u001b[K     |███████████████▊                | 266kB 26.7MB/s eta 0:00:01\r\u001b[K     |████████████████▍               | 276kB 26.7MB/s eta 0:00:01\r\u001b[K     |█████████████████               | 286kB 26.7MB/s eta 0:00:01\r\u001b[K     |█████████████████▋              | 296kB 26.7MB/s eta 0:00:01\r\u001b[K     |██████████████████▏             | 307kB 26.7MB/s eta 0:00:01\r\u001b[K     |██████████████████▉             | 317kB 26.7MB/s eta 0:00:01\r\u001b[K     |███████████████████▍            | 327kB 26.7MB/s eta 0:00:01\r\u001b[K     |████████████████████            | 337kB 26.7MB/s eta 0:00:01\r\u001b[K     |████████████████████▋           | 348kB 26.7MB/s eta 0:00:01\r\u001b[K     |█████████████████████▎          | 358kB 26.7MB/s eta 0:00:01\r\u001b[K     |█████████████████████▉          | 368kB 26.7MB/s eta 0:00:01\r\u001b[K     |██████████████████████▌         | 378kB 26.7MB/s eta 0:00:01\r\u001b[K     |███████████████████████         | 389kB 26.7MB/s eta 0:00:01\r\u001b[K     |███████████████████████▋        | 399kB 26.7MB/s eta 0:00:01\r\u001b[K     |████████████████████████▎       | 409kB 26.7MB/s eta 0:00:01\r\u001b[K     |████████████████████████▉       | 419kB 26.7MB/s eta 0:00:01\r\u001b[K     |█████████████████████████▌      | 430kB 26.7MB/s eta 0:00:01\r\u001b[K     |██████████████████████████      | 440kB 26.7MB/s eta 0:00:01\r\u001b[K     |██████████████████████████▊     | 450kB 26.7MB/s eta 0:00:01\r\u001b[K     |███████████████████████████▎    | 460kB 26.7MB/s eta 0:00:01\r\u001b[K     |████████████████████████████    | 471kB 26.7MB/s eta 0:00:01\r\u001b[K     |████████████████████████████▌   | 481kB 26.7MB/s eta 0:00:01\r\u001b[K     |█████████████████████████████▏  | 491kB 26.7MB/s eta 0:00:01\r\u001b[K     |█████████████████████████████▊  | 501kB 26.7MB/s eta 0:00:01\r\u001b[K     |██████████████████████████████▍ | 512kB 26.7MB/s eta 0:00:01\r\u001b[K     |███████████████████████████████ | 522kB 26.7MB/s eta 0:00:01\r\u001b[K     |███████████████████████████████▌| 532kB 26.7MB/s eta 0:00:01\r\u001b[K     |████████████████████████████████| 542kB 26.7MB/s \n",
            "\u001b[?25hRequirement already satisfied: numpy in /usr/local/lib/python3.7/dist-packages (from mglearn) (1.19.5)\n",
            "Requirement already satisfied: matplotlib in /usr/local/lib/python3.7/dist-packages (from mglearn) (3.2.2)\n",
            "Requirement already satisfied: scikit-learn in /usr/local/lib/python3.7/dist-packages (from mglearn) (0.22.2.post1)\n",
            "Requirement already satisfied: pandas in /usr/local/lib/python3.7/dist-packages (from mglearn) (1.1.5)\n",
            "Requirement already satisfied: pillow in /usr/local/lib/python3.7/dist-packages (from mglearn) (7.1.2)\n",
            "Requirement already satisfied: cycler in /usr/local/lib/python3.7/dist-packages (from mglearn) (0.10.0)\n",
            "Requirement already satisfied: imageio in /usr/local/lib/python3.7/dist-packages (from mglearn) (2.4.1)\n",
            "Requirement already satisfied: joblib in /usr/local/lib/python3.7/dist-packages (from mglearn) (1.0.1)\n",
            "Requirement already satisfied: pyparsing!=2.0.4,!=2.1.2,!=2.1.6,>=2.0.1 in /usr/local/lib/python3.7/dist-packages (from matplotlib->mglearn) (2.4.7)\n",
            "Requirement already satisfied: python-dateutil>=2.1 in /usr/local/lib/python3.7/dist-packages (from matplotlib->mglearn) (2.8.1)\n",
            "Requirement already satisfied: kiwisolver>=1.0.1 in /usr/local/lib/python3.7/dist-packages (from matplotlib->mglearn) (1.3.1)\n",
            "Requirement already satisfied: scipy>=0.17.0 in /usr/local/lib/python3.7/dist-packages (from scikit-learn->mglearn) (1.4.1)\n",
            "Requirement already satisfied: pytz>=2017.2 in /usr/local/lib/python3.7/dist-packages (from pandas->mglearn) (2018.9)\n",
            "Requirement already satisfied: six in /usr/local/lib/python3.7/dist-packages (from cycler->mglearn) (1.15.0)\n",
            "Building wheels for collected packages: mglearn\n",
            "  Building wheel for mglearn (setup.py) ... \u001b[?25l\u001b[?25hdone\n",
            "  Created wheel for mglearn: filename=mglearn-0.1.9-py2.py3-none-any.whl size=582638 sha256=401279af17621c0a15228d6c733ee202a5050dfbc148ddc497c0fdeaeeb723cb\n",
            "  Stored in directory: /root/.cache/pip/wheels/eb/a6/ea/a6a3716233fa62fc561259b5cb1e28f79e9ff3592c0adac5f0\n",
            "Successfully built mglearn\n",
            "Installing collected packages: mglearn\n",
            "Successfully installed mglearn-0.1.9\n"
          ],
          "name": "stdout"
        }
      ]
    },
    {
      "cell_type": "markdown",
      "metadata": {
        "id": "J1A75RiIBl4-"
      },
      "source": [
        "#### 평균제곱오차 (MSE, Mean Squared Error) 연습 01\n",
        "가설의 MSE 값을 계산해보자.\n"
      ]
    },
    {
      "cell_type": "markdown",
      "metadata": {
        "id": "10mOqCgJB0mQ"
      },
      "source": [
        "\\\\( \\cfrac { { (H({ x }^{ (1) })-{ y }^{ (1) }) }^{ 2 } + { (H({ x }^{ (2) })-{ y }^{ (2) }) }^{ 2 }+ { (H({ x }^{ (3) })-{ y }^{ (3) }) }^{ 2 }+ { (H({ x }^{ (4) })-{ y }^{ (4) }) }^{ 2 } }{ 4 } = ? \\\\)"
      ]
    },
    {
      "cell_type": "code",
      "metadata": {
        "id": "6Apn0lExGbod"
      },
      "source": [
        "# y_pred(예측값), y(실제값)\n",
        "def MSE(y_pred, y):\n",
        "  cost = np.sum((y_pred - y)**2) / len(y)\n",
        "  return cost"
      ],
      "execution_count": null,
      "outputs": []
    },
    {
      "cell_type": "markdown",
      "metadata": {
        "id": "Jj0QGZXbDmZW"
      },
      "source": [
        "#### 경사하강법 (Gradient descent algorithm) - 오차 수정하기\n",
        "\n",
        "어떻게 비용함수 값이 최소가 되는 W 파라미터를 구할 수 있을까?\n",
        "\n",
        "- 점진적인 하강, 점진적으로 반복적인 계산을 통해 W 파라미터 값을 업데이트 하면서 오류 값이 최소가 되는 값을 구하는 방식\n",
        "\n",
        "- 함수의 기울기(경사)를 구하여 기울기가 낮은 쪽으로 \n",
        "계속 이동하여 값을 최적화 시키는 방법 <br> (오차 (기울기)가 가장 작은 방향으로 이동시키는 방법)\n"
      ]
    },
    {
      "cell_type": "markdown",
      "metadata": {
        "id": "kvkSrjnwHRAn"
      },
      "source": [
        "learning_rate(학습 속도)란?\n",
        "\n",
        "- W와 b의 미분 값(W_grad, b_grade)을 얼마만큼 반영할지를 결정하는 값.\n",
        "- 주로 0.001, 0.00001과 같은 매우 작은 값을 사용하며 learning_rate가 클수록 변화가 빠르며, learning_rate가 작을수록 변화가 느리다고 예상.\n",
        "- 꼭 변화가 빠르다고 해서 결과를 빨리 볼 수 있는 것은 아님."
      ]
    },
    {
      "cell_type": "code",
      "metadata": {
        "colab": {
          "base_uri": "https://localhost:8080/",
          "height": 638
        },
        "id": "fkgcRuJCNk1w",
        "outputId": "7e0f6c53-c1c6-49a3-9719-bf93478097ec"
      },
      "source": [
        "import numpy as np\n",
        "import matplotlib.pyplot as plt\n",
        "w_val = []\n",
        "cost_val = []\n",
        "xx_val = []\n",
        "\n",
        "n_samples = 200\n",
        "x = np.random.randn(n_samples)\n",
        "x.shape\n",
        "y = 2 * x + 4 + np.random.randn(n_samples)\n",
        "# plt.scatter(x, y)\n",
        "\n",
        "n_epoch = 20    # 반복횟수\n",
        "lr = 0.5        # 학습속도\n",
        "\n",
        "w = np.random.uniform()\n",
        "b = np.random.uniform()\n",
        "\n",
        "for epoch in range(n_epoch):\n",
        "  y_pred = w * x + b\n",
        "  cost = MSE(y_pred, y)\n",
        "  xx = lr * ((y_pred - y) * x).mean()\n",
        "  print(f'{epoch:3} w={w:.6f}, b={b:.6f}, cost={cost:.6f}, xx={xx:.6f}')\n",
        "\n",
        "  w = w - xx\n",
        "  b = b - lr * ((y_pred - y) * x).mean()\n",
        "\n",
        "\n",
        "  w_val.append(w)\n",
        "  cost_val.append(cost)\n",
        "  xx_val.append(xx)\n",
        "\n",
        "plt.plot(range(n_epoch), cost_val)"
      ],
      "execution_count": null,
      "outputs": [
        {
          "output_type": "stream",
          "text": [
            "  0 w=0.784340, b=0.294594, cost=17.495495, xx=-0.795046\n",
            "  1 w=1.579386, b=1.089640, cost=10.248456, xx=-0.363662\n",
            "  2 w=1.943048, b=1.453303, cost=7.845584, xx=-0.166343\n",
            "  3 w=2.109391, b=1.619646, cost=6.937298, xx=-0.076087\n",
            "  4 w=2.185478, b=1.695733, cost=6.561761, xx=-0.034803\n",
            "  5 w=2.220281, b=1.730536, cost=6.398340, xx=-0.015919\n",
            "  6 w=2.236200, b=1.746455, cost=6.325337, xx=-0.007282\n",
            "  7 w=2.243482, b=1.753736, cost=6.292310, xx=-0.003331\n",
            "  8 w=2.246813, b=1.757067, cost=6.277280, xx=-0.001523\n",
            "  9 w=2.248336, b=1.758591, cost=6.270421, xx=-0.000697\n",
            " 10 w=2.249033, b=1.759287, cost=6.267287, xx=-0.000319\n",
            " 11 w=2.249352, b=1.759606, cost=6.265854, xx=-0.000146\n",
            " 12 w=2.249497, b=1.759752, cost=6.265199, xx=-0.000067\n",
            " 13 w=2.249564, b=1.759819, cost=6.264899, xx=-0.000031\n",
            " 14 w=2.249595, b=1.759849, cost=6.264762, xx=-0.000014\n",
            " 15 w=2.249609, b=1.759863, cost=6.264699, xx=-0.000006\n",
            " 16 w=2.249615, b=1.759869, cost=6.264670, xx=-0.000003\n",
            " 17 w=2.249618, b=1.759872, cost=6.264657, xx=-0.000001\n",
            " 18 w=2.249619, b=1.759874, cost=6.264651, xx=-0.000001\n",
            " 19 w=2.249620, b=1.759874, cost=6.264649, xx=-0.000000\n"
          ],
          "name": "stdout"
        },
        {
          "output_type": "execute_result",
          "data": {
            "text/plain": [
              "[<matplotlib.lines.Line2D at 0x7fe2d9a3fe50>]"
            ]
          },
          "metadata": {
            "tags": []
          },
          "execution_count": 46
        },
        {
          "output_type": "display_data",
          "data": {
            "image/png": "[encoded data removed]",
            "text/plain": [
              "<Figure size 432x288 with 1 Axes>"
            ]
          },
          "metadata": {
            "tags": [],
            "needs_background": "light"
          }
        }
      ]
    },
    {
      "cell_type": "markdown",
      "metadata": {
        "id": "2eanx1s7gAP8"
      },
      "source": [
        "#### LinearRegression 실습 01\n",
        "\n",
        "배달시간 예측\n",
        "- 설정 거리의 장소에 배달하려면 얼마나 걸리는지 예측"
      ]
    },
    {
      "cell_type": "code",
      "metadata": {
        "id": "CuBuao-XNk4l"
      },
      "source": [
        "import numpy as np \n",
        "from matplotlib import pyplot as plt "
      ],
      "execution_count": null,
      "outputs": []
    },
    {
      "cell_type": "code",
      "metadata": {
        "colab": {
          "base_uri": "https://localhost:8080/",
          "height": 269
        },
        "id": "LqctREEtIeTu",
        "outputId": "1cfcf660-9707-4d3d-8b87-1c2fe012654f"
      },
      "source": [
        "# 배달거리와 배달시간 데이터\n",
        "data = np.array([\n",
        "    [100, 20], \n",
        "\t\t[150, 24], \n",
        "\t\t[300, 36], \n",
        "\t\t[400, 47], \n",
        "\t\t[130, 22], \n",
        "\t\t[240, 32],\n",
        "\t\t[350, 47], \n",
        "\t\t[200, 42], \n",
        "\t\t[100, 21], \n",
        "\t\t[110, 21], \n",
        "\t\t[190, 30], \n",
        "\t\t[120, 25], \n",
        "\t\t[130, 18], \n",
        "\t\t[270, 38], \n",
        "\t\t[255, 28]])\n",
        "\n",
        "x = data[:, 0]\n",
        "y = data[:, 1]\n",
        "plt.scatter(x,y)\n",
        "plt.xlim(0,450)\n",
        "plt.ylim(0,50)\n",
        "plt.grid()"
      ],
      "execution_count": null,
      "outputs": [
        {
          "output_type": "display_data",
          "data": {
            "image/png": "[encoded data removed]",
            "text/plain": [
              "<Figure size 432x288 with 1 Axes>"
            ]
          },
          "metadata": {
            "tags": [],
            "needs_background": "light"
          }
        }
      ]
    },
    {
      "cell_type": "code",
      "metadata": {
        "id": "9ILCBwKLg2BD",
        "colab": {
          "base_uri": "https://localhost:8080/"
        },
        "outputId": "9fdb93f4-d91d-4509-95d2-dfafe306fd51"
      },
      "source": [
        "# 기울기 a를 최소제곱법으로 구하는 함수\n",
        "def compute_a(x, y, mean_x, mean_y):\n",
        "    # 분자 부분\n",
        "    dc = sum([(x[i] - mean_x) * (y[i] - mean_y) for i in range(len(x))])\n",
        "    # 분모 부분  \n",
        "    d = sum([(x[i] - mean_x) ** 2 for i in range(len(x))])\n",
        "    return dc / d\n",
        "\n",
        "mx = np.mean(x)\n",
        "my = np.mean(y)\n",
        "# 기울기\n",
        "a = compute_a(x, y, mx, my)\n",
        "# 절편\n",
        "b = my - (mx * a)\n",
        "a, b"
      ],
      "execution_count": null,
      "outputs": [
        {
          "output_type": "execute_result",
          "data": {
            "text/plain": [
              "(0.09229753862877554, 11.330266325025232)"
            ]
          },
          "metadata": {
            "tags": []
          },
          "execution_count": 66
        }
      ]
    },
    {
      "cell_type": "code",
      "metadata": {
        "colab": {
          "base_uri": "https://localhost:8080/",
          "height": 265
        },
        "id": "a7STVvFUNk6v",
        "outputId": "8d269d72-d766-45d7-88fd-de255c0d8930"
      },
      "source": [
        "# 1\n",
        "y_pred = [a * x1 + b for x1 in x]\n",
        "plt.plot(x, y_pred, 'r-o')\n",
        "plt.plot(x, y, 'bo')\n",
        "plt.grid()"
      ],
      "execution_count": null,
      "outputs": [
        {
          "output_type": "display_data",
          "data": {
            "image/png": "[encoded data removed]",
            "text/plain": [
              "<Figure size 432x288 with 1 Axes>"
            ]
          },
          "metadata": {
            "tags": [],
            "needs_background": "light"
          }
        }
      ]
    },
    {
      "cell_type": "code",
      "metadata": {
        "colab": {
          "base_uri": "https://localhost:8080/",
          "height": 282
        },
        "id": "1QvChnDILojR",
        "outputId": "128f5158-95e6-45a1-e1f9-eab605afcce5"
      },
      "source": [
        "# 2\n",
        "x1 = np.array(x)\n",
        "y_pred = a * x1 + b\n",
        "plt.plot(x, y_pred, 'r-o')"
      ],
      "execution_count": null,
      "outputs": [
        {
          "output_type": "execute_result",
          "data": {
            "text/plain": [
              "[<matplotlib.lines.Line2D at 0x7fe2d971af50>]"
            ]
          },
          "metadata": {
            "tags": []
          },
          "execution_count": 73
        },
        {
          "output_type": "display_data",
          "data": {
            "image/png": "[encoded data removed]",
            "text/plain": [
              "<Figure size 432x288 with 1 Axes>"
            ]
          },
          "metadata": {
            "tags": [],
            "needs_background": "light"
          }
        }
      ]
    },
    {
      "cell_type": "markdown",
      "metadata": {
        "id": "P1L6YCM3hIwZ"
      },
      "source": [
        "- 예측하기 (거리가 350인경우 배달시간)"
      ]
    },
    {
      "cell_type": "code",
      "metadata": {
        "colab": {
          "base_uri": "https://localhost:8080/"
        },
        "id": "tAU9BvRoNk8v",
        "outputId": "71b92508-0f7d-4534-abe0-605789c2e0fd"
      },
      "source": [
        "t = a * 350 + b\n",
        "t"
      ],
      "execution_count": null,
      "outputs": [
        {
          "output_type": "execute_result",
          "data": {
            "text/plain": [
              "43.63440484509667"
            ]
          },
          "metadata": {
            "tags": []
          },
          "execution_count": 71
        }
      ]
    },
    {
      "cell_type": "markdown",
      "metadata": {
        "id": "Nbk5500uw5Kf"
      },
      "source": [
        "#### 일반 선형회귀\n",
        "\n",
        "예측값과 실제 값의 cost를 최소화할 수 있도록 W(가중치, 회귀계수)를 최적화하며, 규제(Regularization)를 적용하지 않은 모델"
      ]
    },
    {
      "cell_type": "markdown",
      "metadata": {
        "id": "yjsCKwrgsjou"
      },
      "source": [
        "단순 선형회귀 (Simple Linear Regression)\n",
        "> \\\\( H({ x })={ W }{ x }+b \\\\)\n",
        "\n",
        "다변수 선형회귀 (Multi-variable Linear Regreesion)\n",
        "> 변수가 3개 일때의 H(x) <br>\n",
        "> \\\\( H({ x }_{ 1 },{ x }_{ 2 },{ x }_{ 3 })={ W }_{ 1 }{ x }_{ 1 }+{ W }_{ 2 }{ x }_{ 2 }+{ W }_{ 3 }{ x }_{ 3 }+b \\\\)\n",
        "\n",
        "> 변수가 n개 일때의 H(x) <br>\n",
        ">  \\\\( H({ x }_{ 1 },{ x }_{ 2 },{ x }_{ 3 },\\dots ,{ x }_{ n })={ W }_{ 1 }{ x }_{ 1 }+{ W }_{ 2 }{ x }_{ 2 }+{ W }_{ 3 }{ x }_{ 3 }+\\dots +{ W }_{ n }{ x }_{ n }+b \\\\)\n",
        "\n",
        "다항 회귀 (Polynomial Regreesion)\n",
        "> 회귀가 독립변수의 단항식이 아닌 2차, 3차 방정식과 같은 다항식으로 표현되는 것 <br>\n",
        "> 차수가 높아질수록 과적합의 문제가 발생\n"
      ]
    },
    {
      "cell_type": "code",
      "metadata": {
        "colab": {
          "base_uri": "https://localhost:8080/",
          "height": 284
        },
        "id": "PcBYnUBMTzhe",
        "outputId": "e1d8b053-920b-43cc-f995-aeaeda606886"
      },
      "source": [
        "import numpy as np\n",
        "import matplotlib.pyplot as plt\n",
        "%matplotlib inline\n",
        "\n",
        "n = 100\n",
        "x = 6 * np.random.rand(n, 1) - 3\n",
        "x.shape   #(100,1)\n",
        "y = 0.5 * x**2 + x + 2 + np.random.rand(n, 1)\n",
        "#다항의 특징 추가. , . 데이터 전처리\n",
        "\n",
        "plt.scatter(x, y, s=5)"
      ],
      "execution_count": null,
      "outputs": [
        {
          "output_type": "execute_result",
          "data": {
            "text/plain": [
              "<matplotlib.collections.PathCollection at 0x7fe2de30ae10>"
            ]
          },
          "metadata": {
            "tags": []
          },
          "execution_count": 77
        },
        {
          "output_type": "display_data",
          "data": {
            "image/png": "[encoded data removed]",
            "text/plain": [
              "<Figure size 432x288 with 1 Axes>"
            ]
          },
          "metadata": {
            "tags": [],
            "needs_background": "light"
          }
        }
      ]
    },
    {
      "cell_type": "code",
      "metadata": {
        "colab": {
          "base_uri": "https://localhost:8080/"
        },
        "id": "pkjMdfZVTz4Z",
        "outputId": "42823899-e076-4277-bc39-ec98b8c90174"
      },
      "source": [
        "# 전처리단계\n",
        "\n",
        "from sklearn.preprocessing import PolynomialFeatures\n",
        "\n",
        "poly_features = PolynomialFeatures(degree=2, include_bias=False)\n",
        "x_poly = poly_features.fit_transform(x)\n",
        "x.shape, x_poly.shape"
      ],
      "execution_count": null,
      "outputs": [
        {
          "output_type": "execute_result",
          "data": {
            "text/plain": [
              "((100, 1), (100, 2))"
            ]
          },
          "metadata": {
            "tags": []
          },
          "execution_count": 78
        }
      ]
    },
    {
      "cell_type": "code",
      "metadata": {
        "colab": {
          "base_uri": "https://localhost:8080/"
        },
        "id": "ICy-GItwT0GO",
        "outputId": "d780481e-20d4-429f-bf95-0aad7f0135fe"
      },
      "source": [
        "from sklearn.linear_model import LinearRegression\n",
        "\n",
        "model = LinearRegression()\n",
        "model.fit(x_poly, y)\n",
        "model.coef_, model.intercept_"
      ],
      "execution_count": null,
      "outputs": [
        {
          "output_type": "execute_result",
          "data": {
            "text/plain": [
              "(array([[0.98996833, 0.48795568]]), array([2.54428153]))"
            ]
          },
          "metadata": {
            "tags": []
          },
          "execution_count": 80
        }
      ]
    },
    {
      "cell_type": "markdown",
      "metadata": {
        "id": "5DxiZrfdZX5i"
      },
      "source": [
        "#### LinearRegression 실습 02\n",
        "\n",
        "wave 데이터셋에 선형회귀 적용"
      ]
    },
    {
      "cell_type": "markdown",
      "metadata": {
        "id": "kmw0fII4Zmgg"
      },
      "source": [
        "LinearRegression()\n",
        "```\n",
        "LinearRegression(fit_intercept, normalize, copy_X, n_jobs)\n",
        "```\n",
        "- fit_intercept : 모형에 상수항 (절편)이 있는가 없는가를 결정하는 인수 (default : True)\n",
        "- normalize : 매개변수 무시 여부\n",
        "- copy_X : X의 복사 여부\n",
        "- n_jobs : 계산에 사용할 작업 수"
      ]
    },
    {
      "cell_type": "code",
      "metadata": {
        "id": "_1btzprlWp87"
      },
      "source": [
        "from sklearn.linear_model import LinearRegression\n",
        "from sklearn.model_selection import train_test_split\n",
        "import mglearn"
      ],
      "execution_count": null,
      "outputs": []
    },
    {
      "cell_type": "code",
      "metadata": {
        "colab": {
          "base_uri": "https://localhost:8080/",
          "height": 282
        },
        "id": "iWBY_Ab5XaxG",
        "outputId": "43e947e2-b37f-4f25-ce47-2611d5d2b334"
      },
      "source": [
        "X, y = mglearn.datasets.make_wave(60)\n",
        "plt.scatter(X, y)"
      ],
      "execution_count": null,
      "outputs": [
        {
          "output_type": "execute_result",
          "data": {
            "text/plain": [
              "<matplotlib.collections.PathCollection at 0x7fe2cb735f10>"
            ]
          },
          "metadata": {
            "tags": []
          },
          "execution_count": 85
        },
        {
          "output_type": "display_data",
          "data": {
            "image/png": "[encoded data removed]",
            "text/plain": [
              "<Figure size 432x288 with 1 Axes>"
            ]
          },
          "metadata": {
            "tags": [],
            "needs_background": "light"
          }
        }
      ]
    },
    {
      "cell_type": "code",
      "metadata": {
        "colab": {
          "base_uri": "https://localhost:8080/"
        },
        "id": "ID8q44yyXj0e",
        "outputId": "d96e13b8-9b7c-4145-f8da-719e25da4cf6"
      },
      "source": [
        "X_train, X_test, y_train, y_test = train_test_split(X, y, random_state=42)\n",
        "model = LinearRegression()\n",
        "model.fit(X_train, y_train)\n",
        "print('가중치(계수, 기울기, w):', model.coef_)\n",
        "print('편향(절편, b):', model.intercept_)\n",
        "\n",
        "print('훈련 점수:', model.score(X_train, y_train))\n",
        "print('테스트 점수:', model.score(X_test, y_test))"
      ],
      "execution_count": null,
      "outputs": [
        {
          "output_type": "stream",
          "text": [
            "가중치(계수, 기울기, w): [0.39390555]\n",
            "편향(절편, b): -0.031804343026759746\n",
            "훈련 점수: 0.6700890315075756\n",
            "테스트 점수: 0.65933685968637\n"
          ],
          "name": "stdout"
        }
      ]
    },
    {
      "cell_type": "markdown",
      "metadata": {
        "id": "z4Bh1Sz1a4hn"
      },
      "source": [
        "#### LinearRegression 실습 03 - 1\n",
        "변수가 1개인 경우"
      ]
    },
    {
      "cell_type": "code",
      "metadata": {
        "colab": {
          "base_uri": "https://localhost:8080/",
          "height": 282
        },
        "id": "6haUVKIZY4tz",
        "outputId": "df5ac443-af29-496c-a3eb-181de96c4ec5"
      },
      "source": [
        "import numpy as np\n",
        "import pandas as pd\n",
        "import matplotlib.pyplot as plt\n",
        "%matplotlib inline\n",
        "\n",
        "n_samples = 200\n",
        "x = np.random.randn(n_samples)\n",
        "w = 2\n",
        "b = 3\n",
        "y = w * x + b + np.random.randn(n_samples)  # 노이즈\n",
        "plt.scatter(x, y)"
      ],
      "execution_count": null,
      "outputs": [
        {
          "output_type": "execute_result",
          "data": {
            "text/plain": [
              "<matplotlib.collections.PathCollection at 0x7fe2cb51ec90>"
            ]
          },
          "metadata": {
            "tags": []
          },
          "execution_count": 115
        },
        {
          "output_type": "display_data",
          "data": {
            "image/png": "[encoded data removed]",
            "text/plain": [
              "<Figure size 432x288 with 1 Axes>"
            ]
          },
          "metadata": {
            "tags": [],
            "needs_background": "light"
          }
        }
      ]
    },
    {
      "cell_type": "code",
      "metadata": {
        "colab": {
          "base_uri": "https://localhost:8080/"
        },
        "id": "ohgPUUoXZM10",
        "outputId": "81c82748-465c-4239-9c1a-15b9e0cfef1b"
      },
      "source": [
        "# 위에 주어진 x, y를 이용하여 LinearRegression을 만들고, \n",
        "# 가중치와 편향을 출력해 보세요.\n",
        "\n",
        "from sklearn.linear_model import LinearRegression\n",
        "from sklearn.model_selection import train_test_split\n",
        "\n",
        "model = LinearRegression()\n",
        "\n",
        "# x = np.reshape(x,(200,1))\n",
        "# y = np.reshape(y, (200,1)) \n",
        "model.fit(x.reshape(-1,1), y)\n",
        "model.coef_, model. intercept_\n",
        "#기울기         #편향"
      ],
      "execution_count": null,
      "outputs": [
        {
          "output_type": "execute_result",
          "data": {
            "text/plain": [
              "(array([[1.91517707]]), array([2.98876439]))"
            ]
          },
          "metadata": {
            "tags": []
          },
          "execution_count": 132
        }
      ]
    }
  ]
}