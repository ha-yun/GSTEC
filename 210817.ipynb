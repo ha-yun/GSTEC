{
  "nbformat": 4,
  "nbformat_minor": 0,
  "metadata": {
    "colab": {
      "name": "210817.ipynb",
      "provenance": [],
      "collapsed_sections": [],
      "authorship_tag": "ABX9TyOSCCb2vV9ZfUwIG7yK3n0d",
      "include_colab_link": true
    },
    "kernelspec": {
      "name": "python3",
      "display_name": "Python 3"
    },
    "language_info": {
      "name": "python"
    }
  },
  "cells": [
    {
      "cell_type": "markdown",
      "metadata": {
        "id": "view-in-github",
        "colab_type": "text"
      },
      "source": [
        "<a href=\"https://colab.research.google.com/github/yun-aha/GSTEC/blob/main/210817.ipynb\" target=\"_parent\"><img src=\"https://colab.research.google.com/assets/colab-badge.svg\" alt=\"Open In Colab\"/></a>"
      ]
    },
    {
      "cell_type": "markdown",
      "metadata": {
        "id": "i_JWcMm1aoQw"
      },
      "source": [
        "# 3. 웹 어플리케이션\n"
      ]
    },
    {
      "cell_type": "code",
      "metadata": {
        "id": "jyhIvsC9mo6x"
      },
      "source": [
        "# projectapp/models.py\n",
        "\n",
        "class Project(models.Model):\n",
        "    name = models.CharField(max_length=20, null=False)\n",
        "    description = models.CharField(max_length=200, null=True)\n",
        "    image = models.ImageField(upload_to='project/', null=False)\n",
        "\n",
        "    created_at = models.DateTimeField(auto_now_add=True)\n"
      ],
      "execution_count": null,
      "outputs": []
    },
    {
      "cell_type": "markdown",
      "metadata": {
        "id": "aL2oqpHXseYP"
      },
      "source": [
        "terminal에  \n",
        "python manage.py makemigrations  \n",
        "python manage.py migrate"
      ]
    },
    {
      "cell_type": "code",
      "metadata": {
        "id": "VcsQCeKEmo87"
      },
      "source": [
        "# projectapp/forms.py\n",
        "from django.forms import ModelForm\n",
        "\n",
        "from projectapp.models import Project\n",
        "\n",
        "\n",
        "class ProjectCreationForm(ModelForm):\n",
        "    class Meta:\n",
        "        model = Project\n",
        "        fields = ['name', 'image', 'description']"
      ],
      "execution_count": null,
      "outputs": []
    },
    {
      "cell_type": "code",
      "metadata": {
        "id": "A42nWwMmmo_e"
      },
      "source": [
        "# projectapp/views.py\n",
        "class ProjectCreateView(CreateView):\n",
        "    model = Project\n",
        "    form_class = ProjectCreationForm\n",
        "    success_url = reverse_lazy('articleapp:list')\n",
        "    template_name = 'projectapp/create.html'\n",
        "\n",
        "# projectapp/urls.py\n",
        "from projectapp.views import ProjectCreateView\n",
        "\n",
        "app_name = 'projectapp'\n",
        "\n",
        "urlpatterns = [\n",
        "    path('create/', ProjectCreateView.as_view(), name='create'),\n",
        "]"
      ],
      "execution_count": null,
      "outputs": []
    },
    {
      "cell_type": "code",
      "metadata": {
        "id": "9fShdkSrmpBU"
      },
      "source": [
        "# projectapp/templates/projectapp/create.html\n",
        "{% extends 'base.html' %}\n",
        "{% load bootstrap4 %}\n",
        "\n",
        "{% block content %}\n",
        "\n",
        "    <div class=\"text-center mw-500 m-auto\">\n",
        "        <div class=\"m-5\">\n",
        "            <h4>Create Project</h4>\n",
        "        </div>\n",
        "        <div>\n",
        "            <form action=\"{% url 'projectapp:create' %}\"\n",
        "                  method=\"post\" enctype=\"multipart/form-data\">\n",
        "                {% csrf_token %}\n",
        "                {% bootstrap_form form %}\n",
        "                <div class=\"m-5\">\n",
        "                <input type=\"submit\"\n",
        "                       class=\"btn btn-dark rounded-pill px-5\">\n",
        "                </div>\n",
        "            </form>\n",
        "        </div>\n",
        "    </div>\n",
        "\n",
        "\n",
        "{% endblock %} "
      ],
      "execution_count": null,
      "outputs": []
    },
    {
      "cell_type": "code",
      "metadata": {
        "id": "_tPcD_mGmpDr"
      },
      "source": [
        "# projectapp/views.py\n",
        "\n",
        "class ProjectDetailView(DetailView):\n",
        "    model = Project\n",
        "    context_object_name = 'target_project'\n",
        "    template_name = 'projectapp/detail.html'\n",
        "\n",
        "\n",
        "# projectapp/urls.py\n",
        "    path('detail/<int:pk>', ProjectDetailView.as_view(), name='detail'),"
      ],
      "execution_count": null,
      "outputs": []
    },
    {
      "cell_type": "code",
      "metadata": {
        "id": "vUwKJfmf4EM0"
      },
      "source": [
        "# projectapp/templates/projectapp/detail.html\n",
        "{% extends 'base.html' %}\n",
        "\n",
        "{% block content %}\n",
        "\n",
        "    <div class=\"text-center mw-500 m-auto\">\n",
        "        <div class=\"m-5\">\n",
        "            <img src=\"{{ target_project.image.url }}\"\n",
        "                 class=\"profile_image m-4\"\n",
        "                 alt=\"profile image\">\n",
        "            <h2 class=\"NNS_B\">\n",
        "                {{ target_project.name }}\n",
        "            </h2>\n",
        "            <h5>{{ target_project.description }}</h5>\n",
        "        </div>\n",
        "    </div>\n",
        "\n",
        "\n",
        "{% endblock %} "
      ],
      "execution_count": null,
      "outputs": []
    },
    {
      "cell_type": "code",
      "metadata": {
        "id": "5Ox3umV64GE8"
      },
      "source": [
        "# projectapp/views.py\n",
        "@method_decorator(login_required, 'get')\n",
        "@method_decorator(login_required, 'post')\n",
        "class ProjectCreateView(CreateView):\n",
        "    model = Project\n",
        "    form_class = ProjectCreationForm\n",
        "    template_name = 'projectapp/create.html'\n",
        "\n",
        "    def get_success_url(self):\n",
        "        return reverse('projectapp:detail', kwargs={'pk': self.object.pk})\n"
      ],
      "execution_count": null,
      "outputs": []
    },
    {
      "cell_type": "code",
      "metadata": {
        "id": "Ysxz9DK477uV"
      },
      "source": [
        "# projectapp/views.py\n",
        "class ProjectListView(ListView):\n",
        "    model = Project\n",
        "    context_object_name = 'project_list'\n",
        "    template_name = 'projectapp/list.html'\n",
        "    paginate_by = 20\n",
        "\n",
        "# projectapp/urls.py\n",
        "    path('list/', ProjectListView.as_view(), name='list'),\n",
        "\n"
      ],
      "execution_count": null,
      "outputs": []
    },
    {
      "cell_type": "code",
      "metadata": {
        "id": "L14rzF828D58"
      },
      "source": [
        "# projectapp/templates/projectapp/list.html\n",
        "{% extends 'base.html' %}\n",
        "{% load static %}\n",
        "\n",
        "{% block content %}\n",
        "\n",
        "    <style>\n",
        "        .container {\n",
        "            padding: 0;\n",
        "            margin: 0 auto;\n",
        "        }\n",
        "\n",
        "        .container div {\n",
        "          width: 45%;\n",
        "            max-width: 200px;\n",
        "            box-shadow: 0 0 .5rem grey;\n",
        "          display: flex;\n",
        "          justify-content: center;\n",
        "          align-items: center;\n",
        "          border-radius: 1rem;\n",
        "            flex-direction: column;\n",
        "        }\n",
        "\n",
        "        .container img {\n",
        "            width: 100%;\n",
        "            border-radius: 1rem;\n",
        "        }\n",
        "\n",
        "    </style>\n",
        "\n",
        "\n",
        "    <div class=\"container my-4\">\n",
        "\n",
        "        {% for project in project_list %}\n",
        "\n",
        "            <div>\n",
        "                <a href=\"{% url 'projectapp:detail' pk=project.pk %}\">\n",
        "                    <img src=\"{{ project.image.url }}\"\n",
        "                         alt=\"\">\n",
        "                </a>\n",
        "                <span class=\"m-2 NNS_B\">{{ project.name }}</span>\n",
        "            </div>\n",
        "\n",
        "        {% endfor %}\n",
        "\n",
        "    </div>\n",
        "\n",
        "    <script src=\"{% static 'js/magicgrid.js' %}\"></script>\n",
        "\n",
        "    {% include 'snippets/pagination.html' %}\n",
        "\n",
        "    <div class=\"text-center my-5\">\n",
        "        <a href=\"{% url 'projectapp:create' %}\"\n",
        "           class=\"btn btn-outline-dark rounded-pill px-5\">\n",
        "            Create Project\n",
        "        </a>\n",
        "    </div>\n",
        "\n",
        "\n",
        "{% endblock %}\n"
      ],
      "execution_count": null,
      "outputs": []
    },
    {
      "cell_type": "code",
      "metadata": {
        "id": "zo_p9waK8D1L"
      },
      "source": [
        "# templates/header.html\n",
        "        <span>\n",
        "            <a href=\"{% url 'articleapp:list' %}\">\n",
        "                Articles\n",
        "            </a>\n",
        "        </span>\n",
        "        <span>\n",
        "            <a href=\"{% url 'projectapp:list' %}\">\n",
        "                Projects\n",
        "            </a>\n",
        "        </span>\n",
        "\n",
        "\n",
        "# projectapp/templates/projectapp/list.html\n",
        "        .container div {\n",
        "          background-color: lightseagreen;\n",
        "            box-shadow: 0 0 .5rem cadetblue;\n",
        "          display: flex;\n",
        "          justify-content: center;\n",
        "          align-items: center;\n",
        "          border-radius: 1rem;\n",
        "            flex-direction: column;\n",
        "        }\n",
        "    .container img{\n",
        "        width: 7rem;\n",
        "        height: 7rem;\n",
        "        object-fit: cover;\n",
        "        border-radius: 1rem;\n",
        "    }"
      ],
      "execution_count": null,
      "outputs": []
    },
    {
      "cell_type": "markdown",
      "metadata": {
        "id": "JXgHIUfkKczr"
      },
      "source": [
        "# 4. 알고리즘"
      ]
    },
    {
      "cell_type": "code",
      "metadata": {
        "id": "SedXLwbhKXS6"
      },
      "source": [
        "# ZZZZZ 36\n",
        "# 60466175\n",
        "\n",
        "# 0: 36^4\n",
        "# 1: 36^3\n",
        "# 2: 36^2\n",
        "# 3: 36^1\n",
        "# 4: 36^0\n",
        "\n",
        "num_str, b = input().split()\n",
        "\n",
        "# 1)\n",
        "# print(int(num_str, int(b)))\n",
        "\n",
        "# 2)\n",
        "decimal_result = 0\n",
        "\n",
        "# 2-2)\n",
        "# char_dict = {'0': 0, '1': 1, ..., '9': 9, 'A': 10, 'B': 11, ..., 'Z': 35}\n",
        "char_map_str = \"0123456789ABCDEFGHIJKLMNOPQRSTUVWXYZ\"\n",
        "\n",
        "for i in range(0, len(num_str)):\n",
        "    s_num = len(num_str)-1-i\n",
        "\n",
        "    if num_str[i].isnumeric():\n",
        "        num_val = int(num_str[i])\n",
        "    else: # elif ord('A') <= ord(num_str[i]) <= ord('Z'):\n",
        "        num_val = ord(num_str[i]) - ord('A') + 10\n",
        "\n",
        "    # 2-2)\n",
        "    # num_val = char_dict[num_str[i]]\n",
        "    # num_val = char_map_str.index(num_str[i])\n",
        "\n",
        "    decimal_result += num_val * (int(b) ** s_num)\n",
        "    \n",
        "print(decimal_result)    \n"
      ],
      "execution_count": null,
      "outputs": []
    },
    {
      "cell_type": "code",
      "metadata": {
        "id": "cCIDk7MlKSSD"
      },
      "source": [
        "# 1)\n",
        "\n",
        "def decimal_conv(i, num_str, b):\n",
        "    if i == len(num_str):\n",
        "        return 0\n",
        "\n",
        "    s_num = len(num_str)-1-i\n",
        "\n",
        "    if num_str[i].isnumeric():\n",
        "        num_val = int(num_str[i])\n",
        "    else:\n",
        "        num_val = ord(num_str[i]) - ord('A') + 10\n",
        "\n",
        "    return num_val * (b ** s_num) + decimal_conv(i+1, num_str, b)\n",
        "\n",
        "num_str, b = input().split()\n",
        "print(decimal_conv(0, num_str, int(b)))\n",
        "\n",
        "# 2)\n",
        "\n",
        "# def decimal_conv_dict(i, num_str, b, char_dict):\n",
        "#     if i == len(num_str):\n",
        "#         return 0\n",
        "\n",
        "#     s_num = len(num_str)-1-i\n",
        "\n",
        "#     return char_dict[num_str[i]] * (b ** s_num) + decimal_conv_dict(i+1, num_str, b, char_dict)\n",
        "\n",
        "# char_dict = {}\n",
        "\n",
        "# for i in range(36):\n",
        "#     if i < 10:\n",
        "#         char_dict[str(i)] = i\n",
        "#     else:\n",
        "#         char_dict[chr(i-10+ord('A'))] = i\n",
        "\n",
        "# num_str, b = input().split()\n",
        "# print(decimal_conv_dict(0, num_str, int(b), char_dict))"
      ],
      "execution_count": null,
      "outputs": []
    }
  ]
}