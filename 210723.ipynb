{
  "nbformat": 4,
  "nbformat_minor": 0,
  "metadata": {
    "colab": {
      "name": "210723.ipynb",
      "provenance": [],
      "authorship_tag": "ABX9TyPpjqymxnbIoGLqSulyU1Zk",
      "include_colab_link": true
    },
    "kernelspec": {
      "name": "python3",
      "display_name": "Python 3"
    },
    "language_info": {
      "name": "python"
    }
  },
  "cells": [
    {
      "cell_type": "markdown",
      "metadata": {
        "id": "view-in-github",
        "colab_type": "text"
      },
      "source": [
        "<a href=\"https://colab.research.google.com/github/yun-aha/GSTEC/blob/main/210723.ipynb\" target=\"_parent\"><img src=\"https://colab.research.google.com/assets/colab-badge.svg\" alt=\"Open In Colab\"/></a>"
      ]
    },
    {
      "cell_type": "markdown",
      "metadata": {
        "id": "W9GYNII8rDQZ"
      },
      "source": [
        "# 1. 빅데이터 분석"
      ]
    },
    {
      "cell_type": "markdown",
      "metadata": {
        "id": "K57q30IYrFQe"
      },
      "source": [
        "카이제곱 분포함수 (Chi Square):\n",
        "- k개의 표준정규분포를 따르는 독립적인 확률변수 𝑍 ~ 𝑁(0,1)가 있을때 카이제곱 확률변수 Q는 이들의 제곱의 합이다.  \n",
        "𝑄 = 𝑍^2 + 𝑍^2 + 𝑍^2 + ⋯ + 𝑍^2  \n",
        "<- k 개 →  \n",
        "- 여기에서 k를 “자유도”라고 부른다.\n",
        "- 확률변수 Q가 카이제곱 확률분포를 따른다는 것을 다음과 같이 표기할 수 있다.  \n",
        "𝑄~𝜒^2(𝑘)\n",
        "\n",
        "\n",
        "스튜던트 t 분포함수 (Student t):  \n",
        "- 𝑄 ~ 𝜒^2(𝑘)이고 𝑍 ~ 𝑁(0,1)일때 스튜던트 t 확률변수 T는 다음과 같이 정의 된다.  \n",
        "𝑇 = 𝑍/ 루트(𝑄/𝑘)\n",
        "- 여기에서 k 는 카이제곱 확률변수의 “자유도”이다.\n",
        "- 확률변수 T가 스튜던트 t 확률분포를 따른다는 것을 다음과 같이 표기할 수 있다.  \n",
        "𝑇~ 𝑡(𝑘)\n",
        "- 자유도 k가 커질수록 스튜던트 t는 표준정규분포로 수렴한다.\n",
        "\n",
        "\n",
        "F 분포함수:  \n",
        "- 𝑄1 ~ 𝜒^2(𝑑1)이고 𝑄2 ~ 𝜒^2(𝑑2)일때 F 확률변수 X는 다음과 같이 정의 된다.  \n",
        "𝑋 = (𝑄1/𝑑1) / (𝑄2/𝑑2)\n",
        "- 여기에서 𝑑1와 𝑑2는 카이제곱 확률변수의 “자유도”이다:  \n",
        "→ 𝑑1 = 분자의 자유도  \n",
        "→ 𝑑2 = 분모의 자유도  \n",
        "- 확률변수 X가 F 확률분포를 따른다는 것을 다음과 같이 표기할 수 있다.  \n",
        "𝑋~ 𝐹(𝑑1, 𝑑2)\n",
        "- F 검정, 분산분석 (ANOVA) 등 활용\n",
        "\n"
      ]
    },
    {
      "cell_type": "markdown",
      "metadata": {
        "id": "-7hVuvOAr9Xx"
      },
      "source": [
        "Python의 연속확률 python 함수:\n",
        "\n",
        "|명칭|함수|\n",
        "|---|---|\n",
        "|연속균등(Uniform)|scipy.stats.uniform.pdf() scipy.stats.uniform.cdf() scipy.stats.uniform.ppf()|\n",
        "|정규 (Norm)|scipy.stats.norm.()|\n",
        "|지수 (Exponential)| scipy.stats.expon.()|\n",
        "|카이제곱 (Chi Square)|scipy.stats.chi2.()|\n",
        "|스튜던트 t (Student t)|scipy.stats.t.()|\n",
        "|F| scipy.stats.f.()|"
      ]
    },
    {
      "cell_type": "markdown",
      "metadata": {
        "id": "lCCU_t_1sCWA"
      },
      "source": [
        "### 5: 결합확률과 상관계수"
      ]
    },
    {
      "cell_type": "markdown",
      "metadata": {
        "id": "v1hmCewUrFSa"
      },
      "source": [
        "공분산 (Covariance):\n",
        "-  결합확률을 사용하여 계산.\n",
        "- “분산과 공분산의 연결”\n",
        "\n",
        "상관계수 (Pearson Correlation Coefficient):\n",
        "- 𝐶𝑜𝑟𝑟 𝑋, 𝑌 = 𝐶𝑜𝑣(𝑋,𝑌) / 𝜎𝑋𝜎𝑌\n",
        "- 상관계수의 값은 -1과 1사이의 수치이다.\n",
        "- 상관계수는 선형관계의 방향과 강도를 나타낸다.  \n",
        "→ 𝐶𝑜𝑟𝑟(𝑋, 𝑌) > 0 : X와 Y 사이에 양의 선형관계가 있음.  \n",
        "→ 𝐶𝑜𝑟𝑟 𝑋, 𝑌 < 0 : X와 Y 사이에 음의 선형관계가 있음.  \n",
        "→ 𝐶𝑜𝑟𝑟 𝑋, 𝑌 = 0 : X와 Y 사이에 선형관계가 없음.  \n",
        "- 상관성은 원인과 결과로 해석하면 안된다!\n",
        "- 허구적 상관관계 (spurious correlation)도 있을 수 있으니 주의한다!\n",
        "- 상관계수는 선형관계의 “명확함”을 나타낸다.\n",
        "- 상관계수는 외상치 (outlier)에 민감하다.\n",
        "\n",
        "독립성 vs 상관성:  \n",
        "- 독립성: 𝑃(𝑋, 𝑌) = 𝑃 (𝑋) 𝑃(𝑌).  \n",
        "→ 𝐶𝑜𝑣(𝑋, 𝑌) = 𝐸[𝑋 𝑌] − 𝐸[𝑋]𝐸[𝑌] = 𝐸[𝑋]𝐸[𝑌] − 𝐸[𝑋]𝐸[𝑌] = 0.  \n",
        "→ 𝐶𝑜𝑟𝑟(𝑋, 𝑌) = 0. 그러므로 “상관성 없음”을 내포함.  \n",
        "- 상관계수: 𝐶𝑜𝑟𝑟 𝑋, 𝑌 .  \n",
        "→ 상관계수는 -1과 1 사이의 수치이다.  \n",
        "→ “상관성이 없다” = “상관계수 0”. 하지만 독립성을 내포하지는 않는다.  \n",
        "예). -1, 0, 1에서 동일확률을 갖는 확률변수 X와 𝑌 = 𝑋^2사이의 상관계수는 0\n",
        "이지만 독립적이지는 않다.\n"
      ]
    }
  ]
}