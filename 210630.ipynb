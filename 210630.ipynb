{
  "nbformat": 4,
  "nbformat_minor": 0,
  "metadata": {
    "colab": {
      "name": "210630.ipynb",
      "provenance": [],
      "collapsed_sections": [],
      "authorship_tag": "ABX9TyP+N1/X/Pto82hQcV21sypE",
      "include_colab_link": true
    },
    "kernelspec": {
      "name": "python3",
      "display_name": "Python 3"
    },
    "language_info": {
      "name": "python"
    }
  },
  "cells": [
    {
      "cell_type": "markdown",
      "metadata": {
        "id": "view-in-github",
        "colab_type": "text"
      },
      "source": [
        "<a href=\"https://colab.research.google.com/github/yun-aha/GSTEC/blob/main/210630.ipynb\" target=\"_parent\"><img src=\"https://colab.research.google.com/assets/colab-badge.svg\" alt=\"Open In Colab\"/></a>"
      ]
    },
    {
      "cell_type": "markdown",
      "metadata": {
        "id": "crw7oXfoOWKv"
      },
      "source": [
        "#1. 딥러닝 & 강화학습"
      ]
    },
    {
      "cell_type": "code",
      "metadata": {
        "colab": {
          "base_uri": "https://localhost:8080/"
        },
        "id": "qczedEaATnaf",
        "outputId": "2654b4c1-3bc0-4b4a-a338-93bfd9642e27"
      },
      "source": [
        "#MSE\n",
        "#1\n",
        "y_1 = 21\n",
        "y_2 = 10\n",
        "y_3 = 14\n",
        "y_hat_1 = 15\n",
        "y_hat_2 = 12\n",
        "y_hat_3 = 18\n",
        "\n",
        "a = (y_1 - y_hat_1)**2\n",
        "b = (y_2 - y_hat_2)**2\n",
        "c = (y_3 - y_hat_3)**2\n",
        "print(a, b, c)\n",
        "\n",
        "import numpy as np\n",
        "n = 3\n",
        "mse = (a+b+c)/n\n",
        "\n",
        "print(\"MSE : {}\".format(np.round(mse,4)))"
      ],
      "execution_count": null,
      "outputs": [
        {
          "output_type": "stream",
          "text": [
            "36 4 16\n",
            "MSE : 18.6667\n"
          ],
          "name": "stdout"
        }
      ]
    },
    {
      "cell_type": "code",
      "metadata": {
        "colab": {
          "base_uri": "https://localhost:8080/"
        },
        "id": "0wXHlioxOSz2",
        "outputId": "d00289de-b2c2-4916-e2ef-97c578a6d5d3"
      },
      "source": [
        "#MSE\n",
        "#2\n",
        "import numpy as np\n",
        "y=[21,10,14]\n",
        "yh=[15,12,18]\n",
        "AI=(y[0]-yh[0])**2+(y[1]-yh[1])**2+(y[2]-yh[2])**2\n",
        "n=3\n",
        "mse=AI/n\n",
        "print(np.round(mse,4))"
      ],
      "execution_count": null,
      "outputs": [
        {
          "output_type": "stream",
          "text": [
            "18.6667\n"
          ],
          "name": "stdout"
        }
      ]
    },
    {
      "cell_type": "markdown",
      "metadata": {
        "id": "Kdg0-E9FTcGu"
      },
      "source": [
        "성별 m,f,i를 0,1,2로 변경하면 선형적 문제!  \n",
        "--> 원핫벡터 One-hot Vector  \n"
      ]
    },
    {
      "cell_type": "code",
      "metadata": {
        "colab": {
          "base_uri": "https://localhost:8080/"
        },
        "id": "c444j4GKOhvZ",
        "outputId": "e4b496e7-9abe-4101-8a51-cbdbc49b6953"
      },
      "source": [
        "#1\n",
        "rows=['M',0.455,0.365,0.0950] # -> [1,0,0,0.455,0.365,0.0950]\n",
        "if rows[0]=='M':\n",
        "  m=[1,0,0]\n",
        "  rows.pop(0)\n",
        "  rows=m+rows\n",
        "elif rows[0]=='F':\n",
        "  f=[0,1,0]\n",
        "  rows.pop(0)\n",
        "  rows=f+rows\n",
        "else:\n",
        "  i=[0,0,1]\n",
        "  rows=i+rows\n",
        "print(rows)"
      ],
      "execution_count": null,
      "outputs": [
        {
          "output_type": "stream",
          "text": [
            "[1, 0, 0, 0.455, 0.365, 0.095]\n"
          ],
          "name": "stdout"
        }
      ]
    },
    {
      "cell_type": "code",
      "metadata": {
        "colab": {
          "base_uri": "https://localhost:8080/"
        },
        "id": "RRayDGD8YIAm",
        "outputId": "fa427b06-cd81-4617-9a04-0a17304ce8b1"
      },
      "source": [
        "#2 np.zeros 사용\n",
        "rows = ['I', 0.455, 0.365, 0.095] # ---->> [1, 0, 0, 0.455, 0.365, 0.095]\n",
        "data = np.zeros(6)\n",
        "print(data)\n",
        "if rows[0] == 'M':\n",
        "    data[0] = 1\n",
        "elif rows[0] == 'F':\n",
        "    data[1] = 1\n",
        "elif rows[0] == 'I':\n",
        "    data[2] = 1\n",
        "\n",
        "print('----------------------')\n",
        "print(data)\n",
        "print(rows)\n",
        "print(\"=========================\")\n",
        "print(data)\n",
        "\n",
        "data[3:] = rows[1:]\n",
        "print(data)"
      ],
      "execution_count": null,
      "outputs": [
        {
          "output_type": "stream",
          "text": [
            "[0. 0. 0. 0. 0. 0.]\n",
            "----------------------\n",
            "[0. 0. 1. 0. 0. 0.]\n",
            "['I', 0.455, 0.365, 0.095]\n",
            "=========================\n",
            "[0. 0. 1. 0. 0. 0.]\n",
            "[0.    0.    1.    0.455 0.365 0.095]\n"
          ],
          "name": "stdout"
        }
      ]
    },
    {
      "cell_type": "code",
      "metadata": {
        "colab": {
          "base_uri": "https://localhost:8080/"
        },
        "id": "2SI1u0hJWm4a",
        "outputId": "1f9975fe-a050-4872-860a-25430631db92"
      },
      "source": [
        "import csv\n",
        "with open('./abalone_mini.csv') as csvfile:\n",
        "  csvreader=csv.reader(csvfile)\n",
        "  \n",
        "  rows=[]\n",
        "  for row in csvreader:\n",
        "    rows.append(row)\n",
        "print(rows)"
      ],
      "execution_count": null,
      "outputs": [
        {
          "output_type": "stream",
          "text": [
            "[['M', '0.455', '0.365', '0.095', '0.514', '0.2245', '0.101', '0.15', '15'], ['M', '0.35', '0.265', '0.09', '0.2255', '0.0995', '0.0485', '0.07', '7'], ['F', '0.53', '0.42', '0.135', '0.677', '0.2565', '0.1415', '0.21', '9'], ['M', '0.44', '0.365', '0.125', '0.516', '0.2155', '0.114', '0.155', '10'], ['I', '0.33', '0.255', '0.08', '0.205', '0.0895', '0.0395', '0.055', '7']]\n"
          ],
          "name": "stdout"
        }
      ]
    },
    {
      "cell_type": "code",
      "metadata": {
        "colab": {
          "base_uri": "https://localhost:8080/"
        },
        "id": "muvb7vQTdjn0",
        "outputId": "70df1e1a-2b9b-4669-92b1-ea8267906474"
      },
      "source": [
        "#1\n",
        "m=[1,0,0]\n",
        "f=[0,1,0]\n",
        "i=[0,0,1]\n",
        "rows_s=[]\n",
        "for r in rows:\n",
        "  if r[0]=='M':\n",
        "    r.pop(0)\n",
        "    r=m+r\n",
        "    rows_s.append(r)\n",
        "  elif r[1]=='F':\n",
        "    r.pop(0)\n",
        "    r=f+r\n",
        "    rows_s.append(r)\n",
        "  else:\n",
        "    r.pop(0)\n",
        "    r=i+r\n",
        "    rows_s.append(r)\n",
        "print(rows_s)"
      ],
      "execution_count": null,
      "outputs": [
        {
          "output_type": "stream",
          "text": [
            "[[1, 0, 0, '0.455', '0.365', '0.095', '0.514', '0.2245', '0.101', '0.15', '15'], [1, 0, 0, '0.35', '0.265', '0.09', '0.2255', '0.0995', '0.0485', '0.07', '7'], [0, 0, 1, '0.53', '0.42', '0.135', '0.677', '0.2565', '0.1415', '0.21', '9'], [1, 0, 0, '0.44', '0.365', '0.125', '0.516', '0.2155', '0.114', '0.155', '10'], [0, 0, 1, '0.33', '0.255', '0.08', '0.205', '0.0895', '0.0395', '0.055', '7']]\n"
          ],
          "name": "stdout"
        }
      ]
    },
    {
      "cell_type": "code",
      "metadata": {
        "colab": {
          "base_uri": "https://localhost:8080/"
        },
        "id": "_Tr_U-EqggV0",
        "outputId": "828b95e8-3ac7-4c58-9d77-d8400ebed717"
      },
      "source": [
        "#2 \n",
        "#enumerate함수 사용\n",
        "data=np.zeros([5,11])\n",
        "print(data)\n",
        "for n,row in enumerate(rows):\n",
        "  if row[0]=='M': data[n,0]=1\n",
        "  elif row[0]=='F': data[n,1]=1\n",
        "  elif row[0]=='I': data[n,2]=1\n",
        "  data[n,3:]=row[1:]\n",
        "print(data)"
      ],
      "execution_count": null,
      "outputs": [
        {
          "output_type": "stream",
          "text": [
            "[[0. 0. 0. 0. 0. 0. 0. 0. 0. 0. 0.]\n",
            " [0. 0. 0. 0. 0. 0. 0. 0. 0. 0. 0.]\n",
            " [0. 0. 0. 0. 0. 0. 0. 0. 0. 0. 0.]\n",
            " [0. 0. 0. 0. 0. 0. 0. 0. 0. 0. 0.]\n",
            " [0. 0. 0. 0. 0. 0. 0. 0. 0. 0. 0.]]\n",
            "[[ 1.      0.      0.      0.455   0.365   0.095   0.514   0.2245  0.101\n",
            "   0.15   15.    ]\n",
            " [ 1.      0.      0.      0.35    0.265   0.09    0.2255  0.0995  0.0485\n",
            "   0.07    7.    ]\n",
            " [ 0.      1.      0.      0.53    0.42    0.135   0.677   0.2565  0.1415\n",
            "   0.21    9.    ]\n",
            " [ 1.      0.      0.      0.44    0.365   0.125   0.516   0.2155  0.114\n",
            "   0.155  10.    ]\n",
            " [ 0.      0.      1.      0.33    0.255   0.08    0.205   0.0895  0.0395\n",
            "   0.055   7.    ]]\n"
          ],
          "name": "stdout"
        }
      ]
    },
    {
      "cell_type": "code",
      "metadata": {
        "colab": {
          "base_uri": "https://localhost:8080/"
        },
        "id": "VnGPpNrzkqjr",
        "outputId": "0bc92222-38a0-4dea-b835-4f28036252ad"
      },
      "source": [
        "#함수에 함수 넣기\n",
        "def main_exec():\n",
        "  #import_data()\n",
        "  model_init()\n",
        "  #train_and_test()\n",
        "\n",
        "RND_MEAN = 0\n",
        "RND_STD = 1\n",
        "def model_init():\n",
        "  global weight, bias      #전역변수화\n",
        "  weight = np.random.normal(RND_MEAN,RND_STD,size=1)\n",
        "  bias = np.random.normal(RND_MEAN,RND_STD,size=1)\n",
        "\n",
        "main_exec()\n",
        "print('weight : ',weight)\n",
        "print('bias : ',bias)"
      ],
      "execution_count": null,
      "outputs": [
        {
          "output_type": "stream",
          "text": [
            "weight :  [1.53771869]\n",
            "bias :  [-0.65914163]\n"
          ],
          "name": "stdout"
        }
      ]
    },
    {
      "cell_type": "markdown",
      "metadata": {
        "id": "HZbkOnmscNZk"
      },
      "source": [
        "#2. 머신러닝"
      ]
    },
    {
      "cell_type": "code",
      "metadata": {
        "colab": {
          "base_uri": "https://localhost:8080/"
        },
        "id": "wd60aQj9cPKh",
        "outputId": "e3ce559c-5c21-4b59-880b-6efe765102d4"
      },
      "source": [
        "#토너먼트 9팀\n",
        "#1\n",
        "import random\n",
        "t=[1,2,3,4,5,6,7,8,9]\n",
        "a=[]\n",
        "while len(t)>0:\n",
        "  one=random.choice(t)\n",
        "  t.remove(one)\n",
        "  if len(t)==0:\n",
        "    a.append(one)\n",
        "    break\n",
        "  two=random.choice(t)\n",
        "  t.remove(two)\n",
        "  a.append((one,two))\n",
        "print(a)\n",
        "\n",
        "print('===================================')\n",
        "#2\n",
        "teams=list(range(1,10))\n",
        "random.shuffle(teams)\n",
        "half=len(teams)//2\n",
        "print(teams[:half], teams[half:])\n",
        "print(teams)\n",
        "print(list(zip(teams[:half],teams[half:])))"
      ],
      "execution_count": null,
      "outputs": [
        {
          "output_type": "stream",
          "text": [
            "[(7, 5), (2, 4), (3, 8), (9, 1), 6]\n",
            "===================================\n",
            "[7, 6, 5, 3] [8, 1, 4, 9, 2]\n",
            "[7, 6, 5, 3, 8, 1, 4, 9, 2]\n",
            "[(7, 8), (6, 1), (5, 4), (3, 9)]\n"
          ],
          "name": "stdout"
        }
      ]
    },
    {
      "cell_type": "code",
      "metadata": {
        "id": "NzUYEBDDt0ya"
      },
      "source": [
        "#html 배포 -> https://app.netlify.com/teams/yun-aha/overview\n",
        "#깃헙 연동\n",
        "#web을 배포하면 default로 찾는 폴더 index.html"
      ],
      "execution_count": null,
      "outputs": []
    },
    {
      "cell_type": "markdown",
      "metadata": {
        "id": "S_MwwTJHB-iX"
      },
      "source": [
        "#3. 빅데이터 분석"
      ]
    },
    {
      "cell_type": "code",
      "metadata": {
        "id": "xctXlxlJjPaF"
      },
      "source": [
        "#특정 컬럼 가져오기\n",
        "SELECT*FROM Country ORDER BY Code; \n",
        "SELECT Name, Code, Region, Population FROM Country ORDER BY Code;  \n",
        "SELECT Name, Code, Region, Population FROM Country ORDER BY Population DESC;  #DESC는 내림차순\n",
        "SELECT Name AS Country,Code FROM Country ORDER BY Code;   #컬럼을 불러와서 이름을 변경하여 출력할 수 있다.\n",
        "SELECT Name AS Coutry,Population/1000 AS \"Pop(1000s)\"FROM Coutry; #간단한 수식을 적용할 수도 있다.\n",
        "\n",
        "#SELECT + ORDER BY를 사용해서 정렬된 결과를 보여줄 수 있다.\n",
        "SELECT Name FROM Country; #정렬x\n",
        "SELECT Name FROM Country ORDER BY Name; #오름차순 정렬 default\n",
        "SELECT Name FROM Country ORDER BY Name DESC; #내림차순 정렬\n",
        "SELECT Name FROM Country ORDER BY NAme ASC;  #오름차순 정렬\n",
        "SELECT Name,Continent FROM Country ORDER BY Continent,Naem; #두 개 이상의 컬럼으로 정렬\n",
        "SELECT Name,Continent FROM Country ORDER BY Continent DESC, Name; #먼저 나오는 컬럼을 우선해서 정렬\n",
        "\n",
        "#SELECT + WHERE를 사용해서 필터링 결과를 보여줄 수 있다.\n",
        "#AND, OR 등으로 조건문을 연결할 수 있다.\n",
        "#BETWEEN n1 AND n2 로 n1~n2로 레인지에 속하는 값만 필터링 할 수 있다.\n",
        "SELECT Name, Continent, Population FROM Country WHERE Population <100000 ORDER BY Population DESC;\n",
        "SELECT Name, Continent, Population FROM Country WHERE Population < 100000 AND Continent = 'Oceania' ORDER BY Population DESC;\n",
        "SELECT Name, Population FROM Country WHERE Population BETWEEN 1000000 AND 10000000 ORDER BY Population DESC;\n",
        "SELECT Name, Population FROM Country WHERE Population NOT BETWEEN 1000000 AND 10000000 ORDER BY Population DESC;\n",
        "\n",
        "#SELECT + WHERE + LIKE을 사용해서 필터링 결과를 보여줄 수 있다.\n",
        "#'%'는 불특정 문자열 부분을 의미하고 '_'는 불특정 문자를 의미한다.\n",
        "SELECT Name,Continent FROM Country WHERE Name LIKE '%island';\n",
        "SELECT Name,Continent FROM Country WHERE Name LIKE 'island%';\n",
        "SELECT Name,Continent FROM Country WHERE Name LIKE '%island%';\n",
        "SELECT Name,Continent FROM Country WHERE Name LIKE '_a%';   #두번째 문자가 'a'\n",
        "\n",
        "#SELECT + WHERE + IN을 사용해서 멤버쉽 필터링 결과를 보여줄 수 있다.\n",
        "SELECT Name,Continent FROM Country WHERE Continent IN ('Europe','Asia');\n",
        "SELECT Name,Continent,Region FROM Country WHERE Region IN ('Western Europe','Eastern Europe') ORDER BY Region;\n",
        "SELECT Name,Continent,Region FROM Country WHERE Region='Western Europe' OR Region='Eastern Europe' ORDER BY Region; \n",
        "\n",
        "#DISTINCT 키워드를 사용해서 중복을 제거하고 출력할 수 있다.\n",
        "SELECT CountryCode, Name FROM City;\n",
        "SELECT DISTINCT CountryCode FROM City;\n",
        "SELECT COUNT(CountryCode)FROM City;\n",
        "SELECT COUNT(DISTINCT CountryCode) FROM City;\n",
        "\n",
        "#SELECT로 출력된 결과를 \"가상\"의 테이블로 사용하여 SELECT 문을 만들 수 있다. \n",
        "SELECT Name FROM (SELECT Code, Name, Continent FROM Country);\n",
        "SELECT COUNT(*) FROM (SELECT DISTINCT CountryCode FROM City);\n"
      ],
      "execution_count": null,
      "outputs": []
    },
    {
      "cell_type": "code",
      "metadata": {
        "id": "C2qKjNWEoMC8"
      },
      "source": [
        "#CREATE TABLE로 데이터 베이스에 테이블을 추가할 수 있다. \n",
        "CREATE TABLE test (a INT, b TEXT, c TEXT);   #'a','b','c'컬럼의 테이블 생성\n",
        "CREATE TABLE IF NOT EXISTS test (a INT,b TEXT, c TEXT); #'a','b','c'컬럼의 테이블 중복 체크 후 생성\n",
        "SELECT name FROM sqlite_master WHERE TYPE ='table'  #테이블 목록(SQLite)\n",
        "PRAGMA table_info(test)  #특정 테이블에 대한 정보\n",
        "\n",
        "#INSERT INTO ~ VALUES로 행을 추가할 수 있다.\n",
        "INSERT INTO test VALUES (1, 'This','Right here!'); #1행 추가\n",
        "INSERT INTO test (b,c) VALUES ('That','Over there!'); #'a'는 NULL , b와 c에 values추가\n",
        "SELECT *FROM test;\n",
        "#다른 테이블에서 SELECT로 가져온 결과로 행 추가 가능하다.\n",
        "INSERT INTO test(a,b,c) SELECT id,name,description FROM item; #'item'테이블에서 가져온 결과를 test에 추가\n",
        "\n",
        "#UPDATE + SET로 특정 행의 특정 컬럼 값을 변경할 수 있다.\n",
        "UPDATE test SET c='Extra funny.' WHERE a=2;    #'c'컬럼의 값 변경\n",
        "SELECT*FROM test;\n",
        "UPDATE test SET c=NULL WHERE a=2;  #NULL값으로 변경\n",
        "UPDATE test SET(b,c)=('T-Rex','Toy dinosaur')WHERE a=2;   #값 변경\n",
        "\n",
        "#DELETE FROM으로 특정 행을 삭제할 수 있따.\n",
        "DELETE FROM test WHERE a=2; #조건에 맞는 행 삭제\n",
        "DELETE FROM test; #모든 행 삭제 , 테이블은 남음\n",
        "\n",
        "#DROP TABLE로 특정 테이블을 삭제할 수 있다.\n",
        "DROP TABLE test; #데이터베이스에서 'test'테이블 삭제\n",
        "DROP TABLE IF EXISTS test; #존재여부 확인하고 데이터 베이스에서 'test'테이블 삭제\n",
        "\n",
        "#NULL은 값이 아니라 결측치를 의미하여 0 또는 ''(공백)과는 다르다.\n",
        "CREATE TABLE test (a INT, b TEXT, c TEXT);\n",
        "INSERT INTO test(b,c) VALUES ('This','That');  #'a'에는 NULL을 넣어줌\n",
        "SELECT *FROM test WHERE a=NULL; #작동 안함\n",
        "SELECT*FROM test WHERE a IS NULL; #작동함\n",
        "SELECT*FROM test WHERE a IS NOT NULL; #작동함\n",
        "UPDATE test SET a=0 WHERE a IS NULL; #'a'컬럼의 NULL을 0값으로 채워 넣음."
      ],
      "execution_count": null,
      "outputs": []
    },
    {
      "cell_type": "markdown",
      "metadata": {
        "id": "-LeFswQUkreJ"
      },
      "source": [
        "\n",
        "괄호는 사용x\n",
        "결측치 여부는 IS NULL\n"
      ]
    },
    {
      "cell_type": "markdown",
      "metadata": {
        "id": "PswCW16E0Sw2"
      },
      "source": [
        "#4. 취업멘토링"
      ]
    },
    {
      "cell_type": "markdown",
      "metadata": {
        "id": "qSF-3U2v0V-e"
      },
      "source": [
        "* CB insights  \n",
        "* classum  \n",
        "* g3cloud  \n",
        "* Crunchbase: Discover innovative companies and the people ...https://www.crunchbase.com\n",
        "\n"
      ]
    }
  ]
}