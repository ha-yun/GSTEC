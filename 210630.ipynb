{
  "nbformat": 4,
  "nbformat_minor": 0,
  "metadata": {
    "colab": {
      "name": "210630.ipynb",
      "provenance": [],
      "collapsed_sections": [],
      "authorship_tag": "ABX9TyPXTKFUX/wCfYS+BIdNUaE7",
      "include_colab_link": true
    },
    "kernelspec": {
      "name": "python3",
      "display_name": "Python 3"
    },
    "language_info": {
      "name": "python"
    }
  },
  "cells": [
    {
      "cell_type": "markdown",
      "metadata": {
        "id": "view-in-github",
        "colab_type": "text"
      },
      "source": [
        "<a href=\"https://colab.research.google.com/github/yun-aha/GSTEC/blob/main/210630.ipynb\" target=\"_parent\"><img src=\"https://colab.research.google.com/assets/colab-badge.svg\" alt=\"Open In Colab\"/></a>"
      ]
    },
    {
      "cell_type": "markdown",
      "metadata": {
        "id": "crw7oXfoOWKv"
      },
      "source": [
        "#1. 딥러닝 & 강화학습"
      ]
    },
    {
      "cell_type": "code",
      "metadata": {
        "colab": {
          "base_uri": "https://localhost:8080/"
        },
        "id": "qczedEaATnaf",
        "outputId": "2654b4c1-3bc0-4b4a-a338-93bfd9642e27"
      },
      "source": [
        "#MSE\n",
        "#1\n",
        "y_1 = 21\n",
        "y_2 = 10\n",
        "y_3 = 14\n",
        "y_hat_1 = 15\n",
        "y_hat_2 = 12\n",
        "y_hat_3 = 18\n",
        "\n",
        "a = (y_1 - y_hat_1)**2\n",
        "b = (y_2 - y_hat_2)**2\n",
        "c = (y_3 - y_hat_3)**2\n",
        "print(a, b, c)\n",
        "\n",
        "import numpy as np\n",
        "n = 3\n",
        "mse = (a+b+c)/n\n",
        "\n",
        "print(\"MSE : {}\".format(np.round(mse,4)))"
      ],
      "execution_count": null,
      "outputs": [
        {
          "output_type": "stream",
          "text": [
            "36 4 16\n",
            "MSE : 18.6667\n"
          ],
          "name": "stdout"
        }
      ]
    },
    {
      "cell_type": "code",
      "metadata": {
        "colab": {
          "base_uri": "https://localhost:8080/"
        },
        "id": "0wXHlioxOSz2",
        "outputId": "d00289de-b2c2-4916-e2ef-97c578a6d5d3"
      },
      "source": [
        "#MSE\n",
        "#2\n",
        "import numpy as np\n",
        "y=[21,10,14]\n",
        "yh=[15,12,18]\n",
        "AI=(y[0]-yh[0])**2+(y[1]-yh[1])**2+(y[2]-yh[2])**2\n",
        "n=3\n",
        "mse=AI/n\n",
        "print(np.round(mse,4))"
      ],
      "execution_count": null,
      "outputs": [
        {
          "output_type": "stream",
          "text": [
            "18.6667\n"
          ],
          "name": "stdout"
        }
      ]
    },
    {
      "cell_type": "markdown",
      "metadata": {
        "id": "Kdg0-E9FTcGu"
      },
      "source": [
        "성별 m,f,i를 0,1,2로 변경하면 선형적 문제!  \n",
        "--> 원핫벡터 One-hot Vector  \n"
      ]
    },
    {
      "cell_type": "code",
      "metadata": {
        "colab": {
          "base_uri": "https://localhost:8080/"
        },
        "id": "c444j4GKOhvZ",
        "outputId": "e4b496e7-9abe-4101-8a51-cbdbc49b6953"
      },
      "source": [
        "#1\n",
        "rows=['M',0.455,0.365,0.0950] # -> [1,0,0,0.455,0.365,0.0950]\n",
        "if rows[0]=='M':\n",
        "  m=[1,0,0]\n",
        "  rows.pop(0)\n",
        "  rows=m+rows\n",
        "elif rows[0]=='F':\n",
        "  f=[0,1,0]\n",
        "  rows.pop(0)\n",
        "  rows=f+rows\n",
        "else:\n",
        "  i=[0,0,1]\n",
        "  rows=i+rows\n",
        "print(rows)"
      ],
      "execution_count": null,
      "outputs": [
        {
          "output_type": "stream",
          "text": [
            "[1, 0, 0, 0.455, 0.365, 0.095]\n"
          ],
          "name": "stdout"
        }
      ]
    },
    {
      "cell_type": "code",
      "metadata": {
        "colab": {
          "base_uri": "https://localhost:8080/"
        },
        "id": "RRayDGD8YIAm",
        "outputId": "fa427b06-cd81-4617-9a04-0a17304ce8b1"
      },
      "source": [
        "#2 np.zeros 사용\n",
        "rows = ['I', 0.455, 0.365, 0.095] # ---->> [1, 0, 0, 0.455, 0.365, 0.095]\n",
        "data = np.zeros(6)\n",
        "print(data)\n",
        "if rows[0] == 'M':\n",
        "    data[0] = 1\n",
        "elif rows[0] == 'F':\n",
        "    data[1] = 1\n",
        "elif rows[0] == 'I':\n",
        "    data[2] = 1\n",
        "\n",
        "print('----------------------')\n",
        "print(data)\n",
        "print(rows)\n",
        "print(\"=========================\")\n",
        "print(data)\n",
        "\n",
        "data[3:] = rows[1:]\n",
        "print(data)"
      ],
      "execution_count": null,
      "outputs": [
        {
          "output_type": "stream",
          "text": [
            "[0. 0. 0. 0. 0. 0.]\n",
            "----------------------\n",
            "[0. 0. 1. 0. 0. 0.]\n",
            "['I', 0.455, 0.365, 0.095]\n",
            "=========================\n",
            "[0. 0. 1. 0. 0. 0.]\n",
            "[0.    0.    1.    0.455 0.365 0.095]\n"
          ],
          "name": "stdout"
        }
      ]
    },
    {
      "cell_type": "code",
      "metadata": {
        "colab": {
          "base_uri": "https://localhost:8080/"
        },
        "id": "2SI1u0hJWm4a",
        "outputId": "1f9975fe-a050-4872-860a-25430631db92"
      },
      "source": [
        "import csv\n",
        "with open('./abalone_mini.csv') as csvfile:\n",
        "  csvreader=csv.reader(csvfile)\n",
        "  \n",
        "  rows=[]\n",
        "  for row in csvreader:\n",
        "    rows.append(row)\n",
        "print(rows)"
      ],
      "execution_count": null,
      "outputs": [
        {
          "output_type": "stream",
          "text": [
            "[['M', '0.455', '0.365', '0.095', '0.514', '0.2245', '0.101', '0.15', '15'], ['M', '0.35', '0.265', '0.09', '0.2255', '0.0995', '0.0485', '0.07', '7'], ['F', '0.53', '0.42', '0.135', '0.677', '0.2565', '0.1415', '0.21', '9'], ['M', '0.44', '0.365', '0.125', '0.516', '0.2155', '0.114', '0.155', '10'], ['I', '0.33', '0.255', '0.08', '0.205', '0.0895', '0.0395', '0.055', '7']]\n"
          ],
          "name": "stdout"
        }
      ]
    },
    {
      "cell_type": "code",
      "metadata": {
        "colab": {
          "base_uri": "https://localhost:8080/"
        },
        "id": "muvb7vQTdjn0",
        "outputId": "70df1e1a-2b9b-4669-92b1-ea8267906474"
      },
      "source": [
        "#1\n",
        "m=[1,0,0]\n",
        "f=[0,1,0]\n",
        "i=[0,0,1]\n",
        "rows_s=[]\n",
        "for r in rows:\n",
        "  if r[0]=='M':\n",
        "    r.pop(0)\n",
        "    r=m+r\n",
        "    rows_s.append(r)\n",
        "  elif r[1]=='F':\n",
        "    r.pop(0)\n",
        "    r=f+r\n",
        "    rows_s.append(r)\n",
        "  else:\n",
        "    r.pop(0)\n",
        "    r=i+r\n",
        "    rows_s.append(r)\n",
        "print(rows_s)"
      ],
      "execution_count": null,
      "outputs": [
        {
          "output_type": "stream",
          "text": [
            "[[1, 0, 0, '0.455', '0.365', '0.095', '0.514', '0.2245', '0.101', '0.15', '15'], [1, 0, 0, '0.35', '0.265', '0.09', '0.2255', '0.0995', '0.0485', '0.07', '7'], [0, 0, 1, '0.53', '0.42', '0.135', '0.677', '0.2565', '0.1415', '0.21', '9'], [1, 0, 0, '0.44', '0.365', '0.125', '0.516', '0.2155', '0.114', '0.155', '10'], [0, 0, 1, '0.33', '0.255', '0.08', '0.205', '0.0895', '0.0395', '0.055', '7']]\n"
          ],
          "name": "stdout"
        }
      ]
    },
    {
      "cell_type": "code",
      "metadata": {
        "colab": {
          "base_uri": "https://localhost:8080/"
        },
        "id": "_Tr_U-EqggV0",
        "outputId": "828b95e8-3ac7-4c58-9d77-d8400ebed717"
      },
      "source": [
        "#2 \n",
        "#enumerate함수 사용\n",
        "data=np.zeros([5,11])\n",
        "print(data)\n",
        "for n,row in enumerate(rows):\n",
        "  if row[0]=='M': data[n,0]=1\n",
        "  elif row[0]=='F': data[n,1]=1\n",
        "  elif row[0]=='I': data[n,2]=1\n",
        "  data[n,3:]=row[1:]\n",
        "print(data)"
      ],
      "execution_count": null,
      "outputs": [
        {
          "output_type": "stream",
          "text": [
            "[[0. 0. 0. 0. 0. 0. 0. 0. 0. 0. 0.]\n",
            " [0. 0. 0. 0. 0. 0. 0. 0. 0. 0. 0.]\n",
            " [0. 0. 0. 0. 0. 0. 0. 0. 0. 0. 0.]\n",
            " [0. 0. 0. 0. 0. 0. 0. 0. 0. 0. 0.]\n",
            " [0. 0. 0. 0. 0. 0. 0. 0. 0. 0. 0.]]\n",
            "[[ 1.      0.      0.      0.455   0.365   0.095   0.514   0.2245  0.101\n",
            "   0.15   15.    ]\n",
            " [ 1.      0.      0.      0.35    0.265   0.09    0.2255  0.0995  0.0485\n",
            "   0.07    7.    ]\n",
            " [ 0.      1.      0.      0.53    0.42    0.135   0.677   0.2565  0.1415\n",
            "   0.21    9.    ]\n",
            " [ 1.      0.      0.      0.44    0.365   0.125   0.516   0.2155  0.114\n",
            "   0.155  10.    ]\n",
            " [ 0.      0.      1.      0.33    0.255   0.08    0.205   0.0895  0.0395\n",
            "   0.055   7.    ]]\n"
          ],
          "name": "stdout"
        }
      ]
    },
    {
      "cell_type": "code",
      "metadata": {
        "colab": {
          "base_uri": "https://localhost:8080/"
        },
        "id": "VnGPpNrzkqjr",
        "outputId": "0bc92222-38a0-4dea-b835-4f28036252ad"
      },
      "source": [
        "#함수에 함수 넣기\n",
        "def main_exec():\n",
        "  #import_data()\n",
        "  model_init()\n",
        "  #train_and_test()\n",
        "\n",
        "RND_MEAN = 0\n",
        "RND_STD = 1\n",
        "def model_init():\n",
        "  global weight, bias      #전역변수화\n",
        "  weight = np.random.normal(RND_MEAN,RND_STD,size=1)\n",
        "  bias = np.random.normal(RND_MEAN,RND_STD,size=1)\n",
        "\n",
        "main_exec()\n",
        "print('weight : ',weight)\n",
        "print('bias : ',bias)"
      ],
      "execution_count": null,
      "outputs": [
        {
          "output_type": "stream",
          "text": [
            "weight :  [1.53771869]\n",
            "bias :  [-0.65914163]\n"
          ],
          "name": "stdout"
        }
      ]
    },
    {
      "cell_type": "markdown",
      "metadata": {
        "id": "HZbkOnmscNZk"
      },
      "source": [
        "#2. 머신러닝"
      ]
    },
    {
      "cell_type": "code",
      "metadata": {
        "colab": {
          "base_uri": "https://localhost:8080/"
        },
        "id": "wd60aQj9cPKh",
        "outputId": "e3ce559c-5c21-4b59-880b-6efe765102d4"
      },
      "source": [
        "#토너먼트 9팀\n",
        "#1\n",
        "import random\n",
        "t=[1,2,3,4,5,6,7,8,9]\n",
        "a=[]\n",
        "while len(t)>0:\n",
        "  one=random.choice(t)\n",
        "  t.remove(one)\n",
        "  if len(t)==0:\n",
        "    a.append(one)\n",
        "    break\n",
        "  two=random.choice(t)\n",
        "  t.remove(two)\n",
        "  a.append((one,two))\n",
        "print(a)\n",
        "\n",
        "print('===================================')\n",
        "#2\n",
        "teams=list(range(1,10))\n",
        "random.shuffle(teams)\n",
        "half=len(teams)//2\n",
        "print(teams[:half], teams[half:])\n",
        "print(teams)\n",
        "print(list(zip(teams[:half],teams[half:])))"
      ],
      "execution_count": null,
      "outputs": [
        {
          "output_type": "stream",
          "text": [
            "[(7, 5), (2, 4), (3, 8), (9, 1), 6]\n",
            "===================================\n",
            "[7, 6, 5, 3] [8, 1, 4, 9, 2]\n",
            "[7, 6, 5, 3, 8, 1, 4, 9, 2]\n",
            "[(7, 8), (6, 1), (5, 4), (3, 9)]\n"
          ],
          "name": "stdout"
        }
      ]
    },
    {
      "cell_type": "code",
      "metadata": {
        "id": "NzUYEBDDt0ya"
      },
      "source": [
        "#html 배포 -> https://app.netlify.com/teams/yun-aha/overview\n",
        "#깃헙 연동\n",
        "#web을 배포하면 default로 찾는 폴더 index.html"
      ],
      "execution_count": null,
      "outputs": []
    },
    {
      "cell_type": "markdown",
      "metadata": {
        "id": "S_MwwTJHB-iX"
      },
      "source": [
        "#3. 빅데이터 분석"
      ]
    },
    {
      "cell_type": "markdown",
      "metadata": {
        "id": "-LeFswQUkreJ"
      },
      "source": [
        "괄호x\n",
        "결측치 여부는 IS NULL\n"
      ]
    },
    {
      "cell_type": "markdown",
      "metadata": {
        "id": "PswCW16E0Sw2"
      },
      "source": [
        "#4. 취업멘토링"
      ]
    },
    {
      "cell_type": "markdown",
      "metadata": {
        "id": "qSF-3U2v0V-e"
      },
      "source": [
        "* CB insights  \n",
        "* classum  \n",
        "* g3cloud  \n",
        "* Crunchbase: Discover innovative companies and the people ...https://www.crunchbase.com\n",
        "\n"
      ]
    }
  ]
}