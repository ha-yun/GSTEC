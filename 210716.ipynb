{
  "nbformat": 4,
  "nbformat_minor": 0,
  "metadata": {
    "colab": {
      "name": "210716.ipynb",
      "provenance": [],
      "authorship_tag": "ABX9TyO8vgT4nnWaMJFSICr7o5fI",
      "include_colab_link": true
    },
    "kernelspec": {
      "name": "python3",
      "display_name": "Python 3"
    },
    "language_info": {
      "name": "python"
    }
  },
  "cells": [
    {
      "cell_type": "markdown",
      "metadata": {
        "id": "view-in-github",
        "colab_type": "text"
      },
      "source": [
        "<a href=\"https://colab.research.google.com/github/yun-aha/GSTEC/blob/main/210716.ipynb\" target=\"_parent\"><img src=\"https://colab.research.google.com/assets/colab-badge.svg\" alt=\"Open In Colab\"/></a>"
      ]
    },
    {
      "cell_type": "markdown",
      "metadata": {
        "id": "or0V_dfpmlgW"
      },
      "source": [
        "# 1. 빅데이터 분석"
      ]
    },
    {
      "cell_type": "markdown",
      "metadata": {
        "id": "-1hgwZr93uqm"
      },
      "source": [
        "####  신용 카드 사용 기록 EDA. 분석\n",
        "\n"
      ]
    },
    {
      "cell_type": "markdown",
      "metadata": {
        "id": "u5tLgbfV3u1A"
      },
      "source": [
        "# 2. 취업멘토링"
      ]
    }
  ]
}