{
  "nbformat": 4,
  "nbformat_minor": 0,
  "metadata": {
    "colab": {
      "name": "210824.ipynb",
      "provenance": [],
      "collapsed_sections": [],
      "authorship_tag": "ABX9TyMT9Jp1rwhIWoeiFE0e14Qr",
      "include_colab_link": true
    },
    "kernelspec": {
      "name": "python3",
      "display_name": "Python 3"
    },
    "language_info": {
      "name": "python"
    }
  },
  "cells": [
    {
      "cell_type": "markdown",
      "metadata": {
        "id": "view-in-github",
        "colab_type": "text"
      },
      "source": [
        "<a href=\"https://colab.research.google.com/github/ha-yun/GSTEC/blob/main/210824.ipynb\" target=\"_parent\"><img src=\"https://colab.research.google.com/assets/colab-badge.svg\" alt=\"Open In Colab\"/></a>"
      ]
    },
    {
      "cell_type": "markdown",
      "metadata": {
        "id": "ZK4npMBgYfh8"
      },
      "source": [
        "# 3. 웹 애플리케이션"
      ]
    },
    {
      "cell_type": "markdown",
      "metadata": {
        "id": "G5pyaC-Ar3xW"
      },
      "source": [
        "1. 장고 message  \n",
        "2. DB transaction"
      ]
    },
    {
      "cell_type": "markdown",
      "metadata": {
        "id": "LeVHzUoYWnOl"
      },
      "source": [
        "terminal에   \n",
        "python manage.py startapp likeapp"
      ]
    },
    {
      "cell_type": "code",
      "metadata": {
        "id": "oAv6j0liWnGM"
      },
      "source": [
        "# gsweb/settings.py\n",
        "'likeapp',\n",
        "\n",
        "# gsweb/urls.py\n",
        "    path('like/', include('likeapp.urls')),\n",
        "\n",
        "# subscribeapp/views.py\n",
        "@method_decorator(login_required, 'get')\n",
        "class SubscriptionListView(ListView):"
      ],
      "execution_count": null,
      "outputs": []
    },
    {
      "cell_type": "code",
      "metadata": {
        "id": "kpSx3UxXW8LU"
      },
      "source": [
        "# templates/header.html\n",
        "\n",
        "        {% if user.is_authenticated %}\n",
        "        <span>\n",
        "            <a href=\"{% url 'subscribeapp:list'%}\">\n",
        "                Subscription\n",
        "            </a>\n",
        "        </span>\n",
        "        {% endif %}"
      ],
      "execution_count": null,
      "outputs": []
    },
    {
      "cell_type": "code",
      "metadata": {
        "id": "xEqL_GIZXF-s"
      },
      "source": [
        "# likeapp/models.py\n",
        "class LikeRecord(models.Model):\n",
        "    user = models.ForeignKey(User, on_delete=models.CASCADE,\n",
        "                             related_name='like_record', null=False)\n",
        "    article = models.ForeignKey(Article, on_delete=models.CASCADE,\n",
        "                                related_name='like_record', null=False)\n",
        "\n",
        "    class Meta:\n",
        "        unique_together = ['user', 'article']\n",
        "\n",
        "\n",
        "# articleapp/models.py\n",
        "    like = models.IntegerField(default=0) "
      ],
      "execution_count": null,
      "outputs": []
    },
    {
      "cell_type": "markdown",
      "metadata": {
        "id": "ppsHU-3lXzGW"
      },
      "source": [
        "python manage.py makemigrations  \n",
        "python manage.py migrate"
      ]
    },
    {
      "cell_type": "code",
      "metadata": {
        "id": "e-v8Pn1yXF4E"
      },
      "source": [
        "# likeapp/views.py\n",
        "@method_decorator(login_required, 'get')\n",
        "class LikeArticleView(RedirectView):\n",
        "\n",
        "    def get(self, request, *args, **kwargs):\n",
        "        user = request.user\n",
        "        article = Article.objects.get(pk=kwargs['article_pk'])\n",
        "\n",
        "        like_record = LikeRecord.objects.filter(user=user, article=article)\n",
        "        if like_record.exists():\n",
        "            return HttpResponseRedirect(reverse('articleapp:detail', kwargs={'pk':kwargs['article_pk']}))\n",
        "        else:\n",
        "            LikeRecord(user=user, article=article).save()\n",
        "        article.like += 1\n",
        "        article.save()\n",
        "        return super().get(request, *args, **kwargs)\n",
        "\n",
        "    def  get_redirect_url(self, *args, **kwargs):\n",
        "        return reverse('articleapp:detail', kwargs={'pk':kwargs['article_pk']}) \n",
        "\n",
        "# likeapp/urls.py\n",
        "app_name='likeapp'\n",
        "\n",
        "urlpatterns=[\n",
        "    path('article/<int:article_pk>', LikeArticleView.as_view(), name='article_like'),\n",
        "] "
      ],
      "execution_count": null,
      "outputs": []
    },
    {
      "cell_type": "code",
      "metadata": {
        "id": "NvtLLW6SYLn8"
      },
      "source": [
        "# articleapp/templates/articleapp/detail.html\n",
        "            <div>\n",
        "                <a href=\"{% url 'likeapp:article_like' article_pk=target_article.pk%}\"\n",
        "                class=\"material-icons\">\n",
        "                    favorite\n",
        "                </a>\n",
        "                <span>\n",
        "                    {{ target_article.like }}\n",
        "                </span>\n",
        "            </div>\n",
        "\n",
        "\n",
        "# articleapp/templates/articleapp/detail.html\n",
        "            <div class=\"my-3\">\n",
        "                <a href=\"{% url 'likeapp:article_like' article_pk=target_article.pk%}\"\n",
        "                class=\"material-icons\">\n",
        "                class=\"material-icons\"\n",
        "                 style=\"vertical-align: middle; font-size: 1.5rem; color: cornflowerblue;\">\n",
        "                    favorite\n",
        "                </a>\n",
        "                <span>\n",
        "                <span style=\"vertical-align: middle; font-size: 1.2rem\">\n"
      ],
      "execution_count": null,
      "outputs": []
    },
    {
      "cell_type": "code",
      "metadata": {
        "id": "0k6LZpWWYZm1"
      },
      "source": [
        "# static/base.css\n",
        "a{\n",
        "    text-decoration: none;\n",
        "    color: darkslateblue;\n",
        "}\n",
        "\n",
        "a:hover{\n",
        "    color: blueviolet;\n",
        "} "
      ],
      "execution_count": null,
      "outputs": []
    },
    {
      "cell_type": "markdown",
      "metadata": {
        "id": "Wx_RxlPuYj9X"
      },
      "source": [
        "# 4. 알고리즘"
      ]
    },
    {
      "cell_type": "code",
      "metadata": {
        "id": "mCFVi_qyr3k1"
      },
      "source": [
        "divide-conquer"
      ],
      "execution_count": null,
      "outputs": []
    }
  ]
}
