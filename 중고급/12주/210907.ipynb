{
  "nbformat": 4,
  "nbformat_minor": 0,
  "metadata": {
    "colab": {
      "name": "210907.ipynb",
      "provenance": [],
      "collapsed_sections": [],
      "authorship_tag": "ABX9TyNmE0Ch+Mtowytvf8BflFkl",
      "include_colab_link": true
    },
    "kernelspec": {
      "name": "python3",
      "display_name": "Python 3"
    },
    "language_info": {
      "name": "python"
    }
  },
  "cells": [
    {
      "cell_type": "markdown",
      "metadata": {
        "id": "view-in-github",
        "colab_type": "text"
      },
      "source": [
        "<a href=\"https://colab.research.google.com/github/ha-yun/GSTEC/blob/main/210907.ipynb\" target=\"_parent\"><img src=\"https://colab.research.google.com/assets/colab-badge.svg\" alt=\"Open In Colab\"/></a>"
      ]
    },
    {
      "cell_type": "markdown",
      "metadata": {
        "id": "i72s1TDYc0FM"
      },
      "source": [
        "# 1. 웹 애플리케이션"
      ]
    },
    {
      "cell_type": "markdown",
      "metadata": {
        "id": "8n41YV89b2Yy"
      },
      "source": [
        "최상위 폴더에 Dockerfile을 만들어준다!"
      ]
    },
    {
      "cell_type": "code",
      "metadata": {
        "id": "F4r_24-sb80y"
      },
      "source": [
        "FROM python:3.9.0\n",
        "\n",
        "WORKDIR /home/\n",
        "\n",
        "RUN git clone https://github.com/yun-aha/GSWEB.git    # git 주소 프로젝트2는 다른걸루 \n",
        "\n",
        "WORKDIR /home/GSWEB/\n",
        "\n",
        "RUN echo \"SECRET_KEY=django-insecure-vh!g-^f)eu138bc(2^84w@sbb4m5c5m7t-fpd*##y2ok@w_m8-\" > .env   # .env의 secret_key\n",
        "\n",
        "RUN pip install -r requirements.txt\n",
        "\n",
        "RUN pip install gunicorn\n",
        "\n",
        "RUN python manage.py migrate\n",
        "\n",
        "EXPOSE 8000\n",
        "\n",
        "CMD [\"gunicorn\", \"gsweb.wsgi\", \"--bind\", \"0.0.0.0:8000\"]\n",
        "\n",
        "\n",
        "\n"
      ],
      "execution_count": null,
      "outputs": []
    },
    {
      "cell_type": "markdown",
      "metadata": {
        "id": "jcGIRFBdcDpS"
      },
      "source": [
        "http://3.17.130.66:9000/#!/1/docker/containers  \n",
        "portainer 창에 들어가서 images에 dockerfile을 업로드! name은 자유(ha_django:1)\n",
        "\n",
        "portainer에 들어가서 add container\n",
        "- name : django, image는 업로드한 image(ha_django:1)\n",
        "\n",
        "두번째 프로젝트도 똑같이!\n",
        "\n",
        "(requirements.txt파일이 깃헙에 push안되어있으면 오류 뜸)"
      ]
    },
    {
      "cell_type": "markdown",
      "metadata": {
        "id": "Uho174HmupDx"
      },
      "source": [
        "### 다음시간에 할일!!\n",
        "\n",
        "\n",
        "gunicorn..?(python library)\n",
        "\n",
        "nginx <-> gunicorn <-> django  \n",
        "gunicorn은 nginx와 django를 연결시켜주는 interface\n",
        "\n",
        "django에 gunicorn을 설치하고 docker image를 만들고 + container"
      ]
    }
  ]
}
