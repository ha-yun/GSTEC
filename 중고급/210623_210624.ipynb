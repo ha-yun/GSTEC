{
  "nbformat": 4,
  "nbformat_minor": 0,
  "metadata": {
    "colab": {
      "name": "210623-210624.ipynb",
      "provenance": [],
      "collapsed_sections": [],
      "authorship_tag": "ABX9TyN47wLvymMfj8Asfd78Vc31",
      "include_colab_link": true
    },
    "kernelspec": {
      "name": "python3",
      "display_name": "Python 3"
    },
    "language_info": {
      "name": "python"
    }
  },
  "cells": [
    {
      "cell_type": "markdown",
      "metadata": {
        "id": "view-in-github",
        "colab_type": "text"
      },
      "source": [
        "<a href=\"https://colab.research.google.com/github/yun-aha/GSTEC/blob/main/210623_210624.ipynb\" target=\"_parent\"><img src=\"https://colab.research.google.com/assets/colab-badge.svg\" alt=\"Open In Colab\"/></a>"
      ]
    },
    {
      "cell_type": "markdown",
      "metadata": {
        "id": "jkMttLJ7K-Ke"
      },
      "source": [
        "<h1>14. 배열을 뒤집는 방법<h1>"
      ]
    },
    {
      "cell_type": "code",
      "metadata": {
        "colab": {
          "base_uri": "https://localhost:8080/"
        },
        "id": "7jxFUGyzKnWJ",
        "outputId": "bf308672-6f72-47c9-bd99-f3f67aaba8e1"
      },
      "source": [
        "#np.flip\n",
        "import numpy as np\n",
        "print('1차원 배열')\n",
        "arr=np.array([1,2,3,4,5,6,7,8])\n",
        "arr1=np.flip(arr)\n",
        "print(arr1)\n",
        "print('2차원 배열 뒤집기')\n",
        "arr=np.array([[1,2,3,4],[5,6,7,8],[9,10,11,12]])\n",
        "arr11=np.flip(arr)\n",
        "print(arr11)\n",
        "print('axis=0')\n",
        "arr111=np.flip(arr,axis=0)\n",
        "print(arr111)\n",
        "print('axis=1')\n",
        "arr1111=np.flip(arr,axis=1)\n",
        "print(arr1111)"
      ],
      "execution_count": null,
      "outputs": [
        {
          "output_type": "stream",
          "text": [
            "1차원 배열\n",
            "[8 7 6 5 4 3 2 1]\n",
            "2차원 배열 뒤집기\n",
            "[[12 11 10  9]\n",
            " [ 8  7  6  5]\n",
            " [ 4  3  2  1]]\n",
            "axis=0\n",
            "[[ 9 10 11 12]\n",
            " [ 5  6  7  8]\n",
            " [ 1  2  3  4]]\n",
            "axis=1\n",
            "[[ 4  3  2  1]\n",
            " [ 8  7  6  5]\n",
            " [12 11 10  9]]\n"
          ],
          "name": "stdout"
        }
      ]
    },
    {
      "cell_type": "markdown",
      "metadata": {
        "id": "Q3bw5tDaP_zq"
      },
      "source": [
        "<h1>15. n차원 배열 재구성 및 flatten</h1>"
      ]
    },
    {
      "cell_type": "code",
      "metadata": {
        "colab": {
          "base_uri": "https://localhost:8080/"
        },
        "id": "7USyMb3xLlgB",
        "outputId": "b53918c3-fa9b-40cd-f758-1f4c1bf2dcf6"
      },
      "source": [
        "arr=np.array([[1,2],[3,4]])\n",
        "print('c : ',arr.flatten(order='C'))\n",
        "print('f : ',arr.flatten(order='F'))\n",
        "print('a : ',arr.flatten(order='A'))\n",
        "print('k : ',arr.flatten(order='K'))"
      ],
      "execution_count": null,
      "outputs": [
        {
          "output_type": "stream",
          "text": [
            "c :  [1 2 3 4]\n",
            "f :  [1 3 2 4]\n",
            "a :  [1 2 3 4]\n",
            "k :  [1 2 3 4]\n"
          ],
          "name": "stdout"
        }
      ]
    },
    {
      "cell_type": "code",
      "metadata": {
        "colab": {
          "base_uri": "https://localhost:8080/"
        },
        "id": "ZGqvedYVLlu-",
        "outputId": "54c0e1d9-70e5-42ee-bce7-8bc754c74d34"
      },
      "source": [
        "arr=np.array([[1,2,3],[4,5,6]])\n",
        "print('c :', np.ravel(arr,order='C'))\n",
        "print('f :',np.ravel(arr,order='F'))"
      ],
      "execution_count": null,
      "outputs": [
        {
          "output_type": "stream",
          "text": [
            "c : [1 2 3 4 5 6]\n",
            "f : [1 4 2 5 3 6]\n"
          ],
          "name": "stdout"
        }
      ]
    },
    {
      "cell_type": "markdown",
      "metadata": {
        "id": "CqCW4SVWRtEB"
      },
      "source": [
        "<h1>16. Numpy 객체를 저장하고 로드하는 방법</h1>"
      ]
    },
    {
      "cell_type": "code",
      "metadata": {
        "id": "Q19i3c9OLl6C"
      },
      "source": [
        "arr=np.array([1,2,3,4,5,6])\n",
        "np.save('저장',arr)"
      ],
      "execution_count": null,
      "outputs": []
    },
    {
      "cell_type": "code",
      "metadata": {
        "id": "e0BaHBcDLmID"
      },
      "source": [
        "arr1=np.array([1,2,3])\n",
        "arr2=np.array([1,2,3,4,5,6])\n",
        "np.savez('저장2.npz',arr1,arr2)"
      ],
      "execution_count": null,
      "outputs": []
    },
    {
      "cell_type": "code",
      "metadata": {
        "id": "2FcRSQoqSKCT"
      },
      "source": [
        "c_arr=np.array([1,2,3,4,5,6,7,8])\n",
        "np.savetxt('저장3.csv',c_arr)"
      ],
      "execution_count": null,
      "outputs": []
    },
    {
      "cell_type": "code",
      "metadata": {
        "colab": {
          "base_uri": "https://localhost:8080/"
        },
        "id": "fyLvxaOjSS86",
        "outputId": "125a6d84-fe6c-40e6-b4bf-3fbc048f4e0b"
      },
      "source": [
        "l_arr=np.load('./저장.npy')\n",
        "print(l_arr)\n",
        "l_arr2=np.load('./저장2.npz')\n",
        "print(l_arr2)"
      ],
      "execution_count": null,
      "outputs": [
        {
          "output_type": "stream",
          "text": [
            "[1 2 3 4 5 6]\n",
            "<numpy.lib.npyio.NpzFile object at 0x7f68383cf450>\n"
          ],
          "name": "stdout"
        }
      ]
    },
    {
      "cell_type": "code",
      "metadata": {
        "colab": {
          "base_uri": "https://localhost:8080/"
        },
        "id": "NuCiggScSg1V",
        "outputId": "c4deed18-376b-4238-aea5-7fb6866c7d9a"
      },
      "source": [
        "arr_0=np.load('./저장2.npz')['arr_0']\n",
        "print(arr_0)"
      ],
      "execution_count": null,
      "outputs": [
        {
          "output_type": "stream",
          "text": [
            "[1 2 3]\n"
          ],
          "name": "stdout"
        }
      ]
    },
    {
      "cell_type": "code",
      "metadata": {
        "colab": {
          "base_uri": "https://localhost:8080/"
        },
        "id": "Gbc6OaR0Tf5W",
        "outputId": "b8dd60b7-027e-4c90-ae21-5876f197080f"
      },
      "source": [
        "arr_t=np.loadtxt('저장3.csv')\n",
        "print(arr_t)"
      ],
      "execution_count": null,
      "outputs": [
        {
          "output_type": "stream",
          "text": [
            "[1. 2. 3. 4. 5. 6. 7. 8.]\n"
          ],
          "name": "stdout"
        }
      ]
    },
    {
      "cell_type": "markdown",
      "metadata": {
        "id": "w8tN7nIhUG_H"
      },
      "source": [
        "<h1>17. Pandas란 </h1>\n",
        "<h1>18. 시리즈와 데이터 프레임</h1>"
      ]
    },
    {
      "cell_type": "code",
      "metadata": {
        "id": "RpoxLgCITrxv"
      },
      "source": [
        "import pandas as pd"
      ],
      "execution_count": null,
      "outputs": []
    },
    {
      "cell_type": "code",
      "metadata": {
        "colab": {
          "base_uri": "https://localhost:8080/"
        },
        "id": "dIY6NBEPUqKR",
        "outputId": "d76b5c7d-8ade-46a9-e4db-042c6fc47be1"
      },
      "source": [
        "s=pd.Series([1,3,5,6,8])\n",
        "print(s)\n",
        "print('---------------------')\n",
        "s1=pd.Series([1,3,5,6,7],index=['하나','둘','셋','넷','다섯'])\n",
        "print(s1)"
      ],
      "execution_count": null,
      "outputs": [
        {
          "output_type": "stream",
          "text": [
            "0    1\n",
            "1    3\n",
            "2    5\n",
            "3    6\n",
            "4    8\n",
            "dtype: int64\n",
            "---------------------\n",
            "하나    1\n",
            "둘     3\n",
            "셋     5\n",
            "넷     6\n",
            "다섯    7\n",
            "dtype: int64\n"
          ],
          "name": "stdout"
        }
      ]
    },
    {
      "cell_type": "code",
      "metadata": {
        "colab": {
          "base_uri": "https://localhost:8080/"
        },
        "id": "xVIYTIOGVPS8",
        "outputId": "8fbd3955-fcc7-4048-bae7-5839b67784a8"
      },
      "source": [
        "#list -> Series데이터\n",
        "list_data=[1,2,3,4,5]\n",
        "series=pd.Series(list_data)\n",
        "print(series)\n",
        "print('\\n')\n",
        "list_index=['하나','둘','셋','넷','다섯']\n",
        "new_series=pd.Series(list_data,index=list_index)\n",
        "print(new_series)"
      ],
      "execution_count": null,
      "outputs": [
        {
          "output_type": "stream",
          "text": [
            "0    1\n",
            "1    2\n",
            "2    3\n",
            "3    4\n",
            "4    5\n",
            "dtype: int64\n",
            "\n",
            "\n",
            "하나    1\n",
            "둘     2\n",
            "셋     3\n",
            "넷     4\n",
            "다섯    5\n",
            "dtype: int64\n"
          ],
          "name": "stdout"
        }
      ]
    },
    {
      "cell_type": "code",
      "metadata": {
        "colab": {
          "base_uri": "https://localhost:8080/"
        },
        "id": "LDvwVo15Zi02",
        "outputId": "bf2f18db-6dce-4e68-a165-6da93bde1cc4"
      },
      "source": [
        "#tuple -> Series데이터\n",
        "tuple_data=('판','다','스','꿀','잼')\n",
        "series=pd.Series(tuple_data)\n",
        "print(series)\n",
        "print('|n')\n",
        "\n",
        "tuple_index=('하나','둘','셋','넷','다섯')\n",
        "new_series=pd.Series(tuple_data,index=tuple_index)\n",
        "print(new_series)"
      ],
      "execution_count": null,
      "outputs": [
        {
          "output_type": "stream",
          "text": [
            "0    판\n",
            "1    다\n",
            "2    스\n",
            "3    꿀\n",
            "4    잼\n",
            "dtype: object\n",
            "|n\n",
            "하나    판\n",
            "둘     다\n",
            "셋     스\n",
            "넷     꿀\n",
            "다섯    잼\n",
            "dtype: object\n"
          ],
          "name": "stdout"
        }
      ]
    },
    {
      "cell_type": "code",
      "metadata": {
        "colab": {
          "base_uri": "https://localhost:8080/"
        },
        "id": "sE7D9lffZ-4Z",
        "outputId": "2203610b-9418-41a1-a5f6-164d3f6c468a"
      },
      "source": [
        "dict_data={'a':1,'b':2,'c':3}\n",
        "sr=pd.Series(dict_data)\n",
        "print(dict_data)\n",
        "print('\\n')\n",
        "print(type(sr))\n",
        "print('\\n')\n",
        "print(sr)"
      ],
      "execution_count": null,
      "outputs": [
        {
          "output_type": "stream",
          "text": [
            "{'a': 1, 'b': 2, 'c': 3}\n",
            "\n",
            "\n",
            "<class 'pandas.core.series.Series'>\n",
            "\n",
            "\n",
            "a    1\n",
            "b    2\n",
            "c    3\n",
            "dtype: int64\n"
          ],
          "name": "stdout"
        }
      ]
    },
    {
      "cell_type": "code",
      "metadata": {
        "colab": {
          "base_uri": "https://localhost:8080/"
        },
        "id": "V74JFuClayPH",
        "outputId": "0e90e99c-2f4d-4325-be4e-63e7bebe7474"
      },
      "source": [
        "series_data=pd.Series(['홍길동','26','010-777-7777','광주','학생'],\n",
        "                      index=['이름','나이','전화번호','거주지','직업'])\n",
        "#정수형 위치 index로 가져오기\n",
        "n_index=series_data[2]\n",
        "print(n_index)\n",
        "print('\\n')\n",
        "#index이름으로 가져오기\n",
        "n_index=series_data['이름']\n",
        "print(n_index)\n",
        "print('\\n')\n",
        "print('전체 데이터 프레임 입니다.')\n",
        "print(series_data)"
      ],
      "execution_count": null,
      "outputs": [
        {
          "output_type": "stream",
          "text": [
            "010-777-7777\n",
            "\n",
            "\n",
            "홍길동\n",
            "\n",
            "\n",
            "전체 데이터 프레임 입니다.\n",
            "이름               홍길동\n",
            "나이                26\n",
            "전화번호    010-777-7777\n",
            "거주지               광주\n",
            "직업                학생\n",
            "dtype: object\n"
          ],
          "name": "stdout"
        }
      ]
    },
    {
      "cell_type": "code",
      "metadata": {
        "colab": {
          "base_uri": "https://localhost:8080/"
        },
        "id": "YvshT1f9b1cC",
        "outputId": "dcb20390-7eb5-4b70-8936-e89fc61c04fc"
      },
      "source": [
        "series_data=pd.Series(['홍길동','26','010-777-7777','광주','학생'],\n",
        "                      index=['이름','나이','전화번호','거주지','직업'])\n",
        "new=series_data[[0,1,3]]\n",
        "print(new)\n",
        "print('\\n')\n",
        "new=series_data[['이름','거주지','직업']]\n",
        "print(new)"
      ],
      "execution_count": null,
      "outputs": [
        {
          "output_type": "stream",
          "text": [
            "이름     홍길동\n",
            "나이      26\n",
            "거주지     광주\n",
            "dtype: object\n",
            "\n",
            "\n",
            "이름     홍길동\n",
            "거주지     광주\n",
            "직업      학생\n",
            "dtype: object\n"
          ],
          "name": "stdout"
        }
      ]
    },
    {
      "cell_type": "code",
      "metadata": {
        "colab": {
          "base_uri": "https://localhost:8080/"
        },
        "id": "RtnOapsWceGm",
        "outputId": "d7e497c5-be96-499f-d8b5-71496fe499d2"
      },
      "source": [
        "series_data=pd.Series(['홍길동','26','010-777-7777','광주','학생'],\n",
        "                      index=['이름','나이','전화번호','거주지','직업'])\n",
        "new=series_data[2:4]\n",
        "print(new)\n",
        "print('\\n')\n",
        "new=series_data['나이':'거주지']\n",
        "print(new)"
      ],
      "execution_count": null,
      "outputs": [
        {
          "output_type": "stream",
          "text": [
            "전화번호    010-777-7777\n",
            "거주지               광주\n",
            "dtype: object\n",
            "\n",
            "\n",
            "나이                26\n",
            "전화번호    010-777-7777\n",
            "거주지               광주\n",
            "dtype: object\n"
          ],
          "name": "stdout"
        }
      ]
    },
    {
      "cell_type": "code",
      "metadata": {
        "colab": {
          "base_uri": "https://localhost:8080/"
        },
        "id": "JOBaBF39cwFD",
        "outputId": "fd1aa813-2c6b-4599-ceb4-dcf9516fdfc4"
      },
      "source": [
        "#Series 속성 관련 함수들\n",
        "new_series=pd.Series(['welcome','to','pandas'],index=['here','is','Gwangju'])\n",
        "print(new_series.index)\n",
        "print(new_series.values)"
      ],
      "execution_count": null,
      "outputs": [
        {
          "output_type": "stream",
          "text": [
            "Index(['here', 'is', 'Gwangju'], dtype='object')\n",
            "['welcome' 'to' 'pandas']\n"
          ],
          "name": "stdout"
        }
      ]
    },
    {
      "cell_type": "markdown",
      "metadata": {
        "id": "gMi-tgOse8w_"
      },
      "source": [
        "<h2>Pandas-Data Frame</h2>\n",
        "Data Frame을 만들 때는 2차원 데이터, index, column 3가지가 필요"
      ]
    },
    {
      "cell_type": "code",
      "metadata": {
        "colab": {
          "base_uri": "https://localhost:8080/"
        },
        "id": "_n3rR2ASeGyo",
        "outputId": "b093aa6f-1ec9-4471-94da-52b53cecb52b"
      },
      "source": [
        "list_data_2d=[[23,'남','부산'],[21,'여','서울'],[25,'남','광주'],[27,'여','대전'],[24,'여','광주']]\n",
        "df=pd.DataFrame(list_data_2d,columns=['나이','성별','지역'])\n",
        "print(df)\n",
        "print('\\n')\n",
        "df=pd.DataFrame(list_data_2d,index=['상우','지원','민기','정민','수림'],columns=['나이','성별','지역'])\n",
        "print(df)"
      ],
      "execution_count": null,
      "outputs": [
        {
          "output_type": "stream",
          "text": [
            "   나이 성별  지역\n",
            "0  23  남  부산\n",
            "1  21  여  서울\n",
            "2  25  남  광주\n",
            "3  27  여  대전\n",
            "4  24  여  광주\n",
            "\n",
            "\n",
            "    나이 성별  지역\n",
            "상우  23  남  부산\n",
            "지원  21  여  서울\n",
            "민기  25  남  광주\n",
            "정민  27  여  대전\n",
            "수림  24  여  광주\n"
          ],
          "name": "stdout"
        }
      ]
    },
    {
      "cell_type": "code",
      "metadata": {
        "colab": {
          "base_uri": "https://localhost:8080/"
        },
        "id": "EbDVCQTQfC-3",
        "outputId": "4a8b72a8-c79b-409e-8ad8-bceb8acb0bab"
      },
      "source": [
        "tuple_data_2d=((23,'남','부산'),(21,'여','서울'),(25,'남','광주'),(27,'여','대전'),(24,'여','광주'))\n",
        "df=pd.DataFrame(tuple_data_2d,columns=['나이','성별','지역'])\n",
        "print(df)\n",
        "print('\\n')\n",
        "df=pd.DataFrame(tuple_data_2d,index=['상우','지원','민기','정민','수림'],columns=['나이','성별','지역'])\n",
        "print(df)"
      ],
      "execution_count": null,
      "outputs": [
        {
          "output_type": "stream",
          "text": [
            "   나이 성별  지역\n",
            "0  23  남  부산\n",
            "1  21  여  서울\n",
            "2  25  남  광주\n",
            "3  27  여  대전\n",
            "4  24  여  광주\n",
            "\n",
            "\n",
            "    나이 성별  지역\n",
            "상우  23  남  부산\n",
            "지원  21  여  서울\n",
            "민기  25  남  광주\n",
            "정민  27  여  대전\n",
            "수림  24  여  광주\n"
          ],
          "name": "stdout"
        }
      ]
    },
    {
      "cell_type": "code",
      "metadata": {
        "colab": {
          "base_uri": "https://localhost:8080/"
        },
        "id": "Lj7iIeFjgTbk",
        "outputId": "8a316663-3056-46ad-9a01-3e5ba9398204"
      },
      "source": [
        "dict_data={'나이':[23,21,25,27,24],'성별':['남','여','남','여','여'],'지역':['부산','서울','광주','대전','광주']}\n",
        "df=pd.DataFrame(dict_data)\n",
        "print(df)\n",
        "print('\\n')\n",
        "df=pd.DataFrame(dict_data,index=['상우','지원','민기','정민','수림'])\n",
        "print(df)"
      ],
      "execution_count": null,
      "outputs": [
        {
          "output_type": "stream",
          "text": [
            "   나이 성별  지역\n",
            "0  23  남  부산\n",
            "1  21  여  서울\n",
            "2  25  남  광주\n",
            "3  27  여  대전\n",
            "4  24  여  광주\n",
            "\n",
            "\n",
            "    나이 성별  지역\n",
            "상우  23  남  부산\n",
            "지원  21  여  서울\n",
            "민기  25  남  광주\n",
            "정민  27  여  대전\n",
            "수림  24  여  광주\n"
          ],
          "name": "stdout"
        }
      ]
    },
    {
      "cell_type": "markdown",
      "metadata": {
        "id": "-mFVv2k-hkV9"
      },
      "source": [
        "19. 특정 데이터 선택하기"
      ]
    },
    {
      "cell_type": "code",
      "metadata": {
        "colab": {
          "base_uri": "https://localhost:8080/",
          "height": 234
        },
        "id": "2ldXMygAhJr6",
        "outputId": "20a47804-883d-4eb1-820a-d21e6ec42c9b"
      },
      "source": [
        "#열선택\n",
        "test_data={'팀이름':['아자아자','할수있다','AI마피아','TF고수','경사하강법','광인사'],\n",
        "           '창의성':['상','중','하','상','중','하'],\n",
        "           '완성도':[100,80,70,90,50,60],\n",
        "           '사업성':['좋음','보통','부족','보통','잘함','못함']}\n",
        "df=pd.DataFrame(test_data)\n",
        "df"
      ],
      "execution_count": null,
      "outputs": [
        {
          "output_type": "execute_result",
          "data": {
            "text/html": [
              "<div>\n",
              "<style scoped>\n",
              "    .dataframe tbody tr th:only-of-type {\n",
              "        vertical-align: middle;\n",
              "    }\n",
              "\n",
              "    .dataframe tbody tr th {\n",
              "        vertical-align: top;\n",
              "    }\n",
              "\n",
              "    .dataframe thead th {\n",
              "        text-align: right;\n",
              "    }\n",
              "</style>\n",
              "<table border=\"1\" class=\"dataframe\">\n",
              "  <thead>\n",
              "    <tr style=\"text-align: right;\">\n",
              "      <th></th>\n",
              "      <th>팀이름</th>\n",
              "      <th>창의성</th>\n",
              "      <th>완성도</th>\n",
              "      <th>사업성</th>\n",
              "    </tr>\n",
              "  </thead>\n",
              "  <tbody>\n",
              "    <tr>\n",
              "      <th>0</th>\n",
              "      <td>아자아자</td>\n",
              "      <td>상</td>\n",
              "      <td>100</td>\n",
              "      <td>좋음</td>\n",
              "    </tr>\n",
              "    <tr>\n",
              "      <th>1</th>\n",
              "      <td>할수있다</td>\n",
              "      <td>중</td>\n",
              "      <td>80</td>\n",
              "      <td>보통</td>\n",
              "    </tr>\n",
              "    <tr>\n",
              "      <th>2</th>\n",
              "      <td>AI마피아</td>\n",
              "      <td>하</td>\n",
              "      <td>70</td>\n",
              "      <td>부족</td>\n",
              "    </tr>\n",
              "    <tr>\n",
              "      <th>3</th>\n",
              "      <td>TF고수</td>\n",
              "      <td>상</td>\n",
              "      <td>90</td>\n",
              "      <td>보통</td>\n",
              "    </tr>\n",
              "    <tr>\n",
              "      <th>4</th>\n",
              "      <td>경사하강법</td>\n",
              "      <td>중</td>\n",
              "      <td>50</td>\n",
              "      <td>잘함</td>\n",
              "    </tr>\n",
              "    <tr>\n",
              "      <th>5</th>\n",
              "      <td>광인사</td>\n",
              "      <td>하</td>\n",
              "      <td>60</td>\n",
              "      <td>못함</td>\n",
              "    </tr>\n",
              "  </tbody>\n",
              "</table>\n",
              "</div>"
            ],
            "text/plain": [
              "     팀이름 창의성  완성도 사업성\n",
              "0   아자아자   상  100  좋음\n",
              "1   할수있다   중   80  보통\n",
              "2  AI마피아   하   70  부족\n",
              "3   TF고수   상   90  보통\n",
              "4  경사하강법   중   50  잘함\n",
              "5    광인사   하   60  못함"
            ]
          },
          "metadata": {
            "tags": []
          },
          "execution_count": 22
        }
      ]
    },
    {
      "cell_type": "code",
      "metadata": {
        "colab": {
          "base_uri": "https://localhost:8080/",
          "height": 762
        },
        "id": "MGZNe73xi7aP",
        "outputId": "57a672e5-c6b0-4b20-de0e-92682873f8b7"
      },
      "source": [
        "print(df['팀이름'])\n",
        "print(df['사업성'])\n",
        "print('\\n')\n",
        "print(df.팀이름)\n",
        "print(df.사업성)\n",
        "df[['팀이름','사업성']]"
      ],
      "execution_count": null,
      "outputs": [
        {
          "output_type": "stream",
          "text": [
            "0     아자아자\n",
            "1     할수있다\n",
            "2    AI마피아\n",
            "3     TF고수\n",
            "4    경사하강법\n",
            "5      광인사\n",
            "Name: 팀이름, dtype: object\n",
            "0    좋음\n",
            "1    보통\n",
            "2    부족\n",
            "3    보통\n",
            "4    잘함\n",
            "5    못함\n",
            "Name: 사업성, dtype: object\n",
            "\n",
            "\n",
            "0     아자아자\n",
            "1     할수있다\n",
            "2    AI마피아\n",
            "3     TF고수\n",
            "4    경사하강법\n",
            "5      광인사\n",
            "Name: 팀이름, dtype: object\n",
            "0    좋음\n",
            "1    보통\n",
            "2    부족\n",
            "3    보통\n",
            "4    잘함\n",
            "5    못함\n",
            "Name: 사업성, dtype: object\n"
          ],
          "name": "stdout"
        },
        {
          "output_type": "execute_result",
          "data": {
            "text/html": [
              "<div>\n",
              "<style scoped>\n",
              "    .dataframe tbody tr th:only-of-type {\n",
              "        vertical-align: middle;\n",
              "    }\n",
              "\n",
              "    .dataframe tbody tr th {\n",
              "        vertical-align: top;\n",
              "    }\n",
              "\n",
              "    .dataframe thead th {\n",
              "        text-align: right;\n",
              "    }\n",
              "</style>\n",
              "<table border=\"1\" class=\"dataframe\">\n",
              "  <thead>\n",
              "    <tr style=\"text-align: right;\">\n",
              "      <th></th>\n",
              "      <th>팀이름</th>\n",
              "      <th>사업성</th>\n",
              "    </tr>\n",
              "  </thead>\n",
              "  <tbody>\n",
              "    <tr>\n",
              "      <th>0</th>\n",
              "      <td>아자아자</td>\n",
              "      <td>좋음</td>\n",
              "    </tr>\n",
              "    <tr>\n",
              "      <th>1</th>\n",
              "      <td>할수있다</td>\n",
              "      <td>보통</td>\n",
              "    </tr>\n",
              "    <tr>\n",
              "      <th>2</th>\n",
              "      <td>AI마피아</td>\n",
              "      <td>부족</td>\n",
              "    </tr>\n",
              "    <tr>\n",
              "      <th>3</th>\n",
              "      <td>TF고수</td>\n",
              "      <td>보통</td>\n",
              "    </tr>\n",
              "    <tr>\n",
              "      <th>4</th>\n",
              "      <td>경사하강법</td>\n",
              "      <td>잘함</td>\n",
              "    </tr>\n",
              "    <tr>\n",
              "      <th>5</th>\n",
              "      <td>광인사</td>\n",
              "      <td>못함</td>\n",
              "    </tr>\n",
              "  </tbody>\n",
              "</table>\n",
              "</div>"
            ],
            "text/plain": [
              "     팀이름 사업성\n",
              "0   아자아자  좋음\n",
              "1   할수있다  보통\n",
              "2  AI마피아  부족\n",
              "3   TF고수  보통\n",
              "4  경사하강법  잘함\n",
              "5    광인사  못함"
            ]
          },
          "metadata": {
            "tags": []
          },
          "execution_count": 23
        }
      ]
    },
    {
      "cell_type": "code",
      "metadata": {
        "colab": {
          "base_uri": "https://localhost:8080/",
          "height": 335
        },
        "id": "BHZYdIVZju-J",
        "outputId": "3965197f-3363-4945-b86a-8a100144283f"
      },
      "source": [
        "#행 선택\n",
        "test_data={'팀이름':['아자아자','할수있다','AI마피아','TF고수','경사하강법','광인사'],\n",
        "           '창의성':['상','중','하','상','중','하'],\n",
        "           '완성도':[100,80,70,90,50,60],\n",
        "           '사업성':['좋음','보통','부족','보통','잘함','못함']}\n",
        "df=pd.DataFrame(test_data,index=['11팀','12팀','13팀','14팀','15팀','16팀'])\n",
        "print(df.loc[['13팀']])\n",
        "print(df.iloc[[1]])\n",
        "print('=====================================')\n",
        "\n",
        "df.loc[['11팀','14팀']]\n",
        "print('\\n')\n",
        "df.iloc[[2,5]]\n",
        "\n",
        "print('\\n')\n",
        "df.loc['12팀':'14팀']\n",
        "df.iloc[1:5]\n",
        "\n",
        "print('\\n')\n",
        "df.loc['12팀'::2]\n",
        "df.iloc[1::2]"
      ],
      "execution_count": null,
      "outputs": [
        {
          "output_type": "stream",
          "text": [
            "       팀이름 창의성  완성도 사업성\n",
            "13팀  AI마피아   하   70  부족\n",
            "      팀이름 창의성  완성도 사업성\n",
            "12팀  할수있다   중   80  보통\n",
            "=====================================\n",
            "\n",
            "\n",
            "\n",
            "\n",
            "\n",
            "\n"
          ],
          "name": "stdout"
        },
        {
          "output_type": "execute_result",
          "data": {
            "text/html": [
              "<div>\n",
              "<style scoped>\n",
              "    .dataframe tbody tr th:only-of-type {\n",
              "        vertical-align: middle;\n",
              "    }\n",
              "\n",
              "    .dataframe tbody tr th {\n",
              "        vertical-align: top;\n",
              "    }\n",
              "\n",
              "    .dataframe thead th {\n",
              "        text-align: right;\n",
              "    }\n",
              "</style>\n",
              "<table border=\"1\" class=\"dataframe\">\n",
              "  <thead>\n",
              "    <tr style=\"text-align: right;\">\n",
              "      <th></th>\n",
              "      <th>팀이름</th>\n",
              "      <th>창의성</th>\n",
              "      <th>완성도</th>\n",
              "      <th>사업성</th>\n",
              "    </tr>\n",
              "  </thead>\n",
              "  <tbody>\n",
              "    <tr>\n",
              "      <th>12팀</th>\n",
              "      <td>할수있다</td>\n",
              "      <td>중</td>\n",
              "      <td>80</td>\n",
              "      <td>보통</td>\n",
              "    </tr>\n",
              "    <tr>\n",
              "      <th>14팀</th>\n",
              "      <td>TF고수</td>\n",
              "      <td>상</td>\n",
              "      <td>90</td>\n",
              "      <td>보통</td>\n",
              "    </tr>\n",
              "    <tr>\n",
              "      <th>16팀</th>\n",
              "      <td>광인사</td>\n",
              "      <td>하</td>\n",
              "      <td>60</td>\n",
              "      <td>못함</td>\n",
              "    </tr>\n",
              "  </tbody>\n",
              "</table>\n",
              "</div>"
            ],
            "text/plain": [
              "      팀이름 창의성  완성도 사업성\n",
              "12팀  할수있다   중   80  보통\n",
              "14팀  TF고수   상   90  보통\n",
              "16팀   광인사   하   60  못함"
            ]
          },
          "metadata": {
            "tags": []
          },
          "execution_count": 24
        }
      ]
    },
    {
      "cell_type": "code",
      "metadata": {
        "colab": {
          "base_uri": "https://localhost:8080/",
          "height": 234
        },
        "id": "2B4BSmYMn-ZV",
        "outputId": "de9574b0-22ae-4f1b-a415-ce6d15046bf3"
      },
      "source": [
        "#원소 선택\n",
        "test_data={'이름':['상우','현정','문영','동엽','우제'],\n",
        "           '국어':[85,88,90,50,70],\n",
        "           '수학':[57,90,100,78,66],\n",
        "           '영어':[85,89,67,98,98],\n",
        "           '과학':[93,79,92,50,70],\n",
        "           '체육':[94,80,99,69,100]}\n",
        "df=pd.DataFrame(test_data)\n",
        "df.set_index('이름',inplace=True)    #'이름'을 index로 설정\n",
        "df"
      ],
      "execution_count": null,
      "outputs": [
        {
          "output_type": "execute_result",
          "data": {
            "text/html": [
              "<div>\n",
              "<style scoped>\n",
              "    .dataframe tbody tr th:only-of-type {\n",
              "        vertical-align: middle;\n",
              "    }\n",
              "\n",
              "    .dataframe tbody tr th {\n",
              "        vertical-align: top;\n",
              "    }\n",
              "\n",
              "    .dataframe thead th {\n",
              "        text-align: right;\n",
              "    }\n",
              "</style>\n",
              "<table border=\"1\" class=\"dataframe\">\n",
              "  <thead>\n",
              "    <tr style=\"text-align: right;\">\n",
              "      <th></th>\n",
              "      <th>국어</th>\n",
              "      <th>수학</th>\n",
              "      <th>영어</th>\n",
              "      <th>과학</th>\n",
              "      <th>체육</th>\n",
              "    </tr>\n",
              "    <tr>\n",
              "      <th>이름</th>\n",
              "      <th></th>\n",
              "      <th></th>\n",
              "      <th></th>\n",
              "      <th></th>\n",
              "      <th></th>\n",
              "    </tr>\n",
              "  </thead>\n",
              "  <tbody>\n",
              "    <tr>\n",
              "      <th>상우</th>\n",
              "      <td>85</td>\n",
              "      <td>57</td>\n",
              "      <td>85</td>\n",
              "      <td>93</td>\n",
              "      <td>94</td>\n",
              "    </tr>\n",
              "    <tr>\n",
              "      <th>현정</th>\n",
              "      <td>88</td>\n",
              "      <td>90</td>\n",
              "      <td>89</td>\n",
              "      <td>79</td>\n",
              "      <td>80</td>\n",
              "    </tr>\n",
              "    <tr>\n",
              "      <th>문영</th>\n",
              "      <td>90</td>\n",
              "      <td>100</td>\n",
              "      <td>67</td>\n",
              "      <td>92</td>\n",
              "      <td>99</td>\n",
              "    </tr>\n",
              "    <tr>\n",
              "      <th>동엽</th>\n",
              "      <td>50</td>\n",
              "      <td>78</td>\n",
              "      <td>98</td>\n",
              "      <td>50</td>\n",
              "      <td>69</td>\n",
              "    </tr>\n",
              "    <tr>\n",
              "      <th>우제</th>\n",
              "      <td>70</td>\n",
              "      <td>66</td>\n",
              "      <td>98</td>\n",
              "      <td>70</td>\n",
              "      <td>100</td>\n",
              "    </tr>\n",
              "  </tbody>\n",
              "</table>\n",
              "</div>"
            ],
            "text/plain": [
              "    국어   수학  영어  과학   체육\n",
              "이름                      \n",
              "상우  85   57  85  93   94\n",
              "현정  88   90  89  79   80\n",
              "문영  90  100  67  92   99\n",
              "동엽  50   78  98  50   69\n",
              "우제  70   66  98  70  100"
            ]
          },
          "metadata": {
            "tags": []
          },
          "execution_count": 25
        }
      ]
    },
    {
      "cell_type": "code",
      "metadata": {
        "colab": {
          "base_uri": "https://localhost:8080/",
          "height": 110
        },
        "id": "Q-iBWjI_qqmI",
        "outputId": "b9fd4bc4-c1fd-41d9-f518-56b3e2796fe1"
      },
      "source": [
        "df.loc[['문영'],['영어']]"
      ],
      "execution_count": null,
      "outputs": [
        {
          "output_type": "execute_result",
          "data": {
            "text/html": [
              "<div>\n",
              "<style scoped>\n",
              "    .dataframe tbody tr th:only-of-type {\n",
              "        vertical-align: middle;\n",
              "    }\n",
              "\n",
              "    .dataframe tbody tr th {\n",
              "        vertical-align: top;\n",
              "    }\n",
              "\n",
              "    .dataframe thead th {\n",
              "        text-align: right;\n",
              "    }\n",
              "</style>\n",
              "<table border=\"1\" class=\"dataframe\">\n",
              "  <thead>\n",
              "    <tr style=\"text-align: right;\">\n",
              "      <th></th>\n",
              "      <th>영어</th>\n",
              "    </tr>\n",
              "    <tr>\n",
              "      <th>이름</th>\n",
              "      <th></th>\n",
              "    </tr>\n",
              "  </thead>\n",
              "  <tbody>\n",
              "    <tr>\n",
              "      <th>문영</th>\n",
              "      <td>67</td>\n",
              "    </tr>\n",
              "  </tbody>\n",
              "</table>\n",
              "</div>"
            ],
            "text/plain": [
              "    영어\n",
              "이름    \n",
              "문영  67"
            ]
          },
          "metadata": {
            "tags": []
          },
          "execution_count": 26
        }
      ]
    },
    {
      "cell_type": "code",
      "metadata": {
        "colab": {
          "base_uri": "https://localhost:8080/",
          "height": 110
        },
        "id": "kBsV6Vb4sSq-",
        "outputId": "d099b030-46c8-4c61-e782-cf943e69c181"
      },
      "source": [
        "df.iloc[[1],[1]]"
      ],
      "execution_count": null,
      "outputs": [
        {
          "output_type": "execute_result",
          "data": {
            "text/html": [
              "<div>\n",
              "<style scoped>\n",
              "    .dataframe tbody tr th:only-of-type {\n",
              "        vertical-align: middle;\n",
              "    }\n",
              "\n",
              "    .dataframe tbody tr th {\n",
              "        vertical-align: top;\n",
              "    }\n",
              "\n",
              "    .dataframe thead th {\n",
              "        text-align: right;\n",
              "    }\n",
              "</style>\n",
              "<table border=\"1\" class=\"dataframe\">\n",
              "  <thead>\n",
              "    <tr style=\"text-align: right;\">\n",
              "      <th></th>\n",
              "      <th>수학</th>\n",
              "    </tr>\n",
              "    <tr>\n",
              "      <th>이름</th>\n",
              "      <th></th>\n",
              "    </tr>\n",
              "  </thead>\n",
              "  <tbody>\n",
              "    <tr>\n",
              "      <th>현정</th>\n",
              "      <td>90</td>\n",
              "    </tr>\n",
              "  </tbody>\n",
              "</table>\n",
              "</div>"
            ],
            "text/plain": [
              "    수학\n",
              "이름    \n",
              "현정  90"
            ]
          },
          "metadata": {
            "tags": []
          },
          "execution_count": 27
        }
      ]
    },
    {
      "cell_type": "code",
      "metadata": {
        "colab": {
          "base_uri": "https://localhost:8080/",
          "height": 110
        },
        "id": "AX-njhZeq8kB",
        "outputId": "e34d4eb3-b69d-4428-f989-6f8744016eb0"
      },
      "source": [
        "df.loc[['문영'],['국어','체육']]"
      ],
      "execution_count": null,
      "outputs": [
        {
          "output_type": "execute_result",
          "data": {
            "text/html": [
              "<div>\n",
              "<style scoped>\n",
              "    .dataframe tbody tr th:only-of-type {\n",
              "        vertical-align: middle;\n",
              "    }\n",
              "\n",
              "    .dataframe tbody tr th {\n",
              "        vertical-align: top;\n",
              "    }\n",
              "\n",
              "    .dataframe thead th {\n",
              "        text-align: right;\n",
              "    }\n",
              "</style>\n",
              "<table border=\"1\" class=\"dataframe\">\n",
              "  <thead>\n",
              "    <tr style=\"text-align: right;\">\n",
              "      <th></th>\n",
              "      <th>국어</th>\n",
              "      <th>체육</th>\n",
              "    </tr>\n",
              "    <tr>\n",
              "      <th>이름</th>\n",
              "      <th></th>\n",
              "      <th></th>\n",
              "    </tr>\n",
              "  </thead>\n",
              "  <tbody>\n",
              "    <tr>\n",
              "      <th>문영</th>\n",
              "      <td>90</td>\n",
              "      <td>99</td>\n",
              "    </tr>\n",
              "  </tbody>\n",
              "</table>\n",
              "</div>"
            ],
            "text/plain": [
              "    국어  체육\n",
              "이름        \n",
              "문영  90  99"
            ]
          },
          "metadata": {
            "tags": []
          },
          "execution_count": 28
        }
      ]
    },
    {
      "cell_type": "code",
      "metadata": {
        "colab": {
          "base_uri": "https://localhost:8080/",
          "height": 110
        },
        "id": "zNp7TdRWrPYL",
        "outputId": "891042bc-d47e-4a3c-96d8-173c4861536f"
      },
      "source": [
        "df.iloc[[2],[0,3]]"
      ],
      "execution_count": null,
      "outputs": [
        {
          "output_type": "execute_result",
          "data": {
            "text/html": [
              "<div>\n",
              "<style scoped>\n",
              "    .dataframe tbody tr th:only-of-type {\n",
              "        vertical-align: middle;\n",
              "    }\n",
              "\n",
              "    .dataframe tbody tr th {\n",
              "        vertical-align: top;\n",
              "    }\n",
              "\n",
              "    .dataframe thead th {\n",
              "        text-align: right;\n",
              "    }\n",
              "</style>\n",
              "<table border=\"1\" class=\"dataframe\">\n",
              "  <thead>\n",
              "    <tr style=\"text-align: right;\">\n",
              "      <th></th>\n",
              "      <th>국어</th>\n",
              "      <th>과학</th>\n",
              "    </tr>\n",
              "    <tr>\n",
              "      <th>이름</th>\n",
              "      <th></th>\n",
              "      <th></th>\n",
              "    </tr>\n",
              "  </thead>\n",
              "  <tbody>\n",
              "    <tr>\n",
              "      <th>문영</th>\n",
              "      <td>90</td>\n",
              "      <td>92</td>\n",
              "    </tr>\n",
              "  </tbody>\n",
              "</table>\n",
              "</div>"
            ],
            "text/plain": [
              "    국어  과학\n",
              "이름        \n",
              "문영  90  92"
            ]
          },
          "metadata": {
            "tags": []
          },
          "execution_count": 29
        }
      ]
    },
    {
      "cell_type": "code",
      "metadata": {
        "colab": {
          "base_uri": "https://localhost:8080/",
          "height": 142
        },
        "id": "suTmelaasW3f",
        "outputId": "e782831f-ce98-42a2-d0d8-67f2b65f9370"
      },
      "source": [
        "df.loc[['문영','동엽'],['국어']]"
      ],
      "execution_count": null,
      "outputs": [
        {
          "output_type": "execute_result",
          "data": {
            "text/html": [
              "<div>\n",
              "<style scoped>\n",
              "    .dataframe tbody tr th:only-of-type {\n",
              "        vertical-align: middle;\n",
              "    }\n",
              "\n",
              "    .dataframe tbody tr th {\n",
              "        vertical-align: top;\n",
              "    }\n",
              "\n",
              "    .dataframe thead th {\n",
              "        text-align: right;\n",
              "    }\n",
              "</style>\n",
              "<table border=\"1\" class=\"dataframe\">\n",
              "  <thead>\n",
              "    <tr style=\"text-align: right;\">\n",
              "      <th></th>\n",
              "      <th>국어</th>\n",
              "    </tr>\n",
              "    <tr>\n",
              "      <th>이름</th>\n",
              "      <th></th>\n",
              "    </tr>\n",
              "  </thead>\n",
              "  <tbody>\n",
              "    <tr>\n",
              "      <th>문영</th>\n",
              "      <td>90</td>\n",
              "    </tr>\n",
              "    <tr>\n",
              "      <th>동엽</th>\n",
              "      <td>50</td>\n",
              "    </tr>\n",
              "  </tbody>\n",
              "</table>\n",
              "</div>"
            ],
            "text/plain": [
              "    국어\n",
              "이름    \n",
              "문영  90\n",
              "동엽  50"
            ]
          },
          "metadata": {
            "tags": []
          },
          "execution_count": 30
        }
      ]
    },
    {
      "cell_type": "code",
      "metadata": {
        "colab": {
          "base_uri": "https://localhost:8080/",
          "height": 142
        },
        "id": "AbaUin8rs5ir",
        "outputId": "242dd98f-ec0a-4fa5-a46a-3a8f124fab7a"
      },
      "source": [
        "df.iloc[[1,3],[0,2,4]]"
      ],
      "execution_count": null,
      "outputs": [
        {
          "output_type": "execute_result",
          "data": {
            "text/html": [
              "<div>\n",
              "<style scoped>\n",
              "    .dataframe tbody tr th:only-of-type {\n",
              "        vertical-align: middle;\n",
              "    }\n",
              "\n",
              "    .dataframe tbody tr th {\n",
              "        vertical-align: top;\n",
              "    }\n",
              "\n",
              "    .dataframe thead th {\n",
              "        text-align: right;\n",
              "    }\n",
              "</style>\n",
              "<table border=\"1\" class=\"dataframe\">\n",
              "  <thead>\n",
              "    <tr style=\"text-align: right;\">\n",
              "      <th></th>\n",
              "      <th>국어</th>\n",
              "      <th>영어</th>\n",
              "      <th>체육</th>\n",
              "    </tr>\n",
              "    <tr>\n",
              "      <th>이름</th>\n",
              "      <th></th>\n",
              "      <th></th>\n",
              "      <th></th>\n",
              "    </tr>\n",
              "  </thead>\n",
              "  <tbody>\n",
              "    <tr>\n",
              "      <th>현정</th>\n",
              "      <td>88</td>\n",
              "      <td>89</td>\n",
              "      <td>80</td>\n",
              "    </tr>\n",
              "    <tr>\n",
              "      <th>동엽</th>\n",
              "      <td>50</td>\n",
              "      <td>98</td>\n",
              "      <td>69</td>\n",
              "    </tr>\n",
              "  </tbody>\n",
              "</table>\n",
              "</div>"
            ],
            "text/plain": [
              "    국어  영어  체육\n",
              "이름            \n",
              "현정  88  89  80\n",
              "동엽  50  98  69"
            ]
          },
          "metadata": {
            "tags": []
          },
          "execution_count": 31
        }
      ]
    },
    {
      "cell_type": "markdown",
      "metadata": {
        "id": "RRyRFYNPtPWp"
      },
      "source": [
        "20.Index활용"
      ]
    },
    {
      "cell_type": "code",
      "metadata": {
        "colab": {
          "base_uri": "https://localhost:8080/",
          "height": 203
        },
        "id": "ciP5Yw3hs7U4",
        "outputId": "67c9ea1c-07eb-4327-e404-c03ca4f82021"
      },
      "source": [
        "test_data={'이름':['상우','현정','문영','동엽','우제'],\n",
        "           '국어':[85,88,90,50,70],\n",
        "           '수학':[57,90,100,78,66],\n",
        "           '영어':[85,89,67,98,98],\n",
        "           '과학':[93,79,92,50,70],\n",
        "           '체육':[94,80,99,69,100]}\n",
        "df=pd.DataFrame(test_data)\n",
        "df"
      ],
      "execution_count": null,
      "outputs": [
        {
          "output_type": "execute_result",
          "data": {
            "text/html": [
              "<div>\n",
              "<style scoped>\n",
              "    .dataframe tbody tr th:only-of-type {\n",
              "        vertical-align: middle;\n",
              "    }\n",
              "\n",
              "    .dataframe tbody tr th {\n",
              "        vertical-align: top;\n",
              "    }\n",
              "\n",
              "    .dataframe thead th {\n",
              "        text-align: right;\n",
              "    }\n",
              "</style>\n",
              "<table border=\"1\" class=\"dataframe\">\n",
              "  <thead>\n",
              "    <tr style=\"text-align: right;\">\n",
              "      <th></th>\n",
              "      <th>이름</th>\n",
              "      <th>국어</th>\n",
              "      <th>수학</th>\n",
              "      <th>영어</th>\n",
              "      <th>과학</th>\n",
              "      <th>체육</th>\n",
              "    </tr>\n",
              "  </thead>\n",
              "  <tbody>\n",
              "    <tr>\n",
              "      <th>0</th>\n",
              "      <td>상우</td>\n",
              "      <td>85</td>\n",
              "      <td>57</td>\n",
              "      <td>85</td>\n",
              "      <td>93</td>\n",
              "      <td>94</td>\n",
              "    </tr>\n",
              "    <tr>\n",
              "      <th>1</th>\n",
              "      <td>현정</td>\n",
              "      <td>88</td>\n",
              "      <td>90</td>\n",
              "      <td>89</td>\n",
              "      <td>79</td>\n",
              "      <td>80</td>\n",
              "    </tr>\n",
              "    <tr>\n",
              "      <th>2</th>\n",
              "      <td>문영</td>\n",
              "      <td>90</td>\n",
              "      <td>100</td>\n",
              "      <td>67</td>\n",
              "      <td>92</td>\n",
              "      <td>99</td>\n",
              "    </tr>\n",
              "    <tr>\n",
              "      <th>3</th>\n",
              "      <td>동엽</td>\n",
              "      <td>50</td>\n",
              "      <td>78</td>\n",
              "      <td>98</td>\n",
              "      <td>50</td>\n",
              "      <td>69</td>\n",
              "    </tr>\n",
              "    <tr>\n",
              "      <th>4</th>\n",
              "      <td>우제</td>\n",
              "      <td>70</td>\n",
              "      <td>66</td>\n",
              "      <td>98</td>\n",
              "      <td>70</td>\n",
              "      <td>100</td>\n",
              "    </tr>\n",
              "  </tbody>\n",
              "</table>\n",
              "</div>"
            ],
            "text/plain": [
              "   이름  국어   수학  영어  과학   체육\n",
              "0  상우  85   57  85  93   94\n",
              "1  현정  88   90  89  79   80\n",
              "2  문영  90  100  67  92   99\n",
              "3  동엽  50   78  98  50   69\n",
              "4  우제  70   66  98  70  100"
            ]
          },
          "metadata": {
            "tags": []
          },
          "execution_count": 32
        }
      ]
    },
    {
      "cell_type": "code",
      "metadata": {
        "colab": {
          "base_uri": "https://localhost:8080/",
          "height": 203
        },
        "id": "i0a-IqbQtpxA",
        "outputId": "2730a476-432b-461c-9bb4-a745d7fb4191"
      },
      "source": [
        "df['체육']=90\n",
        "df['사회']=[89,69,79,80,100]\n",
        "df"
      ],
      "execution_count": null,
      "outputs": [
        {
          "output_type": "execute_result",
          "data": {
            "text/html": [
              "<div>\n",
              "<style scoped>\n",
              "    .dataframe tbody tr th:only-of-type {\n",
              "        vertical-align: middle;\n",
              "    }\n",
              "\n",
              "    .dataframe tbody tr th {\n",
              "        vertical-align: top;\n",
              "    }\n",
              "\n",
              "    .dataframe thead th {\n",
              "        text-align: right;\n",
              "    }\n",
              "</style>\n",
              "<table border=\"1\" class=\"dataframe\">\n",
              "  <thead>\n",
              "    <tr style=\"text-align: right;\">\n",
              "      <th></th>\n",
              "      <th>이름</th>\n",
              "      <th>국어</th>\n",
              "      <th>수학</th>\n",
              "      <th>영어</th>\n",
              "      <th>과학</th>\n",
              "      <th>체육</th>\n",
              "      <th>사회</th>\n",
              "    </tr>\n",
              "  </thead>\n",
              "  <tbody>\n",
              "    <tr>\n",
              "      <th>0</th>\n",
              "      <td>상우</td>\n",
              "      <td>85</td>\n",
              "      <td>57</td>\n",
              "      <td>85</td>\n",
              "      <td>93</td>\n",
              "      <td>90</td>\n",
              "      <td>89</td>\n",
              "    </tr>\n",
              "    <tr>\n",
              "      <th>1</th>\n",
              "      <td>현정</td>\n",
              "      <td>88</td>\n",
              "      <td>90</td>\n",
              "      <td>89</td>\n",
              "      <td>79</td>\n",
              "      <td>90</td>\n",
              "      <td>69</td>\n",
              "    </tr>\n",
              "    <tr>\n",
              "      <th>2</th>\n",
              "      <td>문영</td>\n",
              "      <td>90</td>\n",
              "      <td>100</td>\n",
              "      <td>67</td>\n",
              "      <td>92</td>\n",
              "      <td>90</td>\n",
              "      <td>79</td>\n",
              "    </tr>\n",
              "    <tr>\n",
              "      <th>3</th>\n",
              "      <td>동엽</td>\n",
              "      <td>50</td>\n",
              "      <td>78</td>\n",
              "      <td>98</td>\n",
              "      <td>50</td>\n",
              "      <td>90</td>\n",
              "      <td>80</td>\n",
              "    </tr>\n",
              "    <tr>\n",
              "      <th>4</th>\n",
              "      <td>우제</td>\n",
              "      <td>70</td>\n",
              "      <td>66</td>\n",
              "      <td>98</td>\n",
              "      <td>70</td>\n",
              "      <td>90</td>\n",
              "      <td>100</td>\n",
              "    </tr>\n",
              "  </tbody>\n",
              "</table>\n",
              "</div>"
            ],
            "text/plain": [
              "   이름  국어   수학  영어  과학  체육   사회\n",
              "0  상우  85   57  85  93  90   89\n",
              "1  현정  88   90  89  79  90   69\n",
              "2  문영  90  100  67  92  90   79\n",
              "3  동엽  50   78  98  50  90   80\n",
              "4  우제  70   66  98  70  90  100"
            ]
          },
          "metadata": {
            "tags": []
          },
          "execution_count": 33
        }
      ]
    },
    {
      "cell_type": "code",
      "metadata": {
        "colab": {
          "base_uri": "https://localhost:8080/",
          "height": 295
        },
        "id": "1nedsY0it0rT",
        "outputId": "57f2518c-c235-41ae-ea69-3c785b0e2c72"
      },
      "source": [
        "df.loc[5]=100\n",
        "df.loc[6]=['jack',90,100,92,93,95,96]\n",
        "df.loc['일곱']=['Michael',71,72,75,76,74,73]\n",
        "df"
      ],
      "execution_count": null,
      "outputs": [
        {
          "output_type": "execute_result",
          "data": {
            "text/html": [
              "<div>\n",
              "<style scoped>\n",
              "    .dataframe tbody tr th:only-of-type {\n",
              "        vertical-align: middle;\n",
              "    }\n",
              "\n",
              "    .dataframe tbody tr th {\n",
              "        vertical-align: top;\n",
              "    }\n",
              "\n",
              "    .dataframe thead th {\n",
              "        text-align: right;\n",
              "    }\n",
              "</style>\n",
              "<table border=\"1\" class=\"dataframe\">\n",
              "  <thead>\n",
              "    <tr style=\"text-align: right;\">\n",
              "      <th></th>\n",
              "      <th>이름</th>\n",
              "      <th>국어</th>\n",
              "      <th>수학</th>\n",
              "      <th>영어</th>\n",
              "      <th>과학</th>\n",
              "      <th>체육</th>\n",
              "      <th>사회</th>\n",
              "    </tr>\n",
              "  </thead>\n",
              "  <tbody>\n",
              "    <tr>\n",
              "      <th>0</th>\n",
              "      <td>상우</td>\n",
              "      <td>85</td>\n",
              "      <td>57</td>\n",
              "      <td>85</td>\n",
              "      <td>93</td>\n",
              "      <td>90</td>\n",
              "      <td>89</td>\n",
              "    </tr>\n",
              "    <tr>\n",
              "      <th>1</th>\n",
              "      <td>현정</td>\n",
              "      <td>88</td>\n",
              "      <td>90</td>\n",
              "      <td>89</td>\n",
              "      <td>79</td>\n",
              "      <td>90</td>\n",
              "      <td>69</td>\n",
              "    </tr>\n",
              "    <tr>\n",
              "      <th>2</th>\n",
              "      <td>문영</td>\n",
              "      <td>90</td>\n",
              "      <td>100</td>\n",
              "      <td>67</td>\n",
              "      <td>92</td>\n",
              "      <td>90</td>\n",
              "      <td>79</td>\n",
              "    </tr>\n",
              "    <tr>\n",
              "      <th>3</th>\n",
              "      <td>동엽</td>\n",
              "      <td>50</td>\n",
              "      <td>78</td>\n",
              "      <td>98</td>\n",
              "      <td>50</td>\n",
              "      <td>90</td>\n",
              "      <td>80</td>\n",
              "    </tr>\n",
              "    <tr>\n",
              "      <th>4</th>\n",
              "      <td>우제</td>\n",
              "      <td>70</td>\n",
              "      <td>66</td>\n",
              "      <td>98</td>\n",
              "      <td>70</td>\n",
              "      <td>90</td>\n",
              "      <td>100</td>\n",
              "    </tr>\n",
              "    <tr>\n",
              "      <th>5</th>\n",
              "      <td>100</td>\n",
              "      <td>100</td>\n",
              "      <td>100</td>\n",
              "      <td>100</td>\n",
              "      <td>100</td>\n",
              "      <td>100</td>\n",
              "      <td>100</td>\n",
              "    </tr>\n",
              "    <tr>\n",
              "      <th>6</th>\n",
              "      <td>jack</td>\n",
              "      <td>90</td>\n",
              "      <td>100</td>\n",
              "      <td>92</td>\n",
              "      <td>93</td>\n",
              "      <td>95</td>\n",
              "      <td>96</td>\n",
              "    </tr>\n",
              "    <tr>\n",
              "      <th>일곱</th>\n",
              "      <td>Michael</td>\n",
              "      <td>71</td>\n",
              "      <td>72</td>\n",
              "      <td>75</td>\n",
              "      <td>76</td>\n",
              "      <td>74</td>\n",
              "      <td>73</td>\n",
              "    </tr>\n",
              "  </tbody>\n",
              "</table>\n",
              "</div>"
            ],
            "text/plain": [
              "         이름   국어   수학   영어   과학   체육   사회\n",
              "0        상우   85   57   85   93   90   89\n",
              "1        현정   88   90   89   79   90   69\n",
              "2        문영   90  100   67   92   90   79\n",
              "3        동엽   50   78   98   50   90   80\n",
              "4        우제   70   66   98   70   90  100\n",
              "5       100  100  100  100  100  100  100\n",
              "6      jack   90  100   92   93   95   96\n",
              "일곱  Michael   71   72   75   76   74   73"
            ]
          },
          "metadata": {
            "tags": []
          },
          "execution_count": 34
        }
      ]
    },
    {
      "cell_type": "code",
      "metadata": {
        "colab": {
          "base_uri": "https://localhost:8080/",
          "height": 586
        },
        "id": "3tMgdCmKt5Hu",
        "outputId": "f6bfb380-d89d-4d32-f77c-ffe7a46b8e91"
      },
      "source": [
        "test_data={'상호명':['상우네','현정이네','문영이네','동엽이네','우제네'],\n",
        "           '사과':[850,880,900,500,700],\n",
        "           '배':[570,900,1000,780,660],\n",
        "           '딸기':[850,890,670,980,908],\n",
        "           '포도':[930,790,920,500,700]}\n",
        "df=pd.DataFrame(test_data)\n",
        "print(df)\n",
        "\n",
        "new_df1=df.set_index('상호명')\n",
        "print(new_df1)\n",
        "\n",
        "new_df2=df.set_index(['사과'])\n",
        "print(new_df2)\n",
        "\n",
        "df.set_index(['상호명'],inplace=True)\n",
        "df"
      ],
      "execution_count": null,
      "outputs": [
        {
          "output_type": "stream",
          "text": [
            "    상호명   사과     배   딸기   포도\n",
            "0   상우네  850   570  850  930\n",
            "1  현정이네  880   900  890  790\n",
            "2  문영이네  900  1000  670  920\n",
            "3  동엽이네  500   780  980  500\n",
            "4   우제네  700   660  908  700\n",
            "       사과     배   딸기   포도\n",
            "상호명                      \n",
            "상우네   850   570  850  930\n",
            "현정이네  880   900  890  790\n",
            "문영이네  900  1000  670  920\n",
            "동엽이네  500   780  980  500\n",
            "우제네   700   660  908  700\n",
            "      상호명     배   딸기   포도\n",
            "사과                       \n",
            "850   상우네   570  850  930\n",
            "880  현정이네   900  890  790\n",
            "900  문영이네  1000  670  920\n",
            "500  동엽이네   780  980  500\n",
            "700   우제네   660  908  700\n"
          ],
          "name": "stdout"
        },
        {
          "output_type": "execute_result",
          "data": {
            "text/html": [
              "<div>\n",
              "<style scoped>\n",
              "    .dataframe tbody tr th:only-of-type {\n",
              "        vertical-align: middle;\n",
              "    }\n",
              "\n",
              "    .dataframe tbody tr th {\n",
              "        vertical-align: top;\n",
              "    }\n",
              "\n",
              "    .dataframe thead th {\n",
              "        text-align: right;\n",
              "    }\n",
              "</style>\n",
              "<table border=\"1\" class=\"dataframe\">\n",
              "  <thead>\n",
              "    <tr style=\"text-align: right;\">\n",
              "      <th></th>\n",
              "      <th>사과</th>\n",
              "      <th>배</th>\n",
              "      <th>딸기</th>\n",
              "      <th>포도</th>\n",
              "    </tr>\n",
              "    <tr>\n",
              "      <th>상호명</th>\n",
              "      <th></th>\n",
              "      <th></th>\n",
              "      <th></th>\n",
              "      <th></th>\n",
              "    </tr>\n",
              "  </thead>\n",
              "  <tbody>\n",
              "    <tr>\n",
              "      <th>상우네</th>\n",
              "      <td>850</td>\n",
              "      <td>570</td>\n",
              "      <td>850</td>\n",
              "      <td>930</td>\n",
              "    </tr>\n",
              "    <tr>\n",
              "      <th>현정이네</th>\n",
              "      <td>880</td>\n",
              "      <td>900</td>\n",
              "      <td>890</td>\n",
              "      <td>790</td>\n",
              "    </tr>\n",
              "    <tr>\n",
              "      <th>문영이네</th>\n",
              "      <td>900</td>\n",
              "      <td>1000</td>\n",
              "      <td>670</td>\n",
              "      <td>920</td>\n",
              "    </tr>\n",
              "    <tr>\n",
              "      <th>동엽이네</th>\n",
              "      <td>500</td>\n",
              "      <td>780</td>\n",
              "      <td>980</td>\n",
              "      <td>500</td>\n",
              "    </tr>\n",
              "    <tr>\n",
              "      <th>우제네</th>\n",
              "      <td>700</td>\n",
              "      <td>660</td>\n",
              "      <td>908</td>\n",
              "      <td>700</td>\n",
              "    </tr>\n",
              "  </tbody>\n",
              "</table>\n",
              "</div>"
            ],
            "text/plain": [
              "       사과     배   딸기   포도\n",
              "상호명                      \n",
              "상우네   850   570  850  930\n",
              "현정이네  880   900  890  790\n",
              "문영이네  900  1000  670  920\n",
              "동엽이네  500   780  980  500\n",
              "우제네   700   660  908  700"
            ]
          },
          "metadata": {
            "tags": []
          },
          "execution_count": 35
        }
      ]
    },
    {
      "cell_type": "code",
      "metadata": {
        "colab": {
          "base_uri": "https://localhost:8080/",
          "height": 498
        },
        "id": "Y_UzhrhnvPzd",
        "outputId": "2f063443-3570-4838-e80f-a2ccac3ff475"
      },
      "source": [
        "df1=pd.DataFrame(test_data,index=[4,2,1,0,3])\n",
        "print(df1)\n",
        "print('\\n')\n",
        "\n",
        "new_index=[0,1,2,3,4,5]\n",
        "reindex_df1=df1.reindex(new_index)\n",
        "print(reindex_df1)\n",
        "\n",
        "#fill_value로 NaN 데이터 채우기\n",
        "reindex_df2=df1.reindex(new_index,fill_value=777)\n",
        "reindex_df2"
      ],
      "execution_count": null,
      "outputs": [
        {
          "output_type": "stream",
          "text": [
            "    상호명   사과     배   딸기   포도\n",
            "4   상우네  850   570  850  930\n",
            "2  현정이네  880   900  890  790\n",
            "1  문영이네  900  1000  670  920\n",
            "0  동엽이네  500   780  980  500\n",
            "3   우제네  700   660  908  700\n",
            "\n",
            "\n",
            "    상호명     사과       배     딸기     포도\n",
            "0  동엽이네  500.0   780.0  980.0  500.0\n",
            "1  문영이네  900.0  1000.0  670.0  920.0\n",
            "2  현정이네  880.0   900.0  890.0  790.0\n",
            "3   우제네  700.0   660.0  908.0  700.0\n",
            "4   상우네  850.0   570.0  850.0  930.0\n",
            "5   NaN    NaN     NaN    NaN    NaN\n"
          ],
          "name": "stdout"
        },
        {
          "output_type": "execute_result",
          "data": {
            "text/html": [
              "<div>\n",
              "<style scoped>\n",
              "    .dataframe tbody tr th:only-of-type {\n",
              "        vertical-align: middle;\n",
              "    }\n",
              "\n",
              "    .dataframe tbody tr th {\n",
              "        vertical-align: top;\n",
              "    }\n",
              "\n",
              "    .dataframe thead th {\n",
              "        text-align: right;\n",
              "    }\n",
              "</style>\n",
              "<table border=\"1\" class=\"dataframe\">\n",
              "  <thead>\n",
              "    <tr style=\"text-align: right;\">\n",
              "      <th></th>\n",
              "      <th>상호명</th>\n",
              "      <th>사과</th>\n",
              "      <th>배</th>\n",
              "      <th>딸기</th>\n",
              "      <th>포도</th>\n",
              "    </tr>\n",
              "  </thead>\n",
              "  <tbody>\n",
              "    <tr>\n",
              "      <th>0</th>\n",
              "      <td>동엽이네</td>\n",
              "      <td>500</td>\n",
              "      <td>780</td>\n",
              "      <td>980</td>\n",
              "      <td>500</td>\n",
              "    </tr>\n",
              "    <tr>\n",
              "      <th>1</th>\n",
              "      <td>문영이네</td>\n",
              "      <td>900</td>\n",
              "      <td>1000</td>\n",
              "      <td>670</td>\n",
              "      <td>920</td>\n",
              "    </tr>\n",
              "    <tr>\n",
              "      <th>2</th>\n",
              "      <td>현정이네</td>\n",
              "      <td>880</td>\n",
              "      <td>900</td>\n",
              "      <td>890</td>\n",
              "      <td>790</td>\n",
              "    </tr>\n",
              "    <tr>\n",
              "      <th>3</th>\n",
              "      <td>우제네</td>\n",
              "      <td>700</td>\n",
              "      <td>660</td>\n",
              "      <td>908</td>\n",
              "      <td>700</td>\n",
              "    </tr>\n",
              "    <tr>\n",
              "      <th>4</th>\n",
              "      <td>상우네</td>\n",
              "      <td>850</td>\n",
              "      <td>570</td>\n",
              "      <td>850</td>\n",
              "      <td>930</td>\n",
              "    </tr>\n",
              "    <tr>\n",
              "      <th>5</th>\n",
              "      <td>777</td>\n",
              "      <td>777</td>\n",
              "      <td>777</td>\n",
              "      <td>777</td>\n",
              "      <td>777</td>\n",
              "    </tr>\n",
              "  </tbody>\n",
              "</table>\n",
              "</div>"
            ],
            "text/plain": [
              "    상호명   사과     배   딸기   포도\n",
              "0  동엽이네  500   780  980  500\n",
              "1  문영이네  900  1000  670  920\n",
              "2  현정이네  880   900  890  790\n",
              "3   우제네  700   660  908  700\n",
              "4   상우네  850   570  850  930\n",
              "5   777  777   777  777  777"
            ]
          },
          "metadata": {
            "tags": []
          },
          "execution_count": 36
        }
      ]
    },
    {
      "cell_type": "code",
      "metadata": {
        "colab": {
          "base_uri": "https://localhost:8080/",
          "height": 234
        },
        "id": "7Nl76_pJxSW-",
        "outputId": "7e5f1f46-784d-48df-ce38-517bb6a86ad1"
      },
      "source": [
        "reindex_df2.set_index('상호명',inplace=True)\n",
        "reindex_df2.reset_index()"
      ],
      "execution_count": null,
      "outputs": [
        {
          "output_type": "execute_result",
          "data": {
            "text/html": [
              "<div>\n",
              "<style scoped>\n",
              "    .dataframe tbody tr th:only-of-type {\n",
              "        vertical-align: middle;\n",
              "    }\n",
              "\n",
              "    .dataframe tbody tr th {\n",
              "        vertical-align: top;\n",
              "    }\n",
              "\n",
              "    .dataframe thead th {\n",
              "        text-align: right;\n",
              "    }\n",
              "</style>\n",
              "<table border=\"1\" class=\"dataframe\">\n",
              "  <thead>\n",
              "    <tr style=\"text-align: right;\">\n",
              "      <th></th>\n",
              "      <th>상호명</th>\n",
              "      <th>사과</th>\n",
              "      <th>배</th>\n",
              "      <th>딸기</th>\n",
              "      <th>포도</th>\n",
              "    </tr>\n",
              "  </thead>\n",
              "  <tbody>\n",
              "    <tr>\n",
              "      <th>0</th>\n",
              "      <td>동엽이네</td>\n",
              "      <td>500</td>\n",
              "      <td>780</td>\n",
              "      <td>980</td>\n",
              "      <td>500</td>\n",
              "    </tr>\n",
              "    <tr>\n",
              "      <th>1</th>\n",
              "      <td>문영이네</td>\n",
              "      <td>900</td>\n",
              "      <td>1000</td>\n",
              "      <td>670</td>\n",
              "      <td>920</td>\n",
              "    </tr>\n",
              "    <tr>\n",
              "      <th>2</th>\n",
              "      <td>현정이네</td>\n",
              "      <td>880</td>\n",
              "      <td>900</td>\n",
              "      <td>890</td>\n",
              "      <td>790</td>\n",
              "    </tr>\n",
              "    <tr>\n",
              "      <th>3</th>\n",
              "      <td>우제네</td>\n",
              "      <td>700</td>\n",
              "      <td>660</td>\n",
              "      <td>908</td>\n",
              "      <td>700</td>\n",
              "    </tr>\n",
              "    <tr>\n",
              "      <th>4</th>\n",
              "      <td>상우네</td>\n",
              "      <td>850</td>\n",
              "      <td>570</td>\n",
              "      <td>850</td>\n",
              "      <td>930</td>\n",
              "    </tr>\n",
              "    <tr>\n",
              "      <th>5</th>\n",
              "      <td>777</td>\n",
              "      <td>777</td>\n",
              "      <td>777</td>\n",
              "      <td>777</td>\n",
              "      <td>777</td>\n",
              "    </tr>\n",
              "  </tbody>\n",
              "</table>\n",
              "</div>"
            ],
            "text/plain": [
              "    상호명   사과     배   딸기   포도\n",
              "0  동엽이네  500   780  980  500\n",
              "1  문영이네  900  1000  670  920\n",
              "2  현정이네  880   900  890  790\n",
              "3   우제네  700   660  908  700\n",
              "4   상우네  850   570  850  930\n",
              "5   777  777   777  777  777"
            ]
          },
          "metadata": {
            "tags": []
          },
          "execution_count": 37
        }
      ]
    },
    {
      "cell_type": "code",
      "metadata": {
        "colab": {
          "base_uri": "https://localhost:8080/",
          "height": 590
        },
        "id": "NUWqoFib3zyY",
        "outputId": "0b5fa35e-1c23-4216-c12b-624cbdbb924b"
      },
      "source": [
        "test_data={'상호명':['상우네','현정이네','문영이네','동엽이네','우제네'],\n",
        "           '사과':[850,880,900,500,700],\n",
        "           '배':[570,900,1000,780,660],\n",
        "           '딸기':[850,890,670,980,908],\n",
        "           '포도':[930,790,920,500,700]}\n",
        "df=pd.DataFrame(test_data,index=[4,2,1,0,3])\n",
        "print(df)\n",
        "print('\\n')\n",
        "sorted_df=df.sort_index()\n",
        "print(sorted_df)\n",
        "print('\\n')\n",
        "\n",
        "#오름차순 True, 내림차순 False\n",
        "ascending_df=df.sort_index(ascending=True)\n",
        "print(ascending_df)\n",
        "descending_df=df.sort_index(ascending=False)\n",
        "descending_df"
      ],
      "execution_count": null,
      "outputs": [
        {
          "output_type": "stream",
          "text": [
            "    상호명   사과     배   딸기   포도\n",
            "4   상우네  850   570  850  930\n",
            "2  현정이네  880   900  890  790\n",
            "1  문영이네  900  1000  670  920\n",
            "0  동엽이네  500   780  980  500\n",
            "3   우제네  700   660  908  700\n",
            "\n",
            "\n",
            "    상호명   사과     배   딸기   포도\n",
            "0  동엽이네  500   780  980  500\n",
            "1  문영이네  900  1000  670  920\n",
            "2  현정이네  880   900  890  790\n",
            "3   우제네  700   660  908  700\n",
            "4   상우네  850   570  850  930\n",
            "\n",
            "\n",
            "    상호명   사과     배   딸기   포도\n",
            "0  동엽이네  500   780  980  500\n",
            "1  문영이네  900  1000  670  920\n",
            "2  현정이네  880   900  890  790\n",
            "3   우제네  700   660  908  700\n",
            "4   상우네  850   570  850  930\n"
          ],
          "name": "stdout"
        },
        {
          "output_type": "execute_result",
          "data": {
            "text/html": [
              "<div>\n",
              "<style scoped>\n",
              "    .dataframe tbody tr th:only-of-type {\n",
              "        vertical-align: middle;\n",
              "    }\n",
              "\n",
              "    .dataframe tbody tr th {\n",
              "        vertical-align: top;\n",
              "    }\n",
              "\n",
              "    .dataframe thead th {\n",
              "        text-align: right;\n",
              "    }\n",
              "</style>\n",
              "<table border=\"1\" class=\"dataframe\">\n",
              "  <thead>\n",
              "    <tr style=\"text-align: right;\">\n",
              "      <th></th>\n",
              "      <th>상호명</th>\n",
              "      <th>사과</th>\n",
              "      <th>배</th>\n",
              "      <th>딸기</th>\n",
              "      <th>포도</th>\n",
              "    </tr>\n",
              "  </thead>\n",
              "  <tbody>\n",
              "    <tr>\n",
              "      <th>4</th>\n",
              "      <td>상우네</td>\n",
              "      <td>850</td>\n",
              "      <td>570</td>\n",
              "      <td>850</td>\n",
              "      <td>930</td>\n",
              "    </tr>\n",
              "    <tr>\n",
              "      <th>3</th>\n",
              "      <td>우제네</td>\n",
              "      <td>700</td>\n",
              "      <td>660</td>\n",
              "      <td>908</td>\n",
              "      <td>700</td>\n",
              "    </tr>\n",
              "    <tr>\n",
              "      <th>2</th>\n",
              "      <td>현정이네</td>\n",
              "      <td>880</td>\n",
              "      <td>900</td>\n",
              "      <td>890</td>\n",
              "      <td>790</td>\n",
              "    </tr>\n",
              "    <tr>\n",
              "      <th>1</th>\n",
              "      <td>문영이네</td>\n",
              "      <td>900</td>\n",
              "      <td>1000</td>\n",
              "      <td>670</td>\n",
              "      <td>920</td>\n",
              "    </tr>\n",
              "    <tr>\n",
              "      <th>0</th>\n",
              "      <td>동엽이네</td>\n",
              "      <td>500</td>\n",
              "      <td>780</td>\n",
              "      <td>980</td>\n",
              "      <td>500</td>\n",
              "    </tr>\n",
              "  </tbody>\n",
              "</table>\n",
              "</div>"
            ],
            "text/plain": [
              "    상호명   사과     배   딸기   포도\n",
              "4   상우네  850   570  850  930\n",
              "3   우제네  700   660  908  700\n",
              "2  현정이네  880   900  890  790\n",
              "1  문영이네  900  1000  670  920\n",
              "0  동엽이네  500   780  980  500"
            ]
          },
          "metadata": {
            "tags": []
          },
          "execution_count": 38
        }
      ]
    },
    {
      "cell_type": "code",
      "metadata": {
        "colab": {
          "base_uri": "https://localhost:8080/",
          "height": 647
        },
        "id": "pCEIIhIh4QDt",
        "outputId": "9d84035b-9f10-4456-b3ef-fafb83065359"
      },
      "source": [
        "#행,열 삭제\n",
        "test_data={'상호명':['상우네','현정이네','문영이네','동엽이네','우제네'],\n",
        "           '사과':[850,880,900,500,700],\n",
        "           '배':[570,900,1000,780,660],\n",
        "           '딸기':[850,890,670,980,908],\n",
        "           '포도':[930,790,920,500,700]}\n",
        "df=pd.DataFrame(test_data)\n",
        "df.set_index('상호명',inplace=True)\n",
        "print(df)\n",
        "\n",
        "ndf1=df.drop('사과',axis=1)\n",
        "print(ndf1)\n",
        "\n",
        "ndf2=df.drop(['사과','딸기'],axis=1)\n",
        "print(ndf2)\n",
        "\n",
        "ndf3=df.drop('상우네')\n",
        "print(ndf3)\n",
        "\n",
        "ndf4=df.drop(['현정이네','문영이네'])\n",
        "ndf4"
      ],
      "execution_count": null,
      "outputs": [
        {
          "output_type": "stream",
          "text": [
            "       사과     배   딸기   포도\n",
            "상호명                      \n",
            "상우네   850   570  850  930\n",
            "현정이네  880   900  890  790\n",
            "문영이네  900  1000  670  920\n",
            "동엽이네  500   780  980  500\n",
            "우제네   700   660  908  700\n",
            "         배   딸기   포도\n",
            "상호명                 \n",
            "상우네    570  850  930\n",
            "현정이네   900  890  790\n",
            "문영이네  1000  670  920\n",
            "동엽이네   780  980  500\n",
            "우제네    660  908  700\n",
            "         배   포도\n",
            "상호명            \n",
            "상우네    570  930\n",
            "현정이네   900  790\n",
            "문영이네  1000  920\n",
            "동엽이네   780  500\n",
            "우제네    660  700\n",
            "       사과     배   딸기   포도\n",
            "상호명                      \n",
            "현정이네  880   900  890  790\n",
            "문영이네  900  1000  670  920\n",
            "동엽이네  500   780  980  500\n",
            "우제네   700   660  908  700\n"
          ],
          "name": "stdout"
        },
        {
          "output_type": "execute_result",
          "data": {
            "text/html": [
              "<div>\n",
              "<style scoped>\n",
              "    .dataframe tbody tr th:only-of-type {\n",
              "        vertical-align: middle;\n",
              "    }\n",
              "\n",
              "    .dataframe tbody tr th {\n",
              "        vertical-align: top;\n",
              "    }\n",
              "\n",
              "    .dataframe thead th {\n",
              "        text-align: right;\n",
              "    }\n",
              "</style>\n",
              "<table border=\"1\" class=\"dataframe\">\n",
              "  <thead>\n",
              "    <tr style=\"text-align: right;\">\n",
              "      <th></th>\n",
              "      <th>사과</th>\n",
              "      <th>배</th>\n",
              "      <th>딸기</th>\n",
              "      <th>포도</th>\n",
              "    </tr>\n",
              "    <tr>\n",
              "      <th>상호명</th>\n",
              "      <th></th>\n",
              "      <th></th>\n",
              "      <th></th>\n",
              "      <th></th>\n",
              "    </tr>\n",
              "  </thead>\n",
              "  <tbody>\n",
              "    <tr>\n",
              "      <th>상우네</th>\n",
              "      <td>850</td>\n",
              "      <td>570</td>\n",
              "      <td>850</td>\n",
              "      <td>930</td>\n",
              "    </tr>\n",
              "    <tr>\n",
              "      <th>동엽이네</th>\n",
              "      <td>500</td>\n",
              "      <td>780</td>\n",
              "      <td>980</td>\n",
              "      <td>500</td>\n",
              "    </tr>\n",
              "    <tr>\n",
              "      <th>우제네</th>\n",
              "      <td>700</td>\n",
              "      <td>660</td>\n",
              "      <td>908</td>\n",
              "      <td>700</td>\n",
              "    </tr>\n",
              "  </tbody>\n",
              "</table>\n",
              "</div>"
            ],
            "text/plain": [
              "       사과    배   딸기   포도\n",
              "상호명                     \n",
              "상우네   850  570  850  930\n",
              "동엽이네  500  780  980  500\n",
              "우제네   700  660  908  700"
            ]
          },
          "metadata": {
            "tags": []
          },
          "execution_count": 39
        }
      ]
    },
    {
      "cell_type": "markdown",
      "metadata": {
        "id": "7xbc4IwO6GAT"
      },
      "source": [
        "21. Pandas Data 입출력"
      ]
    },
    {
      "cell_type": "code",
      "metadata": {
        "colab": {
          "base_uri": "https://localhost:8080/",
          "height": 172
        },
        "id": "590WJMOO4_Nr",
        "outputId": "b8298209-9b4a-4416-8b69-9ed070893716"
      },
      "source": [
        "data={'이름':['상우','민철','민지'],\n",
        "      '미적':['A+','B+','C'],\n",
        "      '물리학':['C+','A+','A'],\n",
        "      'Python':['A+','B+','A+']}\n",
        "df=pd.DataFrame(data)\n",
        "df.set_index('이름',inplace=True)\n",
        "df.to_csv('./df_tocsv.csv')\n",
        "df"
      ],
      "execution_count": null,
      "outputs": [
        {
          "output_type": "execute_result",
          "data": {
            "text/html": [
              "<div>\n",
              "<style scoped>\n",
              "    .dataframe tbody tr th:only-of-type {\n",
              "        vertical-align: middle;\n",
              "    }\n",
              "\n",
              "    .dataframe tbody tr th {\n",
              "        vertical-align: top;\n",
              "    }\n",
              "\n",
              "    .dataframe thead th {\n",
              "        text-align: right;\n",
              "    }\n",
              "</style>\n",
              "<table border=\"1\" class=\"dataframe\">\n",
              "  <thead>\n",
              "    <tr style=\"text-align: right;\">\n",
              "      <th></th>\n",
              "      <th>미적</th>\n",
              "      <th>물리학</th>\n",
              "      <th>Python</th>\n",
              "    </tr>\n",
              "    <tr>\n",
              "      <th>이름</th>\n",
              "      <th></th>\n",
              "      <th></th>\n",
              "      <th></th>\n",
              "    </tr>\n",
              "  </thead>\n",
              "  <tbody>\n",
              "    <tr>\n",
              "      <th>상우</th>\n",
              "      <td>A+</td>\n",
              "      <td>C+</td>\n",
              "      <td>A+</td>\n",
              "    </tr>\n",
              "    <tr>\n",
              "      <th>민철</th>\n",
              "      <td>B+</td>\n",
              "      <td>A+</td>\n",
              "      <td>B+</td>\n",
              "    </tr>\n",
              "    <tr>\n",
              "      <th>민지</th>\n",
              "      <td>C</td>\n",
              "      <td>A</td>\n",
              "      <td>A+</td>\n",
              "    </tr>\n",
              "  </tbody>\n",
              "</table>\n",
              "</div>"
            ],
            "text/plain": [
              "    미적 물리학 Python\n",
              "이름               \n",
              "상우  A+  C+     A+\n",
              "민철  B+  A+     B+\n",
              "민지   C   A     A+"
            ]
          },
          "metadata": {
            "tags": []
          },
          "execution_count": 41
        }
      ]
    },
    {
      "cell_type": "code",
      "metadata": {
        "id": "xM4DvhFT8DDJ"
      },
      "source": [
        "data={\"이름\":{\"1번\":\"상우\",\"2번\":\"민성\",\"3번\":\"지현\"},\n",
        " \"나이\":{\"1번\":26,\"2번\":22,\"3번\":24},\n",
        " \"취미\":{\"1번\":\"서핑\",\"2번\":\"독서\",\"3번\":\"자전거\"},\n",
        " \"거주지\":{\"1번\":\"부산\",\"2번\":\"대전\",\"3번\":\"광주\"}}\n",
        "df=pd.DataFrame(data)\n",
        "df.to_json('./tojson.json')"
      ],
      "execution_count": null,
      "outputs": []
    },
    {
      "cell_type": "code",
      "metadata": {
        "colab": {
          "base_uri": "https://localhost:8080/",
          "height": 242
        },
        "id": "Ca_dMOlA-sHk",
        "outputId": "3a34287d-eaf3-4bd4-d513-8558e88a03d1"
      },
      "source": [
        "df=pd.read_json('tojson.json')\n",
        "print(df)\n",
        "df.set_index('이름',inplace=True)\n",
        "df"
      ],
      "execution_count": null,
      "outputs": [
        {
          "output_type": "stream",
          "text": [
            "    이름  나이   취미 거주지\n",
            "1번  상우  26   서핑  부산\n",
            "2번  민성  22   독서  대전\n",
            "3번  지현  24  자전거  광주\n"
          ],
          "name": "stdout"
        },
        {
          "output_type": "execute_result",
          "data": {
            "text/html": [
              "<div>\n",
              "<style scoped>\n",
              "    .dataframe tbody tr th:only-of-type {\n",
              "        vertical-align: middle;\n",
              "    }\n",
              "\n",
              "    .dataframe tbody tr th {\n",
              "        vertical-align: top;\n",
              "    }\n",
              "\n",
              "    .dataframe thead th {\n",
              "        text-align: right;\n",
              "    }\n",
              "</style>\n",
              "<table border=\"1\" class=\"dataframe\">\n",
              "  <thead>\n",
              "    <tr style=\"text-align: right;\">\n",
              "      <th></th>\n",
              "      <th>나이</th>\n",
              "      <th>취미</th>\n",
              "      <th>거주지</th>\n",
              "    </tr>\n",
              "    <tr>\n",
              "      <th>이름</th>\n",
              "      <th></th>\n",
              "      <th></th>\n",
              "      <th></th>\n",
              "    </tr>\n",
              "  </thead>\n",
              "  <tbody>\n",
              "    <tr>\n",
              "      <th>상우</th>\n",
              "      <td>26</td>\n",
              "      <td>서핑</td>\n",
              "      <td>부산</td>\n",
              "    </tr>\n",
              "    <tr>\n",
              "      <th>민성</th>\n",
              "      <td>22</td>\n",
              "      <td>독서</td>\n",
              "      <td>대전</td>\n",
              "    </tr>\n",
              "    <tr>\n",
              "      <th>지현</th>\n",
              "      <td>24</td>\n",
              "      <td>자전거</td>\n",
              "      <td>광주</td>\n",
              "    </tr>\n",
              "  </tbody>\n",
              "</table>\n",
              "</div>"
            ],
            "text/plain": [
              "    나이   취미 거주지\n",
              "이름             \n",
              "상우  26   서핑  부산\n",
              "민성  22   독서  대전\n",
              "지현  24  자전거  광주"
            ]
          },
          "metadata": {
            "tags": []
          },
          "execution_count": 43
        }
      ]
    },
    {
      "cell_type": "markdown",
      "metadata": {
        "id": "atzaRCoEXVfZ"
      },
      "source": [
        "22.Pandas 연산"
      ]
    },
    {
      "cell_type": "code",
      "metadata": {
        "id": "ZuoKtUuD-3On",
        "colab": {
          "base_uri": "https://localhost:8080/"
        },
        "outputId": "bdaa070c-90f7-4d34-9c59-45ba0e7f09c5"
      },
      "source": [
        "dict_data={'c0':[1,2,3],'c1':[4,5,6],\n",
        "           'c2':[7,8,9],'c3':[10,11,12],'c4':[13,14,15]}\n",
        "df=pd.DataFrame(dict_data)\n",
        "add = df + 10\n",
        "print(add)\n",
        "print('\\n')\n",
        "sub=df-10\n",
        "print(sub)\n",
        "print('\\n')\n",
        "mul=df*10\n",
        "print(mul)\n",
        "print('\\n')\n",
        "div=df/10\n",
        "print(div)"
      ],
      "execution_count": null,
      "outputs": [
        {
          "output_type": "stream",
          "text": [
            "   c0  c1  c2  c3  c4\n",
            "0  11  14  17  20  23\n",
            "1  12  15  18  21  24\n",
            "2  13  16  19  22  25\n",
            "\n",
            "\n",
            "   c0  c1  c2  c3  c4\n",
            "0  -9  -6  -3   0   3\n",
            "1  -8  -5  -2   1   4\n",
            "2  -7  -4  -1   2   5\n",
            "\n",
            "\n",
            "   c0  c1  c2   c3   c4\n",
            "0  10  40  70  100  130\n",
            "1  20  50  80  110  140\n",
            "2  30  60  90  120  150\n",
            "\n",
            "\n",
            "    c0   c1   c2   c3   c4\n",
            "0  0.1  0.4  0.7  1.0  1.3\n",
            "1  0.2  0.5  0.8  1.1  1.4\n",
            "2  0.3  0.6  0.9  1.2  1.5\n"
          ],
          "name": "stdout"
        }
      ]
    },
    {
      "cell_type": "code",
      "metadata": {
        "colab": {
          "base_uri": "https://localhost:8080/",
          "height": 142
        },
        "id": "MMpW2ZJXXY_L",
        "outputId": "485300a5-9d6c-4c63-9545-9ebf6d94b8fa"
      },
      "source": [
        "data_1={'c0':[1,2,3],'c1':[4,5,6],\n",
        "           'c2':[7,8,9],'c3':[10,11,12],'c4':[13,14,15]}\n",
        "data_2={'c0':[1,2,3],'c1':[4,5,6],\n",
        "           'c2':[7,8,9],'c3':[10,11,12],'c4':[13,14,np.nan]}\n",
        "df_1=pd.DataFrame(data_1)\n",
        "df_2=pd.DataFrame(data_2)\n",
        "df_1+df_2"
      ],
      "execution_count": null,
      "outputs": [
        {
          "output_type": "execute_result",
          "data": {
            "text/html": [
              "<div>\n",
              "<style scoped>\n",
              "    .dataframe tbody tr th:only-of-type {\n",
              "        vertical-align: middle;\n",
              "    }\n",
              "\n",
              "    .dataframe tbody tr th {\n",
              "        vertical-align: top;\n",
              "    }\n",
              "\n",
              "    .dataframe thead th {\n",
              "        text-align: right;\n",
              "    }\n",
              "</style>\n",
              "<table border=\"1\" class=\"dataframe\">\n",
              "  <thead>\n",
              "    <tr style=\"text-align: right;\">\n",
              "      <th></th>\n",
              "      <th>c0</th>\n",
              "      <th>c1</th>\n",
              "      <th>c2</th>\n",
              "      <th>c3</th>\n",
              "      <th>c4</th>\n",
              "    </tr>\n",
              "  </thead>\n",
              "  <tbody>\n",
              "    <tr>\n",
              "      <th>0</th>\n",
              "      <td>2</td>\n",
              "      <td>8</td>\n",
              "      <td>14</td>\n",
              "      <td>20</td>\n",
              "      <td>26.0</td>\n",
              "    </tr>\n",
              "    <tr>\n",
              "      <th>1</th>\n",
              "      <td>4</td>\n",
              "      <td>10</td>\n",
              "      <td>16</td>\n",
              "      <td>22</td>\n",
              "      <td>28.0</td>\n",
              "    </tr>\n",
              "    <tr>\n",
              "      <th>2</th>\n",
              "      <td>6</td>\n",
              "      <td>12</td>\n",
              "      <td>18</td>\n",
              "      <td>24</td>\n",
              "      <td>NaN</td>\n",
              "    </tr>\n",
              "  </tbody>\n",
              "</table>\n",
              "</div>"
            ],
            "text/plain": [
              "   c0  c1  c2  c3    c4\n",
              "0   2   8  14  20  26.0\n",
              "1   4  10  16  22  28.0\n",
              "2   6  12  18  24   NaN"
            ]
          },
          "metadata": {
            "tags": []
          },
          "execution_count": 45
        }
      ]
    },
    {
      "cell_type": "markdown",
      "metadata": {
        "id": "CHUAeZr3ZTUR"
      },
      "source": [
        "23. Pandas 간단한 통계 메소드"
      ]
    },
    {
      "cell_type": "code",
      "metadata": {
        "colab": {
          "base_uri": "https://localhost:8080/"
        },
        "id": "ZXYX2LO4XZpM",
        "outputId": "5db97cdd-5951-4740-c243-05162e076ef6"
      },
      "source": [
        "import random\n",
        "data_1=[]\n",
        "data_2=[]\n",
        "for i in range(0,10):\n",
        "  data_1.append(random.uniform(0,1))     #uniform : 0부터 1사이의 수를 랜덤하게 꺼냄\n",
        "for i in range(0,10):\n",
        "  data_2.append(random.uniform(0,2))\n",
        "dict_data={'first':data_1,'second':data_2 }\n",
        "index_data=['zero','1st','2nd','3rd','4th','5th','6th','7th','8th','9th']\n",
        "df=pd.DataFrame(dict_data, index=index_data)\n",
        "print(df)\n",
        "print('\\n')\n",
        "\n",
        "#평균\n",
        "mean_val=df.mean()\n",
        "first_mean=df['first'].mean()\n",
        "print('first 평균 : ',first_mean)\n",
        "second_mean=df['second'].mean()\n",
        "print('second 평균 :',second_mean)\n",
        "print('\\n')\n",
        "print('--------------')\n",
        "#중간값\n",
        "median_val=df.median()\n",
        "first_median=df['first'].median()\n",
        "second_median=df['second'].median()\n",
        "print(median_val)\n",
        "print('\\n')\n",
        "print('first 중간값 : ',first_median)\n",
        "print('second 중간값 : ',second_median)"
      ],
      "execution_count": null,
      "outputs": [
        {
          "output_type": "stream",
          "text": [
            "         first    second\n",
            "zero  0.798446  1.632417\n",
            "1st   0.984865  1.764004\n",
            "2nd   0.339982  0.411599\n",
            "3rd   0.318018  0.157759\n",
            "4th   0.464940  1.534509\n",
            "5th   0.205503  0.574292\n",
            "6th   0.733110  0.204669\n",
            "7th   0.555191  0.744592\n",
            "8th   0.655919  1.053026\n",
            "9th   0.645076  1.149963\n",
            "\n",
            "\n",
            "first 평균 :  0.5701048970632455\n",
            "second 평균 : 0.9226829962773259\n",
            "\n",
            "\n",
            "--------------\n",
            "first     0.600134\n",
            "second    0.898809\n",
            "dtype: float64\n",
            "\n",
            "\n",
            "first 중간값 :  0.600133665146614\n",
            "second 중간값 :  0.8988094265428247\n"
          ],
          "name": "stdout"
        }
      ]
    },
    {
      "cell_type": "code",
      "metadata": {
        "id": "8TZxkzqDZ-Ku"
      },
      "source": [
        "#최댓값\n",
        "max_val=df.max()\n",
        "print(max_val)\n",
        "print('\\n')\n",
        "first_max=df['first'].max()\n",
        "print(first_max)\n",
        "second_max=df['second'].max()\n",
        "print(second_max)\n",
        "\n",
        "print('================')\n",
        "#최솟값\n",
        "min_val=df.min()\n",
        "first_min=df['first'].min()\n",
        "second_min=df['second'].min()\n",
        "print(min_val)\n",
        "print('\\n')\n",
        "print('first 최솟값',first_min)\n",
        "print('second 최솟값',second_min)"
      ],
      "execution_count": null,
      "outputs": []
    },
    {
      "cell_type": "code",
      "metadata": {
        "id": "Tis0FpSrcpIg"
      },
      "source": [
        "#표준편차\n",
        "std_val=df.std()\n",
        "first_std=df['first'].std()\n",
        "second_std=df['second'].std()\n",
        "print(std_val)\n",
        "print('\\n')\n",
        "print(f'first 표준편차 : {first_std}')\n",
        "print(f'second 표준편차 : {second_std}')"
      ],
      "execution_count": null,
      "outputs": []
    },
    {
      "cell_type": "code",
      "metadata": {
        "id": "gy2R9qgUdwgr"
      },
      "source": [
        "#상관계수\n",
        "data_3=[]\n",
        "for i in range(0,10):\n",
        "  data_3.append(random.uniform(0,2))\n",
        "dict_data={'first':data_1,\n",
        "           'second':data_2,\n",
        "           'third':data_3}\n",
        "index_data=['zero','1st','2nd','3rd','4th','5th','6th','7th','8th','9th']\n",
        "ndf=pd.DataFrame(dict_data,index=index_data)\n",
        "print(ndf)\n",
        "print('=====================================')\n",
        "corr_val=ndf.corr()\n",
        "print(corr_val)\n",
        "print('\\n')\n",
        "first_third_corr=ndf[['first','third']].corr()\n",
        "first_third_corr"
      ],
      "execution_count": null,
      "outputs": []
    },
    {
      "cell_type": "markdown",
      "metadata": {
        "id": "5wu-UKPefJ_x"
      },
      "source": [
        "24.pandas 활용 기초"
      ]
    },
    {
      "cell_type": "code",
      "metadata": {
        "id": "2Ye3-xdweOV7"
      },
      "source": [
        "#누락데이터 NaN(Not a Number)\n",
        "import seaborn as sns\n",
        "df=sns.load_dataset('titanic')\n",
        "print(df.tail())\n",
        "print('\\n')\n",
        "\n",
        "#info(), value_counts()\n",
        "print(df.info())\n",
        "print('\\n')\n",
        "print('-----------------------=--============================---------')\n",
        "nan_df=df['deck'].value_counts(dropna=False)\n",
        "print(nan_df)\n",
        "\n",
        "print('=============================================================')\n",
        "#isnull(),notnull()\n",
        "print(df.head().isnull())    #원소가 NaN데이터일 경우 True 반환,유효 데이터일 경우 False\n",
        "df.head().notnull()   #Nan데이터일 경우 False 반환"
      ],
      "execution_count": null,
      "outputs": []
    },
    {
      "cell_type": "code",
      "metadata": {
        "id": "AOLhmG8Jfedp"
      },
      "source": [
        "#dropna(), thresh 옵션 : 누락 데이터가 전체 데이터 개수의 절반을 넘는 열을 제거\n",
        "print(df.isnull().sum(axis=0))\n",
        "print('\\n')\n",
        "ndf=df.dropna(axis=1,thresh=445)\n",
        "print(ndf.columns)\n",
        "print('---------------------------')\n",
        "#dropna(), how옵션 : NaN데이터가 존재하는 모든 행 제거\n",
        "ndf2=ndf.dropna(subset=['age'],how='any',axis=0) \n",
        "print(ndf2.isnull().sum(axis=0))\n",
        "print('\\n')\n",
        "print(ndf2.notnull().sum(axis=0))"
      ],
      "execution_count": null,
      "outputs": []
    },
    {
      "cell_type": "code",
      "metadata": {
        "id": "1NMR8rx1g2LL"
      },
      "source": [
        "#누락 데이터 채우기\n",
        "df.dropna(axis=1,thresh=445,inplace=True)\n",
        "age_median=df['age'].median(axis=0)\n",
        "df['age'].fillna(age_median,inplace=True)\n",
        "df.isnull().sum(axis=0)"
      ],
      "execution_count": null,
      "outputs": []
    },
    {
      "cell_type": "code",
      "metadata": {
        "id": "EzKy6-Cbmpnl"
      },
      "source": [
        "#중복데이터 확인,제거\n",
        "data={'c0':['a','a','c','d','e','f','c'],\n",
        "      'c1':[1,1,2,3,4,5,2],\n",
        "      'c2':[1,1,2,3,4,5,2],\n",
        "      'c3':['a','a','c','d','e','f','c']}\n",
        "df=pd.DataFrame(data)\n",
        "duplicated_df=df.duplicated()   #duplicated()는 이전의 행과 비교하여 중복되는 행일 경우 True, 처음 나오는 행은 False\n",
        "print(duplicated_df)\n",
        "df.drop_duplicates(inplace=True)\n",
        "df"
      ],
      "execution_count": null,
      "outputs": []
    },
    {
      "cell_type": "code",
      "metadata": {
        "id": "ZXcv5dbcnZHS"
      },
      "source": [
        "#시계열 데이터\n",
        "import pandas as pd\n",
        "corona_df=pd.read_csv('PatientRoute.csv')\n",
        "corona_df.head()"
      ],
      "execution_count": null,
      "outputs": []
    },
    {
      "cell_type": "code",
      "metadata": {
        "id": "5LoZvBOMoKBa"
      },
      "source": [
        "#to_datetime() : 데이터를 Timestamp객체로 바꿔서 \n",
        "corona_df['new_date']=pd.to_datetime(corona_df['date'])\n",
        "print(corona_df.info())\n",
        "corona_df.head()"
      ],
      "execution_count": null,
      "outputs": []
    },
    {
      "cell_type": "code",
      "metadata": {
        "id": "oZK5_2eSpIow"
      },
      "source": [
        "#to_period() : Timestamp객체를 일정 기간을 나타내는 Period 객체로 바꿀 수 있음, freq옵션을 사용하여 반복되는 기간 설정\n",
        "#freq='D'1일, freq='M'1달, freq='A'1년\n",
        "data=corona_df['new_date'].dt\n",
        "freq_d=data.to_period(freq='D')\n",
        "freq_m=data.to_period(freq='M')\n",
        "freq_a=data.to_period(freq='A')\n",
        "print(freq_d)\n",
        "print('--------=-=-=--=-')\n",
        "print(freq_m)\n",
        "print(']========================[')\n",
        "print(freq_a)"
      ],
      "execution_count": null,
      "outputs": []
    },
    {
      "cell_type": "code",
      "metadata": {
        "id": "DalW99T4qZfi"
      },
      "source": [
        "#날짜 데이터 분리\n",
        "#dt.day, dt.month, dt.year\n",
        "corona_df['Year']=corona_df['new_date'].dt.year\n",
        "corona_df['Month']=corona_df['new_date'].dt.month\n",
        "corona_df['Day']=corona_df['new_date'].dt.day\n",
        "corona_df.head()"
      ],
      "execution_count": null,
      "outputs": []
    },
    {
      "cell_type": "code",
      "metadata": {
        "id": "cYvNcjmPq111"
      },
      "source": [
        "#날짜 인덱스 활용\n",
        "corona_df=pd.read_csv('PatientRoute.csv')\n",
        "corona_df['new_date']=pd.to_datetime(corona_df['date'])\n",
        "corona_df.set_index('new_date',inplace=True)\n",
        "corona_df"
      ],
      "execution_count": null,
      "outputs": []
    },
    {
      "cell_type": "code",
      "metadata": {
        "id": "72L6Lj-7ribI"
      },
      "source": [
        "#데이터 추출\n",
        "corona_df_ym=corona_df.loc['2020-02']\n",
        "print(corona_df_ym)\n",
        "print('\\n')\n",
        "corona_df_ym_cols=corona_df.loc['2020-02','city':'longitude']\n",
        "print(corona_df_ym_cols)\n",
        "print('\\n')\n",
        "corona_df_ymd_range=corona_df.loc['2020-02-22':'2020-02-23']\n",
        "print(corona_df_ymd_range)"
      ],
      "execution_count": null,
      "outputs": []
    },
    {
      "cell_type": "markdown",
      "metadata": {
        "id": "twT1syozsRbj"
      },
      "source": [
        "<head><h1>#html에서 데이터추출하기</h1></head>"
      ]
    },
    {
      "cell_type": "code",
      "metadata": {
        "colab": {
          "base_uri": "https://localhost:8080/"
        },
        "id": "BzP93gfyrwN0",
        "outputId": "787bd347-013a-4189-a1cf-bf4400daf449"
      },
      "source": [
        "import pandas as pd\n",
        "with open('html_source.txt','r')as f:\n",
        "  tt=f.read()\n",
        "  t1=tt.split('<div class=\"inner_number\">')\n",
        "  t1.pop(0)\n",
        "tip=[]\n",
        "for i in t1:\n",
        "  tip.append(i.split('</div>')[0])\n",
        "print(tip)"
      ],
      "execution_count": null,
      "outputs": [
        {
          "output_type": "stream",
          "text": [
            "['223778', '223773', '223772', '223769', '223767', '223760', '223757', '223755', '223753', '223751', '223743', '223738', '223736', '223728', '223715']\n"
          ],
          "name": "stdout"
        }
      ]
    },
    {
      "cell_type": "code",
      "metadata": {
        "colab": {
          "base_uri": "https://localhost:8080/"
        },
        "id": "9krJSZj70Xup",
        "outputId": "7503c582-df2a-4cf1-ff76-efc68ec31e0d"
      },
      "source": [
        "with open ('html_source.txt','r') as f:\n",
        "  tt2=f.read()\n",
        "  t2=tt2.split('<a class=\"article')\n",
        "  t2.pop(0)\n",
        "title=[]\n",
        "for i in t2:\n",
        "  i2=i.split('</a>')[0]\n",
        "  title.append(i2.split('>')[-1])\n",
        "#i2.split().split()\n",
        "\n",
        "title2=[]\n",
        "for k in title:\n",
        "  t3=k.replace('\\n','')\n",
        "  t4=t3.replace(' ','')\n",
        "  title2.append(t4)\n",
        "print(title2)"
      ],
      "execution_count": null,
      "outputs": [
        {
          "output_type": "stream",
          "text": [
            "['YuhkiKuramoto-Meditation', 'CCMfinger-style-참좋으신주님(김기영작곡,arr.byShrek)', 'Guitarsolo-JustFallInLoveAgain(AnneMurray,1978)', 'IraisemyhandshightotheLord(내손을주께높이듭니다)', '아이유가을아침기타커버!', 'GIN-Recollection(cover)', 'EdGerhard-TheWaterisWide/Cover', '비틀즈의IWill연주해보았습니다.', 'TommyEmmanuel-Closetoyou커버', 'BTS(방탄소년단)-Butter쳐봤습니다!!', '[뽕용Live]KotaroOshio-Twilight(Livestage/coverby기타치는뽕용)', 'Creep편곡', '양희은아이유-가을아침기타커버입니다!', '쾌지나칭칭나네편곡', 'DEPAPEPE(데파페페,デパペペ)-두사람의사진(Photographoftwopeople)']\n"
          ],
          "name": "stdout"
        }
      ]
    },
    {
      "cell_type": "code",
      "metadata": {
        "colab": {
          "base_uri": "https://localhost:8080/"
        },
        "id": "dkv7ykMl08Pu",
        "outputId": "85ff9121-4c52-4719-8367-befb12ba917b"
      },
      "source": [
        "pd_arr=pd.DataFrame(title2,index=tip,columns=['<노래제목>'])\n",
        "print(pd_arr)"
      ],
      "execution_count": null,
      "outputs": [
        {
          "output_type": "stream",
          "text": [
            "                                                   <노래제목>\n",
            "223778                           YuhkiKuramoto-Meditation\n",
            "223773          CCMfinger-style-참좋으신주님(김기영작곡,arr.byShrek)\n",
            "223772    Guitarsolo-JustFallInLoveAgain(AnneMurray,1978)\n",
            "223769             IraisemyhandshightotheLord(내손을주께높이듭니다)\n",
            "223767                                       아이유가을아침기타커버!\n",
            "223760                            GIN-Recollection(cover)\n",
            "223757                     EdGerhard-TheWaterisWide/Cover\n",
            "223755                                 비틀즈의IWill연주해보았습니다.\n",
            "223753                         TommyEmmanuel-Closetoyou커버\n",
            "223751                           BTS(방탄소년단)-Butter쳐봤습니다!!\n",
            "223743  [뽕용Live]KotaroOshio-Twilight(Livestage/coverby...\n",
            "223738                                            Creep편곡\n",
            "223736                                양희은아이유-가을아침기타커버입니다!\n",
            "223728                                          쾌지나칭칭나네편곡\n",
            "223715  DEPAPEPE(데파페페,デパペペ)-두사람의사진(Photographoftwopeople)\n"
          ],
          "name": "stdout"
        }
      ]
    },
    {
      "cell_type": "code",
      "metadata": {
        "colab": {
          "base_uri": "https://localhost:8080/"
        },
        "id": "B6ppnFCZGrrD",
        "outputId": "4dd71ed6-f45c-4628-864d-d7b380dd5acc"
      },
      "source": [
        "pd_arr=pd_arr.reset_index()\n",
        "print(pd_arr)"
      ],
      "execution_count": null,
      "outputs": [
        {
          "output_type": "stream",
          "text": [
            "     index                                             <노래제목>\n",
            "0   223778                           YuhkiKuramoto-Meditation\n",
            "1   223773          CCMfinger-style-참좋으신주님(김기영작곡,arr.byShrek)\n",
            "2   223772    Guitarsolo-JustFallInLoveAgain(AnneMurray,1978)\n",
            "3   223769             IraisemyhandshightotheLord(내손을주께높이듭니다)\n",
            "4   223767                                       아이유가을아침기타커버!\n",
            "5   223760                            GIN-Recollection(cover)\n",
            "6   223757                     EdGerhard-TheWaterisWide/Cover\n",
            "7   223755                                 비틀즈의IWill연주해보았습니다.\n",
            "8   223753                         TommyEmmanuel-Closetoyou커버\n",
            "9   223751                           BTS(방탄소년단)-Butter쳐봤습니다!!\n",
            "10  223743  [뽕용Live]KotaroOshio-Twilight(Livestage/coverby...\n",
            "11  223738                                            Creep편곡\n",
            "12  223736                                양희은아이유-가을아침기타커버입니다!\n",
            "13  223728                                          쾌지나칭칭나네편곡\n",
            "14  223715  DEPAPEPE(데파페페,デパペペ)-두사람의사진(Photographoftwopeople)\n"
          ],
          "name": "stdout"
        }
      ]
    },
    {
      "cell_type": "code",
      "metadata": {
        "colab": {
          "base_uri": "https://localhost:8080/"
        },
        "id": "fnoUNQgfcmJf",
        "outputId": "da506482-f7b9-436b-cc6a-35da157f0b1c"
      },
      "source": [
        "pd_arr.columns=['<글번호>','<노래제목>']\n",
        "print(pd_arr)"
      ],
      "execution_count": null,
      "outputs": [
        {
          "output_type": "stream",
          "text": [
            "     <글번호>                                             <노래제목>\n",
            "0   223778                           YuhkiKuramoto-Meditation\n",
            "1   223773          CCMfinger-style-참좋으신주님(김기영작곡,arr.byShrek)\n",
            "2   223772    Guitarsolo-JustFallInLoveAgain(AnneMurray,1978)\n",
            "3   223769             IraisemyhandshightotheLord(내손을주께높이듭니다)\n",
            "4   223767                                       아이유가을아침기타커버!\n",
            "5   223760                            GIN-Recollection(cover)\n",
            "6   223757                     EdGerhard-TheWaterisWide/Cover\n",
            "7   223755                                 비틀즈의IWill연주해보았습니다.\n",
            "8   223753                         TommyEmmanuel-Closetoyou커버\n",
            "9   223751                           BTS(방탄소년단)-Butter쳐봤습니다!!\n",
            "10  223743  [뽕용Live]KotaroOshio-Twilight(Livestage/coverby...\n",
            "11  223738                                            Creep편곡\n",
            "12  223736                                양희은아이유-가을아침기타커버입니다!\n",
            "13  223728                                          쾌지나칭칭나네편곡\n",
            "14  223715  DEPAPEPE(데파페페,デパペペ)-두사람의사진(Photographoftwopeople)\n"
          ],
          "name": "stdout"
        }
      ]
    },
    {
      "cell_type": "code",
      "metadata": {
        "id": "GgDdA5HSKATr",
        "colab": {
          "base_uri": "https://localhost:8080/"
        },
        "outputId": "50a35d8b-8765-4047-a3b8-aa982c04c8bb"
      },
      "source": [
        "with open ('html_source.txt','r') as f:\n",
        "  tt3=f.read()\n",
        "  t3=tt3.split('<td class=\"td_date\">')\n",
        "  t3.pop(0)\n",
        "date=[]\n",
        "for i in t3:\n",
        "  date.append(i.split('</td>')[0])\n",
        "date_1=date.pop(0)\n",
        "print(date)"
      ],
      "execution_count": null,
      "outputs": [
        {
          "output_type": "stream",
          "text": [
            "['2021.06.19.', '2021.06.19.', '2021.06.19.', '2021.06.19.', '2021.06.19.', '2021.06.18.', '2021.06.18.', '2021.06.18.', '2021.06.18.', '2021.06.18.', '2021.06.17.', '2021.06.16.', '2021.06.16.', '2021.06.15.', '2021.06.14.']\n"
          ],
          "name": "stdout"
        }
      ]
    },
    {
      "cell_type": "code",
      "metadata": {
        "colab": {
          "base_uri": "https://localhost:8080/",
          "height": 511
        },
        "id": "fTCDV9xJXciz",
        "outputId": "f11f9ce8-680c-42f9-9de8-214bbdd4d85b"
      },
      "source": [
        "pd_arr['날짜']=date\n",
        "pd_arr"
      ],
      "execution_count": null,
      "outputs": [
        {
          "output_type": "execute_result",
          "data": {
            "text/html": [
              "<div>\n",
              "<style scoped>\n",
              "    .dataframe tbody tr th:only-of-type {\n",
              "        vertical-align: middle;\n",
              "    }\n",
              "\n",
              "    .dataframe tbody tr th {\n",
              "        vertical-align: top;\n",
              "    }\n",
              "\n",
              "    .dataframe thead th {\n",
              "        text-align: right;\n",
              "    }\n",
              "</style>\n",
              "<table border=\"1\" class=\"dataframe\">\n",
              "  <thead>\n",
              "    <tr style=\"text-align: right;\">\n",
              "      <th></th>\n",
              "      <th>&lt;글번호&gt;</th>\n",
              "      <th>&lt;노래제목&gt;</th>\n",
              "      <th>날짜</th>\n",
              "    </tr>\n",
              "  </thead>\n",
              "  <tbody>\n",
              "    <tr>\n",
              "      <th>0</th>\n",
              "      <td>223778</td>\n",
              "      <td>YuhkiKuramoto-Meditation</td>\n",
              "      <td>2021.06.19.</td>\n",
              "    </tr>\n",
              "    <tr>\n",
              "      <th>1</th>\n",
              "      <td>223773</td>\n",
              "      <td>CCMfinger-style-참좋으신주님(김기영작곡,arr.byShrek)</td>\n",
              "      <td>2021.06.19.</td>\n",
              "    </tr>\n",
              "    <tr>\n",
              "      <th>2</th>\n",
              "      <td>223772</td>\n",
              "      <td>Guitarsolo-JustFallInLoveAgain(AnneMurray,1978)</td>\n",
              "      <td>2021.06.19.</td>\n",
              "    </tr>\n",
              "    <tr>\n",
              "      <th>3</th>\n",
              "      <td>223769</td>\n",
              "      <td>IraisemyhandshightotheLord(내손을주께높이듭니다)</td>\n",
              "      <td>2021.06.19.</td>\n",
              "    </tr>\n",
              "    <tr>\n",
              "      <th>4</th>\n",
              "      <td>223767</td>\n",
              "      <td>아이유가을아침기타커버!</td>\n",
              "      <td>2021.06.19.</td>\n",
              "    </tr>\n",
              "    <tr>\n",
              "      <th>5</th>\n",
              "      <td>223760</td>\n",
              "      <td>GIN-Recollection(cover)</td>\n",
              "      <td>2021.06.18.</td>\n",
              "    </tr>\n",
              "    <tr>\n",
              "      <th>6</th>\n",
              "      <td>223757</td>\n",
              "      <td>EdGerhard-TheWaterisWide/Cover</td>\n",
              "      <td>2021.06.18.</td>\n",
              "    </tr>\n",
              "    <tr>\n",
              "      <th>7</th>\n",
              "      <td>223755</td>\n",
              "      <td>비틀즈의IWill연주해보았습니다.</td>\n",
              "      <td>2021.06.18.</td>\n",
              "    </tr>\n",
              "    <tr>\n",
              "      <th>8</th>\n",
              "      <td>223753</td>\n",
              "      <td>TommyEmmanuel-Closetoyou커버</td>\n",
              "      <td>2021.06.18.</td>\n",
              "    </tr>\n",
              "    <tr>\n",
              "      <th>9</th>\n",
              "      <td>223751</td>\n",
              "      <td>BTS(방탄소년단)-Butter쳐봤습니다!!</td>\n",
              "      <td>2021.06.18.</td>\n",
              "    </tr>\n",
              "    <tr>\n",
              "      <th>10</th>\n",
              "      <td>223743</td>\n",
              "      <td>[뽕용Live]KotaroOshio-Twilight(Livestage/coverby...</td>\n",
              "      <td>2021.06.17.</td>\n",
              "    </tr>\n",
              "    <tr>\n",
              "      <th>11</th>\n",
              "      <td>223738</td>\n",
              "      <td>Creep편곡</td>\n",
              "      <td>2021.06.16.</td>\n",
              "    </tr>\n",
              "    <tr>\n",
              "      <th>12</th>\n",
              "      <td>223736</td>\n",
              "      <td>양희은아이유-가을아침기타커버입니다!</td>\n",
              "      <td>2021.06.16.</td>\n",
              "    </tr>\n",
              "    <tr>\n",
              "      <th>13</th>\n",
              "      <td>223728</td>\n",
              "      <td>쾌지나칭칭나네편곡</td>\n",
              "      <td>2021.06.15.</td>\n",
              "    </tr>\n",
              "    <tr>\n",
              "      <th>14</th>\n",
              "      <td>223715</td>\n",
              "      <td>DEPAPEPE(데파페페,デパペペ)-두사람의사진(Photographoftwopeople)</td>\n",
              "      <td>2021.06.14.</td>\n",
              "    </tr>\n",
              "  </tbody>\n",
              "</table>\n",
              "</div>"
            ],
            "text/plain": [
              "     <글번호>                                             <노래제목>           날짜\n",
              "0   223778                           YuhkiKuramoto-Meditation  2021.06.19.\n",
              "1   223773          CCMfinger-style-참좋으신주님(김기영작곡,arr.byShrek)  2021.06.19.\n",
              "2   223772    Guitarsolo-JustFallInLoveAgain(AnneMurray,1978)  2021.06.19.\n",
              "3   223769             IraisemyhandshightotheLord(내손을주께높이듭니다)  2021.06.19.\n",
              "4   223767                                       아이유가을아침기타커버!  2021.06.19.\n",
              "5   223760                            GIN-Recollection(cover)  2021.06.18.\n",
              "6   223757                     EdGerhard-TheWaterisWide/Cover  2021.06.18.\n",
              "7   223755                                 비틀즈의IWill연주해보았습니다.  2021.06.18.\n",
              "8   223753                         TommyEmmanuel-Closetoyou커버  2021.06.18.\n",
              "9   223751                           BTS(방탄소년단)-Butter쳐봤습니다!!  2021.06.18.\n",
              "10  223743  [뽕용Live]KotaroOshio-Twilight(Livestage/coverby...  2021.06.17.\n",
              "11  223738                                            Creep편곡  2021.06.16.\n",
              "12  223736                                양희은아이유-가을아침기타커버입니다!  2021.06.16.\n",
              "13  223728                                          쾌지나칭칭나네편곡  2021.06.15.\n",
              "14  223715  DEPAPEPE(데파페페,デパペペ)-두사람의사진(Photographoftwopeople)  2021.06.14."
            ]
          },
          "metadata": {
            "tags": []
          },
          "execution_count": 53
        }
      ]
    },
    {
      "cell_type": "code",
      "metadata": {
        "colab": {
          "base_uri": "https://localhost:8080/"
        },
        "id": "fKEvdjh9YYW5",
        "outputId": "ec1679a6-70af-45ca-f480-dd7fc0a22c28"
      },
      "source": [
        "print(date_1)"
      ],
      "execution_count": null,
      "outputs": [
        {
          "output_type": "stream",
          "text": [
            "2020.11.13.\n"
          ],
          "name": "stdout"
        }
      ]
    },
    {
      "cell_type": "code",
      "metadata": {
        "colab": {
          "base_uri": "https://localhost:8080/"
        },
        "id": "Eqc9iRugdn16",
        "outputId": "9cb7a0f8-29e0-450c-f679-bd109310713b"
      },
      "source": [
        "with open ('html_source.txt','r') as f:\n",
        "  tt3=f.read()\n",
        "  t3=tt3.split('필독</span>')\n",
        "  t3.pop(0)\n",
        "pg=[]\n",
        "for i in t3:\n",
        "  pg.append(i.split('</a>')[0].split('>')[-1])\n",
        "pg2=[]\n",
        "for i in pg:\n",
        "  pg2.append(i.replace('\\n','').replace('\\t','').replace('  ',''))\n",
        "print(pg2)"
      ],
      "execution_count": null,
      "outputs": [
        {
          "output_type": "stream",
          "text": [
            "['KBS &lt;올댓뮤직&gt; 기타의 밤 특집 - 자이로, 장재훈, 김영소 등 출연분']\n"
          ],
          "name": "stdout"
        }
      ]
    },
    {
      "cell_type": "code",
      "metadata": {
        "colab": {
          "base_uri": "https://localhost:8080/"
        },
        "id": "CAfI8vpZiYJR",
        "outputId": "2503205d-88af-4c21-fe9b-03c10e846d74"
      },
      "source": [
        "pd_arr_g=pd.DataFrame([('공지',pg2,date_1)],columns=pd_arr.columns)\n",
        "print(pd_arr_g)"
      ],
      "execution_count": null,
      "outputs": [
        {
          "output_type": "stream",
          "text": [
            "  <글번호>                                             <노래제목>           날짜\n",
            "0    공지  [KBS &lt;올댓뮤직&gt; 기타의 밤 특집 - 자이로, 장재훈, 김영소 등 출연분]  2020.11.13.\n"
          ],
          "name": "stdout"
        }
      ]
    },
    {
      "cell_type": "code",
      "metadata": {
        "colab": {
          "base_uri": "https://localhost:8080/",
          "height": 542
        },
        "id": "aiHyRJCHhfDj",
        "outputId": "a3701a4d-5b3e-4e68-ce28-f04e873eb5bf"
      },
      "source": [
        "pd_arr2=pd_arr_g.append(pd_arr)\n",
        "pd_arr2"
      ],
      "execution_count": null,
      "outputs": [
        {
          "output_type": "execute_result",
          "data": {
            "text/html": [
              "<div>\n",
              "<style scoped>\n",
              "    .dataframe tbody tr th:only-of-type {\n",
              "        vertical-align: middle;\n",
              "    }\n",
              "\n",
              "    .dataframe tbody tr th {\n",
              "        vertical-align: top;\n",
              "    }\n",
              "\n",
              "    .dataframe thead th {\n",
              "        text-align: right;\n",
              "    }\n",
              "</style>\n",
              "<table border=\"1\" class=\"dataframe\">\n",
              "  <thead>\n",
              "    <tr style=\"text-align: right;\">\n",
              "      <th></th>\n",
              "      <th>&lt;글번호&gt;</th>\n",
              "      <th>&lt;노래제목&gt;</th>\n",
              "      <th>날짜</th>\n",
              "    </tr>\n",
              "  </thead>\n",
              "  <tbody>\n",
              "    <tr>\n",
              "      <th>0</th>\n",
              "      <td>공지</td>\n",
              "      <td>[KBS &amp;lt;올댓뮤직&amp;gt; 기타의 밤 특집 - 자이로, 장재훈, 김영소 등 출연분]</td>\n",
              "      <td>2020.11.13.</td>\n",
              "    </tr>\n",
              "    <tr>\n",
              "      <th>0</th>\n",
              "      <td>223778</td>\n",
              "      <td>YuhkiKuramoto-Meditation</td>\n",
              "      <td>2021.06.19.</td>\n",
              "    </tr>\n",
              "    <tr>\n",
              "      <th>1</th>\n",
              "      <td>223773</td>\n",
              "      <td>CCMfinger-style-참좋으신주님(김기영작곡,arr.byShrek)</td>\n",
              "      <td>2021.06.19.</td>\n",
              "    </tr>\n",
              "    <tr>\n",
              "      <th>2</th>\n",
              "      <td>223772</td>\n",
              "      <td>Guitarsolo-JustFallInLoveAgain(AnneMurray,1978)</td>\n",
              "      <td>2021.06.19.</td>\n",
              "    </tr>\n",
              "    <tr>\n",
              "      <th>3</th>\n",
              "      <td>223769</td>\n",
              "      <td>IraisemyhandshightotheLord(내손을주께높이듭니다)</td>\n",
              "      <td>2021.06.19.</td>\n",
              "    </tr>\n",
              "    <tr>\n",
              "      <th>4</th>\n",
              "      <td>223767</td>\n",
              "      <td>아이유가을아침기타커버!</td>\n",
              "      <td>2021.06.19.</td>\n",
              "    </tr>\n",
              "    <tr>\n",
              "      <th>5</th>\n",
              "      <td>223760</td>\n",
              "      <td>GIN-Recollection(cover)</td>\n",
              "      <td>2021.06.18.</td>\n",
              "    </tr>\n",
              "    <tr>\n",
              "      <th>6</th>\n",
              "      <td>223757</td>\n",
              "      <td>EdGerhard-TheWaterisWide/Cover</td>\n",
              "      <td>2021.06.18.</td>\n",
              "    </tr>\n",
              "    <tr>\n",
              "      <th>7</th>\n",
              "      <td>223755</td>\n",
              "      <td>비틀즈의IWill연주해보았습니다.</td>\n",
              "      <td>2021.06.18.</td>\n",
              "    </tr>\n",
              "    <tr>\n",
              "      <th>8</th>\n",
              "      <td>223753</td>\n",
              "      <td>TommyEmmanuel-Closetoyou커버</td>\n",
              "      <td>2021.06.18.</td>\n",
              "    </tr>\n",
              "    <tr>\n",
              "      <th>9</th>\n",
              "      <td>223751</td>\n",
              "      <td>BTS(방탄소년단)-Butter쳐봤습니다!!</td>\n",
              "      <td>2021.06.18.</td>\n",
              "    </tr>\n",
              "    <tr>\n",
              "      <th>10</th>\n",
              "      <td>223743</td>\n",
              "      <td>[뽕용Live]KotaroOshio-Twilight(Livestage/coverby...</td>\n",
              "      <td>2021.06.17.</td>\n",
              "    </tr>\n",
              "    <tr>\n",
              "      <th>11</th>\n",
              "      <td>223738</td>\n",
              "      <td>Creep편곡</td>\n",
              "      <td>2021.06.16.</td>\n",
              "    </tr>\n",
              "    <tr>\n",
              "      <th>12</th>\n",
              "      <td>223736</td>\n",
              "      <td>양희은아이유-가을아침기타커버입니다!</td>\n",
              "      <td>2021.06.16.</td>\n",
              "    </tr>\n",
              "    <tr>\n",
              "      <th>13</th>\n",
              "      <td>223728</td>\n",
              "      <td>쾌지나칭칭나네편곡</td>\n",
              "      <td>2021.06.15.</td>\n",
              "    </tr>\n",
              "    <tr>\n",
              "      <th>14</th>\n",
              "      <td>223715</td>\n",
              "      <td>DEPAPEPE(데파페페,デパペペ)-두사람의사진(Photographoftwopeople)</td>\n",
              "      <td>2021.06.14.</td>\n",
              "    </tr>\n",
              "  </tbody>\n",
              "</table>\n",
              "</div>"
            ],
            "text/plain": [
              "     <글번호>                                             <노래제목>           날짜\n",
              "0       공지  [KBS &lt;올댓뮤직&gt; 기타의 밤 특집 - 자이로, 장재훈, 김영소 등 출연분]  2020.11.13.\n",
              "0   223778                           YuhkiKuramoto-Meditation  2021.06.19.\n",
              "1   223773          CCMfinger-style-참좋으신주님(김기영작곡,arr.byShrek)  2021.06.19.\n",
              "2   223772    Guitarsolo-JustFallInLoveAgain(AnneMurray,1978)  2021.06.19.\n",
              "3   223769             IraisemyhandshightotheLord(내손을주께높이듭니다)  2021.06.19.\n",
              "4   223767                                       아이유가을아침기타커버!  2021.06.19.\n",
              "5   223760                            GIN-Recollection(cover)  2021.06.18.\n",
              "6   223757                     EdGerhard-TheWaterisWide/Cover  2021.06.18.\n",
              "7   223755                                 비틀즈의IWill연주해보았습니다.  2021.06.18.\n",
              "8   223753                         TommyEmmanuel-Closetoyou커버  2021.06.18.\n",
              "9   223751                           BTS(방탄소년단)-Butter쳐봤습니다!!  2021.06.18.\n",
              "10  223743  [뽕용Live]KotaroOshio-Twilight(Livestage/coverby...  2021.06.17.\n",
              "11  223738                                            Creep편곡  2021.06.16.\n",
              "12  223736                                양희은아이유-가을아침기타커버입니다!  2021.06.16.\n",
              "13  223728                                          쾌지나칭칭나네편곡  2021.06.15.\n",
              "14  223715  DEPAPEPE(데파페페,デパペペ)-두사람의사진(Photographoftwopeople)  2021.06.14."
            ]
          },
          "metadata": {
            "tags": []
          },
          "execution_count": 57
        }
      ]
    },
    {
      "cell_type": "code",
      "metadata": {
        "colab": {
          "base_uri": "https://localhost:8080/"
        },
        "id": "Cs0LsJYhoHu6",
        "outputId": "52696863-a8e0-4fd9-f544-79a8f8817e12"
      },
      "source": [
        "with open ('html_source.txt','r') as f:\n",
        "  tt4=f.read()\n",
        "  t4=tt4.split('<td class=\"td_name\">')\n",
        "  t4.pop(0)\n",
        "wr=[]\n",
        "for i in t4:\n",
        "  wr.append(i.split('</td>')[0].split('</a')[0].split('>')[-1])\n",
        "print(wr)"
      ],
      "execution_count": null,
      "outputs": [
        {
          "output_type": "stream",
          "text": [
            "['진환', 'haryunban', '슈렉68', '슈렉68', '현하ll노동환', '찬튜', 'RECHEV', '성열형', '제이그루브', '뚱치땅치', '노력감', '기타치는뽕용', '이스코', '찬튜', 'QNP', '조각나암']\n"
          ],
          "name": "stdout"
        }
      ]
    },
    {
      "cell_type": "code",
      "metadata": {
        "colab": {
          "base_uri": "https://localhost:8080/",
          "height": 542
        },
        "id": "5eiyzfZXo4F2",
        "outputId": "11b434f1-9c1c-4c16-93fb-6dc1064a522f"
      },
      "source": [
        "pd_arr2['글쓴이']=wr\n",
        "pd_arr2"
      ],
      "execution_count": null,
      "outputs": [
        {
          "output_type": "execute_result",
          "data": {
            "text/html": [
              "<div>\n",
              "<style scoped>\n",
              "    .dataframe tbody tr th:only-of-type {\n",
              "        vertical-align: middle;\n",
              "    }\n",
              "\n",
              "    .dataframe tbody tr th {\n",
              "        vertical-align: top;\n",
              "    }\n",
              "\n",
              "    .dataframe thead th {\n",
              "        text-align: right;\n",
              "    }\n",
              "</style>\n",
              "<table border=\"1\" class=\"dataframe\">\n",
              "  <thead>\n",
              "    <tr style=\"text-align: right;\">\n",
              "      <th></th>\n",
              "      <th>&lt;글번호&gt;</th>\n",
              "      <th>&lt;노래제목&gt;</th>\n",
              "      <th>날짜</th>\n",
              "      <th>글쓴이</th>\n",
              "    </tr>\n",
              "  </thead>\n",
              "  <tbody>\n",
              "    <tr>\n",
              "      <th>0</th>\n",
              "      <td>공지</td>\n",
              "      <td>[KBS &amp;lt;올댓뮤직&amp;gt; 기타의 밤 특집 - 자이로, 장재훈, 김영소 등 출연분]</td>\n",
              "      <td>2020.11.13.</td>\n",
              "      <td>진환</td>\n",
              "    </tr>\n",
              "    <tr>\n",
              "      <th>0</th>\n",
              "      <td>223778</td>\n",
              "      <td>YuhkiKuramoto-Meditation</td>\n",
              "      <td>2021.06.19.</td>\n",
              "      <td>haryunban</td>\n",
              "    </tr>\n",
              "    <tr>\n",
              "      <th>1</th>\n",
              "      <td>223773</td>\n",
              "      <td>CCMfinger-style-참좋으신주님(김기영작곡,arr.byShrek)</td>\n",
              "      <td>2021.06.19.</td>\n",
              "      <td>슈렉68</td>\n",
              "    </tr>\n",
              "    <tr>\n",
              "      <th>2</th>\n",
              "      <td>223772</td>\n",
              "      <td>Guitarsolo-JustFallInLoveAgain(AnneMurray,1978)</td>\n",
              "      <td>2021.06.19.</td>\n",
              "      <td>슈렉68</td>\n",
              "    </tr>\n",
              "    <tr>\n",
              "      <th>3</th>\n",
              "      <td>223769</td>\n",
              "      <td>IraisemyhandshightotheLord(내손을주께높이듭니다)</td>\n",
              "      <td>2021.06.19.</td>\n",
              "      <td>현하ll노동환</td>\n",
              "    </tr>\n",
              "    <tr>\n",
              "      <th>4</th>\n",
              "      <td>223767</td>\n",
              "      <td>아이유가을아침기타커버!</td>\n",
              "      <td>2021.06.19.</td>\n",
              "      <td>찬튜</td>\n",
              "    </tr>\n",
              "    <tr>\n",
              "      <th>5</th>\n",
              "      <td>223760</td>\n",
              "      <td>GIN-Recollection(cover)</td>\n",
              "      <td>2021.06.18.</td>\n",
              "      <td>RECHEV</td>\n",
              "    </tr>\n",
              "    <tr>\n",
              "      <th>6</th>\n",
              "      <td>223757</td>\n",
              "      <td>EdGerhard-TheWaterisWide/Cover</td>\n",
              "      <td>2021.06.18.</td>\n",
              "      <td>성열형</td>\n",
              "    </tr>\n",
              "    <tr>\n",
              "      <th>7</th>\n",
              "      <td>223755</td>\n",
              "      <td>비틀즈의IWill연주해보았습니다.</td>\n",
              "      <td>2021.06.18.</td>\n",
              "      <td>제이그루브</td>\n",
              "    </tr>\n",
              "    <tr>\n",
              "      <th>8</th>\n",
              "      <td>223753</td>\n",
              "      <td>TommyEmmanuel-Closetoyou커버</td>\n",
              "      <td>2021.06.18.</td>\n",
              "      <td>뚱치땅치</td>\n",
              "    </tr>\n",
              "    <tr>\n",
              "      <th>9</th>\n",
              "      <td>223751</td>\n",
              "      <td>BTS(방탄소년단)-Butter쳐봤습니다!!</td>\n",
              "      <td>2021.06.18.</td>\n",
              "      <td>노력감</td>\n",
              "    </tr>\n",
              "    <tr>\n",
              "      <th>10</th>\n",
              "      <td>223743</td>\n",
              "      <td>[뽕용Live]KotaroOshio-Twilight(Livestage/coverby...</td>\n",
              "      <td>2021.06.17.</td>\n",
              "      <td>기타치는뽕용</td>\n",
              "    </tr>\n",
              "    <tr>\n",
              "      <th>11</th>\n",
              "      <td>223738</td>\n",
              "      <td>Creep편곡</td>\n",
              "      <td>2021.06.16.</td>\n",
              "      <td>이스코</td>\n",
              "    </tr>\n",
              "    <tr>\n",
              "      <th>12</th>\n",
              "      <td>223736</td>\n",
              "      <td>양희은아이유-가을아침기타커버입니다!</td>\n",
              "      <td>2021.06.16.</td>\n",
              "      <td>찬튜</td>\n",
              "    </tr>\n",
              "    <tr>\n",
              "      <th>13</th>\n",
              "      <td>223728</td>\n",
              "      <td>쾌지나칭칭나네편곡</td>\n",
              "      <td>2021.06.15.</td>\n",
              "      <td>QNP</td>\n",
              "    </tr>\n",
              "    <tr>\n",
              "      <th>14</th>\n",
              "      <td>223715</td>\n",
              "      <td>DEPAPEPE(데파페페,デパペペ)-두사람의사진(Photographoftwopeople)</td>\n",
              "      <td>2021.06.14.</td>\n",
              "      <td>조각나암</td>\n",
              "    </tr>\n",
              "  </tbody>\n",
              "</table>\n",
              "</div>"
            ],
            "text/plain": [
              "     <글번호>  ...        글쓴이\n",
              "0       공지  ...         진환\n",
              "0   223778  ...  haryunban\n",
              "1   223773  ...       슈렉68\n",
              "2   223772  ...       슈렉68\n",
              "3   223769  ...    현하ll노동환\n",
              "4   223767  ...         찬튜\n",
              "5   223760  ...     RECHEV\n",
              "6   223757  ...        성열형\n",
              "7   223755  ...      제이그루브\n",
              "8   223753  ...       뚱치땅치\n",
              "9   223751  ...        노력감\n",
              "10  223743  ...     기타치는뽕용\n",
              "11  223738  ...        이스코\n",
              "12  223736  ...         찬튜\n",
              "13  223728  ...        QNP\n",
              "14  223715  ...       조각나암\n",
              "\n",
              "[16 rows x 4 columns]"
            ]
          },
          "metadata": {
            "tags": []
          },
          "execution_count": 59
        }
      ]
    },
    {
      "cell_type": "code",
      "metadata": {
        "colab": {
          "base_uri": "https://localhost:8080/",
          "height": 573
        },
        "id": "7zjI4Vm7qIFg",
        "outputId": "a8998b9c-7b84-4414-e1e0-f897eff17f01"
      },
      "source": [
        "pd_arr2.set_index('<글번호>',inplace=True)\n",
        "pd_arr2"
      ],
      "execution_count": null,
      "outputs": [
        {
          "output_type": "execute_result",
          "data": {
            "text/html": [
              "<div>\n",
              "<style scoped>\n",
              "    .dataframe tbody tr th:only-of-type {\n",
              "        vertical-align: middle;\n",
              "    }\n",
              "\n",
              "    .dataframe tbody tr th {\n",
              "        vertical-align: top;\n",
              "    }\n",
              "\n",
              "    .dataframe thead th {\n",
              "        text-align: right;\n",
              "    }\n",
              "</style>\n",
              "<table border=\"1\" class=\"dataframe\">\n",
              "  <thead>\n",
              "    <tr style=\"text-align: right;\">\n",
              "      <th></th>\n",
              "      <th>&lt;노래제목&gt;</th>\n",
              "      <th>날짜</th>\n",
              "      <th>글쓴이</th>\n",
              "    </tr>\n",
              "    <tr>\n",
              "      <th>&lt;글번호&gt;</th>\n",
              "      <th></th>\n",
              "      <th></th>\n",
              "      <th></th>\n",
              "    </tr>\n",
              "  </thead>\n",
              "  <tbody>\n",
              "    <tr>\n",
              "      <th>공지</th>\n",
              "      <td>[KBS &amp;lt;올댓뮤직&amp;gt; 기타의 밤 특집 - 자이로, 장재훈, 김영소 등 출연분]</td>\n",
              "      <td>2020.11.13.</td>\n",
              "      <td>진환</td>\n",
              "    </tr>\n",
              "    <tr>\n",
              "      <th>223778</th>\n",
              "      <td>YuhkiKuramoto-Meditation</td>\n",
              "      <td>2021.06.19.</td>\n",
              "      <td>haryunban</td>\n",
              "    </tr>\n",
              "    <tr>\n",
              "      <th>223773</th>\n",
              "      <td>CCMfinger-style-참좋으신주님(김기영작곡,arr.byShrek)</td>\n",
              "      <td>2021.06.19.</td>\n",
              "      <td>슈렉68</td>\n",
              "    </tr>\n",
              "    <tr>\n",
              "      <th>223772</th>\n",
              "      <td>Guitarsolo-JustFallInLoveAgain(AnneMurray,1978)</td>\n",
              "      <td>2021.06.19.</td>\n",
              "      <td>슈렉68</td>\n",
              "    </tr>\n",
              "    <tr>\n",
              "      <th>223769</th>\n",
              "      <td>IraisemyhandshightotheLord(내손을주께높이듭니다)</td>\n",
              "      <td>2021.06.19.</td>\n",
              "      <td>현하ll노동환</td>\n",
              "    </tr>\n",
              "    <tr>\n",
              "      <th>223767</th>\n",
              "      <td>아이유가을아침기타커버!</td>\n",
              "      <td>2021.06.19.</td>\n",
              "      <td>찬튜</td>\n",
              "    </tr>\n",
              "    <tr>\n",
              "      <th>223760</th>\n",
              "      <td>GIN-Recollection(cover)</td>\n",
              "      <td>2021.06.18.</td>\n",
              "      <td>RECHEV</td>\n",
              "    </tr>\n",
              "    <tr>\n",
              "      <th>223757</th>\n",
              "      <td>EdGerhard-TheWaterisWide/Cover</td>\n",
              "      <td>2021.06.18.</td>\n",
              "      <td>성열형</td>\n",
              "    </tr>\n",
              "    <tr>\n",
              "      <th>223755</th>\n",
              "      <td>비틀즈의IWill연주해보았습니다.</td>\n",
              "      <td>2021.06.18.</td>\n",
              "      <td>제이그루브</td>\n",
              "    </tr>\n",
              "    <tr>\n",
              "      <th>223753</th>\n",
              "      <td>TommyEmmanuel-Closetoyou커버</td>\n",
              "      <td>2021.06.18.</td>\n",
              "      <td>뚱치땅치</td>\n",
              "    </tr>\n",
              "    <tr>\n",
              "      <th>223751</th>\n",
              "      <td>BTS(방탄소년단)-Butter쳐봤습니다!!</td>\n",
              "      <td>2021.06.18.</td>\n",
              "      <td>노력감</td>\n",
              "    </tr>\n",
              "    <tr>\n",
              "      <th>223743</th>\n",
              "      <td>[뽕용Live]KotaroOshio-Twilight(Livestage/coverby...</td>\n",
              "      <td>2021.06.17.</td>\n",
              "      <td>기타치는뽕용</td>\n",
              "    </tr>\n",
              "    <tr>\n",
              "      <th>223738</th>\n",
              "      <td>Creep편곡</td>\n",
              "      <td>2021.06.16.</td>\n",
              "      <td>이스코</td>\n",
              "    </tr>\n",
              "    <tr>\n",
              "      <th>223736</th>\n",
              "      <td>양희은아이유-가을아침기타커버입니다!</td>\n",
              "      <td>2021.06.16.</td>\n",
              "      <td>찬튜</td>\n",
              "    </tr>\n",
              "    <tr>\n",
              "      <th>223728</th>\n",
              "      <td>쾌지나칭칭나네편곡</td>\n",
              "      <td>2021.06.15.</td>\n",
              "      <td>QNP</td>\n",
              "    </tr>\n",
              "    <tr>\n",
              "      <th>223715</th>\n",
              "      <td>DEPAPEPE(데파페페,デパペペ)-두사람의사진(Photographoftwopeople)</td>\n",
              "      <td>2021.06.14.</td>\n",
              "      <td>조각나암</td>\n",
              "    </tr>\n",
              "  </tbody>\n",
              "</table>\n",
              "</div>"
            ],
            "text/plain": [
              "                                                   <노래제목>  ...        글쓴이\n",
              "<글번호>                                                      ...           \n",
              "공지      [KBS &lt;올댓뮤직&gt; 기타의 밤 특집 - 자이로, 장재훈, 김영소 등 출연분]  ...         진환\n",
              "223778                           YuhkiKuramoto-Meditation  ...  haryunban\n",
              "223773          CCMfinger-style-참좋으신주님(김기영작곡,arr.byShrek)  ...       슈렉68\n",
              "223772    Guitarsolo-JustFallInLoveAgain(AnneMurray,1978)  ...       슈렉68\n",
              "223769             IraisemyhandshightotheLord(내손을주께높이듭니다)  ...    현하ll노동환\n",
              "223767                                       아이유가을아침기타커버!  ...         찬튜\n",
              "223760                            GIN-Recollection(cover)  ...     RECHEV\n",
              "223757                     EdGerhard-TheWaterisWide/Cover  ...        성열형\n",
              "223755                                 비틀즈의IWill연주해보았습니다.  ...      제이그루브\n",
              "223753                         TommyEmmanuel-Closetoyou커버  ...       뚱치땅치\n",
              "223751                           BTS(방탄소년단)-Butter쳐봤습니다!!  ...        노력감\n",
              "223743  [뽕용Live]KotaroOshio-Twilight(Livestage/coverby...  ...     기타치는뽕용\n",
              "223738                                            Creep편곡  ...        이스코\n",
              "223736                                양희은아이유-가을아침기타커버입니다!  ...         찬튜\n",
              "223728                                          쾌지나칭칭나네편곡  ...        QNP\n",
              "223715  DEPAPEPE(데파페페,デパペペ)-두사람의사진(Photographoftwopeople)  ...       조각나암\n",
              "\n",
              "[16 rows x 3 columns]"
            ]
          },
          "metadata": {
            "tags": []
          },
          "execution_count": 60
        }
      ]
    },
    {
      "cell_type": "code",
      "metadata": {
        "colab": {
          "base_uri": "https://localhost:8080/"
        },
        "id": "w__SpaBm0ulX",
        "outputId": "0ffeefaf-08cd-4ed9-d7e3-55e94637e646"
      },
      "source": [
        "with open ('html_source.txt','r') as f:\n",
        "  tt5=f.read()\n",
        "  t5=tt5.split('<td class=\"td_view\">')\n",
        "  t5.pop(0)\n",
        "vi=[]\n",
        "for i in t5:\n",
        "  vi.append(i.split('</td>')[0])\n",
        "print(vi)"
      ],
      "execution_count": null,
      "outputs": [
        {
          "output_type": "stream",
          "text": [
            "['1,860', '34', '15', '17', '11', '39', '21', '28', '19', '41', '86', '68', '86', '71', '43', '121']\n"
          ],
          "name": "stdout"
        }
      ]
    },
    {
      "cell_type": "code",
      "metadata": {
        "colab": {
          "base_uri": "https://localhost:8080/",
          "height": 573
        },
        "id": "TmLIRNC81KUH",
        "outputId": "25e5d105-b7fd-4d20-8d28-fb3a5af9dfa6"
      },
      "source": [
        "pd_arr2['조회수']=vi\n",
        "pd_arr2"
      ],
      "execution_count": null,
      "outputs": [
        {
          "output_type": "execute_result",
          "data": {
            "text/html": [
              "<div>\n",
              "<style scoped>\n",
              "    .dataframe tbody tr th:only-of-type {\n",
              "        vertical-align: middle;\n",
              "    }\n",
              "\n",
              "    .dataframe tbody tr th {\n",
              "        vertical-align: top;\n",
              "    }\n",
              "\n",
              "    .dataframe thead th {\n",
              "        text-align: right;\n",
              "    }\n",
              "</style>\n",
              "<table border=\"1\" class=\"dataframe\">\n",
              "  <thead>\n",
              "    <tr style=\"text-align: right;\">\n",
              "      <th></th>\n",
              "      <th>&lt;노래제목&gt;</th>\n",
              "      <th>날짜</th>\n",
              "      <th>글쓴이</th>\n",
              "      <th>조회수</th>\n",
              "    </tr>\n",
              "    <tr>\n",
              "      <th>&lt;글번호&gt;</th>\n",
              "      <th></th>\n",
              "      <th></th>\n",
              "      <th></th>\n",
              "      <th></th>\n",
              "    </tr>\n",
              "  </thead>\n",
              "  <tbody>\n",
              "    <tr>\n",
              "      <th>공지</th>\n",
              "      <td>[KBS &amp;lt;올댓뮤직&amp;gt; 기타의 밤 특집 - 자이로, 장재훈, 김영소 등 출연분]</td>\n",
              "      <td>2020.11.13.</td>\n",
              "      <td>진환</td>\n",
              "      <td>1,860</td>\n",
              "    </tr>\n",
              "    <tr>\n",
              "      <th>223778</th>\n",
              "      <td>YuhkiKuramoto-Meditation</td>\n",
              "      <td>2021.06.19.</td>\n",
              "      <td>haryunban</td>\n",
              "      <td>34</td>\n",
              "    </tr>\n",
              "    <tr>\n",
              "      <th>223773</th>\n",
              "      <td>CCMfinger-style-참좋으신주님(김기영작곡,arr.byShrek)</td>\n",
              "      <td>2021.06.19.</td>\n",
              "      <td>슈렉68</td>\n",
              "      <td>15</td>\n",
              "    </tr>\n",
              "    <tr>\n",
              "      <th>223772</th>\n",
              "      <td>Guitarsolo-JustFallInLoveAgain(AnneMurray,1978)</td>\n",
              "      <td>2021.06.19.</td>\n",
              "      <td>슈렉68</td>\n",
              "      <td>17</td>\n",
              "    </tr>\n",
              "    <tr>\n",
              "      <th>223769</th>\n",
              "      <td>IraisemyhandshightotheLord(내손을주께높이듭니다)</td>\n",
              "      <td>2021.06.19.</td>\n",
              "      <td>현하ll노동환</td>\n",
              "      <td>11</td>\n",
              "    </tr>\n",
              "    <tr>\n",
              "      <th>223767</th>\n",
              "      <td>아이유가을아침기타커버!</td>\n",
              "      <td>2021.06.19.</td>\n",
              "      <td>찬튜</td>\n",
              "      <td>39</td>\n",
              "    </tr>\n",
              "    <tr>\n",
              "      <th>223760</th>\n",
              "      <td>GIN-Recollection(cover)</td>\n",
              "      <td>2021.06.18.</td>\n",
              "      <td>RECHEV</td>\n",
              "      <td>21</td>\n",
              "    </tr>\n",
              "    <tr>\n",
              "      <th>223757</th>\n",
              "      <td>EdGerhard-TheWaterisWide/Cover</td>\n",
              "      <td>2021.06.18.</td>\n",
              "      <td>성열형</td>\n",
              "      <td>28</td>\n",
              "    </tr>\n",
              "    <tr>\n",
              "      <th>223755</th>\n",
              "      <td>비틀즈의IWill연주해보았습니다.</td>\n",
              "      <td>2021.06.18.</td>\n",
              "      <td>제이그루브</td>\n",
              "      <td>19</td>\n",
              "    </tr>\n",
              "    <tr>\n",
              "      <th>223753</th>\n",
              "      <td>TommyEmmanuel-Closetoyou커버</td>\n",
              "      <td>2021.06.18.</td>\n",
              "      <td>뚱치땅치</td>\n",
              "      <td>41</td>\n",
              "    </tr>\n",
              "    <tr>\n",
              "      <th>223751</th>\n",
              "      <td>BTS(방탄소년단)-Butter쳐봤습니다!!</td>\n",
              "      <td>2021.06.18.</td>\n",
              "      <td>노력감</td>\n",
              "      <td>86</td>\n",
              "    </tr>\n",
              "    <tr>\n",
              "      <th>223743</th>\n",
              "      <td>[뽕용Live]KotaroOshio-Twilight(Livestage/coverby...</td>\n",
              "      <td>2021.06.17.</td>\n",
              "      <td>기타치는뽕용</td>\n",
              "      <td>68</td>\n",
              "    </tr>\n",
              "    <tr>\n",
              "      <th>223738</th>\n",
              "      <td>Creep편곡</td>\n",
              "      <td>2021.06.16.</td>\n",
              "      <td>이스코</td>\n",
              "      <td>86</td>\n",
              "    </tr>\n",
              "    <tr>\n",
              "      <th>223736</th>\n",
              "      <td>양희은아이유-가을아침기타커버입니다!</td>\n",
              "      <td>2021.06.16.</td>\n",
              "      <td>찬튜</td>\n",
              "      <td>71</td>\n",
              "    </tr>\n",
              "    <tr>\n",
              "      <th>223728</th>\n",
              "      <td>쾌지나칭칭나네편곡</td>\n",
              "      <td>2021.06.15.</td>\n",
              "      <td>QNP</td>\n",
              "      <td>43</td>\n",
              "    </tr>\n",
              "    <tr>\n",
              "      <th>223715</th>\n",
              "      <td>DEPAPEPE(데파페페,デパペペ)-두사람의사진(Photographoftwopeople)</td>\n",
              "      <td>2021.06.14.</td>\n",
              "      <td>조각나암</td>\n",
              "      <td>121</td>\n",
              "    </tr>\n",
              "  </tbody>\n",
              "</table>\n",
              "</div>"
            ],
            "text/plain": [
              "                                                   <노래제목>  ...    조회수\n",
              "<글번호>                                                      ...       \n",
              "공지      [KBS &lt;올댓뮤직&gt; 기타의 밤 특집 - 자이로, 장재훈, 김영소 등 출연분]  ...  1,860\n",
              "223778                           YuhkiKuramoto-Meditation  ...     34\n",
              "223773          CCMfinger-style-참좋으신주님(김기영작곡,arr.byShrek)  ...     15\n",
              "223772    Guitarsolo-JustFallInLoveAgain(AnneMurray,1978)  ...     17\n",
              "223769             IraisemyhandshightotheLord(내손을주께높이듭니다)  ...     11\n",
              "223767                                       아이유가을아침기타커버!  ...     39\n",
              "223760                            GIN-Recollection(cover)  ...     21\n",
              "223757                     EdGerhard-TheWaterisWide/Cover  ...     28\n",
              "223755                                 비틀즈의IWill연주해보았습니다.  ...     19\n",
              "223753                         TommyEmmanuel-Closetoyou커버  ...     41\n",
              "223751                           BTS(방탄소년단)-Butter쳐봤습니다!!  ...     86\n",
              "223743  [뽕용Live]KotaroOshio-Twilight(Livestage/coverby...  ...     68\n",
              "223738                                            Creep편곡  ...     86\n",
              "223736                                양희은아이유-가을아침기타커버입니다!  ...     71\n",
              "223728                                          쾌지나칭칭나네편곡  ...     43\n",
              "223715  DEPAPEPE(데파페페,デパペペ)-두사람의사진(Photographoftwopeople)  ...    121\n",
              "\n",
              "[16 rows x 4 columns]"
            ]
          },
          "metadata": {
            "tags": []
          },
          "execution_count": 62
        }
      ]
    },
    {
      "cell_type": "code",
      "metadata": {
        "colab": {
          "base_uri": "https://localhost:8080/"
        },
        "id": "peX95eMl1tuk",
        "outputId": "32bf3672-1881-425a-9d58-96bbf7a1e883"
      },
      "source": [
        "with open ('html_source.txt','r') as f:\n",
        "  tt6=f.read()\n",
        "  t6=tt6.split('<td class=\"td_likes\">')\n",
        "  t6.pop(0)\n",
        "li=[]\n",
        "for i in t6:\n",
        "  li.append(i.split('</td>')[0])\n",
        "print(li)"
      ],
      "execution_count": null,
      "outputs": [
        {
          "output_type": "stream",
          "text": [
            "['19', '1', '2', '0', '0', '0', '0', '1', '0', '1', '3', '0', '3', '0', '1', '3']\n"
          ],
          "name": "stdout"
        }
      ]
    },
    {
      "cell_type": "code",
      "metadata": {
        "colab": {
          "base_uri": "https://localhost:8080/",
          "height": 573
        },
        "id": "QlQ_9R6I17YZ",
        "outputId": "56ea6608-ef00-477f-ce4d-686fc037ff3c"
      },
      "source": [
        "pd_arr2['좋아요']=li\n",
        "pd_arr2"
      ],
      "execution_count": null,
      "outputs": [
        {
          "output_type": "execute_result",
          "data": {
            "text/html": [
              "<div>\n",
              "<style scoped>\n",
              "    .dataframe tbody tr th:only-of-type {\n",
              "        vertical-align: middle;\n",
              "    }\n",
              "\n",
              "    .dataframe tbody tr th {\n",
              "        vertical-align: top;\n",
              "    }\n",
              "\n",
              "    .dataframe thead th {\n",
              "        text-align: right;\n",
              "    }\n",
              "</style>\n",
              "<table border=\"1\" class=\"dataframe\">\n",
              "  <thead>\n",
              "    <tr style=\"text-align: right;\">\n",
              "      <th></th>\n",
              "      <th>&lt;노래제목&gt;</th>\n",
              "      <th>날짜</th>\n",
              "      <th>글쓴이</th>\n",
              "      <th>조회수</th>\n",
              "      <th>좋아요</th>\n",
              "    </tr>\n",
              "    <tr>\n",
              "      <th>&lt;글번호&gt;</th>\n",
              "      <th></th>\n",
              "      <th></th>\n",
              "      <th></th>\n",
              "      <th></th>\n",
              "      <th></th>\n",
              "    </tr>\n",
              "  </thead>\n",
              "  <tbody>\n",
              "    <tr>\n",
              "      <th>공지</th>\n",
              "      <td>[KBS &amp;lt;올댓뮤직&amp;gt; 기타의 밤 특집 - 자이로, 장재훈, 김영소 등 출연분]</td>\n",
              "      <td>2020.11.13.</td>\n",
              "      <td>진환</td>\n",
              "      <td>1,860</td>\n",
              "      <td>19</td>\n",
              "    </tr>\n",
              "    <tr>\n",
              "      <th>223778</th>\n",
              "      <td>YuhkiKuramoto-Meditation</td>\n",
              "      <td>2021.06.19.</td>\n",
              "      <td>haryunban</td>\n",
              "      <td>34</td>\n",
              "      <td>1</td>\n",
              "    </tr>\n",
              "    <tr>\n",
              "      <th>223773</th>\n",
              "      <td>CCMfinger-style-참좋으신주님(김기영작곡,arr.byShrek)</td>\n",
              "      <td>2021.06.19.</td>\n",
              "      <td>슈렉68</td>\n",
              "      <td>15</td>\n",
              "      <td>2</td>\n",
              "    </tr>\n",
              "    <tr>\n",
              "      <th>223772</th>\n",
              "      <td>Guitarsolo-JustFallInLoveAgain(AnneMurray,1978)</td>\n",
              "      <td>2021.06.19.</td>\n",
              "      <td>슈렉68</td>\n",
              "      <td>17</td>\n",
              "      <td>0</td>\n",
              "    </tr>\n",
              "    <tr>\n",
              "      <th>223769</th>\n",
              "      <td>IraisemyhandshightotheLord(내손을주께높이듭니다)</td>\n",
              "      <td>2021.06.19.</td>\n",
              "      <td>현하ll노동환</td>\n",
              "      <td>11</td>\n",
              "      <td>0</td>\n",
              "    </tr>\n",
              "    <tr>\n",
              "      <th>223767</th>\n",
              "      <td>아이유가을아침기타커버!</td>\n",
              "      <td>2021.06.19.</td>\n",
              "      <td>찬튜</td>\n",
              "      <td>39</td>\n",
              "      <td>0</td>\n",
              "    </tr>\n",
              "    <tr>\n",
              "      <th>223760</th>\n",
              "      <td>GIN-Recollection(cover)</td>\n",
              "      <td>2021.06.18.</td>\n",
              "      <td>RECHEV</td>\n",
              "      <td>21</td>\n",
              "      <td>0</td>\n",
              "    </tr>\n",
              "    <tr>\n",
              "      <th>223757</th>\n",
              "      <td>EdGerhard-TheWaterisWide/Cover</td>\n",
              "      <td>2021.06.18.</td>\n",
              "      <td>성열형</td>\n",
              "      <td>28</td>\n",
              "      <td>1</td>\n",
              "    </tr>\n",
              "    <tr>\n",
              "      <th>223755</th>\n",
              "      <td>비틀즈의IWill연주해보았습니다.</td>\n",
              "      <td>2021.06.18.</td>\n",
              "      <td>제이그루브</td>\n",
              "      <td>19</td>\n",
              "      <td>0</td>\n",
              "    </tr>\n",
              "    <tr>\n",
              "      <th>223753</th>\n",
              "      <td>TommyEmmanuel-Closetoyou커버</td>\n",
              "      <td>2021.06.18.</td>\n",
              "      <td>뚱치땅치</td>\n",
              "      <td>41</td>\n",
              "      <td>1</td>\n",
              "    </tr>\n",
              "    <tr>\n",
              "      <th>223751</th>\n",
              "      <td>BTS(방탄소년단)-Butter쳐봤습니다!!</td>\n",
              "      <td>2021.06.18.</td>\n",
              "      <td>노력감</td>\n",
              "      <td>86</td>\n",
              "      <td>3</td>\n",
              "    </tr>\n",
              "    <tr>\n",
              "      <th>223743</th>\n",
              "      <td>[뽕용Live]KotaroOshio-Twilight(Livestage/coverby...</td>\n",
              "      <td>2021.06.17.</td>\n",
              "      <td>기타치는뽕용</td>\n",
              "      <td>68</td>\n",
              "      <td>0</td>\n",
              "    </tr>\n",
              "    <tr>\n",
              "      <th>223738</th>\n",
              "      <td>Creep편곡</td>\n",
              "      <td>2021.06.16.</td>\n",
              "      <td>이스코</td>\n",
              "      <td>86</td>\n",
              "      <td>3</td>\n",
              "    </tr>\n",
              "    <tr>\n",
              "      <th>223736</th>\n",
              "      <td>양희은아이유-가을아침기타커버입니다!</td>\n",
              "      <td>2021.06.16.</td>\n",
              "      <td>찬튜</td>\n",
              "      <td>71</td>\n",
              "      <td>0</td>\n",
              "    </tr>\n",
              "    <tr>\n",
              "      <th>223728</th>\n",
              "      <td>쾌지나칭칭나네편곡</td>\n",
              "      <td>2021.06.15.</td>\n",
              "      <td>QNP</td>\n",
              "      <td>43</td>\n",
              "      <td>1</td>\n",
              "    </tr>\n",
              "    <tr>\n",
              "      <th>223715</th>\n",
              "      <td>DEPAPEPE(데파페페,デパペペ)-두사람의사진(Photographoftwopeople)</td>\n",
              "      <td>2021.06.14.</td>\n",
              "      <td>조각나암</td>\n",
              "      <td>121</td>\n",
              "      <td>3</td>\n",
              "    </tr>\n",
              "  </tbody>\n",
              "</table>\n",
              "</div>"
            ],
            "text/plain": [
              "                                                   <노래제목>  ... 좋아요\n",
              "<글번호>                                                      ...    \n",
              "공지      [KBS &lt;올댓뮤직&gt; 기타의 밤 특집 - 자이로, 장재훈, 김영소 등 출연분]  ...  19\n",
              "223778                           YuhkiKuramoto-Meditation  ...   1\n",
              "223773          CCMfinger-style-참좋으신주님(김기영작곡,arr.byShrek)  ...   2\n",
              "223772    Guitarsolo-JustFallInLoveAgain(AnneMurray,1978)  ...   0\n",
              "223769             IraisemyhandshightotheLord(내손을주께높이듭니다)  ...   0\n",
              "223767                                       아이유가을아침기타커버!  ...   0\n",
              "223760                            GIN-Recollection(cover)  ...   0\n",
              "223757                     EdGerhard-TheWaterisWide/Cover  ...   1\n",
              "223755                                 비틀즈의IWill연주해보았습니다.  ...   0\n",
              "223753                         TommyEmmanuel-Closetoyou커버  ...   1\n",
              "223751                           BTS(방탄소년단)-Butter쳐봤습니다!!  ...   3\n",
              "223743  [뽕용Live]KotaroOshio-Twilight(Livestage/coverby...  ...   0\n",
              "223738                                            Creep편곡  ...   3\n",
              "223736                                양희은아이유-가을아침기타커버입니다!  ...   0\n",
              "223728                                          쾌지나칭칭나네편곡  ...   1\n",
              "223715  DEPAPEPE(데파페페,デパペペ)-두사람의사진(Photographoftwopeople)  ...   3\n",
              "\n",
              "[16 rows x 5 columns]"
            ]
          },
          "metadata": {
            "tags": []
          },
          "execution_count": 64
        }
      ]
    },
    {
      "cell_type": "code",
      "metadata": {
        "id": "5OlMx0XwCWwV"
      },
      "source": [
        "#from, import\n",
        "from B import Blogg\n",
        "blg=Blogg('html_source.txt')\n",
        "blg.generate_dataframe()"
      ],
      "execution_count": null,
      "outputs": []
    },
    {
      "cell_type": "code",
      "metadata": {
        "id": "Bg0gR1qf1-6z"
      },
      "source": [
        "#카페 정보 크롤러\n",
        "\n",
        "import pandas as pd\n",
        "class Blogg:\n",
        "  def __init__(self,path):\n",
        "    f=open(path,'r',encoding='UTF-8')\n",
        "    self.source=f.read()\n",
        "    self.df=pd.DataFrame()\n",
        "  def generate_dataframe(self):\n",
        "    self.sn()\n",
        "    self.st()\n",
        "    self.sg()\n",
        "    self.swr()\n",
        "    self.sd()\n",
        "    self.sv()\n",
        "    self.sl()\n",
        "    self.df.set_index('글번호',inplace=True)\n",
        "    return self.df\n",
        "  \n",
        "  def sn(self):\n",
        "    tn=self.source.split('<div class=\"inner_number\">')\n",
        "    tn.pop(0)\n",
        "    number_list=[]\n",
        "    for i in tn:\n",
        "      number_list.append(i.split('</div>')[0])\n",
        "    self.df['글번호']=number_list\n",
        "  \n",
        "  def st(self):\n",
        "    tt=self.source.split('<a class=\"article')\n",
        "    tt.pop(0)\n",
        "    title_list=[]\n",
        "    for i in tt:\n",
        "      title_list.append(i.split('</a>')[0].split('>')[-1])\n",
        "    title_list2=[]\n",
        "    for j in title_list:\n",
        "      j1=j.replace('\\n','')\n",
        "      j2=j1.replace(' ','')\n",
        "      title_list2.append(j2)\n",
        "    self.df['제목']=title_list2\n",
        "  \n",
        "  def sg(self):\n",
        "    if '필독' in self.source:\n",
        "      tg=self.source.split('필독</span>')\n",
        "      tg.pop(0)\n",
        "      title_g=[]\n",
        "      for i in tg:\n",
        "        title_g.append(i.split('</a>')[0].split('>')[-1])\n",
        "      title_g2=[]\n",
        "      for j in title_g:\n",
        "        title_g2.append(j.replace('\\n','').replace('\\t','').replace('  ',''))\n",
        "      df_g=pd.DataFrame([('공지',title_g2)],columns=self.df.columns)\n",
        "      self.df=df_g.append(self.df)\n",
        "    else:\n",
        "      pass\n",
        "\n",
        "\n",
        "  def swr(self):\n",
        "    twr=self.source.split('<td class=\"td_name\">')\n",
        "    twr.pop(0)\n",
        "    title_writer=[]\n",
        "    for i in twr:\n",
        "      title_writer.append(i.split('</td>')[0].split('</a')[0].split('>')[-1])\n",
        "    self.df['글쓴이']=title_writer\n",
        "\n",
        "  def sd(self):\n",
        "    sd=self.source.split('<td class=\"td_date\">')\n",
        "    sd.pop(0)\n",
        "    title_date=[]\n",
        "    for i in sd:\n",
        "      title_date.append(i.split('</td>')[0])\n",
        "    self.df['날짜']=title_date\n",
        "\n",
        "  def sv(self):\n",
        "    sv=self.source.split('<td class=\"td_view\">')\n",
        "    sv.pop(0)\n",
        "    title_view=[]\n",
        "    for i in sv:\n",
        "      i2=i.split('</td>')[0]\n",
        "      i3=i2.replace(',','')\n",
        "      title_view.append(int(i3))\n",
        "\n",
        "    self.df['조회수']=title_view\n",
        "\n",
        "  def sl(self):\n",
        "    sl=self.source.split('<td class=\"td_likes\">')\n",
        "    sl.pop(0)\n",
        "    title_like=[]\n",
        "    for i in sl:\n",
        "      title_like.append(i.split('</td>')[0])\n",
        "    self.df['좋아요']=title_like\n",
        "\n",
        "\n",
        "  def filter_view(self,low,**kwargs):\n",
        "    if not kwargs.get('high'):\n",
        "      return self.df[self.df['조회수']>=low]\n",
        "    else:\n",
        "      return self.df[(self.df['조회수']<kwargs['high'])&(self.df['조회수']>=low)]\n",
        "\n",
        "  def filter_date(self,low,**kwargs):\n",
        "    if not kwargs.get('high'):\n",
        "      return self.df[self.df['날짜']>=low]\n",
        "    else:\n",
        "      return self.df[(self.df['날짜']<kwargs['high'])&(self.df['날짜']>=low)]\n",
        "\n",
        "  def export_csv(self):\n",
        "    self.df.to_csv('./wow.csv')\n",
        "  def import_csv(self,path):\n",
        "    self.df=pd.read_csv(path)"
      ],
      "execution_count": null,
      "outputs": []
    },
    {
      "cell_type": "code",
      "metadata": {
        "colab": {
          "base_uri": "https://localhost:8080/",
          "height": 573
        },
        "id": "BLFqgBR9412w",
        "outputId": "383924e9-baad-40da-ff9b-d0825ca2a700"
      },
      "source": [
        "blg=Blogg('html_source.txt')\n",
        "blg.generate_dataframe()"
      ],
      "execution_count": null,
      "outputs": [
        {
          "output_type": "execute_result",
          "data": {
            "text/html": [
              "<div>\n",
              "<style scoped>\n",
              "    .dataframe tbody tr th:only-of-type {\n",
              "        vertical-align: middle;\n",
              "    }\n",
              "\n",
              "    .dataframe tbody tr th {\n",
              "        vertical-align: top;\n",
              "    }\n",
              "\n",
              "    .dataframe thead th {\n",
              "        text-align: right;\n",
              "    }\n",
              "</style>\n",
              "<table border=\"1\" class=\"dataframe\">\n",
              "  <thead>\n",
              "    <tr style=\"text-align: right;\">\n",
              "      <th></th>\n",
              "      <th>제목</th>\n",
              "      <th>글쓴이</th>\n",
              "      <th>날짜</th>\n",
              "      <th>조회수</th>\n",
              "      <th>좋아요</th>\n",
              "    </tr>\n",
              "    <tr>\n",
              "      <th>글번호</th>\n",
              "      <th></th>\n",
              "      <th></th>\n",
              "      <th></th>\n",
              "      <th></th>\n",
              "      <th></th>\n",
              "    </tr>\n",
              "  </thead>\n",
              "  <tbody>\n",
              "    <tr>\n",
              "      <th>공지</th>\n",
              "      <td>[KBS &amp;lt;올댓뮤직&amp;gt; 기타의 밤 특집 - 자이로, 장재훈, 김영소 등 출연분]</td>\n",
              "      <td>진환</td>\n",
              "      <td>2020.11.13.</td>\n",
              "      <td>1860</td>\n",
              "      <td>19</td>\n",
              "    </tr>\n",
              "    <tr>\n",
              "      <th>223778</th>\n",
              "      <td>YuhkiKuramoto-Meditation</td>\n",
              "      <td>haryunban</td>\n",
              "      <td>2021.06.19.</td>\n",
              "      <td>34</td>\n",
              "      <td>1</td>\n",
              "    </tr>\n",
              "    <tr>\n",
              "      <th>223773</th>\n",
              "      <td>CCMfinger-style-참좋으신주님(김기영작곡,arr.byShrek)</td>\n",
              "      <td>슈렉68</td>\n",
              "      <td>2021.06.19.</td>\n",
              "      <td>15</td>\n",
              "      <td>2</td>\n",
              "    </tr>\n",
              "    <tr>\n",
              "      <th>223772</th>\n",
              "      <td>Guitarsolo-JustFallInLoveAgain(AnneMurray,1978)</td>\n",
              "      <td>슈렉68</td>\n",
              "      <td>2021.06.19.</td>\n",
              "      <td>17</td>\n",
              "      <td>0</td>\n",
              "    </tr>\n",
              "    <tr>\n",
              "      <th>223769</th>\n",
              "      <td>IraisemyhandshightotheLord(내손을주께높이듭니다)</td>\n",
              "      <td>현하ll노동환</td>\n",
              "      <td>2021.06.19.</td>\n",
              "      <td>11</td>\n",
              "      <td>0</td>\n",
              "    </tr>\n",
              "    <tr>\n",
              "      <th>223767</th>\n",
              "      <td>아이유가을아침기타커버!</td>\n",
              "      <td>찬튜</td>\n",
              "      <td>2021.06.19.</td>\n",
              "      <td>39</td>\n",
              "      <td>0</td>\n",
              "    </tr>\n",
              "    <tr>\n",
              "      <th>223760</th>\n",
              "      <td>GIN-Recollection(cover)</td>\n",
              "      <td>RECHEV</td>\n",
              "      <td>2021.06.18.</td>\n",
              "      <td>21</td>\n",
              "      <td>0</td>\n",
              "    </tr>\n",
              "    <tr>\n",
              "      <th>223757</th>\n",
              "      <td>EdGerhard-TheWaterisWide/Cover</td>\n",
              "      <td>성열형</td>\n",
              "      <td>2021.06.18.</td>\n",
              "      <td>28</td>\n",
              "      <td>1</td>\n",
              "    </tr>\n",
              "    <tr>\n",
              "      <th>223755</th>\n",
              "      <td>비틀즈의IWill연주해보았습니다.</td>\n",
              "      <td>제이그루브</td>\n",
              "      <td>2021.06.18.</td>\n",
              "      <td>19</td>\n",
              "      <td>0</td>\n",
              "    </tr>\n",
              "    <tr>\n",
              "      <th>223753</th>\n",
              "      <td>TommyEmmanuel-Closetoyou커버</td>\n",
              "      <td>뚱치땅치</td>\n",
              "      <td>2021.06.18.</td>\n",
              "      <td>41</td>\n",
              "      <td>1</td>\n",
              "    </tr>\n",
              "    <tr>\n",
              "      <th>223751</th>\n",
              "      <td>BTS(방탄소년단)-Butter쳐봤습니다!!</td>\n",
              "      <td>노력감</td>\n",
              "      <td>2021.06.18.</td>\n",
              "      <td>86</td>\n",
              "      <td>3</td>\n",
              "    </tr>\n",
              "    <tr>\n",
              "      <th>223743</th>\n",
              "      <td>[뽕용Live]KotaroOshio-Twilight(Livestage/coverby...</td>\n",
              "      <td>기타치는뽕용</td>\n",
              "      <td>2021.06.17.</td>\n",
              "      <td>68</td>\n",
              "      <td>0</td>\n",
              "    </tr>\n",
              "    <tr>\n",
              "      <th>223738</th>\n",
              "      <td>Creep편곡</td>\n",
              "      <td>이스코</td>\n",
              "      <td>2021.06.16.</td>\n",
              "      <td>86</td>\n",
              "      <td>3</td>\n",
              "    </tr>\n",
              "    <tr>\n",
              "      <th>223736</th>\n",
              "      <td>양희은아이유-가을아침기타커버입니다!</td>\n",
              "      <td>찬튜</td>\n",
              "      <td>2021.06.16.</td>\n",
              "      <td>71</td>\n",
              "      <td>0</td>\n",
              "    </tr>\n",
              "    <tr>\n",
              "      <th>223728</th>\n",
              "      <td>쾌지나칭칭나네편곡</td>\n",
              "      <td>QNP</td>\n",
              "      <td>2021.06.15.</td>\n",
              "      <td>43</td>\n",
              "      <td>1</td>\n",
              "    </tr>\n",
              "    <tr>\n",
              "      <th>223715</th>\n",
              "      <td>DEPAPEPE(데파페페,デパペペ)-두사람의사진(Photographoftwopeople)</td>\n",
              "      <td>조각나암</td>\n",
              "      <td>2021.06.14.</td>\n",
              "      <td>121</td>\n",
              "      <td>3</td>\n",
              "    </tr>\n",
              "  </tbody>\n",
              "</table>\n",
              "</div>"
            ],
            "text/plain": [
              "                                                       제목        글쓴이  ...   조회수  좋아요\n",
              "글번호                                                                   ...           \n",
              "공지      [KBS &lt;올댓뮤직&gt; 기타의 밤 특집 - 자이로, 장재훈, 김영소 등 출연분]         진환  ...  1860   19\n",
              "223778                           YuhkiKuramoto-Meditation  haryunban  ...    34    1\n",
              "223773          CCMfinger-style-참좋으신주님(김기영작곡,arr.byShrek)       슈렉68  ...    15    2\n",
              "223772    Guitarsolo-JustFallInLoveAgain(AnneMurray,1978)       슈렉68  ...    17    0\n",
              "223769             IraisemyhandshightotheLord(내손을주께높이듭니다)    현하ll노동환  ...    11    0\n",
              "223767                                       아이유가을아침기타커버!         찬튜  ...    39    0\n",
              "223760                            GIN-Recollection(cover)     RECHEV  ...    21    0\n",
              "223757                     EdGerhard-TheWaterisWide/Cover        성열형  ...    28    1\n",
              "223755                                 비틀즈의IWill연주해보았습니다.      제이그루브  ...    19    0\n",
              "223753                         TommyEmmanuel-Closetoyou커버       뚱치땅치  ...    41    1\n",
              "223751                           BTS(방탄소년단)-Butter쳐봤습니다!!        노력감  ...    86    3\n",
              "223743  [뽕용Live]KotaroOshio-Twilight(Livestage/coverby...     기타치는뽕용  ...    68    0\n",
              "223738                                            Creep편곡        이스코  ...    86    3\n",
              "223736                                양희은아이유-가을아침기타커버입니다!         찬튜  ...    71    0\n",
              "223728                                          쾌지나칭칭나네편곡        QNP  ...    43    1\n",
              "223715  DEPAPEPE(데파페페,デパペペ)-두사람의사진(Photographoftwopeople)       조각나암  ...   121    3\n",
              "\n",
              "[16 rows x 5 columns]"
            ]
          },
          "metadata": {
            "tags": []
          },
          "execution_count": 106
        }
      ]
    },
    {
      "cell_type": "code",
      "metadata": {
        "colab": {
          "base_uri": "https://localhost:8080/",
          "height": 142
        },
        "id": "wPsUn7dn77FB",
        "outputId": "4541344f-3d44-4725-ae5b-db5b52d73a5c"
      },
      "source": [
        "blg.filter_view(30, high=40)"
      ],
      "execution_count": null,
      "outputs": [
        {
          "output_type": "execute_result",
          "data": {
            "text/html": [
              "<div>\n",
              "<style scoped>\n",
              "    .dataframe tbody tr th:only-of-type {\n",
              "        vertical-align: middle;\n",
              "    }\n",
              "\n",
              "    .dataframe tbody tr th {\n",
              "        vertical-align: top;\n",
              "    }\n",
              "\n",
              "    .dataframe thead th {\n",
              "        text-align: right;\n",
              "    }\n",
              "</style>\n",
              "<table border=\"1\" class=\"dataframe\">\n",
              "  <thead>\n",
              "    <tr style=\"text-align: right;\">\n",
              "      <th></th>\n",
              "      <th>제목</th>\n",
              "      <th>글쓴이</th>\n",
              "      <th>날짜</th>\n",
              "      <th>조회수</th>\n",
              "      <th>좋아요</th>\n",
              "    </tr>\n",
              "    <tr>\n",
              "      <th>글번호</th>\n",
              "      <th></th>\n",
              "      <th></th>\n",
              "      <th></th>\n",
              "      <th></th>\n",
              "      <th></th>\n",
              "    </tr>\n",
              "  </thead>\n",
              "  <tbody>\n",
              "    <tr>\n",
              "      <th>223778</th>\n",
              "      <td>YuhkiKuramoto-Meditation</td>\n",
              "      <td>haryunban</td>\n",
              "      <td>2021.06.19.</td>\n",
              "      <td>34</td>\n",
              "      <td>1</td>\n",
              "    </tr>\n",
              "    <tr>\n",
              "      <th>223767</th>\n",
              "      <td>아이유가을아침기타커버!</td>\n",
              "      <td>찬튜</td>\n",
              "      <td>2021.06.19.</td>\n",
              "      <td>39</td>\n",
              "      <td>0</td>\n",
              "    </tr>\n",
              "  </tbody>\n",
              "</table>\n",
              "</div>"
            ],
            "text/plain": [
              "                              제목        글쓴이           날짜  조회수 좋아요\n",
              "글번호                                                              \n",
              "223778  YuhkiKuramoto-Meditation  haryunban  2021.06.19.   34   1\n",
              "223767              아이유가을아침기타커버!         찬튜  2021.06.19.   39   0"
            ]
          },
          "metadata": {
            "tags": []
          },
          "execution_count": 107
        }
      ]
    },
    {
      "cell_type": "code",
      "metadata": {
        "id": "hwTfgzhFIZqe",
        "colab": {
          "base_uri": "https://localhost:8080/",
          "height": 203
        },
        "outputId": "c7b58dce-bdfb-4410-e555-285fe3123503"
      },
      "source": [
        "blg.filter_date('2021.06.14',high='2021.06.17')"
      ],
      "execution_count": null,
      "outputs": [
        {
          "output_type": "execute_result",
          "data": {
            "text/html": [
              "<div>\n",
              "<style scoped>\n",
              "    .dataframe tbody tr th:only-of-type {\n",
              "        vertical-align: middle;\n",
              "    }\n",
              "\n",
              "    .dataframe tbody tr th {\n",
              "        vertical-align: top;\n",
              "    }\n",
              "\n",
              "    .dataframe thead th {\n",
              "        text-align: right;\n",
              "    }\n",
              "</style>\n",
              "<table border=\"1\" class=\"dataframe\">\n",
              "  <thead>\n",
              "    <tr style=\"text-align: right;\">\n",
              "      <th></th>\n",
              "      <th>제목</th>\n",
              "      <th>글쓴이</th>\n",
              "      <th>날짜</th>\n",
              "      <th>조회수</th>\n",
              "      <th>좋아요</th>\n",
              "    </tr>\n",
              "    <tr>\n",
              "      <th>글번호</th>\n",
              "      <th></th>\n",
              "      <th></th>\n",
              "      <th></th>\n",
              "      <th></th>\n",
              "      <th></th>\n",
              "    </tr>\n",
              "  </thead>\n",
              "  <tbody>\n",
              "    <tr>\n",
              "      <th>223738</th>\n",
              "      <td>Creep편곡</td>\n",
              "      <td>이스코</td>\n",
              "      <td>2021.06.16.</td>\n",
              "      <td>86</td>\n",
              "      <td>3</td>\n",
              "    </tr>\n",
              "    <tr>\n",
              "      <th>223736</th>\n",
              "      <td>양희은아이유-가을아침기타커버입니다!</td>\n",
              "      <td>찬튜</td>\n",
              "      <td>2021.06.16.</td>\n",
              "      <td>71</td>\n",
              "      <td>0</td>\n",
              "    </tr>\n",
              "    <tr>\n",
              "      <th>223728</th>\n",
              "      <td>쾌지나칭칭나네편곡</td>\n",
              "      <td>QNP</td>\n",
              "      <td>2021.06.15.</td>\n",
              "      <td>43</td>\n",
              "      <td>1</td>\n",
              "    </tr>\n",
              "    <tr>\n",
              "      <th>223715</th>\n",
              "      <td>DEPAPEPE(데파페페,デパペペ)-두사람의사진(Photographoftwopeople)</td>\n",
              "      <td>조각나암</td>\n",
              "      <td>2021.06.14.</td>\n",
              "      <td>121</td>\n",
              "      <td>3</td>\n",
              "    </tr>\n",
              "  </tbody>\n",
              "</table>\n",
              "</div>"
            ],
            "text/plain": [
              "                                                       제목   글쓴이  ...  조회수  좋아요\n",
              "글번호                                                              ...          \n",
              "223738                                            Creep편곡   이스코  ...   86    3\n",
              "223736                                양희은아이유-가을아침기타커버입니다!    찬튜  ...   71    0\n",
              "223728                                          쾌지나칭칭나네편곡   QNP  ...   43    1\n",
              "223715  DEPAPEPE(데파페페,デパペペ)-두사람의사진(Photographoftwopeople)  조각나암  ...  121    3\n",
              "\n",
              "[4 rows x 5 columns]"
            ]
          },
          "metadata": {
            "tags": []
          },
          "execution_count": 108
        }
      ]
    },
    {
      "cell_type": "code",
      "metadata": {
        "colab": {
          "base_uri": "https://localhost:8080/"
        },
        "id": "mSDzevmjD2cP",
        "outputId": "0971b9d9-6037-4bff-dcfa-4bcef164e881"
      },
      "source": [
        "P=('page1.txt','page2.txt','page3.txt','page4.txt','page5.txt','page6.txt','page7.txt','page8.txt','page9.txt')\n",
        "for i in P:\n",
        "  p1=Blogg(i)\n",
        "  print(p1.generate_dataframe())"
      ],
      "execution_count": null,
      "outputs": [
        {
          "output_type": "stream",
          "text": [
            "                                                       제목       글쓴이  ...   조회수  좋아요\n",
            "글번호                                                                  ...           \n",
            "공지      [KBS &lt;올댓뮤직&gt; 기타의 밤 특집 - 자이로, 장재훈, 김영소 등 출연분]        진환  ...  1875   19\n",
            "223826                             열정적인곡이죠'라쿰파르시타'기타연주입니다        찬튜  ...    26    0\n",
            "223824                                      바다와갈매기소리와함께연주    오스카피터슨  ...     8    0\n",
            "223823                              하나님의나팔소리CCM연주(피아노,기타)    오스카피터슨  ...     3    0\n",
            "223822                            옳은길따르라의의길을CCM연주(피아노,기타)    오스카피터슨  ...     4    0\n",
            "223821                                         캐논변주곡기타연주!        찬튜  ...    26    0\n",
            "223819                              (경서)밤하늘의별을-SunghaJung       책갈피  ...    45    2\n",
            "223818                          Déjàvu-AntoineDufour(데자뷰)      오리무중  ...    46    5\n",
            "223816                            슬기로운의사생활2ost-이무진-비와당신커버   hbj0128  ...    46    2\n",
            "223815                                     fight피드백부탁드립니다  기타치는 맹꽁이  ...    92    1\n",
            "223811                         성시경-거리에서(ArrbySangJunPark)        만세  ...    38    1\n",
            "223810                             히카루나라(빛난다면)-goosehouse       책갈피  ...    28    1\n",
            "223807                                    twilght코타로오시오황혼       람작가  ...    71    0\n",
            "223804                           MasaakiKishibe.Dandelion   who9292  ...    62    0\n",
            "223801                             기타2개월차fight(피드백부탁드립니다)       마R틴  ...   153    0\n",
            "223788                           TangoenSkai(RolandDyens)       다솜이  ...    79    5\n",
            "\n",
            "[16 rows x 5 columns]\n",
            "                                                       제목  ... 좋아요\n",
            "글번호                                                        ...    \n",
            "223787                           초등학교5학년의파이트연주(피드백부탁드립니다)  ...   3\n",
            "223778                           YuhkiKuramoto-Meditation  ...   2\n",
            "223773          CCMfinger-style-참좋으신주님(김기영작곡,arr.byShrek)  ...   2\n",
            "223772    Guitarsolo-JustFallInLoveAgain(AnneMurray,1978)  ...   0\n",
            "223769             IraisemyhandshightotheLord(내손을주께높이듭니다)  ...   0\n",
            "223767                                       아이유가을아침기타커버!  ...   0\n",
            "223760                            GIN-Recollection(cover)  ...   0\n",
            "223757                     EdGerhard-TheWaterisWide/Cover  ...   1\n",
            "223755                                 비틀즈의IWill연주해보았습니다.  ...   0\n",
            "223753                         TommyEmmanuel-Closetoyou커버  ...   4\n",
            "223751                           BTS(방탄소년단)-Butter쳐봤습니다!!  ...   3\n",
            "223743  [뽕용Live]KotaroOshio-Twilight(Livestage/coverby...  ...   0\n",
            "223738                                            Creep편곡  ...   5\n",
            "223736                                양희은아이유-가을아침기타커버입니다!  ...   0\n",
            "223728                                          쾌지나칭칭나네편곡  ...   3\n",
            "\n",
            "[15 rows x 5 columns]\n",
            "                                                       제목         글쓴이  ...  조회수  좋아요\n",
            "글번호                                                                    ...          \n",
            "223715  DEPAPEPE(데파페페,デパペペ)-두사람의사진(Photographoftwopeople)        조각나암  ...  137    4\n",
            "223711                        MoonRiver🌝EdwardGerhardver.         다솜이  ...  166    6\n",
            "223709      PharrellWilliams-Happy(ArrangedbySangJunPark)          만세  ...   72    4\n",
            "223705                           PapaGeorge-TommyEmmanuel         나사로  ...   25    0\n",
            "223700                                     라일린rylynn연습9일차  yellowBall  ...   83    0\n",
            "223695                                  마크툽(Maktub)-별을담은시  Daniel Lee  ...   99    4\n",
            "223693              잊어야한다는마음으로(김광석)-fingerstyleimprovised        슈렉68  ...  110    1\n",
            "223688  Tutorialwithtab-AtThePlaceYou'veCalledMe-guita...        슈렉68  ...   38    0\n",
            "223686                             라일린rylynn연습8일차(뇌분리과정?)  yellowBall  ...   90    0\n",
            "223679                              찬송가10곡을핑거스타일로연주해보았습니다     세븐플랫파이브  ...   96    1\n",
            "223676    [뽕용연주]김광석-서른즈음에(guitar.ver/arrangedby기타치는뽕용)/4k      기타치는뽕용  ...   90    1\n",
            "223675                                     라일린rylynn연습7일차  yellowBall  ...   78    0\n",
            "223668                                  Fight!버스킹연주해봤습니다!      장식용손가락  ...  296    4\n",
            "223666                                 앤디맥키라일린rylynn연습6일차  yellowBall  ...   44    0\n",
            "223658                                 여러분의마음을울릴노래연주해봤어요!         노력감  ...   65    1\n",
            "\n",
            "[15 rows x 5 columns]\n",
            "                                          제목          글쓴이           날짜  조회수 좋아요\n",
            "글번호                                                                            \n",
            "223656                          박효신-야생화cover          HIS  2021.06.09.   81   4\n",
            "223649  BTS(방탄소년단)-Butter(Arr.bySangJunPark)           만세  2021.06.09.  100   6\n",
            "223648                        라일린rylynn연습5일차   yellowBall  2021.06.08.   41   0\n",
            "223642                   KotaroOahio-Tension         조각나암  2021.06.08.  200   6\n",
            "223639                     MoonRiver편곡(jazz)          후아니  2021.06.08.  105   1\n",
            "223638                    앤디맥키라일린rylynn연습4일차   yellowBall  2021.06.08.   81   0\n",
            "223634                            김광석-이등병의편지         조각나암  2021.06.07.   91   1\n",
            "223632                           사쿠란보쳐봤습니다!!          노력감  2021.06.07.  117   3\n",
            "223629    AMajorScale+DiatonicChordsProgress           JP  2021.06.07.   65   0\n",
            "223627                   Moliendocafe(휴고블랑코)          다솜이  2021.06.06.   55   3\n",
            "223623                           자면서치는펑크디파이드         뚱치땅치  2021.06.06.  367   9\n",
            "223622                           연주곡평가부탁드립니다       호나우우우둥  2021.06.05.  181   1\n",
            "223621                       지다-autumnbreeze   yellowBall  2021.06.05.   61   2\n",
            "223616                   Flaming한20일차연습중입니다!  jinnsung123  2021.06.05.  137   0\n",
            "223614                  버스커버스커-여수밤바다연습해보았어요~       funzae  2021.06.05.   48   2\n",
            "                                                제목       글쓴이  ...  조회수  좋아요\n",
            "글번호                                                           ...          \n",
            "223613                         아이유-너의의미연습해보았습니다.^^    funzae  ...   49    1\n",
            "223612                                     성시경-태양계       HIS  ...   39    0\n",
            "223610                         태양은가득히(PleinSoleil)   현하ll노동환  ...   41    0\n",
            "223609     대구장미공원버스킹(코타로오시오-departure)꼬마관객에게팁서비스로ㅎ       초방통  ...   88    2\n",
            "223604                                       클래식기타     Brave  ...  106    0\n",
            "223603                             하울의움직이는성인생의회전목마        찬튜  ...  134    0\n",
            "223593                        WindSong-KotaroOshio       백하나  ...  175    3\n",
            "223587                       secretbase-AnohanaOST       책갈피  ...   66    0\n",
            "223586  성주란곳에서버스킹(코타로오시오youarethehero)삘받은데로막쳐봣습니다ㅎ       초방통  ...  109    3\n",
            "223584                ThePhantomoftheOpera(오페라의유령)       HIS  ...   98    1\n",
            "223578                                     성시경-두사람       HIS  ...   95    1\n",
            "223575                                    아이유-이름에게      조각나암  ...  111    2\n",
            "223574                       제가가장좋아하는곡인데연주해봤어요~~!!       노력감  ...   99    2\n",
            "223571                   (방탄소년단)Butter-JihoKim+TAB  Jiho Kim  ...  171    8\n",
            "223566                          슈베르트의음악을기타로연주해본다면?        찬튜  ...   63    2\n",
            "\n",
            "[15 rows x 5 columns]\n",
            "                                             제목         글쓴이  ...  조회수  좋아요\n",
            "글번호                                                          ...          \n",
            "223565                코타로오시오fight10주년으로연주해봤어요!!         노력감  ...  234    2\n",
            "223562                                 불가사의의카르테          종민  ...   30    1\n",
            "223560       (ShwanMendes..)senorita-SunghaJung         책갈피  ...   81    2\n",
            "223556  슈퍼마리오월드OST-OverworldTheme(오버월드테마)/Cover         성열형  ...   87    2\n",
            "223553                         아이유의라일락연주해봤습니다~!         노력감  ...   90    2\n",
            "223552             월요일이네요ㅠㅠnacosonata편곡기타버전입니다.  hangsangds  ...   18    1\n",
            "223551                 비와당신연주(어딘지모르는곳에서버스킹했습니다)         초방통  ...  158    4\n",
            "223548                                    젝키-예감      gitana  ...   28    0\n",
            "223546                    원신:몬드-ANewdaywithHope        에테르상  ...   27    1\n",
            "223544  Closetoyou(Carpenters)TommyEmmanuelver.         다솜이  ...  106    5\n",
            "223541             아이유-eight(arr.bySangJunPark)          만세  ...  107    4\n",
            "223538       EMajorScale+DiatonicChordsProgress          JP  ...   53    0\n",
            "223533                라벤더향기뿜뿜하는아이유-LILAC기타2트랙버전   윤완YoonWan  ...  118   10\n",
            "223527                        BTS-Butter쳐봤습니다!!         노력감  ...  138    1\n",
            "223526                AWholeNewWorld-AladdinOST         책갈피  ...   68    2\n",
            "\n",
            "[15 rows x 5 columns]\n",
            "                                                     제목          글쓴이  ...  조회수  좋아요\n",
            "글번호                                                                   ...          \n",
            "223524                               (늑대소년ost)박보영-나의왕자님        기타조아아  ...   44    2\n",
            "223523  대구장미공원에서버스킹해봤습니다.제일자신없는곡을..(kotarooshio-splash)          초방통  ...  131    2\n",
            "223518                                 3개월정도단련(?)된fight     기타치는 맹꽁이  ...  212    2\n",
            "223513                  MyHeartWillGoOn(CélineDion)-HYO    기타치는약사HYO  ...   62    4\n",
            "223505                        코타로오시오windsong듀엣으로연주해봤습니다        기타빠돌이  ...  150    1\n",
            "223501                                 ONTHEGROUND-ROSE          책갈피  ...   64    1\n",
            "223496                          [양원주]내가죽으려고생각한것은-나카시마미카         쇠줄연대  ...  107    7\n",
            "223494                         4월은너의거짓말ostorange쳐봣어요~!!          노력감  ...   73    2\n",
            "223483                                  정성하-themilkyway     jhy frog  ...  125    6\n",
            "223480              원신-AnotherHopefuleTomorrow(녹화연못BGM)         에테르상  ...   45    3\n",
            "223477                                   Ibelieve-핑거스타일      kurtyou  ...  124    4\n",
            "223476                               아이유-LILAC(정성하.ver)        Lasim  ...  235    3\n",
            "223474                             fight(original+slam)        야매기타1  ...  167    3\n",
            "223472                           Cavatina(StanleyMyers)          다솜이  ...  113    7\n",
            "223470                       Flaming연습중입니다.조언좀부탁드리겠습니다!  jinnsung123  ...  232    0\n",
            "\n",
            "[15 rows x 5 columns]\n",
            "                                        제목        글쓴이           날짜  조회수 좋아요\n",
            "글번호                                                                        \n",
            "223465       부활LonelyNight[JinsanKimVer]커버    dndflwl  2021.05.23.  128   5\n",
            "223458               귀멸의칼날osthomura쳐봤습니다!!        노력감  2021.05.22.  134   1\n",
            "223455                              라이크어스타        김명규  2021.05.22.  113   1\n",
            "223450                       정성하님의LILAC-IU        카더멈  2021.05.21.  131   1\n",
            "223449    KotaroOshio-WindSong(風の詩)-YunJun       조각나암  2021.05.21.  244   3\n",
            "223437             붉은돼지OST-가끔은옛날이야기를/Cover        성열형  2021.05.19.   93   2\n",
            "223429  Isn`tshelovely(cover)-StevieWonder       기타악기  2021.05.19.  109   6\n",
            "223417        코타로오시오-buzzerbeater(옛시절생각하며)        초방통  2021.05.17.  143   0\n",
            "223414              JustinBieber-OffMyFace      회색후드티  2021.05.16.   95   0\n",
            "223413      정성하님의쏘아올린불꽃-DAOKOXKenshiYonezu        카더멈  2021.05.16.  212   3\n",
            "223412               Can'ttakemyeyesoffyou        다솜이  2021.05.16.  147   8\n",
            "223411                           샤프-연극이끝난후        개런드  2021.05.16.   74   3\n",
            "223398                      이루마-Mika'sSong  haryunban  2021.05.15.   42   2\n",
            "223397         MasaakiKishibe님의비내리는창가에서입니다        나사로  2021.05.15.   88   1\n",
            "223396              넬라판타지연주/나일롱콜트기타/픽업컷어웨이       뚱치땅치  2021.05.15.  107   6\n",
            "                                                       제목        글쓴이  ...  조회수  좋아요\n",
            "글번호                                                                   ...          \n",
            "223385                                      어니언스-편지,핑거스타일    kurtyou  ...   77    1\n",
            "223381                                     아이유에필로그커버해봤습니다        ㅈㅇㅅ  ...   55    0\n",
            "223379     [뽕용연주]잔나비-가을밤에든생각(guitar.ver/arrangedby기타치는뽕용)     기타치는뽕용  ...  103    2\n",
            "223373                                          목포의눈물-이난영       조각나암  ...   82    2\n",
            "223367                                         감미로운기타사쿠란보        카더멈  ...  332   10\n",
            "223365                            원신:드래곤스파인-MoonlikeSmile       에테르상  ...   68    5\n",
            "223363                                          인생의회전목마기타         찬튜  ...  179    1\n",
            "223360                   KotaroOshio-Twilight\"황혼\"바리톤기타버전.       쇠줄연대  ...  297   10\n",
            "223356                                   잔나비-가을밤에든생각핑거스타일    kurtyou  ...   85    1\n",
            "223346                               인생의회전목마(하울의움직이는성ost)        다솜이  ...  246    9\n",
            "223341                                센과치히로의행방불명-언제나몇번이라도         찬튜  ...  155    1\n",
            "223338  Insensatez(Howinsensitive)-A.C.Jobim,arr.byJer...       슈렉68  ...   43    0\n",
            "223335                                파이트초보의파이트도전기입니다~~!!        노력감  ...  143    2\n",
            "223328                               귀멸의칼날탄지로의노래쳐봤습니당~~!!        노력감  ...  198    6\n",
            "223326                         Isn'tshelovely를기타'처럼'쳐봤습니다  goodgunw2  ...  247   10\n",
            "\n",
            "[15 rows x 5 columns]\n"
          ],
          "name": "stdout"
        }
      ]
    }
  ]
}
