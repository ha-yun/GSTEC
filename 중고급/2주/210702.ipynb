{
  "nbformat": 4,
  "nbformat_minor": 0,
  "metadata": {
    "colab": {
      "name": "210702.ipynb",
      "provenance": [],
      "collapsed_sections": [],
      "authorship_tag": "ABX9TyPg1kTogk19MfPpsStPeXAX",
      "include_colab_link": true
    },
    "kernelspec": {
      "name": "python3",
      "display_name": "Python 3"
    },
    "language_info": {
      "name": "python"
    }
  },
  "cells": [
    {
      "cell_type": "markdown",
      "metadata": {
        "id": "view-in-github",
        "colab_type": "text"
      },
      "source": [
        "<a href=\"https://colab.research.google.com/github/yun-aha/GSTEC/blob/main/210702.ipynb\" target=\"_parent\"><img src=\"https://colab.research.google.com/assets/colab-badge.svg\" alt=\"Open In Colab\"/></a>"
      ]
    },
    {
      "cell_type": "markdown",
      "metadata": {
        "id": "HV4_xETqgogo"
      },
      "source": [
        "#1. 빅데이터 분석"
      ]
    },
    {
      "cell_type": "markdown",
      "metadata": {
        "id": "RH6eWgwtmh4H"
      },
      "source": [
        "* CRUD - Create, Read, Update, Delete"
      ]
    },
    {
      "cell_type": "code",
      "metadata": {
        "id": "fSDB_MYvgd_a"
      },
      "source": [
        "#ROUND함수(,)\n",
        "SELECT Name AS Country,Round(Population/SurfaceArea,1) As \"Population Density\" FROM Country ORDER BY Population;\n",
        "\n",
        "#서로 다르게 정렬\n",
        "SELECT Name,Continent FROM Country ORDER BY Continent DESC,Name;\n",
        "\n",
        "#단계별로 select\n",
        "SELECT Name,Code FROM(SELECT Code,Name, Continent FROM COUntry);\n",
        "\n",
        "#PRIMARY KEY AUTOINCREMENT\n",
        "PRIMARY KEY AUTOINCREMENT   #PRIMARY KEY = unique not null  #autoincrement  #최고 높은거 다음으로 1씩 증가"
      ],
      "execution_count": null,
      "outputs": []
    },
    {
      "cell_type": "markdown",
      "metadata": {
        "id": "IbL2me363neL"
      },
      "source": [
        "* SQLite의 \"기초 자료형\" 5가지\n",
        "1. NULL : 결측치  \n",
        "2. INTEGER : 8바이트로 표현할 수 있는 정수  \n",
        "3. REAL : 8바이트로 표현할 수 있는 실수  \n",
        "4. TEXT : 길이에 제약이 없는 문자열  \n",
        "5. BLOB : 입력된 자료를 원형 그대로 저장  \n",
        "* 부울형 storage class는 없다.  \n",
        "* CHAR(n)은 n개의 문자 길이로 고정된 문자열 의미  \n",
        "* VARCHAR(n)은 최대 n개의 문자까지 유동적인 길이의 문자열 의미  "
      ]
    },
    {
      "cell_type": "code",
      "metadata": {
        "id": "qCT9njoRzvus"
      },
      "source": [
        "#데이터 베이스 & 테이블의 생성과 변경\n",
        "CREATE TABLE myTB(a INT, b TEXT);     #새롭게 테이블 생성(및 추가)\n",
        "SELECT*FROM sqlite_master WHERE TYPE=\"table\"; #SQLite에서 테이블 목록 확인\n",
        "INSERT INTO myTB VALUES(1,'foo');\n",
        "SELECT*FROM myTB;\n",
        "DROP TABLE myTB;  #테이블 삭제\n",
        "SELECT*FROM customer; #'customer'테이블 출력\n",
        "CREATE TABLE customer2 AS SELECT id,name,zip from customer; #'customer'바탕으로 'customer2'생성\n",
        "\n",
        "#테이블 생성시 컬럼의 자료형을 명시할 수 있다. CHAR,VARCHAR = TEXT형\n",
        "# CHAR(n) = 길이 고정적, VARCHAR(n) = 최대 길이가 n까지\n",
        "CREATE TABLE test(\n",
        "    id INTEGER,\n",
        "    name VARCHAR(255),\n",
        "    address VARCHAR(255),\n",
        "    city VARCHAR(255),\n",
        "    state CHAR(2),\n",
        "    zip CHAR(10)\n",
        "                    );\n",
        "INSERT INTO test VALUES(1,\"John\",\"Main ST.12\",\"Seattle\",\"WA\",92105);\n",
        "INSERT INTO test VALUES('A',\"John\",\"Main ST.123\",\"Seattle\",\"WA\",92100); #중복도 가능하고, SQLite에서는 다른 자료형을 넣어도 작동한다.\n",
        "\n",
        "\n",
        "CREATE TABLE test(\n",
        "    a INTEGER NOT NULL,    #'a'에 NULL을 허용하지 않는다.\n",
        "    b VARCHAR(255)\n",
        "                  );\n",
        "INSERT INTO test VALUES(1,\"John\");\n",
        "INSERT INTO test(a,b) VALUES (NULL,\"DAVID\"); #NULL은 안된다. 오류\n",
        "INSERT INTO test(b) VALUES ('PAUL');   #오류\n",
        "\n",
        "\n",
        "CREATE TABLE test(\n",
        "    a INTEGER NOT NULL DEFAULT 0,           #'a'에는 default값 설정\n",
        "    b VARCHAR(255) UNIQUE NOT NULL          #'b'에는 중복 허용x\n",
        "                );\n",
        "INSERT INTO test (a,b) VALUES (3,\"SALLY\");\n",
        "INSERT INTO test (b) VALUES('PAUL');        #'a'에 default값 0이 들어간다.\n",
        "INSERT INTO test (a,b) VALUES (NULL,'David');  #오류\n",
        "INSERT INTO test VALUES (4,\"SALLY\");          #오류, 중복 허용x\n",
        "\n",
        "\n",
        "CREATE TABLE test(\n",
        "    id INTEGER PRIMARY KEY AUTOINCREMENT,\n",
        "    a VARCHAR(255),\n",
        "    b VARCHAR(255)  \n",
        "                );\n",
        "INSERT INTO test(a,b)VALUES('one','two');    #id로 1 자동 삽입\n",
        "INSERT INTO test VALUES (5,'five','six');\n",
        "INSERT INTO test(a,b)VALUES('seven','eight');   #id로 6자동 삽입  "
      ],
      "execution_count": null,
      "outputs": []
    },
    {
      "cell_type": "markdown",
      "metadata": {
        "id": "qfB-BQ9u4KwF"
      },
      "source": [
        "#2. 취업멘토링"
      ]
    },
    {
      "cell_type": "markdown",
      "metadata": {
        "id": "jZRZP7ii8yDw"
      },
      "source": [
        "박영숙 저서\n",
        "https://www.google.com/search?q=%EB%B0%95%EC%98%81%EC%88%99+%EC%A0%80%EC%84%9C&stick=H4sIAAAAAAAAAONgFuLVT9c3NEypKLSsSrYoVELlakllJ1vpJ-XnZ-snlpZk5BdZgdjFCvl5OZWLWAVeb5j6Zkbjm46ZCm8WNLxpmbODlREAlabhHFIAAAA&sa=X&ved=2ahUKEwiqnOH5vMPxAhWMMZQKHX42DgUQzTooATAfegQIHBAC&biw=1536&bih=722"
      ]
    }
  ]
}
