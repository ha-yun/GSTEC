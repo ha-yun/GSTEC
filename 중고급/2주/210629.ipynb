{
  "nbformat": 4,
  "nbformat_minor": 0,
  "metadata": {
    "colab": {
      "name": "210629.ipynb",
      "provenance": [],
      "collapsed_sections": [],
      "authorship_tag": "ABX9TyNiY2wtBwC3ShoKXbDTy+5G",
      "include_colab_link": true
    },
    "kernelspec": {
      "name": "python3",
      "display_name": "Python 3"
    },
    "language_info": {
      "name": "python"
    }
  },
  "cells": [
    {
      "cell_type": "markdown",
      "metadata": {
        "id": "view-in-github",
        "colab_type": "text"
      },
      "source": [
        "<a href=\"https://colab.research.google.com/github/yun-aha/GSTEC/blob/main/210629.ipynb\" target=\"_parent\"><img src=\"https://colab.research.google.com/assets/colab-badge.svg\" alt=\"Open In Colab\"/></a>"
      ]
    },
    {
      "cell_type": "markdown",
      "metadata": {
        "id": "ZPTpsTlyaMCg"
      },
      "source": [
        "#1. 빅 데이터 분석"
      ]
    },
    {
      "cell_type": "markdown",
      "metadata": {
        "id": "VEo5WecaegLu"
      },
      "source": [
        "<자격증>\n",
        "* 국가공인 SQL개발자\n",
        "* 국가공인 데이터분석 준전문가  \n",
        "\n",
        "<대회>\n",
        "* 캐글\n",
        "* jweek.or.kr\n",
        "* DACON"
      ]
    },
    {
      "cell_type": "markdown",
      "metadata": {
        "id": "228m_EvTf6e8"
      },
      "source": [
        "######*데이터 베이스의 구조적 특징\n",
        "1. 통합성(integrated) : 동일 데이터가 중복되지 않음.  \n",
        "2. 저장됨(stored) : 컴퓨터 기술을 바탕으로 저장 매체에 저장됨  \n",
        "3. 공용성(shared) : 여러 사용자가 다양한 목적으로 사용할 수 있음  \n",
        "4. 변화성(changeable) : 새로운 데이터의 삽입, 기존 데이터의 삭제 및 변경 가능\n",
        "\n",
        "#####*데이터 베이스의 종류\n",
        "1. 계층형 DB : 트리 구조를 이용해서 상호 관계를 계층적으로 정의함.  \n",
        "2. 네트워크형 DB : 그래프 구조를 이용해서 상호 관계를 계층적으로 정의함.  \n",
        "3. 관계형 DB : 계층형과 네트워크형의 복잡한 구조를 단순화 시킨 모델. 단순한 표(table)를 이용하여 데이터의 상호관계를 정의함.  \n",
        "4. 객체 지향형 DB : 객체의 개념 도입. 멀티미디어와 같이 복잡한 관계를 가진 데이터를 표현하는데 효과적임.\n",
        "\n",
        "#####*SQL(Structured Query Language)\n",
        "1. 데이터 정의(DDL) : 데이터 베이스를 정의, 생성, 변경, 삭제하는 것.  \n",
        "2. 데이터 조작(DML) : 질의(query)를 통해서 데이터를 불러오고 처리 하는 것.  \n",
        "3. 데이터 제어(DCL) : 데이터의 보안, 무결성, 병행 수행 제어 등을 하는 것\n",
        "\n",
        "* 경량 데이터 베이스 : SQLite(1인 사용자 전제)  \n",
        "* 데이터 베이스 서버 구축용 : MySQL(다수의 사용자 전제)\n",
        "\n",
        "#####* 데이터 베이스의 활용 : CRM, SCM, ERP, BI, KMS  \n",
        "* 데이터베이스를 여러 테이블로 분산해 놓으면 효율적이다."
      ]
    },
    {
      "cell_type": "code",
      "metadata": {
        "id": "4tDvFynPD9eG"
      },
      "source": [
        "#우리는 SQLite 사용\n",
        "#SQL과 데이터베이스\n",
        "#SQL 기초 문법 : 행 가져오기\n",
        "\n",
        "##SQL은 대소문자를 구분하지 않는다.\n",
        "SELECT'Hello, World'; #문자열 출력\n",
        "SELECT 1+2; #간단한 연산\n",
        "SELECT *FROM Country; #'Country'라는 이름의 테이블 출력\n",
        "SELECT *FROM Country ORDER BY Name; #Name으로 정렬\n",
        "SELECT Name,LifeExpectancy AS 'LIFE' FROM Country; #Name출력과 LIfe는이름 바꿔서 출력\n",
        "\n",
        "SELECT COUNT(*) FROM Country;   #행수 카운팅\n",
        "#count()함수로 *는 모든 값을 의미, 변수를 넣어도 된다.\n",
        "SELECT *FROM Country ORDER BY Name LIMIT 5; #출력수 제한\n",
        "SELECT *FROM Country ORDER BY Name LIMIT 5 OFFSET 5; #처음 5개를 건너뛰고 제한된 5개의 값 출력"
      ],
      "execution_count": null,
      "outputs": []
    },
    {
      "cell_type": "markdown",
      "metadata": {
        "id": "djD8BgI3xQ94"
      },
      "source": [
        "#2. 취업멘토링\n",
        "* 정보보호\n"
      ]
    },
    {
      "cell_type": "markdown",
      "metadata": {
        "id": "oOYb3W2TxXci"
      },
      "source": [
        "#3. 앱 어플리케이션"
      ]
    },
    {
      "cell_type": "markdown",
      "metadata": {
        "id": "s2z2BV7GQ3xw"
      },
      "source": [
        "* user에서 제일 먼저 request받는 앱 : mainApp  \n",
        "* accountapp  \n",
        "* git : 버전 관리 도구, 이전 버전으로 쉽게 돌아갈 수 있다.  \n",
        "* branch\n",
        "* git commit, git push\n"
      ]
    },
    {
      "cell_type": "markdown",
      "metadata": {
        "id": "OzNLjKBulgu7"
      },
      "source": [
        "#####*git에 project를 옮길 때 SECRET_KEY를 가려주고 옮겨야한다!\n",
        "1. 프로젝트 파일에 .env 텍스트 파일을 만들어주고 SECTRET_KEY를 넣어준다.  \n",
        "  \n",
        "2. settings.py파일에 들어가서 .env파일의 경로를 라우팅 해준다.  \n",
        "3. .env파일이 git에 배포되지 않도록 .gitignore파일을 프로젝트 파일에 넣어준다.  \n",
        "4. .env파일을 .gitignore에 입력해준다.\n"
      ]
    },
    {
      "cell_type": "code",
      "metadata": {
        "id": "JYfclZqkxVTF"
      },
      "source": [
        "#1\n",
        "SECRET_KEY=django-insecure-$mn=iyjt7o)!2sf8$w9+@1hu0r4_%d16vito)fh$fb*qcngkpu\n",
        "#2\n",
        "import os\n",
        "from pathlib import Path\n",
        "\n",
        "# Build paths inside the project like this: BASE_DIR / 'subdir'.\n",
        "BASE_DIR = Path(__file__).resolve().parent.parent\n",
        "\n",
        "local_env=open(os.path.join(BASE_DIR, '.env'))\n",
        "env_list=dict()\n",
        "while True:\n",
        "    line=local_env.readline()\n",
        "    if not line:\n",
        "        break\n",
        "    line=line.replace('\\n','')\n",
        "    start=line.find('=')\n",
        "    key=line[:start]\n",
        "    value=line[start+1:]\n",
        "    env_list[key]=value\n",
        "\n",
        "SECRET_KEY =env_list['SECRET_KEY']\n",
        "\n",
        "#.gitignore\n",
        ".env"
      ],
      "execution_count": null,
      "outputs": []
    },
    {
      "cell_type": "markdown",
      "metadata": {
        "id": "w25J3ECbpmOL"
      },
      "source": [
        "#4. 알고리즘"
      ]
    },
    {
      "cell_type": "code",
      "metadata": {
        "id": "gs8hG_QmyMPF"
      },
      "source": [
        "#가우스합\n",
        "#1부터 n까지의 합 : (n+1)*(n)/2"
      ],
      "execution_count": null,
      "outputs": []
    },
    {
      "cell_type": "markdown",
      "metadata": {
        "id": "vwpAL84w8tRo"
      },
      "source": [
        "Q. 휴식을 위하여  \n",
        "날씨 좋은 휴일, 인근 공원에서 독서를 하기로 했지만 공원에서는 공사가 진행되고 있었습니다.  \n",
        "공사 현장은 공원에서 오직 한 군데이고, 그 위치를 (a,b)라고 합니다. 공사 현장에서 R만큼의 거리 미만은 소음이 크기 때문에 독서에 적합하지 않습니다.  \n",
        "또한, 공원에는 휴식과 독서에 적합한 그늘이 N개 존재합니다.   \n",
        "각각의 그늘 위치는 (x_i,y_i)입니다.(i번째)  \n",
        "이상의 정보에서 각 그늘이 독서에 적합한지(공사 현장에서 R이상 떨어진 그늘인지) 판별하는 코드를 작성하시오."
      ]
    },
    {
      "cell_type": "code",
      "metadata": {
        "colab": {
          "base_uri": "https://localhost:8080/"
        },
        "id": "G2yYSMxuzlSA",
        "outputId": "89975762-4c8f-4fc0-9b15-ab266607d6c3"
      },
      "source": [
        "#입력예제\n",
        "#20 10 10 (a,b,R)  \n",
        "#3 (N그늘의 수)\n",
        "#25 10   (그늘의 위치 N개)\n",
        "#20 15\n",
        "#70 70\n",
        "\n",
        "#출력 예제\n",
        "#noisy\n",
        "#noisy\n",
        "#silent\n",
        "\n",
        "a,b,R=map(int,input().split())\n",
        "N=int(input())\n",
        "for _ in range(N):\n",
        "  x,y=map(int,input().split())\n",
        "  if (a-x)^2+(b-y)^2<R^2:\n",
        "    print('noisy')\n",
        "  else:\n",
        "    print('silent')"
      ],
      "execution_count": null,
      "outputs": [
        {
          "output_type": "stream",
          "text": [
            "50 50 100\n",
            "4\n",
            "0 0\n",
            "noisy\n",
            "0 100\n",
            "noisy\n",
            "100 0\n",
            "noisy\n",
            "100 0\n",
            "noisy\n"
          ],
          "name": "stdout"
        }
      ]
    }
  ]
}
