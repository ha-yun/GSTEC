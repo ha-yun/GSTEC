{
  "nbformat": 4,
  "nbformat_minor": 0,
  "metadata": {
    "colab": {
      "name": "210805.ipynb",
      "provenance": [],
      "collapsed_sections": [],
      "authorship_tag": "ABX9TyMOZOIHqrEUzZao4LNCq0hW",
      "include_colab_link": true
    },
    "kernelspec": {
      "name": "python3",
      "display_name": "Python 3"
    },
    "language_info": {
      "name": "python"
    }
  },
  "cells": [
    {
      "cell_type": "markdown",
      "metadata": {
        "id": "view-in-github",
        "colab_type": "text"
      },
      "source": [
        "<a href=\"https://colab.research.google.com/github/yun-aha/GSTEC/blob/main/210805.ipynb\" target=\"_parent\"><img src=\"https://colab.research.google.com/assets/colab-badge.svg\" alt=\"Open In Colab\"/></a>"
      ]
    },
    {
      "cell_type": "markdown",
      "metadata": {
        "id": "lIzMdkjcl-W-"
      },
      "source": [
        "# 1. 웹 어플리케이션"
      ]
    },
    {
      "cell_type": "markdown",
      "metadata": {
        "id": "uRhrXGsTn9XT"
      },
      "source": [
        "로그인이 되어 있찌 않아도 article/detail페이지에 들어갈 수 있기 때문에 decorator을 다시 사용하여 막아준다.  \n",
        "create에서 바로 detail창으로 들어가도록 설정  \n",
        "decorator를 사용"
      ]
    },
    {
      "cell_type": "code",
      "metadata": {
        "id": "khNwD0x6n9pb"
      },
      "source": [
        "# gsweb\\articleapp\\views.py\n",
        "@method_decorator(login_required, 'get')\n",
        "@method_decorator(login_required, 'post')\n",
        "class ArticleCreateView(CreateView):\n",
        "    model = Article\n",
        "    form_class = ArticleCreationForm\n",
        "    template_name = 'articleapp/create.html'\n",
        "    def form_valid(self, form):\n",
        "        form.instance.writer = self.request.user\n",
        "        return super().form_valid(form)\n",
        "    def get_success_url(self):\n",
        "        return reverse('articleapp:detail',kwargs={'pk':self.object.pk})\n",
        "\n",
        "# gsweb\\articleapp\\decorators.py\n",
        "from django.http import HttpResponseForbidden\n",
        "\n",
        "from articleapp.models import Article\n",
        "\n",
        "\n",
        "def article_ownership_required(func):\n",
        "    def decorated(request, *args, **kwargs):\n",
        "        target_article = Article.objects.get(pk=kwargs['pk'])\n",
        "        if target_article.writer == request.user:\n",
        "            return func(request, *args, **kwargs)\n",
        "        else:\n",
        "            return HttpResponseForbidden()\n",
        "    return decorated\n",
        "\n",
        "\n",
        "# gsweb\\articleapp\\views.py\n",
        "@method_decorator(article_ownership_required,'get')\n",
        "@method_decorator(article_ownership_required,'post')\n",
        "class ArticleUpdateView(UpdateView):\n",
        "    model = Article\n",
        "    form_class = ArticleCreationForm\n",
        "    context_object_name = 'target_article'\n",
        "    template_name = 'articleapp/update.html'\n",
        "\n",
        "    def get_success_url(self):\n",
        "        return reverse('articleapp:detail',kwargs={'pk':self.object.pk})\n",
        "\n",
        "@method_decorator(article_ownership_required,'get')\n",
        "@method_decorator(article_ownership_required,'post')\n",
        "class ArticleDeleteView(DeleteView):\n",
        "    model = Article\n",
        "    context_object_name = 'target_article'\n",
        "    success_url = reverse_lazy('articleapp:list')\n",
        "    template_name = 'articleapp/delete.html'\n"
      ],
      "execution_count": null,
      "outputs": []
    },
    {
      "cell_type": "code",
      "metadata": {
        "id": "mqs-QfUK3pIV"
      },
      "source": [
        "# gsweb\\articleapp\\templates\\articleapp\\detail.html\n",
        "{% extends 'base.html' %}\n",
        "\n",
        "{% block content %}\n",
        "\n",
        "    <div class=\"container text-center\">\n",
        "        <div class=\"my-5\">\n",
        "\n",
        "            {#      제목, 글쓴이, 작성일    #}\n",
        "            <h1 class=\"NNS_B\">{{ target_article.title }}</h1>\n",
        "            <h3>{{ target_article.writer.profile.nickname }}</h3>\n",
        "            <p>{{ target_article.created_at }}</p>\n",
        "        </div>\n",
        "        <hr>\n",
        "        <div class=\"my-5\">\n",
        "            {#      게시글 대표이미지, 글 내용     #}\n",
        "            <img src=\"{{ target_article.image.url }}\"\n",
        "                 class=\"article_image\"\n",
        "                 alt=\"\">\n",
        "            <div class=\"article_content\">\n",
        "                {{ target_article.content }}\n",
        "            </div>\n",
        "            {% if target_article.writer == user %}\n",
        "            <div>\n",
        "                <a href=\"{% url 'articleapp:update' pk=target_article.pk %}\"\n",
        "                class=\"btn btn-success rounded-pill px-5\">\n",
        "                    Update\n",
        "                </a>\n",
        "                <a href=\"{% url 'articleapp:delete' pk=target_article.pk %}\"\n",
        "                class=\"btn btn-danger rounded-pill px-5\">\n",
        "                    Delete\n",
        "                </a>\n",
        "            </div>\n",
        "            {% endif %}\n",
        "        </div>\n",
        "    </div>\n",
        "\n",
        "\n",
        "\n",
        "\n",
        "{% endblock %}"
      ],
      "execution_count": null,
      "outputs": []
    },
    {
      "cell_type": "code",
      "metadata": {
        "id": "rEv_rRtb3uQm"
      },
      "source": [
        "# gsweb\\static\\base.css\n",
        "\n",
        ".article_image{\n",
        "    border-radius: 2rem;\n",
        "    width: 70%;\n",
        "    box-shadow: 0 0 .5rem grey;\n",
        "}\n",
        ".article_content{\n",
        "    font-size: 1.1rem;\n",
        "    text-align: left;\n",
        "    margin: 2rem;\n",
        "}"
      ],
      "execution_count": null,
      "outputs": []
    },
    {
      "cell_type": "markdown",
      "metadata": {
        "id": "-uFfQDaXn9vB"
      },
      "source": [
        "### page ination  \n",
        "generate page of objects  \n",
        "page 짜르기..  \n"
      ]
    },
    {
      "cell_type": "code",
      "metadata": {
        "id": "ARfCPuDF2OlQ"
      },
      "source": [
        "# gsweb\\articleapp\\views.py\n",
        "class ArticleListView(ListView):\n",
        "    model = Article\n",
        "    context_object_name = 'article_list'\n",
        "    template_name = 'articleapp/list.html'\n",
        "    paginate_by = 20\n",
        "\n",
        "# gsweb\\articleapp\\urls.py\n",
        "urlpatterns = [\n",
        "    path('list/', ArticleListView.as_view(), name='list'),\n",
        "    path('create/', ArticleCreateView.as_view(), name='create'),\n",
        "    path('detail/<int:pk>', ArticleDetailView.as_view(), name='detail'),\n",
        "    path('update/<int:pk>', ArticleUpdateView.as_view(), name='update'),\n",
        "    path('delete/<int:pk>', ArticleDeleteView.as_view(), name='delete'),\n",
        "]\n"
      ],
      "execution_count": null,
      "outputs": []
    },
    {
      "cell_type": "code",
      "metadata": {
        "id": "B8vVK9FIn9yZ"
      },
      "source": [
        "# gsweb\\articleapp\\templates\\articleapp\\list.html\n",
        "{% extends 'base.html' %}\n",
        "{% load static %}\n",
        "{% block content %}\n",
        "\n",
        "    <style>\n",
        "        .container div {\n",
        "          width: 280px;\n",
        "          background-color: lightseagreen;\n",
        "          display: flex;\n",
        "          justify-content: center;\n",
        "          align-items: center;\n",
        "          border-radius: 1rem;\n",
        "            flex-direction: column;\n",
        "        }\n",
        "    .container img{\n",
        "        width: 100%;\n",
        "        border-radius: 1rem;\n",
        "    }\n",
        "    </style>\n",
        "\n",
        "\n",
        "    <!DOCTYPE html>\n",
        "    <div class=\"container my-4\">\n",
        "\n",
        "        {% for article in article_list %}\n",
        "            <div>\n",
        "                <a href=\"{% url 'articleapp:detail' pk=article.pk %}\">\n",
        "                    <img src=\"{{ article.image.url }}\"\n",
        "                         alt=\"\">\n",
        "                </a>\n",
        "            <span>{{ article.title }}</span>\n",
        "            </div>\n",
        "        {% endfor %}\n",
        "\n",
        "    </div>\n",
        "\n",
        "    <script src=\"{% static 'js/magicgrid.js' %}\"></script>\n",
        "    <div class=\"text-center my-5\">\n",
        "        <a href=\"{% url 'articleapp:create' %}\"\n",
        "        class=\"btn btn-dark rounded-pill material-icons\">\n",
        "            brush\n",
        "        </a>\n",
        "        <a href=\"{% url 'articleapp:create' %}\"\n",
        "        class=\"btn btn-outline-dark rounded-pill px-5\">\n",
        "            Create Article\n",
        "        </a>\n",
        "    </div>\n",
        "{% endblock %}"
      ],
      "execution_count": null,
      "outputs": []
    },
    {
      "cell_type": "markdown",
      "metadata": {
        "id": "cRYl13qb_yFA"
      },
      "source": [
        "# 2. 알고리즘"
      ]
    },
    {
      "cell_type": "markdown",
      "metadata": {
        "id": "gL9p16XE_yZo"
      },
      "source": [
        "# 3. 딥러닝"
      ]
    },
    {
      "cell_type": "markdown",
      "metadata": {
        "id": "wvmKjXNy_yzB"
      },
      "source": [
        "# 4. 머신러닝"
      ]
    },
    {
      "cell_type": "code",
      "metadata": {
        "id": "qXJxdP0__yqH",
        "colab": {
          "base_uri": "https://localhost:8080/"
        },
        "outputId": "3897a9c3-7005-46a7-ceb1-3aae35f1f479"
      },
      "source": [
        "!pip install mglearn"
      ],
      "execution_count": null,
      "outputs": [
        {
          "output_type": "stream",
          "text": [
            "Collecting mglearn\n",
            "  Downloading mglearn-0.1.9.tar.gz (540 kB)\n",
            "\u001b[?25l\r\u001b[K     |▋                               | 10 kB 18.0 MB/s eta 0:00:01\r\u001b[K     |█▏                              | 20 kB 24.6 MB/s eta 0:00:01\r\u001b[K     |█▉                              | 30 kB 12.3 MB/s eta 0:00:01\r\u001b[K     |██▍                             | 40 kB 9.4 MB/s eta 0:00:01\r\u001b[K     |███                             | 51 kB 5.1 MB/s eta 0:00:01\r\u001b[K     |███▋                            | 61 kB 5.6 MB/s eta 0:00:01\r\u001b[K     |████▎                           | 71 kB 6.3 MB/s eta 0:00:01\r\u001b[K     |████▉                           | 81 kB 5.6 MB/s eta 0:00:01\r\u001b[K     |█████▌                          | 92 kB 4.8 MB/s eta 0:00:01\r\u001b[K     |██████                          | 102 kB 5.2 MB/s eta 0:00:01\r\u001b[K     |██████▊                         | 112 kB 5.2 MB/s eta 0:00:01\r\u001b[K     |███████▎                        | 122 kB 5.2 MB/s eta 0:00:01\r\u001b[K     |███████▉                        | 133 kB 5.2 MB/s eta 0:00:01\r\u001b[K     |████████▌                       | 143 kB 5.2 MB/s eta 0:00:01\r\u001b[K     |█████████                       | 153 kB 5.2 MB/s eta 0:00:01\r\u001b[K     |█████████▊                      | 163 kB 5.2 MB/s eta 0:00:01\r\u001b[K     |██████████▎                     | 174 kB 5.2 MB/s eta 0:00:01\r\u001b[K     |███████████                     | 184 kB 5.2 MB/s eta 0:00:01\r\u001b[K     |███████████▌                    | 194 kB 5.2 MB/s eta 0:00:01\r\u001b[K     |████████████▏                   | 204 kB 5.2 MB/s eta 0:00:01\r\u001b[K     |████████████▊                   | 215 kB 5.2 MB/s eta 0:00:01\r\u001b[K     |█████████████▍                  | 225 kB 5.2 MB/s eta 0:00:01\r\u001b[K     |██████████████                  | 235 kB 5.2 MB/s eta 0:00:01\r\u001b[K     |██████████████▋                 | 245 kB 5.2 MB/s eta 0:00:01\r\u001b[K     |███████████████▏                | 256 kB 5.2 MB/s eta 0:00:01\r\u001b[K     |███████████████▊                | 266 kB 5.2 MB/s eta 0:00:01\r\u001b[K     |████████████████▍               | 276 kB 5.2 MB/s eta 0:00:01\r\u001b[K     |█████████████████               | 286 kB 5.2 MB/s eta 0:00:01\r\u001b[K     |█████████████████▋              | 296 kB 5.2 MB/s eta 0:00:01\r\u001b[K     |██████████████████▏             | 307 kB 5.2 MB/s eta 0:00:01\r\u001b[K     |██████████████████▉             | 317 kB 5.2 MB/s eta 0:00:01\r\u001b[K     |███████████████████▍            | 327 kB 5.2 MB/s eta 0:00:01\r\u001b[K     |████████████████████            | 337 kB 5.2 MB/s eta 0:00:01\r\u001b[K     |████████████████████▋           | 348 kB 5.2 MB/s eta 0:00:01\r\u001b[K     |█████████████████████▎          | 358 kB 5.2 MB/s eta 0:00:01\r\u001b[K     |█████████████████████▉          | 368 kB 5.2 MB/s eta 0:00:01\r\u001b[K     |██████████████████████▌         | 378 kB 5.2 MB/s eta 0:00:01\r\u001b[K     |███████████████████████         | 389 kB 5.2 MB/s eta 0:00:01\r\u001b[K     |███████████████████████▋        | 399 kB 5.2 MB/s eta 0:00:01\r\u001b[K     |████████████████████████▎       | 409 kB 5.2 MB/s eta 0:00:01\r\u001b[K     |████████████████████████▉       | 419 kB 5.2 MB/s eta 0:00:01\r\u001b[K     |█████████████████████████▌      | 430 kB 5.2 MB/s eta 0:00:01\r\u001b[K     |██████████████████████████      | 440 kB 5.2 MB/s eta 0:00:01\r\u001b[K     |██████████████████████████▊     | 450 kB 5.2 MB/s eta 0:00:01\r\u001b[K     |███████████████████████████▎    | 460 kB 5.2 MB/s eta 0:00:01\r\u001b[K     |████████████████████████████    | 471 kB 5.2 MB/s eta 0:00:01\r\u001b[K     |████████████████████████████▌   | 481 kB 5.2 MB/s eta 0:00:01\r\u001b[K     |█████████████████████████████▏  | 491 kB 5.2 MB/s eta 0:00:01\r\u001b[K     |█████████████████████████████▊  | 501 kB 5.2 MB/s eta 0:00:01\r\u001b[K     |██████████████████████████████▍ | 512 kB 5.2 MB/s eta 0:00:01\r\u001b[K     |███████████████████████████████ | 522 kB 5.2 MB/s eta 0:00:01\r\u001b[K     |███████████████████████████████▌| 532 kB 5.2 MB/s eta 0:00:01\r\u001b[K     |████████████████████████████████| 540 kB 5.2 MB/s \n",
            "\u001b[?25hRequirement already satisfied: numpy in /usr/local/lib/python3.7/dist-packages (from mglearn) (1.19.5)\n",
            "Requirement already satisfied: matplotlib in /usr/local/lib/python3.7/dist-packages (from mglearn) (3.2.2)\n",
            "Requirement already satisfied: scikit-learn in /usr/local/lib/python3.7/dist-packages (from mglearn) (0.22.2.post1)\n",
            "Requirement already satisfied: pandas in /usr/local/lib/python3.7/dist-packages (from mglearn) (1.1.5)\n",
            "Requirement already satisfied: pillow in /usr/local/lib/python3.7/dist-packages (from mglearn) (7.1.2)\n",
            "Requirement already satisfied: cycler in /usr/local/lib/python3.7/dist-packages (from mglearn) (0.10.0)\n",
            "Requirement already satisfied: imageio in /usr/local/lib/python3.7/dist-packages (from mglearn) (2.4.1)\n",
            "Requirement already satisfied: joblib in /usr/local/lib/python3.7/dist-packages (from mglearn) (1.0.1)\n",
            "Requirement already satisfied: six in /usr/local/lib/python3.7/dist-packages (from cycler->mglearn) (1.15.0)\n",
            "Requirement already satisfied: pyparsing!=2.0.4,!=2.1.2,!=2.1.6,>=2.0.1 in /usr/local/lib/python3.7/dist-packages (from matplotlib->mglearn) (2.4.7)\n",
            "Requirement already satisfied: kiwisolver>=1.0.1 in /usr/local/lib/python3.7/dist-packages (from matplotlib->mglearn) (1.3.1)\n",
            "Requirement already satisfied: python-dateutil>=2.1 in /usr/local/lib/python3.7/dist-packages (from matplotlib->mglearn) (2.8.1)\n",
            "Requirement already satisfied: pytz>=2017.2 in /usr/local/lib/python3.7/dist-packages (from pandas->mglearn) (2018.9)\n",
            "Requirement already satisfied: scipy>=0.17.0 in /usr/local/lib/python3.7/dist-packages (from scikit-learn->mglearn) (1.4.1)\n",
            "Building wheels for collected packages: mglearn\n",
            "  Building wheel for mglearn (setup.py) ... \u001b[?25l\u001b[?25hdone\n",
            "  Created wheel for mglearn: filename=mglearn-0.1.9-py2.py3-none-any.whl size=582638 sha256=4fefc680658c18fd2f97835f73bbf123096df72cef56b8d1c3c0d3f8587b6f8a\n",
            "  Stored in directory: /root/.cache/pip/wheels/f1/17/e1/1720d6dcd70187b6b6c3750cb3508798f2b1d57c9d3214b08b\n",
            "Successfully built mglearn\n",
            "Installing collected packages: mglearn\n",
            "Successfully installed mglearn-0.1.9\n"
          ],
          "name": "stdout"
        }
      ]
    },
    {
      "cell_type": "markdown",
      "metadata": {
        "id": "g5_EsCnQ-zCg"
      },
      "source": [
        "#### Decision Tree 실습 04\n",
        "\n",
        "타이타닉 데이터 사용"
      ]
    },
    {
      "cell_type": "code",
      "metadata": {
        "id": "fyjfJecq_hUT"
      },
      "source": [
        "# 구글드라이브 연동\n",
        "from google.colab import drive\n",
        "drive.mount('/gdrive', force_remount=True)\n",
        "\n",
        "# 구글 드라이브 파일 확인\n",
        "!ls '/gdrive/My Drive/temp/'\n",
        "\n",
        "# 반복되는 드라이브 경로 변수화\n",
        "drive_path = '/gdrive/My Drive/temp/'"
      ],
      "execution_count": null,
      "outputs": []
    },
    {
      "cell_type": "code",
      "metadata": {
        "id": "Z3oJYANc-9Oy"
      },
      "source": [
        "import pandas as pd\n",
        "import numpy as np\n",
        "import matplotlib.pyplot as plt\n",
        "%matplotlib inline\n",
        "\n",
        "\n",
        "# df = pd.read_excel(drive_path + 'titanic.xls')\n",
        "df = pd.read_excel('/content/titanic.xls')"
      ],
      "execution_count": null,
      "outputs": []
    },
    {
      "cell_type": "markdown",
      "metadata": {
        "id": "OPHMk6cqaaKe"
      },
      "source": [
        "##### 데이터 분석 (시각화, EDA - 탐색적 데이터분석)\n",
        "\n",
        "- 데이터를 세부적으로 살펴보는 것 <br> \n",
        "  (결측치, 이상치, 데이터분포, 라벨의 분포, 범주형 데이터의 종류 등 확인)\n",
        "- 데이터를 시각화\n",
        "- 데이터를 어떻게 수정할 것인지 결정"
      ]
    },
    {
      "cell_type": "code",
      "metadata": {
        "id": "OIM6Bewjav8M",
        "colab": {
          "base_uri": "https://localhost:8080/"
        },
        "outputId": "9054f773-9b7f-469a-d982-1a4bda4a1918"
      },
      "source": [
        "# 결측치 확인\n",
        "df.info()"
      ],
      "execution_count": null,
      "outputs": [
        {
          "output_type": "stream",
          "text": [
            "<class 'pandas.core.frame.DataFrame'>\n",
            "RangeIndex: 1309 entries, 0 to 1308\n",
            "Data columns (total 14 columns):\n",
            " #   Column     Non-Null Count  Dtype  \n",
            "---  ------     --------------  -----  \n",
            " 0   pclass     1309 non-null   int64  \n",
            " 1   survived   1309 non-null   int64  \n",
            " 2   name       1309 non-null   object \n",
            " 3   sex        1309 non-null   object \n",
            " 4   age        1046 non-null   float64\n",
            " 5   sibsp      1309 non-null   int64  \n",
            " 6   parch      1309 non-null   int64  \n",
            " 7   ticket     1309 non-null   object \n",
            " 8   fare       1308 non-null   float64\n",
            " 9   cabin      295 non-null    object \n",
            " 10  embarked   1307 non-null   object \n",
            " 11  boat       486 non-null    object \n",
            " 12  body       121 non-null    float64\n",
            " 13  home.dest  745 non-null    object \n",
            "dtypes: float64(3), int64(4), object(7)\n",
            "memory usage: 143.3+ KB\n"
          ],
          "name": "stdout"
        }
      ]
    },
    {
      "cell_type": "markdown",
      "metadata": {
        "id": "WzfMokWWAvIA"
      },
      "source": [
        "- pclass : 객실 등급\n",
        "- survived : 생존 유무\n",
        "- sex : 성별\n",
        "- age : 나이\n",
        "- sibsp : 형제 혹은 부부의 수\n",
        "- parch : 부모, 혹은 자녀의 수\n",
        "- fare : 지불한 운임\n",
        "- boat : 탈출한 보트가 있다면 boat 번호\n",
        "- embarked : 탑승장소 S=Southhampton, C=Cherbourg, Q=Queenstown"
      ]
    },
    {
      "cell_type": "code",
      "metadata": {
        "id": "ips7JL4TA4k_",
        "colab": {
          "base_uri": "https://localhost:8080/",
          "height": 296
        },
        "outputId": "658c62a5-82fc-4ba1-c8c3-18cf64704279"
      },
      "source": [
        "# 이상치 확인\n",
        "df.describe()"
      ],
      "execution_count": null,
      "outputs": [
        {
          "output_type": "execute_result",
          "data": {
            "text/html": [
              "<div>\n",
              "<style scoped>\n",
              "    .dataframe tbody tr th:only-of-type {\n",
              "        vertical-align: middle;\n",
              "    }\n",
              "\n",
              "    .dataframe tbody tr th {\n",
              "        vertical-align: top;\n",
              "    }\n",
              "\n",
              "    .dataframe thead th {\n",
              "        text-align: right;\n",
              "    }\n",
              "</style>\n",
              "<table border=\"1\" class=\"dataframe\">\n",
              "  <thead>\n",
              "    <tr style=\"text-align: right;\">\n",
              "      <th></th>\n",
              "      <th>pclass</th>\n",
              "      <th>survived</th>\n",
              "      <th>age</th>\n",
              "      <th>sibsp</th>\n",
              "      <th>parch</th>\n",
              "      <th>fare</th>\n",
              "      <th>body</th>\n",
              "    </tr>\n",
              "  </thead>\n",
              "  <tbody>\n",
              "    <tr>\n",
              "      <th>count</th>\n",
              "      <td>1309.000000</td>\n",
              "      <td>1309.000000</td>\n",
              "      <td>1046.000000</td>\n",
              "      <td>1309.000000</td>\n",
              "      <td>1309.000000</td>\n",
              "      <td>1308.000000</td>\n",
              "      <td>121.000000</td>\n",
              "    </tr>\n",
              "    <tr>\n",
              "      <th>mean</th>\n",
              "      <td>2.294882</td>\n",
              "      <td>0.381971</td>\n",
              "      <td>29.881135</td>\n",
              "      <td>0.498854</td>\n",
              "      <td>0.385027</td>\n",
              "      <td>33.295479</td>\n",
              "      <td>160.809917</td>\n",
              "    </tr>\n",
              "    <tr>\n",
              "      <th>std</th>\n",
              "      <td>0.837836</td>\n",
              "      <td>0.486055</td>\n",
              "      <td>14.413500</td>\n",
              "      <td>1.041658</td>\n",
              "      <td>0.865560</td>\n",
              "      <td>51.758668</td>\n",
              "      <td>97.696922</td>\n",
              "    </tr>\n",
              "    <tr>\n",
              "      <th>min</th>\n",
              "      <td>1.000000</td>\n",
              "      <td>0.000000</td>\n",
              "      <td>0.166700</td>\n",
              "      <td>0.000000</td>\n",
              "      <td>0.000000</td>\n",
              "      <td>0.000000</td>\n",
              "      <td>1.000000</td>\n",
              "    </tr>\n",
              "    <tr>\n",
              "      <th>25%</th>\n",
              "      <td>2.000000</td>\n",
              "      <td>0.000000</td>\n",
              "      <td>21.000000</td>\n",
              "      <td>0.000000</td>\n",
              "      <td>0.000000</td>\n",
              "      <td>7.895800</td>\n",
              "      <td>72.000000</td>\n",
              "    </tr>\n",
              "    <tr>\n",
              "      <th>50%</th>\n",
              "      <td>3.000000</td>\n",
              "      <td>0.000000</td>\n",
              "      <td>28.000000</td>\n",
              "      <td>0.000000</td>\n",
              "      <td>0.000000</td>\n",
              "      <td>14.454200</td>\n",
              "      <td>155.000000</td>\n",
              "    </tr>\n",
              "    <tr>\n",
              "      <th>75%</th>\n",
              "      <td>3.000000</td>\n",
              "      <td>1.000000</td>\n",
              "      <td>39.000000</td>\n",
              "      <td>1.000000</td>\n",
              "      <td>0.000000</td>\n",
              "      <td>31.275000</td>\n",
              "      <td>256.000000</td>\n",
              "    </tr>\n",
              "    <tr>\n",
              "      <th>max</th>\n",
              "      <td>3.000000</td>\n",
              "      <td>1.000000</td>\n",
              "      <td>80.000000</td>\n",
              "      <td>8.000000</td>\n",
              "      <td>9.000000</td>\n",
              "      <td>512.329200</td>\n",
              "      <td>328.000000</td>\n",
              "    </tr>\n",
              "  </tbody>\n",
              "</table>\n",
              "</div>"
            ],
            "text/plain": [
              "            pclass     survived  ...         fare        body\n",
              "count  1309.000000  1309.000000  ...  1308.000000  121.000000\n",
              "mean      2.294882     0.381971  ...    33.295479  160.809917\n",
              "std       0.837836     0.486055  ...    51.758668   97.696922\n",
              "min       1.000000     0.000000  ...     0.000000    1.000000\n",
              "25%       2.000000     0.000000  ...     7.895800   72.000000\n",
              "50%       3.000000     0.000000  ...    14.454200  155.000000\n",
              "75%       3.000000     1.000000  ...    31.275000  256.000000\n",
              "max       3.000000     1.000000  ...   512.329200  328.000000\n",
              "\n",
              "[8 rows x 7 columns]"
            ]
          },
          "metadata": {
            "tags": []
          },
          "execution_count": 5
        }
      ]
    },
    {
      "cell_type": "code",
      "metadata": {
        "id": "YuLP_qamBNWp",
        "colab": {
          "base_uri": "https://localhost:8080/",
          "height": 352
        },
        "outputId": "fad6fadf-42fd-4ddc-acf5-c82dffb28474"
      },
      "source": [
        "# 생존자 수 확인\n",
        "import seaborn as sns\n",
        "\n",
        "# countplot: 범주형 변수의 빈도수를 시각화\n",
        "sns.countplot('survived', data=df)"
      ],
      "execution_count": null,
      "outputs": [
        {
          "output_type": "stream",
          "text": [
            "/usr/local/lib/python3.7/dist-packages/seaborn/_decorators.py:43: FutureWarning: Pass the following variable as a keyword arg: x. From version 0.12, the only valid positional argument will be `data`, and passing other arguments without an explicit keyword will result in an error or misinterpretation.\n",
            "  FutureWarning\n"
          ],
          "name": "stderr"
        },
        {
          "output_type": "execute_result",
          "data": {
            "text/plain": [
              "<matplotlib.axes._subplots.AxesSubplot at 0x7f7f990f0810>"
            ]
          },
          "metadata": {
            "tags": []
          },
          "execution_count": 6
        },
        {
          "output_type": "display_data",
          "data": {
            "image/png": "[encoded data removed]",
            "text/plain": [
              "<Figure size 432x288 with 1 Axes>"
            ]
          },
          "metadata": {
            "tags": [],
            "needs_background": "light"
          }
        }
      ]
    },
    {
      "cell_type": "code",
      "metadata": {
        "id": "IFbg4QnpBoO4",
        "colab": {
          "base_uri": "https://localhost:8080/",
          "height": 286
        },
        "outputId": "210801df-fb04-4934-d1ea-e30bc4598cdd"
      },
      "source": [
        "# 나이순으로 숫자 보기\n",
        "df['age'].hist(bins=80)"
      ],
      "execution_count": null,
      "outputs": [
        {
          "output_type": "execute_result",
          "data": {
            "text/plain": [
              "<matplotlib.axes._subplots.AxesSubplot at 0x7f7f94a35910>"
            ]
          },
          "metadata": {
            "tags": []
          },
          "execution_count": 9
        },
        {
          "output_type": "display_data",
          "data": {
            "image/png": "[encoded data removed]",
            "text/plain": [
              "<Figure size 432x288 with 1 Axes>"
            ]
          },
          "metadata": {
            "tags": [],
            "needs_background": "light"
          }
        }
      ]
    },
    {
      "cell_type": "code",
      "metadata": {
        "id": "X_GsRqXgB5Fh",
        "colab": {
          "base_uri": "https://localhost:8080/",
          "height": 172
        },
        "outputId": "a8ae95a7-d762-45e9-a039-fd3f7dd4f10d"
      },
      "source": [
        "# 선실 등급별 상황\n",
        "df.groupby('pclass').mean()"
      ],
      "execution_count": null,
      "outputs": [
        {
          "output_type": "execute_result",
          "data": {
            "text/html": [
              "<div>\n",
              "<style scoped>\n",
              "    .dataframe tbody tr th:only-of-type {\n",
              "        vertical-align: middle;\n",
              "    }\n",
              "\n",
              "    .dataframe tbody tr th {\n",
              "        vertical-align: top;\n",
              "    }\n",
              "\n",
              "    .dataframe thead th {\n",
              "        text-align: right;\n",
              "    }\n",
              "</style>\n",
              "<table border=\"1\" class=\"dataframe\">\n",
              "  <thead>\n",
              "    <tr style=\"text-align: right;\">\n",
              "      <th></th>\n",
              "      <th>survived</th>\n",
              "      <th>age</th>\n",
              "      <th>sibsp</th>\n",
              "      <th>parch</th>\n",
              "      <th>fare</th>\n",
              "      <th>body</th>\n",
              "    </tr>\n",
              "    <tr>\n",
              "      <th>pclass</th>\n",
              "      <th></th>\n",
              "      <th></th>\n",
              "      <th></th>\n",
              "      <th></th>\n",
              "      <th></th>\n",
              "      <th></th>\n",
              "    </tr>\n",
              "  </thead>\n",
              "  <tbody>\n",
              "    <tr>\n",
              "      <th>1</th>\n",
              "      <td>0.619195</td>\n",
              "      <td>39.159918</td>\n",
              "      <td>0.436533</td>\n",
              "      <td>0.365325</td>\n",
              "      <td>87.508992</td>\n",
              "      <td>162.828571</td>\n",
              "    </tr>\n",
              "    <tr>\n",
              "      <th>2</th>\n",
              "      <td>0.429603</td>\n",
              "      <td>29.506705</td>\n",
              "      <td>0.393502</td>\n",
              "      <td>0.368231</td>\n",
              "      <td>21.179196</td>\n",
              "      <td>167.387097</td>\n",
              "    </tr>\n",
              "    <tr>\n",
              "      <th>3</th>\n",
              "      <td>0.255289</td>\n",
              "      <td>24.816367</td>\n",
              "      <td>0.568406</td>\n",
              "      <td>0.400564</td>\n",
              "      <td>13.302889</td>\n",
              "      <td>155.818182</td>\n",
              "    </tr>\n",
              "  </tbody>\n",
              "</table>\n",
              "</div>"
            ],
            "text/plain": [
              "        survived        age     sibsp     parch       fare        body\n",
              "pclass                                                                \n",
              "1       0.619195  39.159918  0.436533  0.365325  87.508992  162.828571\n",
              "2       0.429603  29.506705  0.393502  0.368231  21.179196  167.387097\n",
              "3       0.255289  24.816367  0.568406  0.400564  13.302889  155.818182"
            ]
          },
          "metadata": {
            "tags": []
          },
          "execution_count": 10
        }
      ]
    },
    {
      "cell_type": "markdown",
      "metadata": {
        "id": "5pJcLHKobDcW"
      },
      "source": [
        "**heatmap**\n",
        "\n",
        "- Target Feature와 나머지 독립변수들의 상관계수를 직관적으로 확인\n",
        "- 데이터.corr() : heatmap에 사용할 데이터의 상관계수"
      ]
    },
    {
      "cell_type": "code",
      "metadata": {
        "id": "eDg8SPhqCdiw",
        "colab": {
          "base_uri": "https://localhost:8080/",
          "height": 287
        },
        "outputId": "b0f56310-d40a-412b-8746-e13af2c3e218"
      },
      "source": [
        "# 특성의 상관관계 분석\n",
        "sns.heatmap(df.corr(), cmap=plt.cm.viridis, annot=True)"
      ],
      "execution_count": null,
      "outputs": [
        {
          "output_type": "execute_result",
          "data": {
            "text/plain": [
              "<matplotlib.axes._subplots.AxesSubplot at 0x7f7f948e4dd0>"
            ]
          },
          "metadata": {
            "tags": []
          },
          "execution_count": 12
        },
        {
          "output_type": "display_data",
          "data": {
            "image/png": "[encoded data removed]",
            "text/plain": [
              "<Figure size 432x288 with 2 Axes>"
            ]
          },
          "metadata": {
            "tags": [],
            "needs_background": "light"
          }
        }
      ]
    },
    {
      "cell_type": "markdown",
      "metadata": {
        "id": "of0sK2CRCvXA"
      },
      "source": [
        "- 생존률과의 관계?\n"
      ]
    },
    {
      "cell_type": "code",
      "metadata": {
        "id": "llPfhvoBCwF5"
      },
      "source": [
        "# 객실 등급(pclass)별, 연령대별, 성별 비교\n",
        "\n",
        "# seaborn은 barplot() 함수를 사용할 때 \n",
        "# 각 막대에 기본적으로 오차막대(error bar)가 함께 나타나도록 되어 있다.\n",
        "# 오차막대를 그리는 범위는 기본적으로 \n",
        "# “이 데이터를 기반으로 유사한 상황의 95%가 이 범위 내에서 결과를 얻을 것”을 의미한다.\n",
        "x = df['age']\n",
        "bins = [0, 10, 20, 50, 100]\n",
        "labels = ['baby', 'teenage', 'adult', 'old']\n",
        "df['age_cut'] = pd.cut(x=x, bins=bins, labels=labels)"
      ],
      "execution_count": null,
      "outputs": []
    },
    {
      "cell_type": "code",
      "metadata": {
        "colab": {
          "base_uri": "https://localhost:8080/",
          "height": 427
        },
        "id": "-WlVWYA8iHG-",
        "outputId": "c949439f-d51b-4a27-bcb6-0e6cd50928fc"
      },
      "source": [
        "fig, axes = plt.subplots(1, 3, figsize=(12, 4) )\n",
        "sns.barplot('pclass', 'survived', data=df, ax=axes[0])\n",
        "sns.barplot('age_cut', 'survived', data=df, ax=axes[1])\n",
        "sns.barplot('sex', 'survived', data=df, ax=axes[2])"
      ],
      "execution_count": null,
      "outputs": [
        {
          "output_type": "stream",
          "text": [
            "/usr/local/lib/python3.7/dist-packages/seaborn/_decorators.py:43: FutureWarning: Pass the following variables as keyword args: x, y. From version 0.12, the only valid positional argument will be `data`, and passing other arguments without an explicit keyword will result in an error or misinterpretation.\n",
            "  FutureWarning\n",
            "/usr/local/lib/python3.7/dist-packages/seaborn/_decorators.py:43: FutureWarning: Pass the following variables as keyword args: x, y. From version 0.12, the only valid positional argument will be `data`, and passing other arguments without an explicit keyword will result in an error or misinterpretation.\n",
            "  FutureWarning\n",
            "/usr/local/lib/python3.7/dist-packages/seaborn/_decorators.py:43: FutureWarning: Pass the following variables as keyword args: x, y. From version 0.12, the only valid positional argument will be `data`, and passing other arguments without an explicit keyword will result in an error or misinterpretation.\n",
            "  FutureWarning\n"
          ],
          "name": "stderr"
        },
        {
          "output_type": "execute_result",
          "data": {
            "text/plain": [
              "<matplotlib.axes._subplots.AxesSubplot at 0x7f7f8b90ef50>"
            ]
          },
          "metadata": {
            "tags": []
          },
          "execution_count": 19
        },
        {
          "output_type": "display_data",
          "data": {
            "image/png": "[encoded data removed]",
            "text/plain": [
              "<Figure size 864x288 with 3 Axes>"
            ]
          },
          "metadata": {
            "tags": [],
            "needs_background": "light"
          }
        }
      ]
    },
    {
      "cell_type": "code",
      "metadata": {
        "id": "lFQ3Bt14DHWh",
        "colab": {
          "base_uri": "https://localhost:8080/",
          "height": 297
        },
        "outputId": "c96acf9c-648f-40ea-b8d5-bf5d7f57f0c4"
      },
      "source": [
        "# 연령대별 생존여부 분포 비교\n",
        "# 커널밀도추정 KDE ; 데이터의 분포를 확인\n",
        "# df['age'][ df['survived'] == 0 ][ df['age'].notnull() ]\n",
        "survived_0 = df['age'][ (df['survived'] == 0) & (df['age'].notnull()) ]\n",
        "survived_1 = df['age'][ (df['survived'] == 1) & (df['age'].notnull()) ]\n",
        "sns.kdeplot(survived_0, shade=True, color='b')\n",
        "sns.kdeplot(survived_1, shade=True, color='g')"
      ],
      "execution_count": null,
      "outputs": [
        {
          "output_type": "execute_result",
          "data": {
            "text/plain": [
              "<matplotlib.axes._subplots.AxesSubplot at 0x7f7f884df590>"
            ]
          },
          "metadata": {
            "tags": []
          },
          "execution_count": 22
        },
        {
          "output_type": "display_data",
          "data": {
            "image/png": "[encoded data removed]",
            "text/plain": [
              "<Figure size 432x288 with 1 Axes>"
            ]
          },
          "metadata": {
            "tags": [],
            "needs_background": "light"
          }
        }
      ]
    },
    {
      "cell_type": "markdown",
      "metadata": {
        "id": "v9RS4qkUDUhZ"
      },
      "source": [
        "- 성별 생존자수 비교 결과?\n"
      ]
    },
    {
      "cell_type": "code",
      "metadata": {
        "id": "hTfHvb7kDVLA",
        "colab": {
          "base_uri": "https://localhost:8080/",
          "height": 352
        },
        "outputId": "8770abac-888e-442d-a4bf-efe77daa4b02"
      },
      "source": [
        "# 성별 생존자수 비교\n",
        "# sns.countplot('sex', data=df)\n",
        "sns.countplot('sex',hue='survived',data=df)"
      ],
      "execution_count": null,
      "outputs": [
        {
          "output_type": "stream",
          "text": [
            "/usr/local/lib/python3.7/dist-packages/seaborn/_decorators.py:43: FutureWarning: Pass the following variable as a keyword arg: x. From version 0.12, the only valid positional argument will be `data`, and passing other arguments without an explicit keyword will result in an error or misinterpretation.\n",
            "  FutureWarning\n"
          ],
          "name": "stderr"
        },
        {
          "output_type": "execute_result",
          "data": {
            "text/plain": [
              "<matplotlib.axes._subplots.AxesSubplot at 0x7f7f8bb20610>"
            ]
          },
          "metadata": {
            "tags": []
          },
          "execution_count": 23
        },
        {
          "output_type": "display_data",
          "data": {
            "image/png": "[encoded data removed]",
            "text/plain": [
              "<Figure size 432x288 with 1 Axes>"
            ]
          },
          "metadata": {
            "tags": [],
            "needs_background": "light"
          }
        }
      ]
    },
    {
      "cell_type": "markdown",
      "metadata": {
        "id": "0-HUCG1hDsyj"
      },
      "source": [
        "- 구조 보트에 탑승하고도 사망한 비율 ??%\n"
      ]
    },
    {
      "cell_type": "code",
      "metadata": {
        "id": "HTmXUZT7DkDb",
        "colab": {
          "base_uri": "https://localhost:8080/",
          "height": 301
        },
        "outputId": "b1ec29be-1a72-4f8e-ff8d-61b6e478a5b7"
      },
      "source": [
        "# 구조 보트에 탑승하고도 사망한 비율\n",
        "boat_df = df[ df['boat'].notnull() ]\n",
        "# sns.countplot('survived', data=boat_df)\n",
        "boat_df['survived'].value_counts().plot.pie()\n",
        "boat_df['survived'].value_counts()"
      ],
      "execution_count": null,
      "outputs": [
        {
          "output_type": "execute_result",
          "data": {
            "text/plain": [
              "1    477\n",
              "0      9\n",
              "Name: survived, dtype: int64"
            ]
          },
          "metadata": {
            "tags": []
          },
          "execution_count": 29
        },
        {
          "output_type": "display_data",
          "data": {
            "image/png": "[encoded data removed]",
            "text/plain": [
              "<Figure size 432x288 with 1 Axes>"
            ]
          },
          "metadata": {
            "tags": []
          }
        }
      ]
    }
  ]
}
