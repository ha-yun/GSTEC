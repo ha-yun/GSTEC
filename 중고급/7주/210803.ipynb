{
  "nbformat": 4,
  "nbformat_minor": 0,
  "metadata": {
    "colab": {
      "name": "210803.ipynb",
      "provenance": [],
      "collapsed_sections": [],
      "authorship_tag": "ABX9TyMtScJDa+p47isQroLjeh6J",
      "include_colab_link": true
    },
    "kernelspec": {
      "name": "python3",
      "display_name": "Python 3"
    },
    "language_info": {
      "name": "python"
    }
  },
  "cells": [
    {
      "cell_type": "markdown",
      "metadata": {
        "id": "view-in-github",
        "colab_type": "text"
      },
      "source": [
        "<a href=\"https://colab.research.google.com/github/yun-aha/GSTEC/blob/main/210803.ipynb\" target=\"_parent\"><img src=\"https://colab.research.google.com/assets/colab-badge.svg\" alt=\"Open In Colab\"/></a>"
      ]
    },
    {
      "cell_type": "markdown",
      "metadata": {
        "id": "BKWQkf-BjUu-"
      },
      "source": [
        "# 2. 자연어처리\n",
        "### 김유빈 강사님"
      ]
    },
    {
      "cell_type": "markdown",
      "metadata": {
        "id": "PRiXozxSUWCS"
      },
      "source": [
        "NLP는 단어 혹은 문서의 의미를 나타낼 수 있는 표현을 얻는 것에서부터 시작한다.  \n",
        "가장 간단한 단어의 의미표현 방법으로는 one-hot vector가 있다.!  \n",
        "Distributional semantics  \n",
        "- Document Term Matrix(DTM) - count based  \n",
        "- prediction based - Language models    \n",
        "모델이 단어의 의미를 벡터에 담는 규칙을 스스로 학습하도록 해 dense vector를 얻는..\n"
      ]
    },
    {
      "cell_type": "markdown",
      "metadata": {
        "id": "FnVv3uOqESsL"
      },
      "source": [
        "숙제 : 간단한 purpose를 바탕으로 간단한 document를 만드는 것 . 칼럼을 만들어서 counting  \n",
        "todo를 채워놓으면 된다..."
      ]
    },
    {
      "cell_type": "markdown",
      "metadata": {
        "id": "QYy_MXavHjTX"
      },
      "source": [
        "# 3. 웹 애플리케이션"
      ]
    },
    {
      "cell_type": "code",
      "metadata": {
        "id": "y9_iog5Xf3zS"
      },
      "source": [
        "# gsweb\\articleapp\\views.py\n",
        "from django.urls import reverse_lazy\n",
        "from django.views.generic import CreateView\n",
        "\n",
        "from articleapp.forms import ArticleCreationForm\n",
        "from articleapp.models import Article\n",
        "\n",
        "\n",
        "class ArticleCreateView(CreateView):\n",
        "    model = Article\n",
        "    form_class = ArticleCreationForm\n",
        "    success_url = reverse_lazy('articleapp:list')\n",
        "    template_name = 'articleapp/create.html'\n",
        "\n",
        "# gsweb\\articleapp\\urls.py\n",
        "app_name = 'articleapp'\n",
        "\n",
        "urlpatterns = [\n",
        "    path('list/', TemplateView.as_view(template_name='articleapp/list.html'), name='list'),\n",
        "    path('create/', ArticleCreateView.as_view(), name='create'),\n",
        "]\n"
      ],
      "execution_count": null,
      "outputs": []
    },
    {
      "cell_type": "code",
      "metadata": {
        "id": "QzuIgFuZf31q"
      },
      "source": [
        "# gsweb\\articleapp\\templates\\atricleapp\\create.html\n",
        "{% extends 'base.html' %}\n",
        "{% load bootstrap4 %}\n",
        "\n",
        "\n",
        "{% block content %}\n",
        "\n",
        "    <div class=\"text-center mw-500 m-auto\">\n",
        "        <div>\n",
        "            <h4 class=\"m-5\"> Create Article </h4>\n",
        "        </div>\n",
        "        <div>\n",
        "            <form action=\"{% url 'articleapp:create' %}\"\n",
        "                  method=\"post\" enctype=\"multipart/form-data\">\n",
        "                {% csrf_token %}\n",
        "                {% bootstrap_form form %}\n",
        "                <div class=\"m-5\">\n",
        "                    <input type=\"submit\"\n",
        "                           class=\"btn btn-dark rounded-pill px-5\">\n",
        "                </div>\n",
        "            </form>\n",
        "        </div>\n",
        "    </div>\n",
        "\n",
        "{% endblock %}"
      ],
      "execution_count": null,
      "outputs": []
    },
    {
      "cell_type": "code",
      "metadata": {
        "id": "GEueYqXIoI-E"
      },
      "source": [
        "# gsweb\\articleapp\\views.py\n",
        "class ArticleDetailView(DetailView):\n",
        "    model = Article\n",
        "    context_object_name = 'target_article'\n",
        "    template_name = 'articleapp/detail.html'\n",
        "\n",
        "# gsweb\\articleapp\\urls.py\n",
        "\n",
        "urlpatterns = [\n",
        "    path('list/', TemplateView.as_view(template_name='articleapp/list.html'), name='list'),\n",
        "    path('create/', ArticleCreateView.as_view(), name='create'),\n",
        "    path('detail/<int:pk>', ArticleDetailView.as_view(), name='detail'),\n",
        "]\n"
      ],
      "execution_count": null,
      "outputs": []
    },
    {
      "cell_type": "code",
      "metadata": {
        "id": "DtcXUZIro7Ry"
      },
      "source": [
        "# gsweb\\articleapp\\templates\\articleapp\\detail.html\n",
        "{% extends 'base.html' %}\n",
        "\n",
        "{% block content %}\n",
        "\n",
        "    <div class=\"container\">   {# bootstrap의 class#}\n",
        "        <div>\n",
        "\n",
        "            {#      제목, 글쓴이, 작성일    #}\n",
        "            <h1>{{ target_article.title }}</h1>\n",
        "            <h3>{{ target_article.writer.profile.nickname }}</h3>\n",
        "            <p>{{ target_article.created_at }}</p>\n",
        "        </div>\n",
        "        <div>\n",
        "            {#      게시글 대표이미지, 글 내용     #}\n",
        "            <img src=\"{{ target_article.image.url }}\" alt=\"\">\n",
        "        </div>\n",
        "    </div>\n",
        "\n",
        "\n",
        "{% endblock %}"
      ],
      "execution_count": null,
      "outputs": []
    },
    {
      "cell_type": "code",
      "metadata": {
        "id": "aa17D37WyxaB"
      },
      "source": [
        "# gsweb\\articleapp\\views.py\n",
        "class ArticleUpdateView(UpdateView):\n",
        "    model = Article\n",
        "    form_class = ArticleCreationForm\n",
        "    context_object_name = 'target_article'\n",
        "    template_name = 'articleapp/update.html'\n",
        "\n",
        "    def get_success_url(self):\n",
        "        return reverse('articleapp:detail',kwargs={'pk':self.object.pk})\n",
        "\n",
        "# gsweb\\articleapp\\urls.py\n",
        "urlpatterns = [\n",
        "    path('list/', TemplateView.as_view(template_name='articleapp/list.html'), name='list'),\n",
        "    path('create/', ArticleCreateView.as_view(), name='create'),\n",
        "    path('detail/<int:pk>', ArticleDetailView.as_view(), name='detail'),\n",
        "    path('update/<int:pk>', ArticleUpdateView.as_view(), name='update'),\n",
        "]\n"
      ],
      "execution_count": null,
      "outputs": []
    },
    {
      "cell_type": "code",
      "metadata": {
        "id": "dKhb2oc1yxYA"
      },
      "source": [
        "# gsweb\\articleapp\\templates\\articleapp\\detail.html\n",
        "            <div>\n",
        "                <a href=\"{% url 'articleapp:update' pk=target_article.pk %}\"\n",
        "                class=\"btn btn-success rounded-pill px-5\">\n",
        "                    Update\n",
        "                </a>\n",
        "            </div>"
      ],
      "execution_count": null,
      "outputs": []
    },
    {
      "cell_type": "code",
      "metadata": {
        "id": "0Dfxihg3yxWB"
      },
      "source": [
        "# gsweb\\articleapp\\templates\\articleapp\\update.html\n",
        "{% extends 'base.html' %}\n",
        "{% load bootstrap4 %}\n",
        "\n",
        "\n",
        "{% block content %}\n",
        "\n",
        "    <div class=\"text-center mw-500 m-auto\">\n",
        "        <div>\n",
        "            <h4 class=\"m-5\"> Update Article </h4>\n",
        "        </div>\n",
        "        <div>\n",
        "            <form action=\"{% url 'articleapp:update' pk=target_article.pk %}\"\n",
        "                  method=\"post\" enctype=\"multipart/form-data\">\n",
        "                {% csrf_token %}\n",
        "                {% bootstrap_form form %}\n",
        "                <div class=\"m-5\">\n",
        "                    <input type=\"submit\"\n",
        "                           class=\"btn btn-dark rounded-pill px-5\">\n",
        "                </div>\n",
        "            </form>\n",
        "        </div>\n",
        "    </div>\n",
        "\n",
        "{% endblock %}"
      ],
      "execution_count": null,
      "outputs": []
    },
    {
      "cell_type": "code",
      "metadata": {
        "id": "JLry9YfGyxUB"
      },
      "source": [
        "# gsweb\\articleapp\\views.py\n",
        "class ArticleDeleteView(DeleteView):\n",
        "    model = Article\n",
        "    context_object_name = 'target_article'\n",
        "    success_url = reverse_lazy('articleapp:list')\n",
        "    template_name = 'articleapp/delete.html'\n",
        "\n",
        "# gsweb\\articleapp\\urls.py\n",
        "urlpatterns = [\n",
        "    path('list/', TemplateView.as_view(template_name='articleapp/list.html'), name='list'),\n",
        "    path('create/', ArticleCreateView.as_view(), name='create'),\n",
        "    path('detail/<int:pk>', ArticleDetailView.as_view(), name='detail'),\n",
        "    path('update/<int:pk>', ArticleUpdateView.as_view(), name='update'),\n",
        "    path('delete/<int:pk>', ArticleDeleteView.as_view(), name='delete'),\n",
        "]\n"
      ],
      "execution_count": null,
      "outputs": []
    },
    {
      "cell_type": "code",
      "metadata": {
        "id": "3wEHGAuuyxBp"
      },
      "source": [
        "# gsweb\\articleapp\\templates\\articleapp\\detail.html\n",
        "\n",
        "                <a href=\"{% url 'articleapp:delete' pk=target_article.pk %}\"\n",
        "                class=\"btn btn-danger rounded-pill px-5\">\n",
        "                    Delete\n",
        "                </a>\n",
        "\n",
        "# gsweb\\articleapp\\templates\\articleapp\\delete.html\n",
        "{% extends 'base.html' %}\n",
        "\n",
        "{% block content %}\n",
        "\n",
        "    <div class=\"text-center mw-500 m-auto\">\n",
        "        <div>\n",
        "            <h4 class=\"m-5\"> Delete Article : {{ target_article.title }} </h4>\n",
        "        </div>\n",
        "        <div>\n",
        "            <form action=\"{% url 'articleapp:delete' pk=target_article.pk %}\"\n",
        "                  method=\"post\">\n",
        "                {% csrf_token %}\n",
        "                <div class=\"m-5\">\n",
        "                    <input type=\"submit\"\n",
        "                           class=\"btn btn-danger rounded-pill px-5\"> \n",
        "                </div>\n",
        "            </form>\n",
        "        </div>\n",
        "    </div>\n",
        "\n",
        "{% endblock %}"
      ],
      "execution_count": null,
      "outputs": []
    }
  ]
}
