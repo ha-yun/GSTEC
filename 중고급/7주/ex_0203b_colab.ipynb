{
  "nbformat": 4,
  "nbformat_minor": 0,
  "metadata": {
    "kernelspec": {
      "display_name": "Python 3",
      "language": "python",
      "name": "python3"
    },
    "language_info": {
      "codemirror_mode": {
        "name": "ipython",
        "version": 3
      },
      "file_extension": ".py",
      "mimetype": "text/x-python",
      "name": "python",
      "nbconvert_exporter": "python",
      "pygments_lexer": "ipython3",
      "version": "3.8.8"
    },
    "colab": {
      "name": "ex_0203b_colab.ipynb",
      "provenance": []
    }
  },
  "cells": [
    {
      "cell_type": "markdown",
      "metadata": {
        "id": "IHKC1mySadr6"
      },
      "source": [
        "### 한글 분석기 비교."
      ]
    },
    {
      "cell_type": "markdown",
      "metadata": {
        "id": "mRKckIe5adr8"
      },
      "source": [
        "#### 1. 형태소 분석기 (복습)."
      ]
    },
    {
      "cell_type": "markdown",
      "metadata": {
        "id": "WJEMeU-Sadr9"
      },
      "source": [
        "트위터 형태소 분석기 사용."
      ]
    },
    {
      "cell_type": "code",
      "metadata": {
        "id": "QHO5Dr8FaicO"
      },
      "source": [
        "# 한글 분석 라이브러리 설치.\n",
        "!pip install konlpy"
      ],
      "execution_count": null,
      "outputs": []
    },
    {
      "cell_type": "code",
      "metadata": {
        "id": "w9qWpQ-dadr9"
      },
      "source": [
        "from konlpy.tag import Okt   \n",
        "okt=Okt()   \n",
        "print(okt.morphs(\"멋쟁이사자처럼과 함께 코딩을 배워 보아요\", stem=True))   # 어간추출 적용한 토큰화."
      ],
      "execution_count": null,
      "outputs": []
    },
    {
      "cell_type": "code",
      "metadata": {
        "id": "56LOUqHRadr-"
      },
      "source": [
        "print(okt.nouns(\"멋쟁이사자처럼과 함께 코딩을 배워 보아요\"))  "
      ],
      "execution_count": null,
      "outputs": []
    },
    {
      "cell_type": "code",
      "metadata": {
        "id": "A9MHswNzadr_"
      },
      "source": [
        "print(okt.pos(\"멋쟁이사자처럼과 함께 코딩을 배워 보아요\", stem=True))  # 어간추출 적용한 형태소 분석."
      ],
      "execution_count": null,
      "outputs": []
    },
    {
      "cell_type": "markdown",
      "metadata": {
        "id": "dR54Dud2adr_"
      },
      "source": [
        "꼬꼬마 형태소 분석기 사용."
      ]
    },
    {
      "cell_type": "code",
      "metadata": {
        "id": "oz7OANe0adsA"
      },
      "source": [
        "from konlpy.tag import Kkma   \n",
        "kkma=Kkma()   \n",
        "print(kkma.morphs(\"멋쟁이사자처럼과 함께 코딩을 배워 보아요\")) "
      ],
      "execution_count": null,
      "outputs": []
    },
    {
      "cell_type": "code",
      "metadata": {
        "id": "XcazxAMQadsB"
      },
      "source": [
        "print(kkma.nouns(\"멋쟁이사자처럼과 함께 코딩을 배워 보아요\"))   "
      ],
      "execution_count": null,
      "outputs": []
    },
    {
      "cell_type": "code",
      "metadata": {
        "id": "tQYRLHssadsC"
      },
      "source": [
        "print(kkma.pos(\"멋쟁이사자처럼과 함께 코딩을 배워 보아요\"))  "
      ],
      "execution_count": null,
      "outputs": []
    },
    {
      "cell_type": "markdown",
      "metadata": {
        "id": "XhLDHtBSadsC"
      },
      "source": [
        "#### 2. 한글 철차법 체커: Py-Hanspell."
      ]
    },
    {
      "cell_type": "code",
      "metadata": {
        "id": "gL0ekYugadsC"
      },
      "source": [
        "# 다음을 실행해서 Github에서 가져다 설치할 수 있다.\n",
        "!pip install git+https://github.com/ssut/py-hanspell.git"
      ],
      "execution_count": null,
      "outputs": []
    },
    {
      "cell_type": "code",
      "metadata": {
        "id": "fpAMfFZNadsD"
      },
      "source": [
        "from hanspell import spell_checker"
      ],
      "execution_count": null,
      "outputs": []
    },
    {
      "cell_type": "code",
      "metadata": {
        "id": "1vv05hnxadsD"
      },
      "source": [
        "my_sentence = \"철자법틀리면않돼나? 지금문장이상하다.\"\n",
        "my_sentence_corrected = spell_checker.check(my_sentence).checked\n",
        "print(my_sentence_corrected)      "
      ],
      "execution_count": null,
      "outputs": []
    },
    {
      "cell_type": "markdown",
      "metadata": {
        "id": "dl6KHq6GadsD"
      },
      "source": [
        "#### 3. Customized KoNLPy."
      ]
    },
    {
      "cell_type": "code",
      "metadata": {
        "id": "B0ACW1gFadsD"
      },
      "source": [
        "# 다음과 같이 손쉽게 설치할 수 있다.\n",
        "!pip install customized_konlpy"
      ],
      "execution_count": null,
      "outputs": []
    },
    {
      "cell_type": "code",
      "metadata": {
        "id": "KjtkqHynadsE"
      },
      "source": [
        "from ckonlpy.tag import Twitter        \n",
        "my_twitter=Twitter()   \n",
        "print(my_twitter.morphs(\"멋쟁이사자처럼과 함께 코딩을 배워 보아요\")) "
      ],
      "execution_count": null,
      "outputs": []
    },
    {
      "cell_type": "code",
      "metadata": {
        "id": "z8tz5x2OadsE"
      },
      "source": [
        "print(my_twitter.pos(\"멋쟁이사자처럼과 함께 코딩을 배워 보아요\")) "
      ],
      "execution_count": null,
      "outputs": []
    },
    {
      "cell_type": "code",
      "metadata": {
        "id": "tNZGKfIKadsE"
      },
      "source": [
        "# 단어를 사전에 추가한다.\n",
        "my_twitter.add_dictionary('멋쟁이사자처럼', 'Noun')"
      ],
      "execution_count": null,
      "outputs": []
    },
    {
      "cell_type": "code",
      "metadata": {
        "id": "FFuThVLDadsE"
      },
      "source": [
        "# 다시 실행.\n",
        "print(my_twitter.morphs(\"멋쟁이사자처럼과 함께 코딩을 배워 보아요\")) "
      ],
      "execution_count": null,
      "outputs": []
    },
    {
      "cell_type": "code",
      "metadata": {
        "id": "leREc7fCadsE"
      },
      "source": [
        "# 다시 실행.\n",
        "print(my_twitter.pos(\"멋쟁이사자처럼과 함께 코딩을 배워 보아요\")) "
      ],
      "execution_count": null,
      "outputs": []
    },
    {
      "cell_type": "code",
      "metadata": {
        "id": "hHe_Y8lfadsF"
      },
      "source": [
        ""
      ],
      "execution_count": null,
      "outputs": []
    }
  ]
}