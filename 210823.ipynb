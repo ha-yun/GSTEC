{
  "nbformat": 4,
  "nbformat_minor": 0,
  "metadata": {
    "colab": {
      "name": "210823.ipynb",
      "provenance": [],
      "collapsed_sections": [],
      "authorship_tag": "ABX9TyNJyNGGVyMCtEe2BZPQZpjP",
      "include_colab_link": true
    },
    "kernelspec": {
      "name": "python3",
      "display_name": "Python 3"
    },
    "language_info": {
      "name": "python"
    }
  },
  "cells": [
    {
      "cell_type": "markdown",
      "metadata": {
        "id": "view-in-github",
        "colab_type": "text"
      },
      "source": [
        "<a href=\"https://colab.research.google.com/github/ha-yun/GSTEC/blob/main/210823.ipynb\" target=\"_parent\"><img src=\"https://colab.research.google.com/assets/colab-badge.svg\" alt=\"Open In Colab\"/></a>"
      ]
    },
    {
      "cell_type": "markdown",
      "metadata": {
        "id": "B3i5AViiz_9Q"
      },
      "source": [
        "# 1. 웹 애플리케이션"
      ]
    },
    {
      "cell_type": "markdown",
      "metadata": {
        "id": "C0pYbUYtV1a0"
      },
      "source": [
        "subscribe의 model만들기  \n",
        "Meta클래스는 모델폼을 사용하면서 사용..?  \n",
        "Meta클래스는 외부적인 옵션을 지정해주는 unique_together  \n",
        "\n",
        "model을 변경하였으니 터미널에서  \n",
        "python manage.py makemigrations  \n",
        "python manage.py migrate"
      ]
    },
    {
      "cell_type": "code",
      "metadata": {
        "id": "iJz3TJUVUrON"
      },
      "source": [
        "# subscribeapp/models.py\n",
        "class Subscription(models.Model):\n",
        "    user = models.ForeignKey(User, on_delete=models.CASCADE,\n",
        "                             related_name='subscription', null=False)\n",
        "    project = models.ForeignKey(Project, on_delete=models.CASCADE,\n",
        "                                related_name='subscription', null=False)\n",
        "  \n",
        "    class Meta:\n",
        "        unique_together = ['user','project']"
      ],
      "execution_count": null,
      "outputs": []
    },
    {
      "cell_type": "markdown",
      "metadata": {
        "id": "mt7K48MEd5db"
      },
      "source": [
        "subscription view"
      ]
    },
    {
      "cell_type": "code",
      "metadata": {
        "id": "CyrqM1apX2xc"
      },
      "source": [
        "# subscribeapp/views.py\n",
        "@method_decorator(login_required, 'get')\n",
        "class SubscriptionView(RedirectView):\n",
        "\n",
        "    def get(self, request, *args, **kwargs):\n",
        "        user = request.user\n",
        "        project = Project.objects.get(pk=kwargs['project_pk'])\n",
        "        subscription = Subscription.objects.filter(user=user,\n",
        "                                                   project=project)\n",
        "        if subscription.exists():\n",
        "            subscription.delete()\n",
        "        else:\n",
        "            Subscription(user=user, project=project).save()\n",
        "\n",
        "        return super().get(request, *args, **kwargs)\n",
        "\n",
        "    def get_redirect_url(self, *args, **kwargs):\n",
        "        return reverse('projectapp:detail', kwargs={'pk' : kwargs['project_pk']}) \n",
        "\n",
        "\n",
        "# subscribeapp/urls.py\n",
        "\n",
        "app_name = 'subscribeapp'\n",
        "\n",
        "urlpatterns=[\n",
        "    path('subscribe/<int:project_pk>', SubscriptionView.as_view(), name='subscribe'),\n",
        "] "
      ],
      "execution_count": null,
      "outputs": []
    },
    {
      "cell_type": "code",
      "metadata": {
        "id": "Q8HqZ2XFeE7k"
      },
      "source": [
        "# projectapp/templates/projectapp/detail.html\n",
        "    <div class=\"text-center\">\n",
        "        <a href=\"{% url 'subscribeapp:subscribe' project_pk=target_project.pk %}\"\n",
        "            class=\"btn btn-primary rounded-pill px-5\">\n",
        "            Subscribe\n",
        "        </a>\n",
        "    </div>"
      ],
      "execution_count": null,
      "outputs": []
    },
    {
      "cell_type": "code",
      "metadata": {
        "id": "JT_g6qkMoHdE"
      },
      "source": [
        "# projectapp/views.py\n",
        "class ProjectDetailView(DetailView, MultipleObjectMixin):\n",
        "    model = Project\n",
        "    context_object_name = 'target_project'\n",
        "    template_name = 'projectapp/detail.html'\n",
        "\n",
        "    paginate_by = 20\n",
        "\n",
        "    def get_context_data(self, **kwargs):\n",
        "        user = self.request.user\n",
        "        project = self.object\n",
        "\n",
        "        if user.is_authenticated:\n",
        "            subscription = Subscription.objects.filter(user=user,\n",
        "                                                       project=project)\n",
        "        else:\n",
        "            subscription = None\n",
        "\n",
        "        article_list = Article.objects.filter(project=self.object)\n",
        "        return super().get_context_data(object_list=article_list,\n",
        "                                        subscription=subscription,\n",
        "                                        **kwargs)"
      ],
      "execution_count": null,
      "outputs": []
    },
    {
      "cell_type": "code",
      "metadata": {
        "id": "EtAj3CAMoPOH"
      },
      "source": [
        "# projectapp/templates/projectapp/detail.html\n",
        "    {% if user.is_authenticated %}\n",
        "    <div class=\"text-center\">\n",
        "        {% if not subscription %}\n",
        "        <a href=\"{% url 'subscribeapp:subscribe' project_pk=target_project.pk %}\"\n",
        "           class=\"btn btn-primary rounded-pill px-5\">\n",
        "            Subscribe\n",
        "        </a>\n",
        "        {% else %}\n",
        "        <a href=\"{% url 'subscribeapp:subscribe' project_pk=target_project.pk %}\"\n",
        "           class=\"btn btn-secondary rounded-pill px-5\">\n",
        "            Unsubscribe\n",
        "        </a>\n",
        "        {% endif %}\n",
        "    </div>\n",
        "    {% endif %}"
      ],
      "execution_count": null,
      "outputs": []
    },
    {
      "cell_type": "markdown",
      "metadata": {
        "id": "KVACW58JpyFK"
      },
      "source": [
        "field lookup : project__in"
      ]
    },
    {
      "cell_type": "code",
      "metadata": {
        "id": "rg_bhc3GoVY3"
      },
      "source": [
        "# subscribeapp/views.py\n",
        "\n",
        "class SubscriptionListView(ListView):\n",
        "    model = Article\n",
        "    context_object_name = 'article_list'\n",
        "    template_name = 'subscribeapp/list.html'\n",
        "\n",
        "    paginate_by = 20\n",
        "\n",
        "    def get_queryset(self):\n",
        "        project_list = Subscription.objects.filter(user=self.request.user).values_list('project')\n",
        "        article_list = Article.objects.filter(project__in=project_list)\n",
        "        return article_list\n",
        "\n",
        "\n",
        "# subscribeapp/urls.py\n",
        "path('list/', SubscriptionListView.as_view(), name='list'),"
      ],
      "execution_count": null,
      "outputs": []
    },
    {
      "cell_type": "code",
      "metadata": {
        "id": "tlF_BWdUz00Z"
      },
      "source": [
        "# subscribeapp/templates/subscribeapp/list.html\n",
        "{% extends 'base.html' %}\n",
        "\n",
        "{% block content %}\n",
        "\n",
        "    <div>\n",
        "        {% include 'snippets/list_fragment.html' %}\n",
        "    </div>\n",
        "\n",
        "{% endblock %} \n",
        "\n",
        "\n",
        "# templates/header.html\n",
        "       <span>\n",
        "            <a href=\"{% url 'subscribeapp:list' %}\">\n",
        "                Subscription\n",
        "            </a>\n",
        "        </span>"
      ],
      "execution_count": null,
      "outputs": []
    },
    {
      "cell_type": "markdown",
      "metadata": {
        "id": "jM5YbYeEz9xR"
      },
      "source": [
        "# 4. 머신러닝"
      ]
    },
    {
      "cell_type": "code",
      "metadata": {
        "id": "i2lvoIXY8i4J"
      },
      "source": [
        "# 210819.ipynb"
      ],
      "execution_count": null,
      "outputs": []
    }
  ]
}