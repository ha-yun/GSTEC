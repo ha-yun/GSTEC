{
  "nbformat": 4,
  "nbformat_minor": 0,
  "metadata": {
    "colab": {
      "name": "210802.ipynb",
      "provenance": [],
      "collapsed_sections": [],
      "authorship_tag": "ABX9TyPk4rd8P/GM5YB2FVGvNN1K",
      "include_colab_link": true
    },
    "kernelspec": {
      "name": "python3",
      "display_name": "Python 3"
    },
    "language_info": {
      "name": "python"
    }
  },
  "cells": [
    {
      "cell_type": "markdown",
      "metadata": {
        "id": "view-in-github",
        "colab_type": "text"
      },
      "source": [
        "<a href=\"https://colab.research.google.com/github/yun-aha/GSTEC/blob/main/210802.ipynb\" target=\"_parent\"><img src=\"https://colab.research.google.com/assets/colab-badge.svg\" alt=\"Open In Colab\"/></a>"
      ]
    },
    {
      "cell_type": "markdown",
      "metadata": {
        "id": "H16uSaCNLUQo"
      },
      "source": [
        "# 1. 웹 애플리케이션"
      ]
    },
    {
      "cell_type": "markdown",
      "metadata": {
        "id": "RCWURdBhLUMo"
      },
      "source": [
        "static구문을 사용하기 위해서는 load static구문을 사용해주어야 한다.\n"
      ]
    },
    {
      "cell_type": "code",
      "metadata": {
        "id": "hurYyVNHKpM7"
      },
      "source": [
        "# static안에 js디렉토리생성, magicgrid.js 생성\n",
        "# https://github.com/e-oj/Magic-Grid 에서 Magic-Grid/dist/magic-grid.cjs.js 파일내용을 copy해서 넣어준 후\n",
        "module.exports = MagicGrid;  # 마지막에 있는 모듈은 장고에서는 쓰지 않기 때문에 지워준다. 다른 웹프레임워크에서 사용해주는 것.,\n",
        "\n",
        "# https://jsfiddle.net/eolaojo/4pov0rdf/의 JavaScript + No-Library (pure JS)코드를 copy해서 밑에 추가해준다.\n",
        "let magicGrid = new MagicGrid({\n",
        "  container: '.container',\n",
        "  animate: true,\n",
        "  gutter: 30,\n",
        "  static: true,\n",
        "  useMin: true\n",
        "});\n",
        "\n",
        "magicGrid.listen();"
      ],
      "execution_count": null,
      "outputs": []
    },
    {
      "cell_type": "code",
      "metadata": {
        "id": "NEvpV4d8LT25"
      },
      "source": [
        "# gsweb\\articleapp\\templates\\articleapp\\list.html\n",
        "{% extends 'base.html' %}\n",
        "{% load static %}\n",
        "{% block content %}\n",
        "\n",
        "    <script src=\"{% static 'js/magicgrid.js' %}\">\n",
        "    </script>"
      ],
      "execution_count": null,
      "outputs": []
    },
    {
      "cell_type": "markdown",
      "metadata": {
        "id": "voPano7NTkr4"
      },
      "source": [
        "lorem picsum : 로렘입섬을 오마주한 웹서비스 임의의 이미지를 갖다줌\n"
      ]
    },
    {
      "cell_type": "code",
      "metadata": {
        "id": "mJNK9OopLTux"
      },
      "source": [
        "# gsweb\\articleapp\\templates\\articleapp\\list.html\n",
        "{% extends 'base.html' %}\n",
        "{% load static %}\n",
        "{% block content %}\n",
        "\n",
        "    <style>\n",
        "        .container div {\n",
        "          width: 280px;\n",
        "          background-color: lightseagreen;\n",
        "          display: flex;\n",
        "          justify-content: center;\n",
        "          align-items: center;\n",
        "          border-radius: 1rem;\n",
        "        }\n",
        "    .container img{\n",
        "        width: 100%;\n",
        "        border-radius: 1rem;\n",
        "    }\n",
        "    </style>\n",
        "\n",
        "\n",
        "    <!DOCTYPE html>\n",
        "<div class=\"container my-4\">\n",
        "  <div class=\"item1\"><img src=\"https://picsum.photos/200/300\" alt=\"\"></div>   # 로렘픽섬의 주소를 불러온다. 맨 마지막 숫자는 높이\n",
        "  <div class=\"item2\"><img src=\"https://picsum.photos/200/333\" alt=\"\"></div>\n",
        "  <div class=\"item3\"><img src=\"https://picsum.photos/200/500\" alt=\"\"></div>\n",
        "  <div class=\"item4\"><img src=\"https://picsum.photos/200/100\" alt=\"\"></div>\n",
        "  <div class=\"item5\"><img src=\"https://picsum.photos/200/300\" alt=\"\"></div>\n",
        "  <div class=\"item6\"><img src=\"https://picsum.photos/200/200\" alt=\"\"></div>\n",
        "  <div class=\"item7\"><img src=\"https://picsum.photos/200/300\" alt=\"\"></div>\n",
        "  <div class=\"item8\"><img src=\"https://picsum.photos/200/400\" alt=\"\"></div>\n",
        "  <div class=\"item9\"><img src=\"https://picsum.photos/200/300\" alt=\"\"></div>\n",
        "  <div class=\"item10\"><img src=\"https://picsum.photos/200/700\" alt=\"\"></div>\n",
        "  <div class=\"item11\"><img src=\"https://picsum.photos/200/200\" alt=\"\"></div>\n",
        "  <div class=\"item12\"><img src=\"https://picsum.photos/200/600\" alt=\"\"></div>\n",
        "  <div class=\"item13\"><img src=\"https://picsum.photos/200/200\" alt=\"\"></div>\n",
        "</div>\n",
        "\n",
        "    <script src=\"{% static 'js/magicgrid.js' %}\">\n",
        "    </script>\n",
        "{% endblock %}"
      ],
      "execution_count": null,
      "outputs": []
    },
    {
      "cell_type": "code",
      "metadata": {
        "id": "jtHP7iPELTqy"
      },
      "source": [
        "# gsweb\\static\\js\\magicgrid.js\n",
        "var masonrys = document.getElementsByTagName(\"img\") # document = list.html\n",
        "for (let i=0; i < masonrys.length; i++){\n",
        "  masonrys[i].addEventListener('load', function (){\n",
        "    magicGrid.positionItems();\n",
        "  }, false)\n",
        "}\n",
        "# EventListener 이벤트가 일어나는 걸 감시하는, 어떤 이벤트가 일어났을 때 어떤 function을 실행하겠다라고 적음 (magicGrid.positionitems)\n",
        "# => 로드 이벤트가 일어날 때 위치를 재조정한다!"
      ],
      "execution_count": null,
      "outputs": []
    },
    {
      "cell_type": "code",
      "metadata": {
        "id": "qB1LXAzSfM2J"
      },
      "source": [
        "# gsweb\\articleapp\\models.py\n",
        "class Article(models.Model):\n",
        "    writer = models.ForeignKey(User, on_delete=models.SET_NULL,\n",
        "                               related_name='article',\n",
        "                               null=True)\n",
        "    title = models.CharField(max_length=200, null=True)\n",
        "    image = models.ImageField(upload_to='article/', null=True)\n",
        "    content = models.TextField(null=True)\n",
        "\n",
        "    created_at = models.DateField(auto_now_add=True, null=True)"
      ],
      "execution_count": null,
      "outputs": []
    },
    {
      "cell_type": "markdown",
      "metadata": {
        "id": "EVbta8kviO2P"
      },
      "source": [
        "model을 만들었기 때문에  \n",
        "python manage.py makemigrations\n",
        "python manage.py migrate\n"
      ]
    },
    {
      "cell_type": "code",
      "metadata": {
        "id": "D4Oz40XoiT33"
      },
      "source": [
        "# articleapp/forms.py\n",
        "from django.forms import ModelForm\n",
        "\n",
        "from articleapp.models import Article\n",
        "\n",
        "\n",
        "class ArticleCreationForm(ModelForm):\n",
        "    class Meta:\n",
        "        model = Article\n",
        "        fields = ['title', 'image', 'content']"
      ],
      "execution_count": null,
      "outputs": []
    },
    {
      "cell_type": "markdown",
      "metadata": {
        "id": "-W1meVkSpEE6"
      },
      "source": [
        "# 2. 알고리즘"
      ]
    },
    {
      "cell_type": "code",
      "metadata": {
        "id": "MPBf9GWoiT9I"
      },
      "source": [
        "# 큐를 원형큐로 풀이\n",
        "# [..., 1,2,3,4, ...]\n",
        "class Queue:\n",
        "    def __init__(self, length):\n",
        "        self.array = [None for _ in range(length+1)]\n",
        "        self.f_idx = 0\n",
        "        self.b_idx = 0\n",
        "    \n",
        "    def push(self, num):\n",
        "        if self.is_full():\n",
        "            return -1\n",
        "        \n",
        "        self.array[self.b_idx] = num\n",
        "        self.b_idx = (self.b_idx + 1) % len(self.array)\n",
        "\n",
        "    def pop(self):\n",
        "        if self.is_empty():\n",
        "            return -1\n",
        "\n",
        "        self.f_idx = (self.f_idx + 1) % len(self.array)\n",
        "        last_val = self.array[self.f_idx-1]\n",
        "        self.array[self.f_idx-1] = None\n",
        "        return last_val\n",
        "\n",
        "    def size(self):\n",
        "        return (self.b_idx + len(self.array) - self.f_idx) % len(self.array)\n",
        "\n",
        "    def empty(self):\n",
        "        return int(self.is_empty())\n",
        "\n",
        "    def front(self):\n",
        "        if self.is_empty():\n",
        "            return -1\n",
        "\n",
        "        return self.array[self.f_idx]\n",
        "\n",
        "    def back(self):\n",
        "        if self.is_empty():\n",
        "            return -1\n",
        "\n",
        "        return self.array[self.b_idx-1]\n",
        "\n",
        "    def is_empty(self):\n",
        "        return self.size() == 0\n",
        "\n",
        "    def is_full(self):\n",
        "        # return self.size() == len(self.array)\n",
        "        return (self.b_idx + 1) % len(self.array) == self.f_idx\n",
        "\n",
        "def run_cmd_with_queue(command, queue_obj):\n",
        "    cmd_type = command[0]\n",
        "\n",
        "    if cmd_type == \"push\":\n",
        "        _, num = command\n",
        "        res = queue_obj.push(int(num))\n",
        "        \n",
        "        if res:\n",
        "            print(res)\n",
        "    elif cmd_type == \"pop\":\n",
        "        print(queue_obj.pop())\n",
        "    elif cmd_type == \"size\":\n",
        "        print(queue_obj.size())\n",
        "    elif cmd_type == \"empty\":\n",
        "        print(queue_obj.empty())\n",
        "    elif cmd_type == \"front\":\n",
        "        print(queue_obj.front())\n",
        "    elif cmd_type == \"back\":\n",
        "        print(queue_obj.back())\n",
        "\n",
        "n = int(input())\n",
        "queue_obj = Queue(4)\n",
        "\n",
        "for _ in range(n):\n",
        "    run_cmd_with_queue(input().split(), queue_obj)\n",
        "    print(f\"f_idx: {queue_obj.f_idx}\")\n",
        "    print(f\"b_idx: {queue_obj.b_idx}\")\n",
        "    print(f\"size: {queue_obj.size()}\")\n",
        "    print(queue_obj.array)"
      ],
      "execution_count": null,
      "outputs": []
    },
    {
      "cell_type": "markdown",
      "metadata": {
        "id": "OaH795Gs1GpI"
      },
      "source": [
        "큐 추가 문제(카드2, 회전하는 큐)"
      ]
    },
    {
      "cell_type": "code",
      "metadata": {
        "colab": {
          "base_uri": "https://localhost:8080/"
        },
        "id": "MY0f_Szp1G7K",
        "outputId": "8ea7f897-4516-4203-984c-a653e3404ab1"
      },
      "source": [
        "# 1\n",
        "N = int(input())\n",
        "N_list = [i+1 for i in range(N)]\n",
        "while len(N_list)>0:\n",
        "  first = N_list[0]\n",
        "  N_list.pop(0)\n",
        "  if len(N_list)==0:\n",
        "    print(first)\n",
        "  else:\n",
        "    two = N_list[0]\n",
        "    N_list.pop(0)\n",
        "    N_list.append(two)"
      ],
      "execution_count": null,
      "outputs": [
        {
          "output_type": "stream",
          "text": [
            "4\n",
            "4\n"
          ],
          "name": "stdout"
        }
      ]
    },
    {
      "cell_type": "code",
      "metadata": {
        "colab": {
          "base_uri": "https://localhost:8080/"
        },
        "id": "C0ZsyN5W0CiQ",
        "outputId": "78636ed5-06af-4585-a38f-cfa89b45e953"
      },
      "source": [
        "# 다른 분이 푸신거!\n",
        "n = int(input())\n",
        "a = [i for i in range(1,n+1)]\n",
        "while len(a) > 1:\n",
        "  a = a[2:] + a[1:2]\n",
        "print(a)"
      ],
      "execution_count": null,
      "outputs": [
        {
          "output_type": "stream",
          "text": [
            "2\n",
            "[2]\n"
          ],
          "name": "stdout"
        }
      ]
    },
    {
      "cell_type": "code",
      "metadata": {
        "colab": {
          "base_uri": "https://localhost:8080/"
        },
        "id": "Nya_GLiS1HTQ",
        "outputId": "acf185f6-c52b-43ef-aa45-cac44f0674ce"
      },
      "source": [
        "# 2\n",
        "import collections\n",
        "N, M = list(map(int,input().split()))\n",
        "N_list = [i+1 for i in range(N)]\n",
        "queue = collections.deque(N_list)\n",
        "\n",
        "p_list = list(map(int,input().split()))\n",
        "cnt=0\n",
        "while len(queue) != (N-M):\n",
        "  first = queue[0]\n",
        "  if first == p_list[0]:\n",
        "    queue.popleft()\n",
        "    p_list.pop(0)\n",
        "  else:\n",
        "    if queue.index(p_list[0])>len(queue)//2:\n",
        "      last = queue[-1]\n",
        "      queue.pop()\n",
        "      queue.appendleft(last)\n",
        "    else:\n",
        "      queue.popleft()\n",
        "      queue.append(first)\n",
        "    cnt+=1\n",
        "print(cnt)"
      ],
      "execution_count": null,
      "outputs": [
        {
          "output_type": "stream",
          "text": [
            "32 6\n",
            "27 16 30 11 6 23\n",
            "59\n"
          ],
          "name": "stdout"
        }
      ]
    },
    {
      "cell_type": "code",
      "metadata": {
        "colab": {
          "base_uri": "https://localhost:8080/"
        },
        "id": "NfbDkFSGDkyT",
        "outputId": "dca3308a-1cd2-4f0f-e6ff-b9c456edf337"
      },
      "source": [
        "# 2 - rotate\n",
        "import collections\n",
        "N, M = list(map(int,input().split()))\n",
        "N_list = [i+1 for i in range(N)]\n",
        "queue = collections.deque(N_list)\n",
        "\n",
        "p_list = list(map(int,input().split()))\n",
        "cnt=0\n",
        "while len(queue) != (N-M):\n",
        "  first = queue[0]\n",
        "  if first == p_list[0]:\n",
        "    queue.popleft()\n",
        "    p_list.pop(0)\n",
        "  else:\n",
        "    if queue.index(p_list[0])>len(queue)//2:\n",
        "      queue.rotate(1)\n",
        "    else:\n",
        "      queue.rotate(-1)\n",
        "    cnt+=1\n",
        "print(cnt)"
      ],
      "execution_count": null,
      "outputs": [
        {
          "output_type": "stream",
          "text": [
            "10 10\n",
            "1 6 3 2 7 9 8 4 10 5\n",
            "14\n"
          ],
          "name": "stdout"
        }
      ]
    },
    {
      "cell_type": "markdown",
      "metadata": {
        "id": "SFrtPXG7WopH"
      },
      "source": [
        "# 3. 딥러닝"
      ]
    },
    {
      "cell_type": "code",
      "metadata": {
        "id": "HD5uTKn2Wo5n"
      },
      "source": [
        "import numpy as np\n",
        "import pandas as pd\n",
        "import tensorflow as tf\n",
        "import matplotlib.pyplot as plt\n",
        "import csv"
      ],
      "execution_count": null,
      "outputs": []
    },
    {
      "cell_type": "code",
      "metadata": {
        "colab": {
          "base_uri": "https://localhost:8080/"
        },
        "id": "sKRyS6YbWpS-",
        "outputId": "0891088a-7688-4d34-8e15-366ac9247a63"
      },
      "source": [
        "# kaggle에 있는 데이터\n",
        "df = pd.read_csv('/content/pulsar_stars.csv')\n",
        "df.info()"
      ],
      "execution_count": null,
      "outputs": [
        {
          "output_type": "stream",
          "text": [
            "<class 'pandas.core.frame.DataFrame'>\n",
            "RangeIndex: 17898 entries, 0 to 17897\n",
            "Data columns (total 9 columns):\n",
            " #   Column                                         Non-Null Count  Dtype  \n",
            "---  ------                                         --------------  -----  \n",
            " 0    Mean of the integrated profile                17898 non-null  float64\n",
            " 1    Standard deviation of the integrated profile  17898 non-null  float64\n",
            " 2    Excess kurtosis of the integrated profile     17898 non-null  float64\n",
            " 3    Skewness of the integrated profile            17898 non-null  float64\n",
            " 4    Mean of the DM-SNR curve                      17898 non-null  float64\n",
            " 5    Standard deviation of the DM-SNR curve        17898 non-null  float64\n",
            " 6    Excess kurtosis of the DM-SNR curve           17898 non-null  float64\n",
            " 7    Skewness of the DM-SNR curve                  17898 non-null  float64\n",
            " 8   target_class                                   17898 non-null  int64  \n",
            "dtypes: float64(8), int64(1)\n",
            "memory usage: 1.2 MB\n"
          ],
          "name": "stdout"
        }
      ]
    },
    {
      "cell_type": "code",
      "metadata": {
        "colab": {
          "base_uri": "https://localhost:8080/",
          "height": 382
        },
        "id": "Bmq6ulrtYplr",
        "outputId": "c76aff8d-0f36-416a-8f81-4dfe1a327c14"
      },
      "source": [
        "df.describe()"
      ],
      "execution_count": null,
      "outputs": [
        {
          "output_type": "execute_result",
          "data": {
            "text/html": [
              "<div>\n",
              "<style scoped>\n",
              "    .dataframe tbody tr th:only-of-type {\n",
              "        vertical-align: middle;\n",
              "    }\n",
              "\n",
              "    .dataframe tbody tr th {\n",
              "        vertical-align: top;\n",
              "    }\n",
              "\n",
              "    .dataframe thead th {\n",
              "        text-align: right;\n",
              "    }\n",
              "</style>\n",
              "<table border=\"1\" class=\"dataframe\">\n",
              "  <thead>\n",
              "    <tr style=\"text-align: right;\">\n",
              "      <th></th>\n",
              "      <th>Mean of the integrated profile</th>\n",
              "      <th>Standard deviation of the integrated profile</th>\n",
              "      <th>Excess kurtosis of the integrated profile</th>\n",
              "      <th>Skewness of the integrated profile</th>\n",
              "      <th>Mean of the DM-SNR curve</th>\n",
              "      <th>Standard deviation of the DM-SNR curve</th>\n",
              "      <th>Excess kurtosis of the DM-SNR curve</th>\n",
              "      <th>Skewness of the DM-SNR curve</th>\n",
              "      <th>target_class</th>\n",
              "    </tr>\n",
              "  </thead>\n",
              "  <tbody>\n",
              "    <tr>\n",
              "      <th>count</th>\n",
              "      <td>17898.000000</td>\n",
              "      <td>17898.000000</td>\n",
              "      <td>17898.000000</td>\n",
              "      <td>17898.000000</td>\n",
              "      <td>17898.000000</td>\n",
              "      <td>17898.000000</td>\n",
              "      <td>17898.000000</td>\n",
              "      <td>17898.000000</td>\n",
              "      <td>17898.000000</td>\n",
              "    </tr>\n",
              "    <tr>\n",
              "      <th>mean</th>\n",
              "      <td>111.079968</td>\n",
              "      <td>46.549532</td>\n",
              "      <td>0.477857</td>\n",
              "      <td>1.770279</td>\n",
              "      <td>12.614400</td>\n",
              "      <td>26.326515</td>\n",
              "      <td>8.303556</td>\n",
              "      <td>104.857709</td>\n",
              "      <td>0.091574</td>\n",
              "    </tr>\n",
              "    <tr>\n",
              "      <th>std</th>\n",
              "      <td>25.652935</td>\n",
              "      <td>6.843189</td>\n",
              "      <td>1.064040</td>\n",
              "      <td>6.167913</td>\n",
              "      <td>29.472897</td>\n",
              "      <td>19.470572</td>\n",
              "      <td>4.506092</td>\n",
              "      <td>106.514540</td>\n",
              "      <td>0.288432</td>\n",
              "    </tr>\n",
              "    <tr>\n",
              "      <th>min</th>\n",
              "      <td>5.812500</td>\n",
              "      <td>24.772042</td>\n",
              "      <td>-1.876011</td>\n",
              "      <td>-1.791886</td>\n",
              "      <td>0.213211</td>\n",
              "      <td>7.370432</td>\n",
              "      <td>-3.139270</td>\n",
              "      <td>-1.976976</td>\n",
              "      <td>0.000000</td>\n",
              "    </tr>\n",
              "    <tr>\n",
              "      <th>25%</th>\n",
              "      <td>100.929688</td>\n",
              "      <td>42.376018</td>\n",
              "      <td>0.027098</td>\n",
              "      <td>-0.188572</td>\n",
              "      <td>1.923077</td>\n",
              "      <td>14.437332</td>\n",
              "      <td>5.781506</td>\n",
              "      <td>34.960504</td>\n",
              "      <td>0.000000</td>\n",
              "    </tr>\n",
              "    <tr>\n",
              "      <th>50%</th>\n",
              "      <td>115.078125</td>\n",
              "      <td>46.947479</td>\n",
              "      <td>0.223240</td>\n",
              "      <td>0.198710</td>\n",
              "      <td>2.801839</td>\n",
              "      <td>18.461316</td>\n",
              "      <td>8.433515</td>\n",
              "      <td>83.064556</td>\n",
              "      <td>0.000000</td>\n",
              "    </tr>\n",
              "    <tr>\n",
              "      <th>75%</th>\n",
              "      <td>127.085938</td>\n",
              "      <td>51.023202</td>\n",
              "      <td>0.473325</td>\n",
              "      <td>0.927783</td>\n",
              "      <td>5.464256</td>\n",
              "      <td>28.428104</td>\n",
              "      <td>10.702959</td>\n",
              "      <td>139.309331</td>\n",
              "      <td>0.000000</td>\n",
              "    </tr>\n",
              "    <tr>\n",
              "      <th>max</th>\n",
              "      <td>192.617188</td>\n",
              "      <td>98.778911</td>\n",
              "      <td>8.069522</td>\n",
              "      <td>68.101622</td>\n",
              "      <td>223.392140</td>\n",
              "      <td>110.642211</td>\n",
              "      <td>34.539844</td>\n",
              "      <td>1191.000837</td>\n",
              "      <td>1.000000</td>\n",
              "    </tr>\n",
              "  </tbody>\n",
              "</table>\n",
              "</div>"
            ],
            "text/plain": [
              "        Mean of the integrated profile  ...  target_class\n",
              "count                     17898.000000  ...  17898.000000\n",
              "mean                        111.079968  ...      0.091574\n",
              "std                          25.652935  ...      0.288432\n",
              "min                           5.812500  ...      0.000000\n",
              "25%                         100.929688  ...      0.000000\n",
              "50%                         115.078125  ...      0.000000\n",
              "75%                         127.085938  ...      0.000000\n",
              "max                         192.617188  ...      1.000000\n",
              "\n",
              "[8 rows x 9 columns]"
            ]
          },
          "metadata": {
            "tags": []
          },
          "execution_count": 4
        }
      ]
    },
    {
      "cell_type": "code",
      "metadata": {
        "colab": {
          "base_uri": "https://localhost:8080/"
        },
        "id": "sgUI-6CAYpok",
        "outputId": "44fb9c29-622a-4b3f-fcfa-ea5765bbb16f"
      },
      "source": [
        "set(df['target_class'])"
      ],
      "execution_count": null,
      "outputs": [
        {
          "output_type": "execute_result",
          "data": {
            "text/plain": [
              "{0, 1}"
            ]
          },
          "metadata": {
            "tags": []
          },
          "execution_count": 5
        }
      ]
    },
    {
      "cell_type": "code",
      "metadata": {
        "id": "O2V6GEjoYprd"
      },
      "source": [
        "with open('/content/pulsar_stars.csv') as csvfile:\n",
        "  csvreader = csv.reader(csvfile)\n",
        "  next(csvreader)\n",
        "  rows = []\n",
        "  \n",
        "  for row in csvreader:\n",
        "    rows.append(row)\n",
        "\n",
        "data = np.asarray(rows, dtype = 'float32')\n",
        "input_cnt, output_cnt = 8,1"
      ],
      "execution_count": null,
      "outputs": []
    },
    {
      "cell_type": "code",
      "metadata": {
        "colab": {
          "base_uri": "https://localhost:8080/"
        },
        "id": "ZTJrchuWYpuQ",
        "outputId": "30fe3004-2aed-4840-e8c0-d66b983ca015"
      },
      "source": [
        "data[:][0]"
      ],
      "execution_count": null,
      "outputs": [
        {
          "output_type": "execute_result",
          "data": {
            "text/plain": [
              "array([140.5625    ,  55.68378   ,  -0.23457141,  -0.6996484 ,\n",
              "         3.1998327 ,  19.110426  ,   7.9755316 ,  74.242226  ,\n",
              "         0.        ], dtype=float32)"
            ]
          },
          "metadata": {
            "tags": []
          },
          "execution_count": 8
        }
      ]
    },
    {
      "cell_type": "code",
      "metadata": {
        "colab": {
          "base_uri": "https://localhost:8080/"
        },
        "id": "qPn8rEiFaDOZ",
        "outputId": "4219bad6-7d8e-4ff6-abe5-d5109dcc5c09"
      },
      "source": [
        "train_ratio = 0.8\n",
        "mb_size = 32\n",
        "\n",
        "test_begin_index = int(data.shape[0] * train_ratio)\n",
        "print('test_begin_index : ', test_begin_index)"
      ],
      "execution_count": null,
      "outputs": [
        {
          "output_type": "stream",
          "text": [
            "test_begin_index :  14318\n"
          ],
          "name": "stdout"
        }
      ]
    },
    {
      "cell_type": "code",
      "metadata": {
        "colab": {
          "base_uri": "https://localhost:8080/"
        },
        "id": "l5Pcmy0raDQ3",
        "outputId": "b4fe982e-a9ec-4b7d-aee9-95228ed260ba"
      },
      "source": [
        "shuffle_map = np.arange(data.shape[0])\n",
        "np.random.seed(1234)  # ?팀원들끼리 값을 맞춰줄때.. \n",
        "\n",
        "np.random.shuffle(shuffle_map)\n",
        "print(shuffle_map[:5])"
      ],
      "execution_count": null,
      "outputs": [
        {
          "output_type": "stream",
          "text": [
            "[ 9375  1570 15443 14077  6079]\n"
          ],
          "name": "stdout"
        }
      ]
    },
    {
      "cell_type": "code",
      "metadata": {
        "id": "mjxFCi_saDTG"
      },
      "source": [
        "train_data = data[shuffle_map[:test_begin_index]]\n",
        "test_data = data[shuffle_map[test_begin_index:]]"
      ],
      "execution_count": null,
      "outputs": []
    },
    {
      "cell_type": "code",
      "metadata": {
        "colab": {
          "base_uri": "https://localhost:8080/"
        },
        "id": "x0zYXTGibSd_",
        "outputId": "c4951e8c-cf38-4d51-bb68-66babda85828"
      },
      "source": [
        "train_x, train_y = train_data[:, :-output_cnt], train_data[:, -output_cnt:]\n",
        "test_x, test_y = test_data[:, :-output_cnt], test_data[:, -output_cnt:]\n",
        "\n",
        "print(train_x.shape)\n",
        "print(train_y.shape)\n",
        "print(test_x.shape)\n",
        "print(test_y.shape)"
      ],
      "execution_count": null,
      "outputs": [
        {
          "output_type": "stream",
          "text": [
            "(14318, 8)\n",
            "(14318, 1)\n",
            "(3580, 8)\n",
            "(3580, 1)\n"
          ],
          "name": "stdout"
        }
      ]
    },
    {
      "cell_type": "code",
      "metadata": {
        "id": "UXNwJGUqb8iJ"
      },
      "source": [
        "pulsar_DNN_drop_sigmoid = tf.keras.Sequential([\n",
        "                                               tf.keras.layers.Dense(units=128, activation='relu', input_shape = (8,)),\n",
        "                                               tf.keras.layers.Dense(units=64, activation='relu'),\n",
        "                                               tf.keras.layers.Dropout(rate = 0.5),\n",
        "                                               tf.keras.layers.Dense(units=32, activation='relu'),\n",
        "                                               tf.keras.layers.Dense(units=1, activation='sigmoid')\n",
        "])"
      ],
      "execution_count": null,
      "outputs": []
    },
    {
      "cell_type": "code",
      "metadata": {
        "colab": {
          "base_uri": "https://localhost:8080/"
        },
        "id": "4fb78SfqcGZl",
        "outputId": "4c7a6e9f-1595-4a8d-8e8b-625c9b57d745"
      },
      "source": [
        "pulsar_DNN_drop_sigmoid.summary()"
      ],
      "execution_count": null,
      "outputs": [
        {
          "output_type": "stream",
          "text": [
            "Model: \"sequential_4\"\n",
            "_________________________________________________________________\n",
            "Layer (type)                 Output Shape              Param #   \n",
            "=================================================================\n",
            "dense_16 (Dense)             (None, 128)               1152      \n",
            "_________________________________________________________________\n",
            "dense_17 (Dense)             (None, 64)                8256      \n",
            "_________________________________________________________________\n",
            "dropout_4 (Dropout)          (None, 64)                0         \n",
            "_________________________________________________________________\n",
            "dense_18 (Dense)             (None, 32)                2080      \n",
            "_________________________________________________________________\n",
            "dense_19 (Dense)             (None, 1)                 33        \n",
            "=================================================================\n",
            "Total params: 11,521\n",
            "Trainable params: 11,521\n",
            "Non-trainable params: 0\n",
            "_________________________________________________________________\n"
          ],
          "name": "stdout"
        }
      ]
    },
    {
      "cell_type": "code",
      "metadata": {
        "id": "-ikE9ClRcGbw"
      },
      "source": [
        "pulsar_DNN_drop_sigmoid.compile(optimizer=tf.keras.optimizers.Adam(learning_rate=0.001),\n",
        "                                loss = 'binary_crossentropy',\n",
        "                                metrics = ['accuracy'])"
      ],
      "execution_count": null,
      "outputs": []
    },
    {
      "cell_type": "code",
      "metadata": {
        "colab": {
          "base_uri": "https://localhost:8080/"
        },
        "id": "HgR0YW1_cGd3",
        "outputId": "32bc84d7-1196-436a-ee67-1c7f35c80fd0"
      },
      "source": [
        "history = pulsar_DNN_drop_sigmoid.fit(train_x, train_y,\n",
        "                                      batch_size = 32,\n",
        "                                      epochs = 50,\n",
        "                                      validation_split = 0.2,\n",
        "                                      callbacks = [tf.keras.callbacks.EarlyStopping(patience=3)])"
      ],
      "execution_count": null,
      "outputs": [
        {
          "output_type": "stream",
          "text": [
            "Epoch 1/50\n",
            "358/358 [==============================] - 1s 2ms/step - loss: 0.2462 - accuracy: 0.9474 - val_loss: 0.1119 - val_accuracy: 0.9654\n",
            "Epoch 2/50\n",
            "358/358 [==============================] - 1s 2ms/step - loss: 0.1358 - accuracy: 0.9622 - val_loss: 0.0781 - val_accuracy: 0.9784\n",
            "Epoch 3/50\n",
            "358/358 [==============================] - 1s 2ms/step - loss: 0.1220 - accuracy: 0.9675 - val_loss: 0.0814 - val_accuracy: 0.9794\n",
            "Epoch 4/50\n",
            "358/358 [==============================] - 1s 2ms/step - loss: 0.1170 - accuracy: 0.9674 - val_loss: 0.0866 - val_accuracy: 0.9804\n",
            "Epoch 5/50\n",
            "358/358 [==============================] - 1s 2ms/step - loss: 0.1090 - accuracy: 0.9694 - val_loss: 0.0731 - val_accuracy: 0.9801\n",
            "Epoch 6/50\n",
            "358/358 [==============================] - 1s 2ms/step - loss: 0.1081 - accuracy: 0.9716 - val_loss: 0.1052 - val_accuracy: 0.9804\n",
            "Epoch 7/50\n",
            "358/358 [==============================] - 1s 2ms/step - loss: 0.1060 - accuracy: 0.9721 - val_loss: 0.0967 - val_accuracy: 0.9794\n",
            "Epoch 8/50\n",
            "358/358 [==============================] - 1s 3ms/step - loss: 0.1073 - accuracy: 0.9714 - val_loss: 0.0800 - val_accuracy: 0.9811\n"
          ],
          "name": "stdout"
        }
      ]
    },
    {
      "cell_type": "code",
      "metadata": {
        "colab": {
          "base_uri": "https://localhost:8080/",
          "height": 285
        },
        "id": "nQGPw1lReH7b",
        "outputId": "fb7f2976-a952-4db5-c1bf-c9c0eda4228e"
      },
      "source": [
        "val_accuracy = history.history['val_accuracy']\n",
        "accuracy = history.history['accuracy']\n",
        "\n",
        "val_loss = history.history['val_loss']\n",
        "loss     = history.history['loss']\n",
        "\n",
        "plt.figure(figsize=(12,4))\n",
        "plt.subplot(1, 2, 1)\n",
        "plt.plot(history.history['loss'], 'b-', label = 'Train Loss')\n",
        "plt.plot(history.history['val_loss'], 'r--', label = 'Val Loss')\n",
        "plt.xlabel('Epochs')\n",
        "plt.title(\"Train Loss : {:.3f}\\nVal Loss : {:.3f}\".\\\n",
        "          format(loss[-1], val_loss[-1]), fontsize = 15)\n",
        "\n",
        "plt.grid()\n",
        "plt.legend()\n",
        "\n",
        "plt.subplot(1, 2, 2)\n",
        "plt.plot(history.history['accuracy'], 'b-', label = 'Train Accuracy')\n",
        "plt.plot(history.history['val_accuracy'], 'r--', label = 'Val Accuracy')\n",
        "plt.xlabel('Epochs')\n",
        "plt.title(\"Train Acc : {:.3f}\\nVal Acc : {:.3f}\".\\\n",
        "          format(accuracy[-1], val_accuracy[-1]), fontsize = 15)\n",
        "\n",
        "plt.grid()\n",
        "plt.legend()\n",
        "\n",
        "plt.show()\n"
      ],
      "execution_count": null,
      "outputs": [
        {
          "output_type": "display_data",
          "data": {
            "image/png": "[encoded data removed]",
            "text/plain": [
              "<Figure size 864x288 with 2 Axes>"
            ]
          },
          "metadata": {
            "tags": [],
            "needs_background": "light"
          }
        }
      ]
    },
    {
      "cell_type": "code",
      "metadata": {
        "id": "qQEftGCdeOMI",
        "colab": {
          "base_uri": "https://localhost:8080/"
        },
        "outputId": "d5490f6e-72a0-4e66-d9b1-891031dff2e1"
      },
      "source": [
        "pred_Y = pulsar_DNN_drop_sigmoid.predict(test_x)\n",
        "pred_Y_3 = np.round(pred_Y,3)\n",
        "#print(pred_Y_3[:20])\n",
        "\n",
        "pred_Y = np.round(pred_Y)\n",
        "print(pred_Y[:20])"
      ],
      "execution_count": null,
      "outputs": [
        {
          "output_type": "stream",
          "text": [
            "[[0.]\n",
            " [0.]\n",
            " [0.]\n",
            " [0.]\n",
            " [0.]\n",
            " [0.]\n",
            " [0.]\n",
            " [0.]\n",
            " [0.]\n",
            " [0.]\n",
            " [0.]\n",
            " [0.]\n",
            " [0.]\n",
            " [0.]\n",
            " [0.]\n",
            " [0.]\n",
            " [0.]\n",
            " [0.]\n",
            " [0.]\n",
            " [0.]]\n"
          ],
          "name": "stdout"
        }
      ]
    },
    {
      "cell_type": "code",
      "metadata": {
        "colab": {
          "base_uri": "https://localhost:8080/"
        },
        "id": "8N7VO3k4eleX",
        "outputId": "d21a489e-de86-413c-c171-7ca5d4b512ce"
      },
      "source": [
        "print(pd.DataFrame(pred_Y).value_counts())\n",
        "\n",
        "print(pd.DataFrame(test_y).value_counts())"
      ],
      "execution_count": null,
      "outputs": [
        {
          "output_type": "stream",
          "text": [
            "0.0    3302\n",
            "1.0     278\n",
            "dtype: int64\n",
            "0.0    3258\n",
            "1.0     322\n",
            "dtype: int64\n"
          ],
          "name": "stdout"
        }
      ]
    },
    {
      "cell_type": "code",
      "metadata": {
        "id": "5eSdHtP7d3qT"
      },
      "source": [
        "# 주요 함수 \n",
        "# np.greater(x1, x2)\n",
        "# : 첫 번째 매개변수가 두 번째 매개변수 보다 크면 True를 반환합니다. \n",
        "\n",
        "# np.logical_and(x1, x2)\n",
        "# : 첫 번째 매개변수와 두 번째 매개변수 모두 참(True)일시 True를 반환함 \n",
        "\n",
        "# np.logical_not(x1)\n",
        "# : 매개변수의 결과를 반대로 반환합니다.(True -> False)"
      ],
      "execution_count": null,
      "outputs": []
    },
    {
      "cell_type": "code",
      "metadata": {
        "id": "A9CxG6QFd3sn",
        "colab": {
          "base_uri": "https://localhost:8080/"
        },
        "outputId": "843ffb0f-6482-47c1-805e-343ef27f75df"
      },
      "source": [
        "# 예측값(est)이 참(yes 1)이냐?\n",
        "# Y-Predict positive\n",
        "\n",
        "est_yes = np.greater(pred_Y, 0.5)\n",
        "print(\"est_yes[:5] : \\n\", est_yes[:5])\n",
        "\n",
        "# 실제값(ans)이 참(yes)이냐?\n",
        "# Y-label positive\n",
        "\n",
        "ans_yes = np.greater(test_y, 0.5)\n",
        "print(\"ans_yes[:5] : \\n\", ans_yes[:5])"
      ],
      "execution_count": null,
      "outputs": [
        {
          "output_type": "stream",
          "text": [
            "est_yes[:5] : \n",
            " [[False]\n",
            " [False]\n",
            " [False]\n",
            " [False]\n",
            " [False]]\n",
            "ans_yes[:5] : \n",
            " [[False]\n",
            " [False]\n",
            " [False]\n",
            " [False]\n",
            " [False]]\n"
          ],
          "name": "stdout"
        }
      ]
    },
    {
      "cell_type": "code",
      "metadata": {
        "colab": {
          "base_uri": "https://localhost:8080/"
        },
        "id": "Gql2NeWjhdTv",
        "outputId": "bceb58b3-28cb-4fb2-9b8a-8fb5eaa2aedd"
      },
      "source": [
        "# 예측(est)값이 거짓(no) 이냐? \n",
        "est_no = np.logical_not(est_yes)\n",
        "print(\"est_no : \\n\", est_no[:5])\n",
        "\n",
        "# 실제(ans)값이 거짓(no) 이냐? \n",
        "ans_no = np.logical_not(ans_yes)\n",
        "print(\"ans_no : \\n\", ans_no[:5])"
      ],
      "execution_count": null,
      "outputs": [
        {
          "output_type": "stream",
          "text": [
            "est_no : \n",
            " [[ True]\n",
            " [ True]\n",
            " [ True]\n",
            " [ True]\n",
            " [ True]]\n",
            "ans_no : \n",
            " [[ True]\n",
            " [ True]\n",
            " [ True]\n",
            " [ True]\n",
            " [ True]]\n"
          ],
          "name": "stdout"
        }
      ]
    },
    {
      "cell_type": "code",
      "metadata": {
        "colab": {
          "base_uri": "https://localhost:8080/"
        },
        "id": "EzCUwiGZlKcp",
        "outputId": "3fe34142-a43f-48ee-a1a5-606b92921e76"
      },
      "source": [
        "tp = np.sum(np.logical_and(est_yes, ans_yes))\n",
        "print('TP : ',tp)\n",
        "tn = np.sum(np.logical_and(est_no, ans_no))\n",
        "print('TN : ',tn)\n",
        "\n",
        "fp = np.sum(np.logical_and(ans_no, est_yes))\n",
        "print('FP : ',fp)\n",
        "fn = np.sum(np.logical_and(ans_yes,est_no))\n",
        "print('FN : ',fn)"
      ],
      "execution_count": null,
      "outputs": [
        {
          "output_type": "stream",
          "text": [
            "TP :  257\n",
            "TN :  3237\n",
            "FP :  21\n",
            "FN :  65\n"
          ],
          "name": "stdout"
        }
      ]
    },
    {
      "cell_type": "code",
      "metadata": {
        "colab": {
          "base_uri": "https://localhost:8080/"
        },
        "id": "5_Ejj_K3lKNa",
        "outputId": "f446b9fa-9247-4e65-df11-d31fb2ce6bbc"
      },
      "source": [
        "from sklearn.metrics import confusion_matrix\n",
        "from sklearn.metrics import precision_score\n",
        "from sklearn.metrics import recall_score\n",
        "from sklearn.metrics import accuracy_score\n",
        "from sklearn.metrics import f1_score\n",
        "\n",
        "\n",
        "print(pred_Y[:, 0])\n",
        "print(test_y[:, 0])"
      ],
      "execution_count": null,
      "outputs": [
        {
          "output_type": "stream",
          "text": [
            "[0. 0. 0. ... 0. 0. 0.]\n",
            "[0. 0. 0. ... 0. 0. 0.]\n"
          ],
          "name": "stdout"
        }
      ]
    },
    {
      "cell_type": "code",
      "metadata": {
        "colab": {
          "base_uri": "https://localhost:8080/"
        },
        "id": "Wo95ACgtm8-q",
        "outputId": "4f6d9e2f-2da3-4b56-dc8d-fff8294bd24b"
      },
      "source": [
        "print(\"confusion_matrix : \\n\", confusion_matrix(test_y[:, 0], pred_Y[:, 0]))\n",
        "print(\"precision_score : \\n\", precision_score(test_y[:, 0], pred_Y[:, 0]))\n",
        "print(\"recall_score : \\n\", recall_score(test_y[:, 0], pred_Y[:, 0]))\n",
        "\n",
        "print(\"precision_score : \\n\", precision_score(test_y[:, 0], pred_Y[:, 0]))\n",
        "print(\"recall_score : \\n\", recall_score(test_y[:, 0], pred_Y[:, 0]))"
      ],
      "execution_count": null,
      "outputs": [
        {
          "output_type": "stream",
          "text": [
            "confusion_matrix : \n",
            " [[3237   21]\n",
            " [  65  257]]\n",
            "precision_score : \n",
            " 0.9244604316546763\n",
            "recall_score : \n",
            " 0.7981366459627329\n",
            "precision_score : \n",
            " 0.9244604316546763\n",
            "recall_score : \n",
            " 0.7981366459627329\n"
          ],
          "name": "stdout"
        }
      ]
    },
    {
      "cell_type": "code",
      "metadata": {
        "colab": {
          "base_uri": "https://localhost:8080/"
        },
        "id": "fvagJzyBnQIF",
        "outputId": "42e9921d-311a-4c5e-896c-badbe92bc42b"
      },
      "source": [
        "precision = safe_div(tp , (tp + fp))\n",
        "print(\"precision : \", precision)\n",
        "\n",
        "recall = safe_div(tp, (tp + fn))\n",
        "print(\"recall : \", recall)\n",
        "\n",
        "accuracy = safe_div((tp + tn), (tp + tn + fp + fn))\n",
        "print(\"accuracy :\", accuracy)\n",
        "\n",
        "f1 = 2 * (precision * recall), (precision + recall)\n",
        "print('F1-score : ', f1)"
      ],
      "execution_count": null,
      "outputs": [
        {
          "output_type": "stream",
          "text": [
            "precision :  0.9244604316546763\n",
            "recall :  0.7981366459627329\n",
            "accuracy : 0.975977653631285\n",
            "F1-score :  (1.4756914964922472, 1.7225970776174093)\n"
          ],
          "name": "stdout"
        }
      ]
    },
    {
      "cell_type": "code",
      "metadata": {
        "id": "RSsdlOVNnqOK"
      },
      "source": [
        "def safe_div(p,q):\n",
        "    p, q = float(p), float(q)\n",
        "\n",
        "    if np.abs(q) < 1.0e-20:\n",
        "        return np.sign(p)\n",
        "\n",
        "    return p / q"
      ],
      "execution_count": null,
      "outputs": []
    },
    {
      "cell_type": "code",
      "metadata": {
        "colab": {
          "base_uri": "https://localhost:8080/"
        },
        "id": "9NuBqp6SoYAZ",
        "outputId": "3c398bec-97df-4f72-b604-c2fea011223b"
      },
      "source": [
        "np.sign(-123123123)"
      ],
      "execution_count": null,
      "outputs": [
        {
          "output_type": "execute_result",
          "data": {
            "text/plain": [
              "-1"
            ]
          },
          "metadata": {
            "tags": []
          },
          "execution_count": 98
        }
      ]
    },
    {
      "cell_type": "markdown",
      "metadata": {
        "id": "dIM6sp93orPy"
      },
      "source": [
        "# 4. 머신러닝"
      ]
    },
    {
      "cell_type": "code",
      "metadata": {
        "colab": {
          "base_uri": "https://localhost:8080/"
        },
        "id": "y2oc9l3Srwvu",
        "outputId": "a4dc62a9-a17f-47ce-daf2-3470ce806c75"
      },
      "source": [
        "!pip install mglearn"
      ],
      "execution_count": null,
      "outputs": [
        {
          "output_type": "stream",
          "text": [
            "Requirement already satisfied: mglearn in /usr/local/lib/python3.7/dist-packages (0.1.9)\n",
            "Requirement already satisfied: scikit-learn in /usr/local/lib/python3.7/dist-packages (from mglearn) (0.22.2.post1)\n",
            "Requirement already satisfied: cycler in /usr/local/lib/python3.7/dist-packages (from mglearn) (0.10.0)\n",
            "Requirement already satisfied: joblib in /usr/local/lib/python3.7/dist-packages (from mglearn) (1.0.1)\n",
            "Requirement already satisfied: pillow in /usr/local/lib/python3.7/dist-packages (from mglearn) (7.1.2)\n",
            "Requirement already satisfied: matplotlib in /usr/local/lib/python3.7/dist-packages (from mglearn) (3.2.2)\n",
            "Requirement already satisfied: imageio in /usr/local/lib/python3.7/dist-packages (from mglearn) (2.4.1)\n",
            "Requirement already satisfied: pandas in /usr/local/lib/python3.7/dist-packages (from mglearn) (1.1.5)\n",
            "Requirement already satisfied: numpy in /usr/local/lib/python3.7/dist-packages (from mglearn) (1.19.5)\n",
            "Requirement already satisfied: six in /usr/local/lib/python3.7/dist-packages (from cycler->mglearn) (1.15.0)\n",
            "Requirement already satisfied: kiwisolver>=1.0.1 in /usr/local/lib/python3.7/dist-packages (from matplotlib->mglearn) (1.3.1)\n",
            "Requirement already satisfied: pyparsing!=2.0.4,!=2.1.2,!=2.1.6,>=2.0.1 in /usr/local/lib/python3.7/dist-packages (from matplotlib->mglearn) (2.4.7)\n",
            "Requirement already satisfied: python-dateutil>=2.1 in /usr/local/lib/python3.7/dist-packages (from matplotlib->mglearn) (2.8.1)\n",
            "Requirement already satisfied: pytz>=2017.2 in /usr/local/lib/python3.7/dist-packages (from pandas->mglearn) (2018.9)\n",
            "Requirement already satisfied: scipy>=0.17.0 in /usr/local/lib/python3.7/dist-packages (from scikit-learn->mglearn) (1.4.1)\n"
          ],
          "name": "stdout"
        }
      ]
    },
    {
      "cell_type": "markdown",
      "metadata": {
        "id": "NDQkl_Amj1w4"
      },
      "source": [
        "#### SVM 실습 01\n",
        "\n",
        "유방암 데이터 셋에 SVM 적용"
      ]
    },
    {
      "cell_type": "code",
      "metadata": {
        "colab": {
          "base_uri": "https://localhost:8080/"
        },
        "id": "1E8v_2j-g85j",
        "outputId": "3b035272-badf-406f-8b73-e6c0f8c6ad81"
      },
      "source": [
        "from sklearn.model_selection import train_test_split\n",
        "from sklearn.datasets import load_breast_cancer\n",
        "from sklearn.svm import SVC\n",
        "# 데이터 로드\n",
        "cancer = load_breast_cancer()\n",
        "X = cancer.data\n",
        "y = cancer.target\n",
        "X_train, X_test, y_train, y_test = train_test_split(X, y, random_state=0)\n",
        "\n",
        "# 모델 학습\n",
        "model = SVC(C=10000, ).fit(X_train, y_train)\n",
        "\n",
        "# 평가\n",
        "model.score(X_train, y_train), model.score(X_test, y_test)"
      ],
      "execution_count": null,
      "outputs": [
        {
          "output_type": "execute_result",
          "data": {
            "text/plain": [
              "(0.971830985915493, 0.972027972027972)"
            ]
          },
          "metadata": {
            "tags": []
          },
          "execution_count": 15
        }
      ]
    },
    {
      "cell_type": "code",
      "metadata": {
        "colab": {
          "base_uri": "https://localhost:8080/",
          "height": 265
        },
        "id": "XbNUL4OwiFOy",
        "outputId": "45536310-134f-46e4-837f-34074ec89126"
      },
      "source": [
        "# 유방암 데이터 세트의 특성 값 범위 시각화 (y 축은 로그 스케일)\n",
        "plt.boxplot(X_train)\n",
        "plt.yscale('symlog')\n",
        "plt.show()"
      ],
      "execution_count": null,
      "outputs": [
        {
          "output_type": "display_data",
          "data": {
            "image/png": "[encoded data removed]",
            "text/plain": [
              "<Figure size 432x288 with 1 Axes>"
            ]
          },
          "metadata": {
            "tags": [],
            "needs_background": "light"
          }
        }
      ]
    },
    {
      "cell_type": "markdown",
      "metadata": {
        "id": "62Knzdplk94A"
      },
      "source": [
        "- 유방암 데이터셋의 특성은 자릿수 자체가 완전히 다름\n",
        "\n",
        "- 일부 모델(선형 모델 등)에서도 어느 정도 문제가 될 수 있지만, 커널 SVM에서는 영향이 아주 큼"
      ]
    },
    {
      "cell_type": "markdown",
      "metadata": {
        "id": "Mi0KsmTwlIA-"
      },
      "source": [
        "##### SVM을 위한 전처리\n",
        "\n",
        "- 특성 값의 범위가 비슷해지도록 조정하는 것"
      ]
    },
    {
      "cell_type": "code",
      "metadata": {
        "colab": {
          "base_uri": "https://localhost:8080/"
        },
        "id": "f6f_x0X0jM2I",
        "outputId": "3b9f3601-6c67-4129-d682-60b1628b956a"
      },
      "source": [
        "from sklearn.preprocessing import MinMaxScaler\n",
        "\n",
        "scaler = MinMaxScaler()\n",
        "scaler.fit(X_train)\n",
        "\n",
        "X_train_scaled = scaler.transform(X_train)\n",
        "X_test_scaled = scaler.transform(X_test)\n",
        "\n",
        "X_train_scaled.min(axis=0)\n",
        "X_train_scaled.max(axis=0)"
      ],
      "execution_count": null,
      "outputs": [
        {
          "output_type": "execute_result",
          "data": {
            "text/plain": [
              "array([1., 1., 1., 1., 1., 1., 1., 1., 1., 1., 1., 1., 1., 1., 1., 1., 1.,\n",
              "       1., 1., 1., 1., 1., 1., 1., 1., 1., 1., 1., 1., 1.])"
            ]
          },
          "metadata": {
            "tags": []
          },
          "execution_count": 17
        }
      ]
    },
    {
      "cell_type": "markdown",
      "metadata": {
        "id": "RNP8opdSmKwq"
      },
      "source": [
        "##### 스케일링된 데이터를 SVC에 적용하기\n",
        "\n",
        "\n"
      ]
    },
    {
      "cell_type": "code",
      "metadata": {
        "id": "bJFfOYVtmOgG",
        "colab": {
          "base_uri": "https://localhost:8080/"
        },
        "outputId": "df2187f7-4198-4928-c7c6-b764e93acc85"
      },
      "source": [
        "# gamma 파라미저 조정\n",
        "model = SVC(C=100, gamma=0.02 ).fit(X_train_scaled, y_train)\n",
        "model.score(X_train_scaled, y_train), model.score(X_test_scaled, y_test)"
      ],
      "execution_count": null,
      "outputs": [
        {
          "output_type": "execute_result",
          "data": {
            "text/plain": [
              "(0.9835680751173709, 0.972027972027972)"
            ]
          },
          "metadata": {
            "tags": []
          },
          "execution_count": 18
        }
      ]
    },
    {
      "cell_type": "code",
      "metadata": {
        "id": "AsANJivxmj_Q",
        "colab": {
          "base_uri": "https://localhost:8080/"
        },
        "outputId": "76cf1656-3303-44c5-85e5-fa274fab4ea7"
      },
      "source": [
        "# C 파라미터 조정\n",
        "model = SVC(C=1000, gamma=0.01).fit(X_train_scaled, y_train)\n",
        "model.score(X_train_scaled, y_train), model.score(X_test_scaled, y_test)"
      ],
      "execution_count": null,
      "outputs": [
        {
          "output_type": "execute_result",
          "data": {
            "text/plain": [
              "(0.9859154929577465, 0.9790209790209791)"
            ]
          },
          "metadata": {
            "tags": []
          },
          "execution_count": 19
        }
      ]
    },
    {
      "cell_type": "markdown",
      "metadata": {
        "id": "9W73DIoanAeP"
      },
      "source": [
        "## 장단점\n",
        "\n",
        "- SVM은 강력한 모델이며 다양한 데이터셋에서 잘 작동\n",
        "\n",
        "- SVM은 데이터의 특성이 몇 개 안 되더라도 복잡한 결정 경계를 만들 수 있음\n",
        "\n",
        "- 저차원과 고차원의 데이터(즉 특성이 적을 때와 많을 때)에 모두 잘 작동하지만 샘플이 많을 때는 잘 맞지 않음\n",
        "\n",
        "- 10,000개의 샘플 정도면 SVM 모델이 잘 작동하겠지만 100,000개 이상의 데이터셋에서는 속도와 메모리 관점에서 도전적인 과제\n",
        "\n",
        "- SVM의 또 하나의 단점은 데이터 전처리와 매개변수 설정에 신경을 많이 써야 한다는 점\n",
        "\n",
        "- 그런 이유로 대부분 랜덤 포레스트나 그래디언트 부스팅 같은 (전처리가 거의 또는 전혀 필요 없는) 트리 기반 모델을 애플리케이션에 많이 사용\n",
        "\n",
        "- SVM 모델은 분석하기도 어렵고 예측이 어떻게 결정되었는지 이해하기 어렵고 비전문가에게 모델을 설명하기가 난해함\n",
        "\n",
        "- 하지만 모든 특성이 비슷한 단위이고(예를 들면 모든 값이 픽셀의 컬러 강도) 스케일이 비슷하면 SVM을 시도해볼 만함\n",
        "\n",
        "- 커널 SVM에서 중요한 매개변수는 C와 gamma이며 모두 모델의 복잡도를 조정하며 둘 다 큰 값이 더 복잡한 모델을 만듬\n",
        "\n",
        "- 연관성이 많은 이 두 매개변수를 잘 설정하려면 C와 gamma를 함께 조정"
      ]
    },
    {
      "cell_type": "markdown",
      "metadata": {
        "id": "rI_ZpBsio17i"
      },
      "source": [
        "## Decision Tree"
      ]
    },
    {
      "cell_type": "markdown",
      "metadata": {
        "id": "HMqhtpaUOYlt"
      },
      "source": [
        "- 결정 트리(decision tree)는 분류와 회귀 문제에 널리 사용하는 모델 <br>\n",
        "(분류와 회귀에 모두 사용)\n",
        "\n",
        "- 분할(Split)와 가지치기 (Pruning) 과정을 통해 생성 <br>\n",
        "(Tree를 만들기 위해 예/아니오 질문을 반복하며 학습)\n",
        "\n",
        "- 다양한 앙상블(ensemble) 모델이 존재한다 <br>\n",
        "     (RandomForest, GradientBoosting, XGBoost)"
      ]
    },
    {
      "cell_type": "markdown",
      "metadata": {
        "id": "wM5pj_JGRDpJ"
      },
      "source": [
        "참고\n",
        "\n",
        "[트리(Tree)의 개념과 특징을 이해 - 블로그](https://gmlwjd9405.github.io/2018/08/12/data-structure-tree.html)\n",
        "\n",
        "[트리(그래프) - 나무위키](https://namu.wiki/w/%ED%8A%B8%EB%A6%AC(%EA%B7%B8%EB%9E%98%ED%94%84))\n",
        "\n",
        "[이진 트리 - 위키백과](https://ko.wikipedia.org/wiki/%EC%9D%B4%EC%A7%84_%ED%8A%B8%EB%A6%AC)"
      ]
    },
    {
      "cell_type": "markdown",
      "metadata": {
        "id": "jMEwtNE1KtSe"
      },
      "source": [
        "#### 트리(tree) 자료구조\n",
        "\n",
        "- 노드로 이루어진 자료 구조\n",
        "\n",
        "- 계층 모델\n",
        "\n",
        "- 그래프의 한 종류\n",
        "  - '최소 연결 트리' 라고도 불림\n",
        "  - 사이클(cycle)이 없는 하나의 연결 그래프(Connected Graph)\n",
        "  - 또는 DAG(Directed Acyclic Graph, 방향성이 있는 비순환 그래프)의 한 종류\n",
        "\n",
        "- 예) 파일디렉토리"
      ]
    },
    {
      "cell_type": "markdown",
      "metadata": {
        "id": "u0euBDd7LdYF"
      },
      "source": [
        "트리(tree) 자료구조에서의 용어\n",
        "\n",
        "<center>\n",
        " <img src=\"https://gmlwjd9405.github.io/images/data-structure-tree/tree-terms.png\" alt=\"트리(Tree)용어\" width=\"60%\" />\n",
        "\n",
        "</center>\n",
        "\n",
        "- 노드(node) : 트리는 노드들의 집합으로 트리를 구성, 보통 (value) 값과 부모 자식의 정보를 가진다.\n",
        "- 루트 노드(root node): 부모가 없는 노드, 트리는 하나의 루트 노드만을 가진다.\n",
        "- 단말 노드(leaf node): 자식이 없는 노드, '리프',‘말단 노드’ 또는 ‘잎 노드’라고도 부른다.\n",
        "- 내부(internal) 노드: 단말 노드가 아닌 노드\n",
        "- 간선(edge): 노드를 연결하는 선 ('엣지', link, branch 라고도 부름)\n",
        "- 형제(sibling): 같은 부모를 가지는 노드\n",
        "- 노드의 크기(size): 자신을 포함한 모든 자손 노드의 개수\n",
        "- 노드의 깊이(depth): 루트에서 어떤 노드에 도달하기 위해 거쳐야 하는 간선의 수\n",
        "- 노드의 레벨(level): 트리의 특정 깊이를 가지는 노드의 집합\n",
        "- 노드의 차수(degree): 하위 트리 개수 / 간선 수 (degree) = 각 노드가 지닌 가지의 수\n",
        "- 트리의 차수(degree of tree): 트리의 최대 차수\n",
        "- 트리의 높이(height): 루트 노드에서 가장 깊숙히 있는 노드의 깊이"
      ]
    },
    {
      "cell_type": "markdown",
      "metadata": {
        "id": "SSP6Li-N4nPo"
      },
      "source": [
        "#### 결정 트리(decision tree)\n",
        "\n",
        "- 의사결정트리는 학습 데이터로부터 조건식을 만들고 예측할 때는 트리의 루트 노드(root node) 부터 순서대로 조건 분기를 타면서 리프 노드(leaf node)에 도달하면 예측 결과를 내는 알고리즘\n",
        "\n",
        "- 학습 결과로 IF-THEN 형태의 규칙을 생성 (Split)\n",
        "\n",
        "- 타깃 값이 한 개인 리프 노드를 순수 노드라고 한다. \n",
        "\n",
        "- 모든 노드가 순수 노드가 될 때 까지 학습하면 모델이 복잡해지고 훈련 데이터에 과대적합이 된다.\n",
        "\n",
        "- 새로운 데이터 포인트가 들어오면 해당하는 노드를 찾고, 분류라면 더 많은 클래스를 선택, 회귀라면 평균을 구한다.\n"
      ]
    },
    {
      "cell_type": "markdown",
      "metadata": {
        "id": "uSXR_9AFsYq4"
      },
      "source": [
        "특징\n",
        "\n",
        "- 학습한 모델을 사람이 해석하기 쉽다 -> 시각화 가능\n",
        "- 입력 데이터에 대한 정규화가 필요 없다\n",
        "- 범주형 변수나 데이터의 누락값이 있어도 용인된다\n",
        "- 특정 조건이 맞으면 과적합을 일으키는 경향이 있다\n",
        " - 트리가 깊어질 수록 데이터 수가 적어짐\n",
        " - 가지치기(pruning)로 깊이를 줄여서 방지\n",
        "- 비선형 문제에는 우수하지만 선형 분리 문제는 잘 풀지 못한다\n",
        "- 데이터 분포가 특정 클래스에 쏠려 있으면 잘 풀지 못한다\n",
        "- 데이터의 작은 변화에도 결과가 크게 바뀌기 쉽다\n",
        "- 예측 성능은 보통이다\n",
        "- 배치 학습만 학습할 수 있다.\n",
        "\n",
        "\n",
        "종류\n",
        "\n",
        "- 의사 결정 포레스트, 향상된 의사결정 트리, Random Forest, Rotation Forest 등\n"
      ]
    },
    {
      "cell_type": "markdown",
      "metadata": {
        "id": "G4oFLhkV4uLf"
      },
      "source": [
        "결정트리(Decision Tree) 과대적합 제어\n",
        "\n",
        "- 노드 생성을 미리 중단하는 사전가지치기(pre-pruning)와 트리를 만든후에 크기가 작은 노드를 삭제하는 사후가지치기(pruning)가 있다. <br>\n",
        "    (sklearn은 사전가지치기만 지원)\n",
        "\n",
        "가지치기(pruning)\n",
        "- 하나의 가지 (branch)에 동일한 예측 값이 나오는 경우\n",
        " - 의사결정트리는 동일 조건에서 가장 간단한 구조여야 한다.\n",
        "\n",
        "사전가지치기(pre-pruning)\n",
        "\n",
        "- 트리의 최대 깊이나 리프노드의 최대 개수를 제어\n",
        "\n",
        "- 노드가 분할하기 위한 데이터 포인트의 최소 개수를 지정\n"
      ]
    },
    {
      "cell_type": "markdown",
      "metadata": {
        "id": "05F_-sHl5APm"
      },
      "source": [
        "장단점\n",
        "\n",
        "- 만들어진 모델을 쉽게 시각화할 수 있어 이해하기 쉽다. <br>\n",
        "    (white box model)\n",
        "\n",
        "- 각 특성이 개별 처리되기 때문에 데이터 스케일에 영향을 받지 않아 특성의 정규화나 표준화가 필요 없다.\n",
        "\n",
        "- 훈련데이터 범위 밖의 포인트는 예측 할 수 없다. <br>\n",
        "    (ex : 시계열 데이터)\n",
        "\n",
        "- 가지치기를 사용함에도 불구하고 과대적합되는 경향이 있어 일반화 성능이 좋지 않다.\n"
      ]
    },
    {
      "cell_type": "markdown",
      "metadata": {
        "id": "5z385Tm_XEhG"
      },
      "source": [
        "[DecisionTreeClassifier()](https://scikit-learn.org/stable/modules/generated/sklearn.tree.DecisionTreeClassifier.html)\n",
        "\n",
        "```\n",
        "DecisionTreeClassifier(criterion, splitter, max_depth, min_samples_split, min_samples_leaf, min_weight_fraction_leaf, max_features, random_state, max_leaf_nodes, min_impurity_decrease, min_impurity_split, class_weight, presort)\n",
        "```\n",
        "- criterion : 분할 품질을 측정하는 기능 (default : gini)\n",
        "- splitter : 각 노드에서 분할을 선택하는 데 사용되는 전략 (default : best)\n",
        "- <font  color=yellow> max_depth : 트리의 최대 깊이 <br>\n",
        "(값이 클수록 모델의 복잡도가 올라간다.) </font>\n",
        "- min_samples_split : 자식 노드를 분할하는데 필요한 최소 샘플 수 (default : 2)\n",
        "- <font  color=yellow> min_samples_leaf : 리프 노드에 있어야 할 최소 샘플 수 (default : 1) </font>\n",
        "- min_weight_fraction_leaf : min_sample_leaf와 같지만 가중치가 부여된 샘플 수에서의 비율\n",
        "- max_features : 각 노드에서 분할에 사용할 특징의 최대 수\n",
        "- random_state : 난수 seed 설정\n",
        "- <font  color=yellow> max_leaf_nodes : 리프 노드의 최대수 </font>\n",
        "- min_impurity_decrease : 최소 불순도\n",
        "- min_impurity_split : 나무 성장을 멈추기 위한 임계치\n",
        "- class_weight : 클래스 가중치\n",
        "- presort : 데이터 정렬 필요 여부\n"
      ]
    },
    {
      "cell_type": "code",
      "metadata": {
        "id": "mWgbC-lsiqET"
      },
      "source": [
        "# 경고메시지 무시\n",
        "import warnings\n",
        "warnings.filterwarnings(\"ignore\")"
      ],
      "execution_count": null,
      "outputs": []
    },
    {
      "cell_type": "markdown",
      "metadata": {
        "id": "nD1CP9QrVmZj"
      },
      "source": [
        "#### Decision Tree 실습 01\n",
        "\n",
        "붓꽃 데이터 결정트리 만들기"
      ]
    },
    {
      "cell_type": "code",
      "metadata": {
        "id": "0K0je6h0YWOL",
        "colab": {
          "base_uri": "https://localhost:8080/"
        },
        "outputId": "7dee64dd-61a2-4a3d-8455-741e34b53666"
      },
      "source": [
        "from sklearn.datasets import load_iris\n",
        "from sklearn.model_selection import train_test_split\n",
        "from sklearn.tree import DecisionTreeClassifier\n",
        "from sklearn.metrics import accuracy_score\n",
        "\n",
        "# 데이터 로드\n",
        "iris = load_iris()\n",
        "X_train, X_test, y_train, y_test = train_test_split(iris.data,\n",
        "                                                    iris.target,\n",
        "                                                    test_size=0.2,\n",
        "                                                    random_state=11)\n",
        "\n",
        "# 모델 학습\n",
        "model = DecisionTreeClassifier().fit(X_train, y_train)\n",
        "# 평가\n",
        "model.score(X_train, y_train), model.score(X_test,y_test)"
      ],
      "execution_count": null,
      "outputs": [
        {
          "output_type": "execute_result",
          "data": {
            "text/plain": [
              "(1.0, 0.9333333333333333)"
            ]
          },
          "metadata": {
            "tags": []
          },
          "execution_count": 9
        }
      ]
    },
    {
      "cell_type": "markdown",
      "metadata": {
        "id": "QtA7MWuvv4s5"
      },
      "source": [
        "**Graphviz 설치(Windows)**\n",
        "코랩에선 설치 안해도 된다.\n",
        "1. 아래 링크로 들어가서 graphviz-2.38-win32.msi 다운로드 후 설치\n",
        "\n",
        "> https://www2.graphviz.org/Packages/stable/windows/10/msbuild/Release/Win32/\n",
        "\n",
        "2. 시스템 환경변수 PATH 에 다음 경로 추가\n",
        "\n",
        "> C:\\Program Files (x86)\\Graphviz2.38\\bin\n",
        "\n",
        "```\n",
        "# 파이썬 래퍼(Wrapper) 모듈을 별도로 설치\n",
        "# !pip install graphviz\n",
        "```"
      ]
    },
    {
      "cell_type": "code",
      "metadata": {
        "id": "kRG6Og9Pjx0b",
        "colab": {
          "base_uri": "https://localhost:8080/",
          "height": 934
        },
        "outputId": "c810a8f3-1dce-42c9-9c1f-8e3809f6ebc0"
      },
      "source": [
        "# 결정트리 규칙을 시각화\n",
        "from sklearn.tree import export_graphviz\n",
        "import graphviz\n",
        "\n",
        "# export_graphviz() 를 호출하여 out_file 파라메터의 \"tree.dot\" 파일을 생성\n",
        "export_graphviz(model, out_file='tree.dot',\n",
        "                class_names=iris.target_names,\n",
        "                feature_names=iris.feature_names,\n",
        "                filled=True)\n",
        "\n",
        "# \"tree.dot\" 파일을 graphviz 가 읽어서 주피터 노트북에 시각화\n",
        "with open('tree.dot')as f:\n",
        "  dot_graph = f.read()\n",
        "\n",
        "display(graphviz.Source(dot_graph))"
      ],
      "execution_count": null,
      "outputs": [
        {
          "output_type": "display_data",
          "data": {
            "text/plain": [
              "<graphviz.files.Source at 0x7fbf39113250>"
            ],
            "image/svg+xml": "<?xml version=\"1.0\" encoding=\"UTF-8\" standalone=\"no\"?>\n<!DOCTYPE svg PUBLIC \"-//W3C//DTD SVG 1.1//EN\"\n \"http://www.w3.org/Graphics/SVG/1.1/DTD/svg11.dtd\">\n<!-- Generated by graphviz version 2.40.1 (20161225.0304)\n -->\n<!-- Title: Tree Pages: 1 -->\n<svg width=\"765pt\" height=\"671pt\"\n viewBox=\"0.00 0.00 765.00 671.00\" xmlns=\"http://www.w3.org/2000/svg\" xmlns:xlink=\"http://www.w3.org/1999/xlink\">\n<g id=\"graph0\" class=\"graph\" transform=\"scale(1 1) rotate(0) translate(4 667)\">\n<title>Tree</title>\n<polygon fill=\"#ffffff\" stroke=\"transparent\" points=\"-4,4 -4,-667 761,-667 761,4 -4,4\"/>\n<!-- 0 -->\n<g id=\"node1\" class=\"node\">\n<title>0</title>\n<polygon fill=\"#fffdfd\" stroke=\"#000000\" points=\"275.5,-663 111.5,-663 111.5,-580 275.5,-580 275.5,-663\"/>\n<text text-anchor=\"middle\" x=\"193.5\" y=\"-647.8\" font-family=\"Times,serif\" font-size=\"14.00\" fill=\"#000000\">petal length (cm) &lt;= 2.45</text>\n<text text-anchor=\"middle\" x=\"193.5\" y=\"-632.8\" font-family=\"Times,serif\" font-size=\"14.00\" fill=\"#000000\">gini = 0.667</text>\n<text text-anchor=\"middle\" x=\"193.5\" y=\"-617.8\" font-family=\"Times,serif\" font-size=\"14.00\" fill=\"#000000\">samples = 120</text>\n<text text-anchor=\"middle\" x=\"193.5\" y=\"-602.8\" font-family=\"Times,serif\" font-size=\"14.00\" fill=\"#000000\">value = [41, 40, 39]</text>\n<text text-anchor=\"middle\" x=\"193.5\" y=\"-587.8\" font-family=\"Times,serif\" font-size=\"14.00\" fill=\"#000000\">class = setosa</text>\n</g>\n<!-- 1 -->\n<g id=\"node2\" class=\"node\">\n<title>1</title>\n<polygon fill=\"#e58139\" stroke=\"#000000\" points=\"174,-536.5 57,-536.5 57,-468.5 174,-468.5 174,-536.5\"/>\n<text text-anchor=\"middle\" x=\"115.5\" y=\"-521.3\" font-family=\"Times,serif\" font-size=\"14.00\" fill=\"#000000\">gini = 0.0</text>\n<text text-anchor=\"middle\" x=\"115.5\" y=\"-506.3\" font-family=\"Times,serif\" font-size=\"14.00\" fill=\"#000000\">samples = 41</text>\n<text text-anchor=\"middle\" x=\"115.5\" y=\"-491.3\" font-family=\"Times,serif\" font-size=\"14.00\" fill=\"#000000\">value = [41, 0, 0]</text>\n<text text-anchor=\"middle\" x=\"115.5\" y=\"-476.3\" font-family=\"Times,serif\" font-size=\"14.00\" fill=\"#000000\">class = setosa</text>\n</g>\n<!-- 0&#45;&gt;1 -->\n<g id=\"edge1\" class=\"edge\">\n<title>0&#45;&gt;1</title>\n<path fill=\"none\" stroke=\"#000000\" d=\"M166.2194,-579.8796C158.8677,-568.6636 150.9036,-556.5131 143.5126,-545.2372\"/>\n<polygon fill=\"#000000\" stroke=\"#000000\" points=\"146.4014,-543.2598 137.9921,-536.8149 140.5469,-547.0972 146.4014,-543.2598\"/>\n<text text-anchor=\"middle\" x=\"132.8982\" y=\"-557.5905\" font-family=\"Times,serif\" font-size=\"14.00\" fill=\"#000000\">True</text>\n</g>\n<!-- 2 -->\n<g id=\"node3\" class=\"node\">\n<title>2</title>\n<polygon fill=\"#fafefc\" stroke=\"#000000\" points=\"353,-544 192,-544 192,-461 353,-461 353,-544\"/>\n<text text-anchor=\"middle\" x=\"272.5\" y=\"-528.8\" font-family=\"Times,serif\" font-size=\"14.00\" fill=\"#000000\">petal width (cm) &lt;= 1.55</text>\n<text text-anchor=\"middle\" x=\"272.5\" y=\"-513.8\" font-family=\"Times,serif\" font-size=\"14.00\" fill=\"#000000\">gini = 0.5</text>\n<text text-anchor=\"middle\" x=\"272.5\" y=\"-498.8\" font-family=\"Times,serif\" font-size=\"14.00\" fill=\"#000000\">samples = 79</text>\n<text text-anchor=\"middle\" x=\"272.5\" y=\"-483.8\" font-family=\"Times,serif\" font-size=\"14.00\" fill=\"#000000\">value = [0, 40, 39]</text>\n<text text-anchor=\"middle\" x=\"272.5\" y=\"-468.8\" font-family=\"Times,serif\" font-size=\"14.00\" fill=\"#000000\">class = versicolor</text>\n</g>\n<!-- 0&#45;&gt;2 -->\n<g id=\"edge2\" class=\"edge\">\n<title>0&#45;&gt;2</title>\n<path fill=\"none\" stroke=\"#000000\" d=\"M221.1304,-579.8796C226.93,-571.1434 233.1059,-561.8404 239.0908,-552.8253\"/>\n<polygon fill=\"#000000\" stroke=\"#000000\" points=\"242.1368,-554.5652 244.7517,-544.2981 236.3049,-550.6935 242.1368,-554.5652\"/>\n<text text-anchor=\"middle\" x=\"249.7022\" y=\"-565.103\" font-family=\"Times,serif\" font-size=\"14.00\" fill=\"#000000\">False</text>\n</g>\n<!-- 3 -->\n<g id=\"node4\" class=\"node\">\n<title>3</title>\n<polygon fill=\"#3ee684\" stroke=\"#000000\" points=\"264.5,-425 100.5,-425 100.5,-342 264.5,-342 264.5,-425\"/>\n<text text-anchor=\"middle\" x=\"182.5\" y=\"-409.8\" font-family=\"Times,serif\" font-size=\"14.00\" fill=\"#000000\">petal length (cm) &lt;= 5.25</text>\n<text text-anchor=\"middle\" x=\"182.5\" y=\"-394.8\" font-family=\"Times,serif\" font-size=\"14.00\" fill=\"#000000\">gini = 0.051</text>\n<text text-anchor=\"middle\" x=\"182.5\" y=\"-379.8\" font-family=\"Times,serif\" font-size=\"14.00\" fill=\"#000000\">samples = 38</text>\n<text text-anchor=\"middle\" x=\"182.5\" y=\"-364.8\" font-family=\"Times,serif\" font-size=\"14.00\" fill=\"#000000\">value = [0, 37, 1]</text>\n<text text-anchor=\"middle\" x=\"182.5\" y=\"-349.8\" font-family=\"Times,serif\" font-size=\"14.00\" fill=\"#000000\">class = versicolor</text>\n</g>\n<!-- 2&#45;&gt;3 -->\n<g id=\"edge3\" class=\"edge\">\n<title>2&#45;&gt;3</title>\n<path fill=\"none\" stroke=\"#000000\" d=\"M241.0224,-460.8796C234.3471,-452.0534 227.2342,-442.6485 220.3504,-433.5466\"/>\n<polygon fill=\"#000000\" stroke=\"#000000\" points=\"222.9357,-431.1626 214.112,-425.2981 217.3526,-435.3852 222.9357,-431.1626\"/>\n</g>\n<!-- 6 -->\n<g id=\"node7\" class=\"node\">\n<title>6</title>\n<polygon fill=\"#8b49e7\" stroke=\"#000000\" points=\"444,-425 283,-425 283,-342 444,-342 444,-425\"/>\n<text text-anchor=\"middle\" x=\"363.5\" y=\"-409.8\" font-family=\"Times,serif\" font-size=\"14.00\" fill=\"#000000\">petal width (cm) &lt;= 1.75</text>\n<text text-anchor=\"middle\" x=\"363.5\" y=\"-394.8\" font-family=\"Times,serif\" font-size=\"14.00\" fill=\"#000000\">gini = 0.136</text>\n<text text-anchor=\"middle\" x=\"363.5\" y=\"-379.8\" font-family=\"Times,serif\" font-size=\"14.00\" fill=\"#000000\">samples = 41</text>\n<text text-anchor=\"middle\" x=\"363.5\" y=\"-364.8\" font-family=\"Times,serif\" font-size=\"14.00\" fill=\"#000000\">value = [0, 3, 38]</text>\n<text text-anchor=\"middle\" x=\"363.5\" y=\"-349.8\" font-family=\"Times,serif\" font-size=\"14.00\" fill=\"#000000\">class = virginica</text>\n</g>\n<!-- 2&#45;&gt;6 -->\n<g id=\"edge6\" class=\"edge\">\n<title>2&#45;&gt;6</title>\n<path fill=\"none\" stroke=\"#000000\" d=\"M304.3274,-460.8796C311.1457,-451.9633 318.4156,-442.4565 325.4421,-433.268\"/>\n<polygon fill=\"#000000\" stroke=\"#000000\" points=\"328.2425,-435.3678 331.5368,-425.2981 322.682,-431.1156 328.2425,-435.3678\"/>\n</g>\n<!-- 4 -->\n<g id=\"node5\" class=\"node\">\n<title>4</title>\n<polygon fill=\"#39e581\" stroke=\"#000000\" points=\"117,-298.5 0,-298.5 0,-230.5 117,-230.5 117,-298.5\"/>\n<text text-anchor=\"middle\" x=\"58.5\" y=\"-283.3\" font-family=\"Times,serif\" font-size=\"14.00\" fill=\"#000000\">gini = 0.0</text>\n<text text-anchor=\"middle\" x=\"58.5\" y=\"-268.3\" font-family=\"Times,serif\" font-size=\"14.00\" fill=\"#000000\">samples = 37</text>\n<text text-anchor=\"middle\" x=\"58.5\" y=\"-253.3\" font-family=\"Times,serif\" font-size=\"14.00\" fill=\"#000000\">value = [0, 37, 0]</text>\n<text text-anchor=\"middle\" x=\"58.5\" y=\"-238.3\" font-family=\"Times,serif\" font-size=\"14.00\" fill=\"#000000\">class = versicolor</text>\n</g>\n<!-- 3&#45;&gt;4 -->\n<g id=\"edge4\" class=\"edge\">\n<title>3&#45;&gt;4</title>\n<path fill=\"none\" stroke=\"#000000\" d=\"M139.1308,-341.8796C126.9852,-330.2237 113.7881,-317.5587 101.6549,-305.9148\"/>\n<polygon fill=\"#000000\" stroke=\"#000000\" points=\"103.8953,-303.2138 94.2567,-298.8149 99.0484,-308.2643 103.8953,-303.2138\"/>\n</g>\n<!-- 5 -->\n<g id=\"node6\" class=\"node\">\n<title>5</title>\n<polygon fill=\"#8139e5\" stroke=\"#000000\" points=\"245.5,-298.5 135.5,-298.5 135.5,-230.5 245.5,-230.5 245.5,-298.5\"/>\n<text text-anchor=\"middle\" x=\"190.5\" y=\"-283.3\" font-family=\"Times,serif\" font-size=\"14.00\" fill=\"#000000\">gini = 0.0</text>\n<text text-anchor=\"middle\" x=\"190.5\" y=\"-268.3\" font-family=\"Times,serif\" font-size=\"14.00\" fill=\"#000000\">samples = 1</text>\n<text text-anchor=\"middle\" x=\"190.5\" y=\"-253.3\" font-family=\"Times,serif\" font-size=\"14.00\" fill=\"#000000\">value = [0, 0, 1]</text>\n<text text-anchor=\"middle\" x=\"190.5\" y=\"-238.3\" font-family=\"Times,serif\" font-size=\"14.00\" fill=\"#000000\">class = virginica</text>\n</g>\n<!-- 3&#45;&gt;5 -->\n<g id=\"edge5\" class=\"edge\">\n<title>3&#45;&gt;5</title>\n<path fill=\"none\" stroke=\"#000000\" d=\"M185.298,-341.8796C186.0151,-331.2134 186.7889,-319.7021 187.515,-308.9015\"/>\n<polygon fill=\"#000000\" stroke=\"#000000\" points=\"191.0144,-309.0272 188.1931,-298.8149 184.0301,-308.5576 191.0144,-309.0272\"/>\n</g>\n<!-- 7 -->\n<g id=\"node8\" class=\"node\">\n<title>7</title>\n<polygon fill=\"#ffffff\" stroke=\"#000000\" points=\"434,-306 279,-306 279,-223 434,-223 434,-306\"/>\n<text text-anchor=\"middle\" x=\"356.5\" y=\"-290.8\" font-family=\"Times,serif\" font-size=\"14.00\" fill=\"#000000\">sepal width (cm) &lt;= 2.6</text>\n<text text-anchor=\"middle\" x=\"356.5\" y=\"-275.8\" font-family=\"Times,serif\" font-size=\"14.00\" fill=\"#000000\">gini = 0.5</text>\n<text text-anchor=\"middle\" x=\"356.5\" y=\"-260.8\" font-family=\"Times,serif\" font-size=\"14.00\" fill=\"#000000\">samples = 4</text>\n<text text-anchor=\"middle\" x=\"356.5\" y=\"-245.8\" font-family=\"Times,serif\" font-size=\"14.00\" fill=\"#000000\">value = [0, 2, 2]</text>\n<text text-anchor=\"middle\" x=\"356.5\" y=\"-230.8\" font-family=\"Times,serif\" font-size=\"14.00\" fill=\"#000000\">class = versicolor</text>\n</g>\n<!-- 6&#45;&gt;7 -->\n<g id=\"edge7\" class=\"edge\">\n<title>6&#45;&gt;7</title>\n<path fill=\"none\" stroke=\"#000000\" d=\"M361.0517,-341.8796C360.5696,-333.6838 360.0582,-324.9891 359.5589,-316.5013\"/>\n<polygon fill=\"#000000\" stroke=\"#000000\" points=\"363.04,-316.0753 358.9587,-306.2981 356.0521,-316.4864 363.04,-316.0753\"/>\n</g>\n<!-- 12 -->\n<g id=\"node13\" class=\"node\">\n<title>12</title>\n<polygon fill=\"#843ee6\" stroke=\"#000000\" points=\"621.5,-306 457.5,-306 457.5,-223 621.5,-223 621.5,-306\"/>\n<text text-anchor=\"middle\" x=\"539.5\" y=\"-290.8\" font-family=\"Times,serif\" font-size=\"14.00\" fill=\"#000000\">petal length (cm) &lt;= 4.85</text>\n<text text-anchor=\"middle\" x=\"539.5\" y=\"-275.8\" font-family=\"Times,serif\" font-size=\"14.00\" fill=\"#000000\">gini = 0.053</text>\n<text text-anchor=\"middle\" x=\"539.5\" y=\"-260.8\" font-family=\"Times,serif\" font-size=\"14.00\" fill=\"#000000\">samples = 37</text>\n<text text-anchor=\"middle\" x=\"539.5\" y=\"-245.8\" font-family=\"Times,serif\" font-size=\"14.00\" fill=\"#000000\">value = [0, 1, 36]</text>\n<text text-anchor=\"middle\" x=\"539.5\" y=\"-230.8\" font-family=\"Times,serif\" font-size=\"14.00\" fill=\"#000000\">class = virginica</text>\n</g>\n<!-- 6&#45;&gt;12 -->\n<g id=\"edge12\" class=\"edge\">\n<title>6&#45;&gt;12</title>\n<path fill=\"none\" stroke=\"#000000\" d=\"M425.0563,-341.8796C439.3918,-332.1868 454.7595,-321.7961 469.4325,-311.8752\"/>\n<polygon fill=\"#000000\" stroke=\"#000000\" points=\"471.6548,-314.5976 477.9785,-306.0969 467.7339,-308.7987 471.6548,-314.5976\"/>\n</g>\n<!-- 8 -->\n<g id=\"node9\" class=\"node\">\n<title>8</title>\n<polygon fill=\"#8139e5\" stroke=\"#000000\" points=\"255.5,-179.5 145.5,-179.5 145.5,-111.5 255.5,-111.5 255.5,-179.5\"/>\n<text text-anchor=\"middle\" x=\"200.5\" y=\"-164.3\" font-family=\"Times,serif\" font-size=\"14.00\" fill=\"#000000\">gini = 0.0</text>\n<text text-anchor=\"middle\" x=\"200.5\" y=\"-149.3\" font-family=\"Times,serif\" font-size=\"14.00\" fill=\"#000000\">samples = 1</text>\n<text text-anchor=\"middle\" x=\"200.5\" y=\"-134.3\" font-family=\"Times,serif\" font-size=\"14.00\" fill=\"#000000\">value = [0, 0, 1]</text>\n<text text-anchor=\"middle\" x=\"200.5\" y=\"-119.3\" font-family=\"Times,serif\" font-size=\"14.00\" fill=\"#000000\">class = virginica</text>\n</g>\n<!-- 7&#45;&gt;8 -->\n<g id=\"edge8\" class=\"edge\">\n<title>7&#45;&gt;8</title>\n<path fill=\"none\" stroke=\"#000000\" d=\"M301.9388,-222.8796C286.1516,-210.8368 268.9521,-197.7167 253.2759,-185.7586\"/>\n<polygon fill=\"#000000\" stroke=\"#000000\" points=\"255.3063,-182.9053 245.2327,-179.623 251.0608,-188.4709 255.3063,-182.9053\"/>\n</g>\n<!-- 9 -->\n<g id=\"node10\" class=\"node\">\n<title>9</title>\n<polygon fill=\"#9cf2c0\" stroke=\"#000000\" points=\"439,-187 274,-187 274,-104 439,-104 439,-187\"/>\n<text text-anchor=\"middle\" x=\"356.5\" y=\"-171.8\" font-family=\"Times,serif\" font-size=\"14.00\" fill=\"#000000\">sepal length (cm) &lt;= 6.95</text>\n<text text-anchor=\"middle\" x=\"356.5\" y=\"-156.8\" font-family=\"Times,serif\" font-size=\"14.00\" fill=\"#000000\">gini = 0.444</text>\n<text text-anchor=\"middle\" x=\"356.5\" y=\"-141.8\" font-family=\"Times,serif\" font-size=\"14.00\" fill=\"#000000\">samples = 3</text>\n<text text-anchor=\"middle\" x=\"356.5\" y=\"-126.8\" font-family=\"Times,serif\" font-size=\"14.00\" fill=\"#000000\">value = [0, 2, 1]</text>\n<text text-anchor=\"middle\" x=\"356.5\" y=\"-111.8\" font-family=\"Times,serif\" font-size=\"14.00\" fill=\"#000000\">class = versicolor</text>\n</g>\n<!-- 7&#45;&gt;9 -->\n<g id=\"edge9\" class=\"edge\">\n<title>7&#45;&gt;9</title>\n<path fill=\"none\" stroke=\"#000000\" d=\"M356.5,-222.8796C356.5,-214.6838 356.5,-205.9891 356.5,-197.5013\"/>\n<polygon fill=\"#000000\" stroke=\"#000000\" points=\"360.0001,-197.298 356.5,-187.2981 353.0001,-197.2981 360.0001,-197.298\"/>\n</g>\n<!-- 10 -->\n<g id=\"node11\" class=\"node\">\n<title>10</title>\n<polygon fill=\"#39e581\" stroke=\"#000000\" points=\"296,-68 181,-68 181,0 296,0 296,-68\"/>\n<text text-anchor=\"middle\" x=\"238.5\" y=\"-52.8\" font-family=\"Times,serif\" font-size=\"14.00\" fill=\"#000000\">gini = 0.0</text>\n<text text-anchor=\"middle\" x=\"238.5\" y=\"-37.8\" font-family=\"Times,serif\" font-size=\"14.00\" fill=\"#000000\">samples = 2</text>\n<text text-anchor=\"middle\" x=\"238.5\" y=\"-22.8\" font-family=\"Times,serif\" font-size=\"14.00\" fill=\"#000000\">value = [0, 2, 0]</text>\n<text text-anchor=\"middle\" x=\"238.5\" y=\"-7.8\" font-family=\"Times,serif\" font-size=\"14.00\" fill=\"#000000\">class = versicolor</text>\n</g>\n<!-- 9&#45;&gt;10 -->\n<g id=\"edge10\" class=\"edge\">\n<title>9&#45;&gt;10</title>\n<path fill=\"none\" stroke=\"#000000\" d=\"M312.5612,-103.9815C302.6402,-94.607 292.1103,-84.6572 282.1992,-75.2921\"/>\n<polygon fill=\"#000000\" stroke=\"#000000\" points=\"284.4334,-72.5878 274.7611,-68.2637 279.6257,-77.6757 284.4334,-72.5878\"/>\n</g>\n<!-- 11 -->\n<g id=\"node12\" class=\"node\">\n<title>11</title>\n<polygon fill=\"#8139e5\" stroke=\"#000000\" points=\"424.5,-68 314.5,-68 314.5,0 424.5,0 424.5,-68\"/>\n<text text-anchor=\"middle\" x=\"369.5\" y=\"-52.8\" font-family=\"Times,serif\" font-size=\"14.00\" fill=\"#000000\">gini = 0.0</text>\n<text text-anchor=\"middle\" x=\"369.5\" y=\"-37.8\" font-family=\"Times,serif\" font-size=\"14.00\" fill=\"#000000\">samples = 1</text>\n<text text-anchor=\"middle\" x=\"369.5\" y=\"-22.8\" font-family=\"Times,serif\" font-size=\"14.00\" fill=\"#000000\">value = [0, 0, 1]</text>\n<text text-anchor=\"middle\" x=\"369.5\" y=\"-7.8\" font-family=\"Times,serif\" font-size=\"14.00\" fill=\"#000000\">class = virginica</text>\n</g>\n<!-- 9&#45;&gt;11 -->\n<g id=\"edge11\" class=\"edge\">\n<title>9&#45;&gt;11</title>\n<path fill=\"none\" stroke=\"#000000\" d=\"M361.3407,-103.9815C362.3158,-95.618 363.3443,-86.7965 364.3302,-78.3409\"/>\n<polygon fill=\"#000000\" stroke=\"#000000\" points=\"367.8234,-78.6017 365.5051,-68.2637 360.8705,-77.791 367.8234,-78.6017\"/>\n</g>\n<!-- 13 -->\n<g id=\"node14\" class=\"node\">\n<title>13</title>\n<polygon fill=\"#c09cf2\" stroke=\"#000000\" points=\"622,-187 457,-187 457,-104 622,-104 622,-187\"/>\n<text text-anchor=\"middle\" x=\"539.5\" y=\"-171.8\" font-family=\"Times,serif\" font-size=\"14.00\" fill=\"#000000\">sepal length (cm) &lt;= 5.95</text>\n<text text-anchor=\"middle\" x=\"539.5\" y=\"-156.8\" font-family=\"Times,serif\" font-size=\"14.00\" fill=\"#000000\">gini = 0.444</text>\n<text text-anchor=\"middle\" x=\"539.5\" y=\"-141.8\" font-family=\"Times,serif\" font-size=\"14.00\" fill=\"#000000\">samples = 3</text>\n<text text-anchor=\"middle\" x=\"539.5\" y=\"-126.8\" font-family=\"Times,serif\" font-size=\"14.00\" fill=\"#000000\">value = [0, 1, 2]</text>\n<text text-anchor=\"middle\" x=\"539.5\" y=\"-111.8\" font-family=\"Times,serif\" font-size=\"14.00\" fill=\"#000000\">class = virginica</text>\n</g>\n<!-- 12&#45;&gt;13 -->\n<g id=\"edge13\" class=\"edge\">\n<title>12&#45;&gt;13</title>\n<path fill=\"none\" stroke=\"#000000\" d=\"M539.5,-222.8796C539.5,-214.6838 539.5,-205.9891 539.5,-197.5013\"/>\n<polygon fill=\"#000000\" stroke=\"#000000\" points=\"543.0001,-197.298 539.5,-187.2981 536.0001,-197.2981 543.0001,-197.298\"/>\n</g>\n<!-- 16 -->\n<g id=\"node17\" class=\"node\">\n<title>16</title>\n<polygon fill=\"#8139e5\" stroke=\"#000000\" points=\"757,-179.5 640,-179.5 640,-111.5 757,-111.5 757,-179.5\"/>\n<text text-anchor=\"middle\" x=\"698.5\" y=\"-164.3\" font-family=\"Times,serif\" font-size=\"14.00\" fill=\"#000000\">gini = 0.0</text>\n<text text-anchor=\"middle\" x=\"698.5\" y=\"-149.3\" font-family=\"Times,serif\" font-size=\"14.00\" fill=\"#000000\">samples = 34</text>\n<text text-anchor=\"middle\" x=\"698.5\" y=\"-134.3\" font-family=\"Times,serif\" font-size=\"14.00\" fill=\"#000000\">value = [0, 0, 34]</text>\n<text text-anchor=\"middle\" x=\"698.5\" y=\"-119.3\" font-family=\"Times,serif\" font-size=\"14.00\" fill=\"#000000\">class = virginica</text>\n</g>\n<!-- 12&#45;&gt;16 -->\n<g id=\"edge16\" class=\"edge\">\n<title>12&#45;&gt;16</title>\n<path fill=\"none\" stroke=\"#000000\" d=\"M595.1105,-222.8796C611.2013,-210.8368 628.7315,-197.7167 644.7091,-185.7586\"/>\n<polygon fill=\"#000000\" stroke=\"#000000\" points=\"646.9982,-188.4171 652.907,-179.623 642.8038,-182.8129 646.9982,-188.4171\"/>\n</g>\n<!-- 14 -->\n<g id=\"node15\" class=\"node\">\n<title>14</title>\n<polygon fill=\"#39e581\" stroke=\"#000000\" points=\"584,-68 469,-68 469,0 584,0 584,-68\"/>\n<text text-anchor=\"middle\" x=\"526.5\" y=\"-52.8\" font-family=\"Times,serif\" font-size=\"14.00\" fill=\"#000000\">gini = 0.0</text>\n<text text-anchor=\"middle\" x=\"526.5\" y=\"-37.8\" font-family=\"Times,serif\" font-size=\"14.00\" fill=\"#000000\">samples = 1</text>\n<text text-anchor=\"middle\" x=\"526.5\" y=\"-22.8\" font-family=\"Times,serif\" font-size=\"14.00\" fill=\"#000000\">value = [0, 1, 0]</text>\n<text text-anchor=\"middle\" x=\"526.5\" y=\"-7.8\" font-family=\"Times,serif\" font-size=\"14.00\" fill=\"#000000\">class = versicolor</text>\n</g>\n<!-- 13&#45;&gt;14 -->\n<g id=\"edge14\" class=\"edge\">\n<title>13&#45;&gt;14</title>\n<path fill=\"none\" stroke=\"#000000\" d=\"M534.6593,-103.9815C533.6842,-95.618 532.6557,-86.7965 531.6698,-78.3409\"/>\n<polygon fill=\"#000000\" stroke=\"#000000\" points=\"535.1295,-77.791 530.4949,-68.2637 528.1766,-78.6017 535.1295,-77.791\"/>\n</g>\n<!-- 15 -->\n<g id=\"node16\" class=\"node\">\n<title>15</title>\n<polygon fill=\"#8139e5\" stroke=\"#000000\" points=\"712.5,-68 602.5,-68 602.5,0 712.5,0 712.5,-68\"/>\n<text text-anchor=\"middle\" x=\"657.5\" y=\"-52.8\" font-family=\"Times,serif\" font-size=\"14.00\" fill=\"#000000\">gini = 0.0</text>\n<text text-anchor=\"middle\" x=\"657.5\" y=\"-37.8\" font-family=\"Times,serif\" font-size=\"14.00\" fill=\"#000000\">samples = 2</text>\n<text text-anchor=\"middle\" x=\"657.5\" y=\"-22.8\" font-family=\"Times,serif\" font-size=\"14.00\" fill=\"#000000\">value = [0, 0, 2]</text>\n<text text-anchor=\"middle\" x=\"657.5\" y=\"-7.8\" font-family=\"Times,serif\" font-size=\"14.00\" fill=\"#000000\">class = virginica</text>\n</g>\n<!-- 13&#45;&gt;15 -->\n<g id=\"edge15\" class=\"edge\">\n<title>13&#45;&gt;15</title>\n<path fill=\"none\" stroke=\"#000000\" d=\"M583.4388,-103.9815C593.3598,-94.607 603.8897,-84.6572 613.8008,-75.2921\"/>\n<polygon fill=\"#000000\" stroke=\"#000000\" points=\"616.3743,-77.6757 621.2389,-68.2637 611.5666,-72.5878 616.3743,-77.6757\"/>\n</g>\n</g>\n</svg>\n"
          },
          "metadata": {
            "tags": []
          }
        }
      ]
    },
    {
      "cell_type": "markdown",
      "metadata": {
        "id": "kIRobWA1lPiC"
      },
      "source": [
        "- 각 규칙에 따라 트리의 브랜치(branch) 노드와 말단 리프(leaf) 노드가 어떻게 구성되는지 시각화\n",
        "\n",
        "- 트리를 조사할 때 많은 수의 데이터가 흐르는 경로를 찾는 것이 중요"
      ]
    },
    {
      "cell_type": "markdown",
      "metadata": {
        "id": "OKdO_hbwV_-6"
      },
      "source": [
        "트리 시각화 장점\n",
        "- 알고리즘의 예측이 어떻게 이뤄지는지 이해가 가능\n",
        "- 비전문가에게 머신러닝 알고리즘을 설명하기에 좋음"
      ]
    },
    {
      "cell_type": "code",
      "metadata": {
        "id": "SmZJxU3Wo4_p",
        "colab": {
          "base_uri": "https://localhost:8080/",
          "height": 490
        },
        "outputId": "b5584ee8-1cc9-4cb0-9066-a1c7873c05a5"
      },
      "source": [
        "# 사이킷런 0.21 버전 이후 맷플롯립 기반 트리 그래프 시각화 함수 추가\n",
        "import matplotlib.pyplot as plt\n",
        "from sklearn import tree\n",
        "\n",
        "plt.figure( figsize=(20,15))\n",
        "tree.plot_tree(model,\n",
        "                class_names=iris.target_names,\n",
        "                feature_names=iris.feature_names,\n",
        "                filled=True, impurity=False,\n",
        "               rounded=True)\n",
        "plt.show()"
      ],
      "execution_count": null,
      "outputs": [
        {
          "output_type": "display_data",
          "data": {
            "image/png": "[encoded data removed]",
            "text/plain": [
              "<Figure size 1440x1080 with 1 Axes>"
            ]
          },
          "metadata": {
            "tags": [],
            "needs_background": "light"
          }
        }
      ]
    },
    {
      "cell_type": "code",
      "metadata": {
        "colab": {
          "base_uri": "https://localhost:8080/",
          "height": 675
        },
        "id": "iSCHSL8pD_ty",
        "outputId": "916d06fb-1c06-4164-c473-48edc47964f3"
      },
      "source": [
        "# min_samples_split\n",
        "# 자식 규칙 노드를 분할해 만들기 위한 최소한의 샘플 데이터 개수\n",
        "# 모델학습\n",
        "model = DecisionTreeClassifier(min_samples_split=4).fit(X_train, y_train)\n",
        "# 평가\n",
        "model.score(X_train, y_train), model.score(X_test, y_test)\n",
        "\n",
        "# 결정트리 규칙 시각화\n",
        "export_graphviz(model, out_file='tree.dot',\n",
        "                class_names=iris.target_names,\n",
        "                feature_names=iris.feature_names,\n",
        "                filled=True, rounded=True, impurity=False)\n",
        "\n",
        "# \"tree.dot\" 파일을 graphviz 가 읽어서 주피터 노트북에 시각화\n",
        "with open('tree.dot') as f:\n",
        "  dot_graph = f.read()\n",
        "\n",
        "display( graphviz.Source(dot_graph) )"
      ],
      "execution_count": null,
      "outputs": [
        {
          "output_type": "display_data",
          "data": {
            "text/plain": [
              "<graphviz.files.Source at 0x7fbf3d214090>"
            ],
            "image/svg+xml": "<?xml version=\"1.0\" encoding=\"UTF-8\" standalone=\"no\"?>\n<!DOCTYPE svg PUBLIC \"-//W3C//DTD SVG 1.1//EN\"\n \"http://www.w3.org/Graphics/SVG/1.1/DTD/svg11.dtd\">\n<!-- Generated by graphviz version 2.40.1 (20161225.0304)\n -->\n<!-- Title: Tree Pages: 1 -->\n<svg width=\"776pt\" height=\"477pt\"\n viewBox=\"0.00 0.00 775.50 477.00\" xmlns=\"http://www.w3.org/2000/svg\" xmlns:xlink=\"http://www.w3.org/1999/xlink\">\n<g id=\"graph0\" class=\"graph\" transform=\"scale(1 1) rotate(0) translate(4 473)\">\n<title>Tree</title>\n<polygon fill=\"#ffffff\" stroke=\"transparent\" points=\"-4,4 -4,-473 771.5,-473 771.5,4 -4,4\"/>\n<!-- 0 -->\n<g id=\"node1\" class=\"node\">\n<title>0</title>\n<path fill=\"#fffdfd\" stroke=\"#000000\" d=\"M281,-469C281,-469 143,-469 143,-469 137,-469 131,-463 131,-457 131,-457 131,-413 131,-413 131,-407 137,-401 143,-401 143,-401 281,-401 281,-401 287,-401 293,-407 293,-413 293,-413 293,-457 293,-457 293,-463 287,-469 281,-469\"/>\n<text text-anchor=\"middle\" x=\"212\" y=\"-453.8\" font-family=\"Helvetica,sans-Serif\" font-size=\"14.00\" fill=\"#000000\">petal width (cm) &lt;= 0.8</text>\n<text text-anchor=\"middle\" x=\"212\" y=\"-438.8\" font-family=\"Helvetica,sans-Serif\" font-size=\"14.00\" fill=\"#000000\">samples = 120</text>\n<text text-anchor=\"middle\" x=\"212\" y=\"-423.8\" font-family=\"Helvetica,sans-Serif\" font-size=\"14.00\" fill=\"#000000\">value = [41, 40, 39]</text>\n<text text-anchor=\"middle\" x=\"212\" y=\"-408.8\" font-family=\"Helvetica,sans-Serif\" font-size=\"14.00\" fill=\"#000000\">class = setosa</text>\n</g>\n<!-- 1 -->\n<g id=\"node2\" class=\"node\">\n<title>1</title>\n<path fill=\"#e58139\" stroke=\"#000000\" d=\"M179.5,-357.5C179.5,-357.5 80.5,-357.5 80.5,-357.5 74.5,-357.5 68.5,-351.5 68.5,-345.5 68.5,-345.5 68.5,-316.5 68.5,-316.5 68.5,-310.5 74.5,-304.5 80.5,-304.5 80.5,-304.5 179.5,-304.5 179.5,-304.5 185.5,-304.5 191.5,-310.5 191.5,-316.5 191.5,-316.5 191.5,-345.5 191.5,-345.5 191.5,-351.5 185.5,-357.5 179.5,-357.5\"/>\n<text text-anchor=\"middle\" x=\"130\" y=\"-342.3\" font-family=\"Helvetica,sans-Serif\" font-size=\"14.00\" fill=\"#000000\">samples = 41</text>\n<text text-anchor=\"middle\" x=\"130\" y=\"-327.3\" font-family=\"Helvetica,sans-Serif\" font-size=\"14.00\" fill=\"#000000\">value = [41, 0, 0]</text>\n<text text-anchor=\"middle\" x=\"130\" y=\"-312.3\" font-family=\"Helvetica,sans-Serif\" font-size=\"14.00\" fill=\"#000000\">class = setosa</text>\n</g>\n<!-- 0&#45;&gt;1 -->\n<g id=\"edge1\" class=\"edge\">\n<title>0&#45;&gt;1</title>\n<path fill=\"none\" stroke=\"#000000\" d=\"M185.1501,-400.9465C176.2048,-389.6012 166.2351,-376.9567 157.259,-365.5724\"/>\n<polygon fill=\"#000000\" stroke=\"#000000\" points=\"159.8675,-363.2278 150.9275,-357.5422 154.3706,-367.5619 159.8675,-363.2278\"/>\n<text text-anchor=\"middle\" x=\"147.991\" y=\"-378.6691\" font-family=\"Helvetica,sans-Serif\" font-size=\"14.00\" fill=\"#000000\">True</text>\n</g>\n<!-- 2 -->\n<g id=\"node3\" class=\"node\">\n<title>2</title>\n<path fill=\"#fafefc\" stroke=\"#000000\" d=\"M368,-365C368,-365 222,-365 222,-365 216,-365 210,-359 210,-353 210,-353 210,-309 210,-309 210,-303 216,-297 222,-297 222,-297 368,-297 368,-297 374,-297 380,-303 380,-309 380,-309 380,-353 380,-353 380,-359 374,-365 368,-365\"/>\n<text text-anchor=\"middle\" x=\"295\" y=\"-349.8\" font-family=\"Helvetica,sans-Serif\" font-size=\"14.00\" fill=\"#000000\">petal width (cm) &lt;= 1.55</text>\n<text text-anchor=\"middle\" x=\"295\" y=\"-334.8\" font-family=\"Helvetica,sans-Serif\" font-size=\"14.00\" fill=\"#000000\">samples = 79</text>\n<text text-anchor=\"middle\" x=\"295\" y=\"-319.8\" font-family=\"Helvetica,sans-Serif\" font-size=\"14.00\" fill=\"#000000\">value = [0, 40, 39]</text>\n<text text-anchor=\"middle\" x=\"295\" y=\"-304.8\" font-family=\"Helvetica,sans-Serif\" font-size=\"14.00\" fill=\"#000000\">class = versicolor</text>\n</g>\n<!-- 0&#45;&gt;2 -->\n<g id=\"edge2\" class=\"edge\">\n<title>0&#45;&gt;2</title>\n<path fill=\"none\" stroke=\"#000000\" d=\"M239.1773,-400.9465C246.2712,-392.0578 254.0015,-382.3716 261.386,-373.1188\"/>\n<polygon fill=\"#000000\" stroke=\"#000000\" points=\"264.2594,-375.1293 267.7616,-365.13 258.7882,-370.7628 264.2594,-375.1293\"/>\n<text text-anchor=\"middle\" x=\"270.5516\" y=\"-386.2738\" font-family=\"Helvetica,sans-Serif\" font-size=\"14.00\" fill=\"#000000\">False</text>\n</g>\n<!-- 3 -->\n<g id=\"node4\" class=\"node\">\n<title>3</title>\n<path fill=\"#3ee684\" stroke=\"#000000\" d=\"M276,-261C276,-261 124,-261 124,-261 118,-261 112,-255 112,-249 112,-249 112,-205 112,-205 112,-199 118,-193 124,-193 124,-193 276,-193 276,-193 282,-193 288,-199 288,-205 288,-205 288,-249 288,-249 288,-255 282,-261 276,-261\"/>\n<text text-anchor=\"middle\" x=\"200\" y=\"-245.8\" font-family=\"Helvetica,sans-Serif\" font-size=\"14.00\" fill=\"#000000\">petal length (cm) &lt;= 5.25</text>\n<text text-anchor=\"middle\" x=\"200\" y=\"-230.8\" font-family=\"Helvetica,sans-Serif\" font-size=\"14.00\" fill=\"#000000\">samples = 38</text>\n<text text-anchor=\"middle\" x=\"200\" y=\"-215.8\" font-family=\"Helvetica,sans-Serif\" font-size=\"14.00\" fill=\"#000000\">value = [0, 37, 1]</text>\n<text text-anchor=\"middle\" x=\"200\" y=\"-200.8\" font-family=\"Helvetica,sans-Serif\" font-size=\"14.00\" fill=\"#000000\">class = versicolor</text>\n</g>\n<!-- 2&#45;&gt;3 -->\n<g id=\"edge3\" class=\"edge\">\n<title>2&#45;&gt;3</title>\n<path fill=\"none\" stroke=\"#000000\" d=\"M263.8934,-296.9465C255.6099,-287.8782 246.5682,-277.9799 237.9621,-268.5585\"/>\n<polygon fill=\"#000000\" stroke=\"#000000\" points=\"240.505,-266.1528 231.1764,-261.13 235.3367,-270.8739 240.505,-266.1528\"/>\n</g>\n<!-- 6 -->\n<g id=\"node7\" class=\"node\">\n<title>6</title>\n<path fill=\"#8b49e7\" stroke=\"#000000\" d=\"M464,-261C464,-261 318,-261 318,-261 312,-261 306,-255 306,-249 306,-249 306,-205 306,-205 306,-199 312,-193 318,-193 318,-193 464,-193 464,-193 470,-193 476,-199 476,-205 476,-205 476,-249 476,-249 476,-255 470,-261 464,-261\"/>\n<text text-anchor=\"middle\" x=\"391\" y=\"-245.8\" font-family=\"Helvetica,sans-Serif\" font-size=\"14.00\" fill=\"#000000\">petal width (cm) &lt;= 1.75</text>\n<text text-anchor=\"middle\" x=\"391\" y=\"-230.8\" font-family=\"Helvetica,sans-Serif\" font-size=\"14.00\" fill=\"#000000\">samples = 41</text>\n<text text-anchor=\"middle\" x=\"391\" y=\"-215.8\" font-family=\"Helvetica,sans-Serif\" font-size=\"14.00\" fill=\"#000000\">value = [0, 3, 38]</text>\n<text text-anchor=\"middle\" x=\"391\" y=\"-200.8\" font-family=\"Helvetica,sans-Serif\" font-size=\"14.00\" fill=\"#000000\">class = virginica</text>\n</g>\n<!-- 2&#45;&gt;6 -->\n<g id=\"edge6\" class=\"edge\">\n<title>2&#45;&gt;6</title>\n<path fill=\"none\" stroke=\"#000000\" d=\"M326.434,-296.9465C334.8047,-287.8782 343.9416,-277.9799 352.6383,-268.5585\"/>\n<polygon fill=\"#000000\" stroke=\"#000000\" points=\"355.2844,-270.852 359.4954,-261.13 350.1407,-266.1041 355.2844,-270.852\"/>\n</g>\n<!-- 4 -->\n<g id=\"node5\" class=\"node\">\n<title>4</title>\n<path fill=\"#39e581\" stroke=\"#000000\" d=\"M116,-149.5C116,-149.5 12,-149.5 12,-149.5 6,-149.5 0,-143.5 0,-137.5 0,-137.5 0,-108.5 0,-108.5 0,-102.5 6,-96.5 12,-96.5 12,-96.5 116,-96.5 116,-96.5 122,-96.5 128,-102.5 128,-108.5 128,-108.5 128,-137.5 128,-137.5 128,-143.5 122,-149.5 116,-149.5\"/>\n<text text-anchor=\"middle\" x=\"64\" y=\"-134.3\" font-family=\"Helvetica,sans-Serif\" font-size=\"14.00\" fill=\"#000000\">samples = 37</text>\n<text text-anchor=\"middle\" x=\"64\" y=\"-119.3\" font-family=\"Helvetica,sans-Serif\" font-size=\"14.00\" fill=\"#000000\">value = [0, 37, 0]</text>\n<text text-anchor=\"middle\" x=\"64\" y=\"-104.3\" font-family=\"Helvetica,sans-Serif\" font-size=\"14.00\" fill=\"#000000\">class = versicolor</text>\n</g>\n<!-- 3&#45;&gt;4 -->\n<g id=\"edge4\" class=\"edge\">\n<title>3&#45;&gt;4</title>\n<path fill=\"none\" stroke=\"#000000\" d=\"M155.4685,-192.9465C139.9121,-181.0504 122.4879,-167.726 107.0541,-155.9237\"/>\n<polygon fill=\"#000000\" stroke=\"#000000\" points=\"108.7787,-152.8364 98.709,-149.5422 104.5265,-158.397 108.7787,-152.8364\"/>\n</g>\n<!-- 5 -->\n<g id=\"node6\" class=\"node\">\n<title>5</title>\n<path fill=\"#8139e5\" stroke=\"#000000\" d=\"M253.5,-149.5C253.5,-149.5 158.5,-149.5 158.5,-149.5 152.5,-149.5 146.5,-143.5 146.5,-137.5 146.5,-137.5 146.5,-108.5 146.5,-108.5 146.5,-102.5 152.5,-96.5 158.5,-96.5 158.5,-96.5 253.5,-96.5 253.5,-96.5 259.5,-96.5 265.5,-102.5 265.5,-108.5 265.5,-108.5 265.5,-137.5 265.5,-137.5 265.5,-143.5 259.5,-149.5 253.5,-149.5\"/>\n<text text-anchor=\"middle\" x=\"206\" y=\"-134.3\" font-family=\"Helvetica,sans-Serif\" font-size=\"14.00\" fill=\"#000000\">samples = 1</text>\n<text text-anchor=\"middle\" x=\"206\" y=\"-119.3\" font-family=\"Helvetica,sans-Serif\" font-size=\"14.00\" fill=\"#000000\">value = [0, 0, 1]</text>\n<text text-anchor=\"middle\" x=\"206\" y=\"-104.3\" font-family=\"Helvetica,sans-Serif\" font-size=\"14.00\" fill=\"#000000\">class = virginica</text>\n</g>\n<!-- 3&#45;&gt;5 -->\n<g id=\"edge5\" class=\"edge\">\n<title>3&#45;&gt;5</title>\n<path fill=\"none\" stroke=\"#000000\" d=\"M201.9646,-192.9465C202.581,-182.2621 203.2639,-170.4254 203.8899,-159.5742\"/>\n<polygon fill=\"#000000\" stroke=\"#000000\" points=\"207.3869,-159.7272 204.4687,-149.5422 200.3985,-159.3239 207.3869,-159.7272\"/>\n</g>\n<!-- 7 -->\n<g id=\"node8\" class=\"node\">\n<title>7</title>\n<path fill=\"#ffffff\" stroke=\"#000000\" d=\"M463,-157C463,-157 307,-157 307,-157 301,-157 295,-151 295,-145 295,-145 295,-101 295,-101 295,-95 301,-89 307,-89 307,-89 463,-89 463,-89 469,-89 475,-95 475,-101 475,-101 475,-145 475,-145 475,-151 469,-157 463,-157\"/>\n<text text-anchor=\"middle\" x=\"385\" y=\"-141.8\" font-family=\"Helvetica,sans-Serif\" font-size=\"14.00\" fill=\"#000000\">sepal length (cm) &lt;= 5.45</text>\n<text text-anchor=\"middle\" x=\"385\" y=\"-126.8\" font-family=\"Helvetica,sans-Serif\" font-size=\"14.00\" fill=\"#000000\">samples = 4</text>\n<text text-anchor=\"middle\" x=\"385\" y=\"-111.8\" font-family=\"Helvetica,sans-Serif\" font-size=\"14.00\" fill=\"#000000\">value = [0, 2, 2]</text>\n<text text-anchor=\"middle\" x=\"385\" y=\"-96.8\" font-family=\"Helvetica,sans-Serif\" font-size=\"14.00\" fill=\"#000000\">class = versicolor</text>\n</g>\n<!-- 6&#45;&gt;7 -->\n<g id=\"edge7\" class=\"edge\">\n<title>6&#45;&gt;7</title>\n<path fill=\"none\" stroke=\"#000000\" d=\"M389.0354,-192.9465C388.564,-184.776 388.0538,-175.9318 387.5598,-167.3697\"/>\n<polygon fill=\"#000000\" stroke=\"#000000\" points=\"391.0393,-166.9118 386.969,-157.13 384.0509,-167.315 391.0393,-166.9118\"/>\n</g>\n<!-- 10 -->\n<g id=\"node11\" class=\"node\">\n<title>10</title>\n<path fill=\"#843ee6\" stroke=\"#000000\" d=\"M657,-157C657,-157 505,-157 505,-157 499,-157 493,-151 493,-145 493,-145 493,-101 493,-101 493,-95 499,-89 505,-89 505,-89 657,-89 657,-89 663,-89 669,-95 669,-101 669,-101 669,-145 669,-145 669,-151 663,-157 657,-157\"/>\n<text text-anchor=\"middle\" x=\"581\" y=\"-141.8\" font-family=\"Helvetica,sans-Serif\" font-size=\"14.00\" fill=\"#000000\">petal length (cm) &lt;= 4.85</text>\n<text text-anchor=\"middle\" x=\"581\" y=\"-126.8\" font-family=\"Helvetica,sans-Serif\" font-size=\"14.00\" fill=\"#000000\">samples = 37</text>\n<text text-anchor=\"middle\" x=\"581\" y=\"-111.8\" font-family=\"Helvetica,sans-Serif\" font-size=\"14.00\" fill=\"#000000\">value = [0, 1, 36]</text>\n<text text-anchor=\"middle\" x=\"581\" y=\"-96.8\" font-family=\"Helvetica,sans-Serif\" font-size=\"14.00\" fill=\"#000000\">class = virginica</text>\n</g>\n<!-- 6&#45;&gt;10 -->\n<g id=\"edge10\" class=\"edge\">\n<title>6&#45;&gt;10</title>\n<path fill=\"none\" stroke=\"#000000\" d=\"M453.2131,-192.9465C471.2565,-183.0701 491.0985,-172.2093 509.6546,-162.0522\"/>\n<polygon fill=\"#000000\" stroke=\"#000000\" points=\"511.5557,-165.0017 518.6471,-157.13 508.1947,-158.8613 511.5557,-165.0017\"/>\n</g>\n<!-- 8 -->\n<g id=\"node9\" class=\"node\">\n<title>8</title>\n<path fill=\"#8139e5\" stroke=\"#000000\" d=\"M303.5,-53C303.5,-53 208.5,-53 208.5,-53 202.5,-53 196.5,-47 196.5,-41 196.5,-41 196.5,-12 196.5,-12 196.5,-6 202.5,0 208.5,0 208.5,0 303.5,0 303.5,0 309.5,0 315.5,-6 315.5,-12 315.5,-12 315.5,-41 315.5,-41 315.5,-47 309.5,-53 303.5,-53\"/>\n<text text-anchor=\"middle\" x=\"256\" y=\"-37.8\" font-family=\"Helvetica,sans-Serif\" font-size=\"14.00\" fill=\"#000000\">samples = 1</text>\n<text text-anchor=\"middle\" x=\"256\" y=\"-22.8\" font-family=\"Helvetica,sans-Serif\" font-size=\"14.00\" fill=\"#000000\">value = [0, 0, 1]</text>\n<text text-anchor=\"middle\" x=\"256\" y=\"-7.8\" font-family=\"Helvetica,sans-Serif\" font-size=\"14.00\" fill=\"#000000\">class = virginica</text>\n</g>\n<!-- 7&#45;&gt;8 -->\n<g id=\"edge8\" class=\"edge\">\n<title>7&#45;&gt;8</title>\n<path fill=\"none\" stroke=\"#000000\" d=\"M339.5194,-88.9777C326.6665,-79.3629 312.7069,-68.9203 299.946,-59.3743\"/>\n<polygon fill=\"#000000\" stroke=\"#000000\" points=\"301.861,-56.436 291.757,-53.2485 297.668,-62.0412 301.861,-56.436\"/>\n</g>\n<!-- 9 -->\n<g id=\"node10\" class=\"node\">\n<title>9</title>\n<path fill=\"#9cf2c0\" stroke=\"#000000\" d=\"M450,-53C450,-53 346,-53 346,-53 340,-53 334,-47 334,-41 334,-41 334,-12 334,-12 334,-6 340,0 346,0 346,0 450,0 450,0 456,0 462,-6 462,-12 462,-12 462,-41 462,-41 462,-47 456,-53 450,-53\"/>\n<text text-anchor=\"middle\" x=\"398\" y=\"-37.8\" font-family=\"Helvetica,sans-Serif\" font-size=\"14.00\" fill=\"#000000\">samples = 3</text>\n<text text-anchor=\"middle\" x=\"398\" y=\"-22.8\" font-family=\"Helvetica,sans-Serif\" font-size=\"14.00\" fill=\"#000000\">value = [0, 2, 1]</text>\n<text text-anchor=\"middle\" x=\"398\" y=\"-7.8\" font-family=\"Helvetica,sans-Serif\" font-size=\"14.00\" fill=\"#000000\">class = versicolor</text>\n</g>\n<!-- 7&#45;&gt;9 -->\n<g id=\"edge9\" class=\"edge\">\n<title>7&#45;&gt;9</title>\n<path fill=\"none\" stroke=\"#000000\" d=\"M389.5833,-88.9777C390.7059,-80.6449 391.9122,-71.6903 393.051,-63.2364\"/>\n<polygon fill=\"#000000\" stroke=\"#000000\" points=\"396.5301,-63.6263 394.3966,-53.2485 389.5927,-62.6916 396.5301,-63.6263\"/>\n</g>\n<!-- 11 -->\n<g id=\"node12\" class=\"node\">\n<title>11</title>\n<path fill=\"#c09cf2\" stroke=\"#000000\" d=\"M614.5,-53C614.5,-53 519.5,-53 519.5,-53 513.5,-53 507.5,-47 507.5,-41 507.5,-41 507.5,-12 507.5,-12 507.5,-6 513.5,0 519.5,0 519.5,0 614.5,0 614.5,0 620.5,0 626.5,-6 626.5,-12 626.5,-12 626.5,-41 626.5,-41 626.5,-47 620.5,-53 614.5,-53\"/>\n<text text-anchor=\"middle\" x=\"567\" y=\"-37.8\" font-family=\"Helvetica,sans-Serif\" font-size=\"14.00\" fill=\"#000000\">samples = 3</text>\n<text text-anchor=\"middle\" x=\"567\" y=\"-22.8\" font-family=\"Helvetica,sans-Serif\" font-size=\"14.00\" fill=\"#000000\">value = [0, 1, 2]</text>\n<text text-anchor=\"middle\" x=\"567\" y=\"-7.8\" font-family=\"Helvetica,sans-Serif\" font-size=\"14.00\" fill=\"#000000\">class = virginica</text>\n</g>\n<!-- 10&#45;&gt;11 -->\n<g id=\"edge11\" class=\"edge\">\n<title>10&#45;&gt;11</title>\n<path fill=\"none\" stroke=\"#000000\" d=\"M576.0641,-88.9777C574.8552,-80.6449 573.5561,-71.6903 572.3296,-63.2364\"/>\n<polygon fill=\"#000000\" stroke=\"#000000\" points=\"575.7802,-62.6423 570.8806,-53.2485 568.8527,-63.6474 575.7802,-62.6423\"/>\n</g>\n<!-- 12 -->\n<g id=\"node13\" class=\"node\">\n<title>12</title>\n<path fill=\"#8139e5\" stroke=\"#000000\" d=\"M755.5,-53C755.5,-53 656.5,-53 656.5,-53 650.5,-53 644.5,-47 644.5,-41 644.5,-41 644.5,-12 644.5,-12 644.5,-6 650.5,0 656.5,0 656.5,0 755.5,0 755.5,0 761.5,0 767.5,-6 767.5,-12 767.5,-12 767.5,-41 767.5,-41 767.5,-47 761.5,-53 755.5,-53\"/>\n<text text-anchor=\"middle\" x=\"706\" y=\"-37.8\" font-family=\"Helvetica,sans-Serif\" font-size=\"14.00\" fill=\"#000000\">samples = 34</text>\n<text text-anchor=\"middle\" x=\"706\" y=\"-22.8\" font-family=\"Helvetica,sans-Serif\" font-size=\"14.00\" fill=\"#000000\">value = [0, 0, 34]</text>\n<text text-anchor=\"middle\" x=\"706\" y=\"-7.8\" font-family=\"Helvetica,sans-Serif\" font-size=\"14.00\" fill=\"#000000\">class = virginica</text>\n</g>\n<!-- 10&#45;&gt;12 -->\n<g id=\"edge12\" class=\"edge\">\n<title>10&#45;&gt;12</title>\n<path fill=\"none\" stroke=\"#000000\" d=\"M625.0703,-88.9777C637.5248,-79.3629 651.0515,-68.9203 663.4167,-59.3743\"/>\n<polygon fill=\"#000000\" stroke=\"#000000\" points=\"665.5749,-62.1299 671.3517,-53.2485 661.2972,-56.5889 665.5749,-62.1299\"/>\n</g>\n</g>\n</svg>\n"
          },
          "metadata": {
            "tags": []
          }
        }
      ]
    },
    {
      "cell_type": "code",
      "metadata": {
        "id": "PkMotFBgqRzS",
        "colab": {
          "base_uri": "https://localhost:8080/",
          "height": 675
        },
        "outputId": "50daa6c8-743e-4da2-b6ce-b4b6f26fa884"
      },
      "source": [
        "# min_samples_leaf\n",
        "# 리프 노드가 될 수 있는 샘플 데이터 건수의 최솟값\n",
        "# 모델학습\n",
        "model = DecisionTreeClassifier(min_samples_leaf=4).fit(X_train, y_train)\n",
        "\n",
        "# 평가\n",
        "model.score(X_train, y_train), model.score(X_test, y_test)\n",
        "\n",
        "# 결정트리 규칙 시각화\n",
        "export_graphviz(model, out_file='tree.dot',\n",
        "                class_names=iris.target_names,\n",
        "                feature_names=iris.feature_names,\n",
        "                filled=True, rounded=True, impurity=False)\n",
        "\n",
        "# \"tree.dot\" 파일을 graphviz 가 읽어서 주피터 노트북에 시각화\n",
        "with open('tree.dot') as f:\n",
        "  dot_graph = f.read()\n",
        "\n",
        "display( graphviz.Source(dot_graph) )"
      ],
      "execution_count": null,
      "outputs": [
        {
          "output_type": "display_data",
          "data": {
            "text/plain": [
              "<graphviz.files.Source at 0x7fbf374570d0>"
            ],
            "image/svg+xml": "<?xml version=\"1.0\" encoding=\"UTF-8\" standalone=\"no\"?>\n<!DOCTYPE svg PUBLIC \"-//W3C//DTD SVG 1.1//EN\"\n \"http://www.w3.org/Graphics/SVG/1.1/DTD/svg11.dtd\">\n<!-- Generated by graphviz version 2.40.1 (20161225.0304)\n -->\n<!-- Title: Tree Pages: 1 -->\n<svg width=\"689pt\" height=\"477pt\"\n viewBox=\"0.00 0.00 688.50 477.00\" xmlns=\"http://www.w3.org/2000/svg\" xmlns:xlink=\"http://www.w3.org/1999/xlink\">\n<g id=\"graph0\" class=\"graph\" transform=\"scale(1 1) rotate(0) translate(4 473)\">\n<title>Tree</title>\n<polygon fill=\"#ffffff\" stroke=\"transparent\" points=\"-4,4 -4,-473 684.5,-473 684.5,4 -4,4\"/>\n<!-- 0 -->\n<g id=\"node1\" class=\"node\">\n<title>0</title>\n<path fill=\"#fffdfd\" stroke=\"#000000\" d=\"M287,-469C287,-469 135,-469 135,-469 129,-469 123,-463 123,-457 123,-457 123,-413 123,-413 123,-407 129,-401 135,-401 135,-401 287,-401 287,-401 293,-401 299,-407 299,-413 299,-413 299,-457 299,-457 299,-463 293,-469 287,-469\"/>\n<text text-anchor=\"middle\" x=\"211\" y=\"-453.8\" font-family=\"Helvetica,sans-Serif\" font-size=\"14.00\" fill=\"#000000\">petal length (cm) &lt;= 2.45</text>\n<text text-anchor=\"middle\" x=\"211\" y=\"-438.8\" font-family=\"Helvetica,sans-Serif\" font-size=\"14.00\" fill=\"#000000\">samples = 120</text>\n<text text-anchor=\"middle\" x=\"211\" y=\"-423.8\" font-family=\"Helvetica,sans-Serif\" font-size=\"14.00\" fill=\"#000000\">value = [41, 40, 39]</text>\n<text text-anchor=\"middle\" x=\"211\" y=\"-408.8\" font-family=\"Helvetica,sans-Serif\" font-size=\"14.00\" fill=\"#000000\">class = setosa</text>\n</g>\n<!-- 1 -->\n<g id=\"node2\" class=\"node\">\n<title>1</title>\n<path fill=\"#e58139\" stroke=\"#000000\" d=\"M178.5,-357.5C178.5,-357.5 79.5,-357.5 79.5,-357.5 73.5,-357.5 67.5,-351.5 67.5,-345.5 67.5,-345.5 67.5,-316.5 67.5,-316.5 67.5,-310.5 73.5,-304.5 79.5,-304.5 79.5,-304.5 178.5,-304.5 178.5,-304.5 184.5,-304.5 190.5,-310.5 190.5,-316.5 190.5,-316.5 190.5,-345.5 190.5,-345.5 190.5,-351.5 184.5,-357.5 178.5,-357.5\"/>\n<text text-anchor=\"middle\" x=\"129\" y=\"-342.3\" font-family=\"Helvetica,sans-Serif\" font-size=\"14.00\" fill=\"#000000\">samples = 41</text>\n<text text-anchor=\"middle\" x=\"129\" y=\"-327.3\" font-family=\"Helvetica,sans-Serif\" font-size=\"14.00\" fill=\"#000000\">value = [41, 0, 0]</text>\n<text text-anchor=\"middle\" x=\"129\" y=\"-312.3\" font-family=\"Helvetica,sans-Serif\" font-size=\"14.00\" fill=\"#000000\">class = setosa</text>\n</g>\n<!-- 0&#45;&gt;1 -->\n<g id=\"edge1\" class=\"edge\">\n<title>0&#45;&gt;1</title>\n<path fill=\"none\" stroke=\"#000000\" d=\"M184.1501,-400.9465C175.2048,-389.6012 165.2351,-376.9567 156.259,-365.5724\"/>\n<polygon fill=\"#000000\" stroke=\"#000000\" points=\"158.8675,-363.2278 149.9275,-357.5422 153.3706,-367.5619 158.8675,-363.2278\"/>\n<text text-anchor=\"middle\" x=\"146.991\" y=\"-378.6691\" font-family=\"Helvetica,sans-Serif\" font-size=\"14.00\" fill=\"#000000\">True</text>\n</g>\n<!-- 2 -->\n<g id=\"node3\" class=\"node\">\n<title>2</title>\n<path fill=\"#fafefc\" stroke=\"#000000\" d=\"M367,-365C367,-365 221,-365 221,-365 215,-365 209,-359 209,-353 209,-353 209,-309 209,-309 209,-303 215,-297 221,-297 221,-297 367,-297 367,-297 373,-297 379,-303 379,-309 379,-309 379,-353 379,-353 379,-359 373,-365 367,-365\"/>\n<text text-anchor=\"middle\" x=\"294\" y=\"-349.8\" font-family=\"Helvetica,sans-Serif\" font-size=\"14.00\" fill=\"#000000\">petal width (cm) &lt;= 1.55</text>\n<text text-anchor=\"middle\" x=\"294\" y=\"-334.8\" font-family=\"Helvetica,sans-Serif\" font-size=\"14.00\" fill=\"#000000\">samples = 79</text>\n<text text-anchor=\"middle\" x=\"294\" y=\"-319.8\" font-family=\"Helvetica,sans-Serif\" font-size=\"14.00\" fill=\"#000000\">value = [0, 40, 39]</text>\n<text text-anchor=\"middle\" x=\"294\" y=\"-304.8\" font-family=\"Helvetica,sans-Serif\" font-size=\"14.00\" fill=\"#000000\">class = versicolor</text>\n</g>\n<!-- 0&#45;&gt;2 -->\n<g id=\"edge2\" class=\"edge\">\n<title>0&#45;&gt;2</title>\n<path fill=\"none\" stroke=\"#000000\" d=\"M238.1773,-400.9465C245.2712,-392.0578 253.0015,-382.3716 260.386,-373.1188\"/>\n<polygon fill=\"#000000\" stroke=\"#000000\" points=\"263.2594,-375.1293 266.7616,-365.13 257.7882,-370.7628 263.2594,-375.1293\"/>\n<text text-anchor=\"middle\" x=\"269.5516\" y=\"-386.2738\" font-family=\"Helvetica,sans-Serif\" font-size=\"14.00\" fill=\"#000000\">False</text>\n</g>\n<!-- 3 -->\n<g id=\"node4\" class=\"node\">\n<title>3</title>\n<path fill=\"#3ee684\" stroke=\"#000000\" d=\"M274,-261C274,-261 122,-261 122,-261 116,-261 110,-255 110,-249 110,-249 110,-205 110,-205 110,-199 116,-193 122,-193 122,-193 274,-193 274,-193 280,-193 286,-199 286,-205 286,-205 286,-249 286,-249 286,-255 280,-261 274,-261\"/>\n<text text-anchor=\"middle\" x=\"198\" y=\"-245.8\" font-family=\"Helvetica,sans-Serif\" font-size=\"14.00\" fill=\"#000000\">petal length (cm) &lt;= 4.75</text>\n<text text-anchor=\"middle\" x=\"198\" y=\"-230.8\" font-family=\"Helvetica,sans-Serif\" font-size=\"14.00\" fill=\"#000000\">samples = 38</text>\n<text text-anchor=\"middle\" x=\"198\" y=\"-215.8\" font-family=\"Helvetica,sans-Serif\" font-size=\"14.00\" fill=\"#000000\">value = [0, 37, 1]</text>\n<text text-anchor=\"middle\" x=\"198\" y=\"-200.8\" font-family=\"Helvetica,sans-Serif\" font-size=\"14.00\" fill=\"#000000\">class = versicolor</text>\n</g>\n<!-- 2&#45;&gt;3 -->\n<g id=\"edge3\" class=\"edge\">\n<title>2&#45;&gt;3</title>\n<path fill=\"none\" stroke=\"#000000\" d=\"M262.566,-296.9465C254.1953,-287.8782 245.0584,-277.9799 236.3617,-268.5585\"/>\n<polygon fill=\"#000000\" stroke=\"#000000\" points=\"238.8593,-266.1041 229.5046,-261.13 233.7156,-270.852 238.8593,-266.1041\"/>\n</g>\n<!-- 6 -->\n<g id=\"node7\" class=\"node\">\n<title>6</title>\n<path fill=\"#8b49e7\" stroke=\"#000000\" d=\"M462,-261C462,-261 316,-261 316,-261 310,-261 304,-255 304,-249 304,-249 304,-205 304,-205 304,-199 310,-193 316,-193 316,-193 462,-193 462,-193 468,-193 474,-199 474,-205 474,-205 474,-249 474,-249 474,-255 468,-261 462,-261\"/>\n<text text-anchor=\"middle\" x=\"389\" y=\"-245.8\" font-family=\"Helvetica,sans-Serif\" font-size=\"14.00\" fill=\"#000000\">petal width (cm) &lt;= 1.75</text>\n<text text-anchor=\"middle\" x=\"389\" y=\"-230.8\" font-family=\"Helvetica,sans-Serif\" font-size=\"14.00\" fill=\"#000000\">samples = 41</text>\n<text text-anchor=\"middle\" x=\"389\" y=\"-215.8\" font-family=\"Helvetica,sans-Serif\" font-size=\"14.00\" fill=\"#000000\">value = [0, 3, 38]</text>\n<text text-anchor=\"middle\" x=\"389\" y=\"-200.8\" font-family=\"Helvetica,sans-Serif\" font-size=\"14.00\" fill=\"#000000\">class = virginica</text>\n</g>\n<!-- 2&#45;&gt;6 -->\n<g id=\"edge6\" class=\"edge\">\n<title>2&#45;&gt;6</title>\n<path fill=\"none\" stroke=\"#000000\" d=\"M325.1066,-296.9465C333.3901,-287.8782 342.4318,-277.9799 351.0379,-268.5585\"/>\n<polygon fill=\"#000000\" stroke=\"#000000\" points=\"353.6633,-270.8739 357.8236,-261.13 348.495,-266.1528 353.6633,-270.8739\"/>\n</g>\n<!-- 4 -->\n<g id=\"node5\" class=\"node\">\n<title>4</title>\n<path fill=\"#39e581\" stroke=\"#000000\" d=\"M116,-149.5C116,-149.5 12,-149.5 12,-149.5 6,-149.5 0,-143.5 0,-137.5 0,-137.5 0,-108.5 0,-108.5 0,-102.5 6,-96.5 12,-96.5 12,-96.5 116,-96.5 116,-96.5 122,-96.5 128,-102.5 128,-108.5 128,-108.5 128,-137.5 128,-137.5 128,-143.5 122,-149.5 116,-149.5\"/>\n<text text-anchor=\"middle\" x=\"64\" y=\"-134.3\" font-family=\"Helvetica,sans-Serif\" font-size=\"14.00\" fill=\"#000000\">samples = 34</text>\n<text text-anchor=\"middle\" x=\"64\" y=\"-119.3\" font-family=\"Helvetica,sans-Serif\" font-size=\"14.00\" fill=\"#000000\">value = [0, 34, 0]</text>\n<text text-anchor=\"middle\" x=\"64\" y=\"-104.3\" font-family=\"Helvetica,sans-Serif\" font-size=\"14.00\" fill=\"#000000\">class = versicolor</text>\n</g>\n<!-- 3&#45;&gt;4 -->\n<g id=\"edge4\" class=\"edge\">\n<title>3&#45;&gt;4</title>\n<path fill=\"none\" stroke=\"#000000\" d=\"M154.1234,-192.9465C138.7957,-181.0504 121.6277,-167.726 106.4209,-155.9237\"/>\n<polygon fill=\"#000000\" stroke=\"#000000\" points=\"108.2444,-152.9085 98.1986,-149.5422 103.9525,-158.4384 108.2444,-152.9085\"/>\n</g>\n<!-- 5 -->\n<g id=\"node6\" class=\"node\">\n<title>5</title>\n<path fill=\"#7beeab\" stroke=\"#000000\" d=\"M262,-149.5C262,-149.5 158,-149.5 158,-149.5 152,-149.5 146,-143.5 146,-137.5 146,-137.5 146,-108.5 146,-108.5 146,-102.5 152,-96.5 158,-96.5 158,-96.5 262,-96.5 262,-96.5 268,-96.5 274,-102.5 274,-108.5 274,-108.5 274,-137.5 274,-137.5 274,-143.5 268,-149.5 262,-149.5\"/>\n<text text-anchor=\"middle\" x=\"210\" y=\"-134.3\" font-family=\"Helvetica,sans-Serif\" font-size=\"14.00\" fill=\"#000000\">samples = 4</text>\n<text text-anchor=\"middle\" x=\"210\" y=\"-119.3\" font-family=\"Helvetica,sans-Serif\" font-size=\"14.00\" fill=\"#000000\">value = [0, 3, 1]</text>\n<text text-anchor=\"middle\" x=\"210\" y=\"-104.3\" font-family=\"Helvetica,sans-Serif\" font-size=\"14.00\" fill=\"#000000\">class = versicolor</text>\n</g>\n<!-- 3&#45;&gt;5 -->\n<g id=\"edge5\" class=\"edge\">\n<title>3&#45;&gt;5</title>\n<path fill=\"none\" stroke=\"#000000\" d=\"M201.9292,-192.9465C203.1621,-182.2621 204.5278,-170.4254 205.7799,-159.5742\"/>\n<polygon fill=\"#000000\" stroke=\"#000000\" points=\"209.268,-159.8775 206.9374,-149.5422 202.3142,-159.075 209.268,-159.8775\"/>\n</g>\n<!-- 7 -->\n<g id=\"node8\" class=\"node\">\n<title>7</title>\n<path fill=\"#ffffff\" stroke=\"#000000\" d=\"M430,-149.5C430,-149.5 326,-149.5 326,-149.5 320,-149.5 314,-143.5 314,-137.5 314,-137.5 314,-108.5 314,-108.5 314,-102.5 320,-96.5 326,-96.5 326,-96.5 430,-96.5 430,-96.5 436,-96.5 442,-102.5 442,-108.5 442,-108.5 442,-137.5 442,-137.5 442,-143.5 436,-149.5 430,-149.5\"/>\n<text text-anchor=\"middle\" x=\"378\" y=\"-134.3\" font-family=\"Helvetica,sans-Serif\" font-size=\"14.00\" fill=\"#000000\">samples = 4</text>\n<text text-anchor=\"middle\" x=\"378\" y=\"-119.3\" font-family=\"Helvetica,sans-Serif\" font-size=\"14.00\" fill=\"#000000\">value = [0, 2, 2]</text>\n<text text-anchor=\"middle\" x=\"378\" y=\"-104.3\" font-family=\"Helvetica,sans-Serif\" font-size=\"14.00\" fill=\"#000000\">class = versicolor</text>\n</g>\n<!-- 6&#45;&gt;7 -->\n<g id=\"edge7\" class=\"edge\">\n<title>6&#45;&gt;7</title>\n<path fill=\"none\" stroke=\"#000000\" d=\"M385.3982,-192.9465C384.2681,-182.2621 383.0162,-170.4254 381.8684,-159.5742\"/>\n<polygon fill=\"#000000\" stroke=\"#000000\" points=\"385.3398,-159.1185 380.8073,-149.5422 378.3787,-159.8549 385.3398,-159.1185\"/>\n</g>\n<!-- 8 -->\n<g id=\"node9\" class=\"node\">\n<title>8</title>\n<path fill=\"#843ee6\" stroke=\"#000000\" d=\"M628,-157C628,-157 472,-157 472,-157 466,-157 460,-151 460,-145 460,-145 460,-101 460,-101 460,-95 466,-89 472,-89 472,-89 628,-89 628,-89 634,-89 640,-95 640,-101 640,-101 640,-145 640,-145 640,-151 634,-157 628,-157\"/>\n<text text-anchor=\"middle\" x=\"550\" y=\"-141.8\" font-family=\"Helvetica,sans-Serif\" font-size=\"14.00\" fill=\"#000000\">sepal length (cm) &lt;= 5.95</text>\n<text text-anchor=\"middle\" x=\"550\" y=\"-126.8\" font-family=\"Helvetica,sans-Serif\" font-size=\"14.00\" fill=\"#000000\">samples = 37</text>\n<text text-anchor=\"middle\" x=\"550\" y=\"-111.8\" font-family=\"Helvetica,sans-Serif\" font-size=\"14.00\" fill=\"#000000\">value = [0, 1, 36]</text>\n<text text-anchor=\"middle\" x=\"550\" y=\"-96.8\" font-family=\"Helvetica,sans-Serif\" font-size=\"14.00\" fill=\"#000000\">class = virginica</text>\n</g>\n<!-- 6&#45;&gt;8 -->\n<g id=\"edge8\" class=\"edge\">\n<title>6&#45;&gt;8</title>\n<path fill=\"none\" stroke=\"#000000\" d=\"M441.7174,-192.9465C456.7288,-183.2497 473.2094,-172.6039 488.6854,-162.6069\"/>\n<polygon fill=\"#000000\" stroke=\"#000000\" points=\"490.6633,-165.496 497.1641,-157.13 486.8651,-159.6161 490.6633,-165.496\"/>\n</g>\n<!-- 9 -->\n<g id=\"node10\" class=\"node\">\n<title>9</title>\n<path fill=\"#ab7bee\" stroke=\"#000000\" d=\"M527.5,-53C527.5,-53 432.5,-53 432.5,-53 426.5,-53 420.5,-47 420.5,-41 420.5,-41 420.5,-12 420.5,-12 420.5,-6 426.5,0 432.5,0 432.5,0 527.5,0 527.5,0 533.5,0 539.5,-6 539.5,-12 539.5,-12 539.5,-41 539.5,-41 539.5,-47 533.5,-53 527.5,-53\"/>\n<text text-anchor=\"middle\" x=\"480\" y=\"-37.8\" font-family=\"Helvetica,sans-Serif\" font-size=\"14.00\" fill=\"#000000\">samples = 4</text>\n<text text-anchor=\"middle\" x=\"480\" y=\"-22.8\" font-family=\"Helvetica,sans-Serif\" font-size=\"14.00\" fill=\"#000000\">value = [0, 1, 3]</text>\n<text text-anchor=\"middle\" x=\"480\" y=\"-7.8\" font-family=\"Helvetica,sans-Serif\" font-size=\"14.00\" fill=\"#000000\">class = virginica</text>\n</g>\n<!-- 8&#45;&gt;9 -->\n<g id=\"edge9\" class=\"edge\">\n<title>8&#45;&gt;9</title>\n<path fill=\"none\" stroke=\"#000000\" d=\"M525.3206,-88.9777C518.8775,-80.0954 511.922,-70.5067 505.4402,-61.5711\"/>\n<polygon fill=\"#000000\" stroke=\"#000000\" points=\"508.1079,-59.288 499.403,-53.2485 502.4417,-63.3982 508.1079,-59.288\"/>\n</g>\n<!-- 10 -->\n<g id=\"node11\" class=\"node\">\n<title>10</title>\n<path fill=\"#8139e5\" stroke=\"#000000\" d=\"M668.5,-53C668.5,-53 569.5,-53 569.5,-53 563.5,-53 557.5,-47 557.5,-41 557.5,-41 557.5,-12 557.5,-12 557.5,-6 563.5,0 569.5,0 569.5,0 668.5,0 668.5,0 674.5,0 680.5,-6 680.5,-12 680.5,-12 680.5,-41 680.5,-41 680.5,-47 674.5,-53 668.5,-53\"/>\n<text text-anchor=\"middle\" x=\"619\" y=\"-37.8\" font-family=\"Helvetica,sans-Serif\" font-size=\"14.00\" fill=\"#000000\">samples = 33</text>\n<text text-anchor=\"middle\" x=\"619\" y=\"-22.8\" font-family=\"Helvetica,sans-Serif\" font-size=\"14.00\" fill=\"#000000\">value = [0, 0, 33]</text>\n<text text-anchor=\"middle\" x=\"619\" y=\"-7.8\" font-family=\"Helvetica,sans-Serif\" font-size=\"14.00\" fill=\"#000000\">class = virginica</text>\n</g>\n<!-- 8&#45;&gt;10 -->\n<g id=\"edge10\" class=\"edge\">\n<title>8&#45;&gt;10</title>\n<path fill=\"none\" stroke=\"#000000\" d=\"M574.3268,-88.9777C580.6779,-80.0954 587.534,-70.5067 593.9232,-61.5711\"/>\n<polygon fill=\"#000000\" stroke=\"#000000\" points=\"596.9048,-63.4187 599.8741,-53.2485 591.2107,-59.3472 596.9048,-63.4187\"/>\n</g>\n</g>\n</svg>\n"
          },
          "metadata": {
            "tags": []
          }
        }
      ]
    },
    {
      "cell_type": "markdown",
      "metadata": {
        "id": "EJSzedIm4TVK"
      },
      "source": [
        "##### 트리 특성 중요도\n",
        "\n",
        "- 특성 중요도(feature importance) : 트리를 만드는 결정에 각 특성이 얼마나 중요한지를 평가\n",
        "\n",
        "- 이 값은 0과 1 사이의 숫자로, 각 특성에 대해 0은 전혀 사용되지 않았다는 뜻이고 1은 완벽하게 타깃 클래스를 예측했다는 뜻\n",
        "- 특성 중요도의 전체 합은 1"
      ]
    },
    {
      "cell_type": "markdown",
      "metadata": {
        "id": "WokVlV4NvWDu"
      },
      "source": [
        "feature_importances_\n",
        "\n",
        "- 중요한 몇 개의 특성(feature)이 명확한 트리를 만드는 데 크게 기여 </br>\n",
        "(모델을 좀 더 간결하고 이상치(Outlier)에 강한 모델을 만들 수 있기 때문)\n",
        "- 결정트리가 학습을 통해 규칙을 정하는 데 있어 피처의 중요한 역할 지표를 feature_importances_ 로 제공"
      ]
    },
    {
      "cell_type": "code",
      "metadata": {
        "id": "P5sASE9AwPZm",
        "colab": {
          "base_uri": "https://localhost:8080/",
          "height": 282
        },
        "outputId": "386554f6-1bab-4acc-bf9f-b51548536e07"
      },
      "source": [
        "import seaborn as sns\n",
        "import numpy as np\n",
        "%matplotlib inline\n",
        "\n",
        "# feature importance 추출 \n",
        "print('트리 특성 중요도:', np.round(model.feature_importances_, 3) )\n",
        "\n",
        "# feature별 importance 매핑\n",
        "# feature importance를 column 별로 시각화 하기 \n",
        "sns.barplot(x=model.feature_importances_, y=iris.feature_names)\n",
        "plt.show()"
      ],
      "execution_count": null,
      "outputs": [
        {
          "output_type": "stream",
          "text": [
            "트리 특성 중요도: [0.006 0.    0.546 0.448]\n"
          ],
          "name": "stdout"
        },
        {
          "output_type": "display_data",
          "data": {
            "image/png": "[encoded data removed]",
            "text/plain": [
              "<Figure size 432x288 with 1 Axes>"
            ]
          },
          "metadata": {
            "tags": [],
            "needs_background": "light"
          }
        }
      ]
    }
  ]
}
