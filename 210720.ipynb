{
  "nbformat": 4,
  "nbformat_minor": 0,
  "metadata": {
    "colab": {
      "name": "210720.ipynb",
      "provenance": [],
      "collapsed_sections": [],
      "authorship_tag": "ABX9TyPgKLW0OfiFmHk84PzMAWsY",
      "include_colab_link": true
    },
    "kernelspec": {
      "name": "python3",
      "display_name": "Python 3"
    },
    "language_info": {
      "name": "python"
    }
  },
  "cells": [
    {
      "cell_type": "markdown",
      "metadata": {
        "id": "view-in-github",
        "colab_type": "text"
      },
      "source": [
        "<a href=\"https://colab.research.google.com/github/yun-aha/GSTEC/blob/main/210720.ipynb\" target=\"_parent\"><img src=\"https://colab.research.google.com/assets/colab-badge.svg\" alt=\"Open In Colab\"/></a>"
      ]
    },
    {
      "cell_type": "markdown",
      "metadata": {
        "id": "0cgiCtNENTI8"
      },
      "source": [
        "# 1. 빅데이터 분석\n",
        "\n",
        "### 1 : 이산확률변수 & 확률분포"
      ]
    },
    {
      "cell_type": "markdown",
      "metadata": {
        "id": "YKs4_OSCOFhW"
      },
      "source": [
        "확률변수:\n",
        "* 확률변수 (random variable): 확률실험의 각 결과에 실수를 부여하는 함수.\n",
        "* 확률변수의 값은 하나의 수치로 나타낸 사건이다.  \n",
        "* 확률변수의 유형\n",
        "  1. 이산확률변수 (discrete random variable): 셀 수 있는 가지수의 값을 가지는 확률변수.\n",
        "  2. 연속확률변수 (continuous random variable): 셀 수 없는 (무한대) 가지수의 값을 가지는 확률\n",
        "변수"
      ]
    },
    {
      "cell_type": "markdown",
      "metadata": {
        "id": "Q9rM1FVPOJPQ"
      },
      "source": [
        "확률분포의 유형:\n",
        "* 이산확률분포함수 (discrete probability distribution): 이산확률변수가 가지는 값과 이것의 확률 사이의 대응 관계.  \n",
        "→ 확률변수 X의 값이 x일 확률은 𝑃(𝑋 = 𝑥) 또는 𝑃 𝑥 와 같이 표기한다.\n",
        "  - 이산확률분포의 필수조건:\n",
        "    * 0 ≤ 𝑃(𝑥) ≤ 1\n",
        "    * σ𝑎𝑙𝑙 𝑥𝑖 𝑃(𝑥𝑖) = 1\n",
        "\n",
        "* 연속확률분포함수/확률밀도함수 (continuous probability distribution/probability density\n",
        "function): 이것을 사용하여 연속확률변수의 값이 특정 구간에 속할 확률을 나타냄."
      ]
    },
    {
      "cell_type": "markdown",
      "metadata": {
        "id": "-lChi5zlOFjy"
      },
      "source": [
        "누적확률:\n",
        "* 확률변수 X의 개별값이 실현되는 확률을 확률분포 𝑃(𝑥)로 나타내었다.\n",
        "* 누적확률은 확률변수의 값이 특정 구간에 속할 확률이다.  \n",
        "예). 𝑃(𝑋 ≥ 80)  \n",
        "𝑃(𝑋는 50이상 80 이하)  \n",
        "𝑃(𝑋는 최소값 이상 최고값 이하)\n",
        "* 누적확률은 0 이상 1이하의 수치이다."
      ]
    },
    {
      "cell_type": "markdown",
      "metadata": {
        "id": "MgBU78QAOFlq"
      },
      "source": [
        "모집단과 모수:\n",
        "* 모집단 (population): 분석 대상 전체 (현실적 또는 이상적).\n",
        "* 모수 (parameter): 모집단의 특성을 의미함.  \n",
        "예). 모평균, 모분산, 모표준편차, 등.\n",
        "* 확률분포함수를 사용해서 모수를 계산할 수 있다.  \n",
        "\n",
        "이산확률변수의 모평균 m :\n",
        "* 이산확률변수가 가질 수 있는 값들에 확률을 가중치로 곱해서 평균을 구한 것 (='더한 것).\n",
        "* 확률변수 X의 기대값 (expected value)이라고도 부르며 𝐸[𝑋]로 나타낸다.  \n",
        "m = E[X] = ∑xP(x)\n",
        "\n",
        "이산확률변수의 모분산 𝜎**2:\n",
        "* 모평균을 기준으로한 편차의 제곱에 확률을 가중치로 곱해서 평균을 구한 것 (='더한 것).\n",
        "* 확률변수 X의 모분산을 𝑉𝑎𝑟(𝑋)와 같이 나타내기도 한다.  \n",
        "𝜎**2 = 𝑉𝑎𝑟(X) = ∑(x-m)^2 * P(x) = (∑x^2 * P(x)) - m^2 = E[X^2] - (E[X])^2"
      ]
    },
    {
      "cell_type": "markdown",
      "metadata": {
        "id": "Vl6FfJEAOFnt"
      },
      "source": [
        "### 2: 이산확률분포의 여러 종류"
      ]
    },
    {
      "cell_type": "markdown",
      "metadata": {
        "id": "IchoN1UAOFpK"
      },
      "source": [
        "베르누이 확률분포 (Bernoulli), 베르누이 시행:\n",
        "* 베르누이 시행에는 두개의 가능한 값이 있다.  \n",
        "예). 1 또는 0, 동전의 앞면(H) 또는 뒷면(T), “성공” 또는 “실패”.\n",
        "* 확률변수 X가 베르누이 확률분포를 따른다는 것을 다음과 같이 표기할 수 있다.  \n",
        "𝑋~𝐵𝑒𝑟(𝑝)\n"
      ]
    },
    {
      "cell_type": "markdown",
      "metadata": {
        "id": "V_0Ocf1MP3Za"
      },
      "source": [
        "이항확률분포 (Binomial):\n",
        "* 이항확률변수 𝑋𝑏𝑖𝑛은 0 또는 1의 값을 갖는 n개의 베르누이확률변수 𝑋𝐵𝑒𝑟 를 더한 것.  \n",
        "𝑋𝑏𝑖𝑛 = 𝑋𝐵𝑒𝑟 + 𝑋𝐵𝑒𝑟 + ⋯ + 𝑋𝐵𝑒𝑟\n",
        "* 개개의 베르누이확률변수는 독립적이다.  동전 던지기는 이전 결과와는 무관하다.\n",
        "* 확률변수 X가 이항확률분포를 따른다는 것을 다음과 같이 표기할 수 있다.  \n",
        "𝑋~𝐵𝑖𝑛(𝑛, 𝑝)  \n",
        "  - 평균 : n p\n",
        "  - 분산 : 𝑛 𝑝(1 − 𝑝)\n",
        "  - 표준편차 : 𝑛 𝑝(1 − 𝑝)"
      ]
    },
    {
      "cell_type": "markdown",
      "metadata": {
        "id": "xCmCnENlP3bE"
      },
      "source": [
        "Q. 동전 던지기 게임엠 참가하겠습니까?\n",
        "- 앞면이 나오면 수익은 100달러, 반대로 뒷면이 나오면 수익 0달러이다.\n",
        "- 매번 게임에 참가하는 비용은 40$이다.\n",
        "\n",
        "샤프지수는 리스크 대비 초과수익을 나타냅니다.   \n",
        "  > 샤프지수 = 초과수익/리스크  \n",
        "    = (기대수익 −참가비용)/리스크  \n",
        "    = (50 −40)/50 = 0.2  \n",
        "    1 미만의 샤프지수는 불만족스럽습니다. \n",
        "\n",
        "\n",
        "그런데, 1 회 이상 n 회 동전 던지기를 할 수 있다면?  \n",
        "초과수익은 n에 비례해서 증가합니다.\n",
        "> - 리스크(표준편차, 변동성)은 𝑛에 비례해서 증가합니다.\n",
        "- 이항 분포 (binomial distribution)의 특성입니다.  \n",
        "샤프지수 =(50 −40) ×𝑛/50× 루트𝑛\n",
        "= 0.2 × 루트n"
      ]
    },
    {
      "cell_type": "code",
      "metadata": {
        "id": "QEpGt7CkP3dN"
      },
      "source": [
        "import scipy.stats as st\n",
        "\n",
        "# python의 이산확률 함수\n",
        "# 이항(Binomial)\n",
        "scipy.stats.binom.pmf()   # 확률분포\n",
        "scipy.stats.binom.cdf()   # 누적확률\n",
        "scipy.stats.binom.ppf()   # 분위수\n",
        "\n",
        "# 푸아송(Poisson)\n",
        "scipy.stats.poisson.pmf()\n",
        "scipy.stats.poisson.ppf()\n",
        "scipy.stats.poisson.cdf()"
      ],
      "execution_count": null,
      "outputs": []
    },
    {
      "cell_type": "markdown",
      "metadata": {
        "id": "Q0iD4veSfDjw"
      },
      "source": [
        "# 3. 웹 애플리케이션"
      ]
    },
    {
      "cell_type": "markdown",
      "metadata": {
        "id": "Ir5bLRttP3e7"
      },
      "source": [
        "UserCreationForm에서 아이디입력은 비활성화  \n",
        "\n",
        "accountapp디렉토리에 forms.py파일을 하나 생성"
      ]
    },
    {
      "cell_type": "code",
      "metadata": {
        "id": "27f-ENjJP3gR"
      },
      "source": [
        "# accountapp\\forms.py\n",
        "class AccountCreationForm(UserCreationForm):\n",
        "    def __init__(self, *args, **kwargs):\n",
        "        super().__init__(*args, **kwargs)\n",
        "        \n",
        "        self.fields['username'].disabled = True\n",
        "        \n"
      ],
      "execution_count": null,
      "outputs": []
    },
    {
      "cell_type": "code",
      "metadata": {
        "id": "0XwpUvxVOFrK"
      },
      "source": [
        "# gsweb\\accountapp\\views.py\n",
        "class AccountUpdateView(UpdateView):\n",
        "    model = User\n",
        "    form_class = AccountCreationForm\n",
        "    context_object_name = 'target_user'\n",
        "    success_url = reverse_lazy('accountapp:hello_world')\n",
        "    template_name = 'accountapp/update.html'"
      ],
      "execution_count": null,
      "outputs": []
    },
    {
      "cell_type": "markdown",
      "metadata": {
        "id": "7zU0ZWuHhT9w"
      },
      "source": [
        "def hello_world  #request를 보내고 출력하는 함수에서, request에 허락된 사람만 볼 수 있도록 해주기"
      ]
    },
    {
      "cell_type": "code",
      "metadata": {
        "id": "Xn_M4kvOOFtG"
      },
      "source": [
        "# gsweb\\accountapp\\templates\\accountapp\\hello_world.html\n",
        "def hello_world(request):\n",
        "    if request.user.is_authenticated:         ### is_authenticated\n",
        "        if request.method == \"POST\":\n",
        "\n",
        "            temp = request.POST.get('hello_world_input')\n",
        "\n",
        "            new_hello_world = HelloWorld()\n",
        "            new_hello_world.text = temp\n",
        "            new_hello_world.save()\n",
        "\n",
        "            return HttpResponseRedirect(reverse('accountapp:hello_world'))\n",
        "\n",
        "        else:\n",
        "            hello_world_list = HelloWorld.objects.all()\n",
        "            return render(request, 'accountapp/hello_world.html', context={'hello_world_list': hello_world_list})\n",
        "    else:\n",
        "        return HttpResponseRedirect(reverse('accountapp:login'))"
      ],
      "execution_count": null,
      "outputs": []
    },
    {
      "cell_type": "markdown",
      "metadata": {
        "id": "SB6B2WQykarO"
      },
      "source": [
        "AccountUpdateView와 AccountDeleteView도 해당 유저아니면 들어갈 수 없도록 설정해준다.\n"
      ]
    },
    {
      "cell_type": "code",
      "metadata": {
        "id": "tByheqtvOFvQ"
      },
      "source": [
        "# gsweb\\accountapp\\views.py\n",
        "class AccountUpdateView(UpdateView):\n",
        "    model = User\n",
        "    form_class = AccountCreationForm\n",
        "    context_object_name = 'target_user'\n",
        "    template_name = 'accountapp/update.html'\n",
        "\n",
        "    def get(self, request, *args, **kwargs):\n",
        "        if request.user.is_authenticated:\n",
        "            return super().get(request, *args, **kwargs)\n",
        "        else:\n",
        "            return HttpResponseRedirect(reverse('accountapp:login'))\n",
        "\n",
        "    def post(self, request, *args, **kwargs):\n",
        "        if request.user.is_authenticated:\n",
        "            return super().get(request, *args, **kwargs)\n",
        "        else:\n",
        "            return HttpResponseRedirect(reverse('accountapp:login'))\n",
        "\n",
        "class AccountDeleteView(DeleteView):\n",
        "    model = User\n",
        "    context_object_name = 'target_user'\n",
        "    success_url = reverse_lazy('accountapp:ha_world')\n",
        "    template_name = 'accountapp/delete.html'\n",
        "\n",
        "    def get(self, request, *args, **kwargs):\n",
        "        if request.user.is_authenticated:\n",
        "            return super().get(request, *args, **kwargs)\n",
        "        else:\n",
        "            return HttpResponseRedirect(reverse('accountapp:login'))\n",
        "\n",
        "    def post(self, request, *args, **kwargs):\n",
        "        if request.user.is_authenticated:\n",
        "            return super().post(request, *args, **kwargs)\n",
        "        else:\n",
        "            return HttpResponseRedirect(reverse('accountapp:login'))"
      ],
      "execution_count": null,
      "outputs": []
    },
    {
      "cell_type": "markdown",
      "metadata": {
        "id": "xq4fhnMUqkj9"
      },
      "source": [
        "if request.user.is_authenticated만 설정해주면 a유저가 b유저의 update, delete창에 들어갈 수 있기 때문에 대상 유저만 들어갈 수 있도록 조건을 추가해준다.\n"
      ]
    },
    {
      "cell_type": "code",
      "metadata": {
        "id": "NIMZ9NvbkpbP"
      },
      "source": [
        "    def get(self, request, *args, **kwargs) :\n",
        "        if request.user.is_authenticated and self.get_object() == request.user:\n",
        "            return super().get(request, *args, **kwargs)\n",
        "        else:\n",
        "            return HttpResponseForbidden()\n",
        "\n",
        "    def post(self, request, *args, **kwargs):\n",
        "        if request.user.is_authenticated and self.get_object() == request.user:\n",
        "            return super().post(request, *args, **kwargs)\n",
        "        else:\n",
        "            return HttpResponseForbidden()"
      ],
      "execution_count": null,
      "outputs": []
    },
    {
      "cell_type": "markdown",
      "metadata": {
        "id": "lcDsfICUtBCa"
      },
      "source": [
        "#### Decorator "
      ]
    },
    {
      "cell_type": "code",
      "metadata": {
        "colab": {
          "base_uri": "https://localhost:8080/"
        },
        "id": "BynubtqXkpVH",
        "outputId": "80ee1a04-5e96-4db5-ce08-eeca8f3f8ef7"
      },
      "source": [
        "# 실습\n",
        "def decorator(func):\n",
        "    def decorated():\n",
        "        print('Start WORLD')\n",
        "        func()\n",
        "        print('The END.')\n",
        "    return decorated\n",
        "\n",
        "@decorator\n",
        "def hello_world():\n",
        "    print('Start World')\n",
        "    print('Hello World!!')\n",
        "    print('The End.')\n",
        "\n",
        "\n",
        "hello_world()\n",
        "\n",
        "# Start WORLD\n",
        "# Start World\n",
        "# Hello World!!\n",
        "# The End.\n",
        "# The END."
      ],
      "execution_count": null,
      "outputs": [
        {
          "output_type": "stream",
          "text": [
            "Start WORLD\n",
            "Start World\n",
            "Hello World!!\n",
            "The End.\n",
            "The END.\n"
          ],
          "name": "stdout"
        }
      ]
    },
    {
      "cell_type": "markdown",
      "metadata": {
        "id": "mPe9GjDDx2Vp"
      },
      "source": [
        "# 4.알고리즘"
      ]
    },
    {
      "cell_type": "code",
      "metadata": {
        "colab": {
          "base_uri": "https://localhost:8080/"
        },
        "id": "3VL-ZOWMv0k8",
        "outputId": "1791ca6a-3a20-4bc4-d603-d19412905ed3"
      },
      "source": [
        "# collections deque로 풀이\n",
        "from collections import deque\n",
        "\n",
        "class StackAndQueue:\n",
        "    def __init__(self, data_type=\"stack\"):\n",
        "        self.array = deque()\n",
        "        self.data_type = data_type\n",
        "\n",
        "    def push(self, num):\n",
        "        self.array.append(num)\n",
        "\n",
        "    def pop(self):\n",
        "        if self.is_empty():\n",
        "            return -1\n",
        "\n",
        "        if self.is_stack():\n",
        "            return self.array.pop()\n",
        "        \n",
        "        return self.array.popleft()\n",
        "\n",
        "    def size(self):\n",
        "        return len(self.array)\n",
        "\n",
        "    def empty(self):\n",
        "        return int(self.is_empty())\n",
        "\n",
        "    def top(self):\n",
        "        if not self.is_stack() or self.is_empty():\n",
        "            return -1\n",
        "\n",
        "        return self.array[-1]\n",
        "\n",
        "    def front(self):\n",
        "        if self.is_stack() or self.is_empty():\n",
        "            return -1\n",
        "\n",
        "        return self.array[0]\n",
        "\n",
        "    def back(self):\n",
        "        if self.is_stack() or self.is_empty():\n",
        "            return -1\n",
        "\n",
        "        return self.array[-1]\n",
        "        # return self.get_last_val()\n",
        "\n",
        "    # def get_last_val(self):\n",
        "    #     return self.array[-1]\n",
        "\n",
        "    def is_empty(self):\n",
        "        return self.size() == 0\n",
        "\n",
        "    def is_stack(self):\n",
        "        return self.data_type == \"stack\"\n",
        "\n",
        "def run_cmd_with_deque(command, data_obj):\n",
        "    cmd_type = command[0]\n",
        "\n",
        "    if cmd_type == \"push\":\n",
        "        _, num = command\n",
        "        data_obj.push(num)\n",
        "    \n",
        "    elif cmd_type == \"pop\":\n",
        "        print(data_obj.pop())\n",
        "\n",
        "    elif cmd_type == \"empty\":\n",
        "        print(data_obj.empty())\n",
        "    \n",
        "    elif cmd_type == \"size\":\n",
        "        print(data_obj.size())\n",
        "    \n",
        "    elif cmd_type == \"top\":\n",
        "        print(data_obj.top())\n",
        "    \n",
        "    elif cmd_type == \"front\":\n",
        "        print(data_obj.front())\n",
        "    \n",
        "    elif cmd_type == \"back\":\n",
        "        print(data_obj.back())\n",
        "\n",
        "data_type = input()\n",
        "n = int(input())\n",
        "data_obj = StackAndQueue(data_type)\n",
        "\n",
        "for _ in range(n):\n",
        "    run_cmd_with_deque(input().split(), data_obj) # [\"push\", \"3\"], [\"size\"]\n"
      ],
      "execution_count": null,
      "outputs": [
        {
          "output_type": "stream",
          "text": [
            "deque\n",
            "3\n",
            "push 3\n",
            "pop\n",
            "3\n",
            "empty\n",
            "1\n"
          ],
          "name": "stdout"
        }
      ]
    },
    {
      "cell_type": "markdown",
      "metadata": {
        "id": "VBA2e1SOx2sB"
      },
      "source": [
        "### 정렬(Sort)\n",
        "* 각각의 모든 요소를 이미 정렬된 앞의 배열 부분과 비교하여 적절한 위치로 옮겨 삽입한다.\n"
      ]
    },
    {
      "cell_type": "markdown",
      "metadata": {
        "id": "8Xt6q-4Ux3Jp"
      },
      "source": [
        "### 선택정렬 (selection sort)\n",
        "* 주어진 리스트 범위 내에서 (0부터 끝까지) 최솟값을 찾는다.\n",
        "* 처음 위치에 최솟값을 넣는다(교환).\n",
        "* 다음 인덱스(1부터 끝까지) 범위 내에서 최솟값을 찾는다.\n",
        "* 처음 위치에 최솟값을 넣는다 (반복)\n"
      ]
    },
    {
      "cell_type": "markdown",
      "metadata": {
        "id": "KBNoGfSpKopc"
      },
      "source": [
        "#### 버블정렬..\n",
        "* 인접한 두 값을 비교하여 정렬하는 방법\n",
        "* 비교적 구현이 쉬움.\n",
        "* 처음부터 끝까지 두 값 중 더 큰값을 오른쪽으로 바꾸면서 나아감.\n",
        "* 매일 오른쪽에 제일 큰 값이 간다.\n",
        "\n"
      ]
    },
    {
      "cell_type": "markdown",
      "metadata": {
        "id": "-jOeNczGLmyz"
      },
      "source": [
        "#### 위의 정렬들 다 대부분 O(N^2)만큼 걸린다."
      ]
    }
  ]
}