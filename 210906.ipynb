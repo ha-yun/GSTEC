{
  "nbformat": 4,
  "nbformat_minor": 0,
  "metadata": {
    "colab": {
      "name": "210906.ipynb",
      "provenance": [],
      "collapsed_sections": [],
      "authorship_tag": "ABX9TyMdKscwURie6s/JNeMrply6",
      "include_colab_link": true
    },
    "kernelspec": {
      "name": "python3",
      "display_name": "Python 3"
    },
    "language_info": {
      "name": "python"
    }
  },
  "cells": [
    {
      "cell_type": "markdown",
      "metadata": {
        "id": "view-in-github",
        "colab_type": "text"
      },
      "source": [
        "<a href=\"https://colab.research.google.com/github/ha-yun/GSTEC/blob/main/210906.ipynb\" target=\"_parent\"><img src=\"https://colab.research.google.com/assets/colab-badge.svg\" alt=\"Open In Colab\"/></a>"
      ]
    },
    {
      "cell_type": "markdown",
      "metadata": {
        "id": "QEJs8WrDsSx9"
      },
      "source": [
        "# 1. 웹 애플리케이션"
      ]
    },
    {
      "cell_type": "markdown",
      "metadata": {
        "id": "brtil9Fea0ag"
      },
      "source": [
        "Docker  \n",
        "Virtualization  \n",
        "Image  \n",
        "Container"
      ]
    },
    {
      "cell_type": "markdown",
      "metadata": {
        "id": "n7F5HAhIbfxm"
      },
      "source": [
        "ssh -i ha_gcp deu05230@10.138.0.2  \n",
        "google cloud platform 접속  \n",
        "sudo docker volume create portainer_data  \n",
        "sudo docker run -d -p 8000:8000 -p 9000:9000 --name=portainer --restart=always -v /var/run/docker.sock:/var/run/docker.sock -v portainer_data:/data portainer/portainer-ce\n",
        "\n",
        "sudo docker run -d -p 9001:9001 --name portainer_agent --restart=always -v /var/run/docker.sock:/var/run/docker.sock -v /var/lib/docker/volumes:/var/lib/docker/volumes portainer/agent\n",
        "\n",
        "- google cloudplatform의 firewall도 뚫어준다.ㅇ\n",
        "\n",
        "VPC네트워크 -> 방화벽 -> 방화벽 규칙 만들기 -> 35.233.226.106:9000\n",
        "-> Portainer 계정 생성(ha) -> docker로 생성  \n",
        "\n",
        "\n"
      ]
    },
    {
      "cell_type": "markdown",
      "metadata": {
        "id": "eMjapZKTitdI"
      },
      "source": [
        "HTTP protocol Port 80  \n",
        "Nginx  \n",
        "  \n",
        "aws \n",
        "\n",
        "portainer에 create container name=nginx, image = dockerhub-nginx  \n",
        "Manual network port publishing  \n",
        "host 80 -> container 80  \n",
        "\n",
        "aws에서 보안 그룹의 sg-0fa1f615ea801b57c에 들어가서  \n",
        "인바운드 규칙 수정 -> port 80 추가해주기  \n",
        "http://3.17.130.66/ 창에 들어가면 nginx가 뜬다  \n",
        "\n",
        "google cloud platform도 똑같이 해준다..."
      ]
    },
    {
      "cell_type": "markdown",
      "metadata": {
        "id": "yGLRPDhYsspi"
      },
      "source": [
        "docker - portainer, nginx container, django container\n",
        "\n",
        "django container  \n",
        "1. virtual Env file Ready\n",
        "2. Write Dockerfile\n",
        "3. Build Image\n",
        "4. Run Container\n"
      ]
    },
    {
      "cell_type": "markdown",
      "metadata": {
        "id": "swdiPjDaupbb"
      },
      "source": [
        "1. terminal 창에  \n",
        "pip freeze > requirements.txt\n",
        "2. FROM , WORKDIR, RUN, "
      ]
    }
  ]
}