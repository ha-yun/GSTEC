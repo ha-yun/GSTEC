{
  "nbformat": 4,
  "nbformat_minor": 0,
  "metadata": {
    "colab": {
      "name": "210722.ipynb",
      "provenance": [],
      "collapsed_sections": [],
      "authorship_tag": "ABX9TyNk1KXPGRAqfm4n3dgd9WYG",
      "include_colab_link": true
    },
    "kernelspec": {
      "name": "python3",
      "display_name": "Python 3"
    },
    "language_info": {
      "name": "python"
    }
  },
  "cells": [
    {
      "cell_type": "markdown",
      "metadata": {
        "id": "view-in-github",
        "colab_type": "text"
      },
      "source": [
        "<a href=\"https://colab.research.google.com/github/yun-aha/GSTEC/blob/main/210722.ipynb\" target=\"_parent\"><img src=\"https://colab.research.google.com/assets/colab-badge.svg\" alt=\"Open In Colab\"/></a>"
      ]
    },
    {
      "cell_type": "markdown",
      "metadata": {
        "id": "j9oLT_wAheoN"
      },
      "source": [
        "# 1. 웹 애플리케이션"
      ]
    },
    {
      "cell_type": "markdown",
      "metadata": {
        "id": "XngG25B0j18x"
      },
      "source": [
        "decorator 함수"
      ]
    },
    {
      "cell_type": "code",
      "metadata": {
        "id": "HAc8Xl7uhdDE"
      },
      "source": [
        "def decorator(func):\n",
        "    def decorated(a,b):\n",
        "        if a>=0 and b>=0:\n",
        "            return func(a,b)\n",
        "        else:\n",
        "            raise ValueError('Wrong')\n",
        "    return decorated\n",
        "\n",
        "@decorator\n",
        "def math(a,b):\n",
        "    if a > 0 and b > 0:\n",
        "        return a*b"
      ],
      "execution_count": null,
      "outputs": []
    },
    {
      "cell_type": "markdown",
      "metadata": {
        "id": "eKkrWdVmhfHX"
      },
      "source": [
        "* django에서 로그인 데코레이터를 이미 제공  \n",
        "* @login_required  \n",
        "    - 기본적으로 accounts / login으로 넘어간다.  \n",
        "* @login_required(login_url=reverse_lazy('accountapp:login'))  \n",
        "    - 추가적인 인자를 넣을 수 있다.\n",
        "* login_required는 함수에만 적용가능, 클래스안의 메소드에는 적용되지 않는다.  \n",
        "    - 메소드를 변환해주어야 하는데 장고에서 모두 지원해줌.  \n",
        "> @method_decorator  메소드로 데코레이터를 바꿔준다.\n",
        " @method_decorator(login_required)추가적인 인자를 넣어줌  \n",
        " @method_decorator(login_required, 'get') get메소드에 적용\n",
        "\n",
        "\n"
      ]
    },
    {
      "cell_type": "code",
      "metadata": {
        "id": "-TzpnS4shfKU"
      },
      "source": [
        "# gsweb\\accountapp\\decorators.py 파일 생성\n",
        "from django.contrib.auth.models import User\n",
        "from django.http import HttpResponseForbidden\n",
        "\n",
        "\n",
        "def account_ownership_required(func):\n",
        "    def decorated(request, *args, **kwargs):\n",
        "        target_user = User.objects.get(pk=kwargs['pk'])\n",
        "        if target_user == request.user:\n",
        "            return func(request, *args, **kwargs)\n",
        "        else:\n",
        "            return HttpResponseForbidden()\n",
        "    return decorated"
      ],
      "execution_count": null,
      "outputs": []
    },
    {
      "cell_type": "code",
      "metadata": {
        "id": "5FIz_aSkhfMO"
      },
      "source": [
        "# gsweb\\accountapp\\views.py\n",
        "has_ownership = [login_required, account_ownership_required]    #로그인이 되었는지, target_user와 유저가 같은 사람인지 확인, decorator함수 이요\n",
        "\n",
        "@method_decorator(has_ownership, 'get')\n",
        "@method_decorator(has_ownership, 'post')\n",
        "class AccountUpdateView(UpdateView):\n",
        "    model = User\n",
        "    form_class = AccountCreationForm\n",
        "    context_object_name = 'target_user'\n",
        "    success_url = reverse_lazy('accountapp:hello_world')\n",
        "    template_name = 'accountapp/update.html'\n",
        "\n",
        "@method_decorator(has_ownership, 'get')\n",
        "@method_decorator(has_ownership, 'post')\n",
        "class AccountDeleteView(DeleteView):\n",
        "    model = User\n",
        "    context_object_name = 'target_user'\n",
        "    success_url = reverse_lazy('accountapp:hello_world')\n",
        "    template_name = 'accountapp/delete.html'\n"
      ],
      "execution_count": null,
      "outputs": []
    },
    {
      "cell_type": "code",
      "metadata": {
        "id": "5kPTLgtchfNq"
      },
      "source": [
        "#terminal 창\n",
        "python manage.py createsuperuser\n",
        "hyeon\n",
        "hyeon@admin.com\n",
        "#비밀번호입력하고 http://127.0.0.1:8000/admin/로 접속하면 관리창이 뜬다. "
      ],
      "execution_count": null,
      "outputs": []
    },
    {
      "cell_type": "markdown",
      "metadata": {
        "id": "jlOAzyNwhfPf"
      },
      "source": [
        "# 2. 알고리즘"
      ]
    },
    {
      "cell_type": "code",
      "metadata": {
        "id": "LLPJbwWihfRh",
        "colab": {
          "base_uri": "https://localhost:8080/"
        },
        "outputId": "c5d18c29-7c57-4234-9723-7617d17f7f0b"
      },
      "source": [
        "def insertion_sort(n_list):\n",
        "  i=0\n",
        "  while i != len(n_list)-1:\n",
        "    if n_list[i] != min(n_list[i:]):\n",
        "      n_list.append(n_list[i])\n",
        "      n_list.pop(i)\n",
        "    else:\n",
        "      i+=1\n",
        "  return n_list\n",
        "\n",
        "def selection_sort(n_list):  \n",
        "  m_list=[]\n",
        "  while len(n_list)>0:\n",
        "    mm=min(n_list)\n",
        "    m_list.append(mm)\n",
        "    n_list.remove(mm)\n",
        "  return m_list\n",
        "\n",
        "def bubble_sort(n_list):\n",
        "  for i in range(len(n_list)-1):\n",
        "    if n_list[i] > n_list[i+1]:\n",
        "      n_list[i+1],n_list[i]=n_list[i],n_list[i+1]\n",
        "  return n_list\n",
        "\n",
        "#-------------------------------------------------\n",
        "\n",
        "n = int(input())\n",
        "num_list = []\n",
        "\n",
        "for _ in range(n):\n",
        "    num = int(input())\n",
        "    num_list.append(num)\n",
        "\n",
        "# insertion_sorted_list = insertion_sort(num_list)\n",
        "# print(\" \".join(map(str, insertion_sorted_list)))\n",
        "\n",
        "selection_sorted_list = selection_sort(num_list)\n",
        "print(\" \".join(map(str, selection_sorted_list)))\n",
        "\n",
        "# bubble_sorted_list = bubble_sort(num_list)\n",
        "# print(\" \".join(map(str, bubble_sorted_list)))"
      ],
      "execution_count": null,
      "outputs": [
        {
          "output_type": "stream",
          "text": [
            "5\n",
            "3\n",
            "3\n",
            "3\n",
            "1\n",
            "7\n",
            "1 3 3 3 7\n"
          ],
          "name": "stdout"
        }
      ]
    },
    {
      "cell_type": "markdown",
      "metadata": {
        "id": "vx7C0sHt6NDU"
      },
      "source": [
        "# 3. 딥러닝 & 강화학습"
      ]
    },
    {
      "cell_type": "markdown",
      "metadata": {
        "id": "K1PFOn5Z6NIG"
      },
      "source": [
        "210721.ipynb"
      ]
    },
    {
      "cell_type": "markdown",
      "metadata": {
        "id": "o5x2iS5WhfV9"
      },
      "source": [
        "# 4. 머신러닝"
      ]
    },
    {
      "cell_type": "markdown",
      "metadata": {
        "id": "oN5P1VM76NKE"
      },
      "source": [
        "## Linear Classifier (선형분류)\n",
        "- 계산한 값이 0보다 작은 클래스는 -1, 0보다 크면 +1이라고 예측(분류)\n",
        "> ŷ = w[0] * x[0] + w[1] * x[1] + … + w[p] * x[p] + b > 0 <br>\n",
        "> Linear Regression와 매우 비슷하지만 가중치(w) 합을 사용하는 대신 예측한 값을 임계치 0 과 비교\n",
        "\n",
        "- 이진 선형 분류기는 선, 평면, 초평면을 이용하여 2개의 클래스를 구분하는 분류기"
      ]
    },
    {
      "cell_type": "markdown",
      "metadata": {
        "id": "5cqmUBSQI9d2"
      },
      "source": [
        "경사하강법(Gradient Descent) 최적화 알고리즘을 사용하여 선형 모델을 작성\n",
        "\n",
        "[SGDClassifier()](https://scikit-learn.org/stable/modules/generated/sklearn.linear_model.SGDClassifier.html)\n",
        "\n",
        "```\n",
        "SGDClassifier(alpha, average, class_weight, epsilon, eta0, fit_intercept, l1_ratio, learning_rat, loss, max_iter, n_iter, n_jobs, penalty, power_t, random_state, shuffle, tol, verbose, warm_start)\n",
        "```\n",
        "확률적 경사하강법(SGD, Stochastic Gradient Descent)을 이용하여 선형모델을 구현\n",
        "\n",
        "- lossstr : 손실함수 (default='hinge')\n",
        "- penalty : {'l2', 'l1', 'elasticnet'}, default='l2'\n",
        "- alpha : 값이 클수록 강력한 정규화(규제) 설정 (default=0.0001)\n",
        "- l1_ratio : L1 규제의 비율(Elastic-Net 믹싱 파라미터 경우에만 사용) (default=0.15)\n",
        "- fit_intercept : 모형에 상수항 (절편)이 있는가 없는가를 결정하는 인수 (default=True)\n",
        "- max_iter : 계산에 사용할 작업 수 (default=1000)\n",
        "- tol : 정밀도\n",
        "- shuffle : 에포크 후에 트레이닝 데이터를 섞는 유무 (default=True)\n",
        "- epsilon : 손실 함수에서의 엡실론, 엡실론이 작은 경우, 현재 예측과 올바른 레이블 간의 차이가 임계 값보다 작으면 무시 (default=0.1)\n",
        "- n_jobs : 병렬 처리 할 때 사용되는 CPU 코어 수\n",
        "- random_state : 난수 seed 설정\n",
        "- learning_rate : 학습속도 (default='optimal')\n",
        "- eta0 : 초기 학습속도 (default=0.0)\n",
        "- power_t : 역 스케일링 학습률 (default=0.5)\n",
        "- early_stopping : 유효성 검사 점수가 향상되지 않을 때 조기 중지여부 (default=False)\n",
        "- validation_fraction : 조기 중지를위한 검증 세트로 설정할 교육 데이터의 비율 (default=0.1)\n",
        "- n_iter_no_change : 조기중지 전 반복횟수 (default=5)\n",
        "- class_weight : 클래스와 관련된 가중치 {class_label: weight} or “balanced”, default=None\n",
        "- warm_start : 초기화 유무 (default=False)\n",
        "- average : True로 설정하면 모든 업데이트에 대한 평균 SGD 가중치를 계산하고 결과를 coef_속성에 저장 (default=False)\n"
      ]
    },
    {
      "cell_type": "markdown",
      "metadata": {
        "id": "1d9vc8kNI9gE"
      },
      "source": [
        "#### LinearClassifier 실습 01\n",
        "\n",
        "붓꽃 데이터 셋에 선형분류 적용"
      ]
    },
    {
      "cell_type": "code",
      "metadata": {
        "colab": {
          "base_uri": "https://localhost:8080/"
        },
        "id": "NuhEQo2GI9iK",
        "outputId": "d7e8d74f-73a8-4704-9902-86e52a826cc3"
      },
      "source": [
        "from sklearn.datasets import load_iris\n",
        "iris = load_iris()\n",
        "iris.keys()\n",
        "iris.data.shape"
      ],
      "execution_count": null,
      "outputs": [
        {
          "output_type": "execute_result",
          "data": {
            "text/plain": [
              "(150, 4)"
            ]
          },
          "metadata": {
            "tags": []
          },
          "execution_count": 4
        }
      ]
    },
    {
      "cell_type": "code",
      "metadata": {
        "id": "wiKCIRU9LNu1"
      },
      "source": [
        "X = iris.data\n",
        "y = iris.target\n",
        "X2 = X[:,:2]    #꽃받침의 길이와 넓이"
      ],
      "execution_count": null,
      "outputs": []
    },
    {
      "cell_type": "code",
      "metadata": {
        "colab": {
          "base_uri": "https://localhost:8080/",
          "height": 286
        },
        "id": "WP3Qd3F5LOHV",
        "outputId": "cf7fbbfb-29c3-45a1-f5e8-84a421fffb79"
      },
      "source": [
        "import matplotlib.pyplot as plt\n",
        "%matplotlib inline\n",
        "\n",
        "plt.scatter(X2[:, 0], X2[:, 1], c=y)"
      ],
      "execution_count": null,
      "outputs": [
        {
          "output_type": "execute_result",
          "data": {
            "text/plain": [
              "<matplotlib.collections.PathCollection at 0x7f11e087ff50>"
            ]
          },
          "metadata": {
            "tags": []
          },
          "execution_count": 9
        },
        {
          "output_type": "display_data",
          "data": {
            "image/png": "[encoded data removed]",
            "text/plain": [
              "<Figure size 432x288 with 1 Axes>"
            ]
          },
          "metadata": {
            "tags": [],
            "needs_background": "light"
          }
        }
      ]
    },
    {
      "cell_type": "code",
      "metadata": {
        "colab": {
          "base_uri": "https://localhost:8080/",
          "height": 286
        },
        "id": "ReOLTxrMMEzg",
        "outputId": "d73c1515-08ee-4c6f-8cea-7735b517636a"
      },
      "source": [
        "y2 = y.copy()\n",
        "y2[y2==2]=1\n",
        "plt.scatter(X2[:, 0], X2[:, 1], c=y2)"
      ],
      "execution_count": null,
      "outputs": [
        {
          "output_type": "execute_result",
          "data": {
            "text/plain": [
              "<matplotlib.collections.PathCollection at 0x7f11e07ff950>"
            ]
          },
          "metadata": {
            "tags": []
          },
          "execution_count": 14
        },
        {
          "output_type": "display_data",
          "data": {
            "image/png": "[encoded data removed]",
            "text/plain": [
              "<Figure size 432x288 with 1 Axes>"
            ]
          },
          "metadata": {
            "tags": [],
            "needs_background": "light"
          }
        }
      ]
    },
    {
      "cell_type": "code",
      "metadata": {
        "colab": {
          "base_uri": "https://localhost:8080/"
        },
        "id": "3bBoc-LwMexK",
        "outputId": "d7a061d0-4233-4201-adb2-de649d31d1bc"
      },
      "source": [
        "from sklearn.model_selection import train_test_split\n",
        "X_train, X_test, y_train, y_test = train_test_split(X2, y2,\n",
        "                                                    test_size=0.5, random_state=0)\n",
        "X_train.shape"
      ],
      "execution_count": null,
      "outputs": [
        {
          "output_type": "execute_result",
          "data": {
            "text/plain": [
              "(75, 2)"
            ]
          },
          "metadata": {
            "tags": []
          },
          "execution_count": 16
        }
      ]
    },
    {
      "cell_type": "code",
      "metadata": {
        "colab": {
          "base_uri": "https://localhost:8080/"
        },
        "id": "b8U0TjGSME2d",
        "outputId": "4f77a241-fe54-41d2-b3d4-b661a03f0919"
      },
      "source": [
        "from sklearn.linear_model import SGDClassifier\n",
        "model = SGDClassifier(random_state=0)\n",
        "model.fit(X_train, y_train)\n",
        "model.coef_, model.intercept_"
      ],
      "execution_count": null,
      "outputs": [
        {
          "output_type": "execute_result",
          "data": {
            "text/plain": [
              "(array([[ 107.75047259, -153.43415249]]), array([-96.16214183]))"
            ]
          },
          "metadata": {
            "tags": []
          },
          "execution_count": 18
        }
      ]
    },
    {
      "cell_type": "code",
      "metadata": {
        "colab": {
          "base_uri": "https://localhost:8080/"
        },
        "id": "4NT_mlQUOA_J",
        "outputId": "7d72fc5a-f7dc-4174-d306-129e1c5f11d3"
      },
      "source": [
        "print(model.score(X_train, y_train))\n",
        "print(model.score(X_test, y_test))"
      ],
      "execution_count": null,
      "outputs": [
        {
          "output_type": "stream",
          "text": [
            "0.9866666666666667\n",
            "1.0\n"
          ],
          "name": "stdout"
        }
      ]
    },
    {
      "cell_type": "code",
      "metadata": {
        "colab": {
          "base_uri": "https://localhost:8080/",
          "height": 286
        },
        "id": "l7VarOf0OUtR",
        "outputId": "da26a518-9f79-446a-fe92-8da41aa523c8"
      },
      "source": [
        "import numpy as np\n",
        "\n",
        "w0 = model.coef_[0,0]\n",
        "w1 = model.coef_[0,1]\n",
        "b = model.intercept_\n",
        "\n",
        "plt.scatter(X_train[:, 0], X_train[:, 1], c=y_train)\n",
        "x0 = np.linspace(4, 8, 50)\n",
        "x1 = -(w0 * x0 + b) / w1        # w0 * x0 + w1 * x1 + b\n",
        "plt.plot(x0, x1)\n",
        "plt.xlim(4,8)\n",
        "plt.ylim(2,4.5)"
      ],
      "execution_count": null,
      "outputs": [
        {
          "output_type": "execute_result",
          "data": {
            "text/plain": [
              "(2.0, 4.5)"
            ]
          },
          "metadata": {
            "tags": []
          },
          "execution_count": 37
        },
        {
          "output_type": "display_data",
          "data": {
            "image/png": "[encoded data removed]",
            "text/plain": [
              "<Figure size 432x288 with 1 Axes>"
            ]
          },
          "metadata": {
            "tags": [],
            "needs_background": "light"
          }
        }
      ]
    },
    {
      "cell_type": "markdown",
      "metadata": {
        "id": "-jdyGiThJg7z"
      },
      "source": [
        "#### 4개 속성 모두 이용\n",
        "\n",
        "세가지 꽃 구분"
      ]
    },
    {
      "cell_type": "code",
      "metadata": {
        "colab": {
          "base_uri": "https://localhost:8080/"
        },
        "id": "Ki4N8ScDI9kG",
        "outputId": "a1bffaa6-4df2-4912-872a-75be72bae75d"
      },
      "source": [
        "from sklearn import datasets\n",
        "from sklearn.linear_model import SGDClassifier\n",
        "from sklearn import metrics\n",
        "\n",
        "iris = datasets.load_iris()\n",
        "X, y = iris.data, iris.target\n",
        "\n",
        "X_train, X_test, y_train, y_test = train_test_split(X, y,\n",
        "                                                    test_size=0.2, random_state=0)\n",
        "\n",
        "model = SGDClassifier(random_state=0).fit(X_train, y_train)\n",
        "print(model.score(X_train, y_train))\n",
        "print(model.score(X_test, y_test))"
      ],
      "execution_count": null,
      "outputs": [
        {
          "output_type": "stream",
          "text": [
            "0.9666666666666667\n",
            "1.0\n"
          ],
          "name": "stdout"
        }
      ]
    },
    {
      "cell_type": "code",
      "metadata": {
        "colab": {
          "base_uri": "https://localhost:8080/"
        },
        "id": "pJ0R18DcSFZi",
        "outputId": "673cd06d-8307-4ff8-df30-9d01f225c711"
      },
      "source": [
        "model.coef_, model.intercept_   #선형분류 3번 동작"
      ],
      "execution_count": null,
      "outputs": [
        {
          "output_type": "execute_result",
          "data": {
            "text/plain": [
              "(array([[  18.88718734,   43.38948443,  -68.40224604,  -30.11740684],\n",
              "        [  12.60090569,  -82.10277614,   30.51781847,  -94.50679268],\n",
              "        [ -93.20829781, -110.82693947,  161.69366297,  148.90593919]]),\n",
              " array([  19.55776194,  150.8004204 , -157.17647472]))"
            ]
          },
          "metadata": {
            "tags": []
          },
          "execution_count": 56
        }
      ]
    },
    {
      "cell_type": "code",
      "metadata": {
        "id": "RjdlqNbv6NMy",
        "colab": {
          "base_uri": "https://localhost:8080/"
        },
        "outputId": "c1884837-3bd2-465b-fb70-a9b5e7ea6e15"
      },
      "source": [
        "!pip install mglearn"
      ],
      "execution_count": null,
      "outputs": [
        {
          "output_type": "stream",
          "text": [
            "Collecting mglearn\n",
            "  Downloading mglearn-0.1.9.tar.gz (540 kB)\n",
            "\u001b[?25l\r\u001b[K     |▋                               | 10 kB 9.2 MB/s eta 0:00:01\r\u001b[K     |█▏                              | 20 kB 12.7 MB/s eta 0:00:01\r\u001b[K     |█▉                              | 30 kB 16.0 MB/s eta 0:00:01\r\u001b[K     |██▍                             | 40 kB 19.1 MB/s eta 0:00:01\r\u001b[K     |███                             | 51 kB 21.8 MB/s eta 0:00:01\r\u001b[K     |███▋                            | 61 kB 24.3 MB/s eta 0:00:01\r\u001b[K     |████▎                           | 71 kB 26.2 MB/s eta 0:00:01\r\u001b[K     |████▉                           | 81 kB 26.2 MB/s eta 0:00:01\r\u001b[K     |█████▌                          | 92 kB 26.7 MB/s eta 0:00:01\r\u001b[K     |██████                          | 102 kB 26.2 MB/s eta 0:00:01\r\u001b[K     |██████▊                         | 112 kB 26.2 MB/s eta 0:00:01\r\u001b[K     |███████▎                        | 122 kB 26.2 MB/s eta 0:00:01\r\u001b[K     |███████▉                        | 133 kB 26.2 MB/s eta 0:00:01\r\u001b[K     |████████▌                       | 143 kB 26.2 MB/s eta 0:00:01\r\u001b[K     |█████████                       | 153 kB 26.2 MB/s eta 0:00:01\r\u001b[K     |█████████▊                      | 163 kB 26.2 MB/s eta 0:00:01\r\u001b[K     |██████████▎                     | 174 kB 26.2 MB/s eta 0:00:01\r\u001b[K     |███████████                     | 184 kB 26.2 MB/s eta 0:00:01\r\u001b[K     |███████████▌                    | 194 kB 26.2 MB/s eta 0:00:01\r\u001b[K     |████████████▏                   | 204 kB 26.2 MB/s eta 0:00:01\r\u001b[K     |████████████▊                   | 215 kB 26.2 MB/s eta 0:00:01\r\u001b[K     |█████████████▍                  | 225 kB 26.2 MB/s eta 0:00:01\r\u001b[K     |██████████████                  | 235 kB 26.2 MB/s eta 0:00:01\r\u001b[K     |██████████████▋                 | 245 kB 26.2 MB/s eta 0:00:01\r\u001b[K     |███████████████▏                | 256 kB 26.2 MB/s eta 0:00:01\r\u001b[K     |███████████████▊                | 266 kB 26.2 MB/s eta 0:00:01\r\u001b[K     |████████████████▍               | 276 kB 26.2 MB/s eta 0:00:01\r\u001b[K     |█████████████████               | 286 kB 26.2 MB/s eta 0:00:01\r\u001b[K     |█████████████████▋              | 296 kB 26.2 MB/s eta 0:00:01\r\u001b[K     |██████████████████▏             | 307 kB 26.2 MB/s eta 0:00:01\r\u001b[K     |██████████████████▉             | 317 kB 26.2 MB/s eta 0:00:01\r\u001b[K     |███████████████████▍            | 327 kB 26.2 MB/s eta 0:00:01\r\u001b[K     |████████████████████            | 337 kB 26.2 MB/s eta 0:00:01\r\u001b[K     |████████████████████▋           | 348 kB 26.2 MB/s eta 0:00:01\r\u001b[K     |█████████████████████▎          | 358 kB 26.2 MB/s eta 0:00:01\r\u001b[K     |█████████████████████▉          | 368 kB 26.2 MB/s eta 0:00:01\r\u001b[K     |██████████████████████▌         | 378 kB 26.2 MB/s eta 0:00:01\r\u001b[K     |███████████████████████         | 389 kB 26.2 MB/s eta 0:00:01\r\u001b[K     |███████████████████████▋        | 399 kB 26.2 MB/s eta 0:00:01\r\u001b[K     |████████████████████████▎       | 409 kB 26.2 MB/s eta 0:00:01\r\u001b[K     |████████████████████████▉       | 419 kB 26.2 MB/s eta 0:00:01\r\u001b[K     |█████████████████████████▌      | 430 kB 26.2 MB/s eta 0:00:01\r\u001b[K     |██████████████████████████      | 440 kB 26.2 MB/s eta 0:00:01\r\u001b[K     |██████████████████████████▊     | 450 kB 26.2 MB/s eta 0:00:01\r\u001b[K     |███████████████████████████▎    | 460 kB 26.2 MB/s eta 0:00:01\r\u001b[K     |████████████████████████████    | 471 kB 26.2 MB/s eta 0:00:01\r\u001b[K     |████████████████████████████▌   | 481 kB 26.2 MB/s eta 0:00:01\r\u001b[K     |█████████████████████████████▏  | 491 kB 26.2 MB/s eta 0:00:01\r\u001b[K     |█████████████████████████████▊  | 501 kB 26.2 MB/s eta 0:00:01\r\u001b[K     |██████████████████████████████▍ | 512 kB 26.2 MB/s eta 0:00:01\r\u001b[K     |███████████████████████████████ | 522 kB 26.2 MB/s eta 0:00:01\r\u001b[K     |███████████████████████████████▌| 532 kB 26.2 MB/s eta 0:00:01\r\u001b[K     |████████████████████████████████| 540 kB 26.2 MB/s \n",
            "\u001b[?25hRequirement already satisfied: numpy in /usr/local/lib/python3.7/dist-packages (from mglearn) (1.19.5)\n",
            "Requirement already satisfied: matplotlib in /usr/local/lib/python3.7/dist-packages (from mglearn) (3.2.2)\n",
            "Requirement already satisfied: scikit-learn in /usr/local/lib/python3.7/dist-packages (from mglearn) (0.22.2.post1)\n",
            "Requirement already satisfied: pandas in /usr/local/lib/python3.7/dist-packages (from mglearn) (1.1.5)\n",
            "Requirement already satisfied: pillow in /usr/local/lib/python3.7/dist-packages (from mglearn) (7.1.2)\n",
            "Requirement already satisfied: cycler in /usr/local/lib/python3.7/dist-packages (from mglearn) (0.10.0)\n",
            "Requirement already satisfied: imageio in /usr/local/lib/python3.7/dist-packages (from mglearn) (2.4.1)\n",
            "Requirement already satisfied: joblib in /usr/local/lib/python3.7/dist-packages (from mglearn) (1.0.1)\n",
            "Requirement already satisfied: six in /usr/local/lib/python3.7/dist-packages (from cycler->mglearn) (1.15.0)\n",
            "Requirement already satisfied: kiwisolver>=1.0.1 in /usr/local/lib/python3.7/dist-packages (from matplotlib->mglearn) (1.3.1)\n",
            "Requirement already satisfied: pyparsing!=2.0.4,!=2.1.2,!=2.1.6,>=2.0.1 in /usr/local/lib/python3.7/dist-packages (from matplotlib->mglearn) (2.4.7)\n",
            "Requirement already satisfied: python-dateutil>=2.1 in /usr/local/lib/python3.7/dist-packages (from matplotlib->mglearn) (2.8.1)\n",
            "Requirement already satisfied: pytz>=2017.2 in /usr/local/lib/python3.7/dist-packages (from pandas->mglearn) (2018.9)\n",
            "Requirement already satisfied: scipy>=0.17.0 in /usr/local/lib/python3.7/dist-packages (from scikit-learn->mglearn) (1.4.1)\n",
            "Building wheels for collected packages: mglearn\n",
            "  Building wheel for mglearn (setup.py) ... \u001b[?25l\u001b[?25hdone\n",
            "  Created wheel for mglearn: filename=mglearn-0.1.9-py2.py3-none-any.whl size=582638 sha256=76f3e504d5db053bef95d8a972c79022eb6362d07d045370f25441ad978d6459\n",
            "  Stored in directory: /root/.cache/pip/wheels/f1/17/e1/1720d6dcd70187b6b6c3750cb3508798f2b1d57c9d3214b08b\n",
            "Successfully built mglearn\n",
            "Installing collected packages: mglearn\n",
            "Successfully installed mglearn-0.1.9\n"
          ],
          "name": "stdout"
        }
      ]
    },
    {
      "cell_type": "markdown",
      "metadata": {
        "id": "VEp7I6V5TTFI"
      },
      "source": [
        "## Logistic Regression\n",
        "선형 회귀로 풀리지 않는 문제 -> 독립변수와 종속변수가 비선형 관계인 경우\n",
        "\n",
        " <img src=\"https://www.geogebra.org/resource/SYzqYk7Y/xIOqFXlBGbAVa8OG/material-SYzqYk7Y.png\" alt=\"비선형1\" width=\"40%\" />\n",
        "\n",
        "  <img src=\"https://upload.wikimedia.org/wikipedia/commons/thumb/5/55/Polynomialdeg5.svg/1200px-Polynomialdeg5.svg.png\" alt=\"비선형2\" width=\"40%\" />\n",
        "\n",
        "공부시간과 합격률의 관계 -> 연속적으로 변하는 공부시간의 결과에 대해 “합격했다” 또는\n",
        "“합격하지 않았다?”의 결과만 필요  \n",
        "분류방법 1 -> 선형분류\n",
        "\n",
        "더 나은 분류 방법은?"
      ]
    },
    {
      "cell_type": "markdown",
      "metadata": {
        "id": "XYQY19Q_WWEq"
      },
      "source": [
        "- 1958년 D.R.Cox가 제안한 확률 모델로 <font  color=yellow>독립변수의 선형 결합을 이용하여 종속변수 (사건의 발생 가능성)을 예측</font>하는데 사용되는 통계 기법 \n",
        " - 종속 변수가 <font  color=yellow>범주형 데이터를 대상</font> -> 분류\n",
        "\n",
        "- 선형 회귀는 독립변수 x가 변화할 때 종속변수 y가 어떻게 변하는 지 예측하는 것\n",
        "- 선형 회귀에서 x와 y의 범위 : [-∞, ∞]\n",
        "\n",
        "- 연속적으로 변하는 2개의 결과만을 확인하는 경우\n",
        " - 조사회수가 많아지면 종속 변수 y는 확률로 표현됨\n",
        " - 독립변수의 범위는 [-∞, ∞], 종속변수의 범위는 [0, 1]\n",
        " - 선형회귀를 적용하면 종속변수의 값 범위를 넘어가는 문제가 발생 \n",
        " - 예측정확도 하락 \n",
        " - <font  color=yellow>로지스틱 모형</font> 적용"
      ]
    },
    {
      "cell_type": "markdown",
      "metadata": {
        "id": "TOSRNNG2WYyu"
      },
      "source": [
        "로지스틱 회귀는 선형 회귀 분석과 유사하지만 종속 변수(y)가 범주형 데이터를 대상으로 하며, 입력 데이터(x)가 주어졌을 때 해당 데이터의 결과가 특정 분류로 나뉘기 때문에 일종의 분류모델 기법으로 사용\n",
        "\n",
        "합격을 1, 불합격을 0으로 하는 1과 0사이의 직선은 그리기 어렵움\n",
        " - 참(1)과 거짓(0) 사이를 구분하는 S자 형태의 곡선이면 편리\n",
        "\n",
        "로지스틱 회귀는 선형 회귀와 마찬가지로 적절한 선을 그려가는 과정\n",
        "\n",
        "시그모이드 함수 e(자연상수)는 무리수 값 2.71828...\n",
        " - 파이처럼 상수로 고정된 값\n"
      ]
    },
    {
      "cell_type": "markdown",
      "metadata": {
        "id": "T6XEj1G8Wel-"
      },
      "source": [
        "#### 로지스틱 함수 (sigmoid 함수)\n",
        "오즈 (odds) : 성공확률이 실패확률에 비해 몇 배 높은가를 나타냄, 범위 [0, 1]\n",
        "\n",
        "> \\\\( odds=\\frac { p(y) }{ 1-p(y) }  \\\\)\n",
        "\n",
        "1.   항목 추가\n",
        "2.   항목 추가\n",
        "\n",
        "\n",
        "\n",
        "로짓 변환 : 오즈에 자연로그를 취한 것으로 입력 값의 범위가 [0, 1] 일 때 출력 값의 범위를 [-∞, ∞]\n",
        "로 조정\n",
        "\n",
        "> \\\\( \\log _{ e } {\\frac { p(y) }{ 1-p(y) }} =\\ln { \\frac { p(y) }{ 1-p(y) }  }  \\\\)\n",
        "\n",
        "로지스틱 함수 (sigmoid 함수) : 독립변수 x가 어느 숫자이든 상관없이 종속 변수의 값의 범위가 항\n",
        "상 [0, 1] 범위에 있도록 함\n",
        "\n",
        "> \\\\( \\ln { \\frac { p(y) }{ 1-p(y) }  }  = z  \\\\) <br>\n",
        "\n",
        "> -> \\\\(  \\frac { p(y) }{ 1-p(y) }   = { e }^{ z  }  \\\\) <br>\n",
        "\n",
        "> -> $ \\\\ \\begin{align}\n",
        "p & = \\frac {  { e }^{ z  }  }{ 1 +  { e }^{ z  }  } \\\\\n",
        "& = \\frac {  1  }{ 1 +  { e }^{(- z)  }  } \n",
        "\\end{align} \\\\ $"
      ]
    },
    {
      "cell_type": "markdown",
      "metadata": {
        "id": "DeGtG5V-Wjt2"
      },
      "source": [
        "#### 로지스틱 회귀 (Logistic Regression)\n",
        "\n",
        "- 간단하면서도 파라미터의 수가 적어서 빠르게 예측\n",
        " - 다른 알고리즘과의 비교 기준점으로 사용\n",
        "- 로지스틱 함수를 사용하여 확률을 추정하며 2 클래스 및 다중 클래스 분류를 위한 강력한 통계 방법으로 빠르고 단순\n",
        "- 직선 대신 S 모양 곡선을 사용한다는 사실 때문에 데이터를 그룹으로 나누는 데 적합\n",
        "- 용도 : 신용 점수, 마케팅 캠페인의 성공률 측정, 특정 제품의 매출 예측률, 특정 날에 지진이 발생할 확률 등\n",
        "\n",
        "- 선형 회귀 방식을 분류에 적용한 알고리즘 (선형 회귀 계열)\n",
        "\n",
        "- Linear Regression와 매우 비슷하지만 가중치(w) 합을 사용하는 대신 예측한 값을 임계치 0 과 비교\n",
        "- 계산한 값이 0보다 작은 클래스는 -1, 0보다 크면 +1이라고 예측(분류)\n",
        "\n",
        "- 이 규칙은 Classifier에 쓰이는 모든 Linear model에서 동일\n",
        "- 가장 널리 알려진 두 개의 linear classifier algorithm\n",
        "  1. Logistic Regression\n",
        "  1. Support Vector Classifier의 Linear SVC"
      ]
    },
    {
      "cell_type": "markdown",
      "metadata": {
        "id": "JE_DB8jrWnv_"
      },
      "source": [
        "[LogisticRegression()](https://scikit-learn.org/stable/modules/generated/sklearn.linear_model.LogisticRegression.html)\n",
        "```\n",
        "LogisticRegression(penalty, dual, tol, C, fit_intercept, intercept_scaling, class_weight, random_state, solver, max_iter, multi_class, verbose, warm_start, n_jobs, l1_ratio)\n",
        "```\n",
        "- <font  color=yellow> penalty : 규제에 사용 된 기준을 지정 (l1, l2, elasticnet, none) – default : l2 </font>\n",
        "- dual : 이중 또는 초기 공식\n",
        "- tol : 정밀도\n",
        "- <font  color=yellow> C : 규제 강도 </font>\n",
        "- fit_intercept : 모형에 상수항 (절편)이 있는가 없는가를 결정하는 인수 (default : True)\n",
        "- intercept_scaling : 정규화 효과 정도\n",
        "- class_weight : 클래스의 가중치\n",
        "- random_state : 난수 seed 설정\n",
        "- solver : 최적화 문제에 사용하는 알고리즘\n",
        "- max_iter : 계산에 사용할 작업 수\n",
        "- multi_class : 다중 분류 시에 (ovr, multinomial, auto)로 설정\n",
        "- verbose : 동작 과정에 대한 출력 메시지\n",
        "- warm_start : 이전 모델을 초기화로 적합하게 사용할 것인지 여부\n",
        "- n_jobs : 병렬 처리 할 때 사용되는 CPU 코어 수\n",
        "- <font  color=yellow> l1_ratio : L1 규제의 비율(Elastic-Net 믹싱 파라미터 경우에만 사용) </font>"
      ]
    },
    {
      "cell_type": "markdown",
      "metadata": {
        "id": "NCMUaFWZWr2B"
      },
      "source": [
        "#### LogisticRegression 실습 01\n",
        "\n",
        "학습시간 대비 합격분류 적용"
      ]
    },
    {
      "cell_type": "code",
      "metadata": {
        "id": "2evoxgFqTTHl"
      },
      "source": [
        "import numpy as np\n",
        "import pandas as pd\n",
        "import matplotlib.pyplot as plt\n",
        "from sklearn.linear_model import LogisticRegression\n",
        "%matplotlib inline\n",
        "%config InlineBackend.figure_format = 'retina'"
      ],
      "execution_count": null,
      "outputs": []
    },
    {
      "cell_type": "code",
      "metadata": {
        "id": "HdKNg9JFTTJe"
      },
      "source": [
        "# 학습시간 대비 합격 데이터\n",
        "pass_time = [8, 9, 9, 9.5, 10, 12, 14, 14.5, 15, 16, 16, 16.5, 17, 17, 17, 17.5, 20, 20, 20]\n",
        "fail_time = [1, 2, 2.1, 2.6, 2.7, 2.8, 2.9, 3, 3.2, 3.4, 3.5, 3.6, 3, 5, 5.2, 5.4]"
      ],
      "execution_count": null,
      "outputs": []
    },
    {
      "cell_type": "code",
      "metadata": {
        "colab": {
          "base_uri": "https://localhost:8080/"
        },
        "id": "JZk-9BoGWzBs",
        "outputId": "77af2219-6185-4ad1-f60b-97f67d24ae24"
      },
      "source": [
        "# X\n",
        "X = np.hstack( (pass_time, fail_time) )\n",
        "\n",
        "# y\n",
        "y1 = [1] * len(pass_time)\n",
        "y0 = [0] * len(fail_time)\n",
        "y = np.hstack( (y1, y0) )\n",
        "y"
      ],
      "execution_count": null,
      "outputs": [
        {
          "output_type": "execute_result",
          "data": {
            "text/plain": [
              "array([1, 1, 1, 1, 1, 1, 1, 1, 1, 1, 1, 1, 1, 1, 1, 1, 1, 1, 1, 0, 0, 0,\n",
              "       0, 0, 0, 0, 0, 0, 0, 0, 0, 0, 0, 0, 0])"
            ]
          },
          "metadata": {
            "tags": []
          },
          "execution_count": 60
        }
      ]
    },
    {
      "cell_type": "code",
      "metadata": {
        "colab": {
          "base_uri": "https://localhost:8080/",
          "height": 265
        },
        "id": "L4sTwbsFZ-GL",
        "outputId": "78bb483c-e058-48c1-bef5-543ee4460593"
      },
      "source": [
        "# 시각화\n",
        "plt.scatter(X, y)\n",
        "plt.grid()"
      ],
      "execution_count": null,
      "outputs": [
        {
          "output_type": "display_data",
          "data": {
            "image/png": "[encoded data removed]",
            "text/plain": [
              "<Figure size 432x288 with 1 Axes>"
            ]
          },
          "metadata": {
            "tags": [],
            "image/png": {
              "width": 372,
              "height": 248
            },
            "needs_background": "light"
          }
        }
      ]
    },
    {
      "cell_type": "code",
      "metadata": {
        "colab": {
          "base_uri": "https://localhost:8080/"
        },
        "id": "U5aVMcW3aGX0",
        "outputId": "25646ad9-5a6b-4ac5-a0da-4a1a3008f6df"
      },
      "source": [
        "# 모델학습\n",
        "model = LogisticRegression()\n",
        "model.fit(X.reshape(-1,1), y)\n",
        "print(model.coef_, model.intercept_)\n",
        "\n",
        "# 예측 분류\n",
        "model.predict([[7,]])   # array([1]) -> 7시간은 합격\n",
        "\n",
        "model.predict_proba([[7,]]) # array([[0.46974336, 0.53025664]]) 불합격할 확률, 합격할 확률\n"
      ],
      "execution_count": null,
      "outputs": [
        {
          "output_type": "stream",
          "text": [
            "[[1.32952239]] [-9.1854821]\n"
          ],
          "name": "stdout"
        },
        {
          "output_type": "execute_result",
          "data": {
            "text/plain": [
              "array([[0.46974336, 0.53025664]])"
            ]
          },
          "metadata": {
            "tags": []
          },
          "execution_count": 66
        }
      ]
    },
    {
      "cell_type": "code",
      "metadata": {
        "colab": {
          "base_uri": "https://localhost:8080/",
          "height": 265
        },
        "id": "bIbcSJxgaH3t",
        "outputId": "473e8bc3-4dbc-4596-f719-21f865d96cda"
      },
      "source": [
        "# 모델시각화\n",
        "def logreg(z):\n",
        "  return 1 / (1 + np.exp(-z))\n",
        "\n",
        "xx = np.linspace(1, 21, 100)\n",
        "yy = logreg(model.coef_ * xx + model.intercept_)[0]\n",
        "plt.plot(xx, yy, c='r')\n",
        "\n",
        "plt.scatter(X, y)\n",
        "plt.grid()"
      ],
      "execution_count": null,
      "outputs": [
        {
          "output_type": "display_data",
          "data": {
            "image/png": "[encoded data removed]",
            "text/plain": [
              "<Figure size 432x288 with 1 Axes>"
            ]
          },
          "metadata": {
            "tags": [],
            "image/png": {
              "width": 372,
              "height": 248
            },
            "needs_background": "light"
          }
        }
      ]
    },
    {
      "cell_type": "code",
      "metadata": {
        "colab": {
          "base_uri": "https://localhost:8080/",
          "height": 282
        },
        "id": "19JfN0fOdhHl",
        "outputId": "27740bd9-d7d9-4a4e-846d-a2bed89448d0"
      },
      "source": [
        "# 가중치값, 절편을 바꿨을 때 변화\n",
        "w_list = [1.0]   # 가중치  \n",
        "b_list = [-2, 0, 2]          # 편향\n",
        "xx = np.linspace(-10, 10, 100)\n",
        "for w in w_list:\n",
        "  for b in b_list:\n",
        "    yy = logreg(w * xx + b)\n",
        "    plt.plot(xx, yy, label = f'{w}')\n",
        "plt.legend()\n",
        "# 중심점은 그대로 있고, 기울기만 변화 (가중치에 따라)\n",
        "# 기울기는 그대로 있고, 확률 변화(편향에 따라)"
      ],
      "execution_count": null,
      "outputs": [
        {
          "output_type": "execute_result",
          "data": {
            "text/plain": [
              "<matplotlib.legend.Legend at 0x7f11de2aab10>"
            ]
          },
          "metadata": {
            "tags": []
          },
          "execution_count": 85
        },
        {
          "output_type": "display_data",
          "data": {
            "image/png": "[encoded data removed]",
            "text/plain": [
              "<Figure size 432x288 with 1 Axes>"
            ]
          },
          "metadata": {
            "tags": [],
            "image/png": {
              "width": 372,
              "height": 248
            },
            "needs_background": "light"
          }
        }
      ]
    },
    {
      "cell_type": "markdown",
      "metadata": {
        "id": "OJdPnWu05u4p"
      },
      "source": [
        "* 로지스틱회귀를 퍼셉트론 방식으로 표현\n",
        "\n",
        "<center>\n",
        " <img src=\"https://thebook.io/img/080228/100.jpg\" alt=\"퍼셉트론\" width=\"40%\" />\n",
        "\n",
        "</center>\n"
      ]
    }
  ]
}