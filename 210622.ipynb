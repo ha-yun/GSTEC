{
  "nbformat": 4,
  "nbformat_minor": 0,
  "metadata": {
    "colab": {
      "name": "210622.ipynb",
      "provenance": [],
      "collapsed_sections": [],
      "authorship_tag": "ABX9TyP+HT9tWRGW3ioWFfRLy0qJ",
      "include_colab_link": true
    },
    "kernelspec": {
      "name": "python3",
      "display_name": "Python 3"
    },
    "language_info": {
      "name": "python"
    }
  },
  "cells": [
    {
      "cell_type": "markdown",
      "metadata": {
        "id": "view-in-github",
        "colab_type": "text"
      },
      "source": [
        "<a href=\"https://colab.research.google.com/github/yun-aha/GSTEC/blob/main/210622.ipynb\" target=\"_parent\"><img src=\"https://colab.research.google.com/assets/colab-badge.svg\" alt=\"Open In Colab\"/></a>"
      ]
    },
    {
      "cell_type": "markdown",
      "metadata": {
        "id": "O3QXluKnCaX6"
      },
      "source": [
        "<h1>concatenate 부터</h1>"
      ]
    },
    {
      "cell_type": "code",
      "metadata": {
        "colab": {
          "base_uri": "https://localhost:8080/"
        },
        "id": "x3y_gQAh-95y",
        "outputId": "538cb300-8a0d-4d73-cd7b-9089d13a833f"
      },
      "source": [
        "import numpy as np\n",
        "arr1=np.array([[1,2],[3,4]])\n",
        "arr2=np.array([[5,6]])\n",
        "arr12=np.concatenate((arr1,arr2),axis=0)\n",
        "print(arr12)"
      ],
      "execution_count": null,
      "outputs": [
        {
          "output_type": "stream",
          "text": [
            "[[1 2]\n",
            " [3 4]\n",
            " [5 6]]\n"
          ],
          "name": "stdout"
        }
      ]
    },
    {
      "cell_type": "code",
      "metadata": {
        "colab": {
          "base_uri": "https://localhost:8080/"
        },
        "id": "j2n3FSALCqNE",
        "outputId": "2f4b4558-3dfe-418e-c6ea-1f15d8cbb212"
      },
      "source": [
        "arr3=np.array([[3,4,0,2,1]]) #(1,5)\n",
        "arr4=np.array([[0]])     #(1,1)\n",
        "arr34=np.concatenate((arr3,arr4),axis=1)\n",
        "print(arr34)\n",
        "print('----------------')\n",
        "arr5=np.array([[0,5,3],[2,4,1]])\n",
        "arr6=np.array([[0],[1]])\n",
        "arr56=np.concatenate((arr5,arr6),axis=1)\n",
        "print(arr56)"
      ],
      "execution_count": null,
      "outputs": [
        {
          "output_type": "stream",
          "text": [
            "[[3 4 0 2 1 0]]\n",
            "----------------\n",
            "[[0 5 3 0]\n",
            " [2 4 1 1]]\n"
          ],
          "name": "stdout"
        }
      ]
    },
    {
      "cell_type": "code",
      "metadata": {
        "colab": {
          "base_uri": "https://localhost:8080/"
        },
        "id": "dH_5ye6dDtAH",
        "outputId": "d9dac733-bd34-4eb5-93a3-3405b0e5732c"
      },
      "source": [
        "arr5=np.array([[2,5],[3,0],[1,7],[6,4]])   #(4,2)\n",
        "arr6=np.array([[1,2],[3,4],[0,5]])         #(3,2)\n",
        "arr56=np.concatenate((arr5,arr6),axis=0)\n",
        "print(arr56)\n",
        "print('-=-==-=-=-=-=-===============-=-')\n",
        "arr7=np.array([[[19,17,10,8,3],[5,12,9,0,1]],[[11,6,16,15,14],[4,2,13,18,7]]])  #(2,2,5)\n",
        "arr8=np.array([[[13,1,7,3],[15,5,2,14]],[[4,12,11,10],[8,6,9,0]]])              #(2,2,4)\n",
        "arr78=np.concatenate((arr7,arr8),axis=2)\n",
        "print(arr78)"
      ],
      "execution_count": null,
      "outputs": [
        {
          "output_type": "stream",
          "text": [
            "[[2 5]\n",
            " [3 0]\n",
            " [1 7]\n",
            " [6 4]\n",
            " [1 2]\n",
            " [3 4]\n",
            " [0 5]]\n",
            "-=-==-=-=-=-=-===============-=-\n",
            "[[[19 17 10  8  3 13  1  7  3]\n",
            "  [ 5 12  9  0  1 15  5  2 14]]\n",
            "\n",
            " [[11  6 16 15 14  4 12 11 10]\n",
            "  [ 4  2 13 18  7  8  6  9  0]]]\n"
          ],
          "name": "stdout"
        }
      ]
    },
    {
      "cell_type": "code",
      "metadata": {
        "colab": {
          "base_uri": "https://localhost:8080/"
        },
        "id": "hyC9MXBDFxpG",
        "outputId": "56b02637-373c-460f-f75e-a1bdb291c1a9"
      },
      "source": [
        "arr9=np.zeros((3,5,4))\n",
        "arr10=np.ones((1,5,4))\n",
        "arr90=np.concatenate((arr9,arr10),axis=0)\n",
        "print(arr90)\n",
        "print('==========================')\n",
        "arr11=np.zeros((3,5,4))\n",
        "arr12=np.ones((3,2,4))\n",
        "arr121=np.concatenate((arr11,arr12),axis=1)\n",
        "print(arr121)\n",
        "print('++++++++++++++++++++++++++')\n",
        "arr13=np.zeros((3,5,4))\n",
        "arr14=np.ones((3,5,1))\n",
        "arr134=np.concatenate((arr13,arr14),axis=2)\n",
        "print(arr134)"
      ],
      "execution_count": null,
      "outputs": [
        {
          "output_type": "stream",
          "text": [
            "[[[0. 0. 0. 0.]\n",
            "  [0. 0. 0. 0.]\n",
            "  [0. 0. 0. 0.]\n",
            "  [0. 0. 0. 0.]\n",
            "  [0. 0. 0. 0.]]\n",
            "\n",
            " [[0. 0. 0. 0.]\n",
            "  [0. 0. 0. 0.]\n",
            "  [0. 0. 0. 0.]\n",
            "  [0. 0. 0. 0.]\n",
            "  [0. 0. 0. 0.]]\n",
            "\n",
            " [[0. 0. 0. 0.]\n",
            "  [0. 0. 0. 0.]\n",
            "  [0. 0. 0. 0.]\n",
            "  [0. 0. 0. 0.]\n",
            "  [0. 0. 0. 0.]]\n",
            "\n",
            " [[1. 1. 1. 1.]\n",
            "  [1. 1. 1. 1.]\n",
            "  [1. 1. 1. 1.]\n",
            "  [1. 1. 1. 1.]\n",
            "  [1. 1. 1. 1.]]]\n",
            "==========================\n",
            "[[[0. 0. 0. 0.]\n",
            "  [0. 0. 0. 0.]\n",
            "  [0. 0. 0. 0.]\n",
            "  [0. 0. 0. 0.]\n",
            "  [0. 0. 0. 0.]\n",
            "  [1. 1. 1. 1.]\n",
            "  [1. 1. 1. 1.]]\n",
            "\n",
            " [[0. 0. 0. 0.]\n",
            "  [0. 0. 0. 0.]\n",
            "  [0. 0. 0. 0.]\n",
            "  [0. 0. 0. 0.]\n",
            "  [0. 0. 0. 0.]\n",
            "  [1. 1. 1. 1.]\n",
            "  [1. 1. 1. 1.]]\n",
            "\n",
            " [[0. 0. 0. 0.]\n",
            "  [0. 0. 0. 0.]\n",
            "  [0. 0. 0. 0.]\n",
            "  [0. 0. 0. 0.]\n",
            "  [0. 0. 0. 0.]\n",
            "  [1. 1. 1. 1.]\n",
            "  [1. 1. 1. 1.]]]\n",
            "++++++++++++++++++++++++++\n",
            "[[[0. 0. 0. 0. 1.]\n",
            "  [0. 0. 0. 0. 1.]\n",
            "  [0. 0. 0. 0. 1.]\n",
            "  [0. 0. 0. 0. 1.]\n",
            "  [0. 0. 0. 0. 1.]]\n",
            "\n",
            " [[0. 0. 0. 0. 1.]\n",
            "  [0. 0. 0. 0. 1.]\n",
            "  [0. 0. 0. 0. 1.]\n",
            "  [0. 0. 0. 0. 1.]\n",
            "  [0. 0. 0. 0. 1.]]\n",
            "\n",
            " [[0. 0. 0. 0. 1.]\n",
            "  [0. 0. 0. 0. 1.]\n",
            "  [0. 0. 0. 0. 1.]\n",
            "  [0. 0. 0. 0. 1.]\n",
            "  [0. 0. 0. 0. 1.]]]\n"
          ],
          "name": "stdout"
        }
      ]
    },
    {
      "cell_type": "code",
      "metadata": {
        "id": "KLVXJIQCHQJE"
      },
      "source": [
        "from PIL import Image\n",
        "img=np.asarray(Image.open('lena.png'))\n",
        "img=img.copy()\n",
        "img2=img.copy()\n",
        "img=np.concatenate((img,img2),1)\n",
        "img=Image.fromarray(img,'RGB')\n",
        "img.save('out.png')\n"
      ],
      "execution_count": null,
      "outputs": []
    },
    {
      "cell_type": "markdown",
      "metadata": {
        "id": "U-ptl8pbPwg3"
      },
      "source": [
        "<h1>원소 제거 : np.delete()</h1>"
      ]
    },
    {
      "cell_type": "code",
      "metadata": {
        "colab": {
          "base_uri": "https://localhost:8080/"
        },
        "id": "DPRAlJdZI4yQ",
        "outputId": "cc598189-7ed2-463e-ed1c-46e5c76cb429"
      },
      "source": [
        "arr15=np.array([[1,2,3,4],[5,6,7,8],[9,10,11,12]])\n",
        "arr16=np.delete(arr15,1,1)\n",
        "print(arr16)\n",
        "print('------------------')\n",
        "arr17=np.array([[1,2,3,4],[5,6,7,8],[9,10,11,12]])\n",
        "arr18=np.delete(arr17,(1,3,5),None)\n",
        "print(arr18)\n",
        "print('====================')\n",
        "arr19=np.array([[[1,4,20],[13,8,24]],[[19,15,11],[6,16,7]]])\n",
        "arr20=np.delete(arr19,(0,1),2)\n",
        "print(arr20)"
      ],
      "execution_count": null,
      "outputs": [
        {
          "output_type": "stream",
          "text": [
            "[[ 1  3  4]\n",
            " [ 5  7  8]\n",
            " [ 9 11 12]]\n",
            "------------------\n",
            "[ 1  3  5  7  8  9 10 11 12]\n",
            "====================\n",
            "[[[20]\n",
            "  [24]]\n",
            "\n",
            " [[11]\n",
            "  [ 7]]]\n"
          ],
          "name": "stdout"
        }
      ]
    },
    {
      "cell_type": "code",
      "metadata": {
        "colab": {
          "base_uri": "https://localhost:8080/"
        },
        "id": "5J6DC8e8QTQe",
        "outputId": "c0c22ddf-708b-4b88-8fff-c9956bb2fc13"
      },
      "source": [
        "arr21=np.array([[[1,4,20,23,28],[13,8,24,21,5]],[[25,29,26,18,2],[14,27,9,10,3]],[[19,15,11,22,0],[6,16,7,17,12]]])\n",
        "arr22=np.delete(arr21,0)\n",
        "arr23=np.delete(arr21,(2,4,7))\n",
        "arr24=np.delete(arr21,1,0)\n",
        "arr25=np.delete(arr21,(0,1),2)\n",
        "print(arr22)\n",
        "print(arr23)\n",
        "print('--------------')\n",
        "print(arr24)\n",
        "print('------------')\n",
        "print(arr25)"
      ],
      "execution_count": null,
      "outputs": [
        {
          "output_type": "stream",
          "text": [
            "[ 4 20 23 28 13  8 24 21  5 25 29 26 18  2 14 27  9 10  3 19 15 11 22  0\n",
            "  6 16  7 17 12]\n",
            "[ 1  4 23 13  8 21  5 25 29 26 18  2 14 27  9 10  3 19 15 11 22  0  6 16\n",
            "  7 17 12]\n",
            "--------------\n",
            "[[[ 1  4 20 23 28]\n",
            "  [13  8 24 21  5]]\n",
            "\n",
            " [[19 15 11 22  0]\n",
            "  [ 6 16  7 17 12]]]\n",
            "------------\n",
            "[[[20 23 28]\n",
            "  [24 21  5]]\n",
            "\n",
            " [[26 18  2]\n",
            "  [ 9 10  3]]\n",
            "\n",
            " [[11 22  0]\n",
            "  [ 7 17 12]]]\n"
          ],
          "name": "stdout"
        }
      ]
    },
    {
      "cell_type": "code",
      "metadata": {
        "id": "Dq59DrSmTkxi"
      },
      "source": [
        "from PIL import Image\n",
        "img=np.asarray(Image.open('lena.png'))\n",
        "img=img.copy()\n",
        "img=np.delete(img,np.s_[100:300],1)\n",
        "img=Image.fromarray(img,'RGB')\n",
        "img.save('out2.png')"
      ],
      "execution_count": null,
      "outputs": []
    },
    {
      "cell_type": "markdown",
      "metadata": {
        "id": "K26q8RN81xtJ"
      },
      "source": [
        "<h1>reshape, size, ndim, arange</h1>"
      ]
    },
    {
      "cell_type": "code",
      "metadata": {
        "colab": {
          "base_uri": "https://localhost:8080/"
        },
        "id": "uY_1G1o-VG5K",
        "outputId": "bdb878d7-05ee-4b20-a114-a56077381c6c"
      },
      "source": [
        "arr26=np.arange(0,40)\n",
        "arr_6=np.reshape(arr26,(5,-1))   #-1을 쓰면 원래 배열의 길이와 남은 차원에서 유추하여 자동으로 형태 변경\n",
        "print('-1을 쓰면',arr_6)\n",
        "arr26=np.reshape(arr26,(4,2,5))\n",
        "print('ndim : ',arr26.ndim)\n",
        "print('size :',arr26.size)\n",
        "print('shape :',arr26.shape)\n",
        "print(arr26)\n",
        "print('-----------------')\n",
        "arr27=np.arange(6)\n",
        "arr27=arr27.reshape(3,2)\n",
        "print(arr27)"
      ],
      "execution_count": null,
      "outputs": [
        {
          "output_type": "stream",
          "text": [
            "-1을 쓰면 [[ 0  1  2  3  4  5  6  7]\n",
            " [ 8  9 10 11 12 13 14 15]\n",
            " [16 17 18 19 20 21 22 23]\n",
            " [24 25 26 27 28 29 30 31]\n",
            " [32 33 34 35 36 37 38 39]]\n",
            "ndim :  3\n",
            "size : 40\n",
            "shape : (4, 2, 5)\n",
            "[[[ 0  1  2  3  4]\n",
            "  [ 5  6  7  8  9]]\n",
            "\n",
            " [[10 11 12 13 14]\n",
            "  [15 16 17 18 19]]\n",
            "\n",
            " [[20 21 22 23 24]\n",
            "  [25 26 27 28 29]]\n",
            "\n",
            " [[30 31 32 33 34]\n",
            "  [35 36 37 38 39]]]\n",
            "-----------------\n",
            "[[0 1]\n",
            " [2 3]\n",
            " [4 5]]\n"
          ],
          "name": "stdout"
        }
      ]
    },
    {
      "cell_type": "code",
      "metadata": {
        "colab": {
          "base_uri": "https://localhost:8080/"
        },
        "id": "jNuNTyFtWWKD",
        "outputId": "9f658f20-9bfe-4969-9bed-06ab572c1ed1"
      },
      "source": [
        "arr28=np.arange(0,40)\n",
        "arr29=np.reshape(arr28,(2,20))\n",
        "print(arr29)\n",
        "arr30=np.reshape(arr28,(1,5,8))\n",
        "print(arr30)\n",
        "arr31=np.reshape(arr28,(4,2,5))\n",
        "print(arr31)\n",
        "arr32=np.reshape(arr28,(5,8))\n",
        "print(arr32)\n",
        "print('----------------------------------------')\n",
        "arr33=np.arange(0,72)\n",
        "arr34=np.reshape(arr33,(6,2,6))\n",
        "print(arr34)\n",
        "arr35=np.reshape(arr33,(8,9))\n",
        "print(arr35)\n",
        "print('--------resize')\n",
        "arr36=np.resize(arr35,(3,3,8))\n",
        "print(arr36)"
      ],
      "execution_count": null,
      "outputs": [
        {
          "output_type": "stream",
          "text": [
            "[[ 0  1  2  3  4  5  6  7  8  9 10 11 12 13 14 15 16 17 18 19]\n",
            " [20 21 22 23 24 25 26 27 28 29 30 31 32 33 34 35 36 37 38 39]]\n",
            "[[[ 0  1  2  3  4  5  6  7]\n",
            "  [ 8  9 10 11 12 13 14 15]\n",
            "  [16 17 18 19 20 21 22 23]\n",
            "  [24 25 26 27 28 29 30 31]\n",
            "  [32 33 34 35 36 37 38 39]]]\n",
            "[[[ 0  1  2  3  4]\n",
            "  [ 5  6  7  8  9]]\n",
            "\n",
            " [[10 11 12 13 14]\n",
            "  [15 16 17 18 19]]\n",
            "\n",
            " [[20 21 22 23 24]\n",
            "  [25 26 27 28 29]]\n",
            "\n",
            " [[30 31 32 33 34]\n",
            "  [35 36 37 38 39]]]\n",
            "[[ 0  1  2  3  4  5  6  7]\n",
            " [ 8  9 10 11 12 13 14 15]\n",
            " [16 17 18 19 20 21 22 23]\n",
            " [24 25 26 27 28 29 30 31]\n",
            " [32 33 34 35 36 37 38 39]]\n",
            "----------------------------------------\n",
            "[[[ 0  1  2  3  4  5]\n",
            "  [ 6  7  8  9 10 11]]\n",
            "\n",
            " [[12 13 14 15 16 17]\n",
            "  [18 19 20 21 22 23]]\n",
            "\n",
            " [[24 25 26 27 28 29]\n",
            "  [30 31 32 33 34 35]]\n",
            "\n",
            " [[36 37 38 39 40 41]\n",
            "  [42 43 44 45 46 47]]\n",
            "\n",
            " [[48 49 50 51 52 53]\n",
            "  [54 55 56 57 58 59]]\n",
            "\n",
            " [[60 61 62 63 64 65]\n",
            "  [66 67 68 69 70 71]]]\n",
            "[[ 0  1  2  3  4  5  6  7  8]\n",
            " [ 9 10 11 12 13 14 15 16 17]\n",
            " [18 19 20 21 22 23 24 25 26]\n",
            " [27 28 29 30 31 32 33 34 35]\n",
            " [36 37 38 39 40 41 42 43 44]\n",
            " [45 46 47 48 49 50 51 52 53]\n",
            " [54 55 56 57 58 59 60 61 62]\n",
            " [63 64 65 66 67 68 69 70 71]]\n",
            "--------resize\n",
            "[[[ 0  1  2  3  4  5  6  7]\n",
            "  [ 8  9 10 11 12 13 14 15]\n",
            "  [16 17 18 19 20 21 22 23]]\n",
            "\n",
            " [[24 25 26 27 28 29 30 31]\n",
            "  [32 33 34 35 36 37 38 39]\n",
            "  [40 41 42 43 44 45 46 47]]\n",
            "\n",
            " [[48 49 50 51 52 53 54 55]\n",
            "  [56 57 58 59 60 61 62 63]\n",
            "  [64 65 66 67 68 69 70 71]]]\n"
          ],
          "name": "stdout"
        }
      ]
    },
    {
      "cell_type": "code",
      "metadata": {
        "colab": {
          "base_uri": "https://localhost:8080/"
        },
        "id": "eCq48rgOZUZd",
        "outputId": "70a9d3bb-cb64-4277-a1b8-b1064dc3f697"
      },
      "source": [
        "from PIL import Image\n",
        "img=np.asarray(Image.open('lena.png'))\n",
        "print(img.ndim)\n",
        "print(img.size)\n",
        "print(img.shape)\n",
        "img=img.reshape(256,1024,3)\n",
        "img=Image.fromarray(img,'RGB')\n",
        "img.save('out3.png')"
      ],
      "execution_count": null,
      "outputs": [
        {
          "output_type": "stream",
          "text": [
            "3\n",
            "786432\n",
            "(512, 512, 3)\n"
          ],
          "name": "stdout"
        }
      ]
    },
    {
      "cell_type": "markdown",
      "metadata": {
        "id": "9XljQru9e1Z0"
      },
      "source": [
        "<h2>인덱싱 및 슬라이싱</h2>"
      ]
    },
    {
      "cell_type": "code",
      "metadata": {
        "colab": {
          "base_uri": "https://localhost:8080/"
        },
        "id": "pV8xB7ffePJB",
        "outputId": "64d36b7a-26de-4969-f3ea-7a6df2a58bf7"
      },
      "source": [
        "arr37=np.arange(20).reshape(4,5)\n",
        "print(arr37)\n",
        "print(arr37[1,3])\n",
        "print(arr37[0])\n",
        "print(arr37[0:1,1])\n",
        "print('------------')\n",
        "print(arr37[0:2,1:3])\n",
        "print('===============')\n",
        "arr38=np.arange(42).reshape(6,7)\n",
        "print(arr38[2,3])\n",
        "print(arr38[3,6])\n",
        "print(arr38[5,0])\n",
        "print(arr38[0,1])\n",
        "print(arr38[:,3])\n",
        "print(arr38[1,:])\n",
        "print(arr38[4,:])\n",
        "print(arr38[:,6])\n",
        "print('------------------------------')\n",
        "print(arr38[:,1:4])\n",
        "print(arr38[1:3,:])\n",
        "print(arr38[2:5,:])\n",
        "print(arr38[:,5:7])\n",
        "print(arr38[arr38<5])\n",
        "print(arr38[arr38>=10])\n",
        "print(arr38[4:6,3:5])\n",
        "print(arr38[1:4,2:5])\n",
        "print(arr38[1:6,5:7])\n",
        "print(arr38[1:4,0:3])"
      ],
      "execution_count": null,
      "outputs": [
        {
          "output_type": "stream",
          "text": [
            "[[ 0  1  2  3  4]\n",
            " [ 5  6  7  8  9]\n",
            " [10 11 12 13 14]\n",
            " [15 16 17 18 19]]\n",
            "8\n",
            "[0 1 2 3 4]\n",
            "[1]\n",
            "------------\n",
            "[[1 2]\n",
            " [6 7]]\n",
            "===============\n",
            "17\n",
            "27\n",
            "35\n",
            "1\n",
            "[ 3 10 17 24 31 38]\n",
            "[ 7  8  9 10 11 12 13]\n",
            "[28 29 30 31 32 33 34]\n",
            "[ 6 13 20 27 34 41]\n",
            "------------------------------\n",
            "[[ 1  2  3]\n",
            " [ 8  9 10]\n",
            " [15 16 17]\n",
            " [22 23 24]\n",
            " [29 30 31]\n",
            " [36 37 38]]\n",
            "[[ 7  8  9 10 11 12 13]\n",
            " [14 15 16 17 18 19 20]]\n",
            "[[14 15 16 17 18 19 20]\n",
            " [21 22 23 24 25 26 27]\n",
            " [28 29 30 31 32 33 34]]\n",
            "[[ 5  6]\n",
            " [12 13]\n",
            " [19 20]\n",
            " [26 27]\n",
            " [33 34]\n",
            " [40 41]]\n",
            "[0 1 2 3 4]\n",
            "[10 11 12 13 14 15 16 17 18 19 20 21 22 23 24 25 26 27 28 29 30 31 32 33\n",
            " 34 35 36 37 38 39 40 41]\n",
            "[[31 32]\n",
            " [38 39]]\n",
            "[[ 9 10 11]\n",
            " [16 17 18]\n",
            " [23 24 25]]\n",
            "[[12 13]\n",
            " [19 20]\n",
            " [26 27]\n",
            " [33 34]\n",
            " [40 41]]\n",
            "[[ 7  8  9]\n",
            " [14 15 16]\n",
            " [21 22 23]]\n"
          ],
          "name": "stdout"
        }
      ]
    },
    {
      "cell_type": "code",
      "metadata": {
        "colab": {
          "base_uri": "https://localhost:8080/"
        },
        "id": "gSDWxlNIfTDz",
        "outputId": "3fcf05ff-4d56-4979-988a-c658b4b3278e"
      },
      "source": [
        "arr39=np.arange(0,50).reshape(2,5,5)\n",
        "print(arr39[0,2,:])\n",
        "print(arr39[1,:,4])\n",
        "print(arr39[1,0:3,:])\n",
        "print(arr39[0,:,2:4])\n",
        "print(arr39[:,0:2,2:4])\n",
        "print(arr39[:,2:5,1:4])"
      ],
      "execution_count": null,
      "outputs": [
        {
          "output_type": "stream",
          "text": [
            "[10 11 12 13 14]\n",
            "[29 34 39 44 49]\n",
            "[[25 26 27 28 29]\n",
            " [30 31 32 33 34]\n",
            " [35 36 37 38 39]]\n",
            "[[ 2  3]\n",
            " [ 7  8]\n",
            " [12 13]\n",
            " [17 18]\n",
            " [22 23]]\n",
            "[[[ 2  3]\n",
            "  [ 7  8]]\n",
            "\n",
            " [[27 28]\n",
            "  [32 33]]]\n",
            "[[[11 12 13]\n",
            "  [16 17 18]\n",
            "  [21 22 23]]\n",
            "\n",
            " [[36 37 38]\n",
            "  [41 42 43]\n",
            "  [46 47 48]]]\n"
          ],
          "name": "stdout"
        }
      ]
    },
    {
      "cell_type": "code",
      "metadata": {
        "id": "JwWXZMV0mCsf"
      },
      "source": [
        "from PIL import Image\n",
        "img=np.asarray(Image.open('lena.png'))\n",
        "img=img.copy()\n",
        "img2=img.copy()\n",
        "img=img[100:400,100:400,:]\n",
        "img=Image.fromarray(img,'RGB')\n",
        "img.save('out4.png')\n",
        "\n",
        "img2=img2[300:100:-1,500:250:-1,:]\n",
        "img2=Image.fromarray(img2,'RGB')\n",
        "img2.save('out5.png')"
      ],
      "execution_count": null,
      "outputs": []
    },
    {
      "cell_type": "code",
      "metadata": {
        "colab": {
          "base_uri": "https://localhost:8080/"
        },
        "id": "wL6oIwYBs6Ev",
        "outputId": "453b569b-bb51-4b29-b9c4-398a0bc7bd5f"
      },
      "source": [
        "arr40=np.arange(1,13).reshape(1,3,4)\n",
        "print(arr40[arr40<5])\n",
        "print(arr40[arr40>=5])\n",
        "print(arr40[arr40>2] & arr40[arr40<11])\n",
        "print(arr40)\n",
        "arr40[arr40<5]=3\n",
        "print(arr40)\n",
        "arr41=np.arange(1,11).reshape(2,5)\n",
        "arr41[arr41<5]=0\n",
        "print(arr41)\n"
      ],
      "execution_count": null,
      "outputs": [
        {
          "output_type": "stream",
          "text": [
            "[1 2 3 4]\n",
            "[ 5  6  7  8  9 10 11 12]\n",
            "[1 0 1 4 5 0 1 8 9 8]\n",
            "[[[ 1  2  3  4]\n",
            "  [ 5  6  7  8]\n",
            "  [ 9 10 11 12]]]\n",
            "[[[ 3  3  3  3]\n",
            "  [ 5  6  7  8]\n",
            "  [ 9 10 11 12]]]\n",
            "[[ 0  0  0  0  5]\n",
            " [ 6  7  8  9 10]]\n"
          ],
          "name": "stdout"
        }
      ]
    },
    {
      "cell_type": "code",
      "metadata": {
        "id": "yp0WvXGvu0kZ"
      },
      "source": [
        "from PIL import Image\n",
        "img=np.asarray(Image.open('lena.png'))\n",
        "img=img.copy()\n",
        "img2=img.copy()\n",
        "img[img<=100]=0\n",
        "img=Image.fromarray(img,'RGB')\n",
        "img.save('out_condition.png')\n",
        "\n",
        "img2[img2>=150]=255\n",
        "img2=Image.fromarray(img2,'RGB')\n",
        "img2.save('out_condition2.png')"
      ],
      "execution_count": null,
      "outputs": []
    },
    {
      "cell_type": "markdown",
      "metadata": {
        "id": "9-MN3I3pzCzK"
      },
      "source": [
        "<h1>배열의 차원 확장 newaxis, expand_dims</h1>"
      ]
    },
    {
      "cell_type": "code",
      "metadata": {
        "colab": {
          "base_uri": "https://localhost:8080/"
        },
        "id": "dBsXdaKvw55U",
        "outputId": "ea06167e-b646-49a5-fda4-0d3d575c760d"
      },
      "source": [
        "arr42=np.arange(1,21).reshape(5,4)\n",
        "arr43=arr42[np.newaxis,:]\n",
        "print(arr43.shape)\n",
        "print(arr43)\n",
        "arr44=arr42[:,np.newaxis]\n",
        "print(arr44.shape)\n",
        "print(arr44)"
      ],
      "execution_count": null,
      "outputs": [
        {
          "output_type": "stream",
          "text": [
            "(1, 5, 4)\n",
            "[[[ 1  2  3  4]\n",
            "  [ 5  6  7  8]\n",
            "  [ 9 10 11 12]\n",
            "  [13 14 15 16]\n",
            "  [17 18 19 20]]]\n",
            "(5, 1, 4)\n",
            "[[[ 1  2  3  4]]\n",
            "\n",
            " [[ 5  6  7  8]]\n",
            "\n",
            " [[ 9 10 11 12]]\n",
            "\n",
            " [[13 14 15 16]]\n",
            "\n",
            " [[17 18 19 20]]]\n"
          ],
          "name": "stdout"
        }
      ]
    },
    {
      "cell_type": "code",
      "metadata": {
        "colab": {
          "base_uri": "https://localhost:8080/"
        },
        "id": "Ull1Zod9ya6m",
        "outputId": "d904bc76-9b04-4c30-a9b7-3ae6c3d78952"
      },
      "source": [
        "arr45=np.arange(0,20).reshape(4,5)\n",
        "arr45=arr45[:,np.newaxis]\n",
        "print(arr45.shape)\n",
        "print(arr45)\n",
        "print('---------------------------------------')\n",
        "\n",
        "arr46=np.arange(10,40).reshape(5,6)\n",
        "\n",
        "arr47=arr46[:,:,np.newaxis]\n",
        "print(arr47.shape)\n",
        "print(arr47)\n",
        "print('----')\n",
        "arr46=arr46[np.newaxis,:]\n",
        "print(arr46.shape)\n",
        "print(arr46)\n"
      ],
      "execution_count": null,
      "outputs": [
        {
          "output_type": "stream",
          "text": [
            "(4, 1, 5)\n",
            "[[[ 0  1  2  3  4]]\n",
            "\n",
            " [[ 5  6  7  8  9]]\n",
            "\n",
            " [[10 11 12 13 14]]\n",
            "\n",
            " [[15 16 17 18 19]]]\n",
            "---------------------------------------\n",
            "(5, 6, 1)\n",
            "[[[10]\n",
            "  [11]\n",
            "  [12]\n",
            "  [13]\n",
            "  [14]\n",
            "  [15]]\n",
            "\n",
            " [[16]\n",
            "  [17]\n",
            "  [18]\n",
            "  [19]\n",
            "  [20]\n",
            "  [21]]\n",
            "\n",
            " [[22]\n",
            "  [23]\n",
            "  [24]\n",
            "  [25]\n",
            "  [26]\n",
            "  [27]]\n",
            "\n",
            " [[28]\n",
            "  [29]\n",
            "  [30]\n",
            "  [31]\n",
            "  [32]\n",
            "  [33]]\n",
            "\n",
            " [[34]\n",
            "  [35]\n",
            "  [36]\n",
            "  [37]\n",
            "  [38]\n",
            "  [39]]]\n",
            "----\n",
            "(1, 5, 6)\n",
            "[[[10 11 12 13 14 15]\n",
            "  [16 17 18 19 20 21]\n",
            "  [22 23 24 25 26 27]\n",
            "  [28 29 30 31 32 33]\n",
            "  [34 35 36 37 38 39]]]\n"
          ],
          "name": "stdout"
        }
      ]
    },
    {
      "cell_type": "code",
      "metadata": {
        "colab": {
          "base_uri": "https://localhost:8080/"
        },
        "id": "zlW4kDWbzSrw",
        "outputId": "63028f0d-4178-40ff-a397-2e6ae760aa33"
      },
      "source": [
        "arr47=np.arange(0,30).reshape(5,6)\n",
        "arr48=arr47[:,np.newaxis,:]\n",
        "print(arr48)\n",
        "print(arr48.shape)\n",
        "arr47=np.expand_dims(arr47,axis=(0,1,2,5))\n",
        "print(arr47)\n",
        "print(arr47.shape)"
      ],
      "execution_count": null,
      "outputs": [
        {
          "output_type": "stream",
          "text": [
            "[[[ 0  1  2  3  4  5]]\n",
            "\n",
            " [[ 6  7  8  9 10 11]]\n",
            "\n",
            " [[12 13 14 15 16 17]]\n",
            "\n",
            " [[18 19 20 21 22 23]]\n",
            "\n",
            " [[24 25 26 27 28 29]]]\n",
            "(5, 1, 6)\n",
            "[[[[[[ 0]\n",
            "     [ 1]\n",
            "     [ 2]\n",
            "     [ 3]\n",
            "     [ 4]\n",
            "     [ 5]]\n",
            "\n",
            "    [[ 6]\n",
            "     [ 7]\n",
            "     [ 8]\n",
            "     [ 9]\n",
            "     [10]\n",
            "     [11]]\n",
            "\n",
            "    [[12]\n",
            "     [13]\n",
            "     [14]\n",
            "     [15]\n",
            "     [16]\n",
            "     [17]]\n",
            "\n",
            "    [[18]\n",
            "     [19]\n",
            "     [20]\n",
            "     [21]\n",
            "     [22]\n",
            "     [23]]\n",
            "\n",
            "    [[24]\n",
            "     [25]\n",
            "     [26]\n",
            "     [27]\n",
            "     [28]\n",
            "     [29]]]]]]\n",
            "(1, 1, 1, 5, 6, 1)\n"
          ],
          "name": "stdout"
        }
      ]
    },
    {
      "cell_type": "code",
      "metadata": {
        "id": "wzvrbCES0yf3",
        "colab": {
          "base_uri": "https://localhost:8080/"
        },
        "outputId": "f9b35073-31c1-4dc8-e473-4560424d1a9e"
      },
      "source": [
        "arr48=np.arange(3)\n",
        "print(arr48)\n",
        "arr49=arr48[:,np.newaxis]\n",
        "print(arr49)\n",
        "arr50=arr48[:,np.newaxis]*arr48\n",
        "print(arr50)\n",
        "arr51=arr48[:,np.newaxis]+arr48\n",
        "print(arr51)"
      ],
      "execution_count": null,
      "outputs": [
        {
          "output_type": "stream",
          "text": [
            "[0 1 2]\n",
            "[[0]\n",
            " [1]\n",
            " [2]]\n",
            "[[0 0 0]\n",
            " [0 1 2]\n",
            " [0 2 4]]\n",
            "[[0 1 2]\n",
            " [1 2 3]\n",
            " [2 3 4]]\n"
          ],
          "name": "stdout"
        }
      ]
    },
    {
      "cell_type": "markdown",
      "metadata": {
        "id": "yoWALL7pdLS5"
      },
      "source": [
        "<h1>part8 기존 데이터에서 배열 만들기</h1>"
      ]
    },
    {
      "cell_type": "code",
      "metadata": {
        "colab": {
          "base_uri": "https://localhost:8080/"
        },
        "id": "Gw27rLt1cSgH",
        "outputId": "17b24547-305c-47fa-8206-7428e67c642e"
      },
      "source": [
        "arr1=np.array([[1,1,],[2,2]])\n",
        "arr2=np.array([[3,3],[4,4]])\n",
        "arr11=np.vstack((arr1,arr2))\n",
        "print(arr11)\n",
        "arr12=np.hstack((arr1,arr2))\n",
        "print(arr12)"
      ],
      "execution_count": null,
      "outputs": [
        {
          "output_type": "stream",
          "text": [
            "[[1 1]\n",
            " [2 2]\n",
            " [3 3]\n",
            " [4 4]]\n",
            "[[1 1 3 3]\n",
            " [2 2 4 4]]\n"
          ],
          "name": "stdout"
        }
      ]
    },
    {
      "cell_type": "code",
      "metadata": {
        "colab": {
          "base_uri": "https://localhost:8080/"
        },
        "id": "dI04emoHdS_f",
        "outputId": "0cb1ce8f-7f1e-47ff-8743-971f2b3191a0"
      },
      "source": [
        "arr=np.arange(1,25).reshape(6,4)\n",
        "print(arr)\n",
        "arr1,arr2,arr3=np.vsplit(arr,3)\n",
        "print('---------')\n",
        "print(arr1)\n",
        "print('---------')\n",
        "print(arr2)\n",
        "print('---------')\n",
        "print(arr3)"
      ],
      "execution_count": null,
      "outputs": [
        {
          "output_type": "stream",
          "text": [
            "[[ 1  2  3  4]\n",
            " [ 5  6  7  8]\n",
            " [ 9 10 11 12]\n",
            " [13 14 15 16]\n",
            " [17 18 19 20]\n",
            " [21 22 23 24]]\n",
            "---------\n",
            "[[1 2 3 4]\n",
            " [5 6 7 8]]\n",
            "---------\n",
            "[[ 9 10 11 12]\n",
            " [13 14 15 16]]\n",
            "---------\n",
            "[[17 18 19 20]\n",
            " [21 22 23 24]]\n"
          ],
          "name": "stdout"
        }
      ]
    },
    {
      "cell_type": "code",
      "metadata": {
        "colab": {
          "base_uri": "https://localhost:8080/"
        },
        "id": "JRv1pocseOdE",
        "outputId": "a4b24085-ae84-4e1b-d429-7b1ffc0646dd"
      },
      "source": [
        "arr10=np.arange(1,25).reshape(2,12)\n",
        "arr11,arr20,arr30=np.hsplit(arr10,3)\n",
        "print(arr11)\n",
        "print('---------')\n",
        "print(arr20)\n",
        "print('---')\n",
        "print(arr30)"
      ],
      "execution_count": null,
      "outputs": [
        {
          "output_type": "stream",
          "text": [
            "[[ 1  2  3  4]\n",
            " [13 14 15 16]]\n",
            "---------\n",
            "[[ 5  6  7  8]\n",
            " [17 18 19 20]]\n",
            "---\n",
            "[[ 9 10 11 12]\n",
            " [21 22 23 24]]\n"
          ],
          "name": "stdout"
        }
      ]
    },
    {
      "cell_type": "markdown",
      "metadata": {
        "id": "iDhAt6tL6mjb"
      },
      "source": [
        "복제"
      ]
    },
    {
      "cell_type": "code",
      "metadata": {
        "colab": {
          "base_uri": "https://localhost:8080/"
        },
        "id": "n1txlnrfgAAC",
        "outputId": "57ec928b-3e5e-4cde-bf2e-81fb8d555ca9"
      },
      "source": [
        "arr1=np.array([[0,1,2,3],[4,5,6,7],[8,9,10,11]])\n",
        "arr2=arr1\n",
        "print(arr2 is arr1)\n",
        "print(id(arr1))\n",
        "print(id(arr2))"
      ],
      "execution_count": null,
      "outputs": [
        {
          "output_type": "stream",
          "text": [
            "True\n",
            "139984969941920\n",
            "139984969941920\n"
          ],
          "name": "stdout"
        }
      ]
    },
    {
      "cell_type": "code",
      "metadata": {
        "colab": {
          "base_uri": "https://localhost:8080/"
        },
        "id": "7ScmoThWhNWp",
        "outputId": "91d2a8f7-41b5-40d4-df41-8244b8f9a9dc"
      },
      "source": [
        "arr1=np.array([[0,1,2,3],[4,5,6,7],[8,9,10,11]])\n",
        "arr2=arr1.view()\n",
        "print(arr1 is arr2)\n",
        "arr1[0]=999\n",
        "print(arr2)\n",
        "print(id(arr1))\n",
        "print(id(arr2))"
      ],
      "execution_count": null,
      "outputs": [
        {
          "output_type": "stream",
          "text": [
            "False\n",
            "[[999 999 999 999]\n",
            " [  4   5   6   7]\n",
            " [  8   9  10  11]]\n",
            "139984969848512\n",
            "139984969850672\n"
          ],
          "name": "stdout"
        }
      ]
    },
    {
      "cell_type": "code",
      "metadata": {
        "colab": {
          "base_uri": "https://localhost:8080/"
        },
        "id": "qmmzqAj3iQa9",
        "outputId": "323cd564-c9a5-4cd4-8912-380ea6e67cfc"
      },
      "source": [
        "arr1=np.array([[0,1,2,3],[4,5,6,7],[8,9,10,11]])\n",
        "arr2=arr1.copy()\n",
        "print(arr1 is arr2)\n",
        "arr1[0][2]=99\n",
        "print(arr1)\n",
        "print(arr2)\n",
        "print(id(arr1))\n",
        "print(id(arr2))"
      ],
      "execution_count": null,
      "outputs": [
        {
          "output_type": "stream",
          "text": [
            "False\n",
            "[[ 0  1 99  3]\n",
            " [ 4  5  6  7]\n",
            " [ 8  9 10 11]]\n",
            "[[ 0  1  2  3]\n",
            " [ 4  5  6  7]\n",
            " [ 8  9 10 11]]\n",
            "139984970307504\n",
            "139984969922080\n"
          ],
          "name": "stdout"
        }
      ]
    },
    {
      "cell_type": "markdown",
      "metadata": {
        "id": "cr6n6UTSlo1Z"
      },
      "source": [
        "<h1>9.배열연산</h1>"
      ]
    },
    {
      "cell_type": "code",
      "metadata": {
        "colab": {
          "base_uri": "https://localhost:8080/"
        },
        "id": "KxfrRKUkjGUh",
        "outputId": "f89dc4d4-6c49-4c3a-d163-db735133d6c4"
      },
      "source": [
        "arr1=np.array([1,2])\n",
        "arr2=np.ones(2,dtype=int)\n",
        "print(arr1+arr2)\n",
        "print(arr1-arr2)\n",
        "print(arr1*arr2)\n",
        "print(arr1/arr2)\n",
        "arr3=np.array([1,2,3,4])\n",
        "print(arr3.sum())\n",
        "arr4=np.array([[1,1],[2,2]])\n",
        "print(arr4.sum(axis=0))\n",
        "print(arr4.sum(axis=1))"
      ],
      "execution_count": null,
      "outputs": [
        {
          "output_type": "stream",
          "text": [
            "[2 3]\n",
            "[0 1]\n",
            "[1 2]\n",
            "[1. 2.]\n",
            "10\n",
            "[3 3]\n",
            "[2 4]\n"
          ],
          "name": "stdout"
        }
      ]
    },
    {
      "cell_type": "code",
      "metadata": {
        "colab": {
          "base_uri": "https://localhost:8080/"
        },
        "id": "kIVKRkTao578",
        "outputId": "8d91eb2f-44bc-4083-d465-91d8d9a6d974"
      },
      "source": [
        "arr=np.array([[4,2,5,7,2,7],[9,54,3,8,4,67],[14,36,58,547,32,7]])\n",
        "print(arr.max(axis=0))\n",
        "print(arr.max(axis=1))\n",
        "print(arr.max())   #axis=None\n",
        "print('-----------')\n",
        "print(arr.min(axis=0))\n",
        "print(arr.min(axis=1))\n",
        "print(arr.min())\n",
        "print('=======================')\n",
        "print(arr.mean(axis=0))\n",
        "print(arr.mean(axis=1))\n",
        "print(arr.mean())\n",
        "print('-=-=-=-=-=-=-=-=-=-=-=-=-=-=-=-=')\n",
        "print(arr.std(axis=0))\n",
        "print(arr.std(axis=1))\n",
        "print(arr.std())"
      ],
      "execution_count": null,
      "outputs": [
        {
          "output_type": "stream",
          "text": [
            "[ 14  54  58 547  32  67]\n",
            "[  7  67 547]\n",
            "547\n",
            "-----------\n",
            "[4 2 3 7 2 7]\n",
            "[2 3 7]\n",
            "2\n",
            "=======================\n",
            "[  9.          30.66666667  22.         187.33333333  12.66666667\n",
            "  27.        ]\n",
            "[  4.5         24.16666667 115.66666667]\n",
            "48.111111111111114\n",
            "-=-=-=-=-=-=-=-=-=-=-=-=-=-=-=-=\n",
            "[  4.0824829   21.56128217  25.46893533 254.32306663  13.69509239\n",
            "  28.28427125]\n",
            "[  2.06155281  26.04749935 193.59120733]\n",
            "122.74539542795661\n"
          ],
          "name": "stdout"
        }
      ]
    },
    {
      "cell_type": "code",
      "metadata": {
        "colab": {
          "base_uri": "https://localhost:8080/"
        },
        "id": "jH4zxfGLpoBY",
        "outputId": "48d67dd8-e630-4d6c-e091-960f8b1a4110"
      },
      "source": [
        "arr=np.array([[4,2,5,7,2,7],[9,54,3,8,4,67],[14,36,58,547,32,7]])\n",
        "print(arr.prod(axis=0))\n",
        "print(arr.prod(axis=1))\n",
        "print(arr.prod())\n",
        "print('--------------------')\n",
        "arr1=np.eye(2)\n",
        "print(arr1)\n",
        "arr2=np.ones((2,2))*2\n",
        "print(arr2)\n",
        "print('')\n",
        "print(arr1.dot(arr2))   #내적..?을 구해줌\n",
        "print(arr1.dot(arr2).dot(arr2))\n",
        "print('===============================================')\n",
        "arr1=np.array([[1,0],[0,1]])\n",
        "arr2=np.array([[4,1],[2,2]])\n",
        "print(np.matmul(arr1,arr2))"
      ],
      "execution_count": null,
      "outputs": [
        {
          "output_type": "stream",
          "text": [
            "[  504  3888   870 30632   256  3283]\n",
            "[      3920    3125952 3581738496]\n",
            "6996174903569809408\n",
            "--------------------\n",
            "[[1. 0.]\n",
            " [0. 1.]]\n",
            "[[2. 2.]\n",
            " [2. 2.]]\n",
            "\n",
            "[[2. 2.]\n",
            " [2. 2.]]\n",
            "[[8. 8.]\n",
            " [8. 8.]]\n",
            "===============================================\n",
            "[[4 1]\n",
            " [2 2]]\n"
          ],
          "name": "stdout"
        }
      ]
    },
    {
      "cell_type": "markdown",
      "metadata": {
        "id": "IBl75x0nvyif"
      },
      "source": [
        "<h1>10. 브로드캐스트 </h1>\n"
      ]
    },
    {
      "cell_type": "code",
      "metadata": {
        "colab": {
          "base_uri": "https://localhost:8080/"
        },
        "id": "LWMAq3lis9tF",
        "outputId": "c2f6b04c-9a11-407f-da5b-d6842c3132fc"
      },
      "source": [
        "arr=np.array([1.0,2.0])\n",
        "print(arr*1.6)"
      ],
      "execution_count": null,
      "outputs": [
        {
          "output_type": "stream",
          "text": [
            "[1.6 3.2]\n"
          ],
          "name": "stdout"
        }
      ]
    },
    {
      "cell_type": "code",
      "metadata": {
        "colab": {
          "base_uri": "https://localhost:8080/"
        },
        "id": "N5Ag9-gnujw1",
        "outputId": "b04a5438-4804-40ab-dbd7-4c39ac3a6e0e"
      },
      "source": [
        "arr=np.array([[0,0,0],[10,10,10],[20,20,20],[30,30,30]])\n",
        "arr1=np.array([[0,1,2],[0,1,2],[0,1,2],[0,1,2]])\n",
        "print(arr+arr1)\n",
        "arr2=np.array([0,1,2])\n",
        "print(arr+arr2)\n",
        "print('-------------------')\n",
        "arr3=np.array([[0],[11],[22],[35]])\n",
        "arr4=np.array([0,1,4])\n",
        "print(arr3+arr4)"
      ],
      "execution_count": null,
      "outputs": [
        {
          "output_type": "stream",
          "text": [
            "[[ 0  1  2]\n",
            " [10 11 12]\n",
            " [20 21 22]\n",
            " [30 31 32]]\n",
            "[[ 0  1  2]\n",
            " [10 11 12]\n",
            " [20 21 22]\n",
            " [30 31 32]]\n",
            "-------------------\n",
            "[[ 0  1  4]\n",
            " [11 12 15]\n",
            " [22 23 26]\n",
            " [35 36 39]]\n"
          ],
          "name": "stdout"
        }
      ]
    },
    {
      "cell_type": "markdown",
      "metadata": {
        "id": "E8o6K_fryu32"
      },
      "source": [
        "<h1>11. 난수 생성</h1>"
      ]
    },
    {
      "cell_type": "code",
      "metadata": {
        "colab": {
          "base_uri": "https://localhost:8080/"
        },
        "id": "H4k-pSziv3hl",
        "outputId": "f94f154b-4ab1-4b07-827b-b6c7a551e936"
      },
      "source": [
        "print(np.random.randint(2,10))\n",
        "print(np.random.randint(2,10,size=10))\n",
        "print(np.random.randint(5,size=(2,4)))\n",
        "print(np.random.rand(3,2))\n",
        "print(np.random.randn(2,4))"
      ],
      "execution_count": null,
      "outputs": [
        {
          "output_type": "stream",
          "text": [
            "4\n",
            "[4 8 7 6 9 3 9 3 7 5]\n",
            "[[4 3 1 4]\n",
            " [1 0 4 4]]\n",
            "[[0.42626892 0.63887295]\n",
            " [0.08779568 0.39195278]\n",
            " [0.11172806 0.2513231 ]]\n",
            "[[ 0.30216301 -0.3984355  -0.15807776  1.4493551 ]\n",
            " [-0.20064485 -0.18929798 -0.02071596 -1.14519885]]\n"
          ],
          "name": "stdout"
        }
      ]
    },
    {
      "cell_type": "code",
      "metadata": {
        "colab": {
          "base_uri": "https://localhost:8080/"
        },
        "id": "1c-tJ7kd3G8W",
        "outputId": "4e119b1c-d6c6-4226-f2a4-4fae924a975e"
      },
      "source": [
        "arr=np.arange(10)\n",
        "np.random.shuffle(arr)\n",
        "print(arr)\n",
        "arr1=np.arange(9).reshape((3,3))\n",
        "np.random.shuffle(arr1)      #다차원 배열의 첫번째 축을 따른 배열만 섞인다.\n",
        "print(arr1)\n",
        "\n",
        "print(np.random.choice(5,3,p=[0.1,0,0.3,0.6,0])) \n",
        "#p는 각 항목과 관련된 확률,선택사항,지정되지 않은 경우 모든 항목에 대해 균일한 분포 가정\n"
      ],
      "execution_count": null,
      "outputs": [
        {
          "output_type": "stream",
          "text": [
            "[4 6 3 5 9 0 2 7 8 1]\n",
            "[[6 7 8]\n",
            " [3 4 5]\n",
            " [0 1 2]]\n",
            "[3 2 3]\n"
          ],
          "name": "stdout"
        }
      ]
    },
    {
      "cell_type": "markdown",
      "metadata": {
        "id": "qF9B1e4T6hTd"
      },
      "source": [
        "<h1>12. 고유 항목 및 개수를 얻는 방법</h1>"
      ]
    },
    {
      "cell_type": "code",
      "metadata": {
        "colab": {
          "base_uri": "https://localhost:8080/"
        },
        "id": "SYjIXZe54gZ6",
        "outputId": "49611d97-7141-4742-a24c-26af50677dee"
      },
      "source": [
        "arr=np.array([11,21,11,12,13,14,15,11,14,18,19,20,21,20,22,23,24,25,224,22])\n",
        "arr1=np.unique(arr)\n",
        "print(arr1)\n",
        "arr1,arr2=np.unique(arr,return_counts=True)    #return_counts : True인 경우 각 고유 값이 나타나는 횟수 반환\n",
        "print(arr2)"
      ],
      "execution_count": null,
      "outputs": [
        {
          "output_type": "stream",
          "text": [
            "[ 11  12  13  14  15  18  19  20  21  22  23  24  25 224]\n",
            "[3 1 1 2 1 1 1 2 2 2 1 1 1 1]\n"
          ],
          "name": "stdout"
        }
      ]
    },
    {
      "cell_type": "code",
      "metadata": {
        "colab": {
          "base_uri": "https://localhost:8080/"
        },
        "id": "T4gVRaTn6nHy",
        "outputId": "9ae8766b-e878-4951-b157-153fd70adc84"
      },
      "source": [
        "arr_2=np.array([[1,2,3,4],[5,6,7,8],[9,10,11,12],[1,2,3,4]])\n",
        "arr_u=np.unique(arr_2,axis=1) #axis=0은 고유한 행, axis=1은 고유한 열\n",
        "print(arr_u)"
      ],
      "execution_count": null,
      "outputs": [
        {
          "output_type": "stream",
          "text": [
            "[[ 1  2  3  4]\n",
            " [ 5  6  7  8]\n",
            " [ 9 10 11 12]\n",
            " [ 1  2  3  4]]\n"
          ],
          "name": "stdout"
        }
      ]
    },
    {
      "cell_type": "markdown",
      "metadata": {
        "id": "mtalrpH69iGs"
      },
      "source": [
        "<h1>13. 행렬전치 및 재구성</h1>"
      ]
    },
    {
      "cell_type": "code",
      "metadata": {
        "colab": {
          "base_uri": "https://localhost:8080/"
        },
        "id": "BM2Rug9U860U",
        "outputId": "f6a9ca2f-a22c-4b96-ec03-31ea6383fdb8"
      },
      "source": [
        "arr=np.arange(4).reshape((2,2))\n",
        "print(arr)\n",
        "print(np.transpose(arr))\n",
        "\n",
        "print('-----------')\n",
        "\n",
        "arr1=np.ones((1,2,3))\n",
        "print(arr1)\n",
        "print('============')\n",
        "print(np.transpose(arr1,(1,0,2)).shape)        #???"
      ],
      "execution_count": null,
      "outputs": [
        {
          "output_type": "stream",
          "text": [
            "[[0 1]\n",
            " [2 3]]\n",
            "[[0 2]\n",
            " [1 3]]\n",
            "-----------\n",
            "[[[1. 1. 1.]\n",
            "  [1. 1. 1.]]]\n",
            "============\n",
            "(2, 1, 3)\n"
          ],
          "name": "stdout"
        }
      ]
    },
    {
      "cell_type": "code",
      "metadata": {
        "colab": {
          "base_uri": "https://localhost:8080/"
        },
        "id": "bz15GDgn-BH_",
        "outputId": "f7ec8eec-fd70-4889-851e-dfe55a349f5a"
      },
      "source": [
        "arr=np.array([[1.,2.],[3.,4.]])\n",
        "print(arr)\n",
        "print(arr.T)\n",
        "arr1=np.array([[1.,2.,3.,4.]])\n",
        "print(arr1)\n",
        "print(arr1.T)"
      ],
      "execution_count": null,
      "outputs": [
        {
          "output_type": "stream",
          "text": [
            "[[1. 2.]\n",
            " [3. 4.]]\n",
            "[[1. 3.]\n",
            " [2. 4.]]\n",
            "[[1. 2. 3. 4.]]\n",
            "[[1.]\n",
            " [2.]\n",
            " [3.]\n",
            " [4.]]\n"
          ],
          "name": "stdout"
        }
      ]
    },
    {
      "cell_type": "code",
      "metadata": {
        "id": "J7RpQbTkAiup"
      },
      "source": [
        ""
      ],
      "execution_count": null,
      "outputs": []
    }
  ]
}