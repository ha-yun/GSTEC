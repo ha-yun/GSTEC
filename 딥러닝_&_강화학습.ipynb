{
  "nbformat": 4,
  "nbformat_minor": 0,
  "metadata": {
    "colab": {
      "name": "딥러닝 & 강화학습.ipynb",
      "provenance": [],
      "collapsed_sections": [],
      "authorship_tag": "ABX9TyO3SzOqaT+UqRK0f1p0XA/A",
      "include_colab_link": true
    },
    "kernelspec": {
      "name": "python3",
      "display_name": "Python 3"
    },
    "language_info": {
      "name": "python"
    }
  },
  "cells": [
    {
      "cell_type": "markdown",
      "metadata": {
        "id": "view-in-github",
        "colab_type": "text"
      },
      "source": [
        "<a href=\"https://colab.research.google.com/github/yun-aha/GSTEC/blob/main/%EB%94%A5%EB%9F%AC%EB%8B%9D_%26_%EA%B0%95%ED%99%94%ED%95%99%EC%8A%B5.ipynb\" target=\"_parent\"><img src=\"https://colab.research.google.com/assets/colab-badge.svg\" alt=\"Open In Colab\"/></a>"
      ]
    },
    {
      "cell_type": "markdown",
      "metadata": {
        "id": "YGxp49lrWKzz"
      },
      "source": [
        "###평균 제곱 오차(MSE, Mean Squared Error)  \n",
        "SSE를 원소 개수로 나눈 것  \n",
        "예시당 평균 제곱 손실입니다. MSE는 제곱 손실을 예시의 개수로 나누어 계산합니다. 텐서플로우 플레이그라운드에서 '학습 손실' 및 '테스트 손실'로 표시하는 값이 MSE입니다."
      ]
    },
    {
      "cell_type": "markdown",
      "metadata": {
        "id": "k6nE6_nmWOIi"
      },
      "source": [
        "###오차제곱합(SSE, Sum of Squares Error)  \n",
        "오차들의 제곱을 모두 더한 것"
      ]
    },
    {
      "cell_type": "code",
      "metadata": {
        "id": "AUYu-MObmpb7"
      },
      "source": [
        ""
      ],
      "execution_count": null,
      "outputs": []
    },
    {
      "cell_type": "code",
      "metadata": {
        "id": "38ogOLMimpZ8"
      },
      "source": [
        ""
      ],
      "execution_count": null,
      "outputs": []
    }
  ]
}