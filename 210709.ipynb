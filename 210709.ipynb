{
  "nbformat": 4,
  "nbformat_minor": 0,
  "metadata": {
    "colab": {
      "name": "210709.ipynb",
      "provenance": [],
      "collapsed_sections": [],
      "authorship_tag": "ABX9TyOMFGecovqbaem0jaopdelo",
      "include_colab_link": true
    },
    "kernelspec": {
      "name": "python3",
      "display_name": "Python 3"
    },
    "language_info": {
      "name": "python"
    }
  },
  "cells": [
    {
      "cell_type": "markdown",
      "metadata": {
        "id": "view-in-github",
        "colab_type": "text"
      },
      "source": [
        "<a href=\"https://colab.research.google.com/github/yun-aha/GSTEC/blob/main/210709.ipynb\" target=\"_parent\"><img src=\"https://colab.research.google.com/assets/colab-badge.svg\" alt=\"Open In Colab\"/></a>"
      ]
    },
    {
      "cell_type": "markdown",
      "metadata": {
        "id": "qC3gjGRXkZIa"
      },
      "source": [
        "#1. 빅데이터 분석"
      ]
    },
    {
      "cell_type": "markdown",
      "metadata": {
        "id": "Xu33QRcAxmra"
      },
      "source": [
        "### SQLite 데이터 베이스와 Pandas 데이터프레임"
      ]
    },
    {
      "cell_type": "code",
      "metadata": {
        "id": "LMtuFhmkkXuH"
      },
      "source": [
        "import sqlite3\n",
        "import pandas as pd\n",
        "import os"
      ],
      "execution_count": null,
      "outputs": []
    },
    {
      "cell_type": "code",
      "metadata": {
        "colab": {
          "base_uri": "https://localhost:8080/"
        },
        "id": "U0De7coRxNnp",
        "outputId": "c6f26007-0902-4ab8-c71a-43f720e4e8fa"
      },
      "source": [
        "from google.colab import drive\n",
        "# 구글 드라이브 마운트.\n",
        "drive.mount('/content/drive')  # 절차를 따라서 한다"
      ],
      "execution_count": null,
      "outputs": [
        {
          "output_type": "stream",
          "text": [
            "Mounted at /content/drive\n"
          ],
          "name": "stdout"
        }
      ]
    },
    {
      "cell_type": "code",
      "metadata": {
        "colab": {
          "base_uri": "https://localhost:8080/"
        },
        "id": "4LmWuYZmxR9L",
        "outputId": "24d339e3-b9a2-4880-976c-035b402c0d93"
      },
      "source": [
        "# 현 폴더의 위치를 보여준다.\n",
        "!pwd        # Linux"
      ],
      "execution_count": null,
      "outputs": [
        {
          "output_type": "stream",
          "text": [
            "/content\n"
          ],
          "name": "stdout"
        }
      ]
    },
    {
      "cell_type": "code",
      "metadata": {
        "id": "Iju1JUN3xSJa"
      },
      "source": [
        "# 작업 폴더로 이동한다.\n",
        "# 데이터 파일은 이미 올려져 있어야 한다.\n",
        "os.chdir(\"/content/drive/MyDrive/광인사/01_SQL과 데이터 베이스_배포/\")\n",
        "# %cd /content/drive/MyDrive/광인사/01_SQL과 데이터 베이스_배포/        #디렉토리 경로이동 "
      ],
      "execution_count": null,
      "outputs": []
    },
    {
      "cell_type": "code",
      "metadata": {
        "colab": {
          "base_uri": "https://localhost:8080/"
        },
        "id": "PJJ80WiVxSn0",
        "outputId": "105fd41a-075a-4325-f535-32b846c509c4"
      },
      "source": [
        "# 현 폴더의 위치를 보여준다.\n",
        "!pwd"
      ],
      "execution_count": null,
      "outputs": [
        {
          "output_type": "stream",
          "text": [
            "/content/drive/MyDrive/광인사/01_SQL과 데이터 베이스_배포\n"
          ],
          "name": "stdout"
        }
      ]
    },
    {
      "cell_type": "code",
      "metadata": {
        "colab": {
          "base_uri": "https://localhost:8080/"
        },
        "id": "9OP_vMlIxUeS",
        "outputId": "9bc8c18e-6b91-4488-8633-6537e46bf64e"
      },
      "source": [
        "# 현 폴더의 내용을 보여준다.\n",
        "!ls"
      ],
      "execution_count": null,
      "outputs": [
        {
          "output_type": "stream",
          "text": [
            "'0101 - SQL과 데이터 베이스.pdf'   scripts\n",
            " data\t\t\t\t   sqlitestudio-3.3.3\n",
            " database\t\t\t  '빅데이터분석 - 커리큘럼.txt'\n",
            " notebook\n"
          ],
          "name": "stdout"
        }
      ]
    },
    {
      "cell_type": "markdown",
      "metadata": {
        "id": "4Y1ZU57bxpKC"
      },
      "source": [
        "#### 1). 데이터프레임의 내용을 데이터베이스로 옮겨본다: \n",
        "#### 데이터프레임을 가져온다:"
      ]
    },
    {
      "cell_type": "code",
      "metadata": {
        "id": "2h7KebC2xkbR"
      },
      "source": [
        "os.chdir(\"./data\")\n",
        "df = pd.read_csv(\"data_studentlist_en.csv\",header=\"infer\")"
      ],
      "execution_count": null,
      "outputs": []
    },
    {
      "cell_type": "code",
      "metadata": {
        "colab": {
          "base_uri": "https://localhost:8080/",
          "height": 142
        },
        "id": "1beKAL6extXR",
        "outputId": "8131d345-5a44-46a8-eb41-887b68da8a52"
      },
      "source": [
        "nrows = df.shape[0]\n",
        "my_header = df.columns\n",
        "df.head(3)"
      ],
      "execution_count": null,
      "outputs": [
        {
          "output_type": "execute_result",
          "data": {
            "text/html": [
              "<div>\n",
              "<style scoped>\n",
              "    .dataframe tbody tr th:only-of-type {\n",
              "        vertical-align: middle;\n",
              "    }\n",
              "\n",
              "    .dataframe tbody tr th {\n",
              "        vertical-align: top;\n",
              "    }\n",
              "\n",
              "    .dataframe thead th {\n",
              "        text-align: right;\n",
              "    }\n",
              "</style>\n",
              "<table border=\"1\" class=\"dataframe\">\n",
              "  <thead>\n",
              "    <tr style=\"text-align: right;\">\n",
              "      <th></th>\n",
              "      <th>name</th>\n",
              "      <th>gender</th>\n",
              "      <th>age</th>\n",
              "      <th>grade</th>\n",
              "      <th>absence</th>\n",
              "      <th>bloodtype</th>\n",
              "      <th>height</th>\n",
              "      <th>weight</th>\n",
              "    </tr>\n",
              "  </thead>\n",
              "  <tbody>\n",
              "    <tr>\n",
              "      <th>0</th>\n",
              "      <td>Jared Diamond</td>\n",
              "      <td>M</td>\n",
              "      <td>23</td>\n",
              "      <td>3</td>\n",
              "      <td>Y</td>\n",
              "      <td>O</td>\n",
              "      <td>165.3</td>\n",
              "      <td>68.2</td>\n",
              "    </tr>\n",
              "    <tr>\n",
              "      <th>1</th>\n",
              "      <td>Sarah O'Donnel</td>\n",
              "      <td>F</td>\n",
              "      <td>22</td>\n",
              "      <td>2</td>\n",
              "      <td>N</td>\n",
              "      <td>AB</td>\n",
              "      <td>170.1</td>\n",
              "      <td>53.0</td>\n",
              "    </tr>\n",
              "    <tr>\n",
              "      <th>2</th>\n",
              "      <td>Brian Martin</td>\n",
              "      <td>M</td>\n",
              "      <td>24</td>\n",
              "      <td>4</td>\n",
              "      <td>N</td>\n",
              "      <td>B</td>\n",
              "      <td>175.0</td>\n",
              "      <td>80.1</td>\n",
              "    </tr>\n",
              "  </tbody>\n",
              "</table>\n",
              "</div>"
            ],
            "text/plain": [
              "             name gender  age  grade absence bloodtype  height  weight\n",
              "0   Jared Diamond      M   23      3       Y         O   165.3    68.2\n",
              "1  Sarah O'Donnel      F   22      2       N        AB   170.1    53.0\n",
              "2    Brian Martin      M   24      4       N         B   175.0    80.1"
            ]
          },
          "metadata": {
            "tags": []
          },
          "execution_count": 39
        }
      ]
    },
    {
      "cell_type": "code",
      "metadata": {
        "colab": {
          "base_uri": "https://localhost:8080/",
          "height": 295
        },
        "id": "4TF7hmQkyQWK",
        "outputId": "6eecace4-0289-42c6-9b4f-7331b52d0b1f"
      },
      "source": [
        "df.describe()"
      ],
      "execution_count": null,
      "outputs": [
        {
          "output_type": "execute_result",
          "data": {
            "text/html": [
              "<div>\n",
              "<style scoped>\n",
              "    .dataframe tbody tr th:only-of-type {\n",
              "        vertical-align: middle;\n",
              "    }\n",
              "\n",
              "    .dataframe tbody tr th {\n",
              "        vertical-align: top;\n",
              "    }\n",
              "\n",
              "    .dataframe thead th {\n",
              "        text-align: right;\n",
              "    }\n",
              "</style>\n",
              "<table border=\"1\" class=\"dataframe\">\n",
              "  <thead>\n",
              "    <tr style=\"text-align: right;\">\n",
              "      <th></th>\n",
              "      <th>age</th>\n",
              "      <th>grade</th>\n",
              "      <th>height</th>\n",
              "      <th>weight</th>\n",
              "    </tr>\n",
              "  </thead>\n",
              "  <tbody>\n",
              "    <tr>\n",
              "      <th>count</th>\n",
              "      <td>17.00</td>\n",
              "      <td>17.00</td>\n",
              "      <td>17.00</td>\n",
              "      <td>17.00</td>\n",
              "    </tr>\n",
              "    <tr>\n",
              "      <th>mean</th>\n",
              "      <td>22.35</td>\n",
              "      <td>2.29</td>\n",
              "      <td>170.04</td>\n",
              "      <td>61.06</td>\n",
              "    </tr>\n",
              "    <tr>\n",
              "      <th>std</th>\n",
              "      <td>1.17</td>\n",
              "      <td>1.10</td>\n",
              "      <td>7.85</td>\n",
              "      <td>11.85</td>\n",
              "    </tr>\n",
              "    <tr>\n",
              "      <th>min</th>\n",
              "      <td>20.00</td>\n",
              "      <td>1.00</td>\n",
              "      <td>155.20</td>\n",
              "      <td>45.20</td>\n",
              "    </tr>\n",
              "    <tr>\n",
              "      <th>25%</th>\n",
              "      <td>22.00</td>\n",
              "      <td>1.00</td>\n",
              "      <td>165.30</td>\n",
              "      <td>53.00</td>\n",
              "    </tr>\n",
              "    <tr>\n",
              "      <th>50%</th>\n",
              "      <td>22.00</td>\n",
              "      <td>2.00</td>\n",
              "      <td>169.20</td>\n",
              "      <td>61.30</td>\n",
              "    </tr>\n",
              "    <tr>\n",
              "      <th>75%</th>\n",
              "      <td>23.00</td>\n",
              "      <td>3.00</td>\n",
              "      <td>176.10</td>\n",
              "      <td>68.20</td>\n",
              "    </tr>\n",
              "    <tr>\n",
              "      <th>max</th>\n",
              "      <td>24.00</td>\n",
              "      <td>4.00</td>\n",
              "      <td>182.10</td>\n",
              "      <td>85.70</td>\n",
              "    </tr>\n",
              "  </tbody>\n",
              "</table>\n",
              "</div>"
            ],
            "text/plain": [
              "         age  grade  height  weight\n",
              "count  17.00  17.00   17.00   17.00\n",
              "mean   22.35   2.29  170.04   61.06\n",
              "std     1.17   1.10    7.85   11.85\n",
              "min    20.00   1.00  155.20   45.20\n",
              "25%    22.00   1.00  165.30   53.00\n",
              "50%    22.00   2.00  169.20   61.30\n",
              "75%    23.00   3.00  176.10   68.20\n",
              "max    24.00   4.00  182.10   85.70"
            ]
          },
          "metadata": {
            "tags": []
          },
          "execution_count": 40
        }
      ]
    },
    {
      "cell_type": "code",
      "metadata": {
        "id": "2_ErExAAySeK"
      },
      "source": [
        "pd.set_option('precision',2)    #소수점 이하 2자리까지만 보여준다##pandas자체 설정 바꾸기"
      ],
      "execution_count": null,
      "outputs": []
    },
    {
      "cell_type": "code",
      "metadata": {
        "colab": {
          "base_uri": "https://localhost:8080/",
          "height": 295
        },
        "id": "AaZ_RrKByagS",
        "outputId": "210d1e09-f1f1-4871-c45e-77af75ad6651"
      },
      "source": [
        "df.describe()       #다양한 통계량을 요약해준다."
      ],
      "execution_count": null,
      "outputs": [
        {
          "output_type": "execute_result",
          "data": {
            "text/html": [
              "<div>\n",
              "<style scoped>\n",
              "    .dataframe tbody tr th:only-of-type {\n",
              "        vertical-align: middle;\n",
              "    }\n",
              "\n",
              "    .dataframe tbody tr th {\n",
              "        vertical-align: top;\n",
              "    }\n",
              "\n",
              "    .dataframe thead th {\n",
              "        text-align: right;\n",
              "    }\n",
              "</style>\n",
              "<table border=\"1\" class=\"dataframe\">\n",
              "  <thead>\n",
              "    <tr style=\"text-align: right;\">\n",
              "      <th></th>\n",
              "      <th>age</th>\n",
              "      <th>grade</th>\n",
              "      <th>height</th>\n",
              "      <th>weight</th>\n",
              "    </tr>\n",
              "  </thead>\n",
              "  <tbody>\n",
              "    <tr>\n",
              "      <th>count</th>\n",
              "      <td>17.00</td>\n",
              "      <td>17.00</td>\n",
              "      <td>17.00</td>\n",
              "      <td>17.00</td>\n",
              "    </tr>\n",
              "    <tr>\n",
              "      <th>mean</th>\n",
              "      <td>22.35</td>\n",
              "      <td>2.29</td>\n",
              "      <td>170.04</td>\n",
              "      <td>61.06</td>\n",
              "    </tr>\n",
              "    <tr>\n",
              "      <th>std</th>\n",
              "      <td>1.17</td>\n",
              "      <td>1.10</td>\n",
              "      <td>7.85</td>\n",
              "      <td>11.85</td>\n",
              "    </tr>\n",
              "    <tr>\n",
              "      <th>min</th>\n",
              "      <td>20.00</td>\n",
              "      <td>1.00</td>\n",
              "      <td>155.20</td>\n",
              "      <td>45.20</td>\n",
              "    </tr>\n",
              "    <tr>\n",
              "      <th>25%</th>\n",
              "      <td>22.00</td>\n",
              "      <td>1.00</td>\n",
              "      <td>165.30</td>\n",
              "      <td>53.00</td>\n",
              "    </tr>\n",
              "    <tr>\n",
              "      <th>50%</th>\n",
              "      <td>22.00</td>\n",
              "      <td>2.00</td>\n",
              "      <td>169.20</td>\n",
              "      <td>61.30</td>\n",
              "    </tr>\n",
              "    <tr>\n",
              "      <th>75%</th>\n",
              "      <td>23.00</td>\n",
              "      <td>3.00</td>\n",
              "      <td>176.10</td>\n",
              "      <td>68.20</td>\n",
              "    </tr>\n",
              "    <tr>\n",
              "      <th>max</th>\n",
              "      <td>24.00</td>\n",
              "      <td>4.00</td>\n",
              "      <td>182.10</td>\n",
              "      <td>85.70</td>\n",
              "    </tr>\n",
              "  </tbody>\n",
              "</table>\n",
              "</div>"
            ],
            "text/plain": [
              "         age  grade  height  weight\n",
              "count  17.00  17.00   17.00   17.00\n",
              "mean   22.35   2.29  170.04   61.06\n",
              "std     1.17   1.10    7.85   11.85\n",
              "min    20.00   1.00  155.20   45.20\n",
              "25%    22.00   1.00  165.30   53.00\n",
              "50%    22.00   2.00  169.20   61.30\n",
              "75%    23.00   3.00  176.10   68.20\n",
              "max    24.00   4.00  182.10   85.70"
            ]
          },
          "metadata": {
            "tags": []
          },
          "execution_count": 42
        }
      ]
    },
    {
      "cell_type": "code",
      "metadata": {
        "colab": {
          "base_uri": "https://localhost:8080/"
        },
        "id": "cdAW7R6ExuDM",
        "outputId": "ada6422c-ffcb-4f54-f238-9a0e395d1948"
      },
      "source": [
        "# 구조를 본다.\n",
        "df.info()"
      ],
      "execution_count": null,
      "outputs": [
        {
          "output_type": "stream",
          "text": [
            "<class 'pandas.core.frame.DataFrame'>\n",
            "RangeIndex: 17 entries, 0 to 16\n",
            "Data columns (total 8 columns):\n",
            " #   Column     Non-Null Count  Dtype  \n",
            "---  ------     --------------  -----  \n",
            " 0   name       17 non-null     object \n",
            " 1   gender     17 non-null     object \n",
            " 2   age        17 non-null     int64  \n",
            " 3   grade      17 non-null     int64  \n",
            " 4   absence    17 non-null     object \n",
            " 5   bloodtype  17 non-null     object \n",
            " 6   height     17 non-null     float64\n",
            " 7   weight     17 non-null     float64\n",
            "dtypes: float64(2), int64(2), object(4)\n",
            "memory usage: 1.2+ KB\n"
          ],
          "name": "stdout"
        }
      ]
    },
    {
      "cell_type": "markdown",
      "metadata": {
        "id": "JkC2cyN3x6YX"
      },
      "source": [
        "#### 테이블 내용 가져와 보기:"
      ]
    },
    {
      "cell_type": "code",
      "metadata": {
        "id": "68G66httx6-q"
      },
      "source": [
        "# SQLite 데이터 베이스 생성(또는 연결) & Cursor 생성.\n",
        "conn = sqlite3.connect(\"student.db\")                         # 처음 실행시 신규 생성.\n",
        "cur = conn.cursor()"
      ],
      "execution_count": null,
      "outputs": []
    },
    {
      "cell_type": "code",
      "metadata": {
        "id": "S0qUUwtXx8Jj"
      },
      "source": [
        "# SQL 테이블 생성.\n",
        "sql = \"CREATE TABLE IF NOT EXISTS studentlist ( name TEXT, gender TEXT, age INT, grade INT, absence TEXT, bloodtype TEXT, height REAL, weight REAL);\"\n",
        "cur.execute(sql);\n",
        "conn.commit();"
      ],
      "execution_count": null,
      "outputs": []
    },
    {
      "cell_type": "code",
      "metadata": {
        "id": "Ex6Vxkdmx8gS"
      },
      "source": [
        "# SQL 테이블 내용 클리어.\n",
        "sql = \"DELETE FROM studentlist;\"\n",
        "cur.execute(sql);\n",
        "conn.commit();"
      ],
      "execution_count": null,
      "outputs": []
    },
    {
      "cell_type": "code",
      "metadata": {
        "colab": {
          "base_uri": "https://localhost:8080/"
        },
        "id": "olpnNdMZx8yS",
        "outputId": "e9ba625d-9ef3-405e-d50e-84f212659c71"
      },
      "source": [
        "# SQL 테이블 내용 확인.\n",
        "sql = \"SELECT * FROM studentlist;\"\n",
        "cur.execute(sql);\n",
        "res = cur.fetchall();\n",
        "print(res)"
      ],
      "execution_count": null,
      "outputs": [
        {
          "output_type": "stream",
          "text": [
            "[]\n"
          ],
          "name": "stdout"
        }
      ]
    },
    {
      "cell_type": "markdown",
      "metadata": {
        "id": "JAYLrDQcx_Vi"
      },
      "source": [
        "#### 한 행 씩 옮겨 담는다:"
      ]
    },
    {
      "cell_type": "code",
      "metadata": {
        "id": "JCuC_UoEyAeV"
      },
      "source": [
        "# \"studentlist\" 테이블에 행 추가.\n",
        "sql = \"INSERT INTO studentlist VALUES ( ?, ?, ?, ?, ?, ?, ?, ? );\"      # ?를 placeholder로 사용!\n",
        "for i in range(nrows):\n",
        "    x = df.loc[i].values                         # 삽입될 내용.\n",
        "    x = list(x)\n",
        "    x[2] = int(x[2])                               # INT64를 INT로 변환.\n",
        "    x[3] = int(x[3])                               # INT64를 INT로 변환.\n",
        "    cur.execute(sql,x);                            # 삽입.  \n",
        "    conn.commit();"
      ],
      "execution_count": null,
      "outputs": []
    },
    {
      "cell_type": "code",
      "metadata": {
        "colab": {
          "base_uri": "https://localhost:8080/"
        },
        "id": "10yUPAB5ywI9",
        "outputId": "34e13bc3-2ecd-4cab-8a38-3834b30708b9"
      },
      "source": [
        "# 테이블 내용 보기.\n",
        "sql = \"SELECT * FROM studentlist\"\n",
        "cur.execute(sql);\n",
        "res = cur.fetchall()\n",
        "for x in res:\n",
        "    print(x)"
      ],
      "execution_count": null,
      "outputs": [
        {
          "output_type": "stream",
          "text": [
            "('Jared Diamond', 'M', 23, 3, 'Y', 'O', 165.3, 68.2)\n",
            "(\"Sarah O'Donnel\", 'F', 22, 2, 'N', 'AB', 170.1, 53.0)\n",
            "('Brian Martin', 'M', 24, 4, 'N', 'B', 175.0, 80.1)\n",
            "('David Hassel', 'M', 23, 3, 'N', 'AB', 182.1, 85.7)\n",
            "('Clara Rodriquez', 'F', 20, 1, 'Y', 'A', 168.0, 49.5)\n",
            "('Jennifer Lorentz', 'F', 21, 2, 'N', 'O', 162.0, 52.0)\n",
            "('Susan Clark', 'F', 22, 1, 'N', 'O', 155.2, 45.3)\n",
            "('Margareth Jones', 'F', 23, 1, 'N', 'A', 176.9, 55.0)\n",
            "('John Bertsch', 'M', 23, 3, 'N', 'B', 178.5, 64.2)\n",
            "('Jake Timmerman', 'M', 22, 2, 'N', 'B', 176.1, 61.3)\n",
            "('Joshua Connor', 'M', 24, 4, 'Y', 'O', 167.1, 62.0)\n",
            "('John Matsuda', 'M', 22, 2, 'N', 'AB', 180.0, 75.8)\n",
            "('Eddy Johnson', 'M', 21, 1, 'N', 'A', 162.2, 55.3)\n",
            "('Rebecah Anderson', 'F', 23, 3, 'N', 'O', 176.1, 53.1)\n",
            "('Linda Carter', 'F', 22, 2, 'N', 'B', 158.2, 45.2)\n",
            "('Richard Swayze', 'M', 24, 4, 'Y', 'B', 168.6, 70.2)\n",
            "('Andrew Daley', 'M', 21, 1, 'N', 'A', 169.2, 62.2)\n"
          ],
          "name": "stdout"
        }
      ]
    },
    {
      "cell_type": "markdown",
      "metadata": {
        "id": "JFDVjPFHyw0y"
      },
      "source": [
        "#### 2). 데이터베이스의 내용을 데이터프레임으로 옮겨본다: "
      ]
    },
    {
      "cell_type": "code",
      "metadata": {
        "id": "sFqW_rsdyxDT"
      },
      "source": [
        "# 테이블 내용 가져온다.\n",
        "sql = \"SELECT * FROM studentlist\"\n",
        "cur.execute(sql);\n",
        "res = cur.fetchall()"
      ],
      "execution_count": null,
      "outputs": []
    },
    {
      "cell_type": "code",
      "metadata": {
        "colab": {
          "base_uri": "https://localhost:8080/"
        },
        "id": "vmoa72Uwyzcp",
        "outputId": "5210f9bf-f7bb-4954-ac8f-e9a3296dbcea"
      },
      "source": [
        "res"
      ],
      "execution_count": null,
      "outputs": [
        {
          "output_type": "execute_result",
          "data": {
            "text/plain": [
              "[('Jared Diamond', 'M', 23, 3, 'Y', 'O', 165.3, 68.2),\n",
              " (\"Sarah O'Donnel\", 'F', 22, 2, 'N', 'AB', 170.1, 53.0),\n",
              " ('Brian Martin', 'M', 24, 4, 'N', 'B', 175.0, 80.1),\n",
              " ('David Hassel', 'M', 23, 3, 'N', 'AB', 182.1, 85.7),\n",
              " ('Clara Rodriquez', 'F', 20, 1, 'Y', 'A', 168.0, 49.5),\n",
              " ('Jennifer Lorentz', 'F', 21, 2, 'N', 'O', 162.0, 52.0),\n",
              " ('Susan Clark', 'F', 22, 1, 'N', 'O', 155.2, 45.3),\n",
              " ('Margareth Jones', 'F', 23, 1, 'N', 'A', 176.9, 55.0),\n",
              " ('John Bertsch', 'M', 23, 3, 'N', 'B', 178.5, 64.2),\n",
              " ('Jake Timmerman', 'M', 22, 2, 'N', 'B', 176.1, 61.3),\n",
              " ('Joshua Connor', 'M', 24, 4, 'Y', 'O', 167.1, 62.0),\n",
              " ('John Matsuda', 'M', 22, 2, 'N', 'AB', 180.0, 75.8),\n",
              " ('Eddy Johnson', 'M', 21, 1, 'N', 'A', 162.2, 55.3),\n",
              " ('Rebecah Anderson', 'F', 23, 3, 'N', 'O', 176.1, 53.1),\n",
              " ('Linda Carter', 'F', 22, 2, 'N', 'B', 158.2, 45.2),\n",
              " ('Richard Swayze', 'M', 24, 4, 'Y', 'B', 168.6, 70.2),\n",
              " ('Andrew Daley', 'M', 21, 1, 'N', 'A', 169.2, 62.2)]"
            ]
          },
          "metadata": {
            "tags": []
          },
          "execution_count": 32
        }
      ]
    },
    {
      "cell_type": "code",
      "metadata": {
        "id": "ebyTeMs4yzui"
      },
      "source": [
        "# 새로운 데이터 프레임 생성 & 확인.\n",
        "df_new = pd.DataFrame(data=res, columns=my_header, index=None)\n",
        "df_new.head(5)"
      ],
      "execution_count": null,
      "outputs": []
    },
    {
      "cell_type": "markdown",
      "metadata": {
        "id": "m6hQmc8My1w6"
      },
      "source": [
        "#### 3). 뒷 정리:"
      ]
    },
    {
      "cell_type": "code",
      "metadata": {
        "id": "BG1Mx5iDy1Pi"
      },
      "source": [
        "# 테이블 삭제.\n",
        "sql = \"DROP TABLE studentlist;\"\n",
        "cur.execute(sql);\n",
        "conn.commit();"
      ],
      "execution_count": null,
      "outputs": []
    },
    {
      "cell_type": "code",
      "metadata": {
        "id": "dBz_e818y4Sq"
      },
      "source": [
        "conn.close()"
      ],
      "execution_count": null,
      "outputs": []
    },
    {
      "cell_type": "markdown",
      "metadata": {
        "id": "iWIJOc2Q3u4L"
      },
      "source": [
        "#2. 취업멘토링"
      ]
    },
    {
      "cell_type": "markdown",
      "metadata": {
        "id": "aURw8vLQ3vLM"
      },
      "source": [
        "면접 "
      ]
    },
    {
      "cell_type": "markdown",
      "metadata": {
        "id": "07tIhPheeV9r"
      },
      "source": [
        "# 3. 첫번째 시험"
      ]
    }
  ]
}